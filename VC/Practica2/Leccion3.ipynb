{
 "cells": [
  {
   "cell_type": "markdown",
   "metadata": {},
   "source": [
    "\n",
    "<div style=\"line-height:2px;border: solid orange\">\n",
    "    <p>\n",
    "    <p style=\"color:blue;font-family:arial;text-align:right;font-size:20\"> Visión por Computador &nbsp;&nbsp;\n",
    "    <p style=\"color:blue;font-family:arial;text-align:right;font-size:16\"> Master en Ciencias de Datos e Ingeniería de ordenadores   &nbsp;&nbsp;\n",
    "  <p style=\"color:blue;font-family:arial;text-align:right;font-size:16\"> Rosa Mª. Rodríguez Sánchez   &nbsp;&nbsp;\n",
    "    <p style=\"color:blue;font-family:arial;text-align:right;font-size:10\"> Dpto. Ciencias de la Computación e Inteligencia Artificial. &nbsp;&nbsp;  \n",
    "    <p style=\"color:blue;font-family:arial;text-align:right;font-size:10\"> ETSIIT. Universidad de Granada   &nbsp;&nbsp;\n",
    "        <p>\n",
    "</div>"
   ]
  },
  {
   "cell_type": "markdown",
   "metadata": {},
   "source": [
    "## Práctica 2. Espacios de Color. Histograma\n"
   ]
  },
  {
   "cell_type": "markdown",
   "metadata": {},
   "source": [
    "### Convirtiendo imágenes entre diferentes espacios de color"
   ]
  },
  {
   "cell_type": "markdown",
   "metadata": {},
   "source": [
    "OpenCV implementa diferentes modelos de color. Algunos modelos de color son normalmente usados por dispositivos de entrada tales como cámaras, mientras que otros modelos son usados en dispositivos de salida como televisiones, displays o impresoras. \n",
    "Normalmente cuando trabajamos con técnicas de visión por computador con imágenes, lo común es trabajar con tres tipos de modelos de color: niveles de gris, BGR o RGB y hue-saturation-value (HSV).\n",
    "\n"
   ]
  },
  {
   "cell_type": "markdown",
   "metadata": {},
   "source": [
    "#### Hue Saturation Value HSV "
   ]
  },
  {
   "cell_type": "markdown",
   "metadata": {},
   "source": [
    "El modelo HSV se caracteriza por tener tres componentes:\n",
    "* Color (Hue H): El rango permitido es de 0 a 179 \n",
    "* Saturación (S): que describe la pureza del color. Con rango en [0-255]\n",
    "* Brillo (V): Intensidad del color 0 es mas oscuro y 1 es más claro. Con rango en [0-255]\n",
    "<table>\n",
    "    <tr><td> <img src=\"Triangulo_HSV.png\"></td><td><img src=\"hsv.webP\"></td></tr>\n",
    "</table>    "
   ]
  },
  {
   "cell_type": "code",
   "execution_count": null,
   "metadata": {},
   "outputs": [],
   "source": [
    "import numpy as np\n",
    "import cv2\n",
    "from matplotlib import pyplot as plt\n",
    "img = cv2.imread('roco.png')\n",
    "imgaux= cv2.cvtColor(img, cv2.COLOR_BGR2RGB)\n",
    "#Covertimos a HSV\n",
    "imghsv= cv2.cvtColor(img, cv2.COLOR_BGR2HSV)\n",
    "#mostramos la información del color, saturacion y brillo\n",
    "plt.figure(figsize=(15,10))\n",
    "plt.subplot(2,2,1)\n",
    "plt.imshow(imgaux)\n",
    "plt.title(\"Original\")\n",
    "\n",
    "plt.subplot(2,2,2)\n",
    "plt.imshow(imghsv[:,:,0],\"gray\")\n",
    "plt.title(\"Color\")\n",
    "\n",
    "plt.subplot(2,2,3)\n",
    "plt.imshow(imghsv[:,:,1],\"gray\")\n",
    "plt.title(\"Saturación\")\n",
    "\n",
    "\n",
    "plt.subplot(2,2,4)\n",
    "plt.imshow(imghsv[:,:,2],\"gray\")\n",
    "plt.title(\"Brillo\")\n"
   ]
  },
  {
   "cell_type": "markdown",
   "metadata": {},
   "source": [
    "Vamos a obtener los valores de los colores básicos (rojo, verde y azul) en hsv."
   ]
  },
  {
   "cell_type": "code",
   "execution_count": null,
   "metadata": {},
   "outputs": [],
   "source": [
    "green = np.uint8([[[0,255,0 ]]])\n",
    "hsv_green = cv2.cvtColor(green,cv2.COLOR_BGR2HSV)\n",
    "print(\"Verde: \",hsv_green)\n",
    "\n",
    "blue = np.uint8([[[255,0,0 ]]])\n",
    "hsv_blue = cv2.cvtColor(blue,cv2.COLOR_BGR2HSV)\n",
    "print(\"Azul:\", hsv_blue)\n",
    "\n",
    "red = np.uint8([[[0,0,255 ]]])\n",
    "hsv_red = cv2.cvtColor(red,cv2.COLOR_BGR2HSV)\n",
    "print(\"Rojo:\", hsv_red)\n"
   ]
  },
  {
   "cell_type": "markdown",
   "metadata": {},
   "source": [
    "Para entender mejor el sistema HSV vamos a crear una imagen artificial toda con valores de rojo. La vamos a pasar a HSV para ver como se representa el rojo. A continuación vamos a variar la saturación."
   ]
  },
  {
   "cell_type": "code",
   "execution_count": null,
   "metadata": {},
   "outputs": [],
   "source": [
    "import numpy as np\n",
    "import cv2\n",
    "from matplotlib import pyplot as plt\n",
    "\n",
    "rojo=np.ones((200, 200,3),dtype='uint8')*255\n",
    "#bgr dejamos sola r a 255\n",
    "rojo[:,:,0]=0\n",
    "rojo[:,:,1]=0\n",
    "size=rojo.shape[:2]\n",
    "rojohsv=cv2.cvtColor(rojo, cv2.COLOR_BGR2HSV)\n",
    "print(\"Rojo: \",rojohsv[0,0,:])\n",
    "fps=10\n",
    "\n",
    "video =cv2.VideoWriter('rojos.avi',cv2.VideoWriter_fourcc(*'DIVX'), fps, size)\n",
    "aux = rojohsv;\n",
    "\n",
    "img_array = []\n",
    "\n",
    "for i in range(0,256):\n",
    "    aux[:,:,1]=i\n",
    "    #volvemos a rgb\n",
    "    frame =cv2.cvtColor(aux,cv2.COLOR_HSV2BGR)\n",
    "    img_array.append(frame)\n",
    "for i in range(len(img_array)):\n",
    "    video.write(img_array[i])\n",
    "    \n",
    "video.release();\n"
   ]
  },
  {
   "cell_type": "markdown",
   "metadata": {},
   "source": [
    "### Ciclamos el color en una imagen.\n",
    "Vamos a crear un video en la que vamos a ciclar los colores de una imagen"
   ]
  },
  {
   "cell_type": "code",
   "execution_count": null,
   "metadata": {},
   "outputs": [],
   "source": [
    "import numpy as np\n",
    "import cv2\n",
    "from matplotlib import pyplot as plt\n",
    "img=cv2.imread('pez1.jpg')\n",
    "height, width, channels = img.shape\n",
    "pezhsv=cv2.cvtColor(img, cv2.COLOR_BGR2HSV)\n",
    "\n",
    "fps=10\n",
    "videoCapture = cv2.VideoCapture(0)\n",
    "size = (int(videoCapture.get( cv2.CAP_PROP_FRAME_WIDTH)), int(videoCapture.get( cv2.CAP_PROP_FRAME_HEIGHT)))\n",
    "video =cv2.VideoWriter('pez_color.avi',cv2.VideoWriter_fourcc(*'DIVX'), fps, size)\n",
    "aux = pezhsv;\n",
    "\n",
    "img_array = []\n",
    "\n",
    "for i in range(0,180):\n",
    "    aux[:,:,0]=((aux[:,:,0]+1)%180)\n",
    "    \n",
    "    #volvemos a rgb\n",
    "    frame =cv2.cvtColor(aux,cv2.COLOR_HSV2BGR)\n",
    "    frame = cv2.resize(frame, size, interpolation = cv2.INTER_AREA)\n",
    "    img_array.append(frame)\n",
    "for i in range(len(img_array)):\n",
    "    video.write(img_array[i])\n",
    "    \n",
    "video.release();"
   ]
  },
  {
   "cell_type": "markdown",
   "metadata": {},
   "source": [
    "### SEGMENTAR POR COLOR\n",
    "El objetivo es seleccionar los pixeles que tienen un determinado color.  En el siguiente ejemplo vamos obtener una máscara que nos indique donde se encuentra la información que contenga un determinado color. "
   ]
  },
  {
   "cell_type": "code",
   "execution_count": null,
   "metadata": {},
   "outputs": [],
   "source": [
    "import numpy as np\n",
    "import cv2\n",
    "from matplotlib import pyplot as plt\n",
    "img=cv2.imread('pez3.jpg')\n",
    "img_rgb=cv2.cvtColor(img,cv2.COLOR_BGR2RGB)\n",
    "plt.imshow(img_rgb)\n",
    "#Buscamos los valores que contengan rojos\n",
    "img_hsv = cv2.cvtColor(img,cv2.COLOR_BGR2HSV)\n",
    "lower_rojo = np.array([0,128,50])\n",
    "upper_rojo = np.array([30,255,255])\n",
    "# Obtenemos una mascara con los valores de rojos\n",
    "mask = cv2.inRange(img_hsv, lower_rojo, upper_rojo)\n",
    "lower_rojo = np.array([150,128,50])\n",
    "upper_rojo = np.array([179,255,255])\n",
    "mask2 = cv2.inRange(img_hsv, lower_rojo, upper_rojo)\n",
    "mask=cv2.bitwise_or(mask,mask2)\n",
    "# Hacemos una operacion AND entre la imagen original y mascara\n",
    "res = cv2.bitwise_and(img,img, mask= mask)\n",
    "plt.imshow(img)\n",
    "plt.show()\n",
    "plt.imshow(mask)\n",
    "plt.show()\n",
    "plt.imshow(res)\n",
    "plt.show()\n",
    "while (1):\n",
    "    k = cv2.waitKey(5) & 0xFF\n",
    "    if k == 27:\n",
    "        break\n",
    "cv2.destroyAllWindows()\n",
    "plt.figure()\n",
    "plt.imshow(res)\n"
   ]
  },
  {
   "cell_type": "markdown",
   "metadata": {},
   "source": [
    "### Otros Modelos de Color\n",
    "Existe otros espacios de color que dependiendo del objetivo que queramos analizar pueden ser interesantes usarlos.\n",
    "#### Modelo YCrCb\n",
    "Se utiliza para representar el color en aplicaciones sobre todo de compresión. Representa la lumninancia Y y dos bandas cromáticas. Los sistemas de compresión  reducen las bandas Cr y Cb a la mitad de la resolución de la imagen original. Se suele usar en sistemas de compresión mpeg y jpeg. "
   ]
  },
  {
   "cell_type": "code",
   "execution_count": null,
   "metadata": {},
   "outputs": [],
   "source": [
    "from matplotlib import pyplot as plt\n",
    "import cv2\n",
    "img=cv2.imread('pez3.jpg')\n",
    "img=cv2.cvtColor(img,cv2.COLOR_BGR2RGB)\n",
    "imgYCrCb=cv2.cvtColor(img,cv2.COLOR_RGB2YCrCb)\n",
    "plt.figure(figsize=(10,5))\n",
    "plt.subplot(2,3,1)\n",
    "plt.imshow(img)\n",
    "plt.title(\"Original\")\n",
    "plt.subplot(2,3,2)\n",
    "plt.imshow(imgYCrCb)\n",
    "plt.title(\"YCrCb\")\n",
    "plt.subplot(2,3,3)\n",
    "plt.imshow(imgYCrCb[:,:,0],\"gray\")\n",
    "plt.title(\"Luminancia\")\n",
    "plt.subplot(2,3,4)\n",
    "plt.imshow(imgYCrCb[:,:,1],\"gray\")\n",
    "plt.title(\"Cr\")\n",
    "plt.subplot(2,3,5)\n",
    "plt.imshow(imgYCrCb[:,:,2],\"gray\")\n",
    "plt.title(\"Cb\")\n",
    "\n",
    "\n",
    "\n"
   ]
  },
  {
   "cell_type": "markdown",
   "metadata": {},
   "source": [
    "#### Modelo Lab\n",
    "Las siglas LAB se refieren al espacio de color tridimensional, en donde L  es luminosidad de negro a blanco, **a** va de rojo a verde y  **b** va de azul a amarillo. Actualmente se usa en Adobe Photoshop, archivos TIFF y documentos PDF."
   ]
  },
  {
   "cell_type": "code",
   "execution_count": null,
   "metadata": {},
   "outputs": [],
   "source": [
    "from matplotlib import pyplot as plt\n",
    "import cv2\n",
    "img=cv2.imread('pez2.jpg')\n",
    "img=cv2.cvtColor(img,cv2.COLOR_BGR2RGB)\n",
    "imgLab=cv2.cvtColor(img,cv2.COLOR_RGB2Lab)\n",
    "plt.figure(figsize=(10,5))\n",
    "plt.subplot(2,3,1)\n",
    "plt.imshow(img)\n",
    "plt.title(\"Original\")\n",
    "plt.subplot(2,3,2)\n",
    "plt.imshow(imgLab)\n",
    "plt.title(\"Lab\")\n",
    "plt.subplot(2,3,3)\n",
    "plt.imshow(imgLab[:,:,0],\"gray\")\n",
    "plt.title(\"Luminancia\")\n",
    "plt.subplot(2,3,4)\n",
    "plt.imshow(imgLab[:,:,1],\"gray\")\n",
    "plt.title(\"a\")\n",
    "plt.subplot(2,3,5)\n",
    "plt.imshow(imgLab[:,:,2],\"gray\")\n",
    "plt.title(\"b\")\n"
   ]
  },
  {
   "cell_type": "markdown",
   "metadata": {},
   "source": [
    "### Histograma\n",
    "El histograma es un grafo que nos permite visualizar la distribución de intensidad de una imagen. Analizando el histograma de una imagen, se puede obtener una aproximación al contraste, brillo, distribución de la intensidad de la imagen.  En Opencv podemos obtener el histograma usando  ***cv2.calcHist()***\n",
    "La cabecera de esta función es la siguiente:\n",
    "\n",
    " **cv2.calcHist(images, channels, mask, histSize, ranges[, hist[, accumulate]])**\n",
    "* images :  es la imagen sobre la que queremos obtener el histograma. Puede ser de tipo uint8 o float32. Se debe dar encerrada entre corchetes “[img]”.\n",
    "* channels : Igualmente se indica entre corchetes. Es el índice del canal para el que queremos obtener el histograma. Si la imagen es una imagen de niveles de gris entonces le damos [0]. Pero si es una imagen de color le podemos dar el valor [0],[1] o [2], para obtener el histograma sobre el canal rojo, verde o azul respectivamente.\n",
    "* mask : es la imagen máscara. Si queremos obtener el histograma sobre la imagen entera le damos el valor \"None\". Pero si queremos obtener el histograma sobre una región podemos indicarlo con la máscara. \n",
    "* histSize : cuantos contadores tendrá nuestro histograma. Si se quiere aplicar sobre una imagen de niveles de gris el numero de contadores será 256 normalmente. Para ello indicaremos [256].\n",
    "* ranges : Sobre que rango de valores de la imagen de entrada queremos obtener el histograma. Normalemente será [0,256]\n",
    "* hist: por defecto true. Indica si los bin son uniformes.\n",
    "* accumulate: por defecto es false. Si es true no inicializa a cero el histograma para obtener el histograma de multiples imagenes.\n",
    "\n",
    "    \n"
   ]
  },
  {
   "cell_type": "code",
   "execution_count": null,
   "metadata": {},
   "outputs": [],
   "source": [
    "from matplotlib import pyplot as plt\n",
    "import cv2\n",
    "img=cv2.imread('barbara.png', cv2.IMREAD_GRAYSCALE)\n",
    "print(img.shape)\n",
    "\n",
    "plt.figure(figsize=(10,8))\n",
    "hist= cv2.calcHist([img],[0],None,[256],[0,256])\n",
    "plt.subplot(121), plt.imshow(img, 'gray')\n",
    "plt.subplot(122), plt.plot(hist)\n",
    "plt.xlim([0,256])"
   ]
  },
  {
   "cell_type": "markdown",
   "metadata": {},
   "source": [
    "A continuación se muestra sobre una imagen de color los histogramas del rojo, verde y azul"
   ]
  },
  {
   "cell_type": "code",
   "execution_count": null,
   "metadata": {},
   "outputs": [],
   "source": [
    "from matplotlib import pyplot as plt\n",
    "import cv2\n",
    "img=cv2.imread('pez3.jpg')\n",
    "img=cv2.cvtColor(img,cv2.COLOR_BGR2RGB)\n",
    "\n",
    "\n",
    "plt.figure(figsize=(13,15))\n",
    "histrojo= cv2.calcHist([img],[0],None,[256],[0,256])\n",
    "histverde= cv2.calcHist([img],[1],None,[256],[0,256])\n",
    "histazul= cv2.calcHist([img],[2],None,[256],[0,256])\n",
    "\n",
    "plt.subplot(421), plt.imshow(img),plt.title(\"ORIGINAL\")\n",
    "plt.subplot(423), plt.imshow(img[:,:,0],'gray'),plt.title(\"Roja\")\n",
    "plt.subplot(424), plt.plot(histrojo)\n",
    "plt.xlim([0,256])\n",
    "plt.subplot(425), plt.imshow(img[:,:,1],'gray'),plt.title(\"Verde\")\n",
    "plt.subplot(426), plt.plot(histverde)\n",
    "plt.xlim([0,256])\n",
    "plt.subplot(427), plt.imshow(img[:,:,2],'gray'),plt.title(\"Azul\")\n",
    "plt.subplot(428), plt.plot(histazul)\n",
    "plt.xlim([0,256])"
   ]
  },
  {
   "cell_type": "markdown",
   "metadata": {},
   "source": [
    "Mostramos el histograma del color, saturación y brillo"
   ]
  },
  {
   "cell_type": "code",
   "execution_count": null,
   "metadata": {},
   "outputs": [],
   "source": [
    "from matplotlib import pyplot as plt\n",
    "import cv2\n",
    "img=cv2.imread('pez3.jpg')\n",
    "img=cv2.cvtColor(img,cv2.COLOR_BGR2RGB)\n",
    "imghsv= cv2.cvtColor(img,cv2.COLOR_RGB2HSV)\n",
    "\n",
    "plt.figure(figsize=(13,15))\n",
    "histcolor= cv2.calcHist([img],[0],None,[180],[0,179])\n",
    "histsaturacion= cv2.calcHist([img],[1],None,[256],[0,256])\n",
    "histbrillo= cv2.calcHist([img],[2],None,[256],[0,256])\n",
    "\n",
    "plt.subplot(421), plt.imshow(img),plt.title(\"ORIGINAL\")\n",
    "plt.subplot(423), plt.imshow(imghsv[:,:,0],'gray'),plt.title(\"Color\")\n",
    "plt.subplot(424), plt.plot(histcolor)\n",
    "plt.xlim([0,179])\n",
    "plt.subplot(425), plt.imshow(img[:,:,1],'gray'),plt.title(\"Saturacion\")\n",
    "plt.subplot(426), plt.plot(histsaturacion)\n",
    "plt.xlim([0,256])\n",
    "plt.subplot(427), plt.imshow(img[:,:,2],'gray'),plt.title(\"Brillo\")\n",
    "plt.subplot(428), plt.plot(histbrillo)\n",
    "plt.xlim([0,256])"
   ]
  },
  {
   "cell_type": "markdown",
   "metadata": {},
   "source": [
    "### Ejercicios\n",
    "<ol>\n",
    "    <li> Obtener la representación en hsv de los colores: amarillo, naranja, púrpura,\n",
    "    <li> Crear un video para obtener la gama de grises de una imagen       <li> Crear un video para obtener para el color verde todos sus valores diferentes en luminosidad.\n",
    "    <li> Crear un video para obtener para el color azul todos sus valores diferentes en saturación\n",
    "    <li> Sobre la imagen pez2 segmentar la información naranja\n",
    "    <li> Sobre la imagen pez1 cambiar el azul a naranja \n",
    "    <li> Aplicar chroma_key sobre la imagen praga y la imagen de chica.  El objetivo es obtener una nueva imagen que en primer plano este la chica y en segundo plano praga. Permitir colocar la imagen de la chica en cualquier punto de la imagen de praga. Para ello definir una función  con los siguientes parámetros: \n",
    "<ul>        \n",
    "<li> La imagen de fondo (praga en el ejemplo)\n",
    "<li>La imagen en primer plano (la chicha en el ejemplo), \n",
    "<li> El color que permite distinguir el fondo en la imagen de primer plano. Damos una terna con los valores rgb ( en el ejemplo el verde )\n",
    "<li>La esquina superior izquierda a partir de la cual se coloca la imagen de primer plano sobre las imagen de fondo (por ejemplo 50,50).\n",
    "</ul>        \n",
    "En el codigo llamar a esta función para obtener el resultado de la chica sobre praga.\n",
    "En el caso de que la imagen de primer plano a partir de la esquina no entra toda en la imagen de fondo se pone lo que se entre.         \n",
    "<table>\n",
    "    <tr><td><img src=\"praga1.jpg\"></td><td><img src=\"chica.jpg\"></td><td><img src=\"res.jpg\"></td></tr>\n",
    "<tr><td>PRAGA</td><td>CHICA</td><td>RESULTADO</td></tr> \n",
    "</table>\n",
    "    <li> Obtener el histograma del canal rojo, verde y azul solamente sobre el pez en la imagen pez3.jpg. Es decir debeis  primero conseguir una máscara que os aisle el pez para obtener los histogramas y darle como parámetro esa máscara. \n",
    "</ol>        \n",
    "        "
   ]
  },
  {
   "cell_type": "code",
   "execution_count": null,
   "metadata": {},
   "outputs": [],
   "source": []
  }
 ],
 "metadata": {
  "kernelspec": {
   "display_name": "Python 3",
   "language": "python",
   "name": "python3"
  },
  "language_info": {
   "codemirror_mode": {
    "name": "ipython",
    "version": 3
   },
   "file_extension": ".py",
   "mimetype": "text/x-python",
   "name": "python",
   "nbconvert_exporter": "python",
   "pygments_lexer": "ipython3",
   "version": "3.8.5"
  }
 },
 "nbformat": 4,
 "nbformat_minor": 4
}
