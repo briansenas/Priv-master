{
 "cells": [
  {
   "cell_type": "markdown",
   "metadata": {},
   "source": [
    "\n",
    "<div style=\"line-height:2px;border: solid orange\">\n",
    "    <p>\n",
    "    <p style=\"color:blue;font-family:arial;text-align:right;font-size:20\"> Visión por Computador &nbsp;&nbsp;\n",
    "    <p style=\"color:blue;font-family:arial;text-align:right;font-size:16\"> Master en Ciencias de Datos e Ingeniería de Ordenadores   &nbsp;&nbsp;\n",
    "  <p style=\"color:blue;font-family:arial;text-align:right;font-size:16\"> Rosa Mª. Rodríguez Sánchez   &nbsp;&nbsp;\n",
    "    <p style=\"color:blue;font-family:arial;text-align:right;font-size:10\"> Dpto. Ciencias de la Computación e Inteligencia Artificial. &nbsp;&nbsp;  \n",
    "    <p style=\"color:blue;font-family:arial;text-align:right;font-size:10\"> ETSIIT. Universidad de Granada   &nbsp;&nbsp;\n",
    "        <p>\n",
    "</div>"
   ]
  },
  {
   "cell_type": "markdown",
   "metadata": {},
   "source": [
    "# Práctica 5 (Parte III). Transformada Wavelet"
   ]
  },
  {
   "cell_type": "markdown",
   "metadata": {},
   "source": [
    "## Introducción\n",
    "La transformada wavelet nos permite representar una imagen es un espacio escala-orientación. La escala representa la información de un determinado tamaño. Por ejemplo si la escala es baja veremos estructuras pequeñas, p.e información de cambios rápidos en intesidad, como son las aristas. La información de orientación te permite ver las estructuras que están en una determinada orientación. Para tal fin la transformada wavelet usa una función wavelet, denominada la función wavelet madre y una función de suavizado denominada de aproximación. Cuando aplicamos la transformada wavelet obtenemos dos tipos de informaciones: la de detalle y la de aproximación. La de detalle es la información que representa cambios rapidos. Y la aproximación es una versión de la imagen original pero con menor detalle, una versión suavizada. Así para una imagen aplicando una vez la transformada wavelet obtendremos una información de aproximación, informacion de detalle en horizontal, vertical y diagonal. Todas estas informaciones son imágenes de dimensiones la mitad de la original. Se puede aplicar otra vez sobre la aproximación la transformada. \n",
    "El numero de veces que se aplica esta descomposición se denomina el numero de niveles o escalas. \n",
    "En los ejemplos que veremos a continuación usaremos la libreria <a link= https://pywavelets.readthedocs.io/en/latest/install.html>PyWavelets </a>. Para instalar esta librearia podéis usar el siguiente comando:"
   ]
  },
  {
   "cell_type": "code",
   "execution_count": null,
   "metadata": {},
   "outputs": [],
   "source": [
    "!pip install PyWavelets"
   ]
  },
  {
   "cell_type": "markdown",
   "metadata": {},
   "source": [
    "En el siguiente código aplicamos la transformada wavelet a una imagen."
   ]
  },
  {
   "cell_type": "code",
   "execution_count": null,
   "metadata": {},
   "outputs": [],
   "source": [
    "import numpy as np\n",
    "import matplotlib.pyplot as plt\n",
    "import cv2\n",
    "import pywt\n",
    "import pywt.data\n",
    "\n",
    "original = cv2.imread('miki_pluto.jpg',0)\n",
    "# Wavelet transform \n",
    "titles = ['Approximación (LL)', ' Detalle Horizontal (LH)',\n",
    "          'Detalle Vertical (HL)', 'Detalle Diagonal (HH)']\n",
    "coeffs2 = pywt.dwt2(original, 'db1')\n",
    "LL, (LH, HL, HH) = coeffs2\n",
    "fig = plt.figure(figsize=(12, 12))\n",
    "for i, a in enumerate([LL, LH, HL, HH]):\n",
    "    ax = fig.add_subplot(1, 4, i + 1)\n",
    "    ax.imshow(a, interpolation=\"nearest\", cmap=plt.cm.gray)\n",
    "    ax.set_title(titles[i], fontsize=10)\n",
    "    ax.set_xticks([])\n",
    "    ax.set_yticks([])\n",
    "#Recuperar la imagen a partir de los coeficientes\n",
    "rec=pywt.idwt2(coeffs2, 'db1')\n",
    "plt.figure(figsize=(6, 6))\n",
    "plt.imshow(rec,'gray'),plt.title('Recuperada')\n",
    "    "
   ]
  },
  {
   "cell_type": "markdown",
   "metadata": {},
   "source": [
    "La información se colocaría en una imagen de la siguiente forma\n",
    "\n",
    "                            -------------------\n",
    "                            |        |        |\n",
    "                            | (LL)   |   (LH) |\n",
    "                            |        |        |\n",
    "                            -------------------\n",
    "                            |        |        |\n",
    "                            | (HL)   |   (HH) |\n",
    "                            |        |        |\n",
    "                            -------------------"
   ]
  },
  {
   "cell_type": "markdown",
   "metadata": {},
   "source": [
    "Las bases  (o familias) que podemos usar para aplicar la transformada wavelet se muestran con el siguiente código"
   ]
  },
  {
   "cell_type": "code",
   "execution_count": null,
   "metadata": {},
   "outputs": [],
   "source": [
    " pywt.families()"
   ]
  },
  {
   "cell_type": "markdown",
   "metadata": {},
   "source": [
    "Una familia concreta de wavelets"
   ]
  },
  {
   "cell_type": "code",
   "execution_count": null,
   "metadata": {},
   "outputs": [],
   "source": [
    "pywt.wavelist('db')"
   ]
  },
  {
   "cell_type": "markdown",
   "metadata": {},
   "source": [
    "Ver los filtros concretos de una transformada"
   ]
  },
  {
   "cell_type": "code",
   "execution_count": null,
   "metadata": {},
   "outputs": [],
   "source": [
    "def format_array(arr):\n",
    "    return \"[%s]\" % \", \".join([\"%.14f\" % x for x in arr])\n",
    "\n",
    "wavelet = pywt.Wavelet('db1')\n",
    "print(wavelet)\n",
    "print(\"Filtros para analisis \",format_array(wavelet.dec_lo), format_array(wavelet.dec_hi))\n",
    "print(\"Filtros para recuperacion \",format_array(wavelet.rec_lo), format_array(wavelet.rec_hi))"
   ]
  },
  {
   "cell_type": "markdown",
   "metadata": {},
   "source": [
    "### Aplicar la transformada con diferentes niveles."
   ]
  },
  {
   "cell_type": "code",
   "execution_count": null,
   "metadata": {},
   "outputs": [],
   "source": [
    "def imadjust(img, Out=(0,1.0), gamma=1.0):\n",
    "    \n",
    "    max_in = np.max(img)\n",
    "    min_in = np.min(img)\n",
    "    \n",
    "    low_out, high_out = Out\n",
    " \n",
    "    \n",
    "    low_out *= 255.0\n",
    "    high_out *= 255.0    \n",
    "    \n",
    "    k = (high_out - low_out) / (max_in - min_in)\n",
    "         \n",
    "    table = np.array([((i / 255.0) ** gamma) * 255\n",
    "                      for i in np.arange(0, 256)]).astype(\"uint8\")\n",
    "    h,w = img.shape[:2]\n",
    "    imgOut = np.zeros((h,w),'float')\n",
    "    \n",
    "    for r in range(h):\n",
    "        for c in range(w):\n",
    "            res = int(k*(img[r,c]-min_in) + low_out)\n",
    "            imgOut[r,c] = table[res]\n",
    "               \n",
    "    return imgOut\n"
   ]
  },
  {
   "cell_type": "code",
   "execution_count": null,
   "metadata": {},
   "outputs": [],
   "source": [
    "import numpy as np\n",
    "import matplotlib.pyplot as plt\n",
    "import cv2\n",
    "import pywt\n",
    "from pywt._doc_utils import wavedec2_keys, draw_2d_wp_basis\n",
    "\n",
    "original = cv2.imread('barbara.png',0)\n",
    "print(\"original\", original.shape)\n",
    "shape = original.shape\n",
    "label_levels = 3  # how many levels to explicitly label on the plots\n",
    "\n",
    "max_lev = 3\n",
    "fig, axes = plt.subplots(1, 3, figsize=[14, 8])\n",
    "\n",
    "for level in range(1,max_lev + 1):\n",
    "    \n",
    "        \n",
    "    # plot subband boundaries of a standard DWT basis\n",
    "    draw_2d_wp_basis(shape, wavedec2_keys(level), ax=axes[ level-1],\n",
    "                     label_levels=label_levels)\n",
    "    axes[ level-1].set_title('{} level\\ndecomposition'.format(level))\n",
    "\n",
    "\n",
    "\n",
    "\n",
    "le=2\n",
    "coeffs = pywt.wavedec2(original, 'db2',mode='periodization',level=le)\n",
    "tam_i = coeffs[0].shape[0]\n",
    "tam_j = coeffs[0].shape[1]\n",
    "#Contabilizaos cuantas filas y columnas tiene la transformada\n",
    "for i in range(1,len(coeffs)):\n",
    "    print(coeffs[i][0].shape)\n",
    "    tam_i += coeffs[i][0].shape[0]\n",
    "    tam_j += coeffs[i][0].shape[1] \n",
    "    \n",
    "    \n",
    "    \n",
    "print( \"Total de filas \", tam_i,\" Columnas \",tam_j)\n",
    "#Colocamos en img_l la tranformada wavelet para visualizar\n",
    "img_l=np.zeros((tam_i,tam_j),dtype='float32')\n",
    "dim_i=coeffs[0].shape[0]\n",
    "dim_j=coeffs[0].shape[1]\n",
    "ini_i=0;\n",
    "ini_j=0;\n",
    "#Colocamos la aproximacion ajustando el contraste\n",
    "cl = imadjust(coeffs[0], Out=(0,1), gamma=1)\n",
    "img_l[ini_i:ini_i+dim_i,ini_j:ini_j+dim_j]=cl\n",
    "\n",
    "#Para el resto de bandas Hlm LH y HH \n",
    "for i in range(1,len(coeffs)):\n",
    "    \n",
    "    k_i=coeffs[i][0].shape[0]\n",
    "    k_j=coeffs[i][0].shape[1] \n",
    "    \n",
    "    \n",
    "    cl = imadjust(coeffs[i][0], Out=(0,1), gamma=1)\n",
    "    img_l[ini_i:ini_i+k_i,ini_j+dim_j:ini_j+dim_j+k_j]=cl\n",
    "    cl = imadjust(coeffs[i][1], Out=(0,1), gamma=1)\n",
    "    img_l[ini_i+dim_i:ini_i+dim_i+k_i,ini_j:ini_j+k_j]=cl\n",
    "    cl = imadjust(coeffs[i][2], Out=(0,1), gamma=1)    \n",
    "    img_l[ini_i+dim_i:ini_i+dim_i+k_i,ini_j+dim_j:ini_j+dim_j+k_j]=cl\n",
    "    dim_i+=k_i\n",
    "    dim_j+=k_j\n",
    "plt.figure(figsize=(8,8))\n",
    "plt.imshow(img_l,'gray')         \n",
    "#Recuperar la informacion \n",
    "rec=pywt.waverec2(coeffs, 'db2',mode='periodization')\n",
    "plt.figure()\n",
    "plt.imshow(rec,'gray')         \n"
   ]
  },
  {
   "cell_type": "markdown",
   "metadata": {},
   "source": [
    "### Ejercicio. Aproximación a la Compresión\n",
    "Realizar sobre la imagen barbara una descomposición wavelet usando bior3.7 con tres niveles. Fijado un porcentaje de coeficientes, por ejemplo 10% del total de coeficientes, que  indica el porcentaje de coeficientes que nos quedamos de entre todos los coeficientes wavelets de la descomposición. El resto los ponemos a cero. Los coeficientes que mantenemos son los que tiene mayor magnitud.\n",
    "Varias el porcentaje a (10,20,30,40,50,70,80 90) para:\n",
    "<ul>\n",
    "<li>Obtener una gráfica en la que en el eje X tenemos razón de compresión y en el eje Y el valor de PSNR entre la imagen original y la imagen reconstruida.\n",
    "<li>Obtener una gráfica en la que se muestra el porcentaje de coeficientes que se han mantenido por banda. \n",
    "</ul>    "
   ]
  },
  {
   "cell_type": "markdown",
   "metadata": {},
   "source": []
  }
 ],
 "metadata": {
  "kernelspec": {
   "display_name": "Python 3",
   "language": "python",
   "name": "python3"
  },
  "language_info": {
   "codemirror_mode": {
    "name": "ipython",
    "version": 3
   },
   "file_extension": ".py",
   "mimetype": "text/x-python",
   "name": "python",
   "nbconvert_exporter": "python",
   "pygments_lexer": "ipython3",
   "version": "3.7.6"
  }
 },
 "nbformat": 4,
 "nbformat_minor": 4
}
