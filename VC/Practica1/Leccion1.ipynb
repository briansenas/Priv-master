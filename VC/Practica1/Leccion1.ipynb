{
 "cells": [
  {
   "cell_type": "markdown",
   "metadata": {},
   "source": [
    "\n",
    "<div style=\"line-height:2px;border: solid orange\">\n",
    "    <p>\n",
    "    <p style=\"color:blue;font-family:arial;text-align:right;font-size:20\"> Visión por Computador &nbsp;&nbsp;\n",
    "    <p style=\"color:blue;font-family:arial;text-align:right;font-size:16\"> Master en Ciencias de Datos e Ingeniería de ordenadores   &nbsp;&nbsp;\n",
    "  <p style=\"color:blue;font-family:arial;text-align:right;font-size:16\"> Rosa Mª. Rodríguez Sánchez   &nbsp;&nbsp;\n",
    "    <p style=\"color:blue;font-family:arial;text-align:right;font-size:10\"> Dpto. Ciencias de la Computación e Inteligencia Artificial. &nbsp;&nbsp;  \n",
    "    <p style=\"color:blue;font-family:arial;text-align:right;font-size:10\"> ETSIIT. Universidad de Granada   &nbsp;&nbsp;\n",
    "        <p>\n",
    "</div>"
   ]
  },
  {
   "cell_type": "markdown",
   "metadata": {},
   "source": [
    "## Práctica 1. Tipos de Imágenes (Parte I)"
   ]
  },
  {
   "cell_type": "markdown",
   "metadata": {},
   "source": [
    "OpenCV permite trabajar con imágenes desde disco mediante la función *imread*  para leer y con *imwrite* para escribir en un fichero. Estas funciones soportan varios formatos de archivo para imágenes (BMP, PNG, JPEG y TIFF entre otros).\n",
    "\n",
    "Una imagen no es más que un vector multidimensional, dado por filas y columnas.  En cada celda definida por una fila y columna se almacena un pixel.\n",
    "\n",
    "Un ejemplo simple de imagen sería una imagen negra de 3x3. Para ello podemos usar un vector 2d de NumPy."
   ]
  },
  {
   "cell_type": "code",
   "execution_count": null,
   "metadata": {},
   "outputs": [],
   "source": [
    "import numpy as np\n",
    "img=np.zeros((3,3),dtype=np.uint8)\n",
    "\n",
    "print(img)"
   ]
  },
  {
   "cell_type": "markdown",
   "metadata": {},
   "source": [
    "En este ejemplo cada pixel se representa por un entero de 8 bit, lo que significa que los valores de cada pixel están en el rango 0-255. 0 es negro y 255 es blanco. Un valor entre [0,255] son los valores de gris. \n",
    "<img src=\"fig1.png\">"
   ]
  },
  {
   "cell_type": "markdown",
   "metadata": {},
   "source": [
    "Podemos convertir una imagen de niveles de gris a RGB usando la función *cv2.cvtColor*"
   ]
  },
  {
   "cell_type": "code",
   "execution_count": null,
   "metadata": {},
   "outputs": [],
   "source": [
    "import cv2\n",
    "img=cv2.cvtColor(img,cv2.COLOR_GRAY2BGR)\n",
    "print(img)"
   ]
  },
  {
   "cell_type": "markdown",
   "metadata": {},
   "source": [
    "Cada pixel se representa por un vector de 3 elementos. Así cada tripleta representa cada uno de los tres valores de los canales de color: B, G y R respectivamente. Otros modelos de color, tales como HSV, se representan de la misma forma, salvo con diferentes rangos de valores. \n",
    "\n",
    "Para conocer la estructura de una imagen podemos acceder a la propiedad *shape*, que devuelve las filas y columnas, y el número de canales (si existe mas de 1)."
   ]
  },
  {
   "cell_type": "code",
   "execution_count": null,
   "metadata": {},
   "outputs": [],
   "source": [
    "import numpy as np\n",
    "img = np.zeros((5,3),dtype=np.uint8)\n",
    "print(img.shape)"
   ]
  },
  {
   "cell_type": "markdown",
   "metadata": {},
   "source": [
    "Las imágenes puede ser cargadas de un formato de imagen y salvarlas en otro formato en disco. Por ejemplo podemos convertir una imagen PNG a JPEG"
   ]
  },
  {
   "cell_type": "code",
   "execution_count": null,
   "metadata": {},
   "outputs": [],
   "source": [
    "import cv2\n",
    "image=cv2.imread('barbara.png')\n",
    "#Como escribir una imagen en disco\n",
    "cv2.imwrite('barbara.jpg',image)\n"
   ]
  },
  {
   "cell_type": "markdown",
   "metadata": {},
   "source": [
    "Por defecto *imread* devuelve una imagen en formato BGR incluso si el archivo usa un formato de escala de grises. \n",
    "Opcionalmente podemos especificar el modo de *imread*. Las opciones que se soportan son:\n",
    "\n",
    "* cv2.IMREAD_COLOR: Es la opción por defecto, produciendo una imagen con 3 canales BGR con 8 bit por cada canal. \n",
    "* cv2.IMREAD_GRAYSCALE: Produce una imagen de niveles de gris de 8-bits\n",
    "* cv2.IMREAD_ANYCOLOR: Produce una imagen BGR de 8 bits por canal o una imagen de niveles de gris de 8-bit, dependiendo de los metadatos del archivo.\n",
    "* cv2.IMREAD_UNCHANGED: Lee los datos de la imagen, incluyendo el canal alfa (transparencia) como un cuarto canal.\n",
    "* cv2.IMREAD_ANYDEPTH: Esto carga una imagen en niveles de gris a su original profundidad de bits. Por ejemplo, produce una imagen de niveles de gris con 16 bit por canal si el archivo representa una imagen con este formado. \n",
    "* cv2.IMREAD_ANYDEPTH|cv2.IMREAD_COLOR: Carga una imagen en BGR con su profundidad original. \n",
    "* cv2.IMREAD_REDUCED_GRAYSCALE_2: Carga la imagen en niveles de gris a la mitad de resolución. Por ejemplo si la imagen es de 640x480, carga la imagen como 320x240.\n",
    "* cv2.IMREAD_REDUCED_COLOR_2: Carga una imagen de 8 bit por canal BGR pero a media resolución.\n",
    "* cv2.IMREAD_REDUCED_GRAYSCALE_4: Carga la imagen en niveles de gris a un cuarto de resolución. \n",
    "* cv2.IMREAD_REDUCED_COLOR_4: Carga una imagen de 8 bit por canal BGR pero a un cuarto de resolución.\n",
    "* cv2.IMREAD_REDUCED_GRAYSCALE_8: Carga la imagen en niveles de gris a un 1/8 de resolución. \n",
    "* cv2.IMREAD_REDUCED_COLOR_8: Carga una imagen de 8 bit por canal BGR pero a un 1/8 de resolución.\n",
    "\n"
   ]
  },
  {
   "cell_type": "code",
   "execution_count": null,
   "metadata": {},
   "outputs": [],
   "source": [
    "import cv2\n",
    "from matplotlib import pyplot as plt\n",
    "img_color=cv2.imread('roco.png')\n",
    "cv2.imshow('imagen Color',img_color)\n",
    "img_gray=cv2.imread('roco.png',cv2.IMREAD_GRAYSCALE)\n",
    "cv2.imshow('imagen GRIS',img_gray)\n",
    "cv2.waitKey(0)\n",
    "cv2.destroyAllWindows()\n",
    "#Otra forma de visualizar las imagenes\n",
    "plt.figure(figsize=(12,8))\n",
    "plt.subplot(1,3,1)\n",
    "plt.imshow(img_color)\n",
    "\n",
    "#imshow de pyplot usa RGB en vez de BGR como opencv para converitr BGR a RGB\n",
    "img_colorgb=cv2.cvtColor(img_color, cv2.COLOR_BGR2RGB)\n",
    "\n",
    "plt.subplot(1,3,2)\n",
    "plt.imshow(img_colorgb)\n",
    "\n",
    "plt.subplot(1,3,3)\n",
    "plt.imshow(img_gray,'gray')\n",
    "\n",
    "#Ver que estructura tiene las imágenes\n",
    "print(img_color.shape)\n",
    "print(img_gray.shape)\n",
    "\n",
    "#Accedemos a un pixel concreto\n",
    "print(\"Pixel en color \",img_color[0,0])\n",
    "print(\"Pixel en gris \",img_gray[0,0])"
   ]
  },
  {
   "cell_type": "markdown",
   "metadata": {},
   "source": [
    "Sobre una imagen de color podemos visualizar los diferente canales. Hay que tener en cuenta que estos canales son imágenes de niveles de gris. La intensidad con la que se presenta un nivel de gris en un pixel de un canal indica la fuerza del color en el  canal. Además podemos construir una imagen de color usando imágenes de niveles de gris."
   ]
  },
  {
   "cell_type": "code",
   "execution_count": null,
   "metadata": {},
   "outputs": [],
   "source": [
    "import cv2\n",
    "from matplotlib import pyplot as plt\n",
    "img_color=cv2.imread('roco.png')\n",
    "img_colorgb=cv2.cvtColor(img_color, cv2.COLOR_BGR2RGB)\n",
    "rojo = img_colorgb[:,:,0]\n",
    "verde= img_colorgb[:,:,1]\n",
    "azul = img_colorgb[:,:,2]\n",
    "plt.figure(figsize=(15,10))\n",
    "plt.subplot(2,2,1)\n",
    "plt.imshow(img_colorgb)\n",
    "plt.title(\"COLOR\")\n",
    "plt.subplot(2,2,2)\n",
    "plt.imshow(rojo,'gray')\n",
    "plt.title(\"Roja\")\n",
    "plt.subplot(2,2,3)\n",
    "plt.imshow(verde,'gray')\n",
    "plt.title(\"Verde\")\n",
    "plt.subplot(2,2,4)\n",
    "plt.imshow(azul,'gray')\n",
    "plt.title(\"Azul\")"
   ]
  },
  {
   "cell_type": "markdown",
   "metadata": {},
   "source": [
    "Ahora creamos una nueva imagen de color con los canales disponiéndolos en otro orden"
   ]
  },
  {
   "cell_type": "code",
   "execution_count": null,
   "metadata": {},
   "outputs": [],
   "source": [
    "import cv2\n",
    "from matplotlib import pyplot as plt\n",
    "img_color=cv2.imread('roco.png')\n",
    "img=cv2.cvtColor(img_color, cv2.COLOR_BGR2RGB)\n",
    "plt.figure(figsize=(15,10))\n",
    "plt.subplot(1,2,1)\n",
    "plt.imshow(img)\n",
    "plt.title(\"ORIGINAL\")\n",
    "\n",
    "img_nueva=cv2.merge([img[:,:,1],img[:,:,2],img[:,:,0]],3)\n",
    "plt.subplot(1,2,2)\n",
    "plt.imshow(img_nueva)\n",
    "plt.title(\"PSEUDO-COLOR\")\n"
   ]
  },
  {
   "cell_type": "markdown",
   "metadata": {},
   "source": [
    "#### Aplicar diferentes mapas de colores\n",
    "Podemos colorear una imagen de diferentes formas. Simplemente intercambiando la posición de los canales damos origen a un nuevo coloreo de la imagen. A la forma de transformar los colores de un pixel se le denomina mapa de color (colormap). OpenCV2 tiene definidos direntes mapas de colores:\n",
    "\n",
    "Value\tName\t      \n",
    "0\tCOLORMAP_AUTUMN\t  \n",
    "1\tCOLORMAP_BONE\t  \n",
    "2\tCOLORMAP_JET\t  \n",
    "3\tCOLORMAP_WINTER\t  \n",
    "4\tCOLORMAP_RAINBOW  \n",
    "5\tCOLORMAP_OCEAN\t  \n",
    "6\tCOLORMAP_SUMMER\t\n",
    "7\tCOLORMAP_SPRING\t\n",
    "8\tCOLORMAP_COOL\t\n",
    "9\tCOLORMAP_HSV\t\n",
    "10\tCOLORMAP_PINK\t\n",
    "11\tCOLORMAP_HOT\t\n",
    "en https://learnopencv.com/applycolormap-for-pseudocoloring-in-opencv-c-python/ se puede ver el mapa de color. \n",
    "Un ejemplo de como aplicarlo en OpenCV se puede ver a continuación:"
   ]
  },
  {
   "cell_type": "code",
   "execution_count": null,
   "metadata": {},
   "outputs": [],
   "source": [
    "import cv2\n",
    "from matplotlib import pyplot as plt\n",
    "img_color=cv2.imread('roco.png')\n",
    "im_hot = cv2.applyColorMap(img_color, cv2.COLORMAP_HOT)\n",
    "im_jet = cv2.applyColorMap(img_color, cv2.COLORMAP_JET)\n",
    "im_spring = cv2.applyColorMap(img_color, cv2.COLORMAP_SPRING)\n",
    "\n",
    "cv2.imshow('Original', img_color)\n",
    "cv2.imshow('JET', im_jet)\n",
    "cv2.imshow('HOT', im_hot)\n",
    "cv2.imshow('SPRING', im_spring)\n",
    ", im_jet,im_spring)))\n",
    "cv2.waitKey(0);\n",
    "cv2.destroyAllWindows();\n",
    "cv2.waitKey(1)\n"
   ]
  },
  {
   "cell_type": "markdown",
   "metadata": {},
   "source": [
    "##### Convertir la forma"
   ]
  },
  {
   "cell_type": "markdown",
   "metadata": {},
   "source": [
    "Python contiene la función *bytearray* que te permite convertir un array multidimensional de tipo byte a 1D. Así podemos crear un vector de tipo byte y con ello por ejemplo construir una imagen como hacemos a continuación"
   ]
  },
  {
   "cell_type": "code",
   "execution_count": null,
   "metadata": {},
   "outputs": [],
   "source": [
    "import cv2\n",
    "import numpy as np\n",
    "import os\n",
    "#Creamos un array de valores aleatorios\n",
    "ranByteArray= bytearray(os.urandom(120000))\n",
    "array_plano=np.array(ranByteArray)\n",
    "\n",
    "#Convertimos el array para hacer una imagen de 400x300 de niveles de gris\n",
    "grayImage=array_plano.reshape(300,400)\n",
    "cv2.imshow(\"Imagen ruido\",grayImage)\n",
    "cv2.waitKey(0)\n",
    "cv2.destroyAllWindows()\n",
    "\n",
    "#Convertir el array a una imagen de color 400x100\n",
    "bgrImage=array_plano.reshape(100,400,3)\n",
    "cv2.imshow(\"imagen ruido a color\",bgrImage)\n",
    "cv2.waitKey(0)\n",
    "cv2.destroyAllWindows()"
   ]
  },
  {
   "cell_type": "markdown",
   "metadata": {},
   "source": [
    "##### Conversión en tipo \n",
    "Podemos cambiar el tipo base (uint8,float,etc) de la  imagen usando la función *cv2.normalize*. Los parámetro son:\n",
    "* la imagen original\n",
    "* la imagen resultante\n",
    "* el valor mínimo que queremos obtener en la salida\n",
    "* el valor máximo que queremos obtener en la salida\n",
    "* el tipo de normalización. Si usamos la normalización del tipo :\n",
    "    out=(img(i)-min(img))/(max(img)-min(img))\n",
    "  debemos poner cv2.NORM_MINMAX\n",
    "\n"
   ]
  },
  {
   "cell_type": "code",
   "execution_count": null,
   "metadata": {},
   "outputs": [],
   "source": [
    "import numpy as np\n",
    "import cv2\n",
    "from matplotlib import pyplot as plt\n",
    "img_color1=cv2.imread('roco.png')\n",
    "img_color=cv2.cvtColor(img_color1, cv2.COLOR_BGR2RGB)\n",
    "cv2.imshow('imagen Color',img_color1)\n",
    "cv2.waitKey(0)\n",
    "cv2.destroyAllWindows()\n",
    "\n",
    "img_gray=cv2.cvtColor(img_color,cv2.COLOR_RGB2GRAY)\n",
    "print(img_gray.shape)\n",
    "out=cv2.normalize(img_gray.astype('float'),None,0.0,1.0,cv2.NORM_MINMAX)\n",
    "plt.figure(figsize=(15,10))\n",
    "plt.subplot(2,2,1)\n",
    "plt.imshow(img_gray,\"gray\")\n",
    "plt.title(\"ORIGINAL\")\n",
    "plt.subplot(2,2,2)\n",
    "plt.imshow(out,\"gray\")\n",
    "plt.title(\"(0-1)\")\n",
    "\n",
    "#Otra forma de normalizar \n",
    "#obtiene los limites para un tipo entero (min,max)\n",
    "info=np.iinfo(img_gray.dtype)\n",
    "out2=img_gray.astype(np.float)/info.max;\n",
    "plt.subplot(2,2,3)\n",
    "plt.imshow(out2,\"gray\")\n",
    "plt.title(\"(0-1)otra forma\")\n",
    "\n",
    "#Recupenrando el rango 0-256\n",
    "out3=out2*255;\n",
    "out3=out3.astype(np.uint8)\n",
    "print(\"Maximo \",np.max(out3))\n",
    "print(\"Minimo \",np.min(out3))\n",
    "plt.subplot(2,2,4)\n",
    "plt.imshow(out3,\"gray\")\n",
    "plt.title(\"Recuperada en uint8\")\n",
    "\n"
   ]
  },
  {
   "cell_type": "markdown",
   "metadata": {},
   "source": [
    "#### Modificando los valores "
   ]
  },
  {
   "cell_type": "code",
   "execution_count": null,
   "metadata": {},
   "outputs": [],
   "source": [
    "import cv2\n",
    "img_color=cv2.imread('roco.png')\n",
    "#Poner a 0 todo los valores del canal verde (BGR)\n",
    "img_color[:,:,1]=0\n",
    "cv2.imshow('imagen con verde a 0',img_color)\n",
    "cv2.waitKey(0)\n",
    "cv2.destroyAllWindows()\n"
   ]
  },
  {
   "cell_type": "markdown",
   "metadata": {},
   "source": [
    "Otra posibilidad de acceder de forma directa a un rango de valores dentro de la imagen es para definir regiones de interés (ROI). Por ejemplo en el siguiente ejemplo vamos a crea una nueva imagen con un trozo de una imagen de partida para luego pegar este trozo en otra posición."
   ]
  },
  {
   "cell_type": "code",
   "execution_count": null,
   "metadata": {},
   "outputs": [],
   "source": [
    "import cv2\n",
    "img_color=cv2.imread('roco.png')\n",
    "mi_region=img_color[0:100,0:100];\n",
    "img_color[300:400,300:400]=mi_region\n",
    "cv2.imshow('imagen con verde a 0',img_color)\n",
    "cv2.waitKey(0)\n",
    "cv2.destroyAllWindows()\n"
   ]
  },
  {
   "cell_type": "markdown",
   "metadata": {},
   "source": [
    "Podemos acceder a las propiedades de un numpy.array (que es como cv2 mantiene las imágenes en memoria). Así podemos ver la forma con *shape*, el tamaño con *size* y el tipo base de la imagen con *dtype*"
   ]
  },
  {
   "cell_type": "code",
   "execution_count": null,
   "metadata": {},
   "outputs": [],
   "source": [
    "import cv2\n",
    "img_color=cv2.imread('roco.png')\n",
    "print(\"Forma:\",img_color.shape)\n",
    "print(\"Tamaño:\",img_color.size)\n",
    "print(\"Tipo base: \",img_color.dtype)\n"
   ]
  },
  {
   "cell_type": "markdown",
   "metadata": {},
   "source": [
    "## EJERCICIOS ##"
   ]
  },
  {
   "cell_type": "markdown",
   "metadata": {},
   "source": [
    "<ul>\n",
    "<li>Sobre la imagen *woman.png* \n",
    "<ol>\n",
    "    <li>Mostrar los  canales rojo,verde y azul\n",
    "    <li>Obtener diferentes coloreados usando el mapa de color JET, SPRING, etc y mostrarlos\n",
    "    <li>Anular la banda roja de la imagen y mostrarla.\n",
    "</ol>\n",
    "<li>Crear una imagen de 100x100 en el que las filas 0-25 tengan el valor 0, las filas en el rango 26-50 tenga el valor 64, las filas en el rango 51-75 tenga el valor 128 y las filas en el rango 76-100 tengan el valor 255. A continuación convertir la imagen al rango 0-1. Mostrar ambas imagenes.    \n",
    "</ul>    "
   ]
  }
 ],
 "metadata": {
  "kernelspec": {
   "display_name": "Python 3",
   "language": "python",
   "name": "python3"
  },
  "language_info": {
   "codemirror_mode": {
    "name": "ipython",
    "version": 3
   },
   "file_extension": ".py",
   "mimetype": "text/x-python",
   "name": "python",
   "nbconvert_exporter": "python",
   "pygments_lexer": "ipython3",
   "version": "3.7.6"
  }
 },
 "nbformat": 4,
 "nbformat_minor": 4
}
