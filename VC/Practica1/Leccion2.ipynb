{
 "cells": [
  {
   "cell_type": "markdown",
   "metadata": {},
   "source": [
    "\n",
    "<div style=\"line-height:2px;border: solid orange\">\n",
    "    <p>\n",
    "    <p style=\"color:blue;font-family:arial;text-align:right;font-size:20\"> Visión por Computador &nbsp;&nbsp;\n",
    "    <p style=\"color:blue;font-family:arial;text-align:right;font-size:16\"> Master en Ciencias de Datos e Ingeniería de ordenadores   &nbsp;&nbsp;\n",
    "  <p style=\"color:blue;font-family:arial;text-align:right;font-size:16\"> Rosa Mª. Rodríguez Sánchez   &nbsp;&nbsp;\n",
    "    <p style=\"color:blue;font-family:arial;text-align:right;font-size:10\"> Dpto. Ciencias de la Computación e Inteligencia Artificial. &nbsp;&nbsp;  \n",
    "    <p style=\"color:blue;font-family:arial;text-align:right;font-size:10\"> ETSIIT. Universidad de Granada   &nbsp;&nbsp;\n",
    "        <p>\n",
    "</div>"
   ]
  },
  {
   "cell_type": "markdown",
   "metadata": {},
   "source": [
    "## Práctica 1. Trabajando con Videos (Parte II)\n",
    "\n"
   ]
  },
  {
   "cell_type": "markdown",
   "metadata": {},
   "source": [
    "OpenCV proporciona las clases *VideoCapture* y *VideoWriter* que soportan varios formatos de videos. Un video se compone de un conjunto de fotogramas (imágenes), que suceden temporalmente. Veamos un ejemplo de como interactuar con un video"
   ]
  },
  {
   "cell_type": "code",
   "execution_count": 1,
   "metadata": {},
   "outputs": [
    {
     "name": "stdout",
     "output_type": "stream",
     "text": [
      "(1072, 1920)\n",
      "Termino de escribir el video\n"
     ]
    }
   ],
   "source": [
    "import cv2\n",
    "#leemos el video\n",
    "video=cv2.VideoCapture('VideoRoco.mp4')\n",
    "#Miramos cuantos fotogramas por segundo tiene\n",
    "fps=video.get(cv2.CAP_PROP_FPS)\n",
    "#Que dimensiones tiene cada fotograma\n",
    "size=(int(video.get(cv2.CAP_PROP_FRAME_WIDTH)),int(video.get(cv2.CAP_PROP_FRAME_HEIGHT)))\n",
    "print(size)\n",
    "out = cv2.VideoWriter('outpy.avi',cv2.VideoWriter_fourcc('M','J','P','G'), fps, size)\n",
    "# salvamos\n",
    "success,frame =video.read()\n",
    "while success: #por cada frame\n",
    "    out.write(frame)\n",
    "    success,frame =video.read()\n",
    "    #hacer algo con el frame\n",
    "    if success:\n",
    "        frame=cv2.merge((frame[:,:,1],frame[:,:,2],frame[:,:,0]))\n",
    "\n",
    "video.release()\n",
    "print(\"Termino de escribir el video\")    "
   ]
  },
  {
   "cell_type": "markdown",
   "metadata": {},
   "source": [
    "Los argumentos del constructor de *Videowriter* merece atención. Debemos indicar el nombre del video de salida. También debemos indicar el code del video. Algunas de las  opciones posibles son:\n",
    "* 0: Esta opcion es un video no comprimido. La extensión del video deberia ser avi.\n",
    "* cv2.Videowriter_fourcc('I','4','2','0'): Esta opción es una codificación YUV sin compresión, con submuesteo de color 4:2:0.  La extensión del video deberia ser avi.\n",
    "* cv2.Videowriter_fourcc('X','2','6','4'): Es la codificación MPEG nueva. La extensión debería ser .mp4."
   ]
  },
  {
   "cell_type": "markdown",
   "metadata": {},
   "source": [
    "### Capturando fotogramas en una cámara\n",
    "\n",
    "Una cámara puede ser representada tambien como un objeto *VideoCapture*. No obstante para una cámara se construye el objeto *VideoCapture* pasando el índice del dipositivo de la cámara en vez del nombre del fichero en disco. Vamos a ver un ejemplo en el que capturamos 10 segundos de video de una cámara y lo escribimos en una archivo AVI. "
   ]
  },
  {
   "cell_type": "code",
   "execution_count": 4,
   "metadata": {},
   "outputs": [
    {
     "name": "stdout",
     "output_type": "stream",
     "text": [
      "(0, 0)\n",
      "Termino de escribir el video\n"
     ]
    },
    {
     "name": "stderr",
     "output_type": "stream",
     "text": [
      "[ WARN:0@81.787] global cap_v4l.cpp:999 open VIDEOIO(V4L2:/dev/video0): can't open camera by index\n",
      "[ERROR:0@81.787] global obsensor_uvc_stream_channel.cpp:158 getStreamChannelGroup Camera index out of range\n",
      "[ WARN:0@81.791] global cap.cpp:643 open VIDEOIO(CV_IMAGES): raised OpenCV exception:\n",
      "\n",
      "OpenCV(4.10.0) /io/opencv/modules/videoio/src/cap_images.cpp:430: error: (-215:Assertion failed) !filename_pattern.empty() in function 'open'\n",
      "\n",
      "\n"
     ]
    }
   ],
   "source": [
    "import cv2\n",
    "#leemos el video\n",
    "video=cv2.VideoCapture(0)\n",
    "#Miramos cuantos fotogramas por segundo tiene\n",
    "fps=30 #asumimos que la resolución es de 30 fotogramas por segundo\n",
    "#Que dimensiones tiene cada fotograma\n",
    "size=(int(video.get(cv2.CAP_PROP_FRAME_WIDTH)),int(video.get(cv2.CAP_PROP_FRAME_HEIGHT)))\n",
    "print(size)\n",
    "out = cv2.VideoWriter('mivideo.avi',cv2.VideoWriter_fourcc('I','4','2','0'), fps, size)\n",
    "# salvamos\n",
    "success,frame =video.read()\n",
    "#calculamos cuantos fotogramas debemos obtener para conseguir 10segundos\n",
    "numFramesRestantes=10*fps-1\n",
    "while success and numFramesRestantes>0: #por cada frame\n",
    "    out.write(frame)\n",
    "    success,frame =video.read()\n",
    "    #hacemos algo con el video\n",
    "    numFramesRestantes -= 1\n",
    "video.release()    \n",
    "print(\"Termino de escribir el video\")  "
   ]
  },
  {
   "cell_type": "markdown",
   "metadata": {},
   "source": [
    "El método read puede ser inapropiado cuando necesitamos sincroniza un conjunto de cámaras. Para ello podemos usar los métodos grab y retrieve. Así una vez creados los objetos *VideoCapture* podemos tener un código parecido al siguiente:"
   ]
  },
  {
   "cell_type": "code",
   "execution_count": null,
   "metadata": {},
   "outputs": [],
   "source": [
    "success1=camara1.grab()\n",
    "success2=camara2.grab()\n",
    "if (success1 and success2):\n",
    "    frame1=camara1.retrieve()\n",
    "    frame2=camara2.retrieve()\n",
    "    "
   ]
  }
 ],
 "metadata": {
  "kernelspec": {
   "display_name": "Python 3",
   "language": "python",
   "name": "python3"
  },
  "language_info": {
   "codemirror_mode": {
    "name": "ipython",
    "version": 3
   },
   "file_extension": ".py",
   "mimetype": "text/x-python",
   "name": "python",
   "nbconvert_exporter": "python",
   "pygments_lexer": "ipython3",
   "version": "3.10.15"
  }
 },
 "nbformat": 4,
 "nbformat_minor": 4
}
