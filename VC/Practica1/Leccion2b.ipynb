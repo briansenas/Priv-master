{
 "cells": [
  {
   "cell_type": "markdown",
   "metadata": {},
   "source": [
    "\n",
    "<div style=\"line-height:2px;border: solid orange\">\n",
    "    <p>\n",
    "    <p style=\"color:blue;font-family:arial;text-align:right;font-size:20\"> Visión por Computador &nbsp;&nbsp;\n",
    "    <p style=\"color:blue;font-family:arial;text-align:right;font-size:16\"> Master en Ciencias de Datos e Ingeniería de ordenadores   &nbsp;&nbsp;\n",
    "  <p style=\"color:blue;font-family:arial;text-align:right;font-size:16\"> Rosa Mª. Rodríguez Sánchez   &nbsp;&nbsp;\n",
    "    <p style=\"color:blue;font-family:arial;text-align:right;font-size:10\"> Dpto. Ciencias de la Computación e Inteligencia Artificial. &nbsp;&nbsp;  \n",
    "    <p style=\"color:blue;font-family:arial;text-align:right;font-size:10\"> ETSIIT. Universidad de Granada   &nbsp;&nbsp;\n",
    "        <p>\n",
    "</div>\n"
   ]
  },
  {
   "cell_type": "markdown",
   "metadata": {},
   "source": [
    "## Práctica 1. Transformaciones Geométricas(Parte II)\n"
   ]
  },
  {
   "cell_type": "markdown",
   "metadata": {},
   "source": [
    "### Objetivos\n",
    "En esta lección aprenderemos a realizar transformaciones geométricas con una imagen. Son de gran utilidad en diferentes contextos. En este sentido aprenderemos a:\n",
    "* Escalar \n",
    "* Trasladar\n",
    "* Rotar\n",
    "* Transformaciones afines\n",
    "* Transformaciones proyectivas\n",
    "* Recortar "
   ]
  },
  {
   "cell_type": "markdown",
   "metadata": {},
   "source": [
    "### Escalado\n",
    "El escalado de una imagen nos va a permitir cambiar su tamaño. Para ello usaremos la funcion **cv2.resize()**"
   ]
  },
  {
   "cell_type": "code",
   "execution_count": null,
   "metadata": {},
   "outputs": [],
   "source": [
    "import cv2\n",
    "from matplotlib import pyplot as plt\n",
    "\n",
    "img=cv2.imread('miki_pluto.jpg')\n",
    "#Doblamos el tamaño de la imagen\n",
    "resized_img = cv2.resize(img, (img.shape[1]*2,img.shape[0]*2), interpolation=cv2.INTER_LINEAR)\n",
    "#Tambien podemos reducirla a la mitad o al cualquier otro factor indicando\n",
    "#los parámetros de escalado\n",
    "dst_img = cv2.resize(img, None, fx=0.5, fy=0.5, interpolation=cv2.INTER_AREA)\n",
    "\n",
    "cv2.imshow(\"Original\",img)\n",
    "cv2.imshow(\"Doble\",resized_img)\n",
    "cv2.imshow(\"Mitad\",dst_img)\n",
    "cv2.waitKey(0)\n",
    "cv2.destroyAllWindows()\n"
   ]
  },
  {
   "cell_type": "markdown",
   "metadata": {},
   "source": [
    "Si quieres agrandar la imagen, el mejor método de interpolación es \n",
    "cv2.INTER_CUBIC  o cv2.INTER_LINEAR.\n"
   ]
  },
  {
   "cell_type": "markdown",
   "metadata": {},
   "source": [
    "## Trasladar una imagen\n",
    "Para trasladar un objeto, se necesita crear un matriz de traslación $2\\times 3$, como se muestra a continuación.\n"
   ]
  },
  {
   "cell_type": "code",
   "execution_count": null,
   "metadata": {},
   "outputs": [],
   "source": [
    "import numpy as np\n",
    "x=100\n",
    "y=80\n",
    "M = np.float32([[1, 0, x], [0, 1, y]])\n",
    "print(M)"
   ]
  },
  {
   "cell_type": "markdown",
   "metadata": {},
   "source": [
    "Una vez que la matriz ha sido creada, se invoca a la función cv2.warpAffine() para aplicar  la transformación sobre una imagen, en este caso es una transformación afine. Transformaciones afines son aquellas que las lineas paralelas las mantiene paralelas trás la transformación.\n"
   ]
  },
  {
   "cell_type": "code",
   "execution_count": null,
   "metadata": {},
   "outputs": [],
   "source": [
    "import cv2\n",
    "width=img.shape[1]\n",
    "height=img.shape[0]\n",
    "dst_img = cv2.warpAffine(img, M, (width, height))\n",
    "cv2.imshow(\"Traslación\",dst_img)\n",
    "cv2.waitKey(0)\n",
    "cv2.destroyAllWindows()"
   ]
  },
  {
   "cell_type": "markdown",
   "metadata": {},
   "source": [
    "La rotación de un imagen por un ángulo $\\theta$ se obtiene mediante la\n",
    "matriz de rotación:\n",
    "    <img src=\"m_rot.png\" >\n",
    "Además OpenCV permite crear matrices de rotación con parámetros de escalado y ajustable a cualquier centro de rotación. \n",
    "    "
   ]
  },
  {
   "cell_type": "code",
   "execution_count": null,
   "metadata": {},
   "outputs": [],
   "source": [
    "rows,cols=img.shape[:2]\n",
    "#parametros: centro, angulo y escalado\n",
    "M = cv2.getRotationMatrix2D((cols/2,rows/2),45,1)\n",
    "#M = cv2.getRotationMatrix2D((0,0),45,1)\n",
    "dst_img = cv2.warpAffine(img,M,(cols,rows))\n",
    "cv2.imshow(\"Rotacion\",dst_img)\n",
    "cv2.waitKey(0)\n",
    "cv2.destroyAllWindows()"
   ]
  },
  {
   "cell_type": "markdown",
   "metadata": {},
   "source": [
    "### Transformaciones afines\n",
    "Como se comento antes una transformación afine mantiene las lineas paralelas. Para encontrar la transformación, necesitamos tres puntos desde la imagen de entrada y su correspondientes puntos en la imagen de salida. En este caso la función cv2.getAffineTransform crea una matriz $2\\times 3$ que se pasa a la función cv2.warpAffine."
   ]
  },
  {
   "cell_type": "code",
   "execution_count": null,
   "metadata": {},
   "outputs": [],
   "source": [
    "pts1 = np.float32([[50,50],[200,50],[50,200]])\n",
    "pts2 = np.float32([[10,100],[200,50],[100,250]])\n",
    "M = cv2.getAffineTransform(pts1,pts2)\n",
    "dst_img = cv2.warpAffine(img,M,(cols,rows))\n",
    "cv2.imshow(\"Trans. Afine\",dst_img)\n",
    "cv2.waitKey(0)\n",
    "cv2.destroyAllWindows()\n"
   ]
  },
  {
   "cell_type": "markdown",
   "metadata": {},
   "source": [
    "### Transformaciones en Perspectiva\n",
    "Para realizar una transformación en perspectiva necesitas una matrix $3\\times 3$. Las lineas rectas las mantiene rectas. Para encontrar esta transformación, se necesita 4 puntos de la imagen de entrada y los correspondientes en la imagen de salida. Entre esos cuatro puntos, 3 de ellos deben ser colineales. Para construir la matriz de transformación que usa la función cv2.getPerspectiveTransform y a continuación para aplicarla se usa cv2.warpPerspective con la matrix de trnasformación."
   ]
  },
  {
   "cell_type": "code",
   "execution_count": null,
   "metadata": {},
   "outputs": [],
   "source": [
    "pts1 = np.float32([[56,65],[368,52],[28,387],[389,390]])\n",
    "pts2 = np.float32([[0,0],[300,0],[0,300],[300,300]])\n",
    "M = cv2.getPerspectiveTransform(pts1,pts2)\n",
    "dst_img = cv2.warpPerspective(img,M,(300,300))\n",
    "cv2.imshow(\"Trans. Proyec\",dst_img)\n",
    "cv2.waitKey(0)\n",
    "cv2.destroyAllWindows()"
   ]
  },
  {
   "cell_type": "code",
   "execution_count": null,
   "metadata": {},
   "outputs": [],
   "source": [
    "#Un ejemplo mas complejo\n",
    "import cv2\n",
    "import numpy as np\n",
    "img = cv2.imread('deco1.png')\n",
    "# Los puntos de forma [cols, rows]. Representan las esquinas del objeto\n",
    "pt_A = [13, 248]\n",
    "pt_B = [314, 376]\n",
    "pt_C = [408, 46]\n",
    "pt_D = [221, 14]\n",
    "\n",
    "width_AD = np.sqrt(((pt_A[0] - pt_D[0]) ** 2) + ((pt_A[1] - pt_D[1]) ** 2))\n",
    "width_BC = np.sqrt(((pt_B[0] - pt_C[0]) ** 2) + ((pt_B[1] - pt_C[1]) ** 2))\n",
    "maxWidth = max(int(width_AD), int(width_BC))\n",
    "\n",
    "height_AB = np.sqrt(((pt_A[0] - pt_B[0]) ** 2) + ((pt_A[1] - pt_B[1]) ** 2))\n",
    "height_CD = np.sqrt(((pt_C[0] - pt_D[0]) ** 2) + ((pt_C[1] - pt_D[1]) ** 2))\n",
    "maxHeight = max(int(height_AB), int(height_CD))\n",
    "\n",
    "input_pts = np.float32([pt_A, pt_B, pt_C, pt_D])\n",
    "output_pts = np.float32([[0, 0],\n",
    "                        [0, maxHeight - 1],\n",
    "                        [maxWidth - 1, maxHeight - 1],\n",
    "                        [maxWidth - 1, 0]])\n",
    "# Calculamos la transformada en perspectiva M\n",
    "M = cv2.getPerspectiveTransform(input_pts,output_pts)\n",
    "#Aplicamos la transformación\n",
    "out = cv2.warpPerspective(img,M,(maxWidth, maxHeight),flags=cv2.INTER_LINEAR)\n",
    "#Mostramos\n",
    "plt.figure(figsize=(12,8))\n",
    "plt.subplot(1,2,1)\n",
    "plt.title(\"ORIGINAL\")\n",
    "plt.imshow(img)\n",
    "plt.subplot(1,2,2)\n",
    "plt.title(\"DESTINO\")\n",
    "plt.imshow(out)"
   ]
  },
  {
   "cell_type": "markdown",
   "metadata": {},
   "source": [
    "En general los pasos para aplicar una transformación en perspectiva son:\n",
    "* Selecciona 4 puntos en la imagen de entrada (importante en el sentido contrario a las agujas del reloj, empezando arriba a la izquierda)\n",
    "* Especificar las correspondientes coordenadas de salida\n",
    "* Calcular la transformada de perspectiva \n",
    "* Aplicar la transformada de perspectiva a la imagen de entrada\n"
   ]
  },
  {
   "cell_type": "code",
   "execution_count": null,
   "metadata": {},
   "outputs": [],
   "source": [
    "import cv2\n",
    "import numpy as np\n",
    "\n",
    "# To open matplotlib in interactive mode\n",
    "%matplotlib qt\n",
    "img = cv2.imread('roco.png')\n",
    " \n",
    "# Create a copy of the image\n",
    "img_copy = np.copy(img)\n",
    " \n",
    "# Convert to RGB so as to display via matplotlib\n",
    "# Using Matplotlib we can easily find the coordinates\n",
    "# of the 4 points that is essential for finding the \n",
    "# transformation matrix\n",
    "img_copy = cv2.cvtColor(img_copy,cv2.COLOR_BGR2RGB)\n",
    " \n",
    "plt.imshow(img_copy)"
   ]
  },
  {
   "cell_type": "markdown",
   "metadata": {},
   "source": [
    "El anterior código te abre una ventana interactiva en la que puedes ver los puntos que te interesa"
   ]
  },
  {
   "cell_type": "code",
   "execution_count": null,
   "metadata": {},
   "outputs": [],
   "source": [
    "input_pts = np.float32([[28,36],[360,487],[371,423],[701,22]])\n",
    "output_pts = np.float32([[50,50],[200,250],[200,190],[650,72]])\n",
    "M = cv2.getPerspectiveTransform(input_pts,output_pts)\n",
    "#Aplicamos la transformación\n",
    "out = cv2.warpPerspective(img,M,(800,800),flags=cv2.INTER_LINEAR)\n",
    "#Mostramos\n",
    "plt.figure(figsize=(12,8))\n",
    "plt.subplot(1,2,1)\n",
    "plt.title(\"ORIGINAL\")\n",
    "plt.imshow(img)\n",
    "plt.subplot(1,2,2)\n",
    "plt.title(\"DESTINO\")\n",
    "plt.imshow(out)\n",
    " "
   ]
  },
  {
   "cell_type": "markdown",
   "metadata": {},
   "source": [
    "### Recortar una imagen\n",
    "Esto lo podemos usar indicando las posiciones que queremos coger de la imagen de la siguiente forma\n"
   ]
  },
  {
   "cell_type": "code",
   "execution_count": null,
   "metadata": {},
   "outputs": [],
   "source": [
    "dst=img[100:300,150:350]\n",
    "cv2.imshow(\"Recorte\",dst)\n",
    "cv2.waitKey(0)\n",
    "cv2.destroyAllWindows()"
   ]
  },
  {
   "cell_type": "markdown",
   "metadata": {},
   "source": [
    "### Ejercicio.- Cambiando la decoración\n",
    "\n",
    "\n"
   ]
  },
  {
   "cell_type": "code",
   "execution_count": null,
   "metadata": {},
   "outputs": [],
   "source": [
    "import cv2\n",
    "import numpy as np\n",
    "from matplotlib import pyplot as plt\n",
    "#%matplotlib qt\n",
    "hab = cv2.imread('habi1.png')\n",
    "hab = cv2.cvtColor(hab,cv2.COLOR_BGR2RGB)\n",
    "\n",
    "cuadro = cv2.imread('dali.jpg')\n",
    "cuadro = cv2.cvtColor(cuadro,cv2.COLOR_BGR2RGB)\n",
    "plt.subplot(1,2,1)\n",
    "plt.imshow(hab)\n",
    "plt.subplot(1,2,2)\n",
    "plt.imshow(cuadro)\n",
    "plt.show()"
   ]
  },
  {
   "cell_type": "code",
   "execution_count": null,
   "metadata": {},
   "outputs": [],
   "source": [
    "#Puntos del cuadro de Dali donde se tienen que convertir en la habitación\n",
    "inputs_pts = np.float32([[0,0],[0,147],[213,147],[213,0]])\n",
    "outputs_pts = np.float32([[94,92],[94,316],[599,316],[599,92]])\n",
    "start_point=(94,92)\n",
    "end_point= (599,315)\n",
    "\n",
    "color=(255,255,255)\n",
    "print(hab.shape)\n",
    "rec = np.zeros((hab.shape[0],hab.shape[1]),dtype=np.uint8)\n",
    "\n",
    "rec= cv2.rectangle(rec, start_point, end_point, color, -1) \n",
    "\n",
    "# Calculamos la transformada en perspectiva M\n",
    "M = cv2.getPerspectiveTransform(inputs_pts,outputs_pts)\n",
    "cuadro_mod = cv2.warpPerspective(cuadro,M,(hab.shape[0],hab.shape[1]),flags=cv2.INTER_LINEAR)\n",
    "\n",
    "#Ahora creamos el pegado\n",
    "#obtenemos una mascara con 3 bandas\n",
    "mask = cv2.merge([rec,rec,rec],3)/255\n",
    "\n",
    "salida = (mask * cuadro_mod+ (1-mask)*hab).astype(np.uint8)\n",
    "#Mostramos\n",
    "plt.figure(figsize=(12,8))\n",
    "plt.subplot(1,2,1)\n",
    "plt.title(\"ORIGINAL\")\n",
    "plt.imshow(hab)\n",
    "plt.subplot(1,2,2)\n",
    "plt.title(\"DESTINO\")\n",
    "plt.imshow(salida)\n",
    " \n"
   ]
  }
 ],
 "metadata": {
  "kernelspec": {
   "display_name": "Python 3",
   "language": "python",
   "name": "python3"
  },
  "language_info": {
   "codemirror_mode": {
    "name": "ipython",
    "version": 3
   },
   "file_extension": ".py",
   "mimetype": "text/x-python",
   "name": "python",
   "nbconvert_exporter": "python",
   "pygments_lexer": "ipython3",
   "version": "3.7.6"
  }
 },
 "nbformat": 4,
 "nbformat_minor": 4
}
