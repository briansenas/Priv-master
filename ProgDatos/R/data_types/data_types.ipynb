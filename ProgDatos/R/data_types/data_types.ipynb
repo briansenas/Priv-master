{
 "cells": [
  {
   "cell_type": "markdown",
   "id": "f0dc25a0",
   "metadata": {},
   "source": [
    "# Introducción a la Programación para Ciencia de Datos\n",
    "## Lenguaje de programación R\n",
    "_Rocío Romero Zaliz_ - rocio@decsai.ugr.es"
   ]
  },
  {
   "cell_type": "markdown",
   "id": "6032a119",
   "metadata": {},
   "source": [
    "# Tipos de datos básicos\n",
    "\n",
    "* numeric / integer\n",
    "* logical\n",
    "* complex\n",
    "* character"
   ]
  },
  {
   "cell_type": "code",
   "execution_count": 1,
   "id": "b31424e2",
   "metadata": {
    "vscode": {
     "languageId": "r"
    }
   },
   "outputs": [
    {
     "name": "stdout",
     "output_type": "stream",
     "text": [
      "[1] 1\n"
     ]
    }
   ],
   "source": [
    "print(1)"
   ]
  },
  {
   "cell_type": "code",
   "execution_count": 2,
   "id": "06a4d86a",
   "metadata": {
    "vscode": {
     "languageId": "r"
    }
   },
   "outputs": [
    {
     "data": {
      "text/html": [
       "'numeric'"
      ],
      "text/latex": [
       "'numeric'"
      ],
      "text/markdown": [
       "'numeric'"
      ],
      "text/plain": [
       "[1] \"numeric\""
      ]
     },
     "metadata": {},
     "output_type": "display_data"
    }
   ],
   "source": [
    "class(1)"
   ]
  },
  {
   "cell_type": "code",
   "execution_count": 3,
   "id": "618e5724",
   "metadata": {
    "vscode": {
     "languageId": "r"
    }
   },
   "outputs": [
    {
     "data": {
      "text/html": [
       "'numeric'"
      ],
      "text/latex": [
       "'numeric'"
      ],
      "text/markdown": [
       "'numeric'"
      ],
      "text/plain": [
       "[1] \"numeric\""
      ]
     },
     "metadata": {},
     "output_type": "display_data"
    }
   ],
   "source": [
    "class(1.5)"
   ]
  },
  {
   "cell_type": "code",
   "execution_count": 4,
   "id": "3b638de8",
   "metadata": {
    "vscode": {
     "languageId": "r"
    }
   },
   "outputs": [
    {
     "data": {
      "text/html": [
       "'numeric'"
      ],
      "text/latex": [
       "'numeric'"
      ],
      "text/markdown": [
       "'numeric'"
      ],
      "text/plain": [
       "[1] \"numeric\""
      ]
     },
     "metadata": {},
     "output_type": "display_data"
    }
   ],
   "source": [
    "class(-3.78)"
   ]
  },
  {
   "cell_type": "code",
   "execution_count": 5,
   "id": "8e417ebe",
   "metadata": {
    "vscode": {
     "languageId": "r"
    }
   },
   "outputs": [
    {
     "data": {
      "text/html": [
       "TRUE"
      ],
      "text/latex": [
       "TRUE"
      ],
      "text/markdown": [
       "TRUE"
      ],
      "text/plain": [
       "[1] TRUE"
      ]
     },
     "metadata": {},
     "output_type": "display_data"
    }
   ],
   "source": [
    "TRUE"
   ]
  },
  {
   "cell_type": "code",
   "execution_count": 6,
   "id": "3b2c4ecf",
   "metadata": {
    "vscode": {
     "languageId": "r"
    }
   },
   "outputs": [
    {
     "data": {
      "text/html": [
       "'logical'"
      ],
      "text/latex": [
       "'logical'"
      ],
      "text/markdown": [
       "'logical'"
      ],
      "text/plain": [
       "[1] \"logical\""
      ]
     },
     "metadata": {},
     "output_type": "display_data"
    }
   ],
   "source": [
    "class(TRUE)"
   ]
  },
  {
   "cell_type": "code",
   "execution_count": 7,
   "id": "e38d464e",
   "metadata": {
    "vscode": {
     "languageId": "r"
    }
   },
   "outputs": [
    {
     "data": {
      "text/html": [
       "'logical'"
      ],
      "text/latex": [
       "'logical'"
      ],
      "text/markdown": [
       "'logical'"
      ],
      "text/plain": [
       "[1] \"logical\""
      ]
     },
     "metadata": {},
     "output_type": "display_data"
    }
   ],
   "source": [
    "class(FALSE)"
   ]
  },
  {
   "cell_type": "code",
   "execution_count": 8,
   "id": "2ab197dd",
   "metadata": {
    "vscode": {
     "languageId": "r"
    }
   },
   "outputs": [
    {
     "data": {
      "text/html": [
       "4+1.2i"
      ],
      "text/latex": [
       "4+1.2i"
      ],
      "text/markdown": [
       "4+1.2i"
      ],
      "text/plain": [
       "[1] 4+1.2i"
      ]
     },
     "metadata": {},
     "output_type": "display_data"
    }
   ],
   "source": [
    "4 + 1.2i"
   ]
  },
  {
   "cell_type": "code",
   "execution_count": 9,
   "id": "24175b97",
   "metadata": {
    "vscode": {
     "languageId": "r"
    }
   },
   "outputs": [
    {
     "data": {
      "text/html": [
       "'complex'"
      ],
      "text/latex": [
       "'complex'"
      ],
      "text/markdown": [
       "'complex'"
      ],
      "text/plain": [
       "[1] \"complex\""
      ]
     },
     "metadata": {},
     "output_type": "display_data"
    }
   ],
   "source": [
    "class(4 + 1.2i)"
   ]
  },
  {
   "cell_type": "code",
   "execution_count": 10,
   "id": "8dc65644",
   "metadata": {
    "vscode": {
     "languageId": "r"
    }
   },
   "outputs": [
    {
     "name": "stdout",
     "output_type": "stream",
     "text": [
      "[1] \"a\"\n"
     ]
    }
   ],
   "source": [
    "print(\"a\")"
   ]
  },
  {
   "cell_type": "code",
   "execution_count": 11,
   "id": "58c5e0dd",
   "metadata": {
    "vscode": {
     "languageId": "r"
    }
   },
   "outputs": [
    {
     "data": {
      "text/html": [
       "'character'"
      ],
      "text/latex": [
       "'character'"
      ],
      "text/markdown": [
       "'character'"
      ],
      "text/plain": [
       "[1] \"character\""
      ]
     },
     "metadata": {},
     "output_type": "display_data"
    }
   ],
   "source": [
    "class(\"a\")"
   ]
  },
  {
   "cell_type": "code",
   "execution_count": 12,
   "id": "87c4af80",
   "metadata": {
    "vscode": {
     "languageId": "r"
    }
   },
   "outputs": [
    {
     "data": {
      "text/html": [
       "'character'"
      ],
      "text/latex": [
       "'character'"
      ],
      "text/markdown": [
       "'character'"
      ],
      "text/plain": [
       "[1] \"character\""
      ]
     },
     "metadata": {},
     "output_type": "display_data"
    }
   ],
   "source": [
    "class(\"hola\")"
   ]
  },
  {
   "cell_type": "code",
   "execution_count": 13,
   "id": "098f154b",
   "metadata": {
    "vscode": {
     "languageId": "r"
    }
   },
   "outputs": [
    {
     "data": {
      "text/html": [
       "'character'"
      ],
      "text/latex": [
       "'character'"
      ],
      "text/markdown": [
       "'character'"
      ],
      "text/plain": [
       "[1] \"character\""
      ]
     },
     "metadata": {},
     "output_type": "display_data"
    }
   ],
   "source": [
    "class(\"adios\") # Recomendado"
   ]
  },
  {
   "cell_type": "code",
   "execution_count": 14,
   "id": "20d4a5dd",
   "metadata": {
    "vscode": {
     "languageId": "r"
    }
   },
   "outputs": [
    {
     "data": {
      "text/html": [
       "'character'"
      ],
      "text/latex": [
       "'character'"
      ],
      "text/markdown": [
       "'character'"
      ],
      "text/plain": [
       "[1] \"character\""
      ]
     },
     "metadata": {},
     "output_type": "display_data"
    }
   ],
   "source": [
    "class('adios') # No recomendado"
   ]
  },
  {
   "cell_type": "code",
   "execution_count": 15,
   "id": "ebfd39ce",
   "metadata": {
    "vscode": {
     "languageId": "r"
    }
   },
   "outputs": [
    {
     "ename": "ERROR",
     "evalue": "Error in parse(text = x, srcfile = src): <text>:1:8: unexpected symbol\n1: \"hola\" y\n           ^\n",
     "output_type": "error",
     "traceback": [
      "Error in parse(text = x, srcfile = src): <text>:1:8: unexpected symbol\n1: \"hola\" y\n           ^\nTraceback:\n"
     ]
    }
   ],
   "source": [
    "\"hola\" y \"adios\" # Error"
   ]
  },
  {
   "cell_type": "code",
   "execution_count": 16,
   "id": "f6e5cc9b",
   "metadata": {
    "vscode": {
     "languageId": "r"
    }
   },
   "outputs": [
    {
     "ename": "ERROR",
     "evalue": "Error in parse(text = x, srcfile = src): <text>:1:3: unexpected symbol\n1: \"\"hola\n      ^\n",
     "output_type": "error",
     "traceback": [
      "Error in parse(text = x, srcfile = src): <text>:1:3: unexpected symbol\n1: \"\"hola\n      ^\nTraceback:\n"
     ]
    }
   ],
   "source": [
    "\"\"hola\" y \"adios\"\" # Error"
   ]
  },
  {
   "cell_type": "code",
   "execution_count": 17,
   "id": "0c41610d",
   "metadata": {
    "vscode": {
     "languageId": "r"
    }
   },
   "outputs": [
    {
     "data": {
      "text/html": [
       "'\"hola\" y \"adios\"'"
      ],
      "text/latex": [
       "'\"hola\" y \"adios\"'"
      ],
      "text/markdown": [
       "'\"hola\" y \"adios\"'"
      ],
      "text/plain": [
       "[1] \"\\\"hola\\\" y \\\"adios\\\"\""
      ]
     },
     "metadata": {},
     "output_type": "display_data"
    }
   ],
   "source": [
    "'\"hola\" y \"adios\"' # Para este tipo de cosas se usan las comillas simples"
   ]
  },
  {
   "cell_type": "code",
   "execution_count": 18,
   "id": "ab0ff21a",
   "metadata": {
    "vscode": {
     "languageId": "r"
    }
   },
   "outputs": [
    {
     "data": {
      "text/html": [
       "Inf"
      ],
      "text/latex": [
       "Inf"
      ],
      "text/markdown": [
       "Inf"
      ],
      "text/plain": [
       "[1] Inf"
      ]
     },
     "metadata": {},
     "output_type": "display_data"
    }
   ],
   "source": [
    "1 / 0"
   ]
  },
  {
   "cell_type": "code",
   "execution_count": 19,
   "id": "bba407d1",
   "metadata": {
    "vscode": {
     "languageId": "r"
    }
   },
   "outputs": [
    {
     "data": {
      "text/html": [
       "0"
      ],
      "text/latex": [
       "0"
      ],
      "text/markdown": [
       "0"
      ],
      "text/plain": [
       "[1] 0"
      ]
     },
     "metadata": {},
     "output_type": "display_data"
    }
   ],
   "source": [
    "1 / Inf"
   ]
  },
  {
   "cell_type": "code",
   "execution_count": 20,
   "id": "1fe292f0",
   "metadata": {
    "vscode": {
     "languageId": "r"
    }
   },
   "outputs": [
    {
     "data": {
      "text/html": [
       "NaN"
      ],
      "text/latex": [
       "NaN"
      ],
      "text/markdown": [
       "NaN"
      ],
      "text/plain": [
       "[1] NaN"
      ]
     },
     "metadata": {},
     "output_type": "display_data"
    }
   ],
   "source": [
    "0 / 0"
   ]
  },
  {
   "cell_type": "code",
   "execution_count": 21,
   "id": "1d01dbf2",
   "metadata": {
    "vscode": {
     "languageId": "r"
    }
   },
   "outputs": [
    {
     "data": {
      "text/plain": [
       "NULL"
      ]
     },
     "metadata": {},
     "output_type": "display_data"
    }
   ],
   "source": [
    "NULL"
   ]
  },
  {
   "cell_type": "code",
   "execution_count": 22,
   "id": "4c9e1755",
   "metadata": {
    "vscode": {
     "languageId": "r"
    }
   },
   "outputs": [
    {
     "data": {
      "text/html": [
       "\n",
       "<table style=\"width: 100%;\"><tr><td>NULL {base}</td><td style=\"text-align: right;\">R Documentation</td></tr></table>\n",
       "\n",
       "<h2>The Null Object</h2>\n",
       "\n",
       "<h3>Description</h3>\n",
       "\n",
       "<p><code>NULL</code> represents the null object in <span style=\"font-family: Courier New, Courier; color: #666666;\"><b>R</b></span>: it is a reserved\n",
       "word.  <code>NULL</code> is often returned by expressions and functions\n",
       "whose value is undefined.\n",
       "</p>\n",
       "\n",
       "\n",
       "<h3>Usage</h3>\n",
       "\n",
       "<pre><code class='language-R'>NULL\n",
       "as.null(x, ...)\n",
       "is.null(x)\n",
       "</code></pre>\n",
       "\n",
       "\n",
       "<h3>Arguments</h3>\n",
       "\n",
       "<table>\n",
       "<tr style=\"vertical-align: top;\"><td><code>x</code></td>\n",
       "<td>\n",
       "<p>an object to be tested or coerced.</p>\n",
       "</td></tr>\n",
       "<tr style=\"vertical-align: top;\"><td><code>...</code></td>\n",
       "<td>\n",
       "<p>ignored.</p>\n",
       "</td></tr>\n",
       "</table>\n",
       "\n",
       "\n",
       "<h3>Details</h3>\n",
       "\n",
       "<p><code>NULL</code> can be indexed (see Extract) in just about any\n",
       "syntactically legal way: whether it makes sense or not, the result is\n",
       "always <code>NULL</code>.  Objects with value <code>NULL</code> can be changed by\n",
       "replacement operators and will be coerced to the type of the\n",
       "right-hand side.\n",
       "</p>\n",
       "<p><code>NULL</code> is also used as the empty pairlist: see the\n",
       "examples. Because pairlists are often promoted to lists, you may\n",
       "encounter <code>NULL</code> being promoted to an empty list.\n",
       "</p>\n",
       "<p>Objects with value <code>NULL</code> cannot have attributes as there is only\n",
       "one null object: attempts to assign them are either an error\n",
       "(<code>attr</code>) or promote the object to an empty list with\n",
       "attribute(s) (<code>attributes</code> and <code>structure</code>).\n",
       "</p>\n",
       "\n",
       "\n",
       "<h3>Value</h3>\n",
       "\n",
       "<p><code>as.null</code> ignores its argument and returns <code>NULL</code>.\n",
       "</p>\n",
       "<p><code>is.null</code> returns <code>TRUE</code> if its argument's value\n",
       "is <code>NULL</code> and <code>FALSE</code> otherwise.\n",
       "</p>\n",
       "\n",
       "\n",
       "<h3>Note</h3>\n",
       "\n",
       "<p><code>is.null</code> is a primitive function.\n",
       "</p>\n",
       "\n",
       "\n",
       "<h3>References</h3>\n",
       "\n",
       "<p>Becker, R. A., Chambers, J. M. and Wilks, A. R. (1988)\n",
       "<em>The New S Language</em>.\n",
       "Wadsworth &amp; Brooks/Cole.\n",
       "</p>\n",
       "\n",
       "\n",
       "<h3>Examples</h3>\n",
       "\n",
       "<pre><code class='language-R'>is.null(list())     # FALSE (on purpose!)\n",
       "is.null(pairlist()) # TRUE\n",
       "is.null(integer(0)) # FALSE\n",
       "is.null(logical(0)) # FALSE\n",
       "as.null(list(a = 1, b = \"c\"))\n",
       "</code></pre>\n",
       "\n",
       "<hr /><div style=\"text-align: center;\">[Package <em>base</em> version 4.2.1 ]</div>\n",
       "</div>"
      ],
      "text/latex": [
       "\\inputencoding{utf8}\n",
       "\\HeaderA{NULL}{The Null Object}{NULL}\n",
       "\\aliasA{as.null}{NULL}{as.null}\n",
       "\\methaliasA{as.null.default}{NULL}{as.null.default}\n",
       "\\aliasA{is.null}{NULL}{is.null}\n",
       "\\keyword{attribute}{NULL}\n",
       "\\keyword{manip}{NULL}\n",
       "\\keyword{list}{NULL}\n",
       "\\keyword{sysdata}{NULL}\n",
       "%\n",
       "\\begin{Description}\\relax\n",
       "\\code{NULL} represents the null object in \\R{}: it is a \\LinkA{reserved}{reserved}\n",
       "word.  \\code{NULL} is often returned by expressions and functions\n",
       "whose value is undefined.\n",
       "\\end{Description}\n",
       "%\n",
       "\\begin{Usage}\n",
       "\\begin{verbatim}\n",
       "NULL\n",
       "as.null(x, ...)\n",
       "is.null(x)\n",
       "\\end{verbatim}\n",
       "\\end{Usage}\n",
       "%\n",
       "\\begin{Arguments}\n",
       "\\begin{ldescription}\n",
       "\\item[\\code{x}] an object to be tested or coerced.\n",
       "\\item[\\code{...}] ignored.\n",
       "\\end{ldescription}\n",
       "\\end{Arguments}\n",
       "%\n",
       "\\begin{Details}\\relax\n",
       "\\code{NULL} can be indexed (see \\LinkA{Extract}{Extract}) in just about any\n",
       "syntactically legal way: whether it makes sense or not, the result is\n",
       "always \\code{NULL}.  Objects with value \\code{NULL} can be changed by\n",
       "replacement operators and will be coerced to the type of the\n",
       "right-hand side.\n",
       "\n",
       "\\code{NULL} is also used as the empty \\LinkA{pairlist}{pairlist}: see the\n",
       "examples. Because pairlists are often promoted to lists, you may\n",
       "encounter \\code{NULL} being promoted to an empty list.\n",
       "\n",
       "Objects with value \\code{NULL} cannot have attributes as there is only\n",
       "one null object: attempts to assign them are either an error\n",
       "(\\code{\\LinkA{attr}{attr}}) or promote the object to an empty list with\n",
       "attribute(s) (\\code{\\LinkA{attributes}{attributes}} and \\code{\\LinkA{structure}{structure}}).\n",
       "\\end{Details}\n",
       "%\n",
       "\\begin{Value}\n",
       "\\code{as.null} ignores its argument and returns \\code{NULL}.\n",
       "\n",
       "\\code{is.null} returns \\code{TRUE} if its argument's value\n",
       "is \\code{NULL} and \\code{FALSE} otherwise.\n",
       "\\end{Value}\n",
       "%\n",
       "\\begin{Note}\\relax\n",
       "\\code{is.null} is a \\LinkA{primitive}{primitive} function.\n",
       "\\end{Note}\n",
       "%\n",
       "\\begin{References}\\relax\n",
       "Becker, R. A., Chambers, J. M. and Wilks, A. R. (1988)\n",
       "\\emph{The New S Language}.\n",
       "Wadsworth \\& Brooks/Cole.\n",
       "\\end{References}\n",
       "%\n",
       "\\begin{Examples}\n",
       "\\begin{ExampleCode}\n",
       "is.null(list())     # FALSE (on purpose!)\n",
       "is.null(pairlist()) # TRUE\n",
       "is.null(integer(0)) # FALSE\n",
       "is.null(logical(0)) # FALSE\n",
       "as.null(list(a = 1, b = \"c\"))\n",
       "\\end{ExampleCode}\n",
       "\\end{Examples}"
      ],
      "text/plain": [
       "NULL                   package:base                    R Documentation\n",
       "\n",
       "_\bT_\bh_\be _\bN_\bu_\bl_\bl _\bO_\bb_\bj_\be_\bc_\bt\n",
       "\n",
       "_\bD_\be_\bs_\bc_\br_\bi_\bp_\bt_\bi_\bo_\bn:\n",
       "\n",
       "     ‘NULL’ represents the null object in R: it is a reserved word.\n",
       "     ‘NULL’ is often returned by expressions and functions whose value\n",
       "     is undefined.\n",
       "\n",
       "_\bU_\bs_\ba_\bg_\be:\n",
       "\n",
       "     NULL\n",
       "     as.null(x, ...)\n",
       "     is.null(x)\n",
       "     \n",
       "_\bA_\br_\bg_\bu_\bm_\be_\bn_\bt_\bs:\n",
       "\n",
       "       x: an object to be tested or coerced.\n",
       "\n",
       "     ...: ignored.\n",
       "\n",
       "_\bD_\be_\bt_\ba_\bi_\bl_\bs:\n",
       "\n",
       "     ‘NULL’ can be indexed (see Extract) in just about any\n",
       "     syntactically legal way: whether it makes sense or not, the result\n",
       "     is always ‘NULL’.  Objects with value ‘NULL’ can be changed by\n",
       "     replacement operators and will be coerced to the type of the\n",
       "     right-hand side.\n",
       "\n",
       "     ‘NULL’ is also used as the empty pairlist: see the examples.\n",
       "     Because pairlists are often promoted to lists, you may encounter\n",
       "     ‘NULL’ being promoted to an empty list.\n",
       "\n",
       "     Objects with value ‘NULL’ cannot have attributes as there is only\n",
       "     one null object: attempts to assign them are either an error\n",
       "     (‘attr’) or promote the object to an empty list with attribute(s)\n",
       "     (‘attributes’ and ‘structure’).\n",
       "\n",
       "_\bV_\ba_\bl_\bu_\be:\n",
       "\n",
       "     ‘as.null’ ignores its argument and returns ‘NULL’.\n",
       "\n",
       "     ‘is.null’ returns ‘TRUE’ if its argument's value is ‘NULL’ and\n",
       "     ‘FALSE’ otherwise.\n",
       "\n",
       "_\bN_\bo_\bt_\be:\n",
       "\n",
       "     ‘is.null’ is a primitive function.\n",
       "\n",
       "_\bR_\be_\bf_\be_\br_\be_\bn_\bc_\be_\bs:\n",
       "\n",
       "     Becker, R. A., Chambers, J. M. and Wilks, A. R. (1988) _The New S\n",
       "     Language_.  Wadsworth & Brooks/Cole.\n",
       "\n",
       "_\bE_\bx_\ba_\bm_\bp_\bl_\be_\bs:\n",
       "\n",
       "     is.null(list())     # FALSE (on purpose!)\n",
       "     is.null(pairlist()) # TRUE\n",
       "     is.null(integer(0)) # FALSE\n",
       "     is.null(logical(0)) # FALSE\n",
       "     as.null(list(a = 1, b = \"c\"))\n",
       "     "
      ]
     },
     "metadata": {},
     "output_type": "display_data"
    }
   ],
   "source": [
    "?NULL"
   ]
  },
  {
   "cell_type": "code",
   "execution_count": 23,
   "id": "90aee75e",
   "metadata": {
    "vscode": {
     "languageId": "r"
    }
   },
   "outputs": [
    {
     "data": {
      "text/html": [
       "&lt;NA&gt;"
      ],
      "text/latex": [
       "<NA>"
      ],
      "text/markdown": [
       "&lt;NA&gt;"
      ],
      "text/plain": [
       "[1] NA"
      ]
     },
     "metadata": {},
     "output_type": "display_data"
    }
   ],
   "source": [
    "NA"
   ]
  },
  {
   "cell_type": "code",
   "execution_count": 24,
   "id": "897da433",
   "metadata": {
    "vscode": {
     "languageId": "r"
    }
   },
   "outputs": [
    {
     "data": {
      "text/html": [
       "\n",
       "<table style=\"width: 100%;\"><tr><td>NA {base}</td><td style=\"text-align: right;\">R Documentation</td></tr></table>\n",
       "\n",
       "<h2>&lsquo;Not Available&rsquo; / Missing Values</h2>\n",
       "\n",
       "<h3>Description</h3>\n",
       "\n",
       "<p><code>NA</code> is a logical constant of length 1 which contains a missing\n",
       "value indicator.  <code>NA</code> can be coerced to any other vector\n",
       "type except raw.  There are also constants <code>NA_integer_</code>,\n",
       "<code>NA_real_</code>, <code>NA_complex_</code> and <code>NA_character_</code> of the\n",
       "other atomic vector types which support missing values: all of these\n",
       "are reserved words in the <span style=\"font-family: Courier New, Courier; color: #666666;\"><b>R</b></span> language.\n",
       "</p>\n",
       "<p>The generic function <code>is.na</code> indicates which elements are missing.\n",
       "</p>\n",
       "<p>The generic function <code>is.na&lt;-</code> sets elements to <code>NA</code>.\n",
       "</p>\n",
       "<p>The generic function <code>anyNA</code> implements <code>any(is.na(x))</code> in a\n",
       "possibly faster way (especially for atomic vectors).\n",
       "</p>\n",
       "\n",
       "\n",
       "<h3>Usage</h3>\n",
       "\n",
       "<pre><code class='language-R'>NA\n",
       "is.na(x)\n",
       "anyNA(x, recursive = FALSE)\n",
       "\n",
       "## S3 method for class 'data.frame'\n",
       "is.na(x)\n",
       "\n",
       "is.na(x) &lt;- value\n",
       "</code></pre>\n",
       "\n",
       "\n",
       "<h3>Arguments</h3>\n",
       "\n",
       "<table>\n",
       "<tr style=\"vertical-align: top;\"><td><code>x</code></td>\n",
       "<td>\n",
       "<p>an <span style=\"font-family: Courier New, Courier; color: #666666;\"><b>R</b></span> object to be tested: the default method for\n",
       "<code>is.na</code> and <code>anyNA</code> handle atomic vectors, lists,\n",
       "pairlists, and <code>NULL</code>.</p>\n",
       "</td></tr>\n",
       "<tr style=\"vertical-align: top;\"><td><code>recursive</code></td>\n",
       "<td>\n",
       "<p>logical: should <code>anyNA</code> be applied recursively\n",
       "to lists and pairlists?</p>\n",
       "</td></tr>\n",
       "<tr style=\"vertical-align: top;\"><td><code>value</code></td>\n",
       "<td>\n",
       "<p>a suitable index vector for use with <code>x</code>.</p>\n",
       "</td></tr>\n",
       "</table>\n",
       "\n",
       "\n",
       "<h3>Details</h3>\n",
       "\n",
       "<p>The <code>NA</code> of character type is distinct from the string\n",
       "<code>\"NA\"</code>.  Programmers who need to specify an explicit missing\n",
       "string should use <code>NA_character_</code> (rather than <code>\"NA\"</code>) or set\n",
       "elements to <code>NA</code> using <code>is.na&lt;-</code>.\n",
       "</p>\n",
       "<p><code>is.na</code> and <code>anyNA</code> are generic: you can write\n",
       "methods to handle specific classes of objects, see\n",
       "InternalMethods.\n",
       "</p>\n",
       "<p>Function <code>is.na&lt;-</code> may provide a safer way to set missingness.\n",
       "It behaves differently for factors, for example.\n",
       "</p>\n",
       "<p>Numerical computations using <code>NA</code> will normally result in\n",
       "<code>NA</code>: a possible exception is where <code>NaN</code> is also\n",
       "involved, in which case either might result (which may depend on\n",
       "the <span style=\"font-family: Courier New, Courier; color: #666666;\"><b>R</b></span> platform).  However, this is not guaranteed and future CPUs\n",
       "and/or compilers may behave differently. Dynamic binary translation may\n",
       "also impact this behavior (with valgrind, computations using <code>NA</code>\n",
       "may result in <code>NaN</code> even when no <code>NaN</code> is involved).\n",
       "</p>\n",
       "<p>Logical computations treat <code>NA</code> as a missing <code>TRUE/FALSE</code>\n",
       "value, and so may return <code>TRUE</code> or <code>FALSE</code> if the expression\n",
       "does not depend on the <code>NA</code> operand.\n",
       "</p>\n",
       "<p>The default method for <code>anyNA</code> handles atomic vectors without a\n",
       "class and <code>NULL</code>.  It calls <code>any(is.na(x))</code> on objects with\n",
       "classes and for <code>recursive = FALSE</code>, on lists and pairlists.\n",
       "</p>\n",
       "\n",
       "\n",
       "<h3>Value</h3>\n",
       "\n",
       "<p>The default method for <code>is.na</code> applied to an atomic vector\n",
       "returns a logical vector of the same length as its argument <code>x</code>,\n",
       "containing <code>TRUE</code> for those elements marked <code>NA</code> or, for\n",
       "numeric or complex vectors, <code>NaN</code>, and <code>FALSE</code>\n",
       "otherwise. (A complex value is regarded as <code>NA</code> if either its\n",
       "real or imaginary part is <code>NA</code> or <code>NaN</code>.)\n",
       "<code>dim</code>, <code>dimnames</code> and <code>names</code> attributes are copied to\n",
       "the result.\n",
       "</p>\n",
       "<p>The default methods also work for lists and pairlists:<br />\n",
       "For <code>is.na</code>, elementwise the result is false unless that element\n",
       "is a length-one atomic vector and the single element of that vector is\n",
       "regarded as <code>NA</code> or <code>NaN</code> (note that any <code>is.na</code>\n",
       "method for the class of the element is ignored).<br />\n",
       "<code>anyNA(recursive = FALSE)</code> works the same way as <code>is.na</code>;\n",
       "<code>anyNA(recursive = TRUE)</code> applies <code>anyNA</code> (with method\n",
       "dispatch) to each element.\n",
       "</p>\n",
       "<p>The data frame method for <code>is.na</code> returns a logical matrix\n",
       "with the same dimensions as the data frame, and with dimnames taken\n",
       "from the row and column names of the data frame.\n",
       "</p>\n",
       "<p><code>anyNA(NULL)</code> is false; <code>is.na(NULL)</code> is <code>logical(0)</code>\n",
       "(no longer warning since <span style=\"font-family: Courier New, Courier; color: #666666;\"><b>R</b></span> version 3.5.0).\n",
       "</p>\n",
       "\n",
       "\n",
       "<h3>References</h3>\n",
       "\n",
       "<p>Becker, R. A., Chambers, J. M. and Wilks, A. R. (1988)\n",
       "<em>The New S Language</em>.\n",
       "Wadsworth &amp; Brooks/Cole.\n",
       "</p>\n",
       "<p>Chambers, J. M. (1998)\n",
       "<em>Programming with Data.  A Guide to the S Language</em>.\n",
       "Springer.\n",
       "</p>\n",
       "\n",
       "\n",
       "<h3>See Also</h3>\n",
       "\n",
       "<p><code>NaN</code>, <code>is.nan</code>, etc.,\n",
       "and the utility function <code>complete.cases</code>.\n",
       "</p>\n",
       "<p><code>na.action</code>, <code>na.omit</code>, <code>na.fail</code>\n",
       "on how methods can be tuned to deal with missing values.\n",
       "</p>\n",
       "\n",
       "\n",
       "<h3>Examples</h3>\n",
       "\n",
       "<pre><code class='language-R'>is.na(c(1, NA))        #&gt; FALSE  TRUE\n",
       "is.na(paste(c(1, NA))) #&gt; FALSE FALSE\n",
       "\n",
       "(xx &lt;- c(0:4))\n",
       "is.na(xx) &lt;- c(2, 4)\n",
       "xx                     #&gt; 0 NA  2 NA  4\n",
       "anyNA(xx) # TRUE\n",
       "\n",
       "# Some logical operations do not return NA\n",
       "c(TRUE, FALSE) &amp; NA\n",
       "c(TRUE, FALSE) | NA\n",
       "\n",
       "\n",
       "## Measure speed difference in a favourable case:\n",
       "## the difference depends on the platform, on most ca 3x.\n",
       "x &lt;- 1:10000; x[5000] &lt;- NaN  # coerces x to be double\n",
       "if(require(\"microbenchmark\")) { # does not work reliably on all platforms\n",
       "  print(microbenchmark(any(is.na(x)), anyNA(x)))\n",
       "} else {\n",
       "  nSim &lt;- 2^13\n",
       "  print(rbind(is.na = system.time(replicate(nSim, any(is.na(x)))),\n",
       "              anyNA = system.time(replicate(nSim, anyNA(x)))))\n",
       "}\n",
       "\n",
       "\n",
       "## anyNA() can work recursively with list()s:\n",
       "LL &lt;- list(1:5, c(NA, 5:8), c(\"A\",\"NA\"), c(\"a\", NA_character_))\n",
       "L2 &lt;- LL[c(1,3)]\n",
       "sapply(LL, anyNA); c(anyNA(LL), anyNA(LL, TRUE))\n",
       "sapply(L2, anyNA); c(anyNA(L2), anyNA(L2, TRUE))\n",
       "\n",
       "## ... lists, and hence data frames, too:\n",
       "dN &lt;- dd &lt;- USJudgeRatings; dN[3,6] &lt;- NA\n",
       "anyNA(dd) # FALSE\n",
       "anyNA(dN) # TRUE\n",
       "</code></pre>\n",
       "\n",
       "<hr /><div style=\"text-align: center;\">[Package <em>base</em> version 4.2.1 ]</div>\n",
       "</div>"
      ],
      "text/latex": [
       "\\inputencoding{utf8}\n",
       "\\HeaderA{NA}{`Not Available' / Missing Values}{NA}\n",
       "\\aliasA{anyMissing}{NA}{anyMissing}\n",
       "\\aliasA{anyNA}{NA}{anyNA}\n",
       "\\methaliasA{anyNA.data.frame}{NA}{anyNA.data.frame}\n",
       "\\aliasA{is.na}{NA}{is.na}\n",
       "\\methaliasA{is.na.data.frame}{NA}{is.na.data.frame}\n",
       "\\aliasA{is.na<\\Rdash{}}{NA}{is.na<.Rdash.}\n",
       "\\methaliasA{is.na<\\Rdash{}.default}{NA}{is.na<.Rdash..default}\n",
       "\\aliasA{NA\\_character\\_}{NA}{NA.Rul.character.Rul.}\n",
       "\\aliasA{NA\\_complex\\_}{NA}{NA.Rul.complex.Rul.}\n",
       "\\aliasA{NA\\_integer\\_}{NA}{NA.Rul.integer.Rul.}\n",
       "\\aliasA{NA\\_real\\_}{NA}{NA.Rul.real.Rul.}\n",
       "\\keyword{NA}{NA}\n",
       "\\keyword{logic}{NA}\n",
       "\\keyword{manip}{NA}\n",
       "%\n",
       "\\begin{Description}\\relax\n",
       "\\code{NA} is a logical constant of length 1 which contains a missing\n",
       "value indicator.  \\code{NA} can be coerced to any other vector\n",
       "type except raw.  There are also constants \\code{NA\\_integer\\_},\n",
       "\\code{NA\\_real\\_}, \\code{NA\\_complex\\_} and \\code{NA\\_character\\_} of the\n",
       "other atomic vector types which support missing values: all of these\n",
       "are \\LinkA{reserved}{reserved} words in the \\R{} language.\n",
       "\n",
       "The generic function \\code{is.na} indicates which elements are missing.\n",
       "\n",
       "The generic function \\code{is.na<-} sets elements to \\code{NA}.\n",
       "\n",
       "The generic function \\code{anyNA} implements \\code{any(is.na(x))} in a\n",
       "possibly faster way (especially for atomic vectors).\n",
       "\\end{Description}\n",
       "%\n",
       "\\begin{Usage}\n",
       "\\begin{verbatim}\n",
       "NA\n",
       "is.na(x)\n",
       "anyNA(x, recursive = FALSE)\n",
       "\n",
       "## S3 method for class 'data.frame'\n",
       "is.na(x)\n",
       "\n",
       "is.na(x) <- value\n",
       "\\end{verbatim}\n",
       "\\end{Usage}\n",
       "%\n",
       "\\begin{Arguments}\n",
       "\\begin{ldescription}\n",
       "\\item[\\code{x}] an \\R{} object to be tested: the default method for\n",
       "\\code{is.na} and \\code{anyNA} handle atomic vectors, lists,\n",
       "pairlists, and \\code{NULL}.\n",
       "\\item[\\code{recursive}] logical: should \\code{anyNA} be applied recursively\n",
       "to lists and pairlists?\n",
       "\\item[\\code{value}] a suitable index vector for use with \\code{x}.\n",
       "\\end{ldescription}\n",
       "\\end{Arguments}\n",
       "%\n",
       "\\begin{Details}\\relax\n",
       "The \\code{NA} of character type is distinct from the string\n",
       "\\code{\"NA\"}.  Programmers who need to specify an explicit missing\n",
       "string should use \\code{NA\\_character\\_} (rather than \\code{\"NA\"}) or set\n",
       "elements to \\code{NA} using \\code{is.na<-}.\n",
       "\n",
       "\\code{is.na} and \\code{anyNA} are generic: you can write\n",
       "methods to handle specific classes of objects, see\n",
       "\\LinkA{InternalMethods}{InternalMethods}.\n",
       "\n",
       "Function \\code{is.na<-} may provide a safer way to set missingness.\n",
       "It behaves differently for factors, for example.\n",
       "\n",
       "Numerical computations using \\code{NA} will normally result in\n",
       "\\code{NA}: a possible exception is where \\code{\\LinkA{NaN}{NaN}} is also\n",
       "involved, in which case either might result (which may depend on\n",
       "the \\R{} platform).  However, this is not guaranteed and future CPUs\n",
       "and/or compilers may behave differently. Dynamic binary translation may\n",
       "also impact this behavior (with valgrind, computations using \\code{NA}\n",
       "may result in \\code{NaN} even when no \\code{NaN} is involved).\n",
       "\n",
       "Logical computations treat \\code{NA} as a missing \\code{TRUE/FALSE}\n",
       "value, and so may return \\code{TRUE} or \\code{FALSE} if the expression\n",
       "does not depend on the \\code{NA} operand.\n",
       "\n",
       "The default method for \\code{anyNA} handles atomic vectors without a\n",
       "class and \\code{NULL}.  It calls \\code{any(is.na(x))} on objects with\n",
       "classes and for \\code{recursive = FALSE}, on lists and pairlists.\n",
       "\\end{Details}\n",
       "%\n",
       "\\begin{Value}\n",
       "The default method for \\code{is.na} applied to an atomic vector\n",
       "returns a logical vector of the same length as its argument \\code{x},\n",
       "containing \\code{TRUE} for those elements marked \\code{NA} or, for\n",
       "numeric or complex vectors, \\code{\\LinkA{NaN}{NaN}}, and \\code{FALSE}\n",
       "otherwise. (A complex value is regarded as \\code{NA} if either its\n",
       "real or imaginary part is \\code{NA} or \\code{\\LinkA{NaN}{NaN}}.)\n",
       "\\code{dim}, \\code{dimnames} and \\code{names} attributes are copied to\n",
       "the result.\n",
       "\n",
       "The default methods also work for lists and pairlists:\\\\{}\n",
       "For \\code{is.na}, elementwise the result is false unless that element\n",
       "is a length-one atomic vector and the single element of that vector is\n",
       "regarded as \\code{NA} or \\code{NaN} (note that any \\code{is.na}\n",
       "method for the class of the element is ignored).\\\\{}\n",
       "\\code{anyNA(recursive = FALSE)} works the same way as \\code{is.na};\n",
       "\\code{anyNA(recursive = TRUE)} applies \\code{anyNA} (with method\n",
       "dispatch) to each element.\n",
       "\n",
       "The data frame method for \\code{is.na} returns a logical matrix\n",
       "with the same dimensions as the data frame, and with dimnames taken\n",
       "from the row and column names of the data frame.\n",
       "\n",
       "\\code{anyNA(NULL)} is false; \\code{is.na(NULL)} is \\code{logical(0)}\n",
       "(no longer warning since \\R{} version 3.5.0).\n",
       "\\end{Value}\n",
       "%\n",
       "\\begin{References}\\relax\n",
       "Becker, R. A., Chambers, J. M. and Wilks, A. R. (1988)\n",
       "\\emph{The New S Language}.\n",
       "Wadsworth \\& Brooks/Cole.\n",
       "\n",
       "Chambers, J. M. (1998)\n",
       "\\emph{Programming with Data.  A Guide to the S Language}.\n",
       "Springer.\n",
       "\\end{References}\n",
       "%\n",
       "\\begin{SeeAlso}\\relax\n",
       "\\code{\\LinkA{NaN}{NaN}}, \\code{\\LinkA{is.nan}{is.nan}}, etc.,\n",
       "and the utility function \\code{\\LinkA{complete.cases}{complete.cases}}.\n",
       "\n",
       "\\code{\\LinkA{na.action}{na.action}}, \\code{\\LinkA{na.omit}{na.omit}}, \\code{\\LinkA{na.fail}{na.fail}}\n",
       "on how methods can be tuned to deal with missing values.\n",
       "\\end{SeeAlso}\n",
       "%\n",
       "\\begin{Examples}\n",
       "\\begin{ExampleCode}\n",
       "is.na(c(1, NA))        #> FALSE  TRUE\n",
       "is.na(paste(c(1, NA))) #> FALSE FALSE\n",
       "\n",
       "(xx <- c(0:4))\n",
       "is.na(xx) <- c(2, 4)\n",
       "xx                     #> 0 NA  2 NA  4\n",
       "anyNA(xx) # TRUE\n",
       "\n",
       "# Some logical operations do not return NA\n",
       "c(TRUE, FALSE) & NA\n",
       "c(TRUE, FALSE) | NA\n",
       "\n",
       "\n",
       "## Measure speed difference in a favourable case:\n",
       "## the difference depends on the platform, on most ca 3x.\n",
       "x <- 1:10000; x[5000] <- NaN  # coerces x to be double\n",
       "if(require(\"microbenchmark\")) { # does not work reliably on all platforms\n",
       "  print(microbenchmark(any(is.na(x)), anyNA(x)))\n",
       "} else {\n",
       "  nSim <- 2^13\n",
       "  print(rbind(is.na = system.time(replicate(nSim, any(is.na(x)))),\n",
       "              anyNA = system.time(replicate(nSim, anyNA(x)))))\n",
       "}\n",
       "\n",
       "\n",
       "## anyNA() can work recursively with list()s:\n",
       "LL <- list(1:5, c(NA, 5:8), c(\"A\",\"NA\"), c(\"a\", NA_character_))\n",
       "L2 <- LL[c(1,3)]\n",
       "sapply(LL, anyNA); c(anyNA(LL), anyNA(LL, TRUE))\n",
       "sapply(L2, anyNA); c(anyNA(L2), anyNA(L2, TRUE))\n",
       "\n",
       "## ... lists, and hence data frames, too:\n",
       "dN <- dd <- USJudgeRatings; dN[3,6] <- NA\n",
       "anyNA(dd) # FALSE\n",
       "anyNA(dN) # TRUE\n",
       "\\end{ExampleCode}\n",
       "\\end{Examples}"
      ],
      "text/plain": [
       "NA                    package:base                     R Documentation\n",
       "\n",
       "'_\bN_\bo_\bt _\bA_\bv_\ba_\bi_\bl_\ba_\bb_\bl_\be' / _\bM_\bi_\bs_\bs_\bi_\bn_\bg _\bV_\ba_\bl_\bu_\be_\bs\n",
       "\n",
       "_\bD_\be_\bs_\bc_\br_\bi_\bp_\bt_\bi_\bo_\bn:\n",
       "\n",
       "     ‘NA’ is a logical constant of length 1 which contains a missing\n",
       "     value indicator.  ‘NA’ can be coerced to any other vector type\n",
       "     except raw.  There are also constants ‘NA_integer_’, ‘NA_real_’,\n",
       "     ‘NA_complex_’ and ‘NA_character_’ of the other atomic vector types\n",
       "     which support missing values: all of these are reserved words in\n",
       "     the R language.\n",
       "\n",
       "     The generic function ‘is.na’ indicates which elements are missing.\n",
       "\n",
       "     The generic function ‘is.na<-’ sets elements to ‘NA’.\n",
       "\n",
       "     The generic function ‘anyNA’ implements ‘any(is.na(x))’ in a\n",
       "     possibly faster way (especially for atomic vectors).\n",
       "\n",
       "_\bU_\bs_\ba_\bg_\be:\n",
       "\n",
       "     NA\n",
       "     is.na(x)\n",
       "     anyNA(x, recursive = FALSE)\n",
       "     \n",
       "     ## S3 method for class 'data.frame'\n",
       "     is.na(x)\n",
       "     \n",
       "     is.na(x) <- value\n",
       "     \n",
       "_\bA_\br_\bg_\bu_\bm_\be_\bn_\bt_\bs:\n",
       "\n",
       "       x: an R object to be tested: the default method for ‘is.na’ and\n",
       "          ‘anyNA’ handle atomic vectors, lists, pairlists, and ‘NULL’.\n",
       "\n",
       "recursive: logical: should ‘anyNA’ be applied recursively to lists and\n",
       "          pairlists?\n",
       "\n",
       "   value: a suitable index vector for use with ‘x’.\n",
       "\n",
       "_\bD_\be_\bt_\ba_\bi_\bl_\bs:\n",
       "\n",
       "     The ‘NA’ of character type is distinct from the string ‘\"NA\"’.\n",
       "     Programmers who need to specify an explicit missing string should\n",
       "     use ‘NA_character_’ (rather than ‘\"NA\"’) or set elements to ‘NA’\n",
       "     using ‘is.na<-’.\n",
       "\n",
       "     ‘is.na’ and ‘anyNA’ are generic: you can write methods to handle\n",
       "     specific classes of objects, see InternalMethods.\n",
       "\n",
       "     Function ‘is.na<-’ may provide a safer way to set missingness.  It\n",
       "     behaves differently for factors, for example.\n",
       "\n",
       "     Numerical computations using ‘NA’ will normally result in ‘NA’: a\n",
       "     possible exception is where ‘NaN’ is also involved, in which case\n",
       "     either might result (which may depend on the R platform).\n",
       "     However, this is not guaranteed and future CPUs and/or compilers\n",
       "     may behave differently. Dynamic binary translation may also impact\n",
       "     this behavior (with valgrind, computations using ‘NA’ may result\n",
       "     in ‘NaN’ even when no ‘NaN’ is involved).\n",
       "\n",
       "     Logical computations treat ‘NA’ as a missing ‘TRUE/FALSE’ value,\n",
       "     and so may return ‘TRUE’ or ‘FALSE’ if the expression does not\n",
       "     depend on the ‘NA’ operand.\n",
       "\n",
       "     The default method for ‘anyNA’ handles atomic vectors without a\n",
       "     class and ‘NULL’.  It calls ‘any(is.na(x))’ on objects with\n",
       "     classes and for ‘recursive = FALSE’, on lists and pairlists.\n",
       "\n",
       "_\bV_\ba_\bl_\bu_\be:\n",
       "\n",
       "     The default method for ‘is.na’ applied to an atomic vector returns\n",
       "     a logical vector of the same length as its argument ‘x’,\n",
       "     containing ‘TRUE’ for those elements marked ‘NA’ or, for numeric\n",
       "     or complex vectors, ‘NaN’, and ‘FALSE’ otherwise. (A complex value\n",
       "     is regarded as ‘NA’ if either its real or imaginary part is ‘NA’\n",
       "     or ‘NaN’.)  ‘dim’, ‘dimnames’ and ‘names’ attributes are copied to\n",
       "     the result.\n",
       "\n",
       "     The default methods also work for lists and pairlists:\n",
       "     For ‘is.na’, elementwise the result is false unless that element\n",
       "     is a length-one atomic vector and the single element of that\n",
       "     vector is regarded as ‘NA’ or ‘NaN’ (note that any ‘is.na’ method\n",
       "     for the class of the element is ignored).\n",
       "     ‘anyNA(recursive = FALSE)’ works the same way as ‘is.na’;\n",
       "     ‘anyNA(recursive = TRUE)’ applies ‘anyNA’ (with method dispatch)\n",
       "     to each element.\n",
       "\n",
       "     The data frame method for ‘is.na’ returns a logical matrix with\n",
       "     the same dimensions as the data frame, and with dimnames taken\n",
       "     from the row and column names of the data frame.\n",
       "\n",
       "     ‘anyNA(NULL)’ is false; ‘is.na(NULL)’ is ‘logical(0)’ (no longer\n",
       "     warning since R version 3.5.0).\n",
       "\n",
       "_\bR_\be_\bf_\be_\br_\be_\bn_\bc_\be_\bs:\n",
       "\n",
       "     Becker, R. A., Chambers, J. M. and Wilks, A. R. (1988) _The New S\n",
       "     Language_.  Wadsworth & Brooks/Cole.\n",
       "\n",
       "     Chambers, J. M. (1998) _Programming with Data.  A Guide to the S\n",
       "     Language_.  Springer.\n",
       "\n",
       "_\bS_\be_\be _\bA_\bl_\bs_\bo:\n",
       "\n",
       "     ‘NaN’, ‘is.nan’, etc., and the utility function ‘complete.cases’.\n",
       "\n",
       "     ‘na.action’, ‘na.omit’, ‘na.fail’ on how methods can be tuned to\n",
       "     deal with missing values.\n",
       "\n",
       "_\bE_\bx_\ba_\bm_\bp_\bl_\be_\bs:\n",
       "\n",
       "     is.na(c(1, NA))        #> FALSE  TRUE\n",
       "     is.na(paste(c(1, NA))) #> FALSE FALSE\n",
       "     \n",
       "     (xx <- c(0:4))\n",
       "     is.na(xx) <- c(2, 4)\n",
       "     xx                     #> 0 NA  2 NA  4\n",
       "     anyNA(xx) # TRUE\n",
       "     \n",
       "     # Some logical operations do not return NA\n",
       "     c(TRUE, FALSE) & NA\n",
       "     c(TRUE, FALSE) | NA\n",
       "     \n",
       "     \n",
       "     ## Measure speed difference in a favourable case:\n",
       "     ## the difference depends on the platform, on most ca 3x.\n",
       "     x <- 1:10000; x[5000] <- NaN  # coerces x to be double\n",
       "     if(require(\"microbenchmark\")) { # does not work reliably on all platforms\n",
       "       print(microbenchmark(any(is.na(x)), anyNA(x)))\n",
       "     } else {\n",
       "       nSim <- 2^13\n",
       "       print(rbind(is.na = system.time(replicate(nSim, any(is.na(x)))),\n",
       "                   anyNA = system.time(replicate(nSim, anyNA(x)))))\n",
       "     }\n",
       "     \n",
       "     \n",
       "     ## anyNA() can work recursively with list()s:\n",
       "     LL <- list(1:5, c(NA, 5:8), c(\"A\",\"NA\"), c(\"a\", NA_character_))\n",
       "     L2 <- LL[c(1,3)]\n",
       "     sapply(LL, anyNA); c(anyNA(LL), anyNA(LL, TRUE))\n",
       "     sapply(L2, anyNA); c(anyNA(L2), anyNA(L2, TRUE))\n",
       "     \n",
       "     ## ... lists, and hence data frames, too:\n",
       "     dN <- dd <- USJudgeRatings; dN[3,6] <- NA\n",
       "     anyNA(dd) # FALSE\n",
       "     anyNA(dN) # TRUE\n",
       "     "
      ]
     },
     "metadata": {},
     "output_type": "display_data"
    }
   ],
   "source": [
    "# ?NA"
   ]
  },
  {
   "cell_type": "markdown",
   "id": "4cb1cd9b",
   "metadata": {},
   "source": [
    "# Operadores aritméticos"
   ]
  },
  {
   "cell_type": "code",
   "execution_count": 25,
   "id": "61e32174",
   "metadata": {
    "vscode": {
     "languageId": "r"
    }
   },
   "outputs": [
    {
     "data": {
      "text/html": [
       "6"
      ],
      "text/latex": [
       "6"
      ],
      "text/markdown": [
       "6"
      ],
      "text/plain": [
       "[1] 6"
      ]
     },
     "metadata": {},
     "output_type": "display_data"
    }
   ],
   "source": [
    "1 + 5"
   ]
  },
  {
   "cell_type": "code",
   "execution_count": 26,
   "id": "63b1ff97",
   "metadata": {
    "vscode": {
     "languageId": "r"
    }
   },
   "outputs": [
    {
     "data": {
      "text/html": [
       "1"
      ],
      "text/latex": [
       "1"
      ],
      "text/markdown": [
       "1"
      ],
      "text/plain": [
       "[1] 1"
      ]
     },
     "metadata": {},
     "output_type": "display_data"
    }
   ],
   "source": [
    "5 - 4"
   ]
  },
  {
   "cell_type": "code",
   "execution_count": 27,
   "id": "6d94bdfe",
   "metadata": {
    "vscode": {
     "languageId": "r"
    }
   },
   "outputs": [
    {
     "data": {
      "text/html": [
       "6.3"
      ],
      "text/latex": [
       "6.3"
      ],
      "text/markdown": [
       "6.3"
      ],
      "text/plain": [
       "[1] 6.3"
      ]
     },
     "metadata": {},
     "output_type": "display_data"
    }
   ],
   "source": [
    "3 * 2.1"
   ]
  },
  {
   "cell_type": "code",
   "execution_count": 28,
   "id": "e770d4f1",
   "metadata": {
    "vscode": {
     "languageId": "r"
    }
   },
   "outputs": [
    {
     "data": {
      "text/html": [
       "-1.62790697674419"
      ],
      "text/latex": [
       "-1.62790697674419"
      ],
      "text/markdown": [
       "-1.62790697674419"
      ],
      "text/plain": [
       "[1] -1.627907"
      ]
     },
     "metadata": {},
     "output_type": "display_data"
    }
   ],
   "source": [
    "7 / (-4.3)"
   ]
  },
  {
   "cell_type": "code",
   "execution_count": 53,
   "id": "10d2b1b9",
   "metadata": {
    "vscode": {
     "languageId": "r"
    }
   },
   "outputs": [
    {
     "data": {
      "text/html": [
       "8"
      ],
      "text/latex": [
       "8"
      ],
      "text/markdown": [
       "8"
      ],
      "text/plain": [
       "[1] 8"
      ]
     },
     "metadata": {},
     "output_type": "display_data"
    }
   ],
   "source": [
    "2 ^ 3"
   ]
  },
  {
   "cell_type": "code",
   "execution_count": 30,
   "id": "ac401a64",
   "metadata": {
    "vscode": {
     "languageId": "r"
    }
   },
   "outputs": [
    {
     "data": {
      "text/html": [
       "0.707106781186548"
      ],
      "text/latex": [
       "0.707106781186548"
      ],
      "text/markdown": [
       "0.707106781186548"
      ],
      "text/plain": [
       "[1] 0.7071068"
      ]
     },
     "metadata": {},
     "output_type": "display_data"
    }
   ],
   "source": [
    "2 ** (-1/2) # Igual que ^"
   ]
  },
  {
   "cell_type": "code",
   "execution_count": 31,
   "id": "70aebe0c",
   "metadata": {
    "vscode": {
     "languageId": "r"
    }
   },
   "outputs": [
    {
     "data": {
      "text/html": [
       "1"
      ],
      "text/latex": [
       "1"
      ],
      "text/markdown": [
       "1"
      ],
      "text/plain": [
       "[1] 1"
      ]
     },
     "metadata": {},
     "output_type": "display_data"
    }
   ],
   "source": [
    "4 %% 3"
   ]
  },
  {
   "cell_type": "code",
   "execution_count": 32,
   "id": "0e87589f",
   "metadata": {
    "vscode": {
     "languageId": "r"
    }
   },
   "outputs": [
    {
     "data": {
      "text/html": [
       "1"
      ],
      "text/latex": [
       "1"
      ],
      "text/markdown": [
       "1"
      ],
      "text/plain": [
       "[1] 1"
      ]
     },
     "metadata": {},
     "output_type": "display_data"
    }
   ],
   "source": [
    "3 %/% 2"
   ]
  },
  {
   "cell_type": "markdown",
   "id": "b0885c79",
   "metadata": {},
   "source": [
    "# Operadores lógicos"
   ]
  },
  {
   "cell_type": "code",
   "execution_count": 34,
   "id": "8010407b",
   "metadata": {
    "vscode": {
     "languageId": "r"
    }
   },
   "outputs": [
    {
     "data": {
      "text/html": [
       "TRUE"
      ],
      "text/latex": [
       "TRUE"
      ],
      "text/markdown": [
       "TRUE"
      ],
      "text/plain": [
       "[1] TRUE"
      ]
     },
     "metadata": {},
     "output_type": "display_data"
    }
   ],
   "source": [
    "1 < 9.5"
   ]
  },
  {
   "cell_type": "code",
   "execution_count": 35,
   "id": "a531158a",
   "metadata": {
    "vscode": {
     "languageId": "r"
    }
   },
   "outputs": [
    {
     "data": {
      "text/html": [
       "FALSE"
      ],
      "text/latex": [
       "FALSE"
      ],
      "text/markdown": [
       "FALSE"
      ],
      "text/plain": [
       "[1] FALSE"
      ]
     },
     "metadata": {},
     "output_type": "display_data"
    }
   ],
   "source": [
    "2.7 <= -5.3"
   ]
  },
  {
   "cell_type": "code",
   "execution_count": 36,
   "id": "8e323913",
   "metadata": {
    "vscode": {
     "languageId": "r"
    }
   },
   "outputs": [
    {
     "data": {
      "text/html": [
       "TRUE"
      ],
      "text/latex": [
       "TRUE"
      ],
      "text/markdown": [
       "TRUE"
      ],
      "text/plain": [
       "[1] TRUE"
      ]
     },
     "metadata": {},
     "output_type": "display_data"
    }
   ],
   "source": [
    "4.9 > 2"
   ]
  },
  {
   "cell_type": "code",
   "execution_count": 37,
   "id": "838f208e",
   "metadata": {
    "vscode": {
     "languageId": "r"
    }
   },
   "outputs": [
    {
     "data": {
      "text/html": [
       "TRUE"
      ],
      "text/latex": [
       "TRUE"
      ],
      "text/markdown": [
       "TRUE"
      ],
      "text/plain": [
       "[1] TRUE"
      ]
     },
     "metadata": {},
     "output_type": "display_data"
    }
   ],
   "source": [
    "4.9 >= 3"
   ]
  },
  {
   "cell_type": "code",
   "execution_count": 38,
   "id": "55e7360c",
   "metadata": {
    "vscode": {
     "languageId": "r"
    }
   },
   "outputs": [
    {
     "data": {
      "text/html": [
       "TRUE"
      ],
      "text/latex": [
       "TRUE"
      ],
      "text/markdown": [
       "TRUE"
      ],
      "text/plain": [
       "[1] TRUE"
      ]
     },
     "metadata": {},
     "output_type": "display_data"
    }
   ],
   "source": [
    "5 == 5"
   ]
  },
  {
   "cell_type": "code",
   "execution_count": 39,
   "id": "97409b4e",
   "metadata": {
    "vscode": {
     "languageId": "r"
    }
   },
   "outputs": [
    {
     "data": {
      "text/html": [
       "FALSE"
      ],
      "text/latex": [
       "FALSE"
      ],
      "text/markdown": [
       "FALSE"
      ],
      "text/plain": [
       "[1] FALSE"
      ]
     },
     "metadata": {},
     "output_type": "display_data"
    }
   ],
   "source": [
    "5 != 5"
   ]
  },
  {
   "cell_type": "code",
   "execution_count": 40,
   "id": "d27ad470",
   "metadata": {
    "vscode": {
     "languageId": "r"
    }
   },
   "outputs": [
    {
     "data": {
      "text/html": [
       "FALSE"
      ],
      "text/latex": [
       "FALSE"
      ],
      "text/markdown": [
       "FALSE"
      ],
      "text/plain": [
       "[1] FALSE"
      ]
     },
     "metadata": {},
     "output_type": "display_data"
    }
   ],
   "source": [
    "!(5 == 5)"
   ]
  },
  {
   "cell_type": "code",
   "execution_count": 41,
   "id": "a5675cc3",
   "metadata": {
    "vscode": {
     "languageId": "r"
    }
   },
   "outputs": [
    {
     "data": {
      "text/html": [
       "TRUE"
      ],
      "text/latex": [
       "TRUE"
      ],
      "text/markdown": [
       "TRUE"
      ],
      "text/plain": [
       "[1] TRUE"
      ]
     },
     "metadata": {},
     "output_type": "display_data"
    }
   ],
   "source": [
    "(5 == 5) | (5 != 5)"
   ]
  },
  {
   "cell_type": "code",
   "execution_count": 42,
   "id": "ace5a61e",
   "metadata": {
    "vscode": {
     "languageId": "r"
    }
   },
   "outputs": [
    {
     "data": {
      "text/html": [
       "FALSE"
      ],
      "text/latex": [
       "FALSE"
      ],
      "text/markdown": [
       "FALSE"
      ],
      "text/plain": [
       "[1] FALSE"
      ]
     },
     "metadata": {},
     "output_type": "display_data"
    }
   ],
   "source": [
    "(5 == 5) & (5 != 5)"
   ]
  },
  {
   "cell_type": "code",
   "execution_count": 43,
   "id": "57c56917",
   "metadata": {
    "vscode": {
     "languageId": "r"
    }
   },
   "outputs": [
    {
     "data": {
      "text/html": [
       "TRUE"
      ],
      "text/latex": [
       "TRUE"
      ],
      "text/markdown": [
       "TRUE"
      ],
      "text/plain": [
       "[1] TRUE"
      ]
     },
     "metadata": {},
     "output_type": "display_data"
    }
   ],
   "source": [
    "1 == TRUE"
   ]
  },
  {
   "cell_type": "code",
   "execution_count": 44,
   "id": "3cf91701",
   "metadata": {
    "vscode": {
     "languageId": "r"
    }
   },
   "outputs": [
    {
     "data": {
      "text/html": [
       "TRUE"
      ],
      "text/latex": [
       "TRUE"
      ],
      "text/markdown": [
       "TRUE"
      ],
      "text/plain": [
       "[1] TRUE"
      ]
     },
     "metadata": {},
     "output_type": "display_data"
    }
   ],
   "source": [
    "0 == FALSE"
   ]
  },
  {
   "cell_type": "code",
   "execution_count": 51,
   "id": "6ad1a6c4",
   "metadata": {
    "vscode": {
     "languageId": "r"
    }
   },
   "outputs": [
    {
     "name": "stdout",
     "output_type": "stream",
     "text": [
      "[1] FALSE\n"
     ]
    }
   ],
   "source": [
    "7 == TRUE"
   ]
  },
  {
   "cell_type": "code",
   "execution_count": 192,
   "id": "336f7998-e40c-4cb2-a120-50ea5120f3fe",
   "metadata": {
    "vscode": {
     "languageId": "r"
    }
   },
   "outputs": [
    {
     "data": {
      "text/html": [
       "TRUE"
      ],
      "text/latex": [
       "TRUE"
      ],
      "text/markdown": [
       "TRUE"
      ],
      "text/plain": [
       "[1] TRUE"
      ]
     },
     "metadata": {},
     "output_type": "display_data"
    }
   ],
   "source": [
    "as.logical(7) # WTF?"
   ]
  },
  {
   "cell_type": "markdown",
   "id": "f9084901",
   "metadata": {},
   "source": [
    "# Vectores\n",
    "La funcion `c()` se usa para crear vectores"
   ]
  },
  {
   "cell_type": "code",
   "execution_count": 54,
   "id": "0f80cf17-e7bc-4943-947c-eb02f436ff2e",
   "metadata": {
    "vscode": {
     "languageId": "r"
    }
   },
   "outputs": [
    {
     "data": {
      "text/html": [
       "<style>\n",
       ".list-inline {list-style: none; margin:0; padding: 0}\n",
       ".list-inline>li {display: inline-block}\n",
       ".list-inline>li:not(:last-child)::after {content: \"\\00b7\"; padding: 0 .5ex}\n",
       "</style>\n",
       "<ol class=list-inline><li>1</li><li>5</li><li>8</li></ol>\n"
      ],
      "text/latex": [
       "\\begin{enumerate*}\n",
       "\\item 1\n",
       "\\item 5\n",
       "\\item 8\n",
       "\\end{enumerate*}\n"
      ],
      "text/markdown": [
       "1. 1\n",
       "2. 5\n",
       "3. 8\n",
       "\n",
       "\n"
      ],
      "text/plain": [
       "[1] 1 5 8"
      ]
     },
     "metadata": {},
     "output_type": "display_data"
    }
   ],
   "source": [
    "c(1,5,8)"
   ]
  },
  {
   "cell_type": "code",
   "execution_count": 49,
   "id": "6f4b0c64",
   "metadata": {
    "vscode": {
     "languageId": "r"
    }
   },
   "outputs": [
    {
     "name": "stdout",
     "output_type": "stream",
     "text": [
      "[1] 1 5 8\n"
     ]
    }
   ],
   "source": [
    "print(c(1,5,8))"
   ]
  },
  {
   "cell_type": "code",
   "execution_count": 50,
   "id": "875a09c5",
   "metadata": {
    "vscode": {
     "languageId": "r"
    }
   },
   "outputs": [
    {
     "data": {
      "text/html": [
       "'numeric'"
      ],
      "text/latex": [
       "'numeric'"
      ],
      "text/markdown": [
       "'numeric'"
      ],
      "text/plain": [
       "[1] \"numeric\""
      ]
     },
     "metadata": {},
     "output_type": "display_data"
    }
   ],
   "source": [
    "class(c(1,5,8))"
   ]
  },
  {
   "cell_type": "code",
   "execution_count": 55,
   "id": "94207ce1",
   "metadata": {
    "vscode": {
     "languageId": "r"
    }
   },
   "outputs": [
    {
     "name": "stdout",
     "output_type": "stream",
     "text": [
      "[1] -1.0  5.5  8.0\n"
     ]
    }
   ],
   "source": [
    "print(c(-1,5.5,8))"
   ]
  },
  {
   "cell_type": "code",
   "execution_count": 56,
   "id": "9c52dec8",
   "metadata": {
    "vscode": {
     "languageId": "r"
    }
   },
   "outputs": [
    {
     "name": "stdout",
     "output_type": "stream",
     "text": [
      "[1]  1.5+0i  5.0+0i -8.5+0i  0.0+5i\n"
     ]
    }
   ],
   "source": [
    "print(c(1.5,5,-8.5,5i))"
   ]
  },
  {
   "cell_type": "code",
   "execution_count": 57,
   "id": "19affa15",
   "metadata": {
    "vscode": {
     "languageId": "r"
    }
   },
   "outputs": [
    {
     "data": {
      "text/html": [
       "'complex'"
      ],
      "text/latex": [
       "'complex'"
      ],
      "text/markdown": [
       "'complex'"
      ],
      "text/plain": [
       "[1] \"complex\""
      ]
     },
     "metadata": {},
     "output_type": "display_data"
    }
   ],
   "source": [
    "class(c(1.5,5,-8.5,5i))"
   ]
  },
  {
   "cell_type": "code",
   "execution_count": 58,
   "id": "5586a251",
   "metadata": {
    "vscode": {
     "languageId": "r"
    }
   },
   "outputs": [
    {
     "name": "stdout",
     "output_type": "stream",
     "text": [
      "[1] \"hola\"  \"adios\"\n"
     ]
    }
   ],
   "source": [
    "print(c(\"hola\", \"adios\"))"
   ]
  },
  {
   "cell_type": "code",
   "execution_count": 59,
   "id": "887c0b1f",
   "metadata": {
    "vscode": {
     "languageId": "r"
    }
   },
   "outputs": [
    {
     "name": "stdout",
     "output_type": "stream",
     "text": [
      "[1] \"hola\" \"7\"   \n"
     ]
    }
   ],
   "source": [
    "print(c(\"hola\", 7))"
   ]
  },
  {
   "cell_type": "code",
   "execution_count": 60,
   "id": "a515c5bf",
   "metadata": {
    "vscode": {
     "languageId": "r"
    }
   },
   "outputs": [
    {
     "name": "stdout",
     "output_type": "stream",
     "text": [
      "[1]  TRUE FALSE  TRUE\n"
     ]
    }
   ],
   "source": [
    "print(c(TRUE, FALSE, TRUE))"
   ]
  },
  {
   "cell_type": "code",
   "execution_count": 61,
   "id": "3dae2575",
   "metadata": {
    "vscode": {
     "languageId": "r"
    }
   },
   "outputs": [
    {
     "name": "stdout",
     "output_type": "stream",
     "text": [
      "[1]  TRUE FALSE  TRUE\n"
     ]
    }
   ],
   "source": [
    "print(c(T, F, T)) # Ojo cuidado!"
   ]
  },
  {
   "cell_type": "code",
   "execution_count": 62,
   "id": "03ab24eb",
   "metadata": {
    "vscode": {
     "languageId": "r"
    }
   },
   "outputs": [
    {
     "name": "stdout",
     "output_type": "stream",
     "text": [
      "[1] 1 0 1\n"
     ]
    }
   ],
   "source": [
    "print(c(TRUE, 0, TRUE))"
   ]
  },
  {
   "cell_type": "code",
   "execution_count": 63,
   "id": "67f9d077",
   "metadata": {
    "vscode": {
     "languageId": "r"
    }
   },
   "outputs": [
    {
     "name": "stdout",
     "output_type": "stream",
     "text": [
      "[1]  TRUE FALSE  TRUE\n"
     ]
    }
   ],
   "source": [
    "print(as.logical(c(TRUE, 0, TRUE)))"
   ]
  },
  {
   "cell_type": "code",
   "execution_count": 64,
   "id": "d11f88d2",
   "metadata": {
    "vscode": {
     "languageId": "r"
    }
   },
   "outputs": [
    {
     "name": "stdout",
     "output_type": "stream",
     "text": [
      "[1] \"3\" \"4\" \"5\"\n"
     ]
    }
   ],
   "source": [
    "print(as.character(c(3,4,5)))"
   ]
  },
  {
   "cell_type": "code",
   "execution_count": 65,
   "id": "874c69c8",
   "metadata": {
    "vscode": {
     "languageId": "r"
    }
   },
   "outputs": [
    {
     "data": {
      "text/html": [
       "TRUE"
      ],
      "text/latex": [
       "TRUE"
      ],
      "text/markdown": [
       "TRUE"
      ],
      "text/plain": [
       "[1] TRUE"
      ]
     },
     "metadata": {},
     "output_type": "display_data"
    }
   ],
   "source": [
    "is.character(as.character(c(3,4,5)))"
   ]
  },
  {
   "cell_type": "code",
   "execution_count": 66,
   "id": "c7e70a7c",
   "metadata": {
    "vscode": {
     "languageId": "r"
    }
   },
   "outputs": [
    {
     "data": {
      "text/html": [
       "FALSE"
      ],
      "text/latex": [
       "FALSE"
      ],
      "text/markdown": [
       "FALSE"
      ],
      "text/plain": [
       "[1] FALSE"
      ]
     },
     "metadata": {},
     "output_type": "display_data"
    }
   ],
   "source": [
    "is.character(c(3,4,5))"
   ]
  },
  {
   "cell_type": "markdown",
   "id": "a21eff8f",
   "metadata": {},
   "source": [
    "Se pueden crear vectores dando un rango de valores usando `:`"
   ]
  },
  {
   "cell_type": "code",
   "execution_count": 67,
   "id": "3e79e793",
   "metadata": {
    "vscode": {
     "languageId": "r"
    }
   },
   "outputs": [
    {
     "name": "stdout",
     "output_type": "stream",
     "text": [
      "[1] 1 2 3 4\n"
     ]
    }
   ],
   "source": [
    "print(1:4)"
   ]
  },
  {
   "cell_type": "code",
   "execution_count": 68,
   "id": "71423047",
   "metadata": {
    "vscode": {
     "languageId": "r"
    }
   },
   "outputs": [
    {
     "name": "stdout",
     "output_type": "stream",
     "text": [
      "[1] 4 3 2 1\n"
     ]
    }
   ],
   "source": [
    "print(4:1)"
   ]
  },
  {
   "cell_type": "code",
   "execution_count": 69,
   "id": "ffb4ec8d",
   "metadata": {
    "vscode": {
     "languageId": "r"
    }
   },
   "outputs": [
    {
     "name": "stdout",
     "output_type": "stream",
     "text": [
      "[1] 1.1 2.1 3.1 4.1 5.1 6.1\n"
     ]
    }
   ],
   "source": [
    "print(1.1:6.9)"
   ]
  },
  {
   "cell_type": "code",
   "execution_count": 70,
   "id": "7c2daaef",
   "metadata": {
    "vscode": {
     "languageId": "r"
    }
   },
   "outputs": [
    {
     "name": "stdout",
     "output_type": "stream",
     "text": [
      "[1] -1  0  1  2  3  4  5\n"
     ]
    }
   ],
   "source": [
    "print(-1:5)"
   ]
  },
  {
   "cell_type": "code",
   "execution_count": 71,
   "id": "79e3a2e9",
   "metadata": {
    "vscode": {
     "languageId": "r"
    }
   },
   "outputs": [
    {
     "name": "stdout",
     "output_type": "stream",
     "text": [
      " [1] 0 0 0 0 0 0 0 0 0 0\n"
     ]
    }
   ],
   "source": [
    "print(vector(\"numeric\", length = 10))"
   ]
  },
  {
   "cell_type": "code",
   "execution_count": 72,
   "id": "76a208c8",
   "metadata": {
    "vscode": {
     "languageId": "r"
    }
   },
   "outputs": [
    {
     "name": "stdout",
     "output_type": "stream",
     "text": [
      " [1] FALSE FALSE FALSE FALSE FALSE FALSE FALSE FALSE FALSE FALSE\n"
     ]
    }
   ],
   "source": [
    "print(vector(\"logical\", length = 10))"
   ]
  },
  {
   "cell_type": "markdown",
   "id": "18702cae",
   "metadata": {},
   "source": [
    "<i>Atención que se vienen curvas...</i>"
   ]
  },
  {
   "cell_type": "code",
   "execution_count": 73,
   "id": "5df4661a",
   "metadata": {
    "vscode": {
     "languageId": "r"
    }
   },
   "outputs": [
    {
     "name": "stdout",
     "output_type": "stream",
     "text": [
      "[1] 5 7 9\n"
     ]
    }
   ],
   "source": [
    "print(1:3 + 4:6)"
   ]
  },
  {
   "cell_type": "code",
   "execution_count": 74,
   "id": "7f0adc76",
   "metadata": {
    "vscode": {
     "languageId": "r"
    }
   },
   "outputs": [
    {
     "name": "stderr",
     "output_type": "stream",
     "text": [
      "Warning message in 1:3 + 4:7:\n",
      "“longitud de objeto mayor no es múltiplo de la longitud de uno menor”\n"
     ]
    },
    {
     "name": "stdout",
     "output_type": "stream",
     "text": [
      "[1] 5 7 9 8\n"
     ]
    }
   ],
   "source": [
    "print(1:3 + 4:7) # Warning! Recycling Rule"
   ]
  },
  {
   "cell_type": "code",
   "execution_count": 75,
   "id": "edd5c9b6",
   "metadata": {
    "vscode": {
     "languageId": "r"
    }
   },
   "outputs": [
    {
     "name": "stdout",
     "output_type": "stream",
     "text": [
      "[1]  4 10 18\n"
     ]
    }
   ],
   "source": [
    "print(1:3 * 4:6)"
   ]
  },
  {
   "cell_type": "code",
   "execution_count": 76,
   "id": "03da9c2d",
   "metadata": {
    "vscode": {
     "languageId": "r"
    }
   },
   "outputs": [
    {
     "name": "stdout",
     "output_type": "stream",
     "text": [
      "[1] -3 -3 -3\n"
     ]
    }
   ],
   "source": [
    "print(1:3 - 4:6)"
   ]
  },
  {
   "cell_type": "code",
   "execution_count": 77,
   "id": "08b2786c",
   "metadata": {
    "vscode": {
     "languageId": "r"
    }
   },
   "outputs": [
    {
     "name": "stdout",
     "output_type": "stream",
     "text": [
      "[1] 0.25 0.40 0.50\n"
     ]
    }
   ],
   "source": [
    "print(1:3 / 4:6)"
   ]
  },
  {
   "cell_type": "code",
   "execution_count": 78,
   "id": "e9d946b5",
   "metadata": {
    "vscode": {
     "languageId": "r"
    }
   },
   "outputs": [
    {
     "data": {
      "text/html": [
       "<style>\n",
       ".list-inline {list-style: none; margin:0; padding: 0}\n",
       ".list-inline>li {display: inline-block}\n",
       ".list-inline>li:not(:last-child)::after {content: \"\\00b7\"; padding: 0 .5ex}\n",
       "</style>\n",
       "<ol class=list-inline><li>FALSE</li><li>FALSE</li><li>FALSE</li></ol>\n"
      ],
      "text/latex": [
       "\\begin{enumerate*}\n",
       "\\item FALSE\n",
       "\\item FALSE\n",
       "\\item FALSE\n",
       "\\end{enumerate*}\n"
      ],
      "text/markdown": [
       "1. FALSE\n",
       "2. FALSE\n",
       "3. FALSE\n",
       "\n",
       "\n"
      ],
      "text/plain": [
       "[1] FALSE FALSE FALSE"
      ]
     },
     "metadata": {},
     "output_type": "display_data"
    }
   ],
   "source": [
    "1:3 == 4:6"
   ]
  },
  {
   "cell_type": "code",
   "execution_count": 79,
   "id": "89595d74",
   "metadata": {
    "vscode": {
     "languageId": "r"
    }
   },
   "outputs": [
    {
     "data": {
      "text/html": [
       "<style>\n",
       ".list-inline {list-style: none; margin:0; padding: 0}\n",
       ".list-inline>li {display: inline-block}\n",
       ".list-inline>li:not(:last-child)::after {content: \"\\00b7\"; padding: 0 .5ex}\n",
       "</style>\n",
       "<ol class=list-inline><li>TRUE</li><li>TRUE</li><li>TRUE</li></ol>\n"
      ],
      "text/latex": [
       "\\begin{enumerate*}\n",
       "\\item TRUE\n",
       "\\item TRUE\n",
       "\\item TRUE\n",
       "\\end{enumerate*}\n"
      ],
      "text/markdown": [
       "1. TRUE\n",
       "2. TRUE\n",
       "3. TRUE\n",
       "\n",
       "\n"
      ],
      "text/plain": [
       "[1] TRUE TRUE TRUE"
      ]
     },
     "metadata": {},
     "output_type": "display_data"
    }
   ],
   "source": [
    "1:3 != 4:6"
   ]
  },
  {
   "cell_type": "code",
   "execution_count": 80,
   "id": "897ee3db",
   "metadata": {
    "vscode": {
     "languageId": "r"
    }
   },
   "outputs": [
    {
     "data": {
      "text/html": [
       "<style>\n",
       ".list-inline {list-style: none; margin:0; padding: 0}\n",
       ".list-inline>li {display: inline-block}\n",
       ".list-inline>li:not(:last-child)::after {content: \"\\00b7\"; padding: 0 .5ex}\n",
       "</style>\n",
       "<ol class=list-inline><li>TRUE</li><li>TRUE</li><li>TRUE</li></ol>\n"
      ],
      "text/latex": [
       "\\begin{enumerate*}\n",
       "\\item TRUE\n",
       "\\item TRUE\n",
       "\\item TRUE\n",
       "\\end{enumerate*}\n"
      ],
      "text/markdown": [
       "1. TRUE\n",
       "2. TRUE\n",
       "3. TRUE\n",
       "\n",
       "\n"
      ],
      "text/plain": [
       "[1] TRUE TRUE TRUE"
      ]
     },
     "metadata": {},
     "output_type": "display_data"
    }
   ],
   "source": [
    "1:3 < 4:6"
   ]
  },
  {
   "cell_type": "code",
   "execution_count": 81,
   "id": "004f1c81",
   "metadata": {
    "vscode": {
     "languageId": "r"
    }
   },
   "outputs": [
    {
     "data": {
      "text/html": [
       "<style>\n",
       ".list-inline {list-style: none; margin:0; padding: 0}\n",
       ".list-inline>li {display: inline-block}\n",
       ".list-inline>li:not(:last-child)::after {content: \"\\00b7\"; padding: 0 .5ex}\n",
       "</style>\n",
       "<ol class=list-inline><li>FALSE</li><li>FALSE</li><li>FALSE</li></ol>\n"
      ],
      "text/latex": [
       "\\begin{enumerate*}\n",
       "\\item FALSE\n",
       "\\item FALSE\n",
       "\\item FALSE\n",
       "\\end{enumerate*}\n"
      ],
      "text/markdown": [
       "1. FALSE\n",
       "2. FALSE\n",
       "3. FALSE\n",
       "\n",
       "\n"
      ],
      "text/plain": [
       "[1] FALSE FALSE FALSE"
      ]
     },
     "metadata": {},
     "output_type": "display_data"
    }
   ],
   "source": [
    "1:3 >= 4:6"
   ]
  },
  {
   "cell_type": "code",
   "execution_count": 82,
   "id": "ea21945c",
   "metadata": {
    "vscode": {
     "languageId": "r"
    }
   },
   "outputs": [
    {
     "data": {
      "text/html": [
       "<style>\n",
       ".list-inline {list-style: none; margin:0; padding: 0}\n",
       ".list-inline>li {display: inline-block}\n",
       ".list-inline>li:not(:last-child)::after {content: \"\\00b7\"; padding: 0 .5ex}\n",
       "</style>\n",
       "<ol class=list-inline><li>TRUE</li><li>FALSE</li><li>FALSE</li><li>FALSE</li></ol>\n"
      ],
      "text/latex": [
       "\\begin{enumerate*}\n",
       "\\item TRUE\n",
       "\\item FALSE\n",
       "\\item FALSE\n",
       "\\item FALSE\n",
       "\\end{enumerate*}\n"
      ],
      "text/markdown": [
       "1. TRUE\n",
       "2. FALSE\n",
       "3. FALSE\n",
       "4. FALSE\n",
       "\n",
       "\n"
      ],
      "text/plain": [
       "[1]  TRUE FALSE FALSE FALSE"
      ]
     },
     "metadata": {},
     "output_type": "display_data"
    }
   ],
   "source": [
    "!(0:3)"
   ]
  },
  {
   "cell_type": "markdown",
   "id": "cd539a42",
   "metadata": {},
   "source": [
    "### WTF? (Falling into the Floating Point Trap)\n",
    "The R Inferno. Patrick Burns. https://www.burns-stat.com/pages/Tutor/R_inferno.pdf"
   ]
  },
  {
   "cell_type": "code",
   "execution_count": 83,
   "id": "dd6c3ff1",
   "metadata": {
    "vscode": {
     "languageId": "r"
    }
   },
   "outputs": [
    {
     "data": {
      "text/html": [
       "FALSE"
      ],
      "text/latex": [
       "FALSE"
      ],
      "text/markdown": [
       "FALSE"
      ],
      "text/plain": [
       "[1] FALSE"
      ]
     },
     "metadata": {},
     "output_type": "display_data"
    }
   ],
   "source": [
    ".1 == (.3 / 3)"
   ]
  },
  {
   "cell_type": "code",
   "execution_count": 84,
   "id": "a4cbb316",
   "metadata": {
    "vscode": {
     "languageId": "r"
    }
   },
   "outputs": [
    {
     "data": {
      "text/html": [
       "<style>\n",
       ".list-inline {list-style: none; margin:0; padding: 0}\n",
       ".list-inline>li {display: inline-block}\n",
       ".list-inline>li:not(:last-child)::after {content: \"\\00b7\"; padding: 0 .5ex}\n",
       "</style>\n",
       "<ol class=list-inline><li>0.3</li><li>0.3</li><li>0.3</li></ol>\n"
      ],
      "text/latex": [
       "\\begin{enumerate*}\n",
       "\\item 0.3\n",
       "\\item 0.3\n",
       "\\item 0.3\n",
       "\\end{enumerate*}\n"
      ],
      "text/markdown": [
       "1. 0.3\n",
       "2. 0.3\n",
       "3. 0.3\n",
       "\n",
       "\n"
      ],
      "text/plain": [
       "[1] 0.3 0.3 0.3"
      ]
     },
     "metadata": {},
     "output_type": "display_data"
    }
   ],
   "source": [
    "unique(c(.3, .4 - .1, .5 - .2, .6 - .3, .7 - .4))"
   ]
  },
  {
   "cell_type": "markdown",
   "id": "a90f70c2",
   "metadata": {},
   "source": [
    "<i>R is good enough at hiding numerical error that it is easy to forget that it is there. Don’t forget...</i>"
   ]
  },
  {
   "cell_type": "code",
   "execution_count": 85,
   "id": "1aec0949",
   "metadata": {
    "vscode": {
     "languageId": "r"
    }
   },
   "outputs": [
    {
     "data": {
      "text/html": [
       "<style>\n",
       ".list-inline {list-style: none; margin:0; padding: 0}\n",
       ".list-inline>li {display: inline-block}\n",
       ".list-inline>li:not(:last-child)::after {content: \"\\00b7\"; padding: 0 .5ex}\n",
       "</style>\n",
       "<ol class=list-inline><li>0</li><li>1</li><li>2</li><li>3</li><li>4</li></ol>\n"
      ],
      "text/latex": [
       "\\begin{enumerate*}\n",
       "\\item 0\n",
       "\\item 1\n",
       "\\item 2\n",
       "\\item 3\n",
       "\\item 4\n",
       "\\end{enumerate*}\n"
      ],
      "text/markdown": [
       "1. 0\n",
       "2. 1\n",
       "3. 2\n",
       "4. 3\n",
       "5. 4\n",
       "\n",
       "\n"
      ],
      "text/plain": [
       "[1] 0 1 2 3 4"
      ]
     },
     "metadata": {},
     "output_type": "display_data"
    }
   ],
   "source": [
    "1:5-1"
   ]
  },
  {
   "cell_type": "code",
   "execution_count": 86,
   "id": "9c781242",
   "metadata": {
    "vscode": {
     "languageId": "r"
    }
   },
   "outputs": [
    {
     "data": {
      "text/html": [
       "<style>\n",
       ".list-inline {list-style: none; margin:0; padding: 0}\n",
       ".list-inline>li {display: inline-block}\n",
       ".list-inline>li:not(:last-child)::after {content: \"\\00b7\"; padding: 0 .5ex}\n",
       "</style>\n",
       "<ol class=list-inline><li>1</li><li>2</li><li>3</li><li>4</li></ol>\n"
      ],
      "text/latex": [
       "\\begin{enumerate*}\n",
       "\\item 1\n",
       "\\item 2\n",
       "\\item 3\n",
       "\\item 4\n",
       "\\end{enumerate*}\n"
      ],
      "text/markdown": [
       "1. 1\n",
       "2. 2\n",
       "3. 3\n",
       "4. 4\n",
       "\n",
       "\n"
      ],
      "text/plain": [
       "[1] 1 2 3 4"
      ]
     },
     "metadata": {},
     "output_type": "display_data"
    }
   ],
   "source": [
    "1:(5-1)"
   ]
  },
  {
   "cell_type": "code",
   "execution_count": 87,
   "id": "143e711c",
   "metadata": {
    "vscode": {
     "languageId": "r"
    }
   },
   "outputs": [
    {
     "data": {
      "text/html": [
       "<style>\n",
       ".list-inline {list-style: none; margin:0; padding: 0}\n",
       ".list-inline>li {display: inline-block}\n",
       ".list-inline>li:not(:last-child)::after {content: \"\\00b7\"; padding: 0 .5ex}\n",
       "</style>\n",
       "<ol class=list-inline><li>100</li><li>99</li><li>98</li><li>97</li><li>96</li><li>95</li><li>94</li><li>93</li><li>92</li><li>91</li><li>90</li><li>89</li><li>88</li><li>87</li><li>86</li><li>85</li><li>84</li><li>83</li><li>82</li><li>81</li><li>80</li><li>79</li><li>78</li><li>77</li><li>76</li><li>75</li><li>74</li><li>73</li><li>72</li><li>71</li><li>70</li><li>69</li><li>68</li><li>67</li><li>66</li><li>65</li><li>64</li><li>63</li><li>62</li><li>61</li><li>60</li><li>59</li><li>58</li><li>57</li><li>56</li><li>55</li><li>54</li><li>53</li><li>52</li><li>51</li><li>50</li><li>49</li><li>48</li><li>47</li><li>46</li><li>45</li><li>44</li><li>43</li><li>42</li><li>41</li><li>40</li><li>39</li><li>38</li><li>37</li><li>36</li><li>35</li><li>34</li><li>33</li><li>32</li><li>31</li><li>30</li><li>29</li><li>28</li><li>27</li><li>26</li><li>25</li><li>24</li><li>23</li><li>22</li><li>21</li><li>20</li><li>19</li><li>18</li><li>17</li><li>16</li><li>15</li><li>14</li><li>13</li><li>12</li><li>11</li><li>10</li><li>9</li><li>8</li><li>7</li><li>6</li></ol>\n"
      ],
      "text/latex": [
       "\\begin{enumerate*}\n",
       "\\item 100\n",
       "\\item 99\n",
       "\\item 98\n",
       "\\item 97\n",
       "\\item 96\n",
       "\\item 95\n",
       "\\item 94\n",
       "\\item 93\n",
       "\\item 92\n",
       "\\item 91\n",
       "\\item 90\n",
       "\\item 89\n",
       "\\item 88\n",
       "\\item 87\n",
       "\\item 86\n",
       "\\item 85\n",
       "\\item 84\n",
       "\\item 83\n",
       "\\item 82\n",
       "\\item 81\n",
       "\\item 80\n",
       "\\item 79\n",
       "\\item 78\n",
       "\\item 77\n",
       "\\item 76\n",
       "\\item 75\n",
       "\\item 74\n",
       "\\item 73\n",
       "\\item 72\n",
       "\\item 71\n",
       "\\item 70\n",
       "\\item 69\n",
       "\\item 68\n",
       "\\item 67\n",
       "\\item 66\n",
       "\\item 65\n",
       "\\item 64\n",
       "\\item 63\n",
       "\\item 62\n",
       "\\item 61\n",
       "\\item 60\n",
       "\\item 59\n",
       "\\item 58\n",
       "\\item 57\n",
       "\\item 56\n",
       "\\item 55\n",
       "\\item 54\n",
       "\\item 53\n",
       "\\item 52\n",
       "\\item 51\n",
       "\\item 50\n",
       "\\item 49\n",
       "\\item 48\n",
       "\\item 47\n",
       "\\item 46\n",
       "\\item 45\n",
       "\\item 44\n",
       "\\item 43\n",
       "\\item 42\n",
       "\\item 41\n",
       "\\item 40\n",
       "\\item 39\n",
       "\\item 38\n",
       "\\item 37\n",
       "\\item 36\n",
       "\\item 35\n",
       "\\item 34\n",
       "\\item 33\n",
       "\\item 32\n",
       "\\item 31\n",
       "\\item 30\n",
       "\\item 29\n",
       "\\item 28\n",
       "\\item 27\n",
       "\\item 26\n",
       "\\item 25\n",
       "\\item 24\n",
       "\\item 23\n",
       "\\item 22\n",
       "\\item 21\n",
       "\\item 20\n",
       "\\item 19\n",
       "\\item 18\n",
       "\\item 17\n",
       "\\item 16\n",
       "\\item 15\n",
       "\\item 14\n",
       "\\item 13\n",
       "\\item 12\n",
       "\\item 11\n",
       "\\item 10\n",
       "\\item 9\n",
       "\\item 8\n",
       "\\item 7\n",
       "\\item 6\n",
       "\\end{enumerate*}\n"
      ],
      "text/markdown": [
       "1. 100\n",
       "2. 99\n",
       "3. 98\n",
       "4. 97\n",
       "5. 96\n",
       "6. 95\n",
       "7. 94\n",
       "8. 93\n",
       "9. 92\n",
       "10. 91\n",
       "11. 90\n",
       "12. 89\n",
       "13. 88\n",
       "14. 87\n",
       "15. 86\n",
       "16. 85\n",
       "17. 84\n",
       "18. 83\n",
       "19. 82\n",
       "20. 81\n",
       "21. 80\n",
       "22. 79\n",
       "23. 78\n",
       "24. 77\n",
       "25. 76\n",
       "26. 75\n",
       "27. 74\n",
       "28. 73\n",
       "29. 72\n",
       "30. 71\n",
       "31. 70\n",
       "32. 69\n",
       "33. 68\n",
       "34. 67\n",
       "35. 66\n",
       "36. 65\n",
       "37. 64\n",
       "38. 63\n",
       "39. 62\n",
       "40. 61\n",
       "41. 60\n",
       "42. 59\n",
       "43. 58\n",
       "44. 57\n",
       "45. 56\n",
       "46. 55\n",
       "47. 54\n",
       "48. 53\n",
       "49. 52\n",
       "50. 51\n",
       "51. 50\n",
       "52. 49\n",
       "53. 48\n",
       "54. 47\n",
       "55. 46\n",
       "56. 45\n",
       "57. 44\n",
       "58. 43\n",
       "59. 42\n",
       "60. 41\n",
       "61. 40\n",
       "62. 39\n",
       "63. 38\n",
       "64. 37\n",
       "65. 36\n",
       "66. 35\n",
       "67. 34\n",
       "68. 33\n",
       "69. 32\n",
       "70. 31\n",
       "71. 30\n",
       "72. 29\n",
       "73. 28\n",
       "74. 27\n",
       "75. 26\n",
       "76. 25\n",
       "77. 24\n",
       "78. 23\n",
       "79. 22\n",
       "80. 21\n",
       "81. 20\n",
       "82. 19\n",
       "83. 18\n",
       "84. 17\n",
       "85. 16\n",
       "86. 15\n",
       "87. 14\n",
       "88. 13\n",
       "89. 12\n",
       "90. 11\n",
       "91. 10\n",
       "92. 9\n",
       "93. 8\n",
       "94. 7\n",
       "95. 6\n",
       "\n",
       "\n"
      ],
      "text/plain": [
       " [1] 100  99  98  97  96  95  94  93  92  91  90  89  88  87  86  85  84  83  82\n",
       "[20]  81  80  79  78  77  76  75  74  73  72  71  70  69  68  67  66  65  64  63\n",
       "[39]  62  61  60  59  58  57  56  55  54  53  52  51  50  49  48  47  46  45  44\n",
       "[58]  43  42  41  40  39  38  37  36  35  34  33  32  31  30  29  28  27  26  25\n",
       "[77]  24  23  22  21  20  19  18  17  16  15  14  13  12  11  10   9   8   7   6"
      ]
     },
     "metadata": {},
     "output_type": "display_data"
    }
   ],
   "source": [
    "10^2:6"
   ]
  },
  {
   "cell_type": "code",
   "execution_count": 88,
   "id": "e7489149",
   "metadata": {
    "vscode": {
     "languageId": "r"
    }
   },
   "outputs": [
    {
     "data": {
      "text/html": [
       "\n",
       "<table style=\"width: 100%;\"><tr><td>Syntax {base}</td><td style=\"text-align: right;\">R Documentation</td></tr></table>\n",
       "\n",
       "<h2>Operator Syntax and Precedence</h2>\n",
       "\n",
       "<h3>Description</h3>\n",
       "\n",
       "<p>Outlines <span style=\"font-family: Courier New, Courier; color: #666666;\"><b>R</b></span> syntax and gives the precedence of operators.\n",
       "</p>\n",
       "\n",
       "\n",
       "<h3>Details</h3>\n",
       "\n",
       "<p>The following unary and binary operators are defined.  They are listed\n",
       "in precedence groups, from highest to lowest.\n",
       "</p>\n",
       "\n",
       "<table>\n",
       "<tr>\n",
       " <td style=\"text-align: left;\">\n",
       "    <code>:: :::</code></td><td style=\"text-align: left;\"> access variables in a namespace</td>\n",
       "</tr>\n",
       "<tr>\n",
       " <td style=\"text-align: left;\">\n",
       "    <code>$ @</code></td><td style=\"text-align: left;\"> component / slot extraction</td>\n",
       "</tr>\n",
       "<tr>\n",
       " <td style=\"text-align: left;\">\n",
       "    <code>[ [[</code></td><td style=\"text-align: left;\"> indexing</td>\n",
       "</tr>\n",
       "<tr>\n",
       " <td style=\"text-align: left;\">\n",
       "    <code>^</code></td><td style=\"text-align: left;\"> exponentiation (right to left)</td>\n",
       "</tr>\n",
       "<tr>\n",
       " <td style=\"text-align: left;\">\n",
       "    <code>- +</code></td><td style=\"text-align: left;\"> unary minus and plus</td>\n",
       "</tr>\n",
       "<tr>\n",
       " <td style=\"text-align: left;\">\n",
       "    <code>:</code></td><td style=\"text-align: left;\"> sequence operator</td>\n",
       "</tr>\n",
       "<tr>\n",
       " <td style=\"text-align: left;\">\n",
       "    <code>%any% |&gt;</code></td><td style=\"text-align: left;\"> special operators (including <code>%%</code> and <code>%/%</code>)</td>\n",
       "</tr>\n",
       "<tr>\n",
       " <td style=\"text-align: left;\">\n",
       "    <code>* /</code></td><td style=\"text-align: left;\"> multiply, divide</td>\n",
       "</tr>\n",
       "<tr>\n",
       " <td style=\"text-align: left;\">\n",
       "    <code>+ -</code></td><td style=\"text-align: left;\"> (binary) add, subtract</td>\n",
       "</tr>\n",
       "<tr>\n",
       " <td style=\"text-align: left;\">\n",
       "    <code>&lt; &gt; &lt;= &gt;= == !=</code></td><td style=\"text-align: left;\"> ordering and comparison</td>\n",
       "</tr>\n",
       "<tr>\n",
       " <td style=\"text-align: left;\">\n",
       "    <code>!</code></td><td style=\"text-align: left;\"> negation</td>\n",
       "</tr>\n",
       "<tr>\n",
       " <td style=\"text-align: left;\">\n",
       "    <code>&amp;  &amp;&amp;</code></td><td style=\"text-align: left;\"> and</td>\n",
       "</tr>\n",
       "<tr>\n",
       " <td style=\"text-align: left;\">\n",
       "    <code>| ||</code></td><td style=\"text-align: left;\"> or</td>\n",
       "</tr>\n",
       "<tr>\n",
       " <td style=\"text-align: left;\">\n",
       "    <code>~</code></td><td style=\"text-align: left;\"> as in formulae</td>\n",
       "</tr>\n",
       "<tr>\n",
       " <td style=\"text-align: left;\">\n",
       "    <code>-&gt; -&gt;&gt;</code></td><td style=\"text-align: left;\"> rightwards assignment</td>\n",
       "</tr>\n",
       "<tr>\n",
       " <td style=\"text-align: left;\">\n",
       "    <code>&lt;- &lt;&lt;-</code></td><td style=\"text-align: left;\"> assignment (right to left)</td>\n",
       "</tr>\n",
       "<tr>\n",
       " <td style=\"text-align: left;\">\n",
       "    <code>=</code></td><td style=\"text-align: left;\"> assignment (right to left)</td>\n",
       "</tr>\n",
       "<tr>\n",
       " <td style=\"text-align: left;\">\n",
       "    <code>?</code></td><td style=\"text-align: left;\"> help (unary and binary)</td>\n",
       "</tr>\n",
       "<tr>\n",
       " <td style=\"text-align: left;\">\n",
       "  </td>\n",
       "</tr>\n",
       "\n",
       "</table>\n",
       "\n",
       "<p>Within an expression operators of equal precedence are evaluated\n",
       "from left to right except where indicated.  (Note that <code>=</code> is not\n",
       "necessarily an operator.)\n",
       "</p>\n",
       "<p>The binary operators <code>::</code>, <code>:::</code>, <code>$</code> and <code>@</code> require\n",
       "names or string constants on the right hand side, and the first two\n",
       "also require them on the left.\n",
       "</p>\n",
       "<p>The links in the <b>See Also</b> section cover most other aspects of\n",
       "the basic syntax.\n",
       "</p>\n",
       "\n",
       "\n",
       "<h3>Note</h3>\n",
       "\n",
       "<p>There are substantial precedence differences between <span style=\"font-family: Courier New, Courier; color: #666666;\"><b>R</b></span> and S.  In\n",
       "particular, in S <code>?</code> has the same precedence as (binary) <code>+ -</code>\n",
       "and <code>&amp; &amp;&amp; | ||</code> have equal precedence.\n",
       "</p>\n",
       "\n",
       "\n",
       "<h3>References</h3>\n",
       "\n",
       "<p>Becker, R. A., Chambers, J. M. and Wilks, A. R. (1988)\n",
       "<em>The New S Language</em>.\n",
       "Wadsworth &amp; Brooks/Cole.\n",
       "</p>\n",
       "\n",
       "\n",
       "<h3>See Also</h3>\n",
       "\n",
       "<p><code>Arithmetic</code>, <code>Comparison</code>, <code>Control</code>,\n",
       "<code>Extract</code>, <code>Logic</code>,\n",
       "<code>NumericConstants</code>, <code>Paren</code>,\n",
       "<code>Quotes</code>, <code>Reserved</code>.\n",
       "</p>\n",
       "<p>The &lsquo;R Language Definition&rsquo; manual.\n",
       "</p>\n",
       "\n",
       "\n",
       "<h3>Examples</h3>\n",
       "\n",
       "<pre><code class='language-R'>## Logical AND (\"&amp;&amp;\") has higher precedence than OR (\"||\"):\n",
       "TRUE || TRUE &amp;&amp; FALSE   # is the same as\n",
       "TRUE || (TRUE &amp;&amp; FALSE) # and different from\n",
       "(TRUE || TRUE) &amp;&amp; FALSE\n",
       "\n",
       "## Special operators have higher precedence than \"!\" (logical NOT).\n",
       "## You can use this for %in% :\n",
       "! 1:10 %in% c(2, 3, 5, 7) # same as !(1:10 %in% c(2, 3, 5, 7))\n",
       "## but we strongly advise to use the \"!( ... )\" form in this case!\n",
       "\n",
       "\n",
       "## '=' has lower precedence than '&lt;-' ... so you should not mix them\n",
       "##     (and '&lt;-' is considered better style anyway):\n",
       "## Consequently, this gives a (\"non-catchable\") error\n",
       " x &lt;- y = 5  #-&gt;  Error in (x &lt;- y) = 5 : ....\n",
       "\n",
       "</code></pre>\n",
       "\n",
       "<hr /><div style=\"text-align: center;\">[Package <em>base</em> version 4.2.1 ]</div>\n",
       "</div>"
      ],
      "text/latex": [
       "\\inputencoding{utf8}\n",
       "\\HeaderA{Syntax}{Operator Syntax and Precedence}{Syntax}\n",
       "\\keyword{documentation}{Syntax}\n",
       "\\keyword{programming}{Syntax}\n",
       "%\n",
       "\\begin{Description}\\relax\n",
       "Outlines \\R{} syntax and gives the precedence of operators.\n",
       "\\end{Description}\n",
       "%\n",
       "\\begin{Details}\\relax\n",
       "The following unary and binary operators are defined.  They are listed\n",
       "in precedence groups, from highest to lowest.\n",
       "\n",
       "\\Tabular{ll}{\n",
       "\\code{:: :::}& access variables in a namespace\\\\{}\n",
       "\\code{\\$ @}& component / slot extraction\\\\{}\n",
       "\\code{[ [[}& indexing\\\\{}\n",
       "\\code{\\textasciicircum{}}& exponentiation (right to left)\\\\{}\n",
       "\\code{- +}& unary minus and plus\\\\{}\n",
       "\\code{:}& sequence operator\\\\{}\n",
       "\\code{\\%any\\% |>}& special operators (including \\code{\\%\\%} and \\code{\\%/\\%})\\\\{}\n",
       "\\code{* /}& multiply, divide\\\\{}\n",
       "\\code{+ -}& (binary) add, subtract\\\\{}\n",
       "\\code{< > <= >= == !=}& ordering and comparison\\\\{}\n",
       "\\code{!}& negation\\\\{}\n",
       "\\code{\\&  \\&\\&}& and\\\\{}\n",
       "\\code{| ||}& or\\\\{}\n",
       "\\code{\\textasciitilde{}}& as in formulae\\\\{}\n",
       "\\code{-> ->{}>}& rightwards assignment\\\\{}\n",
       "\\code{<- <{}<-}& assignment (right to left)\\\\{}\n",
       "\\code{=}& assignment (right to left)\\\\{}\n",
       "\\code{?}& help (unary and binary)\\\\{}\n",
       "}\n",
       "Within an expression operators of equal precedence are evaluated\n",
       "from left to right except where indicated.  (Note that \\code{=} is not\n",
       "necessarily an operator.)\n",
       "\n",
       "The binary operators \\code{::}, \\code{:::}, \\code{\\$} and \\code{@} require\n",
       "names or string constants on the right hand side, and the first two\n",
       "also require them on the left.\n",
       "\n",
       "The links in the \\bold{See Also} section cover most other aspects of\n",
       "the basic syntax.\n",
       "\\end{Details}\n",
       "%\n",
       "\\begin{Note}\\relax\n",
       "There are substantial precedence differences between \\R{} and S.  In\n",
       "particular, in S \\code{?} has the same precedence as (binary) \\code{+ -}\n",
       "and \\code{\\& \\&\\& | ||} have equal precedence.\n",
       "\\end{Note}\n",
       "%\n",
       "\\begin{References}\\relax\n",
       "Becker, R. A., Chambers, J. M. and Wilks, A. R. (1988)\n",
       "\\emph{The New S Language}.\n",
       "Wadsworth \\& Brooks/Cole.\n",
       "\\end{References}\n",
       "%\n",
       "\\begin{SeeAlso}\\relax\n",
       "\\code{\\LinkA{Arithmetic}{Arithmetic}}, \\code{\\LinkA{Comparison}{Comparison}}, \\code{\\LinkA{Control}{Control}},\n",
       "\\code{\\LinkA{Extract}{Extract}}, \\code{\\LinkA{Logic}{Logic}},\n",
       "\\code{\\LinkA{NumericConstants}{NumericConstants}}, \\code{\\LinkA{Paren}{Paren}},\n",
       "\\code{\\LinkA{Quotes}{Quotes}}, \\code{\\LinkA{Reserved}{Reserved}}.\n",
       "\n",
       "The `R Language Definition' manual.\n",
       "\\end{SeeAlso}\n",
       "%\n",
       "\\begin{Examples}\n",
       "\\begin{ExampleCode}\n",
       "## Logical AND (\"&&\") has higher precedence than OR (\"||\"):\n",
       "TRUE || TRUE && FALSE   # is the same as\n",
       "TRUE || (TRUE && FALSE) # and different from\n",
       "(TRUE || TRUE) && FALSE\n",
       "\n",
       "## Special operators have higher precedence than \"!\" (logical NOT).\n",
       "## You can use this for %in% :\n",
       "! 1:10 %in% c(2, 3, 5, 7) # same as !(1:10 %in% c(2, 3, 5, 7))\n",
       "## but we strongly advise to use the \"!( ... )\" form in this case!\n",
       "\n",
       "\n",
       "## '=' has lower precedence than '<-' ... so you should not mix them\n",
       "##     (and '<-' is considered better style anyway):\n",
       "## Consequently, this gives a (\"non-catchable\") error\n",
       " x <- y = 5  #->  Error in (x <- y) = 5 : ....\n",
       "\n",
       "\\end{ExampleCode}\n",
       "\\end{Examples}"
      ],
      "text/plain": [
       "Syntax                  package:base                   R Documentation\n",
       "\n",
       "_\bO_\bp_\be_\br_\ba_\bt_\bo_\br _\bS_\by_\bn_\bt_\ba_\bx _\ba_\bn_\bd _\bP_\br_\be_\bc_\be_\bd_\be_\bn_\bc_\be\n",
       "\n",
       "_\bD_\be_\bs_\bc_\br_\bi_\bp_\bt_\bi_\bo_\bn:\n",
       "\n",
       "     Outlines R syntax and gives the precedence of operators.\n",
       "\n",
       "_\bD_\be_\bt_\ba_\bi_\bl_\bs:\n",
       "\n",
       "     The following unary and binary operators are defined.  They are\n",
       "     listed in precedence groups, from highest to lowest.\n",
       "\n",
       "       ‘:: :::’           access variables in a namespace              \n",
       "       ‘$ @’              component / slot extraction                  \n",
       "       ‘[ [[’             indexing                                     \n",
       "       ‘^’                exponentiation (right to left)               \n",
       "       ‘- +’              unary minus and plus                         \n",
       "       ‘:’                sequence operator                            \n",
       "       ‘%any% |>’         special operators (including ‘%%’ and ‘%/%’) \n",
       "       ‘* /’              multiply, divide                             \n",
       "       ‘+ -’              (binary) add, subtract                       \n",
       "       ‘< > <= >= == !=’  ordering and comparison                      \n",
       "       ‘!’                negation                                     \n",
       "       ‘&  &&’            and                                          \n",
       "       ‘| ||’             or                                           \n",
       "       ‘~’                as in formulae                               \n",
       "       ‘-> ->>’           rightwards assignment                        \n",
       "       ‘<- <<-’           assignment (right to left)                   \n",
       "       ‘=’                assignment (right to left)                   \n",
       "       ‘?’                help (unary and binary)                      \n",
       "      \n",
       "     Within an expression operators of equal precedence are evaluated\n",
       "     from left to right except where indicated.  (Note that ‘=’ is not\n",
       "     necessarily an operator.)\n",
       "\n",
       "     The binary operators ‘::’, ‘:::’, ‘$’ and ‘@’ require names or\n",
       "     string constants on the right hand side, and the first two also\n",
       "     require them on the left.\n",
       "\n",
       "     The links in the *See Also* section cover most other aspects of\n",
       "     the basic syntax.\n",
       "\n",
       "_\bN_\bo_\bt_\be:\n",
       "\n",
       "     There are substantial precedence differences between R and S.  In\n",
       "     particular, in S ‘?’ has the same precedence as (binary) ‘+ -’ and\n",
       "     ‘& && | ||’ have equal precedence.\n",
       "\n",
       "_\bR_\be_\bf_\be_\br_\be_\bn_\bc_\be_\bs:\n",
       "\n",
       "     Becker, R. A., Chambers, J. M. and Wilks, A. R. (1988) _The New S\n",
       "     Language_.  Wadsworth & Brooks/Cole.\n",
       "\n",
       "_\bS_\be_\be _\bA_\bl_\bs_\bo:\n",
       "\n",
       "     ‘Arithmetic’, ‘Comparison’, ‘Control’, ‘Extract’, ‘Logic’,\n",
       "     ‘NumericConstants’, ‘Paren’, ‘Quotes’, ‘Reserved’.\n",
       "\n",
       "     The ‘R Language Definition’ manual.\n",
       "\n",
       "_\bE_\bx_\ba_\bm_\bp_\bl_\be_\bs:\n",
       "\n",
       "     ## Logical AND (\"&&\") has higher precedence than OR (\"||\"):\n",
       "     TRUE || TRUE && FALSE   # is the same as\n",
       "     TRUE || (TRUE && FALSE) # and different from\n",
       "     (TRUE || TRUE) && FALSE\n",
       "     \n",
       "     ## Special operators have higher precedence than \"!\" (logical NOT).\n",
       "     ## You can use this for %in% :\n",
       "     ! 1:10 %in% c(2, 3, 5, 7) # same as !(1:10 %in% c(2, 3, 5, 7))\n",
       "     ## but we strongly advise to use the \"!( ... )\" form in this case!\n",
       "     \n",
       "     \n",
       "     ## '=' has lower precedence than '<-' ... so you should not mix them\n",
       "     ##     (and '<-' is considered better style anyway):\n",
       "     ## Consequently, this gives a (\"non-catchable\") error\n",
       "      x <- y = 5  #->  Error in (x <- y) = 5 : ....\n",
       "     "
      ]
     },
     "metadata": {},
     "output_type": "display_data"
    }
   ],
   "source": [
    "?Syntax"
   ]
  },
  {
   "cell_type": "markdown",
   "id": "fc4304f4",
   "metadata": {},
   "source": [
    "<i>Paréntesis... usad paréntesis...</i>"
   ]
  },
  {
   "cell_type": "markdown",
   "id": "5abb0a4c",
   "metadata": {},
   "source": [
    "# Variables"
   ]
  },
  {
   "cell_type": "code",
   "execution_count": 89,
   "id": "f750b64f",
   "metadata": {
    "vscode": {
     "languageId": "r"
    }
   },
   "outputs": [],
   "source": [
    "x <- 1 # A la variable x le asigno 1"
   ]
  },
  {
   "cell_type": "code",
   "execution_count": 90,
   "id": "5ffc0c84",
   "metadata": {
    "vscode": {
     "languageId": "r"
    }
   },
   "outputs": [
    {
     "name": "stdout",
     "output_type": "stream",
     "text": [
      "[1] 1\n"
     ]
    }
   ],
   "source": [
    "print(x)"
   ]
  },
  {
   "cell_type": "code",
   "execution_count": 91,
   "id": "9d934e47",
   "metadata": {
    "vscode": {
     "languageId": "r"
    }
   },
   "outputs": [],
   "source": [
    "x = 5 # A la variable x le asigno 1 "
   ]
  },
  {
   "cell_type": "code",
   "execution_count": 92,
   "id": "3d67f7ce",
   "metadata": {
    "vscode": {
     "languageId": "r"
    }
   },
   "outputs": [
    {
     "name": "stdout",
     "output_type": "stream",
     "text": [
      "[1] 5\n"
     ]
    }
   ],
   "source": [
    "print(x)"
   ]
  },
  {
   "cell_type": "markdown",
   "id": "f7841930",
   "metadata": {},
   "source": [
    "<b>Atención:</b> `<-` no es lo mismo que `=`"
   ]
  },
  {
   "cell_type": "code",
   "execution_count": 95,
   "id": "82be438f",
   "metadata": {
    "vscode": {
     "languageId": "r"
    }
   },
   "outputs": [
    {
     "ename": "ERROR",
     "evalue": "Error in foo(93, a = 47): no se pudo encontrar la función \"foo\"\n",
     "output_type": "error",
     "traceback": [
      "Error in foo(93, a = 47): no se pudo encontrar la función \"foo\"\nTraceback:\n"
     ]
    }
   ],
   "source": [
    "# Do not run!\n",
    "foo(93, a = 47)\n",
    "foo(93, a <- 47)"
   ]
  },
  {
   "cell_type": "code",
   "execution_count": 96,
   "id": "789506dd",
   "metadata": {
    "vscode": {
     "languageId": "r"
    }
   },
   "outputs": [
    {
     "data": {
      "text/plain": [
       "   user  system elapsed \n",
       "      0       0       0 "
      ]
     },
     "metadata": {},
     "output_type": "display_data"
    }
   ],
   "source": [
    "# Do not run!\n",
    "system.time(result <- foo(100))"
   ]
  },
  {
   "cell_type": "markdown",
   "id": "a705de01",
   "metadata": {},
   "source": [
    "Seguimos..."
   ]
  },
  {
   "cell_type": "code",
   "execution_count": 99,
   "id": "3f7a0b2b",
   "metadata": {
    "vscode": {
     "languageId": "r"
    }
   },
   "outputs": [
    {
     "name": "stdout",
     "output_type": "stream",
     "text": [
      "[1]  2.0  6.0  8.0 10.0 -2.0  4.3\n"
     ]
    }
   ],
   "source": [
    "v <- c(2,6,8,10,-2,4.3)\n",
    "print(v)"
   ]
  },
  {
   "cell_type": "code",
   "execution_count": 100,
   "id": "7db58c57",
   "metadata": {
    "vscode": {
     "languageId": "r"
    }
   },
   "outputs": [
    {
     "name": "stdout",
     "output_type": "stream",
     "text": [
      "[1]  3.0  7.0  9.0 11.0 -1.0  5.3\n"
     ]
    }
   ],
   "source": [
    "print(v + 1) # Recycling Rule"
   ]
  },
  {
   "cell_type": "code",
   "execution_count": 101,
   "id": "785bc4d3",
   "metadata": {
    "vscode": {
     "languageId": "r"
    }
   },
   "outputs": [
    {
     "name": "stdout",
     "output_type": "stream",
     "text": [
      "[1]   4.00  36.00  64.00 100.00   4.00  18.49\n"
     ]
    }
   ],
   "source": [
    "print(v * v)"
   ]
  },
  {
   "cell_type": "code",
   "execution_count": 102,
   "id": "94bf4dba",
   "metadata": {
    "vscode": {
     "languageId": "r"
    }
   },
   "outputs": [
    {
     "name": "stdout",
     "output_type": "stream",
     "text": [
      "[1] TRUE TRUE TRUE TRUE TRUE TRUE\n"
     ]
    }
   ],
   "source": [
    "print(v == v)"
   ]
  },
  {
   "cell_type": "code",
   "execution_count": 103,
   "id": "6070ec05",
   "metadata": {
    "vscode": {
     "languageId": "r"
    }
   },
   "outputs": [
    {
     "data": {
      "text/html": [
       "TRUE"
      ],
      "text/latex": [
       "TRUE"
      ],
      "text/markdown": [
       "TRUE"
      ],
      "text/plain": [
       "[1] TRUE"
      ]
     },
     "metadata": {},
     "output_type": "display_data"
    }
   ],
   "source": [
    "all(v == v)"
   ]
  },
  {
   "cell_type": "code",
   "execution_count": 104,
   "id": "c83fd475",
   "metadata": {
    "vscode": {
     "languageId": "r"
    }
   },
   "outputs": [
    {
     "data": {
      "text/html": [
       "TRUE"
      ],
      "text/latex": [
       "TRUE"
      ],
      "text/markdown": [
       "TRUE"
      ],
      "text/plain": [
       "[1] TRUE"
      ]
     },
     "metadata": {},
     "output_type": "display_data"
    }
   ],
   "source": [
    "identical(v,v)"
   ]
  },
  {
   "cell_type": "code",
   "execution_count": 105,
   "id": "06c48d09",
   "metadata": {
    "vscode": {
     "languageId": "r"
    }
   },
   "outputs": [
    {
     "name": "stdout",
     "output_type": "stream",
     "text": [
      "[1] FALSE  TRUE\n"
     ]
    }
   ],
   "source": [
    "print(c(3,2) %in% v)"
   ]
  },
  {
   "cell_type": "code",
   "execution_count": 106,
   "id": "05b86aef",
   "metadata": {
    "vscode": {
     "languageId": "r"
    }
   },
   "outputs": [
    {
     "data": {
      "text/html": [
       "2"
      ],
      "text/latex": [
       "2"
      ],
      "text/markdown": [
       "2"
      ],
      "text/plain": [
       "[1] 2"
      ]
     },
     "metadata": {},
     "output_type": "display_data"
    }
   ],
   "source": [
    "intersect(c(3,2), v)"
   ]
  },
  {
   "cell_type": "code",
   "execution_count": 107,
   "id": "45eb528c",
   "metadata": {
    "vscode": {
     "languageId": "r"
    }
   },
   "outputs": [
    {
     "name": "stdout",
     "output_type": "stream",
     "text": [
      "[1]  3.0  2.0  6.0  8.0 10.0 -2.0  4.3\n"
     ]
    }
   ],
   "source": [
    "print(union(c(3,2), v))"
   ]
  },
  {
   "cell_type": "code",
   "execution_count": 108,
   "id": "50154f32",
   "metadata": {
    "vscode": {
     "languageId": "r"
    }
   },
   "outputs": [
    {
     "name": "stdout",
     "output_type": "stream",
     "text": [
      "[1]  2.0  6.0  8.0 10.0 -2.0  4.3  3.0\n"
     ]
    }
   ],
   "source": [
    "print(union(v, c(3,2)))"
   ]
  },
  {
   "cell_type": "code",
   "execution_count": 109,
   "id": "49bb16b9",
   "metadata": {
    "vscode": {
     "languageId": "r"
    }
   },
   "outputs": [
    {
     "name": "stdout",
     "output_type": "stream",
     "text": [
      "[1] 3\n"
     ]
    }
   ],
   "source": [
    "print(setdiff(c(3,2), v))"
   ]
  },
  {
   "cell_type": "code",
   "execution_count": 110,
   "id": "77432478",
   "metadata": {
    "vscode": {
     "languageId": "r"
    }
   },
   "outputs": [
    {
     "name": "stdout",
     "output_type": "stream",
     "text": [
      "[1]  6.0  8.0 10.0 -2.0  4.3\n"
     ]
    }
   ],
   "source": [
    "print(setdiff(v, c(3,2)))"
   ]
  },
  {
   "cell_type": "code",
   "execution_count": 111,
   "id": "c6018c8b",
   "metadata": {
    "vscode": {
     "languageId": "r"
    }
   },
   "outputs": [
    {
     "name": "stdout",
     "output_type": "stream",
     "text": [
      "[1]  6.0  8.0 10.0  4.3\n"
     ]
    }
   ],
   "source": [
    "print(setdiff(abs(v), c(3,2)))"
   ]
  },
  {
   "cell_type": "code",
   "execution_count": 112,
   "id": "23196f97",
   "metadata": {
    "vscode": {
     "languageId": "r"
    }
   },
   "outputs": [
    {
     "data": {
      "text/html": [
       "TRUE"
      ],
      "text/latex": [
       "TRUE"
      ],
      "text/markdown": [
       "TRUE"
      ],
      "text/plain": [
       "[1] TRUE"
      ]
     },
     "metadata": {},
     "output_type": "display_data"
    }
   ],
   "source": [
    "any(v > 2)"
   ]
  },
  {
   "cell_type": "code",
   "execution_count": 113,
   "id": "64e7eb06",
   "metadata": {
    "vscode": {
     "languageId": "r"
    }
   },
   "outputs": [
    {
     "data": {
      "text/html": [
       "FALSE"
      ],
      "text/latex": [
       "FALSE"
      ],
      "text/markdown": [
       "FALSE"
      ],
      "text/plain": [
       "[1] FALSE"
      ]
     },
     "metadata": {},
     "output_type": "display_data"
    }
   ],
   "source": [
    "all(v > 2)"
   ]
  },
  {
   "cell_type": "markdown",
   "id": "fdd142fe",
   "metadata": {},
   "source": [
    "# Más sobre vectores"
   ]
  },
  {
   "cell_type": "code",
   "execution_count": 114,
   "id": "22c112f5",
   "metadata": {
    "vscode": {
     "languageId": "r"
    }
   },
   "outputs": [
    {
     "name": "stdout",
     "output_type": "stream",
     "text": [
      "[1]  2.0  6.0  8.0 10.0 -2.0  4.3\n"
     ]
    }
   ],
   "source": [
    "print(v)"
   ]
  },
  {
   "cell_type": "code",
   "execution_count": 115,
   "id": "207d7925",
   "metadata": {
    "vscode": {
     "languageId": "r"
    }
   },
   "outputs": [
    {
     "data": {
      "text/html": [
       "2"
      ],
      "text/latex": [
       "2"
      ],
      "text/markdown": [
       "2"
      ],
      "text/plain": [
       "[1] 2"
      ]
     },
     "metadata": {},
     "output_type": "display_data"
    }
   ],
   "source": [
    "v[1]"
   ]
  },
  {
   "cell_type": "code",
   "execution_count": 116,
   "id": "0bed30cb",
   "metadata": {
    "vscode": {
     "languageId": "r"
    }
   },
   "outputs": [
    {
     "data": {
      "text/html": [],
      "text/latex": [],
      "text/markdown": [],
      "text/plain": [
       "numeric(0)"
      ]
     },
     "metadata": {},
     "output_type": "display_data"
    }
   ],
   "source": [
    "v[0] # Nada"
   ]
  },
  {
   "cell_type": "code",
   "execution_count": 117,
   "id": "c7a32d32",
   "metadata": {
    "vscode": {
     "languageId": "r"
    }
   },
   "outputs": [
    {
     "name": "stdout",
     "output_type": "stream",
     "text": [
      "[1]  6.0  8.0 10.0 -2.0  4.3\n"
     ]
    }
   ],
   "source": [
    "print(v[-1])"
   ]
  },
  {
   "cell_type": "code",
   "execution_count": 118,
   "id": "9aa20de4",
   "metadata": {
    "vscode": {
     "languageId": "r"
    }
   },
   "outputs": [
    {
     "name": "stdout",
     "output_type": "stream",
     "text": [
      "[1]  8.0 10.0 -2.0  4.3\n"
     ]
    }
   ],
   "source": [
    "print(v[-1:-2])"
   ]
  },
  {
   "cell_type": "code",
   "execution_count": 119,
   "id": "6c480c40",
   "metadata": {
    "vscode": {
     "languageId": "r"
    }
   },
   "outputs": [
    {
     "data": {
      "text/html": [
       "<style>\n",
       ".list-inline {list-style: none; margin:0; padding: 0}\n",
       ".list-inline>li {display: inline-block}\n",
       ".list-inline>li:not(:last-child)::after {content: \"\\00b7\"; padding: 0 .5ex}\n",
       "</style>\n",
       "<ol class=list-inline><li>2</li><li>6</li><li>8</li><li>10</li><li>-2</li><li>4.3</li></ol>\n"
      ],
      "text/latex": [
       "\\begin{enumerate*}\n",
       "\\item 2\n",
       "\\item 6\n",
       "\\item 8\n",
       "\\item 10\n",
       "\\item -2\n",
       "\\item 4.3\n",
       "\\end{enumerate*}\n"
      ],
      "text/markdown": [
       "1. 2\n",
       "2. 6\n",
       "3. 8\n",
       "4. 10\n",
       "5. -2\n",
       "6. 4.3\n",
       "\n",
       "\n"
      ],
      "text/plain": [
       "[1]  2.0  6.0  8.0 10.0 -2.0  4.3"
      ]
     },
     "metadata": {},
     "output_type": "display_data"
    }
   ],
   "source": [
    "v"
   ]
  },
  {
   "cell_type": "code",
   "execution_count": 120,
   "id": "a4d8d81d",
   "metadata": {
    "vscode": {
     "languageId": "r"
    }
   },
   "outputs": [
    {
     "data": {
      "text/html": [
       "6"
      ],
      "text/latex": [
       "6"
      ],
      "text/markdown": [
       "6"
      ],
      "text/plain": [
       "[1] 6"
      ]
     },
     "metadata": {},
     "output_type": "display_data"
    }
   ],
   "source": [
    "length(v)"
   ]
  },
  {
   "cell_type": "code",
   "execution_count": 121,
   "id": "136ed9e1",
   "metadata": {
    "vscode": {
     "languageId": "r"
    }
   },
   "outputs": [
    {
     "data": {
      "text/html": [
       "1"
      ],
      "text/latex": [
       "1"
      ],
      "text/markdown": [
       "1"
      ],
      "text/plain": [
       "[1] 1"
      ]
     },
     "metadata": {},
     "output_type": "display_data"
    }
   ],
   "source": [
    "length(4)"
   ]
  },
  {
   "cell_type": "code",
   "execution_count": 122,
   "id": "4fabc741",
   "metadata": {
    "vscode": {
     "languageId": "r"
    }
   },
   "outputs": [
    {
     "data": {
      "text/html": [
       "1"
      ],
      "text/latex": [
       "1"
      ],
      "text/markdown": [
       "1"
      ],
      "text/plain": [
       "[1] 1"
      ]
     },
     "metadata": {},
     "output_type": "display_data"
    }
   ],
   "source": [
    "length(\"hola\")"
   ]
  },
  {
   "cell_type": "code",
   "execution_count": 123,
   "id": "40e5b6e7",
   "metadata": {
    "vscode": {
     "languageId": "r"
    }
   },
   "outputs": [
    {
     "data": {
      "text/html": [
       "4"
      ],
      "text/latex": [
       "4"
      ],
      "text/markdown": [
       "4"
      ],
      "text/plain": [
       "[1] 4"
      ]
     },
     "metadata": {},
     "output_type": "display_data"
    }
   ],
   "source": [
    "nchar(\"hola\") # Más sobre cadenas de caracteres más adelante..."
   ]
  },
  {
   "cell_type": "code",
   "execution_count": 124,
   "id": "7cf04d40",
   "metadata": {
    "vscode": {
     "languageId": "r"
    }
   },
   "outputs": [
    {
     "data": {
      "text/html": [
       "<style>\n",
       ".list-inline {list-style: none; margin:0; padding: 0}\n",
       ".list-inline>li {display: inline-block}\n",
       ".list-inline>li:not(:last-child)::after {content: \"\\00b7\"; padding: 0 .5ex}\n",
       "</style>\n",
       "<ol class=list-inline><li>TRUE</li><li>TRUE</li><li>TRUE</li><li>TRUE</li><li>FALSE</li><li>TRUE</li></ol>\n"
      ],
      "text/latex": [
       "\\begin{enumerate*}\n",
       "\\item TRUE\n",
       "\\item TRUE\n",
       "\\item TRUE\n",
       "\\item TRUE\n",
       "\\item FALSE\n",
       "\\item TRUE\n",
       "\\end{enumerate*}\n"
      ],
      "text/markdown": [
       "1. TRUE\n",
       "2. TRUE\n",
       "3. TRUE\n",
       "4. TRUE\n",
       "5. FALSE\n",
       "6. TRUE\n",
       "\n",
       "\n"
      ],
      "text/plain": [
       "[1]  TRUE  TRUE  TRUE  TRUE FALSE  TRUE"
      ]
     },
     "metadata": {},
     "output_type": "display_data"
    }
   ],
   "source": [
    "v >= 0"
   ]
  },
  {
   "cell_type": "code",
   "execution_count": 125,
   "id": "0e1975a0",
   "metadata": {
    "vscode": {
     "languageId": "r"
    }
   },
   "outputs": [
    {
     "name": "stdout",
     "output_type": "stream",
     "text": [
      "[1]  2.0  6.0  8.0 10.0  4.3\n"
     ]
    }
   ],
   "source": [
    "print(v[v >= 0])"
   ]
  },
  {
   "cell_type": "code",
   "execution_count": 126,
   "id": "8627bdb9",
   "metadata": {
    "vscode": {
     "languageId": "r"
    }
   },
   "outputs": [
    {
     "name": "stdout",
     "output_type": "stream",
     "text": [
      "[1] -2\n"
     ]
    }
   ],
   "source": [
    "print(v[v < 0])"
   ]
  },
  {
   "cell_type": "code",
   "execution_count": 127,
   "id": "1471686b",
   "metadata": {
    "vscode": {
     "languageId": "r"
    }
   },
   "outputs": [
    {
     "name": "stdout",
     "output_type": "stream",
     "text": [
      "[1] 2.0 4.3\n"
     ]
    }
   ],
   "source": [
    "print(v[v >= 0 & v <= 5])"
   ]
  },
  {
   "cell_type": "code",
   "execution_count": 128,
   "id": "b0f351ac",
   "metadata": {
    "vscode": {
     "languageId": "r"
    }
   },
   "outputs": [
    {
     "data": {
      "text/html": [
       "<style>\n",
       ".list-inline {list-style: none; margin:0; padding: 0}\n",
       ".list-inline>li {display: inline-block}\n",
       ".list-inline>li:not(:last-child)::after {content: \"\\00b7\"; padding: 0 .5ex}\n",
       "</style>\n",
       "<ol class=list-inline><li>2</li><li>8</li><li>-2</li></ol>\n"
      ],
      "text/latex": [
       "\\begin{enumerate*}\n",
       "\\item 2\n",
       "\\item 8\n",
       "\\item -2\n",
       "\\end{enumerate*}\n"
      ],
      "text/markdown": [
       "1. 2\n",
       "2. 8\n",
       "3. -2\n",
       "\n",
       "\n"
      ],
      "text/plain": [
       "[1]  2  8 -2"
      ]
     },
     "metadata": {},
     "output_type": "display_data"
    }
   ],
   "source": [
    "v[c(TRUE,FALSE)]"
   ]
  },
  {
   "cell_type": "code",
   "execution_count": 129,
   "id": "31515503",
   "metadata": {
    "vscode": {
     "languageId": "r"
    }
   },
   "outputs": [
    {
     "data": {
      "text/html": [
       "<style>\n",
       ".list-inline {list-style: none; margin:0; padding: 0}\n",
       ".list-inline>li {display: inline-block}\n",
       ".list-inline>li:not(:last-child)::after {content: \"\\00b7\"; padding: 0 .5ex}\n",
       "</style>\n",
       "<ol class=list-inline><li>6</li><li>8</li><li>-2</li><li>4.3</li></ol>\n"
      ],
      "text/latex": [
       "\\begin{enumerate*}\n",
       "\\item 6\n",
       "\\item 8\n",
       "\\item -2\n",
       "\\item 4.3\n",
       "\\end{enumerate*}\n"
      ],
      "text/markdown": [
       "1. 6\n",
       "2. 8\n",
       "3. -2\n",
       "4. 4.3\n",
       "\n",
       "\n"
      ],
      "text/plain": [
       "[1]  6.0  8.0 -2.0  4.3"
      ]
     },
     "metadata": {},
     "output_type": "display_data"
    }
   ],
   "source": [
    "v[c(-1,-4)]"
   ]
  },
  {
   "cell_type": "code",
   "execution_count": 130,
   "id": "31ccb289",
   "metadata": {
    "vscode": {
     "languageId": "r"
    }
   },
   "outputs": [
    {
     "data": {
      "text/html": [
       "28.3"
      ],
      "text/latex": [
       "28.3"
      ],
      "text/markdown": [
       "28.3"
      ],
      "text/plain": [
       "[1] 28.3"
      ]
     },
     "metadata": {},
     "output_type": "display_data"
    }
   ],
   "source": [
    "sum(v)"
   ]
  },
  {
   "cell_type": "code",
   "execution_count": 131,
   "id": "52d6e250",
   "metadata": {
    "vscode": {
     "languageId": "r"
    }
   },
   "outputs": [
    {
     "data": {
      "text/html": [
       "-8256"
      ],
      "text/latex": [
       "-8256"
      ],
      "text/markdown": [
       "-8256"
      ],
      "text/plain": [
       "[1] -8256"
      ]
     },
     "metadata": {},
     "output_type": "display_data"
    }
   ],
   "source": [
    "prod(v)"
   ]
  },
  {
   "cell_type": "code",
   "execution_count": 132,
   "id": "61bed042",
   "metadata": {
    "vscode": {
     "languageId": "r"
    }
   },
   "outputs": [
    {
     "data": {
      "text/html": [
       "-2"
      ],
      "text/latex": [
       "-2"
      ],
      "text/markdown": [
       "-2"
      ],
      "text/plain": [
       "[1] -2"
      ]
     },
     "metadata": {},
     "output_type": "display_data"
    }
   ],
   "source": [
    "min(v)"
   ]
  },
  {
   "cell_type": "code",
   "execution_count": 133,
   "id": "165aaa80",
   "metadata": {
    "vscode": {
     "languageId": "r"
    }
   },
   "outputs": [
    {
     "data": {
      "text/html": [
       "10"
      ],
      "text/latex": [
       "10"
      ],
      "text/markdown": [
       "10"
      ],
      "text/plain": [
       "[1] 10"
      ]
     },
     "metadata": {},
     "output_type": "display_data"
    }
   ],
   "source": [
    "max(v)"
   ]
  },
  {
   "cell_type": "code",
   "execution_count": 135,
   "id": "650b8106",
   "metadata": {
    "vscode": {
     "languageId": "r"
    }
   },
   "outputs": [
    {
     "name": "stdout",
     "output_type": "stream",
     "text": [
      "[1]   3  NA   7 NaN\n"
     ]
    }
   ],
   "source": [
    "w <- c(NULL, 3, NA, 7, NaN)\n",
    "print(w)"
   ]
  },
  {
   "cell_type": "code",
   "execution_count": 136,
   "id": "7afbf94d",
   "metadata": {
    "vscode": {
     "languageId": "r"
    }
   },
   "outputs": [
    {
     "data": {
      "text/html": [
       "4"
      ],
      "text/latex": [
       "4"
      ],
      "text/markdown": [
       "4"
      ],
      "text/plain": [
       "[1] 4"
      ]
     },
     "metadata": {},
     "output_type": "display_data"
    }
   ],
   "source": [
    "length(w)"
   ]
  },
  {
   "cell_type": "code",
   "execution_count": 137,
   "id": "f2d7aa54",
   "metadata": {
    "vscode": {
     "languageId": "r"
    }
   },
   "outputs": [
    {
     "data": {
      "text/html": [
       "'numeric'"
      ],
      "text/latex": [
       "'numeric'"
      ],
      "text/markdown": [
       "'numeric'"
      ],
      "text/plain": [
       "[1] \"numeric\""
      ]
     },
     "metadata": {},
     "output_type": "display_data"
    }
   ],
   "source": [
    "class(w)"
   ]
  },
  {
   "cell_type": "code",
   "execution_count": 138,
   "id": "a85c0aa1",
   "metadata": {
    "vscode": {
     "languageId": "r"
    }
   },
   "outputs": [
    {
     "data": {
      "text/html": [
       "&lt;NA&gt;"
      ],
      "text/latex": [
       "<NA>"
      ],
      "text/markdown": [
       "&lt;NA&gt;"
      ],
      "text/plain": [
       "[1] NA"
      ]
     },
     "metadata": {},
     "output_type": "display_data"
    }
   ],
   "source": [
    "sum(w)"
   ]
  },
  {
   "cell_type": "code",
   "execution_count": 139,
   "id": "bedfd67c",
   "metadata": {
    "vscode": {
     "languageId": "r"
    }
   },
   "outputs": [
    {
     "data": {
      "text/html": [
       "10"
      ],
      "text/latex": [
       "10"
      ],
      "text/markdown": [
       "10"
      ],
      "text/plain": [
       "[1] 10"
      ]
     },
     "metadata": {},
     "output_type": "display_data"
    }
   ],
   "source": [
    "sum(w, na.rm = TRUE)"
   ]
  },
  {
   "cell_type": "code",
   "execution_count": 140,
   "id": "a164401f",
   "metadata": {
    "vscode": {
     "languageId": "r"
    }
   },
   "outputs": [
    {
     "data": {
      "text/html": [
       "&lt;NA&gt;"
      ],
      "text/latex": [
       "<NA>"
      ],
      "text/markdown": [
       "&lt;NA&gt;"
      ],
      "text/plain": [
       "[1] NA"
      ]
     },
     "metadata": {},
     "output_type": "display_data"
    }
   ],
   "source": [
    "prod(w)"
   ]
  },
  {
   "cell_type": "code",
   "execution_count": 141,
   "id": "04e993ab",
   "metadata": {
    "vscode": {
     "languageId": "r"
    }
   },
   "outputs": [
    {
     "data": {
      "text/html": [
       "21"
      ],
      "text/latex": [
       "21"
      ],
      "text/markdown": [
       "21"
      ],
      "text/plain": [
       "[1] 21"
      ]
     },
     "metadata": {},
     "output_type": "display_data"
    }
   ],
   "source": [
    "prod(w, na.rm = TRUE)"
   ]
  },
  {
   "cell_type": "code",
   "execution_count": 142,
   "id": "ac4aca7d",
   "metadata": {
    "vscode": {
     "languageId": "r"
    }
   },
   "outputs": [
    {
     "data": {
      "text/html": [
       "&lt;NA&gt;"
      ],
      "text/latex": [
       "<NA>"
      ],
      "text/markdown": [
       "&lt;NA&gt;"
      ],
      "text/plain": [
       "[1] NA"
      ]
     },
     "metadata": {},
     "output_type": "display_data"
    }
   ],
   "source": [
    "min(w)"
   ]
  },
  {
   "cell_type": "code",
   "execution_count": 143,
   "id": "6f5c2174",
   "metadata": {
    "vscode": {
     "languageId": "r"
    }
   },
   "outputs": [
    {
     "data": {
      "text/html": [
       "3"
      ],
      "text/latex": [
       "3"
      ],
      "text/markdown": [
       "3"
      ],
      "text/plain": [
       "[1] 3"
      ]
     },
     "metadata": {},
     "output_type": "display_data"
    }
   ],
   "source": [
    "min(w, na.rm = TRUE)"
   ]
  },
  {
   "cell_type": "code",
   "execution_count": 144,
   "id": "ee3a20dd",
   "metadata": {
    "vscode": {
     "languageId": "r"
    }
   },
   "outputs": [
    {
     "data": {
      "text/html": [
       "&lt;NA&gt;"
      ],
      "text/latex": [
       "<NA>"
      ],
      "text/markdown": [
       "&lt;NA&gt;"
      ],
      "text/plain": [
       "[1] NA"
      ]
     },
     "metadata": {},
     "output_type": "display_data"
    }
   ],
   "source": [
    "max(w)"
   ]
  },
  {
   "cell_type": "code",
   "execution_count": 145,
   "id": "a3a26e93",
   "metadata": {
    "vscode": {
     "languageId": "r"
    }
   },
   "outputs": [
    {
     "data": {
      "text/html": [
       "7"
      ],
      "text/latex": [
       "7"
      ],
      "text/markdown": [
       "7"
      ],
      "text/plain": [
       "[1] 7"
      ]
     },
     "metadata": {},
     "output_type": "display_data"
    }
   ],
   "source": [
    "max(w, na.rm = TRUE)"
   ]
  },
  {
   "cell_type": "markdown",
   "id": "f40f19a9",
   "metadata": {},
   "source": [
    "Se pueden crear vectores tambien con `seq` o con `rep`"
   ]
  },
  {
   "cell_type": "code",
   "execution_count": 146,
   "id": "e3930ae1",
   "metadata": {
    "vscode": {
     "languageId": "r"
    }
   },
   "outputs": [
    {
     "data": {
      "text/html": [
       "<style>\n",
       ".list-inline {list-style: none; margin:0; padding: 0}\n",
       ".list-inline>li {display: inline-block}\n",
       ".list-inline>li:not(:last-child)::after {content: \"\\00b7\"; padding: 0 .5ex}\n",
       "</style>\n",
       "<ol class=list-inline><li>12</li><li>15</li><li>18</li><li>21</li><li>24</li><li>27</li><li>30</li></ol>\n"
      ],
      "text/latex": [
       "\\begin{enumerate*}\n",
       "\\item 12\n",
       "\\item 15\n",
       "\\item 18\n",
       "\\item 21\n",
       "\\item 24\n",
       "\\item 27\n",
       "\\item 30\n",
       "\\end{enumerate*}\n"
      ],
      "text/markdown": [
       "1. 12\n",
       "2. 15\n",
       "3. 18\n",
       "4. 21\n",
       "5. 24\n",
       "6. 27\n",
       "7. 30\n",
       "\n",
       "\n"
      ],
      "text/plain": [
       "[1] 12 15 18 21 24 27 30"
      ]
     },
     "metadata": {},
     "output_type": "display_data"
    }
   ],
   "source": [
    "seq(12, 30, 3) # seq(from=12, to=30, by=3)"
   ]
  },
  {
   "cell_type": "code",
   "execution_count": 147,
   "id": "e02f36b5",
   "metadata": {
    "vscode": {
     "languageId": "r"
    }
   },
   "outputs": [
    {
     "data": {
      "text/html": [
       "<style>\n",
       ".list-inline {list-style: none; margin:0; padding: 0}\n",
       ".list-inline>li {display: inline-block}\n",
       ".list-inline>li:not(:last-child)::after {content: \"\\00b7\"; padding: 0 .5ex}\n",
       "</style>\n",
       "<ol class=list-inline><li>-12</li><li>-8.6</li><li>-5.2</li><li>-1.8</li><li>1.6</li><li>5</li><li>8.4</li><li>11.8</li><li>15.2</li><li>18.6</li><li>22</li><li>25.4</li><li>28.8</li></ol>\n"
      ],
      "text/latex": [
       "\\begin{enumerate*}\n",
       "\\item -12\n",
       "\\item -8.6\n",
       "\\item -5.2\n",
       "\\item -1.8\n",
       "\\item 1.6\n",
       "\\item 5\n",
       "\\item 8.4\n",
       "\\item 11.8\n",
       "\\item 15.2\n",
       "\\item 18.6\n",
       "\\item 22\n",
       "\\item 25.4\n",
       "\\item 28.8\n",
       "\\end{enumerate*}\n"
      ],
      "text/markdown": [
       "1. -12\n",
       "2. -8.6\n",
       "3. -5.2\n",
       "4. -1.8\n",
       "5. 1.6\n",
       "6. 5\n",
       "7. 8.4\n",
       "8. 11.8\n",
       "9. 15.2\n",
       "10. 18.6\n",
       "11. 22\n",
       "12. 25.4\n",
       "13. 28.8\n",
       "\n",
       "\n"
      ],
      "text/plain": [
       " [1] -12.0  -8.6  -5.2  -1.8   1.6   5.0   8.4  11.8  15.2  18.6  22.0  25.4\n",
       "[13]  28.8"
      ]
     },
     "metadata": {},
     "output_type": "display_data"
    }
   ],
   "source": [
    "seq(-12, 30, 3.4)"
   ]
  },
  {
   "cell_type": "code",
   "execution_count": 148,
   "id": "4dc7189b",
   "metadata": {
    "vscode": {
     "languageId": "r"
    }
   },
   "outputs": [
    {
     "name": "stdout",
     "output_type": "stream",
     "text": [
      " [1] -12.0  -8.6  -5.2  -1.8   1.6   5.0   8.4  11.8  15.2  18.6  22.0  25.4\n",
      "[13]  28.8\n"
     ]
    }
   ],
   "source": [
    "print(seq(-12, 30, 3.4))"
   ]
  },
  {
   "cell_type": "code",
   "execution_count": 149,
   "id": "b59c4829",
   "metadata": {
    "vscode": {
     "languageId": "r"
    }
   },
   "outputs": [
    {
     "data": {
      "text/html": [
       "1.1"
      ],
      "text/latex": [
       "1.1"
      ],
      "text/markdown": [
       "1.1"
      ],
      "text/plain": [
       "[1] 1.1"
      ]
     },
     "metadata": {},
     "output_type": "display_data"
    }
   ],
   "source": [
    "seq(1.1, 7, 10)"
   ]
  },
  {
   "cell_type": "code",
   "execution_count": 150,
   "id": "86f914ed",
   "metadata": {
    "vscode": {
     "languageId": "r"
    }
   },
   "outputs": [
    {
     "data": {
      "text/html": [
       "<style>\n",
       ".list-inline {list-style: none; margin:0; padding: 0}\n",
       ".list-inline>li {display: inline-block}\n",
       ".list-inline>li:not(:last-child)::after {content: \"\\00b7\"; padding: 0 .5ex}\n",
       "</style>\n",
       "<ol class=list-inline><li>1.1</li><li>1.75555555555556</li><li>2.41111111111111</li><li>3.06666666666667</li><li>3.72222222222222</li><li>4.37777777777778</li><li>5.03333333333333</li><li>5.68888888888889</li><li>6.34444444444444</li><li>7</li></ol>\n"
      ],
      "text/latex": [
       "\\begin{enumerate*}\n",
       "\\item 1.1\n",
       "\\item 1.75555555555556\n",
       "\\item 2.41111111111111\n",
       "\\item 3.06666666666667\n",
       "\\item 3.72222222222222\n",
       "\\item 4.37777777777778\n",
       "\\item 5.03333333333333\n",
       "\\item 5.68888888888889\n",
       "\\item 6.34444444444444\n",
       "\\item 7\n",
       "\\end{enumerate*}\n"
      ],
      "text/markdown": [
       "1. 1.1\n",
       "2. 1.75555555555556\n",
       "3. 2.41111111111111\n",
       "4. 3.06666666666667\n",
       "5. 3.72222222222222\n",
       "6. 4.37777777777778\n",
       "7. 5.03333333333333\n",
       "8. 5.68888888888889\n",
       "9. 6.34444444444444\n",
       "10. 7\n",
       "\n",
       "\n"
      ],
      "text/plain": [
       " [1] 1.100000 1.755556 2.411111 3.066667 3.722222 4.377778 5.033333 5.688889\n",
       " [9] 6.344444 7.000000"
      ]
     },
     "metadata": {},
     "output_type": "display_data"
    }
   ],
   "source": [
    "seq(1.1, 7, length=10)"
   ]
  },
  {
   "cell_type": "code",
   "execution_count": 151,
   "id": "a4ec4903",
   "metadata": {
    "vscode": {
     "languageId": "r"
    }
   },
   "outputs": [
    {
     "data": {
      "text/html": [
       "\n",
       "<table style=\"width: 100%;\"><tr><td>seq {base}</td><td style=\"text-align: right;\">R Documentation</td></tr></table>\n",
       "\n",
       "<h2>Sequence Generation</h2>\n",
       "\n",
       "<h3>Description</h3>\n",
       "\n",
       "<p>Generate regular sequences.  <code>seq</code> is a standard generic with a\n",
       "default method.  <code>seq.int</code> is a primitive which can be\n",
       "much faster but has a few restrictions.  <code>seq_along</code> and\n",
       "<code>seq_len</code> are very fast primitives for two common cases.\n",
       "</p>\n",
       "\n",
       "\n",
       "<h3>Usage</h3>\n",
       "\n",
       "<pre><code class='language-R'>seq(...)\n",
       "\n",
       "## Default S3 method:\n",
       "seq(from = 1, to = 1, by = ((to - from)/(length.out - 1)),\n",
       "    length.out = NULL, along.with = NULL, ...)\n",
       "\n",
       "seq.int(from, to, by, length.out, along.with, ...)\n",
       "\n",
       "seq_along(along.with)\n",
       "seq_len(length.out)\n",
       "</code></pre>\n",
       "\n",
       "\n",
       "<h3>Arguments</h3>\n",
       "\n",
       "<table>\n",
       "<tr style=\"vertical-align: top;\"><td><code>...</code></td>\n",
       "<td>\n",
       "<p>arguments passed to or from methods.</p>\n",
       "</td></tr>\n",
       "<tr style=\"vertical-align: top;\"><td><code>from, to</code></td>\n",
       "<td>\n",
       "<p>the starting and (maximal) end values of the\n",
       "sequence.  Of length <code>1</code> unless just <code>from</code> is supplied as\n",
       "an unnamed argument.</p>\n",
       "</td></tr>\n",
       "<tr style=\"vertical-align: top;\"><td><code>by</code></td>\n",
       "<td>\n",
       "<p>number: increment of the sequence.</p>\n",
       "</td></tr>\n",
       "<tr style=\"vertical-align: top;\"><td><code>length.out</code></td>\n",
       "<td>\n",
       "<p>desired length of the sequence.  A\n",
       "non-negative number, which for <code>seq</code> and <code>seq.int</code> will be\n",
       "rounded up if fractional.</p>\n",
       "</td></tr>\n",
       "<tr style=\"vertical-align: top;\"><td><code>along.with</code></td>\n",
       "<td>\n",
       "<p>take the length from the length of this argument.</p>\n",
       "</td></tr>\n",
       "</table>\n",
       "\n",
       "\n",
       "<h3>Details</h3>\n",
       "\n",
       "<p>Numerical inputs should all be finite (that is, not infinite,\n",
       "<code>NaN</code> or <code>NA</code>).\n",
       "</p>\n",
       "<p>The interpretation of the unnamed arguments of <code>seq</code> and\n",
       "<code>seq.int</code> is <em>not</em> standard, and it is recommended always to\n",
       "name the arguments when programming.\n",
       "</p>\n",
       "<p><code>seq</code> is  generic, and only the default method is described here.\n",
       "Note that it dispatches on the class of the <strong>first</strong> argument\n",
       "irrespective of argument names.  This can have unintended consequences\n",
       "if it is called with just one argument intending this to be taken as\n",
       "<code>along.with</code>: it is much better to use <code>seq_along</code> in that\n",
       "case.\n",
       "</p>\n",
       "<p><code>seq.int</code> is an internal generic which dispatches on\n",
       "methods for <code>\"seq\"</code> based on the class of the first supplied\n",
       "argument (before argument matching).\n",
       "</p>\n",
       "<p>Typical usages are\n",
       "</p>\n",
       "<pre>seq(from, to)\n",
       "seq(from, to, by= )\n",
       "seq(from, to, length.out= )\n",
       "seq(along.with= )\n",
       "seq(from)\n",
       "seq(length.out= )\n",
       "</pre>\n",
       "<p>The first form generates the sequence <code>from, from+/-1, ..., to</code>\n",
       "(identical to <code>from:to</code>).\n",
       "</p>\n",
       "<p>The second form generates <code>from, from+by</code>, ..., up to the\n",
       "sequence value less than or equal to <code>to</code>.  Specifying <code>to -\n",
       "  from</code> and <code>by</code> of opposite signs is an error.  Note that the\n",
       "computed final value can go just beyond <code>to</code> to allow for\n",
       "rounding error, but is truncated to <code>to</code>.  (&lsquo;Just beyond&rsquo;\n",
       "is by up to <code class=\"reqn\">10^{-10}</code> times <code>abs(from - to)</code>.)\n",
       "</p>\n",
       "<p>The third generates a sequence of <code>length.out</code> equally spaced\n",
       "values from <code>from</code> to <code>to</code>.  (<code>length.out</code> is usually\n",
       "abbreviated to <code>length</code> or <code>len</code>, and <code>seq_len</code> is much\n",
       "faster.)\n",
       "</p>\n",
       "<p>The fourth form generates the integer sequence <code>1, 2, ...,\n",
       "    length(along.with)</code>.  (<code>along.with</code> is usually abbreviated to\n",
       "<code>along</code>, and <code>seq_along</code> is much faster.)\n",
       "</p>\n",
       "<p>The fifth form generates the sequence <code>1, 2, ..., length(from)</code>\n",
       "(as if argument <code>along.with</code> had been specified), <em>unless</em>\n",
       "the argument is numeric of length 1 when it is interpreted as\n",
       "<code>1:from</code> (even for <code>seq(0)</code> for compatibility with S).\n",
       "Using either <code>seq_along</code> or <code>seq_len</code> is much preferred\n",
       "(unless strict S compatibility is essential).\n",
       "</p>\n",
       "<p>The final form generates the integer sequence <code>1, 2, ...,\n",
       "  length.out</code> unless <code>length.out = 0</code>, when it generates\n",
       "<code>integer(0)</code>.\n",
       "</p>\n",
       "<p>Very small sequences (with <code>from - to</code> of the order of <code class=\"reqn\">10^{-14}</code>\n",
       "times the larger of the ends) will return <code>from</code>.\n",
       "</p>\n",
       "<p>For <code>seq</code> (only), up to two of <code>from</code>, <code>to</code> and\n",
       "<code>by</code> can be supplied as complex values provided <code>length.out</code>\n",
       "or <code>along.with</code> is specified.  More generally, the default method\n",
       "of <code>seq</code> will handle classed objects with methods for\n",
       "the <code>Math</code>, <code>Ops</code> and <code>Summary</code> group generics.\n",
       "</p>\n",
       "<p><code>seq.int</code>, <code>seq_along</code> and <code>seq_len</code> are\n",
       "primitive.\n",
       "</p>\n",
       "\n",
       "\n",
       "<h3>Value</h3>\n",
       "\n",
       "<p><code>seq.int</code> and the default method of <code>seq</code> for numeric\n",
       "arguments return a vector of type <code>\"integer\"</code> or <code>\"double\"</code>:\n",
       "programmers should not rely on which.\n",
       "</p>\n",
       "<p><code>seq_along</code> and <code>seq_len</code> return an integer vector, unless\n",
       "it is a <em>long vector</em> when it will be double.\n",
       "</p>\n",
       "\n",
       "\n",
       "<h3>References</h3>\n",
       "\n",
       "<p>Becker, R. A., Chambers, J. M. and Wilks, A. R. (1988)\n",
       "<em>The New S Language</em>.\n",
       "Wadsworth &amp; Brooks/Cole.\n",
       "</p>\n",
       "\n",
       "\n",
       "<h3>See Also</h3>\n",
       "\n",
       "<p>The methods <code>seq.Date</code> and <code>seq.POSIXt</code>.\n",
       "</p>\n",
       "<p><code>:</code>,\n",
       "<code>rep</code>,\n",
       "<code>sequence</code>,\n",
       "<code>row</code>,\n",
       "<code>col</code>.\n",
       "</p>\n",
       "\n",
       "\n",
       "<h3>Examples</h3>\n",
       "\n",
       "<pre><code class='language-R'>seq(0, 1, length.out = 11)\n",
       "seq(stats::rnorm(20)) # effectively 'along'\n",
       "seq(1, 9, by = 2)     # matches 'end'\n",
       "seq(1, 9, by = pi)    # stays below 'end'\n",
       "seq(1, 6, by = 3)\n",
       "seq(1.575, 5.125, by = 0.05)\n",
       "seq(17) # same as 1:17, or even better seq_len(17)\n",
       "</code></pre>\n",
       "\n",
       "<hr /><div style=\"text-align: center;\">[Package <em>base</em> version 4.2.1 ]</div>\n",
       "</div>"
      ],
      "text/latex": [
       "\\inputencoding{utf8}\n",
       "\\HeaderA{seq}{Sequence Generation}{seq}\n",
       "\\aliasA{seq\\_along}{seq}{seq.Rul.along}\n",
       "\\aliasA{seq\\_len}{seq}{seq.Rul.len}\n",
       "\\aliasA{seq.default}{seq}{seq.default}\n",
       "\\aliasA{seq.int}{seq}{seq.int}\n",
       "\\keyword{manip}{seq}\n",
       "%\n",
       "\\begin{Description}\\relax\n",
       "Generate regular sequences.  \\code{seq} is a standard generic with a\n",
       "default method.  \\code{seq.int} is a primitive which can be\n",
       "much faster but has a few restrictions.  \\code{seq\\_along} and\n",
       "\\code{seq\\_len} are very fast primitives for two common cases.\n",
       "\\end{Description}\n",
       "%\n",
       "\\begin{Usage}\n",
       "\\begin{verbatim}\n",
       "seq(...)\n",
       "\n",
       "## Default S3 method:\n",
       "seq(from = 1, to = 1, by = ((to - from)/(length.out - 1)),\n",
       "    length.out = NULL, along.with = NULL, ...)\n",
       "\n",
       "seq.int(from, to, by, length.out, along.with, ...)\n",
       "\n",
       "seq_along(along.with)\n",
       "seq_len(length.out)\n",
       "\\end{verbatim}\n",
       "\\end{Usage}\n",
       "%\n",
       "\\begin{Arguments}\n",
       "\\begin{ldescription}\n",
       "\\item[\\code{...}] arguments passed to or from methods.\n",
       "\\item[\\code{from, to}] the starting and (maximal) end values of the\n",
       "sequence.  Of length \\code{1} unless just \\code{from} is supplied as\n",
       "an unnamed argument.\n",
       "\\item[\\code{by}] number: increment of the sequence.\n",
       "\\item[\\code{length.out}] desired length of the sequence.  A\n",
       "non-negative number, which for \\code{seq} and \\code{seq.int} will be\n",
       "rounded up if fractional.\n",
       "\\item[\\code{along.with}] take the length from the length of this argument.\n",
       "\\end{ldescription}\n",
       "\\end{Arguments}\n",
       "%\n",
       "\\begin{Details}\\relax\n",
       "Numerical inputs should all be \\LinkA{finite}{finite} (that is, not infinite,\n",
       "\\code{\\LinkA{NaN}{NaN}} or \\code{NA}).\n",
       "\n",
       "The interpretation of the unnamed arguments of \\code{seq} and\n",
       "\\code{seq.int} is \\emph{not} standard, and it is recommended always to\n",
       "name the arguments when programming.\n",
       "\n",
       "\\code{seq} is  generic, and only the default method is described here.\n",
       "Note that it dispatches on the class of the \\strong{first} argument\n",
       "irrespective of argument names.  This can have unintended consequences\n",
       "if it is called with just one argument intending this to be taken as\n",
       "\\code{along.with}: it is much better to use \\code{seq\\_along} in that\n",
       "case.\n",
       "\n",
       "\\code{seq.int} is an \\LinkA{internal generic}{internal generic} which dispatches on\n",
       "methods for \\code{\"seq\"} based on the class of the first supplied\n",
       "argument (before argument matching).\n",
       "\n",
       "Typical usages are\n",
       "\\begin{alltt}seq(from, to)\n",
       "seq(from, to, by= )\n",
       "seq(from, to, length.out= )\n",
       "seq(along.with= )\n",
       "seq(from)\n",
       "seq(length.out= )\n",
       "\\end{alltt}\n",
       "\n",
       "The first form generates the sequence \\code{from, from+/-1, ..., to}\n",
       "(identical to \\code{from:to}).\n",
       "\n",
       "The second form generates \\code{from, from+by}, \\ldots, up to the\n",
       "sequence value less than or equal to \\code{to}.  Specifying \\code{to -\n",
       "  from} and \\code{by} of opposite signs is an error.  Note that the\n",
       "computed final value can go just beyond \\code{to} to allow for\n",
       "rounding error, but is truncated to \\code{to}.  (`Just beyond'\n",
       "is by up to \\eqn{10^{-10}}{} times \\code{abs(from - to)}.)\n",
       "\n",
       "The third generates a sequence of \\code{length.out} equally spaced\n",
       "values from \\code{from} to \\code{to}.  (\\code{length.out} is usually\n",
       "abbreviated to \\code{length} or \\code{len}, and \\code{seq\\_len} is much\n",
       "faster.)\n",
       "\n",
       "The fourth form generates the integer sequence \\code{1, 2, ...,\n",
       "    length(along.with)}.  (\\code{along.with} is usually abbreviated to\n",
       "\\code{along}, and \\code{seq\\_along} is much faster.)\n",
       "\n",
       "The fifth form generates the sequence \\code{1, 2, ..., length(from)}\n",
       "(as if argument \\code{along.with} had been specified), \\emph{unless}\n",
       "the argument is numeric of length 1 when it is interpreted as\n",
       "\\code{1:from} (even for \\code{seq(0)} for compatibility with S).\n",
       "Using either \\code{seq\\_along} or \\code{seq\\_len} is much preferred\n",
       "(unless strict S compatibility is essential).\n",
       "\n",
       "The final form generates the integer sequence \\code{1, 2, ...,\n",
       "  length.out} unless \\code{length.out = 0}, when it generates\n",
       "\\code{integer(0)}.\n",
       "\n",
       "Very small sequences (with \\code{from - to} of the order of \\eqn{10^{-14}}{}\n",
       "times the larger of the ends) will return \\code{from}.\n",
       "\n",
       "For \\code{seq} (only), up to two of \\code{from}, \\code{to} and\n",
       "\\code{by} can be supplied as complex values provided \\code{length.out}\n",
       "or \\code{along.with} is specified.  More generally, the default method\n",
       "of \\code{seq} will handle classed objects with methods for\n",
       "the \\code{Math}, \\code{Ops} and \\code{Summary} group generics.\n",
       "\n",
       "\\code{seq.int}, \\code{seq\\_along} and \\code{seq\\_len} are\n",
       "\\LinkA{primitive}{primitive}.\n",
       "\\end{Details}\n",
       "%\n",
       "\\begin{Value}\n",
       "\\code{seq.int} and the default method of \\code{seq} for numeric\n",
       "arguments return a vector of type \\code{\"integer\"} or \\code{\"double\"}:\n",
       "programmers should not rely on which.\n",
       "\n",
       "\\code{seq\\_along} and \\code{seq\\_len} return an integer vector, unless\n",
       "it is a \\emph{\\LinkA{long vector}{long vector}} when it will be double.\n",
       "\\end{Value}\n",
       "%\n",
       "\\begin{References}\\relax\n",
       "Becker, R. A., Chambers, J. M. and Wilks, A. R. (1988)\n",
       "\\emph{The New S Language}.\n",
       "Wadsworth \\& Brooks/Cole.\n",
       "\\end{References}\n",
       "%\n",
       "\\begin{SeeAlso}\\relax\n",
       "The methods \\code{\\LinkA{seq.Date}{seq.Date}} and \\code{\\LinkA{seq.POSIXt}{seq.POSIXt}}.\n",
       "\n",
       "\\code{\\LinkA{:}{:}},\n",
       "\\code{\\LinkA{rep}{rep}},\n",
       "\\code{\\LinkA{sequence}{sequence}},\n",
       "\\code{\\LinkA{row}{row}},\n",
       "\\code{\\LinkA{col}{col}}.\n",
       "\\end{SeeAlso}\n",
       "%\n",
       "\\begin{Examples}\n",
       "\\begin{ExampleCode}\n",
       "seq(0, 1, length.out = 11)\n",
       "seq(stats::rnorm(20)) # effectively 'along'\n",
       "seq(1, 9, by = 2)     # matches 'end'\n",
       "seq(1, 9, by = pi)    # stays below 'end'\n",
       "seq(1, 6, by = 3)\n",
       "seq(1.575, 5.125, by = 0.05)\n",
       "seq(17) # same as 1:17, or even better seq_len(17)\n",
       "\\end{ExampleCode}\n",
       "\\end{Examples}"
      ],
      "text/plain": [
       "seq                    package:base                    R Documentation\n",
       "\n",
       "_\bS_\be_\bq_\bu_\be_\bn_\bc_\be _\bG_\be_\bn_\be_\br_\ba_\bt_\bi_\bo_\bn\n",
       "\n",
       "_\bD_\be_\bs_\bc_\br_\bi_\bp_\bt_\bi_\bo_\bn:\n",
       "\n",
       "     Generate regular sequences.  ‘seq’ is a standard generic with a\n",
       "     default method.  ‘seq.int’ is a primitive which can be much faster\n",
       "     but has a few restrictions.  ‘seq_along’ and ‘seq_len’ are very\n",
       "     fast primitives for two common cases.\n",
       "\n",
       "_\bU_\bs_\ba_\bg_\be:\n",
       "\n",
       "     seq(...)\n",
       "     \n",
       "     ## Default S3 method:\n",
       "     seq(from = 1, to = 1, by = ((to - from)/(length.out - 1)),\n",
       "         length.out = NULL, along.with = NULL, ...)\n",
       "     \n",
       "     seq.int(from, to, by, length.out, along.with, ...)\n",
       "     \n",
       "     seq_along(along.with)\n",
       "     seq_len(length.out)\n",
       "     \n",
       "_\bA_\br_\bg_\bu_\bm_\be_\bn_\bt_\bs:\n",
       "\n",
       "     ...: arguments passed to or from methods.\n",
       "\n",
       "from, to: the starting and (maximal) end values of the sequence.  Of\n",
       "          length ‘1’ unless just ‘from’ is supplied as an unnamed\n",
       "          argument.\n",
       "\n",
       "      by: number: increment of the sequence.\n",
       "\n",
       "length.out: desired length of the sequence.  A non-negative number,\n",
       "          which for ‘seq’ and ‘seq.int’ will be rounded up if\n",
       "          fractional.\n",
       "\n",
       "along.with: take the length from the length of this argument.\n",
       "\n",
       "_\bD_\be_\bt_\ba_\bi_\bl_\bs:\n",
       "\n",
       "     Numerical inputs should all be finite (that is, not infinite,\n",
       "     ‘NaN’ or ‘NA’).\n",
       "\n",
       "     The interpretation of the unnamed arguments of ‘seq’ and ‘seq.int’\n",
       "     is _not_ standard, and it is recommended always to name the\n",
       "     arguments when programming.\n",
       "\n",
       "     ‘seq’ is generic, and only the default method is described here.\n",
       "     Note that it dispatches on the class of the *first* argument\n",
       "     irrespective of argument names.  This can have unintended\n",
       "     consequences if it is called with just one argument intending this\n",
       "     to be taken as ‘along.with’: it is much better to use ‘seq_along’\n",
       "     in that case.\n",
       "\n",
       "     ‘seq.int’ is an internal generic which dispatches on methods for\n",
       "     ‘\"seq\"’ based on the class of the first supplied argument (before\n",
       "     argument matching).\n",
       "\n",
       "     Typical usages are\n",
       "\n",
       "     seq(from, to)\n",
       "     seq(from, to, by= )\n",
       "     seq(from, to, length.out= )\n",
       "     seq(along.with= )\n",
       "     seq(from)\n",
       "     seq(length.out= )\n",
       "     \n",
       "     The first form generates the sequence ‘from, from+/-1, ..., to’\n",
       "     (identical to ‘from:to’).\n",
       "\n",
       "     The second form generates ‘from, from+by’, ..., up to the sequence\n",
       "     value less than or equal to ‘to’.  Specifying ‘to - from’ and ‘by’\n",
       "     of opposite signs is an error.  Note that the computed final value\n",
       "     can go just beyond ‘to’ to allow for rounding error, but is\n",
       "     truncated to ‘to’.  (‘Just beyond’ is by up to 1e-10 times\n",
       "     ‘abs(from - to)’.)\n",
       "\n",
       "     The third generates a sequence of ‘length.out’ equally spaced\n",
       "     values from ‘from’ to ‘to’.  (‘length.out’ is usually abbreviated\n",
       "     to ‘length’ or ‘len’, and ‘seq_len’ is much faster.)\n",
       "\n",
       "     The fourth form generates the integer sequence ‘1, 2, ...,\n",
       "     length(along.with)’.  (‘along.with’ is usually abbreviated to\n",
       "     ‘along’, and ‘seq_along’ is much faster.)\n",
       "\n",
       "     The fifth form generates the sequence ‘1, 2, ..., length(from)’\n",
       "     (as if argument ‘along.with’ had been specified), _unless_ the\n",
       "     argument is numeric of length 1 when it is interpreted as ‘1:from’\n",
       "     (even for ‘seq(0)’ for compatibility with S).  Using either\n",
       "     ‘seq_along’ or ‘seq_len’ is much preferred (unless strict S\n",
       "     compatibility is essential).\n",
       "\n",
       "     The final form generates the integer sequence ‘1, 2, ...,\n",
       "     length.out’ unless ‘length.out = 0’, when it generates\n",
       "     ‘integer(0)’.\n",
       "\n",
       "     Very small sequences (with ‘from - to’ of the order of 10^{-14}\n",
       "     times the larger of the ends) will return ‘from’.\n",
       "\n",
       "     For ‘seq’ (only), up to two of ‘from’, ‘to’ and ‘by’ can be\n",
       "     supplied as complex values provided ‘length.out’ or ‘along.with’\n",
       "     is specified.  More generally, the default method of ‘seq’ will\n",
       "     handle classed objects with methods for the ‘Math’, ‘Ops’ and\n",
       "     ‘Summary’ group generics.\n",
       "\n",
       "     ‘seq.int’, ‘seq_along’ and ‘seq_len’ are primitive.\n",
       "\n",
       "_\bV_\ba_\bl_\bu_\be:\n",
       "\n",
       "     ‘seq.int’ and the default method of ‘seq’ for numeric arguments\n",
       "     return a vector of type ‘\"integer\"’ or ‘\"double\"’: programmers\n",
       "     should not rely on which.\n",
       "\n",
       "     ‘seq_along’ and ‘seq_len’ return an integer vector, unless it is a\n",
       "     _long vector_ when it will be double.\n",
       "\n",
       "_\bR_\be_\bf_\be_\br_\be_\bn_\bc_\be_\bs:\n",
       "\n",
       "     Becker, R. A., Chambers, J. M. and Wilks, A. R. (1988) _The New S\n",
       "     Language_.  Wadsworth & Brooks/Cole.\n",
       "\n",
       "_\bS_\be_\be _\bA_\bl_\bs_\bo:\n",
       "\n",
       "     The methods ‘seq.Date’ and ‘seq.POSIXt’.\n",
       "\n",
       "     ‘:’, ‘rep’, ‘sequence’, ‘row’, ‘col’.\n",
       "\n",
       "_\bE_\bx_\ba_\bm_\bp_\bl_\be_\bs:\n",
       "\n",
       "     seq(0, 1, length.out = 11)\n",
       "     seq(stats::rnorm(20)) # effectively 'along'\n",
       "     seq(1, 9, by = 2)     # matches 'end'\n",
       "     seq(1, 9, by = pi)    # stays below 'end'\n",
       "     seq(1, 6, by = 3)\n",
       "     seq(1.575, 5.125, by = 0.05)\n",
       "     seq(17) # same as 1:17, or even better seq_len(17)\n",
       "     "
      ]
     },
     "metadata": {},
     "output_type": "display_data"
    }
   ],
   "source": [
    "?seq"
   ]
  },
  {
   "cell_type": "code",
   "execution_count": 152,
   "id": "ed187051",
   "metadata": {
    "vscode": {
     "languageId": "r"
    }
   },
   "outputs": [
    {
     "data": {
      "text/html": [
       "1"
      ],
      "text/latex": [
       "1"
      ],
      "text/markdown": [
       "1"
      ],
      "text/plain": [
       "[1] 1"
      ]
     },
     "metadata": {},
     "output_type": "display_data"
    }
   ],
   "source": [
    "seq()"
   ]
  },
  {
   "cell_type": "code",
   "execution_count": 153,
   "id": "378289dc",
   "metadata": {
    "vscode": {
     "languageId": "r"
    }
   },
   "outputs": [
    {
     "data": {
      "text/html": [
       "<style>\n",
       ".list-inline {list-style: none; margin:0; padding: 0}\n",
       ".list-inline>li {display: inline-block}\n",
       ".list-inline>li:not(:last-child)::after {content: \"\\00b7\"; padding: 0 .5ex}\n",
       "</style>\n",
       "<ol class=list-inline><li>8</li><li>8</li><li>8</li><li>8</li></ol>\n"
      ],
      "text/latex": [
       "\\begin{enumerate*}\n",
       "\\item 8\n",
       "\\item 8\n",
       "\\item 8\n",
       "\\item 8\n",
       "\\end{enumerate*}\n"
      ],
      "text/markdown": [
       "1. 8\n",
       "2. 8\n",
       "3. 8\n",
       "4. 8\n",
       "\n",
       "\n"
      ],
      "text/plain": [
       "[1] 8 8 8 8"
      ]
     },
     "metadata": {},
     "output_type": "display_data"
    }
   ],
   "source": [
    "rep(8,4)"
   ]
  },
  {
   "cell_type": "code",
   "execution_count": 154,
   "id": "241e128a",
   "metadata": {
    "vscode": {
     "languageId": "r"
    }
   },
   "outputs": [
    {
     "data": {
      "text/html": [
       "<style>\n",
       ".list-inline {list-style: none; margin:0; padding: 0}\n",
       ".list-inline>li {display: inline-block}\n",
       ".list-inline>li:not(:last-child)::after {content: \"\\00b7\"; padding: 0 .5ex}\n",
       "</style>\n",
       "<ol class=list-inline><li>8</li><li>8</li><li>8</li><li>8</li></ol>\n"
      ],
      "text/latex": [
       "\\begin{enumerate*}\n",
       "\\item 8\n",
       "\\item 8\n",
       "\\item 8\n",
       "\\item 8\n",
       "\\end{enumerate*}\n"
      ],
      "text/markdown": [
       "1. 8\n",
       "2. 8\n",
       "3. 8\n",
       "4. 8\n",
       "\n",
       "\n"
      ],
      "text/plain": [
       "[1] 8 8 8 8"
      ]
     },
     "metadata": {},
     "output_type": "display_data"
    }
   ],
   "source": [
    "rep(8,4.1) # Redondeo"
   ]
  },
  {
   "cell_type": "code",
   "execution_count": 155,
   "id": "a7e5bbae",
   "metadata": {
    "vscode": {
     "languageId": "r"
    }
   },
   "outputs": [
    {
     "name": "stdout",
     "output_type": "stream",
     "text": [
      "[1] \"a\" \"a\" \"a\" \"a\"\n"
     ]
    }
   ],
   "source": [
    "print(rep(\"a\",4))"
   ]
  },
  {
   "cell_type": "code",
   "execution_count": 156,
   "id": "f04fc8a1",
   "metadata": {
    "vscode": {
     "languageId": "r"
    }
   },
   "outputs": [
    {
     "data": {
      "text/html": [
       "<style>\n",
       ".list-inline {list-style: none; margin:0; padding: 0}\n",
       ".list-inline>li {display: inline-block}\n",
       ".list-inline>li:not(:last-child)::after {content: \"\\00b7\"; padding: 0 .5ex}\n",
       "</style>\n",
       "<ol class=list-inline><li>1</li><li>2</li><li>3</li><li>1</li><li>2</li><li>3</li><li>1</li><li>2</li><li>3</li><li>1</li><li>2</li><li>3</li><li>1</li><li>2</li><li>3</li></ol>\n"
      ],
      "text/latex": [
       "\\begin{enumerate*}\n",
       "\\item 1\n",
       "\\item 2\n",
       "\\item 3\n",
       "\\item 1\n",
       "\\item 2\n",
       "\\item 3\n",
       "\\item 1\n",
       "\\item 2\n",
       "\\item 3\n",
       "\\item 1\n",
       "\\item 2\n",
       "\\item 3\n",
       "\\item 1\n",
       "\\item 2\n",
       "\\item 3\n",
       "\\end{enumerate*}\n"
      ],
      "text/markdown": [
       "1. 1\n",
       "2. 2\n",
       "3. 3\n",
       "4. 1\n",
       "5. 2\n",
       "6. 3\n",
       "7. 1\n",
       "8. 2\n",
       "9. 3\n",
       "10. 1\n",
       "11. 2\n",
       "12. 3\n",
       "13. 1\n",
       "14. 2\n",
       "15. 3\n",
       "\n",
       "\n"
      ],
      "text/plain": [
       " [1] 1 2 3 1 2 3 1 2 3 1 2 3 1 2 3"
      ]
     },
     "metadata": {},
     "output_type": "display_data"
    }
   ],
   "source": [
    "rep(1:3, 5)"
   ]
  },
  {
   "cell_type": "code",
   "execution_count": 157,
   "id": "ec1b83f8",
   "metadata": {
    "vscode": {
     "languageId": "r"
    }
   },
   "outputs": [
    {
     "data": {
      "text/html": [
       "15"
      ],
      "text/latex": [
       "15"
      ],
      "text/markdown": [
       "15"
      ],
      "text/plain": [
       "[1] 15"
      ]
     },
     "metadata": {},
     "output_type": "display_data"
    }
   ],
   "source": [
    "length(rep(1:3, 5))"
   ]
  },
  {
   "cell_type": "code",
   "execution_count": 158,
   "id": "afee8725",
   "metadata": {
    "vscode": {
     "languageId": "r"
    }
   },
   "outputs": [
    {
     "data": {
      "text/html": [
       "\n",
       "<table style=\"width: 100%;\"><tr><td>rep {base}</td><td style=\"text-align: right;\">R Documentation</td></tr></table>\n",
       "\n",
       "<h2>Replicate Elements of Vectors and Lists</h2>\n",
       "\n",
       "<h3>Description</h3>\n",
       "\n",
       "<p><code>rep</code> replicates the values in <code>x</code>.  It is a generic\n",
       "function, and the (internal) default method is described here.\n",
       "</p>\n",
       "<p><code>rep.int</code> and <code>rep_len</code> are faster simplified versions for\n",
       "two common cases.  Internally, they are generic, so methods can be\n",
       "defined for them (see InternalMethods).\n",
       "</p>\n",
       "\n",
       "\n",
       "<h3>Usage</h3>\n",
       "\n",
       "<pre><code class='language-R'>rep(x, ...)\n",
       "\n",
       "rep.int(x, times)\n",
       "\n",
       "rep_len(x, length.out)\n",
       "</code></pre>\n",
       "\n",
       "\n",
       "<h3>Arguments</h3>\n",
       "\n",
       "<table>\n",
       "<tr style=\"vertical-align: top;\"><td><code>x</code></td>\n",
       "<td>\n",
       "<p>a vector (of any mode including a <code>list</code>) or a factor or (for\n",
       "<code>rep</code> only) a <code>POSIXct</code> or <code>POSIXlt</code> or <code>Date</code>\n",
       "object; or an S4 object containing such an object.</p>\n",
       "</td></tr>\n",
       "<tr style=\"vertical-align: top;\"><td><code>...</code></td>\n",
       "<td>\n",
       "<p>further arguments to be passed to or from other methods.\n",
       "For the internal default method these can include:\n",
       "</p>\n",
       "\n",
       "<dl>\n",
       "<dt><code>times</code></dt><dd><p>an integer-valued vector giving the\n",
       "(non-negative) number of times to repeat each element if of\n",
       "length <code>length(x)</code>, or to repeat the whole vector if of\n",
       "length 1.  Negative or <code>NA</code> values are an error.  A\n",
       "<code>double</code> vector is accepted, other inputs being coerced to\n",
       "an integer or double vector.</p>\n",
       "</dd>\n",
       "<dt><code>length.out</code></dt><dd><p>non-negative integer.  The desired length of the\n",
       "output vector.  Other inputs will be coerced to a double\n",
       "vector and the first element taken.  Ignored if <code>NA</code> or invalid.</p>\n",
       "</dd>\n",
       "<dt><code>each</code></dt><dd><p>non-negative integer.  Each element of <code>x</code>\n",
       "is repeated <code>each</code> times.  Other inputs will be coerced to\n",
       "an integer or double vector and the first element taken.  Treated as\n",
       "<code>1</code> if <code>NA</code> or invalid.</p>\n",
       "</dd>\n",
       "</dl>\n",
       "\n",
       "</td></tr>\n",
       "<tr style=\"vertical-align: top;\"><td><code>times, length.out</code></td>\n",
       "<td>\n",
       "<p>see <code>...</code> above.</p>\n",
       "</td></tr>\n",
       "</table>\n",
       "\n",
       "\n",
       "<h3>Details</h3>\n",
       "\n",
       "<p>The default behaviour is as if the call was\n",
       "</p>\n",
       "<pre>  rep(x, times = 1, length.out = NA, each = 1)\n",
       "</pre><p>.  Normally just one of the additional\n",
       "arguments is specified, but if <code>each</code> is specified with either\n",
       "of the other two, its replication is performed first, and then that\n",
       "implied by <code>times</code> or <code>length.out</code>.\n",
       "</p>\n",
       "<p>If <code>times</code> consists of a single integer, the result consists of\n",
       "the whole input repeated this many times.  If <code>times</code> is a\n",
       "vector of the same length as <code>x</code> (after replication by\n",
       "<code>each</code>), the result consists of <code>x[1]</code> repeated\n",
       "<code>times[1]</code> times, <code>x[2]</code> repeated <code>times[2]</code> times and\n",
       "so on.\n",
       "</p>\n",
       "<p><code>length.out</code> may be given in place of <code>times</code>,\n",
       "in which case <code>x</code> is repeated as many times as is\n",
       "necessary to create a vector of this length.  If both are given,\n",
       "<code>length.out</code> takes priority and <code>times</code> is ignored.\n",
       "</p>\n",
       "<p>Non-integer values of <code>times</code> will be truncated towards zero.\n",
       "If <code>times</code> is a computed quantity it is prudent to add a small\n",
       "fuzz or use <code>round</code>.  And analogously for <code>each</code>.\n",
       "</p>\n",
       "<p>If <code>x</code> has length zero and <code>length.out</code> is supplied and is\n",
       "positive, the values are filled in using the extraction rules, that is\n",
       "by an <code>NA</code> of the appropriate class for an atomic vector\n",
       "(<code>0</code> for raw vectors) and <code>NULL</code> for a list.\n",
       "</p>\n",
       "\n",
       "\n",
       "<h3>Value</h3>\n",
       "\n",
       "<p>An object of the same type as <code>x</code>.\n",
       "</p>\n",
       "<p><code>rep.int</code> and <code>rep_len</code> return no attributes (except the\n",
       "class if returning a factor).\n",
       "</p>\n",
       "<p>The default method of <code>rep</code> gives the result names (which will\n",
       "almost always contain duplicates) if <code>x</code> had names, but retains\n",
       "no other attributes.\n",
       "</p>\n",
       "\n",
       "\n",
       "<h3>Note</h3>\n",
       "\n",
       "<p>Function <code>rep.int</code> is a simple case which was provided as a\n",
       "separate function partly for S compatibility and partly for speed\n",
       "(especially when names can be dropped).  The performance of <code>rep</code>\n",
       "has been improved since, but <code>rep.int</code> is still at least twice as\n",
       "fast when <code>x</code> has names.\n",
       "</p>\n",
       "<p>The name <code>rep.int</code> long precedes making <code>rep</code> generic.\n",
       "</p>\n",
       "<p>Function <code>rep</code> is a primitive, but (partial) matching of argument\n",
       "names is performed as for normal functions.\n",
       "</p>\n",
       "<p>For historical reasons <code>rep</code> (only) works on <code>NULL</code>: the\n",
       "result is always <code>NULL</code> even when <code>length.out</code> is positive.\n",
       "</p>\n",
       "<p>Although it has never been documented, these functions have always\n",
       "worked on expression vectors.\n",
       "</p>\n",
       "\n",
       "\n",
       "<h3>References</h3>\n",
       "\n",
       "<p>Becker, R. A., Chambers, J. M. and Wilks, A. R. (1988)\n",
       "<em>The New S Language</em>.\n",
       "Wadsworth &amp; Brooks/Cole.\n",
       "</p>\n",
       "\n",
       "\n",
       "<h3>See Also</h3>\n",
       "\n",
       "<p><code>seq</code>, <code>sequence</code>, <code>replicate</code>.\n",
       "</p>\n",
       "\n",
       "\n",
       "<h3>Examples</h3>\n",
       "\n",
       "<pre><code class='language-R'>rep(1:4, 2)\n",
       "rep(1:4, each = 2)       # not the same.\n",
       "rep(1:4, c(2,2,2,2))     # same as second.\n",
       "rep(1:4, c(2,1,2,1))\n",
       "rep(1:4, each = 2, length.out = 4)    # first 4 only.\n",
       "rep(1:4, each = 2, length.out = 10)   # 8 integers plus two recycled 1's.\n",
       "rep(1:4, each = 2, times = 3)         # length 24, 3 complete replications\n",
       "\n",
       "rep(1, 40*(1-.8)) # length 7 on most platforms\n",
       "rep(1, 40*(1-.8)+1e-7) # better\n",
       "\n",
       "## replicate a list\n",
       "fred &lt;- list(happy = 1:10, name = \"squash\")\n",
       "rep(fred, 5)\n",
       "\n",
       "# date-time objects\n",
       "x &lt;- .leap.seconds[1:3]\n",
       "rep(x, 2)\n",
       "rep(as.POSIXlt(x), rep(2, 3))\n",
       "\n",
       "## named factor\n",
       "x &lt;- factor(LETTERS[1:4]); names(x) &lt;- letters[1:4]\n",
       "x\n",
       "rep(x, 2)\n",
       "rep(x, each = 2)\n",
       "rep.int(x, 2)  # no names\n",
       "rep_len(x, 10)\n",
       "</code></pre>\n",
       "\n",
       "<hr /><div style=\"text-align: center;\">[Package <em>base</em> version 4.2.1 ]</div>\n",
       "</div>"
      ],
      "text/latex": [
       "\\inputencoding{utf8}\n",
       "\\HeaderA{rep}{Replicate Elements of Vectors and Lists}{rep}\n",
       "\\aliasA{rep\\_len}{rep}{rep.Rul.len}\n",
       "\\aliasA{rep.Date}{rep}{rep.Date}\n",
       "\\aliasA{rep.factor}{rep}{rep.factor}\n",
       "\\aliasA{rep.int}{rep}{rep.int}\n",
       "\\aliasA{rep.POSIXct}{rep}{rep.POSIXct}\n",
       "\\aliasA{rep.POSIXlt}{rep}{rep.POSIXlt}\n",
       "\\keyword{manip}{rep}\n",
       "\\keyword{chron}{rep}\n",
       "%\n",
       "\\begin{Description}\\relax\n",
       "\\code{rep} replicates the values in \\code{x}.  It is a generic\n",
       "function, and the (internal) default method is described here.\n",
       "\n",
       "\\code{rep.int} and \\code{rep\\_len} are faster simplified versions for\n",
       "two common cases.  Internally, they are generic, so methods can be\n",
       "defined for them (see \\LinkA{InternalMethods}{InternalMethods}).\n",
       "\\end{Description}\n",
       "%\n",
       "\\begin{Usage}\n",
       "\\begin{verbatim}\n",
       "rep(x, ...)\n",
       "\n",
       "rep.int(x, times)\n",
       "\n",
       "rep_len(x, length.out)\n",
       "\\end{verbatim}\n",
       "\\end{Usage}\n",
       "%\n",
       "\\begin{Arguments}\n",
       "\\begin{ldescription}\n",
       "\\item[\\code{x}] a vector (of any mode including a \\code{\\LinkA{list}{list}}) or a factor or (for\n",
       "\\code{rep} only) a \\code{POSIXct} or \\code{POSIXlt} or \\code{Date}\n",
       "object; or an S4 object containing such an object.\n",
       "\\item[\\code{...}] further arguments to be passed to or from other methods.\n",
       "For the internal default method these can include:\n",
       "\\begin{description}\n",
       "\n",
       "\\item[\\code{times}] an integer-valued vector giving the\n",
       "(non-negative) number of times to repeat each element if of\n",
       "length \\code{length(x)}, or to repeat the whole vector if of\n",
       "length 1.  Negative or \\code{NA} values are an error.  A\n",
       "\\code{double} vector is accepted, other inputs being coerced to\n",
       "an integer or double vector.\n",
       "\\item[\\code{length.out}] non-negative integer.  The desired length of the\n",
       "output vector.  Other inputs will be coerced to a double\n",
       "vector and the first element taken.  Ignored if \\code{NA} or invalid.\n",
       "\\item[\\code{each}] non-negative integer.  Each element of \\code{x}\n",
       "is repeated \\code{each} times.  Other inputs will be coerced to\n",
       "an integer or double vector and the first element taken.  Treated as\n",
       "\\code{1} if \\code{NA} or invalid.\n",
       "\n",
       "\\end{description}\n",
       "\n",
       "\n",
       "\\item[\\code{times, length.out}] see \\code{...} above.\n",
       "\\end{ldescription}\n",
       "\\end{Arguments}\n",
       "%\n",
       "\\begin{Details}\\relax\n",
       "The default behaviour is as if the call was\n",
       "\\begin{alltt}  rep(x, times = 1, length.out = NA, each = 1)\n",
       "\\end{alltt}\n",
       ".  Normally just one of the additional\n",
       "arguments is specified, but if \\code{each} is specified with either\n",
       "of the other two, its replication is performed first, and then that\n",
       "implied by \\code{times} or \\code{length.out}.\n",
       "\n",
       "If \\code{times} consists of a single integer, the result consists of\n",
       "the whole input repeated this many times.  If \\code{times} is a\n",
       "vector of the same length as \\code{x} (after replication by\n",
       "\\code{each}), the result consists of \\code{x[1]} repeated\n",
       "\\code{times[1]} times, \\code{x[2]} repeated \\code{times[2]} times and\n",
       "so on.\n",
       "\n",
       "\\code{length.out} may be given in place of \\code{times},\n",
       "in which case \\code{x} is repeated as many times as is\n",
       "necessary to create a vector of this length.  If both are given,\n",
       "\\code{length.out} takes priority and \\code{times} is ignored.\n",
       "\n",
       "Non-integer values of \\code{times} will be truncated towards zero.\n",
       "If \\code{times} is a computed quantity it is prudent to add a small\n",
       "fuzz or use \\code{\\LinkA{round}{round}}.  And analogously for \\code{each}.\n",
       "\n",
       "If \\code{x} has length zero and \\code{length.out} is supplied and is\n",
       "positive, the values are filled in using the extraction rules, that is\n",
       "by an \\code{NA} of the appropriate class for an atomic vector\n",
       "(\\code{0} for raw vectors) and \\code{NULL} for a list.\n",
       "\\end{Details}\n",
       "%\n",
       "\\begin{Value}\n",
       "An object of the same type as \\code{x}.\n",
       "\n",
       "\\code{rep.int} and \\code{rep\\_len} return no attributes (except the\n",
       "class if returning a factor).\n",
       "\n",
       "The default method of \\code{rep} gives the result names (which will\n",
       "almost always contain duplicates) if \\code{x} had names, but retains\n",
       "no other attributes.\n",
       "\\end{Value}\n",
       "%\n",
       "\\begin{Note}\\relax\n",
       "Function \\code{rep.int} is a simple case which was provided as a\n",
       "separate function partly for S compatibility and partly for speed\n",
       "(especially when names can be dropped).  The performance of \\code{rep}\n",
       "has been improved since, but \\code{rep.int} is still at least twice as\n",
       "fast when \\code{x} has names.\n",
       "\n",
       "The name \\code{rep.int} long precedes making \\code{rep} generic.\n",
       "\n",
       "Function \\code{rep} is a primitive, but (partial) matching of argument\n",
       "names is performed as for normal functions.\n",
       "\n",
       "For historical reasons \\code{rep} (only) works on \\code{NULL}: the\n",
       "result is always \\code{NULL} even when \\code{length.out} is positive.\n",
       "\n",
       "Although it has never been documented, these functions have always\n",
       "worked on \\LinkA{expression}{expression} vectors.\n",
       "\\end{Note}\n",
       "%\n",
       "\\begin{References}\\relax\n",
       "Becker, R. A., Chambers, J. M. and Wilks, A. R. (1988)\n",
       "\\emph{The New S Language}.\n",
       "Wadsworth \\& Brooks/Cole.\n",
       "\\end{References}\n",
       "%\n",
       "\\begin{SeeAlso}\\relax\n",
       "\\code{\\LinkA{seq}{seq}}, \\code{\\LinkA{sequence}{sequence}}, \\code{\\LinkA{replicate}{replicate}}.\n",
       "\\end{SeeAlso}\n",
       "%\n",
       "\\begin{Examples}\n",
       "\\begin{ExampleCode}\n",
       "rep(1:4, 2)\n",
       "rep(1:4, each = 2)       # not the same.\n",
       "rep(1:4, c(2,2,2,2))     # same as second.\n",
       "rep(1:4, c(2,1,2,1))\n",
       "rep(1:4, each = 2, length.out = 4)    # first 4 only.\n",
       "rep(1:4, each = 2, length.out = 10)   # 8 integers plus two recycled 1's.\n",
       "rep(1:4, each = 2, times = 3)         # length 24, 3 complete replications\n",
       "\n",
       "rep(1, 40*(1-.8)) # length 7 on most platforms\n",
       "rep(1, 40*(1-.8)+1e-7) # better\n",
       "\n",
       "## replicate a list\n",
       "fred <- list(happy = 1:10, name = \"squash\")\n",
       "rep(fred, 5)\n",
       "\n",
       "# date-time objects\n",
       "x <- .leap.seconds[1:3]\n",
       "rep(x, 2)\n",
       "rep(as.POSIXlt(x), rep(2, 3))\n",
       "\n",
       "## named factor\n",
       "x <- factor(LETTERS[1:4]); names(x) <- letters[1:4]\n",
       "x\n",
       "rep(x, 2)\n",
       "rep(x, each = 2)\n",
       "rep.int(x, 2)  # no names\n",
       "rep_len(x, 10)\n",
       "\\end{ExampleCode}\n",
       "\\end{Examples}"
      ],
      "text/plain": [
       "rep                    package:base                    R Documentation\n",
       "\n",
       "_\bR_\be_\bp_\bl_\bi_\bc_\ba_\bt_\be _\bE_\bl_\be_\bm_\be_\bn_\bt_\bs _\bo_\bf _\bV_\be_\bc_\bt_\bo_\br_\bs _\ba_\bn_\bd _\bL_\bi_\bs_\bt_\bs\n",
       "\n",
       "_\bD_\be_\bs_\bc_\br_\bi_\bp_\bt_\bi_\bo_\bn:\n",
       "\n",
       "     ‘rep’ replicates the values in ‘x’.  It is a generic function, and\n",
       "     the (internal) default method is described here.\n",
       "\n",
       "     ‘rep.int’ and ‘rep_len’ are faster simplified versions for two\n",
       "     common cases.  Internally, they are generic, so methods can be\n",
       "     defined for them (see InternalMethods).\n",
       "\n",
       "_\bU_\bs_\ba_\bg_\be:\n",
       "\n",
       "     rep(x, ...)\n",
       "     \n",
       "     rep.int(x, times)\n",
       "     \n",
       "     rep_len(x, length.out)\n",
       "     \n",
       "_\bA_\br_\bg_\bu_\bm_\be_\bn_\bt_\bs:\n",
       "\n",
       "       x: a vector (of any mode including a ‘list’) or a factor or (for\n",
       "          ‘rep’ only) a ‘POSIXct’ or ‘POSIXlt’ or ‘Date’ object; or an\n",
       "          S4 object containing such an object.\n",
       "\n",
       "     ...: further arguments to be passed to or from other methods.  For\n",
       "          the internal default method these can include:\n",
       "\n",
       "          ‘times’ an integer-valued vector giving the (non-negative)\n",
       "              number of times to repeat each element if of length\n",
       "              ‘length(x)’, or to repeat the whole vector if of length\n",
       "              1.  Negative or ‘NA’ values are an error.  A ‘double’\n",
       "              vector is accepted, other inputs being coerced to an\n",
       "              integer or double vector.\n",
       "\n",
       "          ‘length.out’ non-negative integer.  The desired length of the\n",
       "              output vector.  Other inputs will be coerced to a double\n",
       "              vector and the first element taken.  Ignored if ‘NA’ or\n",
       "              invalid.\n",
       "\n",
       "          ‘each’ non-negative integer.  Each element of ‘x’ is repeated\n",
       "              ‘each’ times.  Other inputs will be coerced to an integer\n",
       "              or double vector and the first element taken.  Treated as\n",
       "              ‘1’ if ‘NA’ or invalid.\n",
       "\n",
       "times, length.out: see ‘...’ above.\n",
       "\n",
       "_\bD_\be_\bt_\ba_\bi_\bl_\bs:\n",
       "\n",
       "     The default behaviour is as if the call was\n",
       "\n",
       "       rep(x, times = 1, length.out = NA, each = 1)\n",
       "     \n",
       "     .  Normally just one of the additional arguments is specified, but\n",
       "     if ‘each’ is specified with either of the other two, its\n",
       "     replication is performed first, and then that implied by ‘times’\n",
       "     or ‘length.out’.\n",
       "\n",
       "     If ‘times’ consists of a single integer, the result consists of\n",
       "     the whole input repeated this many times.  If ‘times’ is a vector\n",
       "     of the same length as ‘x’ (after replication by ‘each’), the\n",
       "     result consists of ‘x[1]’ repeated ‘times[1]’ times, ‘x[2]’\n",
       "     repeated ‘times[2]’ times and so on.\n",
       "\n",
       "     ‘length.out’ may be given in place of ‘times’, in which case ‘x’\n",
       "     is repeated as many times as is necessary to create a vector of\n",
       "     this length.  If both are given, ‘length.out’ takes priority and\n",
       "     ‘times’ is ignored.\n",
       "\n",
       "     Non-integer values of ‘times’ will be truncated towards zero.  If\n",
       "     ‘times’ is a computed quantity it is prudent to add a small fuzz\n",
       "     or use ‘round’.  And analogously for ‘each’.\n",
       "\n",
       "     If ‘x’ has length zero and ‘length.out’ is supplied and is\n",
       "     positive, the values are filled in using the extraction rules,\n",
       "     that is by an ‘NA’ of the appropriate class for an atomic vector\n",
       "     (‘0’ for raw vectors) and ‘NULL’ for a list.\n",
       "\n",
       "_\bV_\ba_\bl_\bu_\be:\n",
       "\n",
       "     An object of the same type as ‘x’.\n",
       "\n",
       "     ‘rep.int’ and ‘rep_len’ return no attributes (except the class if\n",
       "     returning a factor).\n",
       "\n",
       "     The default method of ‘rep’ gives the result names (which will\n",
       "     almost always contain duplicates) if ‘x’ had names, but retains no\n",
       "     other attributes.\n",
       "\n",
       "_\bN_\bo_\bt_\be:\n",
       "\n",
       "     Function ‘rep.int’ is a simple case which was provided as a\n",
       "     separate function partly for S compatibility and partly for speed\n",
       "     (especially when names can be dropped).  The performance of ‘rep’\n",
       "     has been improved since, but ‘rep.int’ is still at least twice as\n",
       "     fast when ‘x’ has names.\n",
       "\n",
       "     The name ‘rep.int’ long precedes making ‘rep’ generic.\n",
       "\n",
       "     Function ‘rep’ is a primitive, but (partial) matching of argument\n",
       "     names is performed as for normal functions.\n",
       "\n",
       "     For historical reasons ‘rep’ (only) works on ‘NULL’: the result is\n",
       "     always ‘NULL’ even when ‘length.out’ is positive.\n",
       "\n",
       "     Although it has never been documented, these functions have always\n",
       "     worked on expression vectors.\n",
       "\n",
       "_\bR_\be_\bf_\be_\br_\be_\bn_\bc_\be_\bs:\n",
       "\n",
       "     Becker, R. A., Chambers, J. M. and Wilks, A. R. (1988) _The New S\n",
       "     Language_.  Wadsworth & Brooks/Cole.\n",
       "\n",
       "_\bS_\be_\be _\bA_\bl_\bs_\bo:\n",
       "\n",
       "     ‘seq’, ‘sequence’, ‘replicate’.\n",
       "\n",
       "_\bE_\bx_\ba_\bm_\bp_\bl_\be_\bs:\n",
       "\n",
       "     rep(1:4, 2)\n",
       "     rep(1:4, each = 2)       # not the same.\n",
       "     rep(1:4, c(2,2,2,2))     # same as second.\n",
       "     rep(1:4, c(2,1,2,1))\n",
       "     rep(1:4, each = 2, length.out = 4)    # first 4 only.\n",
       "     rep(1:4, each = 2, length.out = 10)   # 8 integers plus two recycled 1's.\n",
       "     rep(1:4, each = 2, times = 3)         # length 24, 3 complete replications\n",
       "     \n",
       "     rep(1, 40*(1-.8)) # length 7 on most platforms\n",
       "     rep(1, 40*(1-.8)+1e-7) # better\n",
       "     \n",
       "     ## replicate a list\n",
       "     fred <- list(happy = 1:10, name = \"squash\")\n",
       "     rep(fred, 5)\n",
       "     \n",
       "     # date-time objects\n",
       "     x <- .leap.seconds[1:3]\n",
       "     rep(x, 2)\n",
       "     rep(as.POSIXlt(x), rep(2, 3))\n",
       "     \n",
       "     ## named factor\n",
       "     x <- factor(LETTERS[1:4]); names(x) <- letters[1:4]\n",
       "     x\n",
       "     rep(x, 2)\n",
       "     rep(x, each = 2)\n",
       "     rep.int(x, 2)  # no names\n",
       "     rep_len(x, 10)\n",
       "     "
      ]
     },
     "metadata": {},
     "output_type": "display_data"
    }
   ],
   "source": [
    "?rep"
   ]
  },
  {
   "cell_type": "code",
   "execution_count": 159,
   "id": "4c3d1777",
   "metadata": {
    "vscode": {
     "languageId": "r"
    }
   },
   "outputs": [
    {
     "data": {
      "text/html": [
       "<style>\n",
       ".list-inline {list-style: none; margin:0; padding: 0}\n",
       ".list-inline>li {display: inline-block}\n",
       ".list-inline>li:not(:last-child)::after {content: \"\\00b7\"; padding: 0 .5ex}\n",
       "</style>\n",
       "<ol class=list-inline><li>5</li><li>12</li><li>13</li><li>5</li><li>12</li><li>13</li></ol>\n"
      ],
      "text/latex": [
       "\\begin{enumerate*}\n",
       "\\item 5\n",
       "\\item 12\n",
       "\\item 13\n",
       "\\item 5\n",
       "\\item 12\n",
       "\\item 13\n",
       "\\end{enumerate*}\n"
      ],
      "text/markdown": [
       "1. 5\n",
       "2. 12\n",
       "3. 13\n",
       "4. 5\n",
       "5. 12\n",
       "6. 13\n",
       "\n",
       "\n"
      ],
      "text/plain": [
       "[1]  5 12 13  5 12 13"
      ]
     },
     "metadata": {},
     "output_type": "display_data"
    }
   ],
   "source": [
    "rep(c(5,12,13), 2)"
   ]
  },
  {
   "cell_type": "code",
   "execution_count": 160,
   "id": "16a09b32",
   "metadata": {
    "vscode": {
     "languageId": "r"
    }
   },
   "outputs": [
    {
     "data": {
      "text/html": [
       "<style>\n",
       ".list-inline {list-style: none; margin:0; padding: 0}\n",
       ".list-inline>li {display: inline-block}\n",
       ".list-inline>li:not(:last-child)::after {content: \"\\00b7\"; padding: 0 .5ex}\n",
       "</style>\n",
       "<ol class=list-inline><li>5</li><li>5</li><li>12</li><li>12</li><li>13</li><li>13</li></ol>\n"
      ],
      "text/latex": [
       "\\begin{enumerate*}\n",
       "\\item 5\n",
       "\\item 5\n",
       "\\item 12\n",
       "\\item 12\n",
       "\\item 13\n",
       "\\item 13\n",
       "\\end{enumerate*}\n"
      ],
      "text/markdown": [
       "1. 5\n",
       "2. 5\n",
       "3. 12\n",
       "4. 12\n",
       "5. 13\n",
       "6. 13\n",
       "\n",
       "\n"
      ],
      "text/plain": [
       "[1]  5  5 12 12 13 13"
      ]
     },
     "metadata": {},
     "output_type": "display_data"
    }
   ],
   "source": [
    "rep(c(5,12,13), each=2)"
   ]
  },
  {
   "cell_type": "code",
   "execution_count": 161,
   "id": "9f366b0b",
   "metadata": {
    "vscode": {
     "languageId": "r"
    }
   },
   "outputs": [
    {
     "data": {
      "text/html": [
       "<style>\n",
       ".list-inline {list-style: none; margin:0; padding: 0}\n",
       ".list-inline>li {display: inline-block}\n",
       ".list-inline>li:not(:last-child)::after {content: \"\\00b7\"; padding: 0 .5ex}\n",
       "</style>\n",
       "<ol class=list-inline><li>'a'</li><li>'b'</li><li>'c'</li><li>'d'</li><li>'e'</li><li>'f'</li><li>'g'</li><li>'h'</li><li>'i'</li><li>'j'</li><li>'k'</li><li>'l'</li><li>'m'</li><li>'n'</li><li>'o'</li><li>'p'</li><li>'q'</li><li>'r'</li><li>'s'</li><li>'t'</li><li>'u'</li><li>'v'</li><li>'w'</li><li>'x'</li><li>'y'</li><li>'z'</li></ol>\n"
      ],
      "text/latex": [
       "\\begin{enumerate*}\n",
       "\\item 'a'\n",
       "\\item 'b'\n",
       "\\item 'c'\n",
       "\\item 'd'\n",
       "\\item 'e'\n",
       "\\item 'f'\n",
       "\\item 'g'\n",
       "\\item 'h'\n",
       "\\item 'i'\n",
       "\\item 'j'\n",
       "\\item 'k'\n",
       "\\item 'l'\n",
       "\\item 'm'\n",
       "\\item 'n'\n",
       "\\item 'o'\n",
       "\\item 'p'\n",
       "\\item 'q'\n",
       "\\item 'r'\n",
       "\\item 's'\n",
       "\\item 't'\n",
       "\\item 'u'\n",
       "\\item 'v'\n",
       "\\item 'w'\n",
       "\\item 'x'\n",
       "\\item 'y'\n",
       "\\item 'z'\n",
       "\\end{enumerate*}\n"
      ],
      "text/markdown": [
       "1. 'a'\n",
       "2. 'b'\n",
       "3. 'c'\n",
       "4. 'd'\n",
       "5. 'e'\n",
       "6. 'f'\n",
       "7. 'g'\n",
       "8. 'h'\n",
       "9. 'i'\n",
       "10. 'j'\n",
       "11. 'k'\n",
       "12. 'l'\n",
       "13. 'm'\n",
       "14. 'n'\n",
       "15. 'o'\n",
       "16. 'p'\n",
       "17. 'q'\n",
       "18. 'r'\n",
       "19. 's'\n",
       "20. 't'\n",
       "21. 'u'\n",
       "22. 'v'\n",
       "23. 'w'\n",
       "24. 'x'\n",
       "25. 'y'\n",
       "26. 'z'\n",
       "\n",
       "\n"
      ],
      "text/plain": [
       " [1] \"a\" \"b\" \"c\" \"d\" \"e\" \"f\" \"g\" \"h\" \"i\" \"j\" \"k\" \"l\" \"m\" \"n\" \"o\" \"p\" \"q\" \"r\" \"s\"\n",
       "[20] \"t\" \"u\" \"v\" \"w\" \"x\" \"y\" \"z\""
      ]
     },
     "metadata": {},
     "output_type": "display_data"
    }
   ],
   "source": [
    "letters"
   ]
  },
  {
   "cell_type": "code",
   "execution_count": 162,
   "id": "8a95fadf",
   "metadata": {
    "vscode": {
     "languageId": "r"
    }
   },
   "outputs": [
    {
     "data": {
      "text/html": [
       "<style>\n",
       ".list-inline {list-style: none; margin:0; padding: 0}\n",
       ".list-inline>li {display: inline-block}\n",
       ".list-inline>li:not(:last-child)::after {content: \"\\00b7\"; padding: 0 .5ex}\n",
       "</style>\n",
       "<ol class=list-inline><li>'A'</li><li>'B'</li><li>'C'</li><li>'D'</li><li>'E'</li><li>'F'</li><li>'G'</li><li>'H'</li><li>'I'</li><li>'J'</li><li>'K'</li><li>'L'</li><li>'M'</li><li>'N'</li><li>'O'</li><li>'P'</li><li>'Q'</li><li>'R'</li><li>'S'</li><li>'T'</li><li>'U'</li><li>'V'</li><li>'W'</li><li>'X'</li><li>'Y'</li><li>'Z'</li></ol>\n"
      ],
      "text/latex": [
       "\\begin{enumerate*}\n",
       "\\item 'A'\n",
       "\\item 'B'\n",
       "\\item 'C'\n",
       "\\item 'D'\n",
       "\\item 'E'\n",
       "\\item 'F'\n",
       "\\item 'G'\n",
       "\\item 'H'\n",
       "\\item 'I'\n",
       "\\item 'J'\n",
       "\\item 'K'\n",
       "\\item 'L'\n",
       "\\item 'M'\n",
       "\\item 'N'\n",
       "\\item 'O'\n",
       "\\item 'P'\n",
       "\\item 'Q'\n",
       "\\item 'R'\n",
       "\\item 'S'\n",
       "\\item 'T'\n",
       "\\item 'U'\n",
       "\\item 'V'\n",
       "\\item 'W'\n",
       "\\item 'X'\n",
       "\\item 'Y'\n",
       "\\item 'Z'\n",
       "\\end{enumerate*}\n"
      ],
      "text/markdown": [
       "1. 'A'\n",
       "2. 'B'\n",
       "3. 'C'\n",
       "4. 'D'\n",
       "5. 'E'\n",
       "6. 'F'\n",
       "7. 'G'\n",
       "8. 'H'\n",
       "9. 'I'\n",
       "10. 'J'\n",
       "11. 'K'\n",
       "12. 'L'\n",
       "13. 'M'\n",
       "14. 'N'\n",
       "15. 'O'\n",
       "16. 'P'\n",
       "17. 'Q'\n",
       "18. 'R'\n",
       "19. 'S'\n",
       "20. 'T'\n",
       "21. 'U'\n",
       "22. 'V'\n",
       "23. 'W'\n",
       "24. 'X'\n",
       "25. 'Y'\n",
       "26. 'Z'\n",
       "\n",
       "\n"
      ],
      "text/plain": [
       " [1] \"A\" \"B\" \"C\" \"D\" \"E\" \"F\" \"G\" \"H\" \"I\" \"J\" \"K\" \"L\" \"M\" \"N\" \"O\" \"P\" \"Q\" \"R\" \"S\"\n",
       "[20] \"T\" \"U\" \"V\" \"W\" \"X\" \"Y\" \"Z\""
      ]
     },
     "metadata": {},
     "output_type": "display_data"
    }
   ],
   "source": [
    "LETTERS"
   ]
  },
  {
   "cell_type": "code",
   "execution_count": 163,
   "id": "943982f1",
   "metadata": {
    "vscode": {
     "languageId": "r"
    }
   },
   "outputs": [
    {
     "data": {
      "text/html": [
       "<style>\n",
       ".list-inline {list-style: none; margin:0; padding: 0}\n",
       ".list-inline>li {display: inline-block}\n",
       ".list-inline>li:not(:last-child)::after {content: \"\\00b7\"; padding: 0 .5ex}\n",
       "</style>\n",
       "<ol class=list-inline><li>'Jan'</li><li>'Feb'</li><li>'Mar'</li><li>'Apr'</li><li>'May'</li><li>'Jun'</li><li>'Jul'</li><li>'Aug'</li><li>'Sep'</li><li>'Oct'</li><li>'Nov'</li><li>'Dec'</li></ol>\n"
      ],
      "text/latex": [
       "\\begin{enumerate*}\n",
       "\\item 'Jan'\n",
       "\\item 'Feb'\n",
       "\\item 'Mar'\n",
       "\\item 'Apr'\n",
       "\\item 'May'\n",
       "\\item 'Jun'\n",
       "\\item 'Jul'\n",
       "\\item 'Aug'\n",
       "\\item 'Sep'\n",
       "\\item 'Oct'\n",
       "\\item 'Nov'\n",
       "\\item 'Dec'\n",
       "\\end{enumerate*}\n"
      ],
      "text/markdown": [
       "1. 'Jan'\n",
       "2. 'Feb'\n",
       "3. 'Mar'\n",
       "4. 'Apr'\n",
       "5. 'May'\n",
       "6. 'Jun'\n",
       "7. 'Jul'\n",
       "8. 'Aug'\n",
       "9. 'Sep'\n",
       "10. 'Oct'\n",
       "11. 'Nov'\n",
       "12. 'Dec'\n",
       "\n",
       "\n"
      ],
      "text/plain": [
       " [1] \"Jan\" \"Feb\" \"Mar\" \"Apr\" \"May\" \"Jun\" \"Jul\" \"Aug\" \"Sep\" \"Oct\" \"Nov\" \"Dec\""
      ]
     },
     "metadata": {},
     "output_type": "display_data"
    }
   ],
   "source": [
    "month.abb"
   ]
  },
  {
   "cell_type": "code",
   "execution_count": 164,
   "id": "8ae47605",
   "metadata": {
    "vscode": {
     "languageId": "r"
    }
   },
   "outputs": [
    {
     "data": {
      "text/html": [
       "<style>\n",
       ".list-inline {list-style: none; margin:0; padding: 0}\n",
       ".list-inline>li {display: inline-block}\n",
       ".list-inline>li:not(:last-child)::after {content: \"\\00b7\"; padding: 0 .5ex}\n",
       "</style>\n",
       "<ol class=list-inline><li>'January'</li><li>'February'</li><li>'March'</li><li>'April'</li><li>'May'</li><li>'June'</li><li>'July'</li><li>'August'</li><li>'September'</li><li>'October'</li><li>'November'</li><li>'December'</li></ol>\n"
      ],
      "text/latex": [
       "\\begin{enumerate*}\n",
       "\\item 'January'\n",
       "\\item 'February'\n",
       "\\item 'March'\n",
       "\\item 'April'\n",
       "\\item 'May'\n",
       "\\item 'June'\n",
       "\\item 'July'\n",
       "\\item 'August'\n",
       "\\item 'September'\n",
       "\\item 'October'\n",
       "\\item 'November'\n",
       "\\item 'December'\n",
       "\\end{enumerate*}\n"
      ],
      "text/markdown": [
       "1. 'January'\n",
       "2. 'February'\n",
       "3. 'March'\n",
       "4. 'April'\n",
       "5. 'May'\n",
       "6. 'June'\n",
       "7. 'July'\n",
       "8. 'August'\n",
       "9. 'September'\n",
       "10. 'October'\n",
       "11. 'November'\n",
       "12. 'December'\n",
       "\n",
       "\n"
      ],
      "text/plain": [
       " [1] \"January\"   \"February\"  \"March\"     \"April\"     \"May\"       \"June\"     \n",
       " [7] \"July\"      \"August\"    \"September\" \"October\"   \"November\"  \"December\" "
      ]
     },
     "metadata": {},
     "output_type": "display_data"
    }
   ],
   "source": [
    "month.name"
   ]
  },
  {
   "cell_type": "markdown",
   "id": "6ef10760",
   "metadata": {},
   "source": [
    "### WTF?"
   ]
  },
  {
   "cell_type": "code",
   "execution_count": 165,
   "id": "82311dd1",
   "metadata": {
    "vscode": {
     "languageId": "r"
    }
   },
   "outputs": [
    {
     "data": {
      "text/html": [
       "&lt;NA&gt;"
      ],
      "text/latex": [
       "<NA>"
      ],
      "text/markdown": [
       "&lt;NA&gt;"
      ],
      "text/plain": [
       "[1] NA"
      ]
     },
     "metadata": {},
     "output_type": "display_data"
    }
   ],
   "source": [
    "x == NA"
   ]
  },
  {
   "cell_type": "code",
   "execution_count": 166,
   "id": "940bc35d",
   "metadata": {
    "vscode": {
     "languageId": "r"
    }
   },
   "outputs": [
    {
     "data": {
      "text/html": [
       "5"
      ],
      "text/latex": [
       "5"
      ],
      "text/markdown": [
       "5"
      ],
      "text/plain": [
       "[1] 5"
      ]
     },
     "metadata": {},
     "output_type": "display_data"
    }
   ],
   "source": [
    "x"
   ]
  },
  {
   "cell_type": "code",
   "execution_count": 167,
   "id": "5b1b5911",
   "metadata": {
    "vscode": {
     "languageId": "r"
    }
   },
   "outputs": [
    {
     "data": {
      "text/html": [
       "'logical'"
      ],
      "text/latex": [
       "'logical'"
      ],
      "text/markdown": [
       "'logical'"
      ],
      "text/plain": [
       "[1] \"logical\""
      ]
     },
     "metadata": {},
     "output_type": "display_data"
    }
   ],
   "source": [
    "class(x == NA)"
   ]
  },
  {
   "cell_type": "code",
   "execution_count": 168,
   "id": "50dcfbb6",
   "metadata": {
    "vscode": {
     "languageId": "r"
    }
   },
   "outputs": [
    {
     "data": {
      "text/html": [
       "&lt;NA&gt;"
      ],
      "text/latex": [
       "<NA>"
      ],
      "text/markdown": [
       "&lt;NA&gt;"
      ],
      "text/plain": [
       "[1] NA"
      ]
     },
     "metadata": {},
     "output_type": "display_data"
    }
   ],
   "source": [
    "NA == NA"
   ]
  },
  {
   "cell_type": "code",
   "execution_count": 169,
   "id": "cc0016c6",
   "metadata": {
    "vscode": {
     "languageId": "r"
    }
   },
   "outputs": [
    {
     "data": {
      "text/html": [
       "<style>\n",
       ".list-inline {list-style: none; margin:0; padding: 0}\n",
       ".list-inline>li {display: inline-block}\n",
       ".list-inline>li:not(:last-child)::after {content: \"\\00b7\"; padding: 0 .5ex}\n",
       "</style>\n",
       "<ol class=list-inline><li>TRUE</li><li>FALSE</li><li>TRUE</li><li>&lt;NA&gt;</li></ol>\n"
      ],
      "text/latex": [
       "\\begin{enumerate*}\n",
       "\\item TRUE\n",
       "\\item FALSE\n",
       "\\item TRUE\n",
       "\\item <NA>\n",
       "\\end{enumerate*}\n"
      ],
      "text/markdown": [
       "1. TRUE\n",
       "2. FALSE\n",
       "3. TRUE\n",
       "4. &lt;NA&gt;\n",
       "\n",
       "\n"
      ],
      "text/plain": [
       "[1]  TRUE FALSE  TRUE    NA"
      ]
     },
     "metadata": {},
     "output_type": "display_data"
    }
   ],
   "source": [
    "3 == c(3, 1, 3, NA)"
   ]
  },
  {
   "cell_type": "code",
   "execution_count": 170,
   "id": "d77e1bed",
   "metadata": {
    "vscode": {
     "languageId": "r"
    }
   },
   "outputs": [
    {
     "data": {
      "text/html": [
       "FALSE"
      ],
      "text/latex": [
       "FALSE"
      ],
      "text/markdown": [
       "FALSE"
      ],
      "text/plain": [
       "[1] FALSE"
      ]
     },
     "metadata": {},
     "output_type": "display_data"
    }
   ],
   "source": [
    "is.na(x)"
   ]
  },
  {
   "cell_type": "code",
   "execution_count": 171,
   "id": "1ed527a8-d49a-4ab8-995f-dd9e79d7d428",
   "metadata": {
    "vscode": {
     "languageId": "r"
    }
   },
   "outputs": [
    {
     "data": {
      "text/html": [
       "<style>\n",
       ".list-inline {list-style: none; margin:0; padding: 0}\n",
       ".list-inline>li {display: inline-block}\n",
       ".list-inline>li:not(:last-child)::after {content: \"\\00b7\"; padding: 0 .5ex}\n",
       "</style>\n",
       "<ol class=list-inline><li>FALSE</li><li>FALSE</li><li>FALSE</li><li>TRUE</li></ol>\n"
      ],
      "text/latex": [
       "\\begin{enumerate*}\n",
       "\\item FALSE\n",
       "\\item FALSE\n",
       "\\item FALSE\n",
       "\\item TRUE\n",
       "\\end{enumerate*}\n"
      ],
      "text/markdown": [
       "1. FALSE\n",
       "2. FALSE\n",
       "3. FALSE\n",
       "4. TRUE\n",
       "\n",
       "\n"
      ],
      "text/plain": [
       "[1] FALSE FALSE FALSE  TRUE"
      ]
     },
     "metadata": {},
     "output_type": "display_data"
    }
   ],
   "source": [
    "is.na(c(3, 1, 3, NA))"
   ]
  },
  {
   "cell_type": "code",
   "execution_count": 172,
   "id": "3e4db4b9",
   "metadata": {
    "vscode": {
     "languageId": "r"
    }
   },
   "outputs": [
    {
     "data": {
      "text/html": [],
      "text/latex": [],
      "text/markdown": [],
      "text/plain": [
       "logical(0)"
      ]
     },
     "metadata": {},
     "output_type": "display_data"
    }
   ],
   "source": [
    "xnull <- NULL\n",
    "xnull == NULL"
   ]
  },
  {
   "cell_type": "code",
   "execution_count": 173,
   "id": "a25754fa",
   "metadata": {
    "vscode": {
     "languageId": "r"
    }
   },
   "outputs": [
    {
     "data": {
      "text/html": [],
      "text/latex": [],
      "text/markdown": [],
      "text/plain": [
       "logical(0)"
      ]
     },
     "metadata": {},
     "output_type": "display_data"
    }
   ],
   "source": [
    "xnotnull <- 42\n",
    "xnotnull == NULL"
   ]
  },
  {
   "cell_type": "code",
   "execution_count": 174,
   "id": "22d906d9",
   "metadata": {
    "vscode": {
     "languageId": "r"
    }
   },
   "outputs": [
    {
     "data": {
      "text/html": [
       "TRUE"
      ],
      "text/latex": [
       "TRUE"
      ],
      "text/markdown": [
       "TRUE"
      ],
      "text/plain": [
       "[1] TRUE"
      ]
     },
     "metadata": {},
     "output_type": "display_data"
    }
   ],
   "source": [
    "is.null(xnull)"
   ]
  },
  {
   "cell_type": "code",
   "execution_count": 175,
   "id": "3a0dc951",
   "metadata": {
    "vscode": {
     "languageId": "r"
    }
   },
   "outputs": [
    {
     "name": "stdout",
     "output_type": "stream",
     "text": [
      "logical(0)\n",
      "logical(0)\n"
     ]
    }
   ],
   "source": [
    "print(xnull == NULL)\n",
    "print(xnotnull == NULL)"
   ]
  },
  {
   "cell_type": "code",
   "execution_count": 177,
   "id": "12f089e0",
   "metadata": {
    "vscode": {
     "languageId": "r"
    }
   },
   "outputs": [
    {
     "data": {
      "text/html": [
       "<style>\n",
       ".list-inline {list-style: none; margin:0; padding: 0}\n",
       ".list-inline>li {display: inline-block}\n",
       ".list-inline>li:not(:last-child)::after {content: \"\\00b7\"; padding: 0 .5ex}\n",
       "</style>\n",
       "<ol class=list-inline><li>FALSE</li><li>FALSE</li><li>FALSE</li><li>FALSE</li><li>FALSE</li><li>FALSE</li><li>TRUE</li><li>FALSE</li><li>FALSE</li><li>FALSE</li></ol>\n"
      ],
      "text/latex": [
       "\\begin{enumerate*}\n",
       "\\item FALSE\n",
       "\\item FALSE\n",
       "\\item FALSE\n",
       "\\item FALSE\n",
       "\\item FALSE\n",
       "\\item FALSE\n",
       "\\item TRUE\n",
       "\\item FALSE\n",
       "\\item FALSE\n",
       "\\item FALSE\n",
       "\\end{enumerate*}\n"
      ],
      "text/markdown": [
       "1. FALSE\n",
       "2. FALSE\n",
       "3. FALSE\n",
       "4. FALSE\n",
       "5. FALSE\n",
       "6. FALSE\n",
       "7. TRUE\n",
       "8. FALSE\n",
       "9. FALSE\n",
       "10. FALSE\n",
       "\n",
       "\n"
      ],
      "text/plain": [
       " [1] FALSE FALSE FALSE FALSE FALSE FALSE  TRUE FALSE FALSE FALSE"
      ]
     },
     "metadata": {},
     "output_type": "display_data"
    }
   ],
   "source": [
    "x1 <- 10:1\n",
    "x1 == c(4, 6)"
   ]
  },
  {
   "cell_type": "code",
   "execution_count": 178,
   "id": "a9d39943",
   "metadata": {
    "vscode": {
     "languageId": "r"
    }
   },
   "outputs": [
    {
     "data": {
      "text/html": [
       "<style>\n",
       ".list-inline {list-style: none; margin:0; padding: 0}\n",
       ".list-inline>li {display: inline-block}\n",
       ".list-inline>li:not(:last-child)::after {content: \"\\00b7\"; padding: 0 .5ex}\n",
       "</style>\n",
       "<ol class=list-inline><li>FALSE</li><li>FALSE</li><li>FALSE</li><li>FALSE</li><li>TRUE</li><li>FALSE</li><li>TRUE</li><li>FALSE</li><li>FALSE</li><li>FALSE</li></ol>\n"
      ],
      "text/latex": [
       "\\begin{enumerate*}\n",
       "\\item FALSE\n",
       "\\item FALSE\n",
       "\\item FALSE\n",
       "\\item FALSE\n",
       "\\item TRUE\n",
       "\\item FALSE\n",
       "\\item TRUE\n",
       "\\item FALSE\n",
       "\\item FALSE\n",
       "\\item FALSE\n",
       "\\end{enumerate*}\n"
      ],
      "text/markdown": [
       "1. FALSE\n",
       "2. FALSE\n",
       "3. FALSE\n",
       "4. FALSE\n",
       "5. TRUE\n",
       "6. FALSE\n",
       "7. TRUE\n",
       "8. FALSE\n",
       "9. FALSE\n",
       "10. FALSE\n",
       "\n",
       "\n"
      ],
      "text/plain": [
       " [1] FALSE FALSE FALSE FALSE  TRUE FALSE  TRUE FALSE FALSE FALSE"
      ]
     },
     "metadata": {},
     "output_type": "display_data"
    }
   ],
   "source": [
    "x1 %in% c(4, 6)"
   ]
  },
  {
   "cell_type": "code",
   "execution_count": 180,
   "id": "061eb6b0-d353-4853-a9f5-e44ca56debaf",
   "metadata": {
    "vscode": {
     "languageId": "r"
    }
   },
   "outputs": [
    {
     "data": {
      "text/html": [
       "<style>\n",
       ".list-inline {list-style: none; margin:0; padding: 0}\n",
       ".list-inline>li {display: inline-block}\n",
       ".list-inline>li:not(:last-child)::after {content: \"\\00b7\"; padding: 0 .5ex}\n",
       "</style>\n",
       "<ol class=list-inline><li>FALSE</li><li>FALSE</li><li>FALSE</li><li>FALSE</li><li>FALSE</li><li>FALSE</li><li>TRUE</li><li>FALSE</li><li>FALSE</li><li>FALSE</li></ol>\n"
      ],
      "text/latex": [
       "\\begin{enumerate*}\n",
       "\\item FALSE\n",
       "\\item FALSE\n",
       "\\item FALSE\n",
       "\\item FALSE\n",
       "\\item FALSE\n",
       "\\item FALSE\n",
       "\\item TRUE\n",
       "\\item FALSE\n",
       "\\item FALSE\n",
       "\\item FALSE\n",
       "\\end{enumerate*}\n"
      ],
      "text/markdown": [
       "1. FALSE\n",
       "2. FALSE\n",
       "3. FALSE\n",
       "4. FALSE\n",
       "5. FALSE\n",
       "6. FALSE\n",
       "7. TRUE\n",
       "8. FALSE\n",
       "9. FALSE\n",
       "10. FALSE\n",
       "\n",
       "\n"
      ],
      "text/plain": [
       " [1] FALSE FALSE FALSE FALSE FALSE FALSE  TRUE FALSE FALSE FALSE"
      ]
     },
     "metadata": {},
     "output_type": "display_data"
    }
   ],
   "source": [
    "x1 == 4"
   ]
  },
  {
   "cell_type": "code",
   "execution_count": 183,
   "id": "de9ab894",
   "metadata": {
    "vscode": {
     "languageId": "r"
    }
   },
   "outputs": [
    {
     "data": {
      "text/html": [
       "<style>\n",
       ".list-inline {list-style: none; margin:0; padding: 0}\n",
       ".list-inline>li {display: inline-block}\n",
       ".list-inline>li:not(:last-child)::after {content: \"\\00b7\"; padding: 0 .5ex}\n",
       "</style>\n",
       "<ol class=list-inline><li>TRUE</li><li>TRUE</li><li>TRUE</li><li>TRUE</li><li>TRUE</li><li>TRUE</li><li>TRUE</li><li>TRUE</li><li>TRUE</li><li>TRUE</li></ol>\n"
      ],
      "text/latex": [
       "\\begin{enumerate*}\n",
       "\\item TRUE\n",
       "\\item TRUE\n",
       "\\item TRUE\n",
       "\\item TRUE\n",
       "\\item TRUE\n",
       "\\item TRUE\n",
       "\\item TRUE\n",
       "\\item TRUE\n",
       "\\item TRUE\n",
       "\\item TRUE\n",
       "\\end{enumerate*}\n"
      ],
      "text/markdown": [
       "1. TRUE\n",
       "2. TRUE\n",
       "3. TRUE\n",
       "4. TRUE\n",
       "5. TRUE\n",
       "6. TRUE\n",
       "7. TRUE\n",
       "8. TRUE\n",
       "9. TRUE\n",
       "10. TRUE\n",
       "\n",
       "\n"
      ],
      "text/plain": [
       " [1] TRUE TRUE TRUE TRUE TRUE TRUE TRUE TRUE TRUE TRUE"
      ]
     },
     "metadata": {},
     "output_type": "display_data"
    }
   ],
   "source": [
    "x1 == 4 | 6"
   ]
  },
  {
   "cell_type": "code",
   "execution_count": 191,
   "id": "e3f9e95e-df9e-4a7f-8ef2-cfe47944fe6d",
   "metadata": {
    "vscode": {
     "languageId": "r"
    }
   },
   "outputs": [
    {
     "data": {
      "text/html": [
       "TRUE"
      ],
      "text/latex": [
       "TRUE"
      ],
      "text/markdown": [
       "TRUE"
      ],
      "text/plain": [
       "[1] TRUE"
      ]
     },
     "metadata": {},
     "output_type": "display_data"
    }
   ],
   "source": [
    "as.logical(6)"
   ]
  },
  {
   "cell_type": "code",
   "execution_count": 184,
   "id": "01660d5c",
   "metadata": {
    "vscode": {
     "languageId": "r"
    }
   },
   "outputs": [
    {
     "data": {
      "text/html": [
       "FALSE"
      ],
      "text/latex": [
       "FALSE"
      ],
      "text/markdown": [
       "FALSE"
      ],
      "text/plain": [
       "[1] FALSE"
      ]
     },
     "metadata": {},
     "output_type": "display_data"
    }
   ],
   "source": [
    "as.logical(6) & 0"
   ]
  },
  {
   "cell_type": "code",
   "execution_count": 185,
   "id": "3beb5eb1",
   "metadata": {
    "vscode": {
     "languageId": "r"
    }
   },
   "outputs": [
    {
     "data": {
      "text/html": [
       "<style>\n",
       ".list-inline {list-style: none; margin:0; padding: 0}\n",
       ".list-inline>li {display: inline-block}\n",
       ".list-inline>li:not(:last-child)::after {content: \"\\00b7\"; padding: 0 .5ex}\n",
       "</style>\n",
       "<ol class=list-inline><li>FALSE</li><li>FALSE</li><li>FALSE</li><li>FALSE</li><li>FALSE</li><li>FALSE</li><li>FALSE</li><li>FALSE</li><li>FALSE</li><li>TRUE</li></ol>\n"
      ],
      "text/latex": [
       "\\begin{enumerate*}\n",
       "\\item FALSE\n",
       "\\item FALSE\n",
       "\\item FALSE\n",
       "\\item FALSE\n",
       "\\item FALSE\n",
       "\\item FALSE\n",
       "\\item FALSE\n",
       "\\item FALSE\n",
       "\\item FALSE\n",
       "\\item TRUE\n",
       "\\end{enumerate*}\n"
      ],
      "text/markdown": [
       "1. FALSE\n",
       "2. FALSE\n",
       "3. FALSE\n",
       "4. FALSE\n",
       "5. FALSE\n",
       "6. FALSE\n",
       "7. FALSE\n",
       "8. FALSE\n",
       "9. FALSE\n",
       "10. TRUE\n",
       "\n",
       "\n"
      ],
      "text/plain": [
       " [1] FALSE FALSE FALSE FALSE FALSE FALSE FALSE FALSE FALSE  TRUE"
      ]
     },
     "metadata": {},
     "output_type": "display_data"
    }
   ],
   "source": [
    "x1 == (4 | 6)"
   ]
  },
  {
   "cell_type": "code",
   "execution_count": 186,
   "id": "e1a5b131",
   "metadata": {
    "vscode": {
     "languageId": "r"
    }
   },
   "outputs": [
    {
     "data": {
      "text/html": [
       "<style>\n",
       ".list-inline {list-style: none; margin:0; padding: 0}\n",
       ".list-inline>li {display: inline-block}\n",
       ".list-inline>li:not(:last-child)::after {content: \"\\00b7\"; padding: 0 .5ex}\n",
       "</style>\n",
       "<ol class=list-inline><li>FALSE</li><li>FALSE</li><li>FALSE</li><li>FALSE</li><li>TRUE</li><li>FALSE</li><li>TRUE</li><li>FALSE</li><li>FALSE</li><li>FALSE</li></ol>\n"
      ],
      "text/latex": [
       "\\begin{enumerate*}\n",
       "\\item FALSE\n",
       "\\item FALSE\n",
       "\\item FALSE\n",
       "\\item FALSE\n",
       "\\item TRUE\n",
       "\\item FALSE\n",
       "\\item TRUE\n",
       "\\item FALSE\n",
       "\\item FALSE\n",
       "\\item FALSE\n",
       "\\end{enumerate*}\n"
      ],
      "text/markdown": [
       "1. FALSE\n",
       "2. FALSE\n",
       "3. FALSE\n",
       "4. FALSE\n",
       "5. TRUE\n",
       "6. FALSE\n",
       "7. TRUE\n",
       "8. FALSE\n",
       "9. FALSE\n",
       "10. FALSE\n",
       "\n",
       "\n"
      ],
      "text/plain": [
       " [1] FALSE FALSE FALSE FALSE  TRUE FALSE  TRUE FALSE FALSE FALSE"
      ]
     },
     "metadata": {},
     "output_type": "display_data"
    }
   ],
   "source": [
    "x1 == 4 | x1 == 6"
   ]
  },
  {
   "cell_type": "markdown",
   "id": "b5a99236",
   "metadata": {},
   "source": [
    "<i>Esos paréntesis... ¡que no falten!</i>"
   ]
  },
  {
   "cell_type": "code",
   "execution_count": 193,
   "id": "7353e868",
   "metadata": {
    "vscode": {
     "languageId": "r"
    }
   },
   "outputs": [
    {
     "data": {
      "text/html": [
       "TRUE"
      ],
      "text/latex": [
       "TRUE"
      ],
      "text/markdown": [
       "TRUE"
      ],
      "text/plain": [
       "[1] TRUE"
      ]
     },
     "metadata": {},
     "output_type": "display_data"
    }
   ],
   "source": [
    "50 < \"7\""
   ]
  },
  {
   "cell_type": "code",
   "execution_count": 194,
   "id": "2caae8f8",
   "metadata": {
    "vscode": {
     "languageId": "r"
    }
   },
   "outputs": [
    {
     "data": {
      "text/html": [
       "TRUE"
      ],
      "text/latex": [
       "TRUE"
      ],
      "text/markdown": [
       "TRUE"
      ],
      "text/plain": [
       "[1] TRUE"
      ]
     },
     "metadata": {},
     "output_type": "display_data"
    }
   ],
   "source": [
    "\"50\" < \"7\""
   ]
  },
  {
   "cell_type": "code",
   "execution_count": 195,
   "id": "7cff43d3",
   "metadata": {
    "vscode": {
     "languageId": "r"
    }
   },
   "outputs": [
    {
     "data": {
      "text/html": [
       "1"
      ],
      "text/latex": [
       "1"
      ],
      "text/markdown": [
       "1"
      ],
      "text/plain": [
       "[1] 1"
      ]
     },
     "metadata": {},
     "output_type": "display_data"
    }
   ],
   "source": [
    "length(x != 1)"
   ]
  },
  {
   "cell_type": "code",
   "execution_count": 196,
   "id": "567225c2",
   "metadata": {
    "vscode": {
     "languageId": "r"
    }
   },
   "outputs": [
    {
     "data": {
      "text/html": [
       "FALSE"
      ],
      "text/latex": [
       "FALSE"
      ],
      "text/markdown": [
       "FALSE"
      ],
      "text/plain": [
       "[1] FALSE"
      ]
     },
     "metadata": {},
     "output_type": "display_data"
    }
   ],
   "source": [
    "length(x) != 1"
   ]
  },
  {
   "cell_type": "markdown",
   "id": "a7c6db01",
   "metadata": {},
   "source": [
    "<i>No dejéis que R decida por vosotr@s...</i>"
   ]
  },
  {
   "cell_type": "code",
   "execution_count": 197,
   "id": "7b04cadc",
   "metadata": {
    "vscode": {
     "languageId": "r"
    }
   },
   "outputs": [
    {
     "data": {
      "text/html": [
       "<style>\n",
       ".list-inline {list-style: none; margin:0; padding: 0}\n",
       ".list-inline>li {display: inline-block}\n",
       ".list-inline>li:not(:last-child)::after {content: \"\\00b7\"; padding: 0 .5ex}\n",
       "</style>\n",
       "<ol class=list-inline><li>&lt;NA&gt;</li><li>2</li><li>2</li></ol>\n"
      ],
      "text/latex": [
       "\\begin{enumerate*}\n",
       "\\item <NA>\n",
       "\\item 2\n",
       "\\item 2\n",
       "\\end{enumerate*}\n"
      ],
      "text/markdown": [
       "1. &lt;NA&gt;\n",
       "2. 2\n",
       "3. 2\n",
       "\n",
       "\n"
      ],
      "text/plain": [
       "[1] NA  2  2"
      ]
     },
     "metadata": {},
     "output_type": "display_data"
    }
   ],
   "source": [
    "xna <- c(1, NA, 3, 2, 4, 2)\n",
    "xna[xna == 2]"
   ]
  },
  {
   "cell_type": "code",
   "execution_count": 198,
   "id": "febbbfb8",
   "metadata": {
    "vscode": {
     "languageId": "r"
    }
   },
   "outputs": [
    {
     "data": {
      "text/html": [
       "<style>\n",
       ".list-inline {list-style: none; margin:0; padding: 0}\n",
       ".list-inline>li {display: inline-block}\n",
       ".list-inline>li:not(:last-child)::after {content: \"\\00b7\"; padding: 0 .5ex}\n",
       "</style>\n",
       "<ol class=list-inline><li>TRUE</li><li>FALSE</li><li>TRUE</li><li>TRUE</li><li>TRUE</li><li>TRUE</li></ol>\n"
      ],
      "text/latex": [
       "\\begin{enumerate*}\n",
       "\\item TRUE\n",
       "\\item FALSE\n",
       "\\item TRUE\n",
       "\\item TRUE\n",
       "\\item TRUE\n",
       "\\item TRUE\n",
       "\\end{enumerate*}\n"
      ],
      "text/markdown": [
       "1. TRUE\n",
       "2. FALSE\n",
       "3. TRUE\n",
       "4. TRUE\n",
       "5. TRUE\n",
       "6. TRUE\n",
       "\n",
       "\n"
      ],
      "text/plain": [
       "[1]  TRUE FALSE  TRUE  TRUE  TRUE  TRUE"
      ]
     },
     "metadata": {},
     "output_type": "display_data"
    }
   ],
   "source": [
    "!is.na(xna)"
   ]
  },
  {
   "cell_type": "code",
   "execution_count": 199,
   "id": "b4d2bdc3",
   "metadata": {
    "vscode": {
     "languageId": "r"
    }
   },
   "outputs": [
    {
     "data": {
      "text/html": [
       "<style>\n",
       ".list-inline {list-style: none; margin:0; padding: 0}\n",
       ".list-inline>li {display: inline-block}\n",
       ".list-inline>li:not(:last-child)::after {content: \"\\00b7\"; padding: 0 .5ex}\n",
       "</style>\n",
       "<ol class=list-inline><li>FALSE</li><li>&lt;NA&gt;</li><li>FALSE</li><li>TRUE</li><li>FALSE</li><li>TRUE</li></ol>\n"
      ],
      "text/latex": [
       "\\begin{enumerate*}\n",
       "\\item FALSE\n",
       "\\item <NA>\n",
       "\\item FALSE\n",
       "\\item TRUE\n",
       "\\item FALSE\n",
       "\\item TRUE\n",
       "\\end{enumerate*}\n"
      ],
      "text/markdown": [
       "1. FALSE\n",
       "2. &lt;NA&gt;\n",
       "3. FALSE\n",
       "4. TRUE\n",
       "5. FALSE\n",
       "6. TRUE\n",
       "\n",
       "\n"
      ],
      "text/plain": [
       "[1] FALSE    NA FALSE  TRUE FALSE  TRUE"
      ]
     },
     "metadata": {},
     "output_type": "display_data"
    }
   ],
   "source": [
    "xna == 2"
   ]
  },
  {
   "cell_type": "code",
   "execution_count": 200,
   "id": "24a76e24",
   "metadata": {
    "vscode": {
     "languageId": "r"
    }
   },
   "outputs": [
    {
     "data": {
      "text/html": [
       "<style>\n",
       ".list-inline {list-style: none; margin:0; padding: 0}\n",
       ".list-inline>li {display: inline-block}\n",
       ".list-inline>li:not(:last-child)::after {content: \"\\00b7\"; padding: 0 .5ex}\n",
       "</style>\n",
       "<ol class=list-inline><li>2</li><li>2</li></ol>\n"
      ],
      "text/latex": [
       "\\begin{enumerate*}\n",
       "\\item 2\n",
       "\\item 2\n",
       "\\end{enumerate*}\n"
      ],
      "text/markdown": [
       "1. 2\n",
       "2. 2\n",
       "\n",
       "\n"
      ],
      "text/plain": [
       "[1] 2 2"
      ]
     },
     "metadata": {},
     "output_type": "display_data"
    }
   ],
   "source": [
    "xna[xna == 2 & !is.na(xna)] # Analizar!"
   ]
  },
  {
   "cell_type": "code",
   "execution_count": 201,
   "id": "a186ea87",
   "metadata": {
    "vscode": {
     "languageId": "r"
    }
   },
   "outputs": [
    {
     "data": {
      "text/html": [
       "<style>\n",
       ".list-inline {list-style: none; margin:0; padding: 0}\n",
       ".list-inline>li {display: inline-block}\n",
       ".list-inline>li:not(:last-child)::after {content: \"\\00b7\"; padding: 0 .5ex}\n",
       "</style>\n",
       "<ol class=list-inline><li>4</li><li>6</li></ol>\n"
      ],
      "text/latex": [
       "\\begin{enumerate*}\n",
       "\\item 4\n",
       "\\item 6\n",
       "\\end{enumerate*}\n"
      ],
      "text/markdown": [
       "1. 4\n",
       "2. 6\n",
       "\n",
       "\n"
      ],
      "text/plain": [
       "[1] 4 6"
      ]
     },
     "metadata": {},
     "output_type": "display_data"
    }
   ],
   "source": [
    "which(xna == 2)"
   ]
  },
  {
   "cell_type": "code",
   "execution_count": 202,
   "id": "9e674bb6",
   "metadata": {
    "vscode": {
     "languageId": "r"
    }
   },
   "outputs": [
    {
     "data": {
      "text/html": [
       "<style>\n",
       ".list-inline {list-style: none; margin:0; padding: 0}\n",
       ".list-inline>li {display: inline-block}\n",
       ".list-inline>li:not(:last-child)::after {content: \"\\00b7\"; padding: 0 .5ex}\n",
       "</style>\n",
       "<ol class=list-inline><li>2</li><li>2</li></ol>\n"
      ],
      "text/latex": [
       "\\begin{enumerate*}\n",
       "\\item 2\n",
       "\\item 2\n",
       "\\end{enumerate*}\n"
      ],
      "text/markdown": [
       "1. 2\n",
       "2. 2\n",
       "\n",
       "\n"
      ],
      "text/plain": [
       "[1] 2 2"
      ]
     },
     "metadata": {},
     "output_type": "display_data"
    }
   ],
   "source": [
    "xna[which(xna == 2)]"
   ]
  },
  {
   "cell_type": "code",
   "execution_count": 203,
   "id": "b9659a00",
   "metadata": {
    "vscode": {
     "languageId": "r"
    }
   },
   "outputs": [
    {
     "name": "stdout",
     "output_type": "stream",
     "text": [
      "a b a \n",
      "1 2 3 \n"
     ]
    }
   ],
   "source": [
    "x4 <- c(a=1, b=2, a=3)\n",
    "print(x4)"
   ]
  },
  {
   "cell_type": "code",
   "execution_count": 204,
   "id": "36035c6a",
   "metadata": {
    "vscode": {
     "languageId": "r"
    }
   },
   "outputs": [
    {
     "data": {
      "text/html": [
       "<strong>a:</strong> 1"
      ],
      "text/latex": [
       "\\textbf{a:} 1"
      ],
      "text/markdown": [
       "**a:** 1"
      ],
      "text/plain": [
       "a \n",
       "1 "
      ]
     },
     "metadata": {},
     "output_type": "display_data"
    }
   ],
   "source": [
    "x4[\"a\"]"
   ]
  },
  {
   "cell_type": "code",
   "execution_count": 205,
   "id": "74e68052",
   "metadata": {
    "vscode": {
     "languageId": "r"
    }
   },
   "outputs": [
    {
     "data": {
      "text/html": [
       "<style>\n",
       ".list-inline {list-style: none; margin:0; padding: 0}\n",
       ".list-inline>li {display: inline-block}\n",
       ".list-inline>li:not(:last-child)::after {content: \"\\00b7\"; padding: 0 .5ex}\n",
       "</style>\n",
       "<ol class=list-inline><li>'a'</li><li>'b'</li><li>'a'</li></ol>\n"
      ],
      "text/latex": [
       "\\begin{enumerate*}\n",
       "\\item 'a'\n",
       "\\item 'b'\n",
       "\\item 'a'\n",
       "\\end{enumerate*}\n"
      ],
      "text/markdown": [
       "1. 'a'\n",
       "2. 'b'\n",
       "3. 'a'\n",
       "\n",
       "\n"
      ],
      "text/plain": [
       "[1] \"a\" \"b\" \"a\""
      ]
     },
     "metadata": {},
     "output_type": "display_data"
    }
   ],
   "source": [
    "names(x4)"
   ]
  },
  {
   "cell_type": "code",
   "execution_count": 206,
   "id": "5d8ca3fc",
   "metadata": {
    "vscode": {
     "languageId": "r"
    }
   },
   "outputs": [
    {
     "data": {
      "text/html": [
       "<style>\n",
       ".dl-inline {width: auto; margin:0; padding: 0}\n",
       ".dl-inline>dt, .dl-inline>dd {float: none; width: auto; display: inline-block}\n",
       ".dl-inline>dt::after {content: \":\\0020\"; padding-right: .5ex}\n",
       ".dl-inline>dt:not(:first-of-type) {padding-left: .5ex}\n",
       "</style><dl class=dl-inline><dt>a</dt><dd>1</dd><dt>a</dt><dd>3</dd></dl>\n"
      ],
      "text/latex": [
       "\\begin{description*}\n",
       "\\item[a] 1\n",
       "\\item[a] 3\n",
       "\\end{description*}\n"
      ],
      "text/markdown": [
       "a\n",
       ":   1a\n",
       ":   3\n",
       "\n"
      ],
      "text/plain": [
       "a a \n",
       "1 3 "
      ]
     },
     "metadata": {},
     "output_type": "display_data"
    }
   ],
   "source": [
    "x4[names(x4) %in% \"a\"]"
   ]
  },
  {
   "cell_type": "code",
   "execution_count": 207,
   "id": "54d64c44",
   "metadata": {
    "vscode": {
     "languageId": "r"
    }
   },
   "outputs": [
    {
     "name": "stdout",
     "output_type": "stream",
     "text": [
      "missing value   real string \n",
      "           NA          \"NA\" \n"
     ]
    }
   ],
   "source": [
    "print(c(\"missing value\"=NA, \"real string\"=\"NA\"))"
   ]
  },
  {
   "cell_type": "markdown",
   "id": "ce1d9e78",
   "metadata": {},
   "source": [
    "### Ejercicios vectores\n",
    "1) Crea un vector de números impares entre el 1 y el 30 (ambos inclusive)\n",
    "2) Crea los siguientes vectores:\n",
    "    * un vector del 1 al 20\n",
    "    * un vector del 20 al 1\n",
    "    * un vector que tenga el siguiente patrón 1,2,3,...,19,20,19,18,...,2,1\n",
    "3) Crea una secuencia de números del 1 al 30 con un incremento de 0.5\n",
    "4) Crea una secuencia que contenga las cuatro primeras letras del abecedario en minúscula 3 veces cada una (a a a b b b c c c d d d)\n",
    "5) Crea el vector numérico `x` con los valores 2.3, 3.3, 4.3 y accede al segundo elemento del vector\n",
    "6) Crea un vector numérico `z` que contenga los números del 1 al 10. Cambia la clase del vector forzando que sea de tipo carácter. Después cambia el vector `z` a numerico otra vez\n",
    "7) Crea un vector numérico con valores no ordenados usando la función `sample()`. Una vez creado ordena el vector de forma ascendente usando la función `sort()`. ¿Si quisieras invertir el orden de los elementos del vector que función utilizarías?\n",
    "8) Crea un vector `x` que contenga los elementos -5,-1,0,1,2,3,4,5,6. Escribe un código del tipo `x[algo]`, para extraer:\n",
    "    * elementos de x menores que 0,\n",
    "    * elementos de x menores o igual que 0,\n",
    "    * elementos of x mayor o igual que 3,\n",
    "    * elementos de x menor que 0 o mayor que 4,\n",
    "    * elementos de x mayor que 0 y menor que 4,\n",
    "    * elementos de x distintos de 0\n",
    "9) Crea los siguientes vectores `x<-month.name[1:6]` y `z<-month.name[4:10]` a partir del vector original `month.name`. Recupera los valores idénticos entre los vectores x y z usando `%in%`\n",
    "10) R permite extraer elementos de un vector que satisfacen determinadas condiciones usando la función `subset()`. Para el vector x <- c(6,1:3,NA,12) calcula los elementos mayores que 5 en x usando:\n",
    "     * el filtrado normal, es decir, con el operador `>`\n",
    "     * la función `subset()`"
   ]
  },
  {
   "cell_type": "markdown",
   "id": "d648076b",
   "metadata": {},
   "source": [
    "# Listas"
   ]
  },
  {
   "cell_type": "markdown",
   "id": "bdc67c2a",
   "metadata": {},
   "source": [
    "Son estructuras de datos que permiten combinar elementos de diferente tipo y/o tamaño."
   ]
  },
  {
   "cell_type": "code",
   "execution_count": 208,
   "id": "fc8c0b6b",
   "metadata": {
    "vscode": {
     "languageId": "r"
    }
   },
   "outputs": [
    {
     "name": "stdout",
     "output_type": "stream",
     "text": [
      "[[1]]\n",
      "[1] \"Red\"\n",
      "\n",
      "[[2]]\n",
      "[1] \"Green\"\n",
      "\n",
      "[[3]]\n",
      "[1] 21 32 11\n",
      "\n",
      "[[4]]\n",
      "[1] TRUE\n",
      "\n",
      "[[5]]\n",
      "[1] 51.23\n",
      "\n",
      "[[6]]\n",
      "[1] 0+119.1i\n",
      "\n"
     ]
    }
   ],
   "source": [
    "list_data <- list(\"Red\", \"Green\", c(21,32,11), TRUE, 51.23, 119.1i)\n",
    "print(list_data)"
   ]
  },
  {
   "cell_type": "code",
   "execution_count": 209,
   "id": "463b7e2d",
   "metadata": {
    "vscode": {
     "languageId": "r"
    }
   },
   "outputs": [
    {
     "data": {
      "text/html": [
       "'list'"
      ],
      "text/latex": [
       "'list'"
      ],
      "text/markdown": [
       "'list'"
      ],
      "text/plain": [
       "[1] \"list\""
      ]
     },
     "metadata": {},
     "output_type": "display_data"
    }
   ],
   "source": [
    "class(list_data)"
   ]
  },
  {
   "cell_type": "code",
   "execution_count": 212,
   "id": "d135bc4d",
   "metadata": {
    "vscode": {
     "languageId": "r"
    }
   },
   "outputs": [
    {
     "name": "stdout",
     "output_type": "stream",
     "text": [
      "[[1]]\n",
      "[1] 51.23\n",
      "\n",
      "[[2]]\n",
      "[1] 0+119.1i\n",
      "\n"
     ]
    }
   ],
   "source": [
    "print(list_data[5:6])"
   ]
  },
  {
   "cell_type": "code",
   "execution_count": 217,
   "id": "332d02dd-6af2-4f95-b4b0-59053fef11f9",
   "metadata": {
    "vscode": {
     "languageId": "r"
    }
   },
   "outputs": [
    {
     "name": "stdout",
     "output_type": "stream",
     "text": [
      "[[1]]\n",
      "[1] 0+119.1i\n",
      "\n"
     ]
    }
   ],
   "source": [
    "print(list_data[6])"
   ]
  },
  {
   "cell_type": "code",
   "execution_count": 214,
   "id": "e328fec5",
   "metadata": {
    "vscode": {
     "languageId": "r"
    }
   },
   "outputs": [
    {
     "data": {
      "text/html": [
       "'list'"
      ],
      "text/latex": [
       "'list'"
      ],
      "text/markdown": [
       "'list'"
      ],
      "text/plain": [
       "[1] \"list\""
      ]
     },
     "metadata": {},
     "output_type": "display_data"
    }
   ],
   "source": [
    "class(list_data[6])"
   ]
  },
  {
   "cell_type": "code",
   "execution_count": 216,
   "id": "c413df2a-5b9e-42f4-924a-7d72ef7524c4",
   "metadata": {
    "vscode": {
     "languageId": "r"
    }
   },
   "outputs": [
    {
     "name": "stdout",
     "output_type": "stream",
     "text": [
      "[1] 0+119.1i\n"
     ]
    }
   ],
   "source": [
    "print(list_data[[6]])"
   ]
  },
  {
   "cell_type": "code",
   "execution_count": 215,
   "id": "3e1aa342-390a-46fb-995e-62aeedcb012e",
   "metadata": {
    "vscode": {
     "languageId": "r"
    }
   },
   "outputs": [
    {
     "data": {
      "text/html": [
       "'complex'"
      ],
      "text/latex": [
       "'complex'"
      ],
      "text/markdown": [
       "'complex'"
      ],
      "text/plain": [
       "[1] \"complex\""
      ]
     },
     "metadata": {},
     "output_type": "display_data"
    }
   ],
   "source": [
    "class(list_data[[6]])"
   ]
  },
  {
   "cell_type": "code",
   "execution_count": 218,
   "id": "98348b8e",
   "metadata": {
    "vscode": {
     "languageId": "r"
    }
   },
   "outputs": [
    {
     "name": "stdout",
     "output_type": "stream",
     "text": [
      "$Colors\n",
      "[1] \"Red\"\n",
      "\n",
      "$Age\n",
      "[1] \"Green\"\n",
      "\n",
      "$Time\n",
      "[1] 21 32 11\n",
      "\n",
      "$<NA>\n",
      "[1] TRUE\n",
      "\n",
      "$<NA>\n",
      "[1] 51.23\n",
      "\n",
      "$<NA>\n",
      "[1] 0+119.1i\n",
      "\n"
     ]
    }
   ],
   "source": [
    "names(list_data) <- c(\"Colors\", \"Age\", \"Time\")\n",
    "print(list_data)"
   ]
  },
  {
   "cell_type": "code",
   "execution_count": 219,
   "id": "3511bfc7",
   "metadata": {
    "vscode": {
     "languageId": "r"
    }
   },
   "outputs": [
    {
     "name": "stdout",
     "output_type": "stream",
     "text": [
      "$A\n",
      "[1] \"Red\"\n",
      "\n",
      "$B\n",
      "[1] \"Green\"\n",
      "\n",
      "$C\n",
      "[1] 21 32 11\n",
      "\n",
      "$E\n",
      "[1] TRUE\n",
      "\n",
      "$F\n",
      "[1] 51.23\n",
      "\n",
      "$A\n",
      "[1] 0+119.1i\n",
      "\n"
     ]
    }
   ],
   "source": [
    "names(list_data) <- c(\"A\", \"B\", \"C\", \"E\", \"F\", \"A\")\n",
    "print(list_data)"
   ]
  },
  {
   "cell_type": "code",
   "execution_count": 223,
   "id": "ff2ebd20",
   "metadata": {
    "vscode": {
     "languageId": "r"
    }
   },
   "outputs": [
    {
     "data": {
      "text/html": [
       "<strong>$names</strong> = <style>\n",
       ".list-inline {list-style: none; margin:0; padding: 0}\n",
       ".list-inline>li {display: inline-block}\n",
       ".list-inline>li:not(:last-child)::after {content: \"\\00b7\"; padding: 0 .5ex}\n",
       "</style>\n",
       "<ol class=list-inline><li>'A'</li><li>'B'</li><li>'C'</li><li>'E'</li><li>'F'</li><li>'A'</li></ol>\n"
      ],
      "text/latex": [
       "\\textbf{\\$names} = \\begin{enumerate*}\n",
       "\\item 'A'\n",
       "\\item 'B'\n",
       "\\item 'C'\n",
       "\\item 'E'\n",
       "\\item 'F'\n",
       "\\item 'A'\n",
       "\\end{enumerate*}\n"
      ],
      "text/markdown": [
       "**$names** = 1. 'A'\n",
       "2. 'B'\n",
       "3. 'C'\n",
       "4. 'E'\n",
       "5. 'F'\n",
       "6. 'A'\n",
       "\n",
       "\n"
      ],
      "text/plain": [
       "$names\n",
       "[1] \"A\" \"B\" \"C\" \"E\" \"F\" \"A\"\n"
      ]
     },
     "metadata": {},
     "output_type": "display_data"
    }
   ],
   "source": [
    "attributes(list_data)"
   ]
  },
  {
   "cell_type": "code",
   "execution_count": 224,
   "id": "5313cbc7",
   "metadata": {
    "vscode": {
     "languageId": "r"
    }
   },
   "outputs": [
    {
     "data": {
      "text/html": [
       "'Red'"
      ],
      "text/latex": [
       "'Red'"
      ],
      "text/markdown": [
       "'Red'"
      ],
      "text/plain": [
       "[1] \"Red\""
      ]
     },
     "metadata": {},
     "output_type": "display_data"
    }
   ],
   "source": [
    "list_data[[1]]"
   ]
  },
  {
   "cell_type": "code",
   "execution_count": 226,
   "id": "db597d80",
   "metadata": {
    "vscode": {
     "languageId": "r"
    }
   },
   "outputs": [
    {
     "data": {
      "text/html": [
       "'Red'"
      ],
      "text/latex": [
       "'Red'"
      ],
      "text/markdown": [
       "'Red'"
      ],
      "text/plain": [
       "[1] \"Red\""
      ]
     },
     "metadata": {},
     "output_type": "display_data"
    }
   ],
   "source": [
    "list_data[[\"A\"]]"
   ]
  },
  {
   "cell_type": "code",
   "execution_count": 229,
   "id": "33910fe6",
   "metadata": {
    "vscode": {
     "languageId": "r"
    }
   },
   "outputs": [],
   "source": [
    "list_data[[1]] <- 5"
   ]
  },
  {
   "cell_type": "code",
   "execution_count": 230,
   "id": "057e88a8",
   "metadata": {
    "vscode": {
     "languageId": "r"
    }
   },
   "outputs": [
    {
     "data": {
      "text/html": [
       "5"
      ],
      "text/latex": [
       "5"
      ],
      "text/markdown": [
       "5"
      ],
      "text/plain": [
       "[1] 5"
      ]
     },
     "metadata": {},
     "output_type": "display_data"
    }
   ],
   "source": [
    "list_data[[1]]"
   ]
  },
  {
   "cell_type": "code",
   "execution_count": 231,
   "id": "a27bc1e9",
   "metadata": {
    "vscode": {
     "languageId": "r"
    }
   },
   "outputs": [
    {
     "name": "stdout",
     "output_type": "stream",
     "text": [
      "$A\n",
      "[1] 5\n",
      "\n",
      "$B\n",
      "[1] \"Green\"\n",
      "\n",
      "$C\n",
      "[1] 21 32 11\n",
      "\n"
     ]
    }
   ],
   "source": [
    "print(list_data[1:3])"
   ]
  },
  {
   "cell_type": "code",
   "execution_count": 232,
   "id": "64ea9264",
   "metadata": {
    "vscode": {
     "languageId": "r"
    }
   },
   "outputs": [
    {
     "name": "stdout",
     "output_type": "stream",
     "text": [
      "$A\n",
      "[1] 5\n",
      "\n",
      "$E\n",
      "[1] TRUE\n",
      "\n"
     ]
    }
   ],
   "source": [
    "print(list_data[c(\"A\",\"E\")])"
   ]
  },
  {
   "cell_type": "code",
   "execution_count": 233,
   "id": "fc0175a3",
   "metadata": {
    "vscode": {
     "languageId": "r"
    }
   },
   "outputs": [
    {
     "name": "stdout",
     "output_type": "stream",
     "text": [
      "         A          B         C1         C2         C3          E          F \n",
      "       \"5\"    \"Green\"       \"21\"       \"32\"       \"11\"     \"TRUE\"    \"51.23\" \n",
      "         A \n",
      "\"0+119.1i\" \n"
     ]
    }
   ],
   "source": [
    "print(unlist(list_data))"
   ]
  },
  {
   "cell_type": "code",
   "execution_count": 234,
   "id": "88cc888b",
   "metadata": {
    "vscode": {
     "languageId": "r"
    }
   },
   "outputs": [
    {
     "data": {
      "text/html": [
       "'character'"
      ],
      "text/latex": [
       "'character'"
      ],
      "text/markdown": [
       "'character'"
      ],
      "text/plain": [
       "[1] \"character\""
      ]
     },
     "metadata": {},
     "output_type": "display_data"
    }
   ],
   "source": [
    "class(unlist(list_data))"
   ]
  },
  {
   "cell_type": "code",
   "execution_count": 235,
   "id": "e144dbd0",
   "metadata": {
    "vscode": {
     "languageId": "r"
    }
   },
   "outputs": [
    {
     "name": "stdout",
     "output_type": "stream",
     "text": [
      "[[1]]\n",
      "[1] 1\n",
      "\n",
      "[[2]]\n",
      "[1] 2\n",
      "\n",
      "[[3]]\n",
      "[1] 3\n",
      "\n",
      "[[4]]\n",
      "[1] 4\n",
      "\n",
      "[[5]]\n",
      "[1] 5\n",
      "\n",
      "[[6]]\n",
      "[1] \"Mon\"\n",
      "\n",
      "[[7]]\n",
      "[1] \"Tue\"\n",
      "\n",
      "[[8]]\n",
      "[1] \"Wed\"\n",
      "\n",
      "[[9]]\n",
      "[1] \"Thurs\"\n",
      "\n",
      "[[10]]\n",
      "[1] \"Fri\"\n",
      "\n"
     ]
    }
   ],
   "source": [
    "num_list <- list(1,2,3,4,5)\n",
    "day_list <- list(\"Mon\",\"Tue\",\"Wed\", \"Thurs\", \"Fri\")\n",
    "new_list <- c(num_list, day_list)\n",
    "print(new_list)"
   ]
  },
  {
   "cell_type": "code",
   "execution_count": 236,
   "id": "d4c48d74",
   "metadata": {
    "vscode": {
     "languageId": "r"
    }
   },
   "outputs": [
    {
     "name": "stdout",
     "output_type": "stream",
     "text": [
      "[[1]]\n",
      "[1] 1\n",
      "\n",
      "[[2]]\n",
      "[1] 2\n",
      "\n",
      "[[3]]\n",
      "[1] 3\n",
      "\n",
      "[[4]]\n",
      "[1] 4\n",
      "\n",
      "[[5]]\n",
      "[1] \"Mon\"\n",
      "\n",
      "[[6]]\n",
      "[1] \"Tue\"\n",
      "\n",
      "[[7]]\n",
      "[1] \"Wed\"\n",
      "\n",
      "[[8]]\n",
      "[1] \"Thurs\"\n",
      "\n",
      "[[9]]\n",
      "[1] \"Fri\"\n",
      "\n"
     ]
    }
   ],
   "source": [
    "new_list[[5]] <- NULL # Opcion 1\n",
    "print(new_list)"
   ]
  },
  {
   "cell_type": "code",
   "execution_count": 237,
   "id": "8282eeca",
   "metadata": {
    "vscode": {
     "languageId": "r"
    }
   },
   "outputs": [
    {
     "name": "stdout",
     "output_type": "stream",
     "text": [
      "[[1]]\n",
      "[1] 1\n",
      "\n",
      "[[2]]\n",
      "[1] 2\n",
      "\n",
      "[[3]]\n",
      "[1] 3\n",
      "\n",
      "[[4]]\n",
      "[1] 4\n",
      "\n",
      "[[5]]\n",
      "[1] \"Tue\"\n",
      "\n",
      "[[6]]\n",
      "[1] \"Wed\"\n",
      "\n",
      "[[7]]\n",
      "[1] \"Thurs\"\n",
      "\n",
      "[[8]]\n",
      "[1] \"Fri\"\n",
      "\n"
     ]
    }
   ],
   "source": [
    "print(new_list[-5]) # Opcion 2"
   ]
  },
  {
   "cell_type": "code",
   "execution_count": 239,
   "id": "726c1ae6",
   "metadata": {
    "vscode": {
     "languageId": "r"
    }
   },
   "outputs": [
    {
     "name": "stdout",
     "output_type": "stream",
     "text": [
      "$hola\n",
      "[1] \"Hola\"\n",
      "\n",
      "[[2]]\n",
      "[1] 1\n",
      "\n",
      "[[3]]\n",
      "[1] 3\n",
      "\n",
      "$adios\n",
      "[1] 5.6\n",
      "\n"
     ]
    }
   ],
   "source": [
    "print(list(hola=\"Hola\", 1, 3, adios = 5.6))"
   ]
  },
  {
   "cell_type": "markdown",
   "id": "cc38e8be",
   "metadata": {},
   "source": [
    "### Ejercicios listas\n",
    "1) Crea una lista llamada `mi_lista` que contenga los siguientes elementos: un vector numérico de 15 elementos, un vector de caracteres de 5 elementos y un vector de valores booleanos de 10 elementos todos TRUE\n",
    "2) Dada la siguiente lista `my_list <- list(name=\"Fred\", wife=\"Mary\", no.children=3, child.ages=c(4,7,9))`:\n",
    "    * Imprime los nombres de todos los componentes de la lista\n",
    "    * Devuelve el segundo componente de la lista\n",
    "    * Recupera el segundo elemento del cuarto componente de la lista \n",
    "    * Imprime la longitud del cuarto elemento de la lista\n",
    "    * Reemplaza el cuarto elemento de la lista por un vector de 12 numeros del 1 al 12\n",
    "    * Elimina el componente `wife`\n",
    "    * Añade un componente más a la lista llamado `pepe`\n",
    "3) Convertir un vector de 30 números postivos y negativos en una lista con [1ra componente: los 2 primeros elementos, 2da componente: los 5 siguientes pero como caracteres, 3ra componente: los elementos restantes que sean valores positivos, 4ta componente: una lista de caracteres con tu nombre y apellidos (ej: \"Rocio\" \"Romero\" \"Zaliz\")]\n",
    "    * Una vez creado ponles nombre (ej: \"1ro\", \"2do\" etc)\n",
    "    * Accede al tercer elemento por su nombre\n",
    "    * Fusiona el primer y cuarto componente en un quito componente y borra los originales\n",
    "4) Crea una nueva lista cuyos componentes sean las listas de los ejericios anteriores (OJO: Su longitude debería ser 3)\n",
    "5) Crea una nueva lista que concatene las listas de los tres primeros ejericios. ¿Qué longitud tiene?"
   ]
  },
  {
   "cell_type": "markdown",
   "id": "e8d6ff32",
   "metadata": {},
   "source": [
    "# Matrices"
   ]
  },
  {
   "cell_type": "markdown",
   "id": "b4cba868",
   "metadata": {},
   "source": [
    "* Las matrices son vectores con un atributo de dimensión. El atributo de dimensión es en sí mismo un vector entero de longitud 2 (nrow, ncol).\n",
    "* Todas las columnas de una matriz deben tener el mismo tipo (numérico, carácter, etc.) y la misma longitud."
   ]
  },
  {
   "cell_type": "code",
   "execution_count": 240,
   "id": "19fc51e6",
   "metadata": {
    "vscode": {
     "languageId": "r"
    }
   },
   "outputs": [
    {
     "name": "stdout",
     "output_type": "stream",
     "text": [
      "     [,1] [,2] [,3] [,4]\n",
      "[1,]    1    6   11   16\n",
      "[2,]    2    7   12   17\n",
      "[3,]    3    8   13   18\n",
      "[4,]    4    9   14   19\n",
      "[5,]    5   10   15   20\n"
     ]
    }
   ],
   "source": [
    "x <- 1:20\n",
    "dim(x) <- c(5,4)\n",
    "print(x)"
   ]
  },
  {
   "cell_type": "code",
   "execution_count": 242,
   "id": "194e4cb4-0771-450e-9f7a-2191b2cacccc",
   "metadata": {
    "vscode": {
     "languageId": "r"
    }
   },
   "outputs": [
    {
     "data": {
      "text/html": [
       "<table class=\"dataframe\">\n",
       "<caption>A matrix: 5 × 4 of type int</caption>\n",
       "<tbody>\n",
       "\t<tr><td>1</td><td> 6</td><td>11</td><td>16</td></tr>\n",
       "\t<tr><td>2</td><td> 7</td><td>12</td><td>17</td></tr>\n",
       "\t<tr><td>3</td><td> 8</td><td>13</td><td>18</td></tr>\n",
       "\t<tr><td>4</td><td> 9</td><td>14</td><td>19</td></tr>\n",
       "\t<tr><td>5</td><td>10</td><td>15</td><td>20</td></tr>\n",
       "</tbody>\n",
       "</table>\n"
      ],
      "text/latex": [
       "A matrix: 5 × 4 of type int\n",
       "\\begin{tabular}{llll}\n",
       "\t 1 &  6 & 11 & 16\\\\\n",
       "\t 2 &  7 & 12 & 17\\\\\n",
       "\t 3 &  8 & 13 & 18\\\\\n",
       "\t 4 &  9 & 14 & 19\\\\\n",
       "\t 5 & 10 & 15 & 20\\\\\n",
       "\\end{tabular}\n"
      ],
      "text/markdown": [
       "\n",
       "A matrix: 5 × 4 of type int\n",
       "\n",
       "| 1 |  6 | 11 | 16 |\n",
       "| 2 |  7 | 12 | 17 |\n",
       "| 3 |  8 | 13 | 18 |\n",
       "| 4 |  9 | 14 | 19 |\n",
       "| 5 | 10 | 15 | 20 |\n",
       "\n"
      ],
      "text/plain": [
       "     [,1] [,2] [,3] [,4]\n",
       "[1,] 1     6   11   16  \n",
       "[2,] 2     7   12   17  \n",
       "[3,] 3     8   13   18  \n",
       "[4,] 4     9   14   19  \n",
       "[5,] 5    10   15   20  "
      ]
     },
     "metadata": {},
     "output_type": "display_data"
    }
   ],
   "source": [
    "x"
   ]
  },
  {
   "cell_type": "code",
   "execution_count": 241,
   "id": "0928e61b-7b14-4108-b286-f47d914e2a62",
   "metadata": {
    "vscode": {
     "languageId": "r"
    }
   },
   "outputs": [
    {
     "data": {
      "text/html": [
       "<style>\n",
       ".list-inline {list-style: none; margin:0; padding: 0}\n",
       ".list-inline>li {display: inline-block}\n",
       ".list-inline>li:not(:last-child)::after {content: \"\\00b7\"; padding: 0 .5ex}\n",
       "</style>\n",
       "<ol class=list-inline><li>'matrix'</li><li>'array'</li></ol>\n"
      ],
      "text/latex": [
       "\\begin{enumerate*}\n",
       "\\item 'matrix'\n",
       "\\item 'array'\n",
       "\\end{enumerate*}\n"
      ],
      "text/markdown": [
       "1. 'matrix'\n",
       "2. 'array'\n",
       "\n",
       "\n"
      ],
      "text/plain": [
       "[1] \"matrix\" \"array\" "
      ]
     },
     "metadata": {},
     "output_type": "display_data"
    }
   ],
   "source": [
    "class(x)"
   ]
  },
  {
   "cell_type": "code",
   "execution_count": 229,
   "id": "5e64caff",
   "metadata": {
    "vscode": {
     "languageId": "r"
    }
   },
   "outputs": [
    {
     "data": {
      "text/html": [
       "<table class=\"dataframe\">\n",
       "<caption>A matrix: 2 × 3 of type lgl</caption>\n",
       "<tbody>\n",
       "\t<tr><td>NA</td><td>NA</td><td>NA</td></tr>\n",
       "\t<tr><td>NA</td><td>NA</td><td>NA</td></tr>\n",
       "</tbody>\n",
       "</table>\n"
      ],
      "text/latex": [
       "A matrix: 2 × 3 of type lgl\n",
       "\\begin{tabular}{lll}\n",
       "\t NA & NA & NA\\\\\n",
       "\t NA & NA & NA\\\\\n",
       "\\end{tabular}\n"
      ],
      "text/markdown": [
       "\n",
       "A matrix: 2 × 3 of type lgl\n",
       "\n",
       "| NA | NA | NA |\n",
       "| NA | NA | NA |\n",
       "\n"
      ],
      "text/plain": [
       "     [,1] [,2] [,3]\n",
       "[1,] NA   NA   NA  \n",
       "[2,] NA   NA   NA  "
      ]
     },
     "metadata": {},
     "output_type": "display_data"
    }
   ],
   "source": [
    "matrix(nrow = 2, ncol = 3)"
   ]
  },
  {
   "cell_type": "code",
   "execution_count": 248,
   "id": "5963d4c1",
   "metadata": {
    "vscode": {
     "languageId": "r"
    }
   },
   "outputs": [
    {
     "data": {
      "text/html": [
       "<table class=\"dataframe\">\n",
       "<caption>A matrix: 2 × 3 of type dbl</caption>\n",
       "<tbody>\n",
       "\t<tr><td>0</td><td>0</td><td>0</td></tr>\n",
       "\t<tr><td>0</td><td>0</td><td>0</td></tr>\n",
       "</tbody>\n",
       "</table>\n"
      ],
      "text/latex": [
       "A matrix: 2 × 3 of type dbl\n",
       "\\begin{tabular}{lll}\n",
       "\t 0 & 0 & 0\\\\\n",
       "\t 0 & 0 & 0\\\\\n",
       "\\end{tabular}\n"
      ],
      "text/markdown": [
       "\n",
       "A matrix: 2 × 3 of type dbl\n",
       "\n",
       "| 0 | 0 | 0 |\n",
       "| 0 | 0 | 0 |\n",
       "\n"
      ],
      "text/plain": [
       "     [,1] [,2] [,3]\n",
       "[1,] 0    0    0   \n",
       "[2,] 0    0    0   "
      ]
     },
     "metadata": {},
     "output_type": "display_data"
    }
   ],
   "source": [
    "matrix(0, nrow = 2, ncol = 3)"
   ]
  },
  {
   "cell_type": "code",
   "execution_count": 249,
   "id": "129faa33",
   "metadata": {
    "vscode": {
     "languageId": "r"
    }
   },
   "outputs": [
    {
     "data": {
      "text/html": [
       "<table class=\"dataframe\">\n",
       "<caption>A matrix: 2 × 3 of type chr</caption>\n",
       "<tbody>\n",
       "\t<tr><td>a</td><td>a</td><td>a</td></tr>\n",
       "\t<tr><td>a</td><td>a</td><td>a</td></tr>\n",
       "</tbody>\n",
       "</table>\n"
      ],
      "text/latex": [
       "A matrix: 2 × 3 of type chr\n",
       "\\begin{tabular}{lll}\n",
       "\t a & a & a\\\\\n",
       "\t a & a & a\\\\\n",
       "\\end{tabular}\n"
      ],
      "text/markdown": [
       "\n",
       "A matrix: 2 × 3 of type chr\n",
       "\n",
       "| a | a | a |\n",
       "| a | a | a |\n",
       "\n"
      ],
      "text/plain": [
       "     [,1] [,2] [,3]\n",
       "[1,] a    a    a   \n",
       "[2,] a    a    a   "
      ]
     },
     "metadata": {},
     "output_type": "display_data"
    }
   ],
   "source": [
    "matrix(\"a\", nrow = 2, ncol = 3)"
   ]
  },
  {
   "cell_type": "code",
   "execution_count": 250,
   "id": "ea12c294",
   "metadata": {
    "vscode": {
     "languageId": "r"
    }
   },
   "outputs": [
    {
     "name": "stderr",
     "output_type": "stream",
     "text": [
      "Warning message in matrix(1:10, nrow = 3, ncol = 4):\n",
      "“la longitud de los datos [10] no es un submúltiplo o múltiplo del número de filas [3] en la matriz”\n"
     ]
    },
    {
     "data": {
      "text/html": [
       "<table class=\"dataframe\">\n",
       "<caption>A matrix: 3 × 4 of type int</caption>\n",
       "<tbody>\n",
       "\t<tr><td>1</td><td>4</td><td>7</td><td>10</td></tr>\n",
       "\t<tr><td>2</td><td>5</td><td>8</td><td> 1</td></tr>\n",
       "\t<tr><td>3</td><td>6</td><td>9</td><td> 2</td></tr>\n",
       "</tbody>\n",
       "</table>\n"
      ],
      "text/latex": [
       "A matrix: 3 × 4 of type int\n",
       "\\begin{tabular}{llll}\n",
       "\t 1 & 4 & 7 & 10\\\\\n",
       "\t 2 & 5 & 8 &  1\\\\\n",
       "\t 3 & 6 & 9 &  2\\\\\n",
       "\\end{tabular}\n"
      ],
      "text/markdown": [
       "\n",
       "A matrix: 3 × 4 of type int\n",
       "\n",
       "| 1 | 4 | 7 | 10 |\n",
       "| 2 | 5 | 8 |  1 |\n",
       "| 3 | 6 | 9 |  2 |\n",
       "\n"
      ],
      "text/plain": [
       "     [,1] [,2] [,3] [,4]\n",
       "[1,] 1    4    7    10  \n",
       "[2,] 2    5    8     1  \n",
       "[3,] 3    6    9     2  "
      ]
     },
     "metadata": {},
     "output_type": "display_data"
    }
   ],
   "source": [
    "matrix(1:10, nrow = 3, ncol = 4)"
   ]
  },
  {
   "cell_type": "code",
   "execution_count": 252,
   "id": "f9efdfb1",
   "metadata": {
    "vscode": {
     "languageId": "r"
    }
   },
   "outputs": [
    {
     "name": "stderr",
     "output_type": "stream",
     "text": [
      "Warning message in matrix(1:10, nrow = 3, ncol = 4, byrow = TRUE):\n",
      "“la longitud de los datos [10] no es un submúltiplo o múltiplo del número de filas [3] en la matriz”\n"
     ]
    },
    {
     "data": {
      "text/html": [
       "<table class=\"dataframe\">\n",
       "<caption>A matrix: 3 × 4 of type int</caption>\n",
       "<tbody>\n",
       "\t<tr><td>1</td><td> 2</td><td>3</td><td>4</td></tr>\n",
       "\t<tr><td>5</td><td> 6</td><td>7</td><td>8</td></tr>\n",
       "\t<tr><td>9</td><td>10</td><td>1</td><td>2</td></tr>\n",
       "</tbody>\n",
       "</table>\n"
      ],
      "text/latex": [
       "A matrix: 3 × 4 of type int\n",
       "\\begin{tabular}{llll}\n",
       "\t 1 &  2 & 3 & 4\\\\\n",
       "\t 5 &  6 & 7 & 8\\\\\n",
       "\t 9 & 10 & 1 & 2\\\\\n",
       "\\end{tabular}\n"
      ],
      "text/markdown": [
       "\n",
       "A matrix: 3 × 4 of type int\n",
       "\n",
       "| 1 |  2 | 3 | 4 |\n",
       "| 5 |  6 | 7 | 8 |\n",
       "| 9 | 10 | 1 | 2 |\n",
       "\n"
      ],
      "text/plain": [
       "     [,1] [,2] [,3] [,4]\n",
       "[1,] 1     2   3    4   \n",
       "[2,] 5     6   7    8   \n",
       "[3,] 9    10   1    2   "
      ]
     },
     "metadata": {},
     "output_type": "display_data"
    }
   ],
   "source": [
    "matrix(1:10, nrow=3, ncol = 4, byrow=TRUE)"
   ]
  },
  {
   "cell_type": "code",
   "execution_count": 253,
   "id": "83350b24",
   "metadata": {
    "vscode": {
     "languageId": "r"
    }
   },
   "outputs": [
    {
     "data": {
      "text/html": [
       "<table class=\"dataframe\">\n",
       "<caption>A matrix: 3 × 4 of type int</caption>\n",
       "<tbody>\n",
       "\t<tr><td>1</td><td>4</td><td>7</td><td>10</td></tr>\n",
       "\t<tr><td>2</td><td>5</td><td>8</td><td>11</td></tr>\n",
       "\t<tr><td>3</td><td>6</td><td>9</td><td>12</td></tr>\n",
       "</tbody>\n",
       "</table>\n"
      ],
      "text/latex": [
       "A matrix: 3 × 4 of type int\n",
       "\\begin{tabular}{llll}\n",
       "\t 1 & 4 & 7 & 10\\\\\n",
       "\t 2 & 5 & 8 & 11\\\\\n",
       "\t 3 & 6 & 9 & 12\\\\\n",
       "\\end{tabular}\n"
      ],
      "text/markdown": [
       "\n",
       "A matrix: 3 × 4 of type int\n",
       "\n",
       "| 1 | 4 | 7 | 10 |\n",
       "| 2 | 5 | 8 | 11 |\n",
       "| 3 | 6 | 9 | 12 |\n",
       "\n"
      ],
      "text/plain": [
       "     [,1] [,2] [,3] [,4]\n",
       "[1,] 1    4    7    10  \n",
       "[2,] 2    5    8    11  \n",
       "[3,] 3    6    9    12  "
      ]
     },
     "metadata": {},
     "output_type": "display_data"
    }
   ],
   "source": [
    "matrix(1:12, nrow = 3)"
   ]
  },
  {
   "cell_type": "code",
   "execution_count": 254,
   "id": "2b71b0f9",
   "metadata": {
    "vscode": {
     "languageId": "r"
    }
   },
   "outputs": [
    {
     "data": {
      "text/html": [
       "<table class=\"dataframe\">\n",
       "<caption>A matrix: 4 × 3 of type int</caption>\n",
       "<tbody>\n",
       "\t<tr><td>1</td><td>5</td><td> 9</td></tr>\n",
       "\t<tr><td>2</td><td>6</td><td>10</td></tr>\n",
       "\t<tr><td>3</td><td>7</td><td>11</td></tr>\n",
       "\t<tr><td>4</td><td>8</td><td>12</td></tr>\n",
       "</tbody>\n",
       "</table>\n"
      ],
      "text/latex": [
       "A matrix: 4 × 3 of type int\n",
       "\\begin{tabular}{lll}\n",
       "\t 1 & 5 &  9\\\\\n",
       "\t 2 & 6 & 10\\\\\n",
       "\t 3 & 7 & 11\\\\\n",
       "\t 4 & 8 & 12\\\\\n",
       "\\end{tabular}\n"
      ],
      "text/markdown": [
       "\n",
       "A matrix: 4 × 3 of type int\n",
       "\n",
       "| 1 | 5 |  9 |\n",
       "| 2 | 6 | 10 |\n",
       "| 3 | 7 | 11 |\n",
       "| 4 | 8 | 12 |\n",
       "\n"
      ],
      "text/plain": [
       "     [,1] [,2] [,3]\n",
       "[1,] 1    5     9  \n",
       "[2,] 2    6    10  \n",
       "[3,] 3    7    11  \n",
       "[4,] 4    8    12  "
      ]
     },
     "metadata": {},
     "output_type": "display_data"
    }
   ],
   "source": [
    "matrix(1:12, ncol=3)"
   ]
  },
  {
   "cell_type": "code",
   "execution_count": 256,
   "id": "526e7dbe",
   "metadata": {
    "vscode": {
     "languageId": "r"
    }
   },
   "outputs": [
    {
     "data": {
      "text/html": [
       "<table class=\"dataframe\">\n",
       "<caption>A matrix: 3 × 4 of type dbl</caption>\n",
       "<thead>\n",
       "\t<tr><th></th><th scope=col>1</th><th scope=col>2</th><th scope=col>x</th><th scope=col>y</th></tr>\n",
       "</thead>\n",
       "<tbody>\n",
       "\t<tr><th scope=row>A</th><td>1.1</td><td>4.1</td><td>7.1</td><td>10.1</td></tr>\n",
       "\t<tr><th scope=row>B</th><td>2.1</td><td>5.1</td><td>8.1</td><td>11.1</td></tr>\n",
       "\t<tr><th scope=row>C</th><td>3.1</td><td>6.1</td><td>9.1</td><td>12.1</td></tr>\n",
       "</tbody>\n",
       "</table>\n"
      ],
      "text/latex": [
       "A matrix: 3 × 4 of type dbl\n",
       "\\begin{tabular}{r|llll}\n",
       "  & 1 & 2 & x & y\\\\\n",
       "\\hline\n",
       "\tA & 1.1 & 4.1 & 7.1 & 10.1\\\\\n",
       "\tB & 2.1 & 5.1 & 8.1 & 11.1\\\\\n",
       "\tC & 3.1 & 6.1 & 9.1 & 12.1\\\\\n",
       "\\end{tabular}\n"
      ],
      "text/markdown": [
       "\n",
       "A matrix: 3 × 4 of type dbl\n",
       "\n",
       "| <!--/--> | 1 | 2 | x | y |\n",
       "|---|---|---|---|---|\n",
       "| A | 1.1 | 4.1 | 7.1 | 10.1 |\n",
       "| B | 2.1 | 5.1 | 8.1 | 11.1 |\n",
       "| C | 3.1 | 6.1 | 9.1 | 12.1 |\n",
       "\n"
      ],
      "text/plain": [
       "  1   2   x   y   \n",
       "A 1.1 4.1 7.1 10.1\n",
       "B 2.1 5.1 8.1 11.1\n",
       "C 3.1 6.1 9.1 12.1"
      ]
     },
     "metadata": {},
     "output_type": "display_data"
    }
   ],
   "source": [
    "m <- matrix(1.1:12.1, nrow=3, byrow=FALSE)\n",
    "rownames(m) <- c(\"A\",\"B\",\"C\")\n",
    "colnames(m) <- c(\"1\",\"2\",\"x\",\"y\")\n",
    "m"
   ]
  },
  {
   "cell_type": "code",
   "execution_count": 258,
   "id": "988e7003",
   "metadata": {
    "vscode": {
     "languageId": "r"
    }
   },
   "outputs": [
    {
     "name": "stdout",
     "output_type": "stream",
     "text": [
      "[1] 3 4\n"
     ]
    }
   ],
   "source": [
    "print(dim(m))"
   ]
  },
  {
   "cell_type": "code",
   "execution_count": 259,
   "id": "802eb0ba",
   "metadata": {
    "vscode": {
     "languageId": "r"
    }
   },
   "outputs": [
    {
     "data": {
      "text/html": [
       "12"
      ],
      "text/latex": [
       "12"
      ],
      "text/markdown": [
       "12"
      ],
      "text/plain": [
       "[1] 12"
      ]
     },
     "metadata": {},
     "output_type": "display_data"
    }
   ],
   "source": [
    "length(m)"
   ]
  },
  {
   "cell_type": "code",
   "execution_count": 260,
   "id": "9c0e4988",
   "metadata": {
    "vscode": {
     "languageId": "r"
    }
   },
   "outputs": [
    {
     "data": {
      "text/html": [
       "<table class=\"dataframe\">\n",
       "<caption>A matrix: 2 × 5 of type int</caption>\n",
       "<tbody>\n",
       "\t<tr><td> 1</td><td> 2</td><td> 3</td><td> 4</td><td> 5</td></tr>\n",
       "\t<tr><td>11</td><td>12</td><td>13</td><td>14</td><td>15</td></tr>\n",
       "</tbody>\n",
       "</table>\n"
      ],
      "text/latex": [
       "A matrix: 2 × 5 of type int\n",
       "\\begin{tabular}{lllll}\n",
       "\t  1 &  2 &  3 &  4 &  5\\\\\n",
       "\t 11 & 12 & 13 & 14 & 15\\\\\n",
       "\\end{tabular}\n"
      ],
      "text/markdown": [
       "\n",
       "A matrix: 2 × 5 of type int\n",
       "\n",
       "|  1 |  2 |  3 |  4 |  5 |\n",
       "| 11 | 12 | 13 | 14 | 15 |\n",
       "\n"
      ],
      "text/plain": [
       "     [,1] [,2] [,3] [,4] [,5]\n",
       "[1,]  1    2    3    4    5  \n",
       "[2,] 11   12   13   14   15  "
      ]
     },
     "metadata": {},
     "output_type": "display_data"
    }
   ],
   "source": [
    "rbind(1:5,11:15)"
   ]
  },
  {
   "cell_type": "code",
   "execution_count": 261,
   "id": "da754588",
   "metadata": {
    "vscode": {
     "languageId": "r"
    }
   },
   "outputs": [
    {
     "data": {
      "text/html": [
       "<table class=\"dataframe\">\n",
       "<caption>A matrix: 5 × 2 of type int</caption>\n",
       "<tbody>\n",
       "\t<tr><td>1</td><td>11</td></tr>\n",
       "\t<tr><td>2</td><td>12</td></tr>\n",
       "\t<tr><td>3</td><td>13</td></tr>\n",
       "\t<tr><td>4</td><td>14</td></tr>\n",
       "\t<tr><td>5</td><td>15</td></tr>\n",
       "</tbody>\n",
       "</table>\n"
      ],
      "text/latex": [
       "A matrix: 5 × 2 of type int\n",
       "\\begin{tabular}{ll}\n",
       "\t 1 & 11\\\\\n",
       "\t 2 & 12\\\\\n",
       "\t 3 & 13\\\\\n",
       "\t 4 & 14\\\\\n",
       "\t 5 & 15\\\\\n",
       "\\end{tabular}\n"
      ],
      "text/markdown": [
       "\n",
       "A matrix: 5 × 2 of type int\n",
       "\n",
       "| 1 | 11 |\n",
       "| 2 | 12 |\n",
       "| 3 | 13 |\n",
       "| 4 | 14 |\n",
       "| 5 | 15 |\n",
       "\n"
      ],
      "text/plain": [
       "     [,1] [,2]\n",
       "[1,] 1    11  \n",
       "[2,] 2    12  \n",
       "[3,] 3    13  \n",
       "[4,] 4    14  \n",
       "[5,] 5    15  "
      ]
     },
     "metadata": {},
     "output_type": "display_data"
    }
   ],
   "source": [
    "cbind(1:5,11:15)"
   ]
  },
  {
   "cell_type": "code",
   "execution_count": 262,
   "id": "c7397f15",
   "metadata": {
    "vscode": {
     "languageId": "r"
    }
   },
   "outputs": [
    {
     "data": {
      "text/html": [
       "<table class=\"dataframe\">\n",
       "<caption>A matrix: 3 × 4 of type dbl</caption>\n",
       "<thead>\n",
       "\t<tr><th></th><th scope=col>1</th><th scope=col>2</th><th scope=col>x</th><th scope=col>y</th></tr>\n",
       "</thead>\n",
       "<tbody>\n",
       "\t<tr><th scope=row>A</th><td>1.1</td><td>4.1</td><td>7.1</td><td>10.1</td></tr>\n",
       "\t<tr><th scope=row>B</th><td>2.1</td><td>5.1</td><td>8.1</td><td>11.1</td></tr>\n",
       "\t<tr><th scope=row>C</th><td>3.1</td><td>6.1</td><td>9.1</td><td>12.1</td></tr>\n",
       "</tbody>\n",
       "</table>\n"
      ],
      "text/latex": [
       "A matrix: 3 × 4 of type dbl\n",
       "\\begin{tabular}{r|llll}\n",
       "  & 1 & 2 & x & y\\\\\n",
       "\\hline\n",
       "\tA & 1.1 & 4.1 & 7.1 & 10.1\\\\\n",
       "\tB & 2.1 & 5.1 & 8.1 & 11.1\\\\\n",
       "\tC & 3.1 & 6.1 & 9.1 & 12.1\\\\\n",
       "\\end{tabular}\n"
      ],
      "text/markdown": [
       "\n",
       "A matrix: 3 × 4 of type dbl\n",
       "\n",
       "| <!--/--> | 1 | 2 | x | y |\n",
       "|---|---|---|---|---|\n",
       "| A | 1.1 | 4.1 | 7.1 | 10.1 |\n",
       "| B | 2.1 | 5.1 | 8.1 | 11.1 |\n",
       "| C | 3.1 | 6.1 | 9.1 | 12.1 |\n",
       "\n"
      ],
      "text/plain": [
       "  1   2   x   y   \n",
       "A 1.1 4.1 7.1 10.1\n",
       "B 2.1 5.1 8.1 11.1\n",
       "C 3.1 6.1 9.1 12.1"
      ]
     },
     "metadata": {},
     "output_type": "display_data"
    }
   ],
   "source": [
    "m"
   ]
  },
  {
   "cell_type": "code",
   "execution_count": 263,
   "id": "c5c994a3",
   "metadata": {
    "vscode": {
     "languageId": "r"
    }
   },
   "outputs": [
    {
     "data": {
      "text/html": [
       "1.1"
      ],
      "text/latex": [
       "1.1"
      ],
      "text/markdown": [
       "1.1"
      ],
      "text/plain": [
       "[1] 1.1"
      ]
     },
     "metadata": {},
     "output_type": "display_data"
    }
   ],
   "source": [
    "m[1,1]"
   ]
  },
  {
   "cell_type": "code",
   "execution_count": 264,
   "id": "71f8fe12",
   "metadata": {
    "vscode": {
     "languageId": "r"
    }
   },
   "outputs": [
    {
     "name": "stdout",
     "output_type": "stream",
     "text": [
      "   1    2    x    y \n",
      " 1.1  4.1  7.1 10.1 \n"
     ]
    }
   ],
   "source": [
    "print(m[1,])"
   ]
  },
  {
   "cell_type": "code",
   "execution_count": 265,
   "id": "ffbb6241",
   "metadata": {
    "vscode": {
     "languageId": "r"
    }
   },
   "outputs": [
    {
     "name": "stdout",
     "output_type": "stream",
     "text": [
      "  A   B   C \n",
      "1.1 2.1 3.1 \n"
     ]
    }
   ],
   "source": [
    "print(m[,1])"
   ]
  },
  {
   "cell_type": "code",
   "execution_count": 266,
   "id": "10187084",
   "metadata": {
    "vscode": {
     "languageId": "r"
    }
   },
   "outputs": [
    {
     "data": {
      "text/html": [
       "<table class=\"dataframe\">\n",
       "<caption>A matrix: 2 × 3 of type dbl</caption>\n",
       "<thead>\n",
       "\t<tr><th></th><th scope=col>1</th><th scope=col>2</th><th scope=col>x</th></tr>\n",
       "</thead>\n",
       "<tbody>\n",
       "\t<tr><th scope=row>A</th><td>1.1</td><td>4.1</td><td>7.1</td></tr>\n",
       "\t<tr><th scope=row>B</th><td>2.1</td><td>5.1</td><td>8.1</td></tr>\n",
       "</tbody>\n",
       "</table>\n"
      ],
      "text/latex": [
       "A matrix: 2 × 3 of type dbl\n",
       "\\begin{tabular}{r|lll}\n",
       "  & 1 & 2 & x\\\\\n",
       "\\hline\n",
       "\tA & 1.1 & 4.1 & 7.1\\\\\n",
       "\tB & 2.1 & 5.1 & 8.1\\\\\n",
       "\\end{tabular}\n"
      ],
      "text/markdown": [
       "\n",
       "A matrix: 2 × 3 of type dbl\n",
       "\n",
       "| <!--/--> | 1 | 2 | x |\n",
       "|---|---|---|---|\n",
       "| A | 1.1 | 4.1 | 7.1 |\n",
       "| B | 2.1 | 5.1 | 8.1 |\n",
       "\n"
      ],
      "text/plain": [
       "  1   2   x  \n",
       "A 1.1 4.1 7.1\n",
       "B 2.1 5.1 8.1"
      ]
     },
     "metadata": {},
     "output_type": "display_data"
    }
   ],
   "source": [
    "m[1:2,1:3]"
   ]
  },
  {
   "cell_type": "code",
   "execution_count": 267,
   "id": "4053c119",
   "metadata": {
    "vscode": {
     "languageId": "r"
    }
   },
   "outputs": [
    {
     "data": {
      "text/html": [
       "<table class=\"dataframe\">\n",
       "<caption>A matrix: 3 × 4 of type dbl</caption>\n",
       "<thead>\n",
       "\t<tr><th></th><th scope=col>1</th><th scope=col>2</th><th scope=col>x</th><th scope=col>y</th></tr>\n",
       "</thead>\n",
       "<tbody>\n",
       "\t<tr><th scope=row>A</th><td>1.1</td><td>4.1</td><td>7.1</td><td>10.1</td></tr>\n",
       "\t<tr><th scope=row>B</th><td>2.1</td><td>5.1</td><td>8.1</td><td>11.1</td></tr>\n",
       "\t<tr><th scope=row>C</th><td>3.1</td><td>6.1</td><td>9.1</td><td>12.1</td></tr>\n",
       "</tbody>\n",
       "</table>\n"
      ],
      "text/latex": [
       "A matrix: 3 × 4 of type dbl\n",
       "\\begin{tabular}{r|llll}\n",
       "  & 1 & 2 & x & y\\\\\n",
       "\\hline\n",
       "\tA & 1.1 & 4.1 & 7.1 & 10.1\\\\\n",
       "\tB & 2.1 & 5.1 & 8.1 & 11.1\\\\\n",
       "\tC & 3.1 & 6.1 & 9.1 & 12.1\\\\\n",
       "\\end{tabular}\n"
      ],
      "text/markdown": [
       "\n",
       "A matrix: 3 × 4 of type dbl\n",
       "\n",
       "| <!--/--> | 1 | 2 | x | y |\n",
       "|---|---|---|---|---|\n",
       "| A | 1.1 | 4.1 | 7.1 | 10.1 |\n",
       "| B | 2.1 | 5.1 | 8.1 | 11.1 |\n",
       "| C | 3.1 | 6.1 | 9.1 | 12.1 |\n",
       "\n"
      ],
      "text/plain": [
       "  1   2   x   y   \n",
       "A 1.1 4.1 7.1 10.1\n",
       "B 2.1 5.1 8.1 11.1\n",
       "C 3.1 6.1 9.1 12.1"
      ]
     },
     "metadata": {},
     "output_type": "display_data"
    }
   ],
   "source": [
    "m"
   ]
  },
  {
   "cell_type": "code",
   "execution_count": 268,
   "id": "f18c3d75",
   "metadata": {
    "scrolled": true,
    "vscode": {
     "languageId": "r"
    }
   },
   "outputs": [
    {
     "data": {
      "text/html": [
       "<table class=\"dataframe\">\n",
       "<caption>A matrix: 3 × 2 of type dbl</caption>\n",
       "<thead>\n",
       "\t<tr><th></th><th scope=col>1</th><th scope=col>x</th></tr>\n",
       "</thead>\n",
       "<tbody>\n",
       "\t<tr><th scope=row>A</th><td>1.1</td><td>7.1</td></tr>\n",
       "\t<tr><th scope=row>B</th><td>2.1</td><td>8.1</td></tr>\n",
       "\t<tr><th scope=row>C</th><td>3.1</td><td>9.1</td></tr>\n",
       "</tbody>\n",
       "</table>\n"
      ],
      "text/latex": [
       "A matrix: 3 × 2 of type dbl\n",
       "\\begin{tabular}{r|ll}\n",
       "  & 1 & x\\\\\n",
       "\\hline\n",
       "\tA & 1.1 & 7.1\\\\\n",
       "\tB & 2.1 & 8.1\\\\\n",
       "\tC & 3.1 & 9.1\\\\\n",
       "\\end{tabular}\n"
      ],
      "text/markdown": [
       "\n",
       "A matrix: 3 × 2 of type dbl\n",
       "\n",
       "| <!--/--> | 1 | x |\n",
       "|---|---|---|\n",
       "| A | 1.1 | 7.1 |\n",
       "| B | 2.1 | 8.1 |\n",
       "| C | 3.1 | 9.1 |\n",
       "\n"
      ],
      "text/plain": [
       "  1   x  \n",
       "A 1.1 7.1\n",
       "B 2.1 8.1\n",
       "C 3.1 9.1"
      ]
     },
     "metadata": {},
     "output_type": "display_data"
    }
   ],
   "source": [
    "m[,c(\"1\", \"x\")]"
   ]
  },
  {
   "cell_type": "code",
   "execution_count": 269,
   "id": "9a645285",
   "metadata": {
    "vscode": {
     "languageId": "r"
    }
   },
   "outputs": [
    {
     "data": {
      "text/html": [
       "<table class=\"dataframe\">\n",
       "<caption>A matrix: 3 × 2 of type dbl</caption>\n",
       "<thead>\n",
       "\t<tr><th></th><th scope=col>2</th><th scope=col>x</th></tr>\n",
       "</thead>\n",
       "<tbody>\n",
       "\t<tr><th scope=row>A</th><td>4.1</td><td>7.1</td></tr>\n",
       "\t<tr><th scope=row>B</th><td>5.1</td><td>8.1</td></tr>\n",
       "\t<tr><th scope=row>C</th><td>6.1</td><td>9.1</td></tr>\n",
       "</tbody>\n",
       "</table>\n"
      ],
      "text/latex": [
       "A matrix: 3 × 2 of type dbl\n",
       "\\begin{tabular}{r|ll}\n",
       "  & 2 & x\\\\\n",
       "\\hline\n",
       "\tA & 4.1 & 7.1\\\\\n",
       "\tB & 5.1 & 8.1\\\\\n",
       "\tC & 6.1 & 9.1\\\\\n",
       "\\end{tabular}\n"
      ],
      "text/markdown": [
       "\n",
       "A matrix: 3 × 2 of type dbl\n",
       "\n",
       "| <!--/--> | 2 | x |\n",
       "|---|---|---|\n",
       "| A | 4.1 | 7.1 |\n",
       "| B | 5.1 | 8.1 |\n",
       "| C | 6.1 | 9.1 |\n",
       "\n"
      ],
      "text/plain": [
       "  2   x  \n",
       "A 4.1 7.1\n",
       "B 5.1 8.1\n",
       "C 6.1 9.1"
      ]
     },
     "metadata": {},
     "output_type": "display_data"
    }
   ],
   "source": [
    "m[,c(-1,-4)]"
   ]
  },
  {
   "cell_type": "code",
   "execution_count": 270,
   "id": "92031058",
   "metadata": {
    "vscode": {
     "languageId": "r"
    }
   },
   "outputs": [
    {
     "ename": "ERROR",
     "evalue": "Error in -\"x\": argumento no válido para un operador unitario\n",
     "output_type": "error",
     "traceback": [
      "Error in -\"x\": argumento no válido para un operador unitario\nTraceback:\n"
     ]
    }
   ],
   "source": [
    "m[,-\"x\"] # Error!"
   ]
  },
  {
   "cell_type": "code",
   "execution_count": 271,
   "id": "acb78728",
   "metadata": {
    "vscode": {
     "languageId": "r"
    }
   },
   "outputs": [
    {
     "data": {
      "text/html": [
       "TRUE"
      ],
      "text/latex": [
       "TRUE"
      ],
      "text/markdown": [
       "TRUE"
      ],
      "text/plain": [
       "[1] TRUE"
      ]
     },
     "metadata": {},
     "output_type": "display_data"
    }
   ],
   "source": [
    "c(\"x\") %in% colnames(m) "
   ]
  },
  {
   "cell_type": "code",
   "execution_count": 272,
   "id": "20bbd7f2",
   "metadata": {
    "vscode": {
     "languageId": "r"
    }
   },
   "outputs": [
    {
     "data": {
      "text/html": [
       "<style>\n",
       ".list-inline {list-style: none; margin:0; padding: 0}\n",
       ".list-inline>li {display: inline-block}\n",
       ".list-inline>li:not(:last-child)::after {content: \"\\00b7\"; padding: 0 .5ex}\n",
       "</style>\n",
       "<ol class=list-inline><li>FALSE</li><li>FALSE</li><li>TRUE</li><li>FALSE</li></ol>\n"
      ],
      "text/latex": [
       "\\begin{enumerate*}\n",
       "\\item FALSE\n",
       "\\item FALSE\n",
       "\\item TRUE\n",
       "\\item FALSE\n",
       "\\end{enumerate*}\n"
      ],
      "text/markdown": [
       "1. FALSE\n",
       "2. FALSE\n",
       "3. TRUE\n",
       "4. FALSE\n",
       "\n",
       "\n"
      ],
      "text/plain": [
       "[1] FALSE FALSE  TRUE FALSE"
      ]
     },
     "metadata": {},
     "output_type": "display_data"
    }
   ],
   "source": [
    "colnames(m) %in% c(\"x\")"
   ]
  },
  {
   "cell_type": "code",
   "execution_count": 273,
   "id": "fe2507bf",
   "metadata": {
    "vscode": {
     "languageId": "r"
    }
   },
   "outputs": [
    {
     "data": {
      "text/html": [
       "<table class=\"dataframe\">\n",
       "<caption>A matrix: 3 × 3 of type dbl</caption>\n",
       "<thead>\n",
       "\t<tr><th></th><th scope=col>1</th><th scope=col>2</th><th scope=col>y</th></tr>\n",
       "</thead>\n",
       "<tbody>\n",
       "\t<tr><th scope=row>A</th><td>1.1</td><td>4.1</td><td>10.1</td></tr>\n",
       "\t<tr><th scope=row>B</th><td>2.1</td><td>5.1</td><td>11.1</td></tr>\n",
       "\t<tr><th scope=row>C</th><td>3.1</td><td>6.1</td><td>12.1</td></tr>\n",
       "</tbody>\n",
       "</table>\n"
      ],
      "text/latex": [
       "A matrix: 3 × 3 of type dbl\n",
       "\\begin{tabular}{r|lll}\n",
       "  & 1 & 2 & y\\\\\n",
       "\\hline\n",
       "\tA & 1.1 & 4.1 & 10.1\\\\\n",
       "\tB & 2.1 & 5.1 & 11.1\\\\\n",
       "\tC & 3.1 & 6.1 & 12.1\\\\\n",
       "\\end{tabular}\n"
      ],
      "text/markdown": [
       "\n",
       "A matrix: 3 × 3 of type dbl\n",
       "\n",
       "| <!--/--> | 1 | 2 | y |\n",
       "|---|---|---|---|\n",
       "| A | 1.1 | 4.1 | 10.1 |\n",
       "| B | 2.1 | 5.1 | 11.1 |\n",
       "| C | 3.1 | 6.1 | 12.1 |\n",
       "\n"
      ],
      "text/plain": [
       "  1   2   y   \n",
       "A 1.1 4.1 10.1\n",
       "B 2.1 5.1 11.1\n",
       "C 3.1 6.1 12.1"
      ]
     },
     "metadata": {},
     "output_type": "display_data"
    }
   ],
   "source": [
    "m <- m[,!colnames(m) %in% c(\"x\")]\n",
    "m"
   ]
  },
  {
   "cell_type": "code",
   "execution_count": 274,
   "id": "54ad8ec0",
   "metadata": {
    "vscode": {
     "languageId": "r"
    }
   },
   "outputs": [
    {
     "data": {
      "text/html": [
       "<style>\n",
       ".list-inline {list-style: none; margin:0; padding: 0}\n",
       ".list-inline>li {display: inline-block}\n",
       ".list-inline>li:not(:last-child)::after {content: \"\\00b7\"; padding: 0 .5ex}\n",
       "</style>\n",
       "<ol class=list-inline><li>'matrix'</li><li>'array'</li></ol>\n"
      ],
      "text/latex": [
       "\\begin{enumerate*}\n",
       "\\item 'matrix'\n",
       "\\item 'array'\n",
       "\\end{enumerate*}\n"
      ],
      "text/markdown": [
       "1. 'matrix'\n",
       "2. 'array'\n",
       "\n",
       "\n"
      ],
      "text/plain": [
       "[1] \"matrix\" \"array\" "
      ]
     },
     "metadata": {},
     "output_type": "display_data"
    }
   ],
   "source": [
    "class(m)"
   ]
  },
  {
   "cell_type": "code",
   "execution_count": 275,
   "id": "0932b1fa",
   "metadata": {
    "vscode": {
     "languageId": "r"
    }
   },
   "outputs": [
    {
     "data": {
      "text/html": [
       "'numeric'"
      ],
      "text/latex": [
       "'numeric'"
      ],
      "text/markdown": [
       "'numeric'"
      ],
      "text/plain": [
       "[1] \"numeric\""
      ]
     },
     "metadata": {},
     "output_type": "display_data"
    }
   ],
   "source": [
    "class(m[1,])"
   ]
  },
  {
   "cell_type": "code",
   "execution_count": 276,
   "id": "aad71cbd",
   "metadata": {
    "vscode": {
     "languageId": "r"
    }
   },
   "outputs": [
    {
     "data": {
      "text/html": [
       "<table class=\"dataframe\">\n",
       "<caption>A matrix: 1 × 3 of type dbl</caption>\n",
       "<thead>\n",
       "\t<tr><th></th><th scope=col>1</th><th scope=col>2</th><th scope=col>y</th></tr>\n",
       "</thead>\n",
       "<tbody>\n",
       "\t<tr><th scope=row>A</th><td>1.1</td><td>4.1</td><td>10.1</td></tr>\n",
       "</tbody>\n",
       "</table>\n"
      ],
      "text/latex": [
       "A matrix: 1 × 3 of type dbl\n",
       "\\begin{tabular}{r|lll}\n",
       "  & 1 & 2 & y\\\\\n",
       "\\hline\n",
       "\tA & 1.1 & 4.1 & 10.1\\\\\n",
       "\\end{tabular}\n"
      ],
      "text/markdown": [
       "\n",
       "A matrix: 1 × 3 of type dbl\n",
       "\n",
       "| <!--/--> | 1 | 2 | y |\n",
       "|---|---|---|---|\n",
       "| A | 1.1 | 4.1 | 10.1 |\n",
       "\n"
      ],
      "text/plain": [
       "  1   2   y   \n",
       "A 1.1 4.1 10.1"
      ]
     },
     "metadata": {},
     "output_type": "display_data"
    }
   ],
   "source": [
    "m[1,,drop=FALSE]"
   ]
  },
  {
   "cell_type": "code",
   "execution_count": 278,
   "id": "c5059656",
   "metadata": {
    "vscode": {
     "languageId": "r"
    }
   },
   "outputs": [
    {
     "name": "stdout",
     "output_type": "stream",
     "text": [
      "   1    2    y \n",
      " 1.1  4.1 10.1 \n"
     ]
    }
   ],
   "source": [
    "print(m[1,,drop=TRUE])"
   ]
  },
  {
   "cell_type": "code",
   "execution_count": 279,
   "id": "d11c4acf",
   "metadata": {
    "vscode": {
     "languageId": "r"
    }
   },
   "outputs": [
    {
     "data": {
      "text/html": [
       "<table class=\"dataframe\">\n",
       "<caption>A matrix: 3 × 4 of type int</caption>\n",
       "<tbody>\n",
       "\t<tr><td>1</td><td> 2</td><td> 3</td><td> 4</td></tr>\n",
       "\t<tr><td>5</td><td> 6</td><td> 7</td><td> 8</td></tr>\n",
       "\t<tr><td>9</td><td>10</td><td>11</td><td>12</td></tr>\n",
       "</tbody>\n",
       "</table>\n"
      ],
      "text/latex": [
       "A matrix: 3 × 4 of type int\n",
       "\\begin{tabular}{llll}\n",
       "\t 1 &  2 &  3 &  4\\\\\n",
       "\t 5 &  6 &  7 &  8\\\\\n",
       "\t 9 & 10 & 11 & 12\\\\\n",
       "\\end{tabular}\n"
      ],
      "text/markdown": [
       "\n",
       "A matrix: 3 × 4 of type int\n",
       "\n",
       "| 1 |  2 |  3 |  4 |\n",
       "| 5 |  6 |  7 |  8 |\n",
       "| 9 | 10 | 11 | 12 |\n",
       "\n"
      ],
      "text/plain": [
       "     [,1] [,2] [,3] [,4]\n",
       "[1,] 1     2    3    4  \n",
       "[2,] 5     6    7    8  \n",
       "[3,] 9    10   11   12  "
      ]
     },
     "metadata": {},
     "output_type": "display_data"
    }
   ],
   "source": [
    "mx <- matrix(1:12, nrow=3, byrow=TRUE)\n",
    "mx"
   ]
  },
  {
   "cell_type": "code",
   "execution_count": 280,
   "id": "ee966935",
   "metadata": {
    "vscode": {
     "languageId": "r"
    }
   },
   "outputs": [
    {
     "data": {
      "text/html": [
       "<table class=\"dataframe\">\n",
       "<caption>A matrix: 3 × 4 of type dbl</caption>\n",
       "<tbody>\n",
       "\t<tr><td>1</td><td>2</td><td> 3</td><td> 4</td></tr>\n",
       "\t<tr><td>5</td><td>6</td><td> 7</td><td> 8</td></tr>\n",
       "\t<tr><td>9</td><td>4</td><td>11</td><td>12</td></tr>\n",
       "</tbody>\n",
       "</table>\n"
      ],
      "text/latex": [
       "A matrix: 3 × 4 of type dbl\n",
       "\\begin{tabular}{llll}\n",
       "\t 1 & 2 &  3 &  4\\\\\n",
       "\t 5 & 6 &  7 &  8\\\\\n",
       "\t 9 & 4 & 11 & 12\\\\\n",
       "\\end{tabular}\n"
      ],
      "text/markdown": [
       "\n",
       "A matrix: 3 × 4 of type dbl\n",
       "\n",
       "| 1 | 2 |  3 |  4 |\n",
       "| 5 | 6 |  7 |  8 |\n",
       "| 9 | 4 | 11 | 12 |\n",
       "\n"
      ],
      "text/plain": [
       "     [,1] [,2] [,3] [,4]\n",
       "[1,] 1    2     3    4  \n",
       "[2,] 5    6     7    8  \n",
       "[3,] 9    4    11   12  "
      ]
     },
     "metadata": {},
     "output_type": "display_data"
    }
   ],
   "source": [
    "mx[3, 2] <- 4\n",
    "mx"
   ]
  },
  {
   "cell_type": "code",
   "execution_count": 281,
   "id": "83ec3648",
   "metadata": {
    "vscode": {
     "languageId": "r"
    }
   },
   "outputs": [
    {
     "data": {
      "text/html": [
       "<table class=\"dataframe\">\n",
       "<caption>A matrix: 3 × 4 of type dbl</caption>\n",
       "<tbody>\n",
       "\t<tr><td>1</td><td>2</td><td> 3</td><td> 4</td></tr>\n",
       "\t<tr><td>1</td><td>3</td><td> 1</td><td> 3</td></tr>\n",
       "\t<tr><td>9</td><td>4</td><td>11</td><td>12</td></tr>\n",
       "</tbody>\n",
       "</table>\n"
      ],
      "text/latex": [
       "A matrix: 3 × 4 of type dbl\n",
       "\\begin{tabular}{llll}\n",
       "\t 1 & 2 &  3 &  4\\\\\n",
       "\t 1 & 3 &  1 &  3\\\\\n",
       "\t 9 & 4 & 11 & 12\\\\\n",
       "\\end{tabular}\n"
      ],
      "text/markdown": [
       "\n",
       "A matrix: 3 × 4 of type dbl\n",
       "\n",
       "| 1 | 2 |  3 |  4 |\n",
       "| 1 | 3 |  1 |  3 |\n",
       "| 9 | 4 | 11 | 12 |\n",
       "\n"
      ],
      "text/plain": [
       "     [,1] [,2] [,3] [,4]\n",
       "[1,] 1    2     3    4  \n",
       "[2,] 1    3     1    3  \n",
       "[3,] 9    4    11   12  "
      ]
     },
     "metadata": {},
     "output_type": "display_data"
    }
   ],
   "source": [
    "mx[2, ] <- c(1,3) # Recycle!\n",
    "mx"
   ]
  },
  {
   "cell_type": "code",
   "execution_count": 282,
   "id": "a9de04c4",
   "metadata": {
    "vscode": {
     "languageId": "r"
    }
   },
   "outputs": [
    {
     "data": {
      "text/html": [
       "<table class=\"dataframe\">\n",
       "<caption>A matrix: 3 × 4 of type dbl</caption>\n",
       "<tbody>\n",
       "\t<tr><td>1</td><td>2</td><td> 8</td><td> 2</td></tr>\n",
       "\t<tr><td>1</td><td>3</td><td> 4</td><td> 1</td></tr>\n",
       "\t<tr><td>9</td><td>4</td><td>11</td><td>12</td></tr>\n",
       "</tbody>\n",
       "</table>\n"
      ],
      "text/latex": [
       "A matrix: 3 × 4 of type dbl\n",
       "\\begin{tabular}{llll}\n",
       "\t 1 & 2 &  8 &  2\\\\\n",
       "\t 1 & 3 &  4 &  1\\\\\n",
       "\t 9 & 4 & 11 & 12\\\\\n",
       "\\end{tabular}\n"
      ],
      "text/markdown": [
       "\n",
       "A matrix: 3 × 4 of type dbl\n",
       "\n",
       "| 1 | 2 |  8 |  2 |\n",
       "| 1 | 3 |  4 |  1 |\n",
       "| 9 | 4 | 11 | 12 |\n",
       "\n"
      ],
      "text/plain": [
       "     [,1] [,2] [,3] [,4]\n",
       "[1,] 1    2     8    2  \n",
       "[2,] 1    3     4    1  \n",
       "[3,] 9    4    11   12  "
      ]
     },
     "metadata": {},
     "output_type": "display_data"
    }
   ],
   "source": [
    "mx[1:2, 3:4] <- c(8,4,2,1)\n",
    "mx"
   ]
  },
  {
   "cell_type": "code",
   "execution_count": 285,
   "id": "1987b56c-fdc9-4df9-98a1-c5badaa557db",
   "metadata": {
    "vscode": {
     "languageId": "r"
    }
   },
   "outputs": [
    {
     "name": "stdout",
     "output_type": "stream",
     "text": [
      "[1] 3 4\n"
     ]
    }
   ],
   "source": [
    "print(dim(mx))"
   ]
  },
  {
   "cell_type": "code",
   "execution_count": 287,
   "id": "4eaef839-4f4d-4167-83a2-053221226b0e",
   "metadata": {
    "vscode": {
     "languageId": "r"
    }
   },
   "outputs": [
    {
     "data": {
      "text/html": [
       "3"
      ],
      "text/latex": [
       "3"
      ],
      "text/markdown": [
       "3"
      ],
      "text/plain": [
       "[1] 3"
      ]
     },
     "metadata": {},
     "output_type": "display_data"
    }
   ],
   "source": [
    "dim(mx)[1]"
   ]
  },
  {
   "cell_type": "code",
   "execution_count": 288,
   "id": "2b46b114-dc1e-438a-8ca9-65eb08b7ab5f",
   "metadata": {
    "vscode": {
     "languageId": "r"
    }
   },
   "outputs": [
    {
     "data": {
      "text/html": [
       "4"
      ],
      "text/latex": [
       "4"
      ],
      "text/markdown": [
       "4"
      ],
      "text/plain": [
       "[1] 4"
      ]
     },
     "metadata": {},
     "output_type": "display_data"
    }
   ],
   "source": [
    "dim(mx)[2]"
   ]
  },
  {
   "cell_type": "code",
   "execution_count": 283,
   "id": "0e8eb019",
   "metadata": {
    "vscode": {
     "languageId": "r"
    }
   },
   "outputs": [
    {
     "data": {
      "text/html": [
       "4"
      ],
      "text/latex": [
       "4"
      ],
      "text/markdown": [
       "4"
      ],
      "text/plain": [
       "[1] 4"
      ]
     },
     "metadata": {},
     "output_type": "display_data"
    }
   ],
   "source": [
    "ncol(mx)"
   ]
  },
  {
   "cell_type": "code",
   "execution_count": 284,
   "id": "e420014b",
   "metadata": {
    "vscode": {
     "languageId": "r"
    }
   },
   "outputs": [
    {
     "data": {
      "text/html": [
       "3"
      ],
      "text/latex": [
       "3"
      ],
      "text/markdown": [
       "3"
      ],
      "text/plain": [
       "[1] 3"
      ]
     },
     "metadata": {},
     "output_type": "display_data"
    }
   ],
   "source": [
    "nrow(mx)"
   ]
  },
  {
   "cell_type": "code",
   "execution_count": 289,
   "id": "19d9dab0",
   "metadata": {
    "vscode": {
     "languageId": "r"
    }
   },
   "outputs": [
    {
     "data": {
      "text/html": [
       "<table class=\"dataframe\">\n",
       "<caption>A matrix: 4 × 3 of type dbl</caption>\n",
       "<tbody>\n",
       "\t<tr><td>1</td><td>1</td><td> 9</td></tr>\n",
       "\t<tr><td>2</td><td>3</td><td> 4</td></tr>\n",
       "\t<tr><td>8</td><td>4</td><td>11</td></tr>\n",
       "\t<tr><td>2</td><td>1</td><td>12</td></tr>\n",
       "</tbody>\n",
       "</table>\n"
      ],
      "text/latex": [
       "A matrix: 4 × 3 of type dbl\n",
       "\\begin{tabular}{lll}\n",
       "\t 1 & 1 &  9\\\\\n",
       "\t 2 & 3 &  4\\\\\n",
       "\t 8 & 4 & 11\\\\\n",
       "\t 2 & 1 & 12\\\\\n",
       "\\end{tabular}\n"
      ],
      "text/markdown": [
       "\n",
       "A matrix: 4 × 3 of type dbl\n",
       "\n",
       "| 1 | 1 |  9 |\n",
       "| 2 | 3 |  4 |\n",
       "| 8 | 4 | 11 |\n",
       "| 2 | 1 | 12 |\n",
       "\n"
      ],
      "text/plain": [
       "     [,1] [,2] [,3]\n",
       "[1,] 1    1     9  \n",
       "[2,] 2    3     4  \n",
       "[3,] 8    4    11  \n",
       "[4,] 2    1    12  "
      ]
     },
     "metadata": {},
     "output_type": "display_data"
    }
   ],
   "source": [
    "t(mx)"
   ]
  },
  {
   "cell_type": "code",
   "execution_count": 290,
   "id": "1a7e4f3b",
   "metadata": {
    "vscode": {
     "languageId": "r"
    }
   },
   "outputs": [
    {
     "data": {
      "text/html": [
       "<style>\n",
       ".list-inline {list-style: none; margin:0; padding: 0}\n",
       ".list-inline>li {display: inline-block}\n",
       ".list-inline>li:not(:last-child)::after {content: \"\\00b7\"; padding: 0 .5ex}\n",
       "</style>\n",
       "<ol class=list-inline><li>1</li><li>3</li><li>11</li></ol>\n"
      ],
      "text/latex": [
       "\\begin{enumerate*}\n",
       "\\item 1\n",
       "\\item 3\n",
       "\\item 11\n",
       "\\end{enumerate*}\n"
      ],
      "text/markdown": [
       "1. 1\n",
       "2. 3\n",
       "3. 11\n",
       "\n",
       "\n"
      ],
      "text/plain": [
       "[1]  1  3 11"
      ]
     },
     "metadata": {},
     "output_type": "display_data"
    }
   ],
   "source": [
    "diag(mx)"
   ]
  },
  {
   "cell_type": "code",
   "execution_count": 291,
   "id": "33230125-c956-4c5f-8904-c64860b99ed2",
   "metadata": {
    "vscode": {
     "languageId": "r"
    }
   },
   "outputs": [
    {
     "data": {
      "text/html": [
       "<table class=\"dataframe\">\n",
       "<caption>A matrix: 3 × 3 of type dbl</caption>\n",
       "<thead>\n",
       "\t<tr><th></th><th scope=col>1</th><th scope=col>2</th><th scope=col>y</th></tr>\n",
       "</thead>\n",
       "<tbody>\n",
       "\t<tr><th scope=row>A</th><td>1.1</td><td>4.1</td><td>10.1</td></tr>\n",
       "\t<tr><th scope=row>B</th><td>2.1</td><td>5.1</td><td>11.1</td></tr>\n",
       "\t<tr><th scope=row>C</th><td>3.1</td><td>6.1</td><td>12.1</td></tr>\n",
       "</tbody>\n",
       "</table>\n"
      ],
      "text/latex": [
       "A matrix: 3 × 3 of type dbl\n",
       "\\begin{tabular}{r|lll}\n",
       "  & 1 & 2 & y\\\\\n",
       "\\hline\n",
       "\tA & 1.1 & 4.1 & 10.1\\\\\n",
       "\tB & 2.1 & 5.1 & 11.1\\\\\n",
       "\tC & 3.1 & 6.1 & 12.1\\\\\n",
       "\\end{tabular}\n"
      ],
      "text/markdown": [
       "\n",
       "A matrix: 3 × 3 of type dbl\n",
       "\n",
       "| <!--/--> | 1 | 2 | y |\n",
       "|---|---|---|---|\n",
       "| A | 1.1 | 4.1 | 10.1 |\n",
       "| B | 2.1 | 5.1 | 11.1 |\n",
       "| C | 3.1 | 6.1 | 12.1 |\n",
       "\n"
      ],
      "text/plain": [
       "  1   2   y   \n",
       "A 1.1 4.1 10.1\n",
       "B 2.1 5.1 11.1\n",
       "C 3.1 6.1 12.1"
      ]
     },
     "metadata": {},
     "output_type": "display_data"
    }
   ],
   "source": [
    "m"
   ]
  },
  {
   "cell_type": "code",
   "execution_count": 271,
   "id": "dabc899e",
   "metadata": {
    "vscode": {
     "languageId": "r"
    }
   },
   "outputs": [
    {
     "data": {
      "text/html": [
       "<table class=\"dataframe\">\n",
       "<caption>A matrix: 3 × 3 of type dbl</caption>\n",
       "<thead>\n",
       "\t<tr><th></th><th scope=col>1</th><th scope=col>2</th><th scope=col>y</th></tr>\n",
       "</thead>\n",
       "<tbody>\n",
       "\t<tr><th scope=row>A</th><td>1.21</td><td>16.81</td><td>102.01</td></tr>\n",
       "\t<tr><th scope=row>B</th><td>4.41</td><td>26.01</td><td>123.21</td></tr>\n",
       "\t<tr><th scope=row>C</th><td>9.61</td><td>37.21</td><td>146.41</td></tr>\n",
       "</tbody>\n",
       "</table>\n"
      ],
      "text/latex": [
       "A matrix: 3 × 3 of type dbl\n",
       "\\begin{tabular}{r|lll}\n",
       "  & 1 & 2 & y\\\\\n",
       "\\hline\n",
       "\tA & 1.21 & 16.81 & 102.01\\\\\n",
       "\tB & 4.41 & 26.01 & 123.21\\\\\n",
       "\tC & 9.61 & 37.21 & 146.41\\\\\n",
       "\\end{tabular}\n"
      ],
      "text/markdown": [
       "\n",
       "A matrix: 3 × 3 of type dbl\n",
       "\n",
       "| <!--/--> | 1 | 2 | y |\n",
       "|---|---|---|---|\n",
       "| A | 1.21 | 16.81 | 102.01 |\n",
       "| B | 4.41 | 26.01 | 123.21 |\n",
       "| C | 9.61 | 37.21 | 146.41 |\n",
       "\n"
      ],
      "text/plain": [
       "  1    2     y     \n",
       "A 1.21 16.81 102.01\n",
       "B 4.41 26.01 123.21\n",
       "C 9.61 37.21 146.41"
      ]
     },
     "metadata": {},
     "output_type": "display_data"
    }
   ],
   "source": [
    "m * m"
   ]
  },
  {
   "cell_type": "code",
   "execution_count": 292,
   "id": "922420c4",
   "metadata": {
    "vscode": {
     "languageId": "r"
    }
   },
   "outputs": [
    {
     "data": {
      "text/html": [
       "<table class=\"dataframe\">\n",
       "<caption>A matrix: 3 × 3 of type dbl</caption>\n",
       "<thead>\n",
       "\t<tr><th></th><th scope=col>1</th><th scope=col>2</th><th scope=col>y</th></tr>\n",
       "</thead>\n",
       "<tbody>\n",
       "\t<tr><th scope=row>A</th><td>41.13</td><td> 87.03</td><td>178.83</td></tr>\n",
       "\t<tr><th scope=row>B</th><td>47.43</td><td>102.33</td><td>212.13</td></tr>\n",
       "\t<tr><th scope=row>C</th><td>53.73</td><td>117.63</td><td>245.43</td></tr>\n",
       "</tbody>\n",
       "</table>\n"
      ],
      "text/latex": [
       "A matrix: 3 × 3 of type dbl\n",
       "\\begin{tabular}{r|lll}\n",
       "  & 1 & 2 & y\\\\\n",
       "\\hline\n",
       "\tA & 41.13 &  87.03 & 178.83\\\\\n",
       "\tB & 47.43 & 102.33 & 212.13\\\\\n",
       "\tC & 53.73 & 117.63 & 245.43\\\\\n",
       "\\end{tabular}\n"
      ],
      "text/markdown": [
       "\n",
       "A matrix: 3 × 3 of type dbl\n",
       "\n",
       "| <!--/--> | 1 | 2 | y |\n",
       "|---|---|---|---|\n",
       "| A | 41.13 |  87.03 | 178.83 |\n",
       "| B | 47.43 | 102.33 | 212.13 |\n",
       "| C | 53.73 | 117.63 | 245.43 |\n",
       "\n"
      ],
      "text/plain": [
       "  1     2      y     \n",
       "A 41.13  87.03 178.83\n",
       "B 47.43 102.33 212.13\n",
       "C 53.73 117.63 245.43"
      ]
     },
     "metadata": {},
     "output_type": "display_data"
    }
   ],
   "source": [
    "m %*% m"
   ]
  },
  {
   "cell_type": "code",
   "execution_count": 293,
   "id": "c3d98b38",
   "metadata": {
    "scrolled": true,
    "vscode": {
     "languageId": "r"
    }
   },
   "outputs": [
    {
     "data": {
      "text/html": [
       "<dl>\n",
       "\t<dt>$dim</dt>\n",
       "\t\t<dd><style>\n",
       ".list-inline {list-style: none; margin:0; padding: 0}\n",
       ".list-inline>li {display: inline-block}\n",
       ".list-inline>li:not(:last-child)::after {content: \"\\00b7\"; padding: 0 .5ex}\n",
       "</style>\n",
       "<ol class=list-inline><li>3</li><li>3</li></ol>\n",
       "</dd>\n",
       "\t<dt>$dimnames</dt>\n",
       "\t\t<dd><ol>\n",
       "\t<li><style>\n",
       ".list-inline {list-style: none; margin:0; padding: 0}\n",
       ".list-inline>li {display: inline-block}\n",
       ".list-inline>li:not(:last-child)::after {content: \"\\00b7\"; padding: 0 .5ex}\n",
       "</style>\n",
       "<ol class=list-inline><li>'A'</li><li>'B'</li><li>'C'</li></ol>\n",
       "</li>\n",
       "\t<li><style>\n",
       ".list-inline {list-style: none; margin:0; padding: 0}\n",
       ".list-inline>li {display: inline-block}\n",
       ".list-inline>li:not(:last-child)::after {content: \"\\00b7\"; padding: 0 .5ex}\n",
       "</style>\n",
       "<ol class=list-inline><li>'1'</li><li>'2'</li><li>'y'</li></ol>\n",
       "</li>\n",
       "</ol>\n",
       "</dd>\n",
       "</dl>\n"
      ],
      "text/latex": [
       "\\begin{description}\n",
       "\\item[\\$dim] \\begin{enumerate*}\n",
       "\\item 3\n",
       "\\item 3\n",
       "\\end{enumerate*}\n",
       "\n",
       "\\item[\\$dimnames] \\begin{enumerate}\n",
       "\\item \\begin{enumerate*}\n",
       "\\item 'A'\n",
       "\\item 'B'\n",
       "\\item 'C'\n",
       "\\end{enumerate*}\n",
       "\n",
       "\\item \\begin{enumerate*}\n",
       "\\item '1'\n",
       "\\item '2'\n",
       "\\item 'y'\n",
       "\\end{enumerate*}\n",
       "\n",
       "\\end{enumerate}\n",
       "\n",
       "\\end{description}\n"
      ],
      "text/markdown": [
       "$dim\n",
       ":   1. 3\n",
       "2. 3\n",
       "\n",
       "\n",
       "\n",
       "$dimnames\n",
       ":   1. 1. 'A'\n",
       "2. 'B'\n",
       "3. 'C'\n",
       "\n",
       "\n",
       "\n",
       "2. 1. '1'\n",
       "2. '2'\n",
       "3. 'y'\n",
       "\n",
       "\n",
       "\n",
       "\n",
       "\n",
       "\n",
       "\n",
       "\n"
      ],
      "text/plain": [
       "$dim\n",
       "[1] 3 3\n",
       "\n",
       "$dimnames\n",
       "$dimnames[[1]]\n",
       "[1] \"A\" \"B\" \"C\"\n",
       "\n",
       "$dimnames[[2]]\n",
       "[1] \"1\" \"2\" \"y\"\n",
       "\n"
      ]
     },
     "metadata": {},
     "output_type": "display_data"
    }
   ],
   "source": [
    "a <- attributes(m)\n",
    "a"
   ]
  },
  {
   "cell_type": "code",
   "execution_count": 294,
   "id": "dc544347",
   "metadata": {
    "vscode": {
     "languageId": "r"
    }
   },
   "outputs": [
    {
     "data": {
      "text/html": [
       "<style>\n",
       ".list-inline {list-style: none; margin:0; padding: 0}\n",
       ".list-inline>li {display: inline-block}\n",
       ".list-inline>li:not(:last-child)::after {content: \"\\00b7\"; padding: 0 .5ex}\n",
       "</style>\n",
       "<ol class=list-inline><li>'A'</li><li>'B'</li><li>'C'</li></ol>\n"
      ],
      "text/latex": [
       "\\begin{enumerate*}\n",
       "\\item 'A'\n",
       "\\item 'B'\n",
       "\\item 'C'\n",
       "\\end{enumerate*}\n"
      ],
      "text/markdown": [
       "1. 'A'\n",
       "2. 'B'\n",
       "3. 'C'\n",
       "\n",
       "\n"
      ],
      "text/plain": [
       "[1] \"A\" \"B\" \"C\""
      ]
     },
     "metadata": {},
     "output_type": "display_data"
    }
   ],
   "source": [
    "a$dimnames[[1]]"
   ]
  },
  {
   "cell_type": "code",
   "execution_count": 295,
   "id": "6923a76f",
   "metadata": {
    "vscode": {
     "languageId": "r"
    }
   },
   "outputs": [
    {
     "data": {
      "text/html": [
       "'list'"
      ],
      "text/latex": [
       "'list'"
      ],
      "text/markdown": [
       "'list'"
      ],
      "text/plain": [
       "[1] \"list\""
      ]
     },
     "metadata": {},
     "output_type": "display_data"
    }
   ],
   "source": [
    "class(attributes(m))"
   ]
  },
  {
   "cell_type": "markdown",
   "id": "6ff19056",
   "metadata": {},
   "source": [
    "# Arrays"
   ]
  },
  {
   "cell_type": "markdown",
   "id": "9c20677c",
   "metadata": {},
   "source": [
    "Las matrices con más de dos dimensiones se llaman `array`"
   ]
  },
  {
   "cell_type": "code",
   "execution_count": 296,
   "id": "53d8c776",
   "metadata": {
    "vscode": {
     "languageId": "r"
    }
   },
   "outputs": [
    {
     "name": "stdout",
     "output_type": "stream",
     "text": [
      ", , 1\n",
      "\n",
      "     [,1] [,2] [,3] [,4] [,5]\n",
      "[1,]    1    3    5    7    9\n",
      "[2,]    2    4    6    8   10\n",
      "\n",
      ", , 2\n",
      "\n",
      "     [,1] [,2] [,3] [,4] [,5]\n",
      "[1,]   11   13   15   17   19\n",
      "[2,]   12   14   16   18   20\n",
      "\n"
     ]
    }
   ],
   "source": [
    "x <- 1:20\n",
    "dim(x) <- c(2,5,2)\n",
    "print(x)"
   ]
  },
  {
   "cell_type": "code",
   "execution_count": 297,
   "id": "9acb70e7",
   "metadata": {
    "vscode": {
     "languageId": "r"
    }
   },
   "outputs": [
    {
     "name": "stdout",
     "output_type": "stream",
     "text": [
      ", , 1\n",
      "\n",
      "     [,1] [,2] [,3] [,4]\n",
      "[1,]    1    4    7   10\n",
      "[2,]    2    5    8   11\n",
      "[3,]    3    6    9   12\n",
      "\n",
      ", , 2\n",
      "\n",
      "     [,1] [,2] [,3] [,4]\n",
      "[1,]   13   16   19   22\n",
      "[2,]   14   17   20   23\n",
      "[3,]   15   18   21   24\n",
      "\n"
     ]
    }
   ],
   "source": [
    "a <- array(1:24, dim=c(3,4,2))\n",
    "print(a) # Una matriz de 3 dimensiones"
   ]
  },
  {
   "cell_type": "code",
   "execution_count": 302,
   "id": "62233f6c",
   "metadata": {
    "vscode": {
     "languageId": "r"
    }
   },
   "outputs": [
    {
     "name": "stdout",
     "output_type": "stream",
     "text": [
      ", , Matrix1\n",
      "\n",
      "     COL1 COL2 COL3 COL4\n",
      "ROW1    1    4    7   10\n",
      "ROW2    2    5    8   11\n",
      "ROW3    3    6    9   12\n",
      "\n",
      ", , Matrix2\n",
      "\n",
      "     COL1 COL2 COL3 COL4\n",
      "ROW1   13   16   19   22\n",
      "ROW2   14   17   20   23\n",
      "ROW3   15   18   21   24\n",
      "\n"
     ]
    }
   ],
   "source": [
    "a <- array(1:24, dim=c(3,4,2), \n",
    "           dimnames = list(c(\"ROW1\",\"ROW2\",\"ROW3\"), \n",
    "                           c(\"COL1\",\"COL2\",\"COL3\",\"COL4\"), \n",
    "                           c(\"Matrix1\",\"Matrix2\")))\n",
    "print(a)"
   ]
  },
  {
   "cell_type": "code",
   "execution_count": 303,
   "id": "4585d265-8162-465a-846c-67ed33957d40",
   "metadata": {
    "vscode": {
     "languageId": "r"
    }
   },
   "outputs": [
    {
     "data": {
      "text/html": [
       "<style>\n",
       ".dl-inline {width: auto; margin:0; padding: 0}\n",
       ".dl-inline>dt, .dl-inline>dd {float: none; width: auto; display: inline-block}\n",
       ".dl-inline>dt::after {content: \":\\0020\"; padding-right: .5ex}\n",
       ".dl-inline>dt:not(:first-of-type) {padding-left: .5ex}\n",
       "</style><dl class=dl-inline><dt>Matrix1</dt><dd>7</dd><dt>Matrix2</dt><dd>19</dd></dl>\n"
      ],
      "text/latex": [
       "\\begin{description*}\n",
       "\\item[Matrix1] 7\n",
       "\\item[Matrix2] 19\n",
       "\\end{description*}\n"
      ],
      "text/markdown": [
       "Matrix1\n",
       ":   7Matrix2\n",
       ":   19\n",
       "\n"
      ],
      "text/plain": [
       "Matrix1 Matrix2 \n",
       "      7      19 "
      ]
     },
     "metadata": {},
     "output_type": "display_data"
    }
   ],
   "source": [
    "a[1,3,]"
   ]
  },
  {
   "cell_type": "code",
   "execution_count": 304,
   "id": "9c918673",
   "metadata": {
    "vscode": {
     "languageId": "r"
    }
   },
   "outputs": [
    {
     "data": {
      "text/html": [
       "7"
      ],
      "text/latex": [
       "7"
      ],
      "text/markdown": [
       "7"
      ],
      "text/plain": [
       "[1] 7"
      ]
     },
     "metadata": {},
     "output_type": "display_data"
    }
   ],
   "source": [
    "a[1,3,1]"
   ]
  },
  {
   "cell_type": "code",
   "execution_count": 305,
   "id": "b6f858c8",
   "metadata": {
    "vscode": {
     "languageId": "r"
    }
   },
   "outputs": [
    {
     "name": "stdout",
     "output_type": "stream",
     "text": [
      "COL1 COL2 COL3 COL4 \n",
      "  15   18   21   24 \n"
     ]
    }
   ],
   "source": [
    "print(a[3,,2])"
   ]
  },
  {
   "cell_type": "code",
   "execution_count": 306,
   "id": "648af0d8",
   "metadata": {
    "vscode": {
     "languageId": "r"
    }
   },
   "outputs": [
    {
     "name": "stdout",
     "output_type": "stream",
     "text": [
      "     COL1 COL2 COL3 COL4\n",
      "ROW1   13   16   19   22\n",
      "ROW2   14   17   20   23\n",
      "ROW3   15   18   21   24\n"
     ]
    }
   ],
   "source": [
    "print(a[,,2])"
   ]
  },
  {
   "cell_type": "markdown",
   "id": "6a6888e3",
   "metadata": {},
   "source": [
    "### Ejercicios matrices y arrays\n",
    "1) Dada la siguiente matrix:\n",
    "<pre>laberinto <- matrix(c(\n",
    "   \"O\", \"X\", \"O\", \"O\", \"O\",\n",
    "   \"O\", \"X\", \"X\", \"X\", \"O\",\n",
    "   \"O\", \"O\", \"O\", \"O\", \"X\",\n",
    "   \"X\", \"X\", \"X\", \"O\", \"X\",\n",
    "   \"O\", \"O\", \"O\", \"O\", \"O\"\n",
    " ), nrow = 5, byrow = TRUE)</pre>\n",
    "    * Indique donde están las \"X\" usando la función `which`\n",
    "    * Indique donde están las \"X\" usando la función `which` pero usando el parámetro `arr.ind`\n",
    "    * Indique cuantos valores \"X\" hay en la matriz\n",
    "    * Reemplace las \"X\" por 1 y los \"O\" por 0 y convierta la matrix en una matrix numérica\n",
    "    * Indique si la matrix es simétrica\n",
    "    * Cree una nueva matrix con los valores en las filas y columnas pares \n",
    "2) Crea una matriz que represente un Sudoku. Debe estar inicializada en NA. Luego rellenar solo un 10% de las casillas con un valor entre 1 y 9 (HINT: usa la función `sample`). No se preocupe de que sea un esquema válido (se pueden repetir valores en una fila por ejemplo... eso ya lo haremos más adelante...)\n",
    "3) Teniendo estas dos matrices:\n",
    "<pre>matriz <- matrix(sample(1:9, 30,replace=TRUE), nrow=5)</pre>\n",
    "<pre>mascara <- matrix(sample(c(TRUE,FALSE), 30, replace=TRUE), nrow=5)</pre>\n",
    "    * Aplique la máscara a la matrix, en donde si la posicion en la máscara es FALSE entonces el resultado es 0 y sino se mantiene su valor\n",
    "    * Calcule el producto de la matriz original por la matriz modificada traspuesta (NOTA: la matriz final será de 5x5)\n",
    "4) Crea un array 5D llamado \"mi_array5D\" con las siguientes características, rellénalo con números enteros consecutivos comenzando desde 1:\n",
    "    - Tamaño de la primera dimensión: 2 elementos\n",
    "    - Tamaño de la segunda dimensión: 3 elementos\n",
    "    - Tamaño de la tercera dimensión: 4 elementos\n",
    "    - Tamaño de la cuarta dimensión: 5 elementos\n",
    "    - Tamaño de la quinta dimensión: 6 elementos\n",
    "    \n",
    "    4.1) Accede a los siguientes elementos del array:\n",
    "    * los elementos pares (analice la posición de esos valores en las 5 dimensiones)\n",
    "    * estudiando el caso anterior muestre los elementos impares sin usar ningun tipo de condicional, igualdad o desigualdad\n",
    "    \n",
    "    4.2) Redimensiona el array para que tenga:\n",
    "    - Tamaño de la primera dimensión: 6 elementos.\n",
    "    - Tamaño de la segunda dimensión: 5 elementos.\n",
    "    - Tamaño de la tercera dimensión: 4 elementos.\n",
    "    - Tamaño de la cuarta dimensión: 3 elementos.\n",
    "    - Tamaño de la quinta dimensión: 2 elementos.\n",
    "5) Supongamos que tenemos un grafo no dirigido con 6 nodos etiquetados del 1 al 6, y las siguientes aristas:\n",
    "    * Arista 1: (1, 2)\n",
    "    * Arista 2: (1, 3)\n",
    "    * Arista 3: (2, 4)\n",
    "    * Arista 4: (2, 5)\n",
    "    * Arista 5: (3, 6)\n",
    "    * Arista 6: (4, 5)\n",
    "    \n",
    "    Crea una matriz de adyacencia \"matriz_adyacencia\" en R para representar este grafo. En una matriz de adyacencia, las filas y columnas representan los nodos, y un valor 1 indica que existe una arista entre los nodos correspondientes, mientras que un valor 0 indica la ausencia de una arista.\n",
    "    * Calcula el grado del nodo 4 en el grafo. El grado de un nodo es la cantidad de aristas que inciden en él\n",
    "    * Encuentra todos los nodos adyacentes del nodo 2\n",
    "    * Cuenta la cantidad de nodos que tiene una arista hacia si mismos (self-loop)"
   ]
  },
  {
   "cell_type": "markdown",
   "id": "bfa1c74f",
   "metadata": {},
   "source": [
    "# Factores (variables nominales)\n",
    "Los factores son vectores para valores categóricos\n",
    "* Levels: refers to the input values\n",
    "* Labels: refers to the output values of the new factor"
   ]
  },
  {
   "cell_type": "code",
   "execution_count": 307,
   "id": "407b307f",
   "metadata": {
    "scrolled": true,
    "vscode": {
     "languageId": "r"
    }
   },
   "outputs": [
    {
     "data": {
      "text/html": [
       "<style>\n",
       ".list-inline {list-style: none; margin:0; padding: 0}\n",
       ".list-inline>li {display: inline-block}\n",
       ".list-inline>li:not(:last-child)::after {content: \"\\00b7\"; padding: 0 .5ex}\n",
       "</style>\n",
       "<ol class=list-inline><li>0</li><li>3</li><li>2</li><li>2</li><li>1</li></ol>\n"
      ],
      "text/latex": [
       "\\begin{enumerate*}\n",
       "\\item 0\n",
       "\\item 3\n",
       "\\item 2\n",
       "\\item 2\n",
       "\\item 1\n",
       "\\end{enumerate*}\n"
      ],
      "text/markdown": [
       "1. 0\n",
       "2. 3\n",
       "3. 2\n",
       "4. 2\n",
       "5. 1\n",
       "\n",
       "\n"
      ],
      "text/plain": [
       "[1] 0 3 2 2 1"
      ]
     },
     "metadata": {},
     "output_type": "display_data"
    }
   ],
   "source": [
    "Pain <- c(0,3,2,2,1)\n",
    "Pain"
   ]
  },
  {
   "cell_type": "code",
   "execution_count": 308,
   "id": "3d123fe7",
   "metadata": {
    "scrolled": true,
    "vscode": {
     "languageId": "r"
    }
   },
   "outputs": [
    {
     "data": {
      "text/html": [
       "'factor'"
      ],
      "text/latex": [
       "'factor'"
      ],
      "text/markdown": [
       "'factor'"
      ],
      "text/plain": [
       "[1] \"factor\""
      ]
     },
     "metadata": {},
     "output_type": "display_data"
    }
   ],
   "source": [
    "SevPain <- factor(c(0,3,2,2,1), levels=c(0,1,2,3), labels=c(\"none\",\"mild\",\"medium\",\"severe\"))\n",
    "class(SevPain)"
   ]
  },
  {
   "cell_type": "code",
   "execution_count": 309,
   "id": "2a5d7770-38a3-4aa4-9aff-487bbe191a6c",
   "metadata": {
    "vscode": {
     "languageId": "r"
    }
   },
   "outputs": [
    {
     "data": {
      "text/html": [
       "<style>\n",
       ".list-inline {list-style: none; margin:0; padding: 0}\n",
       ".list-inline>li {display: inline-block}\n",
       ".list-inline>li:not(:last-child)::after {content: \"\\00b7\"; padding: 0 .5ex}\n",
       "</style>\n",
       "<ol class=list-inline><li>none</li><li>severe</li><li>medium</li><li>medium</li><li>mild</li></ol>\n",
       "\n",
       "<details>\n",
       "\t<summary style=display:list-item;cursor:pointer>\n",
       "\t\t<strong>Levels</strong>:\n",
       "\t</summary>\n",
       "\t<style>\n",
       "\t.list-inline {list-style: none; margin:0; padding: 0}\n",
       "\t.list-inline>li {display: inline-block}\n",
       "\t.list-inline>li:not(:last-child)::after {content: \"\\00b7\"; padding: 0 .5ex}\n",
       "\t</style>\n",
       "\t<ol class=list-inline><li>'none'</li><li>'mild'</li><li>'medium'</li><li>'severe'</li></ol>\n",
       "</details>"
      ],
      "text/latex": [
       "\\begin{enumerate*}\n",
       "\\item none\n",
       "\\item severe\n",
       "\\item medium\n",
       "\\item medium\n",
       "\\item mild\n",
       "\\end{enumerate*}\n",
       "\n",
       "\\emph{Levels}: \\begin{enumerate*}\n",
       "\\item 'none'\n",
       "\\item 'mild'\n",
       "\\item 'medium'\n",
       "\\item 'severe'\n",
       "\\end{enumerate*}\n"
      ],
      "text/markdown": [
       "1. none\n",
       "2. severe\n",
       "3. medium\n",
       "4. medium\n",
       "5. mild\n",
       "\n",
       "\n",
       "\n",
       "**Levels**: 1. 'none'\n",
       "2. 'mild'\n",
       "3. 'medium'\n",
       "4. 'severe'\n",
       "\n",
       "\n"
      ],
      "text/plain": [
       "[1] none   severe medium medium mild  \n",
       "Levels: none mild medium severe"
      ]
     },
     "metadata": {},
     "output_type": "display_data"
    }
   ],
   "source": [
    "SevPain"
   ]
  },
  {
   "cell_type": "code",
   "execution_count": 311,
   "id": "ab2bd774",
   "metadata": {
    "vscode": {
     "languageId": "r"
    }
   },
   "outputs": [
    {
     "data": {
      "text/html": [
       "<style>\n",
       ".list-inline {list-style: none; margin:0; padding: 0}\n",
       ".list-inline>li {display: inline-block}\n",
       ".list-inline>li:not(:last-child)::after {content: \"\\00b7\"; padding: 0 .5ex}\n",
       "</style>\n",
       "<ol class=list-inline><li>North</li><li>East</li><li>South</li><li>South</li></ol>\n",
       "\n",
       "<details>\n",
       "\t<summary style=display:list-item;cursor:pointer>\n",
       "\t\t<strong>Levels</strong>:\n",
       "\t</summary>\n",
       "\t<style>\n",
       "\t.list-inline {list-style: none; margin:0; padding: 0}\n",
       "\t.list-inline>li {display: inline-block}\n",
       "\t.list-inline>li:not(:last-child)::after {content: \"\\00b7\"; padding: 0 .5ex}\n",
       "\t</style>\n",
       "\t<ol class=list-inline><li>'East'</li><li>'North'</li><li>'South'</li></ol>\n",
       "</details>"
      ],
      "text/latex": [
       "\\begin{enumerate*}\n",
       "\\item North\n",
       "\\item East\n",
       "\\item South\n",
       "\\item South\n",
       "\\end{enumerate*}\n",
       "\n",
       "\\emph{Levels}: \\begin{enumerate*}\n",
       "\\item 'East'\n",
       "\\item 'North'\n",
       "\\item 'South'\n",
       "\\end{enumerate*}\n"
      ],
      "text/markdown": [
       "1. North\n",
       "2. East\n",
       "3. South\n",
       "4. South\n",
       "\n",
       "\n",
       "\n",
       "**Levels**: 1. 'East'\n",
       "2. 'North'\n",
       "3. 'South'\n",
       "\n",
       "\n"
      ],
      "text/plain": [
       "[1] North East  South South\n",
       "Levels: East North South"
      ]
     },
     "metadata": {},
     "output_type": "display_data"
    }
   ],
   "source": [
    "directions <- c(\"North\", \"East\", \"South\", \"South\")\n",
    "factor(directions)"
   ]
  },
  {
   "cell_type": "code",
   "execution_count": 312,
   "id": "bcc289be",
   "metadata": {
    "vscode": {
     "languageId": "r"
    }
   },
   "outputs": [
    {
     "data": {
      "text/html": [
       "<style>\n",
       ".list-inline {list-style: none; margin:0; padding: 0}\n",
       ".list-inline>li {display: inline-block}\n",
       ".list-inline>li:not(:last-child)::after {content: \"\\00b7\"; padding: 0 .5ex}\n",
       "</style>\n",
       "<ol class=list-inline><li>N</li><li>E</li><li>S</li><li>S</li></ol>\n",
       "\n",
       "<details>\n",
       "\t<summary style=display:list-item;cursor:pointer>\n",
       "\t\t<strong>Levels</strong>:\n",
       "\t</summary>\n",
       "\t<style>\n",
       "\t.list-inline {list-style: none; margin:0; padding: 0}\n",
       "\t.list-inline>li {display: inline-block}\n",
       "\t.list-inline>li:not(:last-child)::after {content: \"\\00b7\"; padding: 0 .5ex}\n",
       "\t</style>\n",
       "\t<ol class=list-inline><li>'N'</li><li>'E'</li><li>'S'</li><li>'W'</li></ol>\n",
       "</details>"
      ],
      "text/latex": [
       "\\begin{enumerate*}\n",
       "\\item N\n",
       "\\item E\n",
       "\\item S\n",
       "\\item S\n",
       "\\end{enumerate*}\n",
       "\n",
       "\\emph{Levels}: \\begin{enumerate*}\n",
       "\\item 'N'\n",
       "\\item 'E'\n",
       "\\item 'S'\n",
       "\\item 'W'\n",
       "\\end{enumerate*}\n"
      ],
      "text/markdown": [
       "1. N\n",
       "2. E\n",
       "3. S\n",
       "4. S\n",
       "\n",
       "\n",
       "\n",
       "**Levels**: 1. 'N'\n",
       "2. 'E'\n",
       "3. 'S'\n",
       "4. 'W'\n",
       "\n",
       "\n"
      ],
      "text/plain": [
       "[1] N E S S\n",
       "Levels: N E S W"
      ]
     },
     "metadata": {},
     "output_type": "display_data"
    }
   ],
   "source": [
    "factor(directions, levels=c(\"North\", \"East\", \"South\", \"West\"), labels=c(\"N\",\"E\",\"S\",\"W\"))"
   ]
  },
  {
   "cell_type": "code",
   "execution_count": 314,
   "id": "e3d24d78",
   "metadata": {
    "vscode": {
     "languageId": "r"
    }
   },
   "outputs": [
    {
     "data": {
      "text/plain": [
       "\n",
       " East North South \n",
       "    1     1     2 "
      ]
     },
     "metadata": {},
     "output_type": "display_data"
    }
   ],
   "source": [
    "table(factor(directions))"
   ]
  },
  {
   "cell_type": "markdown",
   "id": "08380dc3",
   "metadata": {},
   "source": [
    "# Factores ordenados (variables ordinales)"
   ]
  },
  {
   "cell_type": "code",
   "execution_count": 315,
   "id": "15401aa2",
   "metadata": {
    "vscode": {
     "languageId": "r"
    }
   },
   "outputs": [
    {
     "name": "stdout",
     "output_type": "stream",
     "text": [
      "[1] Lo  Hi  Med Med Hi \n",
      "Levels: Lo < Med < Hi\n"
     ]
    }
   ],
   "source": [
    "status <- c(\"Lo\", \"Hi\", \"Med\", \"Med\", \"Hi\")\n",
    "ordered.status <- factor(status, levels=c(\"Lo\", \"Med\", \"Hi\"), ordered=TRUE)\n",
    "print(ordered.status)"
   ]
  },
  {
   "cell_type": "code",
   "execution_count": 316,
   "id": "df8aa7bb",
   "metadata": {
    "vscode": {
     "languageId": "r"
    }
   },
   "outputs": [
    {
     "data": {
      "text/plain": [
       "status\n",
       " Hi  Lo Med \n",
       "  2   1   2 "
      ]
     },
     "metadata": {},
     "output_type": "display_data"
    }
   ],
   "source": [
    "table(status)"
   ]
  },
  {
   "cell_type": "code",
   "execution_count": 317,
   "id": "236dbc01",
   "metadata": {
    "vscode": {
     "languageId": "r"
    }
   },
   "outputs": [
    {
     "data": {
      "text/plain": [
       "ordered.status\n",
       " Lo Med  Hi \n",
       "  1   2   2 "
      ]
     },
     "metadata": {},
     "output_type": "display_data"
    }
   ],
   "source": [
    "table(ordered.status)"
   ]
  },
  {
   "cell_type": "markdown",
   "id": "7fca595b",
   "metadata": {},
   "source": [
    " ### WTF?"
   ]
  },
  {
   "cell_type": "code",
   "execution_count": 318,
   "id": "b3c4264c",
   "metadata": {
    "vscode": {
     "languageId": "r"
    }
   },
   "outputs": [
    {
     "data": {
      "text/html": [
       "FALSE"
      ],
      "text/latex": [
       "FALSE"
      ],
      "text/markdown": [
       "FALSE"
      ],
      "text/plain": [
       "[1] FALSE"
      ]
     },
     "metadata": {},
     "output_type": "display_data"
    }
   ],
   "source": [
    "f <- factor(c(101,6,8,9,6,103))\n",
    "is.numeric(f)"
   ]
  },
  {
   "cell_type": "code",
   "execution_count": 319,
   "id": "feb32011",
   "metadata": {
    "scrolled": true,
    "vscode": {
     "languageId": "r"
    }
   },
   "outputs": [
    {
     "data": {
      "text/html": [
       "<style>\n",
       ".list-inline {list-style: none; margin:0; padding: 0}\n",
       ".list-inline>li {display: inline-block}\n",
       ".list-inline>li:not(:last-child)::after {content: \"\\00b7\"; padding: 0 .5ex}\n",
       "</style>\n",
       "<ol class=list-inline><li>101</li><li>6</li><li>8</li><li>9</li><li>6</li><li>103</li></ol>\n",
       "\n",
       "<details>\n",
       "\t<summary style=display:list-item;cursor:pointer>\n",
       "\t\t<strong>Levels</strong>:\n",
       "\t</summary>\n",
       "\t<style>\n",
       "\t.list-inline {list-style: none; margin:0; padding: 0}\n",
       "\t.list-inline>li {display: inline-block}\n",
       "\t.list-inline>li:not(:last-child)::after {content: \"\\00b7\"; padding: 0 .5ex}\n",
       "\t</style>\n",
       "\t<ol class=list-inline><li>'6'</li><li>'8'</li><li>'9'</li><li>'101'</li><li>'103'</li></ol>\n",
       "</details>"
      ],
      "text/latex": [
       "\\begin{enumerate*}\n",
       "\\item 101\n",
       "\\item 6\n",
       "\\item 8\n",
       "\\item 9\n",
       "\\item 6\n",
       "\\item 103\n",
       "\\end{enumerate*}\n",
       "\n",
       "\\emph{Levels}: \\begin{enumerate*}\n",
       "\\item '6'\n",
       "\\item '8'\n",
       "\\item '9'\n",
       "\\item '101'\n",
       "\\item '103'\n",
       "\\end{enumerate*}\n"
      ],
      "text/markdown": [
       "1. 101\n",
       "2. 6\n",
       "3. 8\n",
       "4. 9\n",
       "5. 6\n",
       "6. 103\n",
       "\n",
       "\n",
       "\n",
       "**Levels**: 1. '6'\n",
       "2. '8'\n",
       "3. '9'\n",
       "4. '101'\n",
       "5. '103'\n",
       "\n",
       "\n"
      ],
      "text/plain": [
       "[1] 101 6   8   9   6   103\n",
       "Levels: 6 8 9 101 103"
      ]
     },
     "metadata": {},
     "output_type": "display_data"
    }
   ],
   "source": [
    "f"
   ]
  },
  {
   "cell_type": "code",
   "execution_count": 320,
   "id": "b86f9cbb",
   "metadata": {
    "vscode": {
     "languageId": "r"
    }
   },
   "outputs": [
    {
     "data": {
      "text/html": [
       "<style>\n",
       ".list-inline {list-style: none; margin:0; padding: 0}\n",
       ".list-inline>li {display: inline-block}\n",
       ".list-inline>li:not(:last-child)::after {content: \"\\00b7\"; padding: 0 .5ex}\n",
       "</style>\n",
       "<ol class=list-inline><li>4</li><li>1</li><li>2</li><li>3</li><li>1</li><li>5</li></ol>\n"
      ],
      "text/latex": [
       "\\begin{enumerate*}\n",
       "\\item 4\n",
       "\\item 1\n",
       "\\item 2\n",
       "\\item 3\n",
       "\\item 1\n",
       "\\item 5\n",
       "\\end{enumerate*}\n"
      ],
      "text/markdown": [
       "1. 4\n",
       "2. 1\n",
       "3. 2\n",
       "4. 3\n",
       "5. 1\n",
       "6. 5\n",
       "\n",
       "\n"
      ],
      "text/plain": [
       "[1] 4 1 2 3 1 5"
      ]
     },
     "metadata": {},
     "output_type": "display_data"
    }
   ],
   "source": [
    "as.numeric(f)"
   ]
  },
  {
   "cell_type": "code",
   "execution_count": 321,
   "id": "cccfbbc8",
   "metadata": {
    "vscode": {
     "languageId": "r"
    }
   },
   "outputs": [
    {
     "data": {
      "text/html": [
       "<style>\n",
       ".list-inline {list-style: none; margin:0; padding: 0}\n",
       ".list-inline>li {display: inline-block}\n",
       ".list-inline>li:not(:last-child)::after {content: \"\\00b7\"; padding: 0 .5ex}\n",
       "</style>\n",
       "<ol class=list-inline><li>101</li><li>6</li><li>8</li><li>9</li><li>6</li><li>103</li></ol>\n"
      ],
      "text/latex": [
       "\\begin{enumerate*}\n",
       "\\item 101\n",
       "\\item 6\n",
       "\\item 8\n",
       "\\item 9\n",
       "\\item 6\n",
       "\\item 103\n",
       "\\end{enumerate*}\n"
      ],
      "text/markdown": [
       "1. 101\n",
       "2. 6\n",
       "3. 8\n",
       "4. 9\n",
       "5. 6\n",
       "6. 103\n",
       "\n",
       "\n"
      ],
      "text/plain": [
       "[1] 101   6   8   9   6 103"
      ]
     },
     "metadata": {},
     "output_type": "display_data"
    }
   ],
   "source": [
    "as.numeric(as.character(f))"
   ]
  },
  {
   "cell_type": "code",
   "execution_count": 322,
   "id": "66dcce0f",
   "metadata": {
    "vscode": {
     "languageId": "r"
    }
   },
   "outputs": [
    {
     "data": {
      "text/html": [
       "<style>\n",
       ".list-inline {list-style: none; margin:0; padding: 0}\n",
       ".list-inline>li {display: inline-block}\n",
       ".list-inline>li:not(:last-child)::after {content: \"\\00b7\"; padding: 0 .5ex}\n",
       "</style>\n",
       "<ol class=list-inline><li>6</li><li>8</li><li>9</li><li>101</li><li>103</li></ol>\n"
      ],
      "text/latex": [
       "\\begin{enumerate*}\n",
       "\\item 6\n",
       "\\item 8\n",
       "\\item 9\n",
       "\\item 101\n",
       "\\item 103\n",
       "\\end{enumerate*}\n"
      ],
      "text/markdown": [
       "1. 6\n",
       "2. 8\n",
       "3. 9\n",
       "4. 101\n",
       "5. 103\n",
       "\n",
       "\n"
      ],
      "text/plain": [
       "[1]   6   8   9 101 103"
      ]
     },
     "metadata": {},
     "output_type": "display_data"
    }
   ],
   "source": [
    "as.numeric(levels(f))"
   ]
  },
  {
   "cell_type": "code",
   "execution_count": 324,
   "id": "51c458af",
   "metadata": {
    "vscode": {
     "languageId": "r"
    }
   },
   "outputs": [
    {
     "data": {
      "text/html": [
       "<style>\n",
       ".list-inline {list-style: none; margin:0; padding: 0}\n",
       ".list-inline>li {display: inline-block}\n",
       ".list-inline>li:not(:last-child)::after {content: \"\\00b7\"; padding: 0 .5ex}\n",
       "</style>\n",
       "<ol class=list-inline><li>AA</li><li>BA</li><li>CA</li></ol>\n",
       "\n",
       "<details>\n",
       "\t<summary style=display:list-item;cursor:pointer>\n",
       "\t\t<strong>Levels</strong>:\n",
       "\t</summary>\n",
       "\t<style>\n",
       "\t.list-inline {list-style: none; margin:0; padding: 0}\n",
       "\t.list-inline>li {display: inline-block}\n",
       "\t.list-inline>li:not(:last-child)::after {content: \"\\00b7\"; padding: 0 .5ex}\n",
       "\t</style>\n",
       "\t<ol class=list-inline><li>'AA'</li><li>'BA'</li><li>'CA'</li></ol>\n",
       "</details>"
      ],
      "text/latex": [
       "\\begin{enumerate*}\n",
       "\\item AA\n",
       "\\item BA\n",
       "\\item CA\n",
       "\\end{enumerate*}\n",
       "\n",
       "\\emph{Levels}: \\begin{enumerate*}\n",
       "\\item 'AA'\n",
       "\\item 'BA'\n",
       "\\item 'CA'\n",
       "\\end{enumerate*}\n"
      ],
      "text/markdown": [
       "1. AA\n",
       "2. BA\n",
       "3. CA\n",
       "\n",
       "\n",
       "\n",
       "**Levels**: 1. 'AA'\n",
       "2. 'BA'\n",
       "3. 'CA'\n",
       "\n",
       "\n"
      ],
      "text/plain": [
       "[1] AA BA CA\n",
       "Levels: AA BA CA"
      ]
     },
     "metadata": {},
     "output_type": "display_data"
    }
   ],
   "source": [
    "ff <- factor(c(\"AA\", \"BA\", \"CA\"))\n",
    "ff"
   ]
  },
  {
   "cell_type": "code",
   "execution_count": 325,
   "id": "93de63f6",
   "metadata": {
    "vscode": {
     "languageId": "r"
    }
   },
   "outputs": [
    {
     "data": {
      "text/html": [
       "<style>\n",
       ".list-inline {list-style: none; margin:0; padding: 0}\n",
       ".list-inline>li {display: inline-block}\n",
       ".list-inline>li:not(:last-child)::after {content: \"\\00b7\"; padding: 0 .5ex}\n",
       "</style>\n",
       "<ol class=list-inline><li>AA</li><li>BA</li></ol>\n",
       "\n",
       "<details>\n",
       "\t<summary style=display:list-item;cursor:pointer>\n",
       "\t\t<strong>Levels</strong>:\n",
       "\t</summary>\n",
       "\t<style>\n",
       "\t.list-inline {list-style: none; margin:0; padding: 0}\n",
       "\t.list-inline>li {display: inline-block}\n",
       "\t.list-inline>li:not(:last-child)::after {content: \"\\00b7\"; padding: 0 .5ex}\n",
       "\t</style>\n",
       "\t<ol class=list-inline><li>'AA'</li><li>'BA'</li><li>'CA'</li></ol>\n",
       "</details>"
      ],
      "text/latex": [
       "\\begin{enumerate*}\n",
       "\\item AA\n",
       "\\item BA\n",
       "\\end{enumerate*}\n",
       "\n",
       "\\emph{Levels}: \\begin{enumerate*}\n",
       "\\item 'AA'\n",
       "\\item 'BA'\n",
       "\\item 'CA'\n",
       "\\end{enumerate*}\n"
      ],
      "text/markdown": [
       "1. AA\n",
       "2. BA\n",
       "\n",
       "\n",
       "\n",
       "**Levels**: 1. 'AA'\n",
       "2. 'BA'\n",
       "3. 'CA'\n",
       "\n",
       "\n"
      ],
      "text/plain": [
       "[1] AA BA\n",
       "Levels: AA BA CA"
      ]
     },
     "metadata": {},
     "output_type": "display_data"
    }
   ],
   "source": [
    "ff[1:2]"
   ]
  },
  {
   "cell_type": "code",
   "execution_count": 326,
   "id": "10b674f8",
   "metadata": {
    "vscode": {
     "languageId": "r"
    }
   },
   "outputs": [
    {
     "data": {
      "text/html": [
       "<style>\n",
       ".list-inline {list-style: none; margin:0; padding: 0}\n",
       ".list-inline>li {display: inline-block}\n",
       ".list-inline>li:not(:last-child)::after {content: \"\\00b7\"; padding: 0 .5ex}\n",
       "</style>\n",
       "<ol class=list-inline><li>AA</li><li>BA</li></ol>\n",
       "\n",
       "<details>\n",
       "\t<summary style=display:list-item;cursor:pointer>\n",
       "\t\t<strong>Levels</strong>:\n",
       "\t</summary>\n",
       "\t<style>\n",
       "\t.list-inline {list-style: none; margin:0; padding: 0}\n",
       "\t.list-inline>li {display: inline-block}\n",
       "\t.list-inline>li:not(:last-child)::after {content: \"\\00b7\"; padding: 0 .5ex}\n",
       "\t</style>\n",
       "\t<ol class=list-inline><li>'AA'</li><li>'BA'</li></ol>\n",
       "</details>"
      ],
      "text/latex": [
       "\\begin{enumerate*}\n",
       "\\item AA\n",
       "\\item BA\n",
       "\\end{enumerate*}\n",
       "\n",
       "\\emph{Levels}: \\begin{enumerate*}\n",
       "\\item 'AA'\n",
       "\\item 'BA'\n",
       "\\end{enumerate*}\n"
      ],
      "text/markdown": [
       "1. AA\n",
       "2. BA\n",
       "\n",
       "\n",
       "\n",
       "**Levels**: 1. 'AA'\n",
       "2. 'BA'\n",
       "\n",
       "\n"
      ],
      "text/plain": [
       "[1] AA BA\n",
       "Levels: AA BA"
      ]
     },
     "metadata": {},
     "output_type": "display_data"
    }
   ],
   "source": [
    "ff[1:2, drop=TRUE] # Opcion 1"
   ]
  },
  {
   "cell_type": "code",
   "execution_count": 327,
   "id": "20b43a0a",
   "metadata": {
    "vscode": {
     "languageId": "r"
    }
   },
   "outputs": [
    {
     "data": {
      "text/html": [
       "<style>\n",
       ".list-inline {list-style: none; margin:0; padding: 0}\n",
       ".list-inline>li {display: inline-block}\n",
       ".list-inline>li:not(:last-child)::after {content: \"\\00b7\"; padding: 0 .5ex}\n",
       "</style>\n",
       "<ol class=list-inline><li>AA</li><li>BA</li></ol>\n",
       "\n",
       "<details>\n",
       "\t<summary style=display:list-item;cursor:pointer>\n",
       "\t\t<strong>Levels</strong>:\n",
       "\t</summary>\n",
       "\t<style>\n",
       "\t.list-inline {list-style: none; margin:0; padding: 0}\n",
       "\t.list-inline>li {display: inline-block}\n",
       "\t.list-inline>li:not(:last-child)::after {content: \"\\00b7\"; padding: 0 .5ex}\n",
       "\t</style>\n",
       "\t<ol class=list-inline><li>'AA'</li><li>'BA'</li></ol>\n",
       "</details>"
      ],
      "text/latex": [
       "\\begin{enumerate*}\n",
       "\\item AA\n",
       "\\item BA\n",
       "\\end{enumerate*}\n",
       "\n",
       "\\emph{Levels}: \\begin{enumerate*}\n",
       "\\item 'AA'\n",
       "\\item 'BA'\n",
       "\\end{enumerate*}\n"
      ],
      "text/markdown": [
       "1. AA\n",
       "2. BA\n",
       "\n",
       "\n",
       "\n",
       "**Levels**: 1. 'AA'\n",
       "2. 'BA'\n",
       "\n",
       "\n"
      ],
      "text/plain": [
       "[1] AA BA\n",
       "Levels: AA BA"
      ]
     },
     "metadata": {},
     "output_type": "display_data"
    }
   ],
   "source": [
    "factor(ff[1:2]) # Opcion 2"
   ]
  },
  {
   "cell_type": "code",
   "execution_count": 328,
   "id": "82f80baf",
   "metadata": {
    "vscode": {
     "languageId": "r"
    }
   },
   "outputs": [
    {
     "data": {
      "text/html": [
       "<style>\n",
       ".list-inline {list-style: none; margin:0; padding: 0}\n",
       ".list-inline>li {display: inline-block}\n",
       ".list-inline>li:not(:last-child)::after {content: \"\\00b7\"; padding: 0 .5ex}\n",
       "</style>\n",
       "<ol class=list-inline><li>AA</li><li>BA</li><li>&lt;NA&gt;</li><li>NA</li></ol>\n",
       "\n",
       "<details>\n",
       "\t<summary style=display:list-item;cursor:pointer>\n",
       "\t\t<strong>Levels</strong>:\n",
       "\t</summary>\n",
       "\t<style>\n",
       "\t.list-inline {list-style: none; margin:0; padding: 0}\n",
       "\t.list-inline>li {display: inline-block}\n",
       "\t.list-inline>li:not(:last-child)::after {content: \"\\00b7\"; padding: 0 .5ex}\n",
       "\t</style>\n",
       "\t<ol class=list-inline><li>'AA'</li><li>'BA'</li><li>'NA'</li></ol>\n",
       "</details>"
      ],
      "text/latex": [
       "\\begin{enumerate*}\n",
       "\\item AA\n",
       "\\item BA\n",
       "\\item <NA>\n",
       "\\item NA\n",
       "\\end{enumerate*}\n",
       "\n",
       "\\emph{Levels}: \\begin{enumerate*}\n",
       "\\item 'AA'\n",
       "\\item 'BA'\n",
       "\\item 'NA'\n",
       "\\end{enumerate*}\n"
      ],
      "text/markdown": [
       "1. AA\n",
       "2. BA\n",
       "3. &lt;NA&gt;\n",
       "4. NA\n",
       "\n",
       "\n",
       "\n",
       "**Levels**: 1. 'AA'\n",
       "2. 'BA'\n",
       "3. 'NA'\n",
       "\n",
       "\n"
      ],
      "text/plain": [
       "[1] AA   BA   <NA> NA  \n",
       "Levels: AA BA NA"
      ]
     },
     "metadata": {},
     "output_type": "display_data"
    }
   ],
   "source": [
    "f1 <- factor(c(\"AA\", \"BA\", NA, \"NA\"))\n",
    "f1"
   ]
  },
  {
   "cell_type": "code",
   "execution_count": 329,
   "id": "dd691181",
   "metadata": {
    "vscode": {
     "languageId": "r"
    }
   },
   "outputs": [
    {
     "data": {
      "text/html": [
       "<style>\n",
       ".list-inline {list-style: none; margin:0; padding: 0}\n",
       ".list-inline>li {display: inline-block}\n",
       ".list-inline>li:not(:last-child)::after {content: \"\\00b7\"; padding: 0 .5ex}\n",
       "</style>\n",
       "<ol class=list-inline><li>AA</li><li>BA</li><li>&lt;NA&gt;</li><li>NA</li></ol>\n",
       "\n",
       "<details>\n",
       "\t<summary style=display:list-item;cursor:pointer>\n",
       "\t\t<strong>Levels</strong>:\n",
       "\t</summary>\n",
       "\t<style>\n",
       "\t.list-inline {list-style: none; margin:0; padding: 0}\n",
       "\t.list-inline>li {display: inline-block}\n",
       "\t.list-inline>li:not(:last-child)::after {content: \"\\00b7\"; padding: 0 .5ex}\n",
       "\t</style>\n",
       "\t<ol class=list-inline><li>'AA'</li><li>'BA'</li><li>'NA'</li><li>NA</li></ol>\n",
       "</details>"
      ],
      "text/latex": [
       "\\begin{enumerate*}\n",
       "\\item AA\n",
       "\\item BA\n",
       "\\item <NA>\n",
       "\\item NA\n",
       "\\end{enumerate*}\n",
       "\n",
       "\\emph{Levels}: \\begin{enumerate*}\n",
       "\\item 'AA'\n",
       "\\item 'BA'\n",
       "\\item 'NA'\n",
       "\\item NA\n",
       "\\end{enumerate*}\n"
      ],
      "text/markdown": [
       "1. AA\n",
       "2. BA\n",
       "3. &lt;NA&gt;\n",
       "4. NA\n",
       "\n",
       "\n",
       "\n",
       "**Levels**: 1. 'AA'\n",
       "2. 'BA'\n",
       "3. 'NA'\n",
       "4. NA\n",
       "\n",
       "\n"
      ],
      "text/plain": [
       "[1] AA   BA   <NA> NA  \n",
       "Levels: AA BA NA <NA>"
      ]
     },
     "metadata": {},
     "output_type": "display_data"
    }
   ],
   "source": [
    "f1 <- factor(c(\"AA\", \"BA\", NA, \"NA\"), exclude=NULL)\n",
    "f1"
   ]
  },
  {
   "cell_type": "markdown",
   "id": "e325be1d",
   "metadata": {},
   "source": [
    "### Ejercicios factores\n",
    "1) Crea un factor llamado \"fact_puntuacion\" que contenga puntuaciones de 1 al 5 para 1000 productos. Utiliza la función `summary()` para obtener un resumen de la distribución de puntuaciones. ¿Qué puedes deducir del tipo de aleatoriedad usada en `sample`? ¿Es normal, uniforme, ...?\n",
    "2) Crea un factor ordenado para edades entre 0 y 100 de 100 personas. Utiliza la función `cut` para generar 3 nieveles separados. Ahora reetiqueta el factor como \"joven\", \"adulto\" o \"anciano\". Muestra la frecuencia de cada nivel.\n",
    "3) Crea un factor para el siguiente vector teniendo en cuenta que los niveles posibles son todas las letras de la \"A\" a la \"Z\":\n",
    "<pre>v <- c(\"A\",\"I\", \"I\", \"J\", \"A\", \"Z\", \"X\")</pre>\n",
    "    * Modifica una de las \"I\" por una \"F\"\n",
    "    * Agrega una nueva \"A\" en última posición\n",
    "    * Indica las letras que aparecen en el factor ordenadas por su frecuencia, empezando con la menos frecuente"
   ]
  },
  {
   "cell_type": "markdown",
   "id": "681b13b8",
   "metadata": {},
   "source": [
    "# Data Frames\n",
    "Un marco de datos o data frame es una matriz generalizada, donde las diferentes columnas pueden tener diferentes tipos de datos (numérico, carácter, factor, etc.).\n",
    "\n",
    "Por ejemplo, vectores y/o factores de la misma longitud que están relacionados \"transversalmente\", de forma que los datos en la misma\n",
    "posición proceden de la misma unidad experimental (sujeto, animal, etc.)."
   ]
  },
  {
   "cell_type": "code",
   "execution_count": 330,
   "id": "9c37f911",
   "metadata": {
    "vscode": {
     "languageId": "r"
    }
   },
   "outputs": [
    {
     "data": {
      "text/html": [
       "<table class=\"dataframe\">\n",
       "<caption>A data.frame: 4 × 2</caption>\n",
       "<thead>\n",
       "\t<tr><th scope=col>age</th><th scope=col>sex</th></tr>\n",
       "\t<tr><th scope=col>&lt;dbl&gt;</th><th scope=col>&lt;fct&gt;</th></tr>\n",
       "</thead>\n",
       "<tbody>\n",
       "\t<tr><td>31</td><td>F</td></tr>\n",
       "\t<tr><td>32</td><td>M</td></tr>\n",
       "\t<tr><td>40</td><td>M</td></tr>\n",
       "\t<tr><td>50</td><td>F</td></tr>\n",
       "</tbody>\n",
       "</table>\n"
      ],
      "text/latex": [
       "A data.frame: 4 × 2\n",
       "\\begin{tabular}{ll}\n",
       " age & sex\\\\\n",
       " <dbl> & <fct>\\\\\n",
       "\\hline\n",
       "\t 31 & F\\\\\n",
       "\t 32 & M\\\\\n",
       "\t 40 & M\\\\\n",
       "\t 50 & F\\\\\n",
       "\\end{tabular}\n"
      ],
      "text/markdown": [
       "\n",
       "A data.frame: 4 × 2\n",
       "\n",
       "| age &lt;dbl&gt; | sex &lt;fct&gt; |\n",
       "|---|---|\n",
       "| 31 | F |\n",
       "| 32 | M |\n",
       "| 40 | M |\n",
       "| 50 | F |\n",
       "\n"
      ],
      "text/plain": [
       "  age sex\n",
       "1 31  F  \n",
       "2 32  M  \n",
       "3 40  M  \n",
       "4 50  F  "
      ]
     },
     "metadata": {},
     "output_type": "display_data"
    }
   ],
   "source": [
    "S <- as.factor(c(\"F\",\"M\",\"M\",\"F\"))\n",
    "Patients <- data.frame(age=c(31,32,40,50), sex=S)\n",
    "Patients"
   ]
  },
  {
   "cell_type": "code",
   "execution_count": 332,
   "id": "225eeb70",
   "metadata": {
    "vscode": {
     "languageId": "r"
    }
   },
   "outputs": [
    {
     "data": {
      "text/html": [
       "<table class=\"dataframe\">\n",
       "<caption>A data.frame: 3 × 3</caption>\n",
       "<thead>\n",
       "\t<tr><th scope=col>employee</th><th scope=col>salary</th><th scope=col>startdate</th></tr>\n",
       "\t<tr><th scope=col>&lt;chr&gt;</th><th scope=col>&lt;dbl&gt;</th><th scope=col>&lt;date&gt;</th></tr>\n",
       "</thead>\n",
       "<tbody>\n",
       "\t<tr><td>John Doe  </td><td>21000</td><td>2010-11-01</td></tr>\n",
       "\t<tr><td>Peter Gynn</td><td>23400</td><td>2008-03-25</td></tr>\n",
       "\t<tr><td>Jolie Hope</td><td>26800</td><td>2007-03-14</td></tr>\n",
       "</tbody>\n",
       "</table>\n"
      ],
      "text/latex": [
       "A data.frame: 3 × 3\n",
       "\\begin{tabular}{lll}\n",
       " employee & salary & startdate\\\\\n",
       " <chr> & <dbl> & <date>\\\\\n",
       "\\hline\n",
       "\t John Doe   & 21000 & 2010-11-01\\\\\n",
       "\t Peter Gynn & 23400 & 2008-03-25\\\\\n",
       "\t Jolie Hope & 26800 & 2007-03-14\\\\\n",
       "\\end{tabular}\n"
      ],
      "text/markdown": [
       "\n",
       "A data.frame: 3 × 3\n",
       "\n",
       "| employee &lt;chr&gt; | salary &lt;dbl&gt; | startdate &lt;date&gt; |\n",
       "|---|---|---|\n",
       "| John Doe   | 21000 | 2010-11-01 |\n",
       "| Peter Gynn | 23400 | 2008-03-25 |\n",
       "| Jolie Hope | 26800 | 2007-03-14 |\n",
       "\n"
      ],
      "text/plain": [
       "  employee   salary startdate \n",
       "1 John Doe   21000  2010-11-01\n",
       "2 Peter Gynn 23400  2008-03-25\n",
       "3 Jolie Hope 26800  2007-03-14"
      ]
     },
     "metadata": {},
     "output_type": "display_data"
    }
   ],
   "source": [
    "employee <- c(\"John Doe\",\"Peter Gynn\",\"Jolie Hope\")\n",
    "salary <- c(21000, 23400, 26800)\n",
    "startdate <- as.Date(c(\"2010-11-1\",\"2008-3-25\",\"2007-3-14\"))\n",
    "\n",
    "employ.data <- data.frame(employee, salary, startdate)\n",
    "employ.data"
   ]
  },
  {
   "cell_type": "code",
   "execution_count": 333,
   "id": "42326b93",
   "metadata": {
    "vscode": {
     "languageId": "r"
    }
   },
   "outputs": [
    {
     "name": "stdout",
     "output_type": "stream",
     "text": [
      "'data.frame':\t3 obs. of  3 variables:\n",
      " $ employee : chr  \"John Doe\" \"Peter Gynn\" \"Jolie Hope\"\n",
      " $ salary   : num  21000 23400 26800\n",
      " $ startdate: Date, format: \"2010-11-01\" \"2008-03-25\" ...\n"
     ]
    }
   ],
   "source": [
    "str(employ.data)"
   ]
  },
  {
   "cell_type": "code",
   "execution_count": 334,
   "id": "710ecca3",
   "metadata": {
    "vscode": {
     "languageId": "r"
    }
   },
   "outputs": [
    {
     "data": {
      "text/html": [
       "<table class=\"dataframe\">\n",
       "<caption>A data.frame: 3 × 3</caption>\n",
       "<thead>\n",
       "\t<tr><th scope=col>employee</th><th scope=col>salary</th><th scope=col>startdate</th></tr>\n",
       "\t<tr><th scope=col>&lt;fct&gt;</th><th scope=col>&lt;dbl&gt;</th><th scope=col>&lt;date&gt;</th></tr>\n",
       "</thead>\n",
       "<tbody>\n",
       "\t<tr><td>John Doe  </td><td>21000</td><td>2010-11-01</td></tr>\n",
       "\t<tr><td>Peter Gynn</td><td>23400</td><td>2008-03-25</td></tr>\n",
       "\t<tr><td>Jolie Hope</td><td>26800</td><td>2007-03-14</td></tr>\n",
       "</tbody>\n",
       "</table>\n"
      ],
      "text/latex": [
       "A data.frame: 3 × 3\n",
       "\\begin{tabular}{lll}\n",
       " employee & salary & startdate\\\\\n",
       " <fct> & <dbl> & <date>\\\\\n",
       "\\hline\n",
       "\t John Doe   & 21000 & 2010-11-01\\\\\n",
       "\t Peter Gynn & 23400 & 2008-03-25\\\\\n",
       "\t Jolie Hope & 26800 & 2007-03-14\\\\\n",
       "\\end{tabular}\n"
      ],
      "text/markdown": [
       "\n",
       "A data.frame: 3 × 3\n",
       "\n",
       "| employee &lt;fct&gt; | salary &lt;dbl&gt; | startdate &lt;date&gt; |\n",
       "|---|---|---|\n",
       "| John Doe   | 21000 | 2010-11-01 |\n",
       "| Peter Gynn | 23400 | 2008-03-25 |\n",
       "| Jolie Hope | 26800 | 2007-03-14 |\n",
       "\n"
      ],
      "text/plain": [
       "  employee   salary startdate \n",
       "1 John Doe   21000  2010-11-01\n",
       "2 Peter Gynn 23400  2008-03-25\n",
       "3 Jolie Hope 26800  2007-03-14"
      ]
     },
     "metadata": {},
     "output_type": "display_data"
    }
   ],
   "source": [
    "employ.data <- data.frame(employee, salary, startdate, stringsAsFactors=TRUE)\n",
    "employ.data"
   ]
  },
  {
   "cell_type": "code",
   "execution_count": 335,
   "id": "e4295518",
   "metadata": {
    "vscode": {
     "languageId": "r"
    }
   },
   "outputs": [
    {
     "data": {
      "text/html": [
       "3"
      ],
      "text/latex": [
       "3"
      ],
      "text/markdown": [
       "3"
      ],
      "text/plain": [
       "[1] 3"
      ]
     },
     "metadata": {},
     "output_type": "display_data"
    }
   ],
   "source": [
    "ncol(employ.data)"
   ]
  },
  {
   "cell_type": "code",
   "execution_count": 336,
   "id": "22efd69f",
   "metadata": {
    "vscode": {
     "languageId": "r"
    }
   },
   "outputs": [
    {
     "data": {
      "text/html": [
       "3"
      ],
      "text/latex": [
       "3"
      ],
      "text/markdown": [
       "3"
      ],
      "text/plain": [
       "[1] 3"
      ]
     },
     "metadata": {},
     "output_type": "display_data"
    }
   ],
   "source": [
    "nrow(employ.data)"
   ]
  },
  {
   "cell_type": "code",
   "execution_count": 337,
   "id": "cdef6ff9",
   "metadata": {
    "vscode": {
     "languageId": "r"
    }
   },
   "outputs": [
    {
     "data": {
      "text/html": [
       "3"
      ],
      "text/latex": [
       "3"
      ],
      "text/markdown": [
       "3"
      ],
      "text/plain": [
       "[1] 3"
      ]
     },
     "metadata": {},
     "output_type": "display_data"
    }
   ],
   "source": [
    "length(employ.data) # ¡Cuidado!"
   ]
  },
  {
   "cell_type": "code",
   "execution_count": 338,
   "id": "22a9f113",
   "metadata": {
    "vscode": {
     "languageId": "r"
    }
   },
   "outputs": [
    {
     "data": {
      "text/plain": [
       "       employee     salary        startdate         \n",
       " John Doe  :1   Min.   :21000   Min.   :2007-03-14  \n",
       " Jolie Hope:1   1st Qu.:22200   1st Qu.:2007-09-18  \n",
       " Peter Gynn:1   Median :23400   Median :2008-03-25  \n",
       "                Mean   :23733   Mean   :2008-10-02  \n",
       "                3rd Qu.:25100   3rd Qu.:2009-07-13  \n",
       "                Max.   :26800   Max.   :2010-11-01  "
      ]
     },
     "metadata": {},
     "output_type": "display_data"
    }
   ],
   "source": [
    "summary(employ.data)"
   ]
  },
  {
   "cell_type": "code",
   "execution_count": 339,
   "id": "db23df3b",
   "metadata": {
    "vscode": {
     "languageId": "r"
    }
   },
   "outputs": [
    {
     "data": {
      "text/html": [
       "John Doe\n",
       "<details>\n",
       "\t<summary style=display:list-item;cursor:pointer>\n",
       "\t\t<strong>Levels</strong>:\n",
       "\t</summary>\n",
       "\t<style>\n",
       "\t.list-inline {list-style: none; margin:0; padding: 0}\n",
       "\t.list-inline>li {display: inline-block}\n",
       "\t.list-inline>li:not(:last-child)::after {content: \"\\00b7\"; padding: 0 .5ex}\n",
       "\t</style>\n",
       "\t<ol class=list-inline><li>'John Doe'</li><li>'Jolie Hope'</li><li>'Peter Gynn'</li></ol>\n",
       "</details>"
      ],
      "text/latex": [
       "John Doe\n",
       "\\emph{Levels}: \\begin{enumerate*}\n",
       "\\item 'John Doe'\n",
       "\\item 'Jolie Hope'\n",
       "\\item 'Peter Gynn'\n",
       "\\end{enumerate*}\n"
      ],
      "text/markdown": [
       "John Doe\n",
       "**Levels**: 1. 'John Doe'\n",
       "2. 'Jolie Hope'\n",
       "3. 'Peter Gynn'\n",
       "\n",
       "\n"
      ],
      "text/plain": [
       "[1] John Doe\n",
       "Levels: John Doe Jolie Hope Peter Gynn"
      ]
     },
     "metadata": {},
     "output_type": "display_data"
    }
   ],
   "source": [
    "employ.data[1,1]"
   ]
  },
  {
   "cell_type": "code",
   "execution_count": 340,
   "id": "1b489437",
   "metadata": {
    "vscode": {
     "languageId": "r"
    }
   },
   "outputs": [
    {
     "data": {
      "text/html": [
       "<table class=\"dataframe\">\n",
       "<caption>A data.frame: 1 × 3</caption>\n",
       "<thead>\n",
       "\t<tr><th></th><th scope=col>employee</th><th scope=col>salary</th><th scope=col>startdate</th></tr>\n",
       "\t<tr><th></th><th scope=col>&lt;fct&gt;</th><th scope=col>&lt;dbl&gt;</th><th scope=col>&lt;date&gt;</th></tr>\n",
       "</thead>\n",
       "<tbody>\n",
       "\t<tr><th scope=row>1</th><td>John Doe</td><td>21000</td><td>2010-11-01</td></tr>\n",
       "</tbody>\n",
       "</table>\n"
      ],
      "text/latex": [
       "A data.frame: 1 × 3\n",
       "\\begin{tabular}{r|lll}\n",
       "  & employee & salary & startdate\\\\\n",
       "  & <fct> & <dbl> & <date>\\\\\n",
       "\\hline\n",
       "\t1 & John Doe & 21000 & 2010-11-01\\\\\n",
       "\\end{tabular}\n"
      ],
      "text/markdown": [
       "\n",
       "A data.frame: 1 × 3\n",
       "\n",
       "| <!--/--> | employee &lt;fct&gt; | salary &lt;dbl&gt; | startdate &lt;date&gt; |\n",
       "|---|---|---|---|\n",
       "| 1 | John Doe | 21000 | 2010-11-01 |\n",
       "\n"
      ],
      "text/plain": [
       "  employee salary startdate \n",
       "1 John Doe 21000  2010-11-01"
      ]
     },
     "metadata": {},
     "output_type": "display_data"
    }
   ],
   "source": [
    "employ.data[1,]"
   ]
  },
  {
   "cell_type": "code",
   "execution_count": 341,
   "id": "f44820e7",
   "metadata": {
    "vscode": {
     "languageId": "r"
    }
   },
   "outputs": [
    {
     "data": {
      "text/html": [
       "<style>\n",
       ".list-inline {list-style: none; margin:0; padding: 0}\n",
       ".list-inline>li {display: inline-block}\n",
       ".list-inline>li:not(:last-child)::after {content: \"\\00b7\"; padding: 0 .5ex}\n",
       "</style>\n",
       "<ol class=list-inline><li>John Doe</li><li>Peter Gynn</li><li>Jolie Hope</li></ol>\n",
       "\n",
       "<details>\n",
       "\t<summary style=display:list-item;cursor:pointer>\n",
       "\t\t<strong>Levels</strong>:\n",
       "\t</summary>\n",
       "\t<style>\n",
       "\t.list-inline {list-style: none; margin:0; padding: 0}\n",
       "\t.list-inline>li {display: inline-block}\n",
       "\t.list-inline>li:not(:last-child)::after {content: \"\\00b7\"; padding: 0 .5ex}\n",
       "\t</style>\n",
       "\t<ol class=list-inline><li>'John Doe'</li><li>'Jolie Hope'</li><li>'Peter Gynn'</li></ol>\n",
       "</details>"
      ],
      "text/latex": [
       "\\begin{enumerate*}\n",
       "\\item John Doe\n",
       "\\item Peter Gynn\n",
       "\\item Jolie Hope\n",
       "\\end{enumerate*}\n",
       "\n",
       "\\emph{Levels}: \\begin{enumerate*}\n",
       "\\item 'John Doe'\n",
       "\\item 'Jolie Hope'\n",
       "\\item 'Peter Gynn'\n",
       "\\end{enumerate*}\n"
      ],
      "text/markdown": [
       "1. John Doe\n",
       "2. Peter Gynn\n",
       "3. Jolie Hope\n",
       "\n",
       "\n",
       "\n",
       "**Levels**: 1. 'John Doe'\n",
       "2. 'Jolie Hope'\n",
       "3. 'Peter Gynn'\n",
       "\n",
       "\n"
      ],
      "text/plain": [
       "[1] John Doe   Peter Gynn Jolie Hope\n",
       "Levels: John Doe Jolie Hope Peter Gynn"
      ]
     },
     "metadata": {},
     "output_type": "display_data"
    }
   ],
   "source": [
    "employ.data[,1]"
   ]
  },
  {
   "cell_type": "code",
   "execution_count": 342,
   "id": "80c9bffc",
   "metadata": {
    "vscode": {
     "languageId": "r"
    }
   },
   "outputs": [
    {
     "data": {
      "text/html": [
       "<style>\n",
       ".list-inline {list-style: none; margin:0; padding: 0}\n",
       ".list-inline>li {display: inline-block}\n",
       ".list-inline>li:not(:last-child)::after {content: \"\\00b7\"; padding: 0 .5ex}\n",
       "</style>\n",
       "<ol class=list-inline><li>John Doe</li><li>Peter Gynn</li><li>Jolie Hope</li></ol>\n",
       "\n",
       "<details>\n",
       "\t<summary style=display:list-item;cursor:pointer>\n",
       "\t\t<strong>Levels</strong>:\n",
       "\t</summary>\n",
       "\t<style>\n",
       "\t.list-inline {list-style: none; margin:0; padding: 0}\n",
       "\t.list-inline>li {display: inline-block}\n",
       "\t.list-inline>li:not(:last-child)::after {content: \"\\00b7\"; padding: 0 .5ex}\n",
       "\t</style>\n",
       "\t<ol class=list-inline><li>'John Doe'</li><li>'Jolie Hope'</li><li>'Peter Gynn'</li></ol>\n",
       "</details>"
      ],
      "text/latex": [
       "\\begin{enumerate*}\n",
       "\\item John Doe\n",
       "\\item Peter Gynn\n",
       "\\item Jolie Hope\n",
       "\\end{enumerate*}\n",
       "\n",
       "\\emph{Levels}: \\begin{enumerate*}\n",
       "\\item 'John Doe'\n",
       "\\item 'Jolie Hope'\n",
       "\\item 'Peter Gynn'\n",
       "\\end{enumerate*}\n"
      ],
      "text/markdown": [
       "1. John Doe\n",
       "2. Peter Gynn\n",
       "3. Jolie Hope\n",
       "\n",
       "\n",
       "\n",
       "**Levels**: 1. 'John Doe'\n",
       "2. 'Jolie Hope'\n",
       "3. 'Peter Gynn'\n",
       "\n",
       "\n"
      ],
      "text/plain": [
       "[1] John Doe   Peter Gynn Jolie Hope\n",
       "Levels: John Doe Jolie Hope Peter Gynn"
      ]
     },
     "metadata": {},
     "output_type": "display_data"
    }
   ],
   "source": [
    "employ.data$employee"
   ]
  },
  {
   "cell_type": "code",
   "execution_count": 343,
   "id": "54f0474a",
   "metadata": {
    "vscode": {
     "languageId": "r"
    }
   },
   "outputs": [
    {
     "data": {
      "text/html": [
       "<table class=\"dataframe\">\n",
       "<caption>A data.frame: 4 × 3</caption>\n",
       "<thead>\n",
       "\t<tr><th scope=col>employee</th><th scope=col>salary</th><th scope=col>startdate</th></tr>\n",
       "\t<tr><th scope=col>&lt;fct&gt;</th><th scope=col>&lt;chr&gt;</th><th scope=col>&lt;date&gt;</th></tr>\n",
       "</thead>\n",
       "<tbody>\n",
       "\t<tr><td>John Doe  </td><td>21000</td><td>2010-11-01</td></tr>\n",
       "\t<tr><td>Peter Gynn</td><td>23400</td><td>2008-03-25</td></tr>\n",
       "\t<tr><td>Jolie Hope</td><td>26800</td><td>2007-03-14</td></tr>\n",
       "\t<tr><td>John Doe  </td><td>50000</td><td>1990-11-01</td></tr>\n",
       "</tbody>\n",
       "</table>\n"
      ],
      "text/latex": [
       "A data.frame: 4 × 3\n",
       "\\begin{tabular}{lll}\n",
       " employee & salary & startdate\\\\\n",
       " <fct> & <chr> & <date>\\\\\n",
       "\\hline\n",
       "\t John Doe   & 21000 & 2010-11-01\\\\\n",
       "\t Peter Gynn & 23400 & 2008-03-25\\\\\n",
       "\t Jolie Hope & 26800 & 2007-03-14\\\\\n",
       "\t John Doe   & 50000 & 1990-11-01\\\\\n",
       "\\end{tabular}\n"
      ],
      "text/markdown": [
       "\n",
       "A data.frame: 4 × 3\n",
       "\n",
       "| employee &lt;fct&gt; | salary &lt;chr&gt; | startdate &lt;date&gt; |\n",
       "|---|---|---|\n",
       "| John Doe   | 21000 | 2010-11-01 |\n",
       "| Peter Gynn | 23400 | 2008-03-25 |\n",
       "| Jolie Hope | 26800 | 2007-03-14 |\n",
       "| John Doe   | 50000 | 1990-11-01 |\n",
       "\n"
      ],
      "text/plain": [
       "  employee   salary startdate \n",
       "1 John Doe   21000  2010-11-01\n",
       "2 Peter Gynn 23400  2008-03-25\n",
       "3 Jolie Hope 26800  2007-03-14\n",
       "4 John Doe   50000  1990-11-01"
      ]
     },
     "metadata": {},
     "output_type": "display_data"
    }
   ],
   "source": [
    "rbind(employ.data, c(\"John Doe\", 50000, \"1990-11-1\"))"
   ]
  },
  {
   "cell_type": "code",
   "execution_count": 344,
   "id": "fae8c5fa",
   "metadata": {
    "vscode": {
     "languageId": "r"
    }
   },
   "outputs": [
    {
     "name": "stderr",
     "output_type": "stream",
     "text": [
      "Warning message in `[<-.factor`(`*tmp*`, ri, value = \"Rocio Romero\"):\n",
      "“invalid factor level, NA generated”\n"
     ]
    },
    {
     "data": {
      "text/html": [
       "<table class=\"dataframe\">\n",
       "<caption>A data.frame: 4 × 3</caption>\n",
       "<thead>\n",
       "\t<tr><th scope=col>employee</th><th scope=col>salary</th><th scope=col>startdate</th></tr>\n",
       "\t<tr><th scope=col>&lt;fct&gt;</th><th scope=col>&lt;chr&gt;</th><th scope=col>&lt;date&gt;</th></tr>\n",
       "</thead>\n",
       "<tbody>\n",
       "\t<tr><td>John Doe  </td><td>21000</td><td>2010-11-01</td></tr>\n",
       "\t<tr><td>Peter Gynn</td><td>23400</td><td>2008-03-25</td></tr>\n",
       "\t<tr><td>Jolie Hope</td><td>26800</td><td>2007-03-14</td></tr>\n",
       "\t<tr><td>NA        </td><td>50000</td><td>1990-11-01</td></tr>\n",
       "</tbody>\n",
       "</table>\n"
      ],
      "text/latex": [
       "A data.frame: 4 × 3\n",
       "\\begin{tabular}{lll}\n",
       " employee & salary & startdate\\\\\n",
       " <fct> & <chr> & <date>\\\\\n",
       "\\hline\n",
       "\t John Doe   & 21000 & 2010-11-01\\\\\n",
       "\t Peter Gynn & 23400 & 2008-03-25\\\\\n",
       "\t Jolie Hope & 26800 & 2007-03-14\\\\\n",
       "\t NA         & 50000 & 1990-11-01\\\\\n",
       "\\end{tabular}\n"
      ],
      "text/markdown": [
       "\n",
       "A data.frame: 4 × 3\n",
       "\n",
       "| employee &lt;fct&gt; | salary &lt;chr&gt; | startdate &lt;date&gt; |\n",
       "|---|---|---|\n",
       "| John Doe   | 21000 | 2010-11-01 |\n",
       "| Peter Gynn | 23400 | 2008-03-25 |\n",
       "| Jolie Hope | 26800 | 2007-03-14 |\n",
       "| NA         | 50000 | 1990-11-01 |\n",
       "\n"
      ],
      "text/plain": [
       "  employee   salary startdate \n",
       "1 John Doe   21000  2010-11-01\n",
       "2 Peter Gynn 23400  2008-03-25\n",
       "3 Jolie Hope 26800  2007-03-14\n",
       "4 NA         50000  1990-11-01"
      ]
     },
     "metadata": {},
     "output_type": "display_data"
    }
   ],
   "source": [
    "rbind(employ.data, c(\"Rocio Romero\", 50000, \"1990-11-1\")) # Error"
   ]
  },
  {
   "cell_type": "code",
   "execution_count": 346,
   "id": "4a075bb0",
   "metadata": {
    "vscode": {
     "languageId": "r"
    }
   },
   "outputs": [
    {
     "name": "stderr",
     "output_type": "stream",
     "text": [
      "Warning message in rbind(deparse.level, ...):\n",
      "“number of columns of result, 3, is not a multiple of vector length 2 of arg 2”\n"
     ]
    },
    {
     "ename": "ERROR",
     "evalue": "Error in charToDate(x): character string is not in a standard unambiguous format\n",
     "output_type": "error",
     "traceback": [
      "Error in charToDate(x): character string is not in a standard unambiguous format\nTraceback:\n",
      "1. rbind(employ.data, c(\"John Doe\", 50000))",
      "2. rbind(deparse.level, ...)",
      "3. `[<-`(`*tmp*`, ri, value = \"John Doe\")",
      "4. `[<-.Date`(`*tmp*`, ri, value = \"John Doe\")",
      "5. as.Date(value)",
      "6. as.Date.character(value)",
      "7. charToDate(x)",
      "8. stop(\"character string is not in a standard unambiguous format\")"
     ]
    }
   ],
   "source": [
    "rbind(employ.data, c(\"John Doe\", 50000)) # Error"
   ]
  },
  {
   "cell_type": "code",
   "execution_count": 347,
   "id": "9d222db5",
   "metadata": {
    "vscode": {
     "languageId": "r"
    }
   },
   "outputs": [
    {
     "data": {
      "text/html": [
       "<table class=\"dataframe\">\n",
       "<caption>A data.frame: 10 × 3</caption>\n",
       "<thead>\n",
       "\t<tr><th scope=col>year</th><th scope=col>country</th><th scope=col>valor1</th></tr>\n",
       "\t<tr><th scope=col>&lt;dbl&gt;</th><th scope=col>&lt;chr&gt;</th><th scope=col>&lt;dbl&gt;</th></tr>\n",
       "</thead>\n",
       "<tbody>\n",
       "\t<tr><td>2000</td><td>Argentina</td><td>100</td></tr>\n",
       "\t<tr><td>2020</td><td>Brasil   </td><td>120</td></tr>\n",
       "\t<tr><td>2021</td><td>Chile    </td><td> 90</td></tr>\n",
       "\t<tr><td>2021</td><td>Colombia </td><td>110</td></tr>\n",
       "\t<tr><td>2022</td><td>Ecuador  </td><td> 80</td></tr>\n",
       "\t<tr><td>2022</td><td>Perú     </td><td>105</td></tr>\n",
       "\t<tr><td>2023</td><td>México   </td><td>115</td></tr>\n",
       "\t<tr><td>2023</td><td>Uruguay  </td><td> 95</td></tr>\n",
       "\t<tr><td>2024</td><td>Paraguay </td><td>125</td></tr>\n",
       "\t<tr><td>2024</td><td>Bolivia  </td><td> 75</td></tr>\n",
       "</tbody>\n",
       "</table>\n"
      ],
      "text/latex": [
       "A data.frame: 10 × 3\n",
       "\\begin{tabular}{lll}\n",
       " year & country & valor1\\\\\n",
       " <dbl> & <chr> & <dbl>\\\\\n",
       "\\hline\n",
       "\t 2000 & Argentina & 100\\\\\n",
       "\t 2020 & Brasil    & 120\\\\\n",
       "\t 2021 & Chile     &  90\\\\\n",
       "\t 2021 & Colombia  & 110\\\\\n",
       "\t 2022 & Ecuador   &  80\\\\\n",
       "\t 2022 & Perú      & 105\\\\\n",
       "\t 2023 & México    & 115\\\\\n",
       "\t 2023 & Uruguay   &  95\\\\\n",
       "\t 2024 & Paraguay  & 125\\\\\n",
       "\t 2024 & Bolivia   &  75\\\\\n",
       "\\end{tabular}\n"
      ],
      "text/markdown": [
       "\n",
       "A data.frame: 10 × 3\n",
       "\n",
       "| year &lt;dbl&gt; | country &lt;chr&gt; | valor1 &lt;dbl&gt; |\n",
       "|---|---|---|\n",
       "| 2000 | Argentina | 100 |\n",
       "| 2020 | Brasil    | 120 |\n",
       "| 2021 | Chile     |  90 |\n",
       "| 2021 | Colombia  | 110 |\n",
       "| 2022 | Ecuador   |  80 |\n",
       "| 2022 | Perú      | 105 |\n",
       "| 2023 | México    | 115 |\n",
       "| 2023 | Uruguay   |  95 |\n",
       "| 2024 | Paraguay  | 125 |\n",
       "| 2024 | Bolivia   |  75 |\n",
       "\n"
      ],
      "text/plain": [
       "   year country   valor1\n",
       "1  2000 Argentina 100   \n",
       "2  2020 Brasil    120   \n",
       "3  2021 Chile      90   \n",
       "4  2021 Colombia  110   \n",
       "5  2022 Ecuador    80   \n",
       "6  2022 Perú      105   \n",
       "7  2023 México    115   \n",
       "8  2023 Uruguay    95   \n",
       "9  2024 Paraguay  125   \n",
       "10 2024 Bolivia    75   "
      ]
     },
     "metadata": {},
     "output_type": "display_data"
    }
   ],
   "source": [
    "# Crear los datos para el dataframe\n",
    "year <- c(2000, 2020, 2021, 2021, 2022, 2022, 2023, 2023, 2024, 2024)\n",
    "country <- c(\"Argentina\", \"Brasil\", \"Chile\", \"Colombia\", \"Ecuador\", \"Perú\", \"México\", \"Uruguay\", \"Paraguay\", \"Bolivia\")\n",
    "valor1 <- c(100, 120, 90, 110, 80, 105, 115, 95, 125, 75)\n",
    "\n",
    "# Crear el dataframe\n",
    "data1 <- data.frame(year, country, valor1)\n",
    "data1"
   ]
  },
  {
   "cell_type": "code",
   "execution_count": 348,
   "id": "2ea011c7",
   "metadata": {
    "vscode": {
     "languageId": "r"
    }
   },
   "outputs": [
    {
     "data": {
      "text/html": [
       "<table class=\"dataframe\">\n",
       "<caption>A data.frame: 15 × 3</caption>\n",
       "<thead>\n",
       "\t<tr><th scope=col>country</th><th scope=col>year</th><th scope=col>valor2</th></tr>\n",
       "\t<tr><th scope=col>&lt;chr&gt;</th><th scope=col>&lt;dbl&gt;</th><th scope=col>&lt;dbl&gt;</th></tr>\n",
       "</thead>\n",
       "<tbody>\n",
       "\t<tr><td>Argentina</td><td>2000</td><td>91.65267</td></tr>\n",
       "\t<tr><td>Brasil   </td><td>2000</td><td>62.21677</td></tr>\n",
       "\t<tr><td>Chile    </td><td>2001</td><td>43.41373</td></tr>\n",
       "\t<tr><td>Argentina</td><td>2001</td><td>54.66596</td></tr>\n",
       "\t<tr><td>Brasil   </td><td>2002</td><td> 6.78937</td></tr>\n",
       "\t<tr><td>Chile    </td><td>2002</td><td>26.82483</td></tr>\n",
       "\t<tr><td>Argentina</td><td>2003</td><td>40.31804</td></tr>\n",
       "\t<tr><td>Brasil   </td><td>2003</td><td>20.57673</td></tr>\n",
       "\t<tr><td>Chile    </td><td>2004</td><td>83.36083</td></tr>\n",
       "\t<tr><td>Argentina</td><td>2004</td><td>16.13584</td></tr>\n",
       "\t<tr><td>Brasil   </td><td>2005</td><td>80.53844</td></tr>\n",
       "\t<tr><td>Chile    </td><td>2005</td><td>55.13579</td></tr>\n",
       "\t<tr><td>Argentina</td><td>2006</td><td>66.56945</td></tr>\n",
       "\t<tr><td>Brasil   </td><td>2006</td><td>17.99815</td></tr>\n",
       "\t<tr><td>Chile    </td><td>2020</td><td>63.67248</td></tr>\n",
       "</tbody>\n",
       "</table>\n"
      ],
      "text/latex": [
       "A data.frame: 15 × 3\n",
       "\\begin{tabular}{lll}\n",
       " country & year & valor2\\\\\n",
       " <chr> & <dbl> & <dbl>\\\\\n",
       "\\hline\n",
       "\t Argentina & 2000 & 91.65267\\\\\n",
       "\t Brasil    & 2000 & 62.21677\\\\\n",
       "\t Chile     & 2001 & 43.41373\\\\\n",
       "\t Argentina & 2001 & 54.66596\\\\\n",
       "\t Brasil    & 2002 &  6.78937\\\\\n",
       "\t Chile     & 2002 & 26.82483\\\\\n",
       "\t Argentina & 2003 & 40.31804\\\\\n",
       "\t Brasil    & 2003 & 20.57673\\\\\n",
       "\t Chile     & 2004 & 83.36083\\\\\n",
       "\t Argentina & 2004 & 16.13584\\\\\n",
       "\t Brasil    & 2005 & 80.53844\\\\\n",
       "\t Chile     & 2005 & 55.13579\\\\\n",
       "\t Argentina & 2006 & 66.56945\\\\\n",
       "\t Brasil    & 2006 & 17.99815\\\\\n",
       "\t Chile     & 2020 & 63.67248\\\\\n",
       "\\end{tabular}\n"
      ],
      "text/markdown": [
       "\n",
       "A data.frame: 15 × 3\n",
       "\n",
       "| country &lt;chr&gt; | year &lt;dbl&gt; | valor2 &lt;dbl&gt; |\n",
       "|---|---|---|\n",
       "| Argentina | 2000 | 91.65267 |\n",
       "| Brasil    | 2000 | 62.21677 |\n",
       "| Chile     | 2001 | 43.41373 |\n",
       "| Argentina | 2001 | 54.66596 |\n",
       "| Brasil    | 2002 |  6.78937 |\n",
       "| Chile     | 2002 | 26.82483 |\n",
       "| Argentina | 2003 | 40.31804 |\n",
       "| Brasil    | 2003 | 20.57673 |\n",
       "| Chile     | 2004 | 83.36083 |\n",
       "| Argentina | 2004 | 16.13584 |\n",
       "| Brasil    | 2005 | 80.53844 |\n",
       "| Chile     | 2005 | 55.13579 |\n",
       "| Argentina | 2006 | 66.56945 |\n",
       "| Brasil    | 2006 | 17.99815 |\n",
       "| Chile     | 2020 | 63.67248 |\n",
       "\n"
      ],
      "text/plain": [
       "   country   year valor2  \n",
       "1  Argentina 2000 91.65267\n",
       "2  Brasil    2000 62.21677\n",
       "3  Chile     2001 43.41373\n",
       "4  Argentina 2001 54.66596\n",
       "5  Brasil    2002  6.78937\n",
       "6  Chile     2002 26.82483\n",
       "7  Argentina 2003 40.31804\n",
       "8  Brasil    2003 20.57673\n",
       "9  Chile     2004 83.36083\n",
       "10 Argentina 2004 16.13584\n",
       "11 Brasil    2005 80.53844\n",
       "12 Chile     2005 55.13579\n",
       "13 Argentina 2006 66.56945\n",
       "14 Brasil    2006 17.99815\n",
       "15 Chile     2020 63.67248"
      ]
     },
     "metadata": {},
     "output_type": "display_data"
    }
   ],
   "source": [
    "# Crear los datos para el dataframe\n",
    "country <- rep(c(\"Argentina\", \"Brasil\", \"Chile\"), each = 1, times = 5)\n",
    "year <- c(rep(seq(2000, 2006, by = 1), each = 2), 2020)\n",
    "valor2 <- runif(15, min = 1, max = 100) # Valores aleatorios entre 1 y 100\n",
    "\n",
    "# Crear el dataframe\n",
    "data2 <- data.frame(country, year, valor2)\n",
    "data2"
   ]
  },
  {
   "cell_type": "code",
   "execution_count": 349,
   "id": "cc4631f1",
   "metadata": {
    "vscode": {
     "languageId": "r"
    }
   },
   "outputs": [
    {
     "data": {
      "text/html": [
       "\n",
       "<table style=\"width: 100%;\"><tr><td>merge {base}</td><td style=\"text-align: right;\">R Documentation</td></tr></table>\n",
       "\n",
       "<h2>Merge Two Data Frames</h2>\n",
       "\n",
       "<h3>Description</h3>\n",
       "\n",
       "<p>Merge two data frames by common columns or row names, or do other\n",
       "versions of database <em>join</em> operations.\n",
       "</p>\n",
       "\n",
       "\n",
       "<h3>Usage</h3>\n",
       "\n",
       "<pre><code class='language-R'>merge(x, y, ...)\n",
       "\n",
       "## Default S3 method:\n",
       "merge(x, y, ...)\n",
       "\n",
       "## S3 method for class 'data.frame'\n",
       "merge(x, y, by = intersect(names(x), names(y)),\n",
       "      by.x = by, by.y = by, all = FALSE, all.x = all, all.y = all,\n",
       "      sort = TRUE, suffixes = c(\".x\",\".y\"), no.dups = TRUE,\n",
       "      incomparables = NULL, ...)\n",
       "</code></pre>\n",
       "\n",
       "\n",
       "<h3>Arguments</h3>\n",
       "\n",
       "<table>\n",
       "<tr style=\"vertical-align: top;\"><td><code>x, y</code></td>\n",
       "<td>\n",
       "<p>data frames, or objects to be coerced to one.</p>\n",
       "</td></tr>\n",
       "<tr style=\"vertical-align: top;\"><td><code>by, by.x, by.y</code></td>\n",
       "<td>\n",
       "<p>specifications of the columns used for merging.\n",
       "See &lsquo;Details&rsquo;.</p>\n",
       "</td></tr>\n",
       "<tr style=\"vertical-align: top;\"><td><code>all</code></td>\n",
       "<td>\n",
       "<p>logical; <code>all = L</code> is shorthand for <code>all.x = L</code> and\n",
       "<code>all.y = L</code>, where <code>L</code> is either <code>TRUE</code> or\n",
       "<code>FALSE</code>.</p>\n",
       "</td></tr>\n",
       "<tr style=\"vertical-align: top;\"><td><code>all.x</code></td>\n",
       "<td>\n",
       "<p>logical; if <code>TRUE</code>, then extra rows will be added to\n",
       "the output, one for each row in <code>x</code> that has no matching row in\n",
       "<code>y</code>.  These rows will have <code>NA</code>s in those columns that are\n",
       "usually filled with values from <code>y</code>.  The default is\n",
       "<code>FALSE</code>, so that only rows with data from both <code>x</code> and\n",
       "<code>y</code> are included in the output.</p>\n",
       "</td></tr>\n",
       "<tr style=\"vertical-align: top;\"><td><code>all.y</code></td>\n",
       "<td>\n",
       "<p>logical; analogous to <code>all.x</code>.</p>\n",
       "</td></tr>\n",
       "<tr style=\"vertical-align: top;\"><td><code>sort</code></td>\n",
       "<td>\n",
       "<p>logical.  Should the result be sorted on the <code>by</code>\n",
       "columns?</p>\n",
       "</td></tr>\n",
       "<tr style=\"vertical-align: top;\"><td><code>suffixes</code></td>\n",
       "<td>\n",
       "<p>a character vector of length 2 specifying the suffixes\n",
       "to be used for making unique the names of columns in the result\n",
       "which are not used for merging (appearing in <code>by</code> etc).</p>\n",
       "</td></tr>\n",
       "<tr style=\"vertical-align: top;\"><td><code>no.dups</code></td>\n",
       "<td>\n",
       "<p>logical indicating that <code>suffixes</code> are appended in\n",
       "more cases to avoid duplicated column names in the result.  This\n",
       "was implicitly false before <span style=\"font-family: Courier New, Courier; color: #666666;\"><b>R</b></span> version 3.5.0.</p>\n",
       "</td></tr>\n",
       "<tr style=\"vertical-align: top;\"><td><code>incomparables</code></td>\n",
       "<td>\n",
       "<p>values which cannot be matched.  See\n",
       "<code>match</code>.  This is intended to be used for merging on one\n",
       "column, so these are incomparable values of that column.</p>\n",
       "</td></tr>\n",
       "<tr style=\"vertical-align: top;\"><td><code>...</code></td>\n",
       "<td>\n",
       "<p>arguments to be passed to or from methods.</p>\n",
       "</td></tr>\n",
       "</table>\n",
       "\n",
       "\n",
       "<h3>Details</h3>\n",
       "\n",
       "<p><code>merge</code> is a generic function whose principal method is for data\n",
       "frames: the default method coerces its arguments to data frames and\n",
       "calls the <code>\"data.frame\"</code> method.\n",
       "</p>\n",
       "<p>By default the data frames are merged on the columns with names they\n",
       "both have, but separate specifications of the columns can be given by\n",
       "<code>by.x</code> and <code>by.y</code>.  The rows in the two data frames that\n",
       "match on the specified columns are extracted, and joined together.  If\n",
       "there is more than one match, all possible matches contribute one row\n",
       "each.  For the precise meaning of &lsquo;match&rsquo;, see\n",
       "<code>match</code>.\n",
       "</p>\n",
       "<p>Columns to merge on can be specified by name, number or by a logical\n",
       "vector: the name <code>\"row.names\"</code> or the number <code>0</code> specifies\n",
       "the row names.  If specified by name it must correspond uniquely to a\n",
       "named column in the input.\n",
       "</p>\n",
       "<p>If <code>by</code> or both <code>by.x</code> and <code>by.y</code> are of length 0 (a\n",
       "length zero vector or <code>NULL</code>), the result, <code>r</code>, is the\n",
       "<em>Cartesian product</em> of <code>x</code> and <code>y</code>, i.e.,\n",
       "<code>dim(r) = c(nrow(x)*nrow(y), ncol(x) + ncol(y))</code>.\n",
       "</p>\n",
       "<p>If <code>all.x</code> is true, all the non matching cases of <code>x</code> are\n",
       "appended to the result as well, with <code>NA</code> filled in the\n",
       "corresponding columns of <code>y</code>;  analogously for <code>all.y</code>.\n",
       "</p>\n",
       "<p>If the columns in the data frames not used in merging have any common\n",
       "names, these have <code>suffixes</code> (<code>\".x\"</code> and <code>\".y\"</code> by\n",
       "default) appended to try to make the names of the result unique.  If\n",
       "this is not possible, an error is thrown.\n",
       "</p>\n",
       "<p>If a <code>by.x</code> column name matches one of <code>y</code>, and if\n",
       "<code>no.dups</code> is true (as by default), the y version gets suffixed as\n",
       "well, avoiding duplicate column names in the result.\n",
       "</p>\n",
       "<p>The complexity of the algorithm used is proportional to the length of\n",
       "the answer.\n",
       "</p>\n",
       "\n",
       "<p>In SQL database terminology, the default value of <code>all = FALSE</code>\n",
       "gives a <em>natural join</em>, a special case of an <em>inner\n",
       "join</em>. Specifying <code>all.x = TRUE</code> gives a <em>left (outer)\n",
       "join</em>, <code>all.y = TRUE</code> a <em>right (outer) join</em>, and both\n",
       "(<code>all = TRUE</code>) a <em>(full) outer join</em>.  DBMSes do not match\n",
       "<code>NULL</code> records, equivalent to <code>incomparables = NA</code> in <span style=\"font-family: Courier New, Courier; color: #666666;\"><b>R</b></span>.\n",
       "</p>\n",
       "\n",
       "\n",
       "<h3>Value</h3>\n",
       "\n",
       "<p>A data frame.  The rows are by default lexicographically sorted on the\n",
       "common columns, but for <code>sort = FALSE</code> are in an unspecified order.\n",
       "The columns are the common columns followed by the\n",
       "remaining columns in <code>x</code> and then those in <code>y</code>.  If the\n",
       "matching involved row names, an extra character column called\n",
       "<code>Row.names</code> is added at the left, and in all cases the result has\n",
       "&lsquo;automatic&rsquo; row names.\n",
       "</p>\n",
       "\n",
       "\n",
       "<h3>Note</h3>\n",
       "\n",
       "<p>This is intended to work with data frames with vector-like columns:\n",
       "some aspects work with data frames containing matrices, but not all.\n",
       "</p>\n",
       "<p>Currently long vectors are not accepted for inputs, which are thus\n",
       "restricted to less than 2^31 rows. That restriction also applies to\n",
       "the result for 32-bit platforms.\n",
       "</p>\n",
       "\n",
       "\n",
       "<h3>See Also</h3>\n",
       "\n",
       "<p><code>data.frame</code>,\n",
       "<code>by</code>,\n",
       "<code>cbind</code>.\n",
       "</p>\n",
       "<p><code>dendrogram</code> for a class which has a <code>merge</code> method.\n",
       "</p>\n",
       "\n",
       "\n",
       "<h3>Examples</h3>\n",
       "\n",
       "<pre><code class='language-R'>authors &lt;- data.frame(\n",
       "    ## I(*) : use character columns of names to get sensible sort order\n",
       "    surname = I(c(\"Tukey\", \"Venables\", \"Tierney\", \"Ripley\", \"McNeil\")),\n",
       "    nationality = c(\"US\", \"Australia\", \"US\", \"UK\", \"Australia\"),\n",
       "    deceased = c(\"yes\", rep(\"no\", 4)))\n",
       "authorN &lt;- within(authors, { name &lt;- surname; rm(surname) })\n",
       "books &lt;- data.frame(\n",
       "    name = I(c(\"Tukey\", \"Venables\", \"Tierney\",\n",
       "             \"Ripley\", \"Ripley\", \"McNeil\", \"R Core\")),\n",
       "    title = c(\"Exploratory Data Analysis\",\n",
       "              \"Modern Applied Statistics ...\",\n",
       "              \"LISP-STAT\",\n",
       "              \"Spatial Statistics\", \"Stochastic Simulation\",\n",
       "              \"Interactive Data Analysis\",\n",
       "              \"An Introduction to R\"),\n",
       "    other.author = c(NA, \"Ripley\", NA, NA, NA, NA,\n",
       "                     \"Venables &amp; Smith\"))\n",
       "\n",
       "(m0 &lt;- merge(authorN, books))\n",
       "(m1 &lt;- merge(authors, books, by.x = \"surname\", by.y = \"name\"))\n",
       " m2 &lt;- merge(books, authors, by.x = \"name\", by.y = \"surname\")\n",
       "stopifnot(exprs = {\n",
       "   identical(m0, m2[, names(m0)])\n",
       "   as.character(m1[, 1]) == as.character(m2[, 1])\n",
       "   all.equal(m1[, -1], m2[, -1][ names(m1)[-1] ])\n",
       "   identical(dim(merge(m1, m2, by = NULL)),\n",
       "             c(nrow(m1)*nrow(m2), ncol(m1)+ncol(m2)))\n",
       "})\n",
       "\n",
       "## \"R core\" is missing from authors and appears only here :\n",
       "merge(authors, books, by.x = \"surname\", by.y = \"name\", all = TRUE)\n",
       "\n",
       "\n",
       "## example of using 'incomparables'\n",
       "x &lt;- data.frame(k1 = c(NA,NA,3,4,5), k2 = c(1,NA,NA,4,5), data = 1:5)\n",
       "y &lt;- data.frame(k1 = c(NA,2,NA,4,5), k2 = c(NA,NA,3,4,5), data = 1:5)\n",
       "merge(x, y, by = c(\"k1\",\"k2\")) # NA's match\n",
       "merge(x, y, by = \"k1\") # NA's match, so 6 rows\n",
       "merge(x, y, by = \"k2\", incomparables = NA) # 2 rows\n",
       "</code></pre>\n",
       "\n",
       "<hr /><div style=\"text-align: center;\">[Package <em>base</em> version 4.2.1 ]</div>\n",
       "</div>"
      ],
      "text/latex": [
       "\\inputencoding{utf8}\n",
       "\\HeaderA{merge}{Merge Two Data Frames}{merge}\n",
       "\\methaliasA{merge.data.frame}{merge}{merge.data.frame}\n",
       "\\methaliasA{merge.default}{merge}{merge.default}\n",
       "\\keyword{join}{merge}\n",
       "\\keyword{array}{merge}\n",
       "\\keyword{manip}{merge}\n",
       "%\n",
       "\\begin{Description}\\relax\n",
       "Merge two data frames by common columns or row names, or do other\n",
       "versions of database \\emph{join} operations.\n",
       "\\end{Description}\n",
       "%\n",
       "\\begin{Usage}\n",
       "\\begin{verbatim}\n",
       "merge(x, y, ...)\n",
       "\n",
       "## Default S3 method:\n",
       "merge(x, y, ...)\n",
       "\n",
       "## S3 method for class 'data.frame'\n",
       "merge(x, y, by = intersect(names(x), names(y)),\n",
       "      by.x = by, by.y = by, all = FALSE, all.x = all, all.y = all,\n",
       "      sort = TRUE, suffixes = c(\".x\",\".y\"), no.dups = TRUE,\n",
       "      incomparables = NULL, ...)\n",
       "\\end{verbatim}\n",
       "\\end{Usage}\n",
       "%\n",
       "\\begin{Arguments}\n",
       "\\begin{ldescription}\n",
       "\\item[\\code{x, y}] data frames, or objects to be coerced to one.\n",
       "\\item[\\code{by, by.x, by.y}] specifications of the columns used for merging.\n",
       "See `Details'.\n",
       "\\item[\\code{all}] logical; \\code{all = L} is shorthand for \\code{all.x = L} and\n",
       "\\code{all.y = L}, where \\code{L} is either \\code{\\LinkA{TRUE}{TRUE}} or\n",
       "\\code{FALSE}.\n",
       "\\item[\\code{all.x}] logical; if \\code{TRUE}, then extra rows will be added to\n",
       "the output, one for each row in \\code{x} that has no matching row in\n",
       "\\code{y}.  These rows will have \\code{NA}s in those columns that are\n",
       "usually filled with values from \\code{y}.  The default is\n",
       "\\code{FALSE}, so that only rows with data from both \\code{x} and\n",
       "\\code{y} are included in the output.\n",
       "\\item[\\code{all.y}] logical; analogous to \\code{all.x}.\n",
       "\\item[\\code{sort}] logical.  Should the result be sorted on the \\code{by}\n",
       "columns?\n",
       "\\item[\\code{suffixes}] a character vector of length 2 specifying the suffixes\n",
       "to be used for making unique the names of columns in the result\n",
       "which are not used for merging (appearing in \\code{by} etc).\n",
       "\\item[\\code{no.dups}] logical indicating that \\code{suffixes} are appended in\n",
       "more cases to avoid duplicated column names in the result.  This\n",
       "was implicitly false before \\R{} version 3.5.0.\n",
       "\\item[\\code{incomparables}] values which cannot be matched.  See\n",
       "\\code{\\LinkA{match}{match}}.  This is intended to be used for merging on one\n",
       "column, so these are incomparable values of that column.\n",
       "\\item[\\code{...}] arguments to be passed to or from methods.\n",
       "\\end{ldescription}\n",
       "\\end{Arguments}\n",
       "%\n",
       "\\begin{Details}\\relax\n",
       "\\code{merge} is a generic function whose principal method is for data\n",
       "frames: the default method coerces its arguments to data frames and\n",
       "calls the \\code{\"data.frame\"} method.\n",
       "\n",
       "By default the data frames are merged on the columns with names they\n",
       "both have, but separate specifications of the columns can be given by\n",
       "\\code{by.x} and \\code{by.y}.  The rows in the two data frames that\n",
       "match on the specified columns are extracted, and joined together.  If\n",
       "there is more than one match, all possible matches contribute one row\n",
       "each.  For the precise meaning of `match', see\n",
       "\\code{\\LinkA{match}{match}}.\n",
       "\n",
       "Columns to merge on can be specified by name, number or by a logical\n",
       "vector: the name \\code{\"row.names\"} or the number \\code{0} specifies\n",
       "the row names.  If specified by name it must correspond uniquely to a\n",
       "named column in the input.\n",
       "\n",
       "If \\code{by} or both \\code{by.x} and \\code{by.y} are of length 0 (a\n",
       "length zero vector or \\code{NULL}), the result, \\code{r}, is the\n",
       "\\emph{Cartesian product} of \\code{x} and \\code{y}, i.e.,\n",
       "\\code{dim(r) = c(nrow(x)*nrow(y), ncol(x) + ncol(y))}.\n",
       "\n",
       "If \\code{all.x} is true, all the non matching cases of \\code{x} are\n",
       "appended to the result as well, with \\code{NA} filled in the\n",
       "corresponding columns of \\code{y};  analogously for \\code{all.y}.\n",
       "\n",
       "If the columns in the data frames not used in merging have any common\n",
       "names, these have \\code{suffixes} (\\code{\".x\"} and \\code{\".y\"} by\n",
       "default) appended to try to make the names of the result unique.  If\n",
       "this is not possible, an error is thrown.\n",
       "\n",
       "If a \\code{by.x} column name matches one of \\code{y}, and if\n",
       "\\code{no.dups} is true (as by default), the y version gets suffixed as\n",
       "well, avoiding duplicate column names in the result.\n",
       "\n",
       "The complexity of the algorithm used is proportional to the length of\n",
       "the answer.\n",
       "\n",
       "\n",
       "In SQL database terminology, the default value of \\code{all = FALSE}\n",
       "gives a \\emph{natural join}, a special case of an \\emph{inner\n",
       "join}. Specifying \\code{all.x = TRUE} gives a \\emph{left (outer)\n",
       "join}, \\code{all.y = TRUE} a \\emph{right (outer) join}, and both\n",
       "(\\code{all = TRUE}) a \\emph{(full) outer join}.  DBMSes do not match\n",
       "\\code{NULL} records, equivalent to \\code{incomparables = NA} in \\R{}.\n",
       "\\end{Details}\n",
       "%\n",
       "\\begin{Value}\n",
       "A data frame.  The rows are by default lexicographically sorted on the\n",
       "common columns, but for \\code{sort = FALSE} are in an unspecified order.\n",
       "The columns are the common columns followed by the\n",
       "remaining columns in \\code{x} and then those in \\code{y}.  If the\n",
       "matching involved row names, an extra character column called\n",
       "\\code{Row.names} is added at the left, and in all cases the result has\n",
       "`automatic' row names.\n",
       "\\end{Value}\n",
       "%\n",
       "\\begin{Note}\\relax\n",
       "This is intended to work with data frames with vector-like columns:\n",
       "some aspects work with data frames containing matrices, but not all.\n",
       "\n",
       "Currently long vectors are not accepted for inputs, which are thus\n",
       "restricted to less than 2\\textasciicircum{}31 rows. That restriction also applies to\n",
       "the result for 32-bit platforms.\n",
       "\\end{Note}\n",
       "%\n",
       "\\begin{SeeAlso}\\relax\n",
       "\\code{\\LinkA{data.frame}{data.frame}},\n",
       "\\code{\\LinkA{by}{by}},\n",
       "\\code{\\LinkA{cbind}{cbind}}.\n",
       "\n",
       "\\code{\\LinkA{dendrogram}{dendrogram}} for a class which has a \\code{merge} method.\n",
       "\\end{SeeAlso}\n",
       "%\n",
       "\\begin{Examples}\n",
       "\\begin{ExampleCode}\n",
       "authors <- data.frame(\n",
       "    ## I(*) : use character columns of names to get sensible sort order\n",
       "    surname = I(c(\"Tukey\", \"Venables\", \"Tierney\", \"Ripley\", \"McNeil\")),\n",
       "    nationality = c(\"US\", \"Australia\", \"US\", \"UK\", \"Australia\"),\n",
       "    deceased = c(\"yes\", rep(\"no\", 4)))\n",
       "authorN <- within(authors, { name <- surname; rm(surname) })\n",
       "books <- data.frame(\n",
       "    name = I(c(\"Tukey\", \"Venables\", \"Tierney\",\n",
       "             \"Ripley\", \"Ripley\", \"McNeil\", \"R Core\")),\n",
       "    title = c(\"Exploratory Data Analysis\",\n",
       "              \"Modern Applied Statistics ...\",\n",
       "              \"LISP-STAT\",\n",
       "              \"Spatial Statistics\", \"Stochastic Simulation\",\n",
       "              \"Interactive Data Analysis\",\n",
       "              \"An Introduction to R\"),\n",
       "    other.author = c(NA, \"Ripley\", NA, NA, NA, NA,\n",
       "                     \"Venables & Smith\"))\n",
       "\n",
       "(m0 <- merge(authorN, books))\n",
       "(m1 <- merge(authors, books, by.x = \"surname\", by.y = \"name\"))\n",
       " m2 <- merge(books, authors, by.x = \"name\", by.y = \"surname\")\n",
       "stopifnot(exprs = {\n",
       "   identical(m0, m2[, names(m0)])\n",
       "   as.character(m1[, 1]) == as.character(m2[, 1])\n",
       "   all.equal(m1[, -1], m2[, -1][ names(m1)[-1] ])\n",
       "   identical(dim(merge(m1, m2, by = NULL)),\n",
       "             c(nrow(m1)*nrow(m2), ncol(m1)+ncol(m2)))\n",
       "})\n",
       "\n",
       "## \"R core\" is missing from authors and appears only here :\n",
       "merge(authors, books, by.x = \"surname\", by.y = \"name\", all = TRUE)\n",
       "\n",
       "\n",
       "## example of using 'incomparables'\n",
       "x <- data.frame(k1 = c(NA,NA,3,4,5), k2 = c(1,NA,NA,4,5), data = 1:5)\n",
       "y <- data.frame(k1 = c(NA,2,NA,4,5), k2 = c(NA,NA,3,4,5), data = 1:5)\n",
       "merge(x, y, by = c(\"k1\",\"k2\")) # NA's match\n",
       "merge(x, y, by = \"k1\") # NA's match, so 6 rows\n",
       "merge(x, y, by = \"k2\", incomparables = NA) # 2 rows\n",
       "\\end{ExampleCode}\n",
       "\\end{Examples}"
      ],
      "text/plain": [
       "merge                   package:base                   R Documentation\n",
       "\n",
       "_\bM_\be_\br_\bg_\be _\bT_\bw_\bo _\bD_\ba_\bt_\ba _\bF_\br_\ba_\bm_\be_\bs\n",
       "\n",
       "_\bD_\be_\bs_\bc_\br_\bi_\bp_\bt_\bi_\bo_\bn:\n",
       "\n",
       "     Merge two data frames by common columns or row names, or do other\n",
       "     versions of database _join_ operations.\n",
       "\n",
       "_\bU_\bs_\ba_\bg_\be:\n",
       "\n",
       "     merge(x, y, ...)\n",
       "     \n",
       "     ## Default S3 method:\n",
       "     merge(x, y, ...)\n",
       "     \n",
       "     ## S3 method for class 'data.frame'\n",
       "     merge(x, y, by = intersect(names(x), names(y)),\n",
       "           by.x = by, by.y = by, all = FALSE, all.x = all, all.y = all,\n",
       "           sort = TRUE, suffixes = c(\".x\",\".y\"), no.dups = TRUE,\n",
       "           incomparables = NULL, ...)\n",
       "     \n",
       "_\bA_\br_\bg_\bu_\bm_\be_\bn_\bt_\bs:\n",
       "\n",
       "    x, y: data frames, or objects to be coerced to one.\n",
       "\n",
       "by, by.x, by.y: specifications of the columns used for merging.  See\n",
       "          ‘Details’.\n",
       "\n",
       "     all: logical; ‘all = L’ is shorthand for ‘all.x = L’ and ‘all.y =\n",
       "          L’, where ‘L’ is either ‘TRUE’ or ‘FALSE’.\n",
       "\n",
       "   all.x: logical; if ‘TRUE’, then extra rows will be added to the\n",
       "          output, one for each row in ‘x’ that has no matching row in\n",
       "          ‘y’.  These rows will have ‘NA’s in those columns that are\n",
       "          usually filled with values from ‘y’.  The default is ‘FALSE’,\n",
       "          so that only rows with data from both ‘x’ and ‘y’ are\n",
       "          included in the output.\n",
       "\n",
       "   all.y: logical; analogous to ‘all.x’.\n",
       "\n",
       "    sort: logical.  Should the result be sorted on the ‘by’ columns?\n",
       "\n",
       "suffixes: a character vector of length 2 specifying the suffixes to be\n",
       "          used for making unique the names of columns in the result\n",
       "          which are not used for merging (appearing in ‘by’ etc).\n",
       "\n",
       " no.dups: logical indicating that ‘suffixes’ are appended in more cases\n",
       "          to avoid duplicated column names in the result.  This was\n",
       "          implicitly false before R version 3.5.0.\n",
       "\n",
       "incomparables: values which cannot be matched.  See ‘match’.  This is\n",
       "          intended to be used for merging on one column, so these are\n",
       "          incomparable values of that column.\n",
       "\n",
       "     ...: arguments to be passed to or from methods.\n",
       "\n",
       "_\bD_\be_\bt_\ba_\bi_\bl_\bs:\n",
       "\n",
       "     ‘merge’ is a generic function whose principal method is for data\n",
       "     frames: the default method coerces its arguments to data frames\n",
       "     and calls the ‘\"data.frame\"’ method.\n",
       "\n",
       "     By default the data frames are merged on the columns with names\n",
       "     they both have, but separate specifications of the columns can be\n",
       "     given by ‘by.x’ and ‘by.y’.  The rows in the two data frames that\n",
       "     match on the specified columns are extracted, and joined together.\n",
       "     If there is more than one match, all possible matches contribute\n",
       "     one row each.  For the precise meaning of ‘match’, see ‘match’.\n",
       "\n",
       "     Columns to merge on can be specified by name, number or by a\n",
       "     logical vector: the name ‘\"row.names\"’ or the number ‘0’ specifies\n",
       "     the row names.  If specified by name it must correspond uniquely\n",
       "     to a named column in the input.\n",
       "\n",
       "     If ‘by’ or both ‘by.x’ and ‘by.y’ are of length 0 (a length zero\n",
       "     vector or ‘NULL’), the result, ‘r’, is the _Cartesian product_ of\n",
       "     ‘x’ and ‘y’, i.e., ‘dim(r) = c(nrow(x)*nrow(y), ncol(x) +\n",
       "     ncol(y))’.\n",
       "\n",
       "     If ‘all.x’ is true, all the non matching cases of ‘x’ are appended\n",
       "     to the result as well, with ‘NA’ filled in the corresponding\n",
       "     columns of ‘y’; analogously for ‘all.y’.\n",
       "\n",
       "     If the columns in the data frames not used in merging have any\n",
       "     common names, these have ‘suffixes’ (‘\".x\"’ and ‘\".y\"’ by default)\n",
       "     appended to try to make the names of the result unique.  If this\n",
       "     is not possible, an error is thrown.\n",
       "\n",
       "     If a ‘by.x’ column name matches one of ‘y’, and if ‘no.dups’ is\n",
       "     true (as by default), the y version gets suffixed as well,\n",
       "     avoiding duplicate column names in the result.\n",
       "\n",
       "     The complexity of the algorithm used is proportional to the length\n",
       "     of the answer.\n",
       "\n",
       "     In SQL database terminology, the default value of ‘all = FALSE’\n",
       "     gives a _natural join_, a special case of an _inner join_.\n",
       "     Specifying ‘all.x = TRUE’ gives a _left (outer) join_, ‘all.y =\n",
       "     TRUE’ a _right (outer) join_, and both (‘all = TRUE’) a _(full)\n",
       "     outer join_.  DBMSes do not match ‘NULL’ records, equivalent to\n",
       "     ‘incomparables = NA’ in R.\n",
       "\n",
       "_\bV_\ba_\bl_\bu_\be:\n",
       "\n",
       "     A data frame.  The rows are by default lexicographically sorted on\n",
       "     the common columns, but for ‘sort = FALSE’ are in an unspecified\n",
       "     order.  The columns are the common columns followed by the\n",
       "     remaining columns in ‘x’ and then those in ‘y’.  If the matching\n",
       "     involved row names, an extra character column called ‘Row.names’\n",
       "     is added at the left, and in all cases the result has ‘automatic’\n",
       "     row names.\n",
       "\n",
       "_\bN_\bo_\bt_\be:\n",
       "\n",
       "     This is intended to work with data frames with vector-like\n",
       "     columns: some aspects work with data frames containing matrices,\n",
       "     but not all.\n",
       "\n",
       "     Currently long vectors are not accepted for inputs, which are thus\n",
       "     restricted to less than 2^31 rows. That restriction also applies\n",
       "     to the result for 32-bit platforms.\n",
       "\n",
       "_\bS_\be_\be _\bA_\bl_\bs_\bo:\n",
       "\n",
       "     ‘data.frame’, ‘by’, ‘cbind’.\n",
       "\n",
       "     ‘dendrogram’ for a class which has a ‘merge’ method.\n",
       "\n",
       "_\bE_\bx_\ba_\bm_\bp_\bl_\be_\bs:\n",
       "\n",
       "     authors <- data.frame(\n",
       "         ## I(*) : use character columns of names to get sensible sort order\n",
       "         surname = I(c(\"Tukey\", \"Venables\", \"Tierney\", \"Ripley\", \"McNeil\")),\n",
       "         nationality = c(\"US\", \"Australia\", \"US\", \"UK\", \"Australia\"),\n",
       "         deceased = c(\"yes\", rep(\"no\", 4)))\n",
       "     authorN <- within(authors, { name <- surname; rm(surname) })\n",
       "     books <- data.frame(\n",
       "         name = I(c(\"Tukey\", \"Venables\", \"Tierney\",\n",
       "                  \"Ripley\", \"Ripley\", \"McNeil\", \"R Core\")),\n",
       "         title = c(\"Exploratory Data Analysis\",\n",
       "                   \"Modern Applied Statistics ...\",\n",
       "                   \"LISP-STAT\",\n",
       "                   \"Spatial Statistics\", \"Stochastic Simulation\",\n",
       "                   \"Interactive Data Analysis\",\n",
       "                   \"An Introduction to R\"),\n",
       "         other.author = c(NA, \"Ripley\", NA, NA, NA, NA,\n",
       "                          \"Venables & Smith\"))\n",
       "     \n",
       "     (m0 <- merge(authorN, books))\n",
       "     (m1 <- merge(authors, books, by.x = \"surname\", by.y = \"name\"))\n",
       "      m2 <- merge(books, authors, by.x = \"name\", by.y = \"surname\")\n",
       "     stopifnot(exprs = {\n",
       "        identical(m0, m2[, names(m0)])\n",
       "        as.character(m1[, 1]) == as.character(m2[, 1])\n",
       "        all.equal(m1[, -1], m2[, -1][ names(m1)[-1] ])\n",
       "        identical(dim(merge(m1, m2, by = NULL)),\n",
       "                  c(nrow(m1)*nrow(m2), ncol(m1)+ncol(m2)))\n",
       "     })\n",
       "     \n",
       "     ## \"R core\" is missing from authors and appears only here :\n",
       "     merge(authors, books, by.x = \"surname\", by.y = \"name\", all = TRUE)\n",
       "     \n",
       "     \n",
       "     ## example of using 'incomparables'\n",
       "     x <- data.frame(k1 = c(NA,NA,3,4,5), k2 = c(1,NA,NA,4,5), data = 1:5)\n",
       "     y <- data.frame(k1 = c(NA,2,NA,4,5), k2 = c(NA,NA,3,4,5), data = 1:5)\n",
       "     merge(x, y, by = c(\"k1\",\"k2\")) # NA's match\n",
       "     merge(x, y, by = \"k1\") # NA's match, so 6 rows\n",
       "     merge(x, y, by = \"k2\", incomparables = NA) # 2 rows\n",
       "     "
      ]
     },
     "metadata": {},
     "output_type": "display_data"
    }
   ],
   "source": [
    "?merge"
   ]
  },
  {
   "cell_type": "code",
   "execution_count": 350,
   "id": "7eb8e815",
   "metadata": {
    "vscode": {
     "languageId": "r"
    }
   },
   "outputs": [
    {
     "data": {
      "text/html": [
       "<table class=\"dataframe\">\n",
       "<caption>A data.frame: 1 × 4</caption>\n",
       "<thead>\n",
       "\t<tr><th scope=col>country</th><th scope=col>year</th><th scope=col>valor1</th><th scope=col>valor2</th></tr>\n",
       "\t<tr><th scope=col>&lt;chr&gt;</th><th scope=col>&lt;dbl&gt;</th><th scope=col>&lt;dbl&gt;</th><th scope=col>&lt;dbl&gt;</th></tr>\n",
       "</thead>\n",
       "<tbody>\n",
       "\t<tr><td>Argentina</td><td>2000</td><td>100</td><td>91.65267</td></tr>\n",
       "</tbody>\n",
       "</table>\n"
      ],
      "text/latex": [
       "A data.frame: 1 × 4\n",
       "\\begin{tabular}{llll}\n",
       " country & year & valor1 & valor2\\\\\n",
       " <chr> & <dbl> & <dbl> & <dbl>\\\\\n",
       "\\hline\n",
       "\t Argentina & 2000 & 100 & 91.65267\\\\\n",
       "\\end{tabular}\n"
      ],
      "text/markdown": [
       "\n",
       "A data.frame: 1 × 4\n",
       "\n",
       "| country &lt;chr&gt; | year &lt;dbl&gt; | valor1 &lt;dbl&gt; | valor2 &lt;dbl&gt; |\n",
       "|---|---|---|---|\n",
       "| Argentina | 2000 | 100 | 91.65267 |\n",
       "\n"
      ],
      "text/plain": [
       "  country   year valor1 valor2  \n",
       "1 Argentina 2000 100    91.65267"
      ]
     },
     "metadata": {},
     "output_type": "display_data"
    }
   ],
   "source": [
    "merge(data1, data2, by = c(\"country\", \"year\")) # conserva sólo las observaciones coincidentes"
   ]
  },
  {
   "cell_type": "code",
   "execution_count": 351,
   "id": "c883aac5",
   "metadata": {
    "vscode": {
     "languageId": "r"
    }
   },
   "outputs": [
    {
     "data": {
      "text/html": [
       "<table class=\"dataframe\">\n",
       "<caption>A data.frame: 10 × 4</caption>\n",
       "<thead>\n",
       "\t<tr><th scope=col>country</th><th scope=col>year</th><th scope=col>valor1</th><th scope=col>valor2</th></tr>\n",
       "\t<tr><th scope=col>&lt;chr&gt;</th><th scope=col>&lt;dbl&gt;</th><th scope=col>&lt;dbl&gt;</th><th scope=col>&lt;dbl&gt;</th></tr>\n",
       "</thead>\n",
       "<tbody>\n",
       "\t<tr><td>Argentina</td><td>2000</td><td>100</td><td>91.65267</td></tr>\n",
       "\t<tr><td>Bolivia  </td><td>2024</td><td> 75</td><td>      NA</td></tr>\n",
       "\t<tr><td>Brasil   </td><td>2020</td><td>120</td><td>      NA</td></tr>\n",
       "\t<tr><td>Chile    </td><td>2021</td><td> 90</td><td>      NA</td></tr>\n",
       "\t<tr><td>Colombia </td><td>2021</td><td>110</td><td>      NA</td></tr>\n",
       "\t<tr><td>Ecuador  </td><td>2022</td><td> 80</td><td>      NA</td></tr>\n",
       "\t<tr><td>México   </td><td>2023</td><td>115</td><td>      NA</td></tr>\n",
       "\t<tr><td>Paraguay </td><td>2024</td><td>125</td><td>      NA</td></tr>\n",
       "\t<tr><td>Perú     </td><td>2022</td><td>105</td><td>      NA</td></tr>\n",
       "\t<tr><td>Uruguay  </td><td>2023</td><td> 95</td><td>      NA</td></tr>\n",
       "</tbody>\n",
       "</table>\n"
      ],
      "text/latex": [
       "A data.frame: 10 × 4\n",
       "\\begin{tabular}{llll}\n",
       " country & year & valor1 & valor2\\\\\n",
       " <chr> & <dbl> & <dbl> & <dbl>\\\\\n",
       "\\hline\n",
       "\t Argentina & 2000 & 100 & 91.65267\\\\\n",
       "\t Bolivia   & 2024 &  75 &       NA\\\\\n",
       "\t Brasil    & 2020 & 120 &       NA\\\\\n",
       "\t Chile     & 2021 &  90 &       NA\\\\\n",
       "\t Colombia  & 2021 & 110 &       NA\\\\\n",
       "\t Ecuador   & 2022 &  80 &       NA\\\\\n",
       "\t México    & 2023 & 115 &       NA\\\\\n",
       "\t Paraguay  & 2024 & 125 &       NA\\\\\n",
       "\t Perú      & 2022 & 105 &       NA\\\\\n",
       "\t Uruguay   & 2023 &  95 &       NA\\\\\n",
       "\\end{tabular}\n"
      ],
      "text/markdown": [
       "\n",
       "A data.frame: 10 × 4\n",
       "\n",
       "| country &lt;chr&gt; | year &lt;dbl&gt; | valor1 &lt;dbl&gt; | valor2 &lt;dbl&gt; |\n",
       "|---|---|---|---|\n",
       "| Argentina | 2000 | 100 | 91.65267 |\n",
       "| Bolivia   | 2024 |  75 |       NA |\n",
       "| Brasil    | 2020 | 120 |       NA |\n",
       "| Chile     | 2021 |  90 |       NA |\n",
       "| Colombia  | 2021 | 110 |       NA |\n",
       "| Ecuador   | 2022 |  80 |       NA |\n",
       "| México    | 2023 | 115 |       NA |\n",
       "| Paraguay  | 2024 | 125 |       NA |\n",
       "| Perú      | 2022 | 105 |       NA |\n",
       "| Uruguay   | 2023 |  95 |       NA |\n",
       "\n"
      ],
      "text/plain": [
       "   country   year valor1 valor2  \n",
       "1  Argentina 2000 100    91.65267\n",
       "2  Bolivia   2024  75          NA\n",
       "3  Brasil    2020 120          NA\n",
       "4  Chile     2021  90          NA\n",
       "5  Colombia  2021 110          NA\n",
       "6  Ecuador   2022  80          NA\n",
       "7  México    2023 115          NA\n",
       "8  Paraguay  2024 125          NA\n",
       "9  Perú      2022 105          NA\n",
       "10 Uruguay   2023  95          NA"
      ]
     },
     "metadata": {},
     "output_type": "display_data"
    }
   ],
   "source": [
    "merge(data1, data2, by = c(\"country\", \"year\"), all.x = TRUE)"
   ]
  },
  {
   "cell_type": "code",
   "execution_count": 352,
   "id": "b3a4278e",
   "metadata": {
    "vscode": {
     "languageId": "r"
    }
   },
   "outputs": [
    {
     "data": {
      "text/html": [
       "<table class=\"dataframe\">\n",
       "<caption>A data.frame: 15 × 4</caption>\n",
       "<thead>\n",
       "\t<tr><th scope=col>country</th><th scope=col>year</th><th scope=col>valor1</th><th scope=col>valor2</th></tr>\n",
       "\t<tr><th scope=col>&lt;chr&gt;</th><th scope=col>&lt;dbl&gt;</th><th scope=col>&lt;dbl&gt;</th><th scope=col>&lt;dbl&gt;</th></tr>\n",
       "</thead>\n",
       "<tbody>\n",
       "\t<tr><td>Argentina</td><td>2000</td><td>100</td><td>91.65267</td></tr>\n",
       "\t<tr><td>Argentina</td><td>2001</td><td> NA</td><td>54.66596</td></tr>\n",
       "\t<tr><td>Argentina</td><td>2003</td><td> NA</td><td>40.31804</td></tr>\n",
       "\t<tr><td>Argentina</td><td>2004</td><td> NA</td><td>16.13584</td></tr>\n",
       "\t<tr><td>Argentina</td><td>2006</td><td> NA</td><td>66.56945</td></tr>\n",
       "\t<tr><td>Brasil   </td><td>2000</td><td> NA</td><td>62.21677</td></tr>\n",
       "\t<tr><td>Brasil   </td><td>2002</td><td> NA</td><td> 6.78937</td></tr>\n",
       "\t<tr><td>Brasil   </td><td>2003</td><td> NA</td><td>20.57673</td></tr>\n",
       "\t<tr><td>Brasil   </td><td>2005</td><td> NA</td><td>80.53844</td></tr>\n",
       "\t<tr><td>Brasil   </td><td>2006</td><td> NA</td><td>17.99815</td></tr>\n",
       "\t<tr><td>Chile    </td><td>2001</td><td> NA</td><td>43.41373</td></tr>\n",
       "\t<tr><td>Chile    </td><td>2002</td><td> NA</td><td>26.82483</td></tr>\n",
       "\t<tr><td>Chile    </td><td>2004</td><td> NA</td><td>83.36083</td></tr>\n",
       "\t<tr><td>Chile    </td><td>2005</td><td> NA</td><td>55.13579</td></tr>\n",
       "\t<tr><td>Chile    </td><td>2020</td><td> NA</td><td>63.67248</td></tr>\n",
       "</tbody>\n",
       "</table>\n"
      ],
      "text/latex": [
       "A data.frame: 15 × 4\n",
       "\\begin{tabular}{llll}\n",
       " country & year & valor1 & valor2\\\\\n",
       " <chr> & <dbl> & <dbl> & <dbl>\\\\\n",
       "\\hline\n",
       "\t Argentina & 2000 & 100 & 91.65267\\\\\n",
       "\t Argentina & 2001 &  NA & 54.66596\\\\\n",
       "\t Argentina & 2003 &  NA & 40.31804\\\\\n",
       "\t Argentina & 2004 &  NA & 16.13584\\\\\n",
       "\t Argentina & 2006 &  NA & 66.56945\\\\\n",
       "\t Brasil    & 2000 &  NA & 62.21677\\\\\n",
       "\t Brasil    & 2002 &  NA &  6.78937\\\\\n",
       "\t Brasil    & 2003 &  NA & 20.57673\\\\\n",
       "\t Brasil    & 2005 &  NA & 80.53844\\\\\n",
       "\t Brasil    & 2006 &  NA & 17.99815\\\\\n",
       "\t Chile     & 2001 &  NA & 43.41373\\\\\n",
       "\t Chile     & 2002 &  NA & 26.82483\\\\\n",
       "\t Chile     & 2004 &  NA & 83.36083\\\\\n",
       "\t Chile     & 2005 &  NA & 55.13579\\\\\n",
       "\t Chile     & 2020 &  NA & 63.67248\\\\\n",
       "\\end{tabular}\n"
      ],
      "text/markdown": [
       "\n",
       "A data.frame: 15 × 4\n",
       "\n",
       "| country &lt;chr&gt; | year &lt;dbl&gt; | valor1 &lt;dbl&gt; | valor2 &lt;dbl&gt; |\n",
       "|---|---|---|---|\n",
       "| Argentina | 2000 | 100 | 91.65267 |\n",
       "| Argentina | 2001 |  NA | 54.66596 |\n",
       "| Argentina | 2003 |  NA | 40.31804 |\n",
       "| Argentina | 2004 |  NA | 16.13584 |\n",
       "| Argentina | 2006 |  NA | 66.56945 |\n",
       "| Brasil    | 2000 |  NA | 62.21677 |\n",
       "| Brasil    | 2002 |  NA |  6.78937 |\n",
       "| Brasil    | 2003 |  NA | 20.57673 |\n",
       "| Brasil    | 2005 |  NA | 80.53844 |\n",
       "| Brasil    | 2006 |  NA | 17.99815 |\n",
       "| Chile     | 2001 |  NA | 43.41373 |\n",
       "| Chile     | 2002 |  NA | 26.82483 |\n",
       "| Chile     | 2004 |  NA | 83.36083 |\n",
       "| Chile     | 2005 |  NA | 55.13579 |\n",
       "| Chile     | 2020 |  NA | 63.67248 |\n",
       "\n"
      ],
      "text/plain": [
       "   country   year valor1 valor2  \n",
       "1  Argentina 2000 100    91.65267\n",
       "2  Argentina 2001  NA    54.66596\n",
       "3  Argentina 2003  NA    40.31804\n",
       "4  Argentina 2004  NA    16.13584\n",
       "5  Argentina 2006  NA    66.56945\n",
       "6  Brasil    2000  NA    62.21677\n",
       "7  Brasil    2002  NA     6.78937\n",
       "8  Brasil    2003  NA    20.57673\n",
       "9  Brasil    2005  NA    80.53844\n",
       "10 Brasil    2006  NA    17.99815\n",
       "11 Chile     2001  NA    43.41373\n",
       "12 Chile     2002  NA    26.82483\n",
       "13 Chile     2004  NA    83.36083\n",
       "14 Chile     2005  NA    55.13579\n",
       "15 Chile     2020  NA    63.67248"
      ]
     },
     "metadata": {},
     "output_type": "display_data"
    }
   ],
   "source": [
    "merge(data1, data2, by = c(\"country\", \"year\"), all.y = TRUE)"
   ]
  },
  {
   "cell_type": "code",
   "execution_count": 337,
   "id": "bc84eaf8",
   "metadata": {
    "vscode": {
     "languageId": "r"
    }
   },
   "outputs": [
    {
     "data": {
      "text/html": [
       "<table class=\"dataframe\">\n",
       "<caption>A data.frame: 24 × 4</caption>\n",
       "<thead>\n",
       "\t<tr><th scope=col>country</th><th scope=col>year</th><th scope=col>valor1</th><th scope=col>valor2</th></tr>\n",
       "\t<tr><th scope=col>&lt;chr&gt;</th><th scope=col>&lt;dbl&gt;</th><th scope=col>&lt;dbl&gt;</th><th scope=col>&lt;dbl&gt;</th></tr>\n",
       "</thead>\n",
       "<tbody>\n",
       "\t<tr><td>Argentina</td><td>2000</td><td>100</td><td>91.65267</td></tr>\n",
       "\t<tr><td>Argentina</td><td>2001</td><td> NA</td><td>54.66596</td></tr>\n",
       "\t<tr><td>Argentina</td><td>2003</td><td> NA</td><td>40.31804</td></tr>\n",
       "\t<tr><td>Argentina</td><td>2004</td><td> NA</td><td>16.13584</td></tr>\n",
       "\t<tr><td>Argentina</td><td>2006</td><td> NA</td><td>66.56945</td></tr>\n",
       "\t<tr><td>Bolivia  </td><td>2024</td><td> 75</td><td>      NA</td></tr>\n",
       "\t<tr><td>Brasil   </td><td>2000</td><td> NA</td><td>62.21677</td></tr>\n",
       "\t<tr><td>Brasil   </td><td>2002</td><td> NA</td><td> 6.78937</td></tr>\n",
       "\t<tr><td>Brasil   </td><td>2003</td><td> NA</td><td>20.57673</td></tr>\n",
       "\t<tr><td>Brasil   </td><td>2005</td><td> NA</td><td>80.53844</td></tr>\n",
       "\t<tr><td>Brasil   </td><td>2006</td><td> NA</td><td>17.99815</td></tr>\n",
       "\t<tr><td>Brasil   </td><td>2020</td><td>120</td><td>      NA</td></tr>\n",
       "\t<tr><td>Chile    </td><td>2001</td><td> NA</td><td>43.41373</td></tr>\n",
       "\t<tr><td>Chile    </td><td>2002</td><td> NA</td><td>26.82483</td></tr>\n",
       "\t<tr><td>Chile    </td><td>2004</td><td> NA</td><td>83.36083</td></tr>\n",
       "\t<tr><td>Chile    </td><td>2005</td><td> NA</td><td>55.13579</td></tr>\n",
       "\t<tr><td>Chile    </td><td>2020</td><td> NA</td><td>63.67248</td></tr>\n",
       "\t<tr><td>Chile    </td><td>2021</td><td> 90</td><td>      NA</td></tr>\n",
       "\t<tr><td>Colombia </td><td>2021</td><td>110</td><td>      NA</td></tr>\n",
       "\t<tr><td>Ecuador  </td><td>2022</td><td> 80</td><td>      NA</td></tr>\n",
       "\t<tr><td>México   </td><td>2023</td><td>115</td><td>      NA</td></tr>\n",
       "\t<tr><td>Paraguay </td><td>2024</td><td>125</td><td>      NA</td></tr>\n",
       "\t<tr><td>Perú     </td><td>2022</td><td>105</td><td>      NA</td></tr>\n",
       "\t<tr><td>Uruguay  </td><td>2023</td><td> 95</td><td>      NA</td></tr>\n",
       "</tbody>\n",
       "</table>\n"
      ],
      "text/latex": [
       "A data.frame: 24 × 4\n",
       "\\begin{tabular}{llll}\n",
       " country & year & valor1 & valor2\\\\\n",
       " <chr> & <dbl> & <dbl> & <dbl>\\\\\n",
       "\\hline\n",
       "\t Argentina & 2000 & 100 & 91.65267\\\\\n",
       "\t Argentina & 2001 &  NA & 54.66596\\\\\n",
       "\t Argentina & 2003 &  NA & 40.31804\\\\\n",
       "\t Argentina & 2004 &  NA & 16.13584\\\\\n",
       "\t Argentina & 2006 &  NA & 66.56945\\\\\n",
       "\t Bolivia   & 2024 &  75 &       NA\\\\\n",
       "\t Brasil    & 2000 &  NA & 62.21677\\\\\n",
       "\t Brasil    & 2002 &  NA &  6.78937\\\\\n",
       "\t Brasil    & 2003 &  NA & 20.57673\\\\\n",
       "\t Brasil    & 2005 &  NA & 80.53844\\\\\n",
       "\t Brasil    & 2006 &  NA & 17.99815\\\\\n",
       "\t Brasil    & 2020 & 120 &       NA\\\\\n",
       "\t Chile     & 2001 &  NA & 43.41373\\\\\n",
       "\t Chile     & 2002 &  NA & 26.82483\\\\\n",
       "\t Chile     & 2004 &  NA & 83.36083\\\\\n",
       "\t Chile     & 2005 &  NA & 55.13579\\\\\n",
       "\t Chile     & 2020 &  NA & 63.67248\\\\\n",
       "\t Chile     & 2021 &  90 &       NA\\\\\n",
       "\t Colombia  & 2021 & 110 &       NA\\\\\n",
       "\t Ecuador   & 2022 &  80 &       NA\\\\\n",
       "\t México    & 2023 & 115 &       NA\\\\\n",
       "\t Paraguay  & 2024 & 125 &       NA\\\\\n",
       "\t Perú      & 2022 & 105 &       NA\\\\\n",
       "\t Uruguay   & 2023 &  95 &       NA\\\\\n",
       "\\end{tabular}\n"
      ],
      "text/markdown": [
       "\n",
       "A data.frame: 24 × 4\n",
       "\n",
       "| country &lt;chr&gt; | year &lt;dbl&gt; | valor1 &lt;dbl&gt; | valor2 &lt;dbl&gt; |\n",
       "|---|---|---|---|\n",
       "| Argentina | 2000 | 100 | 91.65267 |\n",
       "| Argentina | 2001 |  NA | 54.66596 |\n",
       "| Argentina | 2003 |  NA | 40.31804 |\n",
       "| Argentina | 2004 |  NA | 16.13584 |\n",
       "| Argentina | 2006 |  NA | 66.56945 |\n",
       "| Bolivia   | 2024 |  75 |       NA |\n",
       "| Brasil    | 2000 |  NA | 62.21677 |\n",
       "| Brasil    | 2002 |  NA |  6.78937 |\n",
       "| Brasil    | 2003 |  NA | 20.57673 |\n",
       "| Brasil    | 2005 |  NA | 80.53844 |\n",
       "| Brasil    | 2006 |  NA | 17.99815 |\n",
       "| Brasil    | 2020 | 120 |       NA |\n",
       "| Chile     | 2001 |  NA | 43.41373 |\n",
       "| Chile     | 2002 |  NA | 26.82483 |\n",
       "| Chile     | 2004 |  NA | 83.36083 |\n",
       "| Chile     | 2005 |  NA | 55.13579 |\n",
       "| Chile     | 2020 |  NA | 63.67248 |\n",
       "| Chile     | 2021 |  90 |       NA |\n",
       "| Colombia  | 2021 | 110 |       NA |\n",
       "| Ecuador   | 2022 |  80 |       NA |\n",
       "| México    | 2023 | 115 |       NA |\n",
       "| Paraguay  | 2024 | 125 |       NA |\n",
       "| Perú      | 2022 | 105 |       NA |\n",
       "| Uruguay   | 2023 |  95 |       NA |\n",
       "\n"
      ],
      "text/plain": [
       "   country   year valor1 valor2  \n",
       "1  Argentina 2000 100    91.65267\n",
       "2  Argentina 2001  NA    54.66596\n",
       "3  Argentina 2003  NA    40.31804\n",
       "4  Argentina 2004  NA    16.13584\n",
       "5  Argentina 2006  NA    66.56945\n",
       "6  Bolivia   2024  75          NA\n",
       "7  Brasil    2000  NA    62.21677\n",
       "8  Brasil    2002  NA     6.78937\n",
       "9  Brasil    2003  NA    20.57673\n",
       "10 Brasil    2005  NA    80.53844\n",
       "11 Brasil    2006  NA    17.99815\n",
       "12 Brasil    2020 120          NA\n",
       "13 Chile     2001  NA    43.41373\n",
       "14 Chile     2002  NA    26.82483\n",
       "15 Chile     2004  NA    83.36083\n",
       "16 Chile     2005  NA    55.13579\n",
       "17 Chile     2020  NA    63.67248\n",
       "18 Chile     2021  90          NA\n",
       "19 Colombia  2021 110          NA\n",
       "20 Ecuador   2022  80          NA\n",
       "21 México    2023 115          NA\n",
       "22 Paraguay  2024 125          NA\n",
       "23 Perú      2022 105          NA\n",
       "24 Uruguay   2023  95          NA"
      ]
     },
     "metadata": {},
     "output_type": "display_data"
    }
   ],
   "source": [
    "merge(data1, data2, by = c(\"country\", \"year\"), all = TRUE)"
   ]
  },
  {
   "cell_type": "markdown",
   "id": "57f67e5c",
   "metadata": {},
   "source": [
    "### Ejercicios data frames\n",
    "1) Usando el dataset `mtcars`:\n",
    "    * Muestra las 5 primeras filas\n",
    "    * Presenta un resumen del datasest\n",
    "    * Haz una copia del dataset y:\n",
    "        * Convierte la variables \"cyl\", \"gear\" y \"carb\" en factores\n",
    "        * Convierte las variables \"vs\" y \"am\" en lógicas\n",
    "        * Muestra solo los coches con una potencia (\"hp\") mayor a 100\n",
    "        * Crea un nuevo data frame llamado coches_seleccionados que incluya solo las columnas \"mpg\", \"cyl\", \"hp\" y \"qsec\" del dataset\n",
    "        * Calcula el resumen estadístico (media, mediana, desviación estándar, etc.) de la columna \"mpg\" (millas por galón) para todos los coches en el dataset\n",
    "        * Idem para \"cyl\" (número de cilindros)\n",
    "        * Calcula la cantidad total de coches para cada valor único en la columna \"cyl\" (número de cilindros)\n",
    "        * Encuentra el modelo de coche con la mayor potencia (\"hp\") y muestra su información completa\n",
    "        * Calcula el promedio de potencia de los coches con 8 cilindros\n",
    "2) Usando el dataset `Cars93` del paquete `MASS` y el dataset `mtcars`:\n",
    "    * Agrega una columna al dataset de `mtcars` que contenga la marca y modelo de cada coche\n",
    "    * Combina los dos dataset por modelo y marca del coche solo para aquellos modelos presentes en ambos datasets. ¿Coinciden los demás valores?\n",
    "3) Supongamos que tienes dos dataframes con información sobre estudiantes de dos cursos diferentes. Cada data frame contiene tres columnas: \"Nombre\", \"Edad\" y \"Promedio\".\n",
    "<pre>\n",
    "curso_a <- data.frame(\n",
    "    Nombre = c(\"Juan\", \"María\", \"Carlos\"),\n",
    "    Edad = c(20, 22, 21),\n",
    "    Promedio = c(85, 92, 78))\n",
    "</pre><pre>\n",
    "curso_b <- data.frame(\n",
    "       Nombre = c(\"Ana\", \"Luis\", \"Sofía\", \"Lourdes\"),\n",
    "       Edad = c(19, 23, 20, 21),\n",
    "       Promedio = c(88, 90, 85, 80))\n",
    "</pre>\n",
    "* Combina los dos dataframes en uno solo llamado todos_los_estudiantes\n",
    "* Agrega una nueva columna llamada \"Curso\" al dataframe todos_los_estudiantes que indicar a qué curso pertenece cada estudiante (\"A\" o \"B\")"
   ]
  },
  {
   "cell_type": "code",
   "execution_count": null,
   "id": "52805d8c-c33a-430b-ac8e-eb6de3f55118",
   "metadata": {
    "vscode": {
     "languageId": "r"
    }
   },
   "outputs": [],
   "source": []
  }
 ],
 "metadata": {
  "kernelspec": {
   "display_name": "R",
   "language": "R",
   "name": "ir"
  },
  "language_info": {
   "codemirror_mode": "r",
   "file_extension": ".r",
   "mimetype": "text/x-r-source",
   "name": "R",
   "pygments_lexer": "r",
   "version": "4.4.1"
  }
 },
 "nbformat": 4,
 "nbformat_minor": 5
}
