{
 "cells": [
  {
   "cell_type": "markdown",
   "metadata": {},
   "source": [
    "# __Nombre__: Brian Sena Simons"
   ]
  },
  {
   "cell_type": "markdown",
   "metadata": {},
   "source": [
    "# Ejercicios matrices y arrays\n",
    "\n",
    "1) Dada la siguiente matrix:\n",
    "<pre>laberinto <- matrix(c(\n",
    "   \"O\", \"X\", \"O\", \"O\", \"O\",\n",
    "   \"O\", \"X\", \"X\", \"X\", \"O\",\n",
    "   \"O\", \"O\", \"O\", \"O\", \"X\",\n",
    "   \"X\", \"X\", \"X\", \"O\", \"X\",\n",
    "   \"O\", \"O\", \"O\", \"O\", \"O\"\n",
    " ), nrow = 5, byrow = TRUE)</pre>\n",
    "    * Indique donde están las \"X\" usando la función `which`\n",
    "    * Indique donde están las \"X\" usando la función `which` pero usando el parámetro `arr.ind`\n",
    "    * Indique cuantos valores \"X\" hay en la matriz\n",
    "    * Reemplace las \"X\" por 1 y los \"O\" por 0 y convierta la matrix en una matrix numérica\n",
    "    * Indique si la matrix es simétrica\n",
    "    * Cree una nueva matrix con los valores en las filas y columnas pares "
   ]
  },
  {
   "cell_type": "code",
   "execution_count": 2,
   "metadata": {
    "vscode": {
     "languageId": "r"
    }
   },
   "outputs": [
    {
     "name": "stdout",
     "output_type": "stream",
     "text": [
      "[1]  4  6  7  9 12 14 17 23 24\n",
      "      row col\n",
      " [1,]   4   1\n",
      " [2,]   1   2\n",
      " [3,]   2   2\n",
      " [4,]   4   2\n",
      " [5,]   2   3\n",
      " [6,]   4   3\n",
      " [7,]   2   4\n",
      " [8,]   3   5\n",
      " [9,]   4   5\n",
      "[1] \"Comprobamos los resultados que solo tenga X's:\"\n",
      "[1] \"X\" \"X\" \"X\" \"X\" \"X\" \"X\" \"X\" \"X\" \"X\"\n",
      "[1] \"Comprobamos que es la misma longitud mirando en la matriz que con which\"\n",
      "[1] TRUE\n",
      "[1] \"Número de X's:\" \"9\"             \n"
     ]
    }
   ],
   "source": [
    "laberinto <- matrix(\n",
    "  c(\n",
    "    \"O\", \"X\", \"O\", \"O\", \"O\",\n",
    "    \"O\", \"X\", \"X\", \"X\", \"O\",\n",
    "    \"O\", \"O\", \"O\", \"O\", \"X\",\n",
    "    \"X\", \"X\", \"X\", \"O\", \"X\",\n",
    "    \"O\", \"O\", \"O\", \"O\", \"O\"\n",
    "  ),\n",
    "  nrow = 5, byrow = TRUE\n",
    ")\n",
    "print(x <- which(laberinto == \"X\", arr.ind = FALSE))\n",
    "print(y <- which(laberinto == \"X\", arr.ind = TRUE))\n",
    "print(\"Comprobamos los resultados que solo tenga X's:\")\n",
    "print(laberinto[x])\n",
    "print(\"Comprobamos que es la misma longitud mirando en la matriz que con which\")\n",
    "print(length(laberinto[laberinto == \"X\"]) == length(laberinto[x]))\n",
    "print(c(\"Número de X's:\", length(laberinto[x])))"
   ]
  },
  {
   "cell_type": "code",
   "execution_count": 7,
   "metadata": {
    "vscode": {
     "languageId": "r"
    }
   },
   "outputs": [
    {
     "name": "stdout",
     "output_type": "stream",
     "text": [
      "[1] \"Intercambiamos los X y O por 1 y 0 respectivamente\"\n",
      "     [,1] [,2] [,3] [,4] [,5]\n",
      "[1,]    0    1    0    0    0\n",
      "[2,]    0    1    1    1    0\n",
      "[3,]    0    0    0    0    1\n",
      "[4,]    1    1    1    0    1\n",
      "[5,]    0    0    0    0    0\n",
      "[1] \"Verificamos si la matriz es simétrica.\"\n",
      "[1] FALSE\n",
      "[1] \"La matriz NO es simétrica ya que A^t != A\"\n"
     ]
    },
    {
     "name": "stdout",
     "output_type": "stream",
     "text": [
      "     [,1] [,2] [,3] [,4] [,5]\n",
      "[1,]    0    0    0    0    0\n",
      "[2,]    0    2    0    2    0\n",
      "[3,]    0    0    0    0    0\n",
      "[4,]    0    2    0    2    0\n",
      "[5,]    0    0    0    0    0\n"
     ]
    }
   ],
   "source": [
    "print(\"Intercambiamos los X y O por 1 y 0 respectivamente\")\n",
    "shape <- dim(laberinto)\n",
    "laberinto <- matrix(0, nrow = shape[1], ncol = shape[2])\n",
    "laberinto[x] <- 1\n",
    "print(laberinto)\n",
    "print(\"Verificamos si la matriz es simétrica.\")\n",
    "print(all(laberinto == t(laberinto)))\n",
    "print(\"La matriz NO es simétrica ya que A^t != A\")\n",
    "mpar <- matrix(0, nrow = shape[1], ncol = shape[2])\n",
    "pares <- seq(2, shape[2], by = 2)\n",
    "mpar[pares, pares] <- 2\n",
    "print(mpar)"
   ]
  },
  {
   "cell_type": "code",
   "execution_count": 101,
   "metadata": {
    "vscode": {
     "languageId": "r"
    }
   },
   "outputs": [
    {
     "name": "stdout",
     "output_type": "stream",
     "text": [
      "[1] \"Una matriz simétrica sería p.e\"\n",
      "     [,1] [,2]\n",
      "[1,]    7    4\n",
      "[2,]    4    7\n",
      "[1] TRUE\n"
     ]
    }
   ],
   "source": [
    "print(\"Una matriz simétrica sería p.e\")\n",
    "test <- matrix(c(7, 4, 4, 7), nrow = 2, ncol = 2)\n",
    "print(test)\n",
    "print(all(test == t(test)))"
   ]
  },
  {
   "cell_type": "markdown",
   "metadata": {},
   "source": [
    "2) Crea una matriz que represente un Sudoku. Debe estar inicializada en NA. Luego rellenar solo un 10% de las casillas con un valor entre 1 y 9 (HINT: usa la función `sample`). No se preocupe de que sea un esquema válido (se pueden repetir valores en una fila por ejemplo... eso ya lo haremos más adelante...)"
   ]
  },
  {
   "cell_type": "code",
   "execution_count": 102,
   "metadata": {
    "vscode": {
     "languageId": "r"
    }
   },
   "outputs": [
    {
     "name": "stdout",
     "output_type": "stream",
     "text": [
      "      [,1] [,2] [,3] [,4] [,5] [,6] [,7] [,8] [,9]\n",
      " [1,]   NA    9   NA   NA   NA   NA   NA   NA   NA\n",
      " [2,]    4   NA   NA   NA    8    5   NA   NA   NA\n",
      " [3,]   NA   NA   NA   NA   NA   NA   NA   NA   NA\n",
      " [4,]   NA   NA   NA   NA   NA   NA   NA   NA    3\n",
      " [5,]   NA   NA   NA   NA   NA   NA   NA   NA   NA\n",
      " [6,]   NA   NA   NA   NA   NA   NA   NA   NA   NA\n",
      " [7,]    6   NA   NA   NA   NA   NA   NA    7   NA\n",
      " [8,]   NA   NA   NA   NA   NA   NA   NA   NA   NA\n",
      " [9,]   NA   NA   NA   NA   NA   NA   NA   NA    1\n"
     ]
    }
   ],
   "source": [
    "sudoku <- matrix(nrow = 9, ncol = 9)\n",
    "fill_pos <- sample(seq(1, 81), size = 0.1 * length(sudoku))\n",
    "values <- sample(seq(1, 9), size = 0.1 * length(sudoku))\n",
    "sudoku[fill_pos] <- values\n",
    "print(sudoku)"
   ]
  },
  {
   "cell_type": "markdown",
   "metadata": {},
   "source": [
    "3) Teniendo estas dos matrices:\n",
    "<pre>matriz <- matrix(sample(1:9, 30,replace=TRUE), nrow=5)</pre>\n",
    "<pre>mascara <- matrix(sample(c(TRUE,FALSE), 30, replace=TRUE), nrow=5)</pre>\n",
    "    * Aplique la máscara a la matrix, en donde si la posicion en la máscara es FALSE entonces el resultado es 0 y sino se mantiene su valor\n",
    "    * Calcule el producto de la matriz original por la matriz modificada traspuesta (NOTA: la matriz final será de 5x5)"
   ]
  },
  {
   "cell_type": "code",
   "execution_count": 103,
   "metadata": {
    "vscode": {
     "languageId": "r"
    }
   },
   "outputs": [
    {
     "name": "stdout",
     "output_type": "stream",
     "text": [
      "     [,1] [,2] [,3] [,4] [,5] [,6]\n",
      "[1,]    8    3    3    1    8    1\n",
      "[2,]    4    5    2    3    2    3\n",
      "[3,]    3    3    3    3    4    1\n",
      "[4,]    1    2    4    1    9    5\n",
      "[5,]    9    6    1    4    7    5\n",
      "      [,1]  [,2]  [,3]  [,4]  [,5]  [,6]\n",
      "[1,] FALSE FALSE  TRUE FALSE  TRUE  TRUE\n",
      "[2,] FALSE FALSE  TRUE FALSE FALSE FALSE\n",
      "[3,] FALSE FALSE FALSE FALSE FALSE FALSE\n",
      "[4,] FALSE  TRUE  TRUE  TRUE  TRUE FALSE\n",
      "[5,] FALSE FALSE  TRUE FALSE  TRUE FALSE\n",
      "     [,1] [,2] [,3] [,4] [,5] [,6]\n",
      "[1,]    8    3    0    1    0    0\n",
      "[2,]    4    5    0    3    2    3\n",
      "[3,]    3    3    3    3    4    1\n",
      "[4,]    1    0    0    0    0    5\n",
      "[5,]    9    6    0    4    0    5\n"
     ]
    },
    {
     "data": {
      "text/html": [
       "<table class=\"dataframe\">\n",
       "<caption>A matrix: 5 × 5 of type dbl</caption>\n",
       "<tbody>\n",
       "\t<tr><td>74</td><td> 69</td><td>78</td><td>13</td><td> 99</td></tr>\n",
       "\t<tr><td>50</td><td> 63</td><td>53</td><td>19</td><td> 93</td></tr>\n",
       "\t<tr><td>36</td><td> 47</td><td>53</td><td> 8</td><td> 62</td></tr>\n",
       "\t<tr><td>15</td><td> 50</td><td>65</td><td>26</td><td> 50</td></tr>\n",
       "\t<tr><td>94</td><td>107</td><td>93</td><td>34</td><td>158</td></tr>\n",
       "</tbody>\n",
       "</table>\n"
      ],
      "text/latex": [
       "A matrix: 5 × 5 of type dbl\n",
       "\\begin{tabular}{lllll}\n",
       "\t 74 &  69 & 78 & 13 &  99\\\\\n",
       "\t 50 &  63 & 53 & 19 &  93\\\\\n",
       "\t 36 &  47 & 53 &  8 &  62\\\\\n",
       "\t 15 &  50 & 65 & 26 &  50\\\\\n",
       "\t 94 & 107 & 93 & 34 & 158\\\\\n",
       "\\end{tabular}\n"
      ],
      "text/markdown": [
       "\n",
       "A matrix: 5 × 5 of type dbl\n",
       "\n",
       "| 74 |  69 | 78 | 13 |  99 |\n",
       "| 50 |  63 | 53 | 19 |  93 |\n",
       "| 36 |  47 | 53 |  8 |  62 |\n",
       "| 15 |  50 | 65 | 26 |  50 |\n",
       "| 94 | 107 | 93 | 34 | 158 |\n",
       "\n"
      ],
      "text/plain": [
       "     [,1] [,2] [,3] [,4] [,5]\n",
       "[1,] 74    69  78   13    99 \n",
       "[2,] 50    63  53   19    93 \n",
       "[3,] 36    47  53    8    62 \n",
       "[4,] 15    50  65   26    50 \n",
       "[5,] 94   107  93   34   158 "
      ]
     },
     "metadata": {},
     "output_type": "display_data"
    }
   ],
   "source": [
    "matriz <- matrix(sample(1:9, 30, replace = TRUE), nrow = 5)\n",
    "masked_matrix <- matriz\n",
    "print(matriz)\n",
    "mascara <- matrix(sample(c(TRUE, FALSE), 30, replace = TRUE), nrow = 5)\n",
    "print(mascara)\n",
    "masked_matrix[mascara] <- 0\n",
    "print(masked_matrix)\n",
    "matriz %*% t(masked_matrix)"
   ]
  },
  {
   "cell_type": "markdown",
   "metadata": {},
   "source": [
    "4) Crea un array 5D llamado \"mi_array5D\" con las siguientes características, rellénalo con números enteros consecutivos comenzando desde 1:\n",
    "    - Tamaño de la primera dimensión: 2 elementos\n",
    "    - Tamaño de la segunda dimensión: 3 elementos\n",
    "    - Tamaño de la tercera dimensión: 4 elementos\n",
    "    - Tamaño de la cuarta dimensión: 5 elementos\n",
    "    - Tamaño de la quinta dimensión: 6 elementos\n",
    "    \n",
    "    4.1) Accede a los siguientes elementos del array:\n",
    "    * los elementos pares (analice la posición de esos valores en las 5 dimensiones)\n",
    "    * estudiando el caso anterior muestre los elementos impares sin usar ningun tipo de condicional, igualdad o desigualdad\n",
    "    \n",
    "    4.2) Redimensiona el array para que tenga:\n",
    "    - Tamaño de la primera dimensión: 6 elementos.\n",
    "    - Tamaño de la segunda dimensión: 5 elementos.\n",
    "    - Tamaño de la tercera dimensión: 4 elementos.\n",
    "    - Tamaño de la cuarta dimensión: 3 elementos.\n",
    "    - Tamaño de la quinta dimensión: 2 elementos."
   ]
  },
  {
   "cell_type": "code",
   "execution_count": 104,
   "metadata": {
    "vscode": {
     "languageId": "r"
    }
   },
   "outputs": [
    {
     "name": "stdout",
     "output_type": "stream",
     "text": [
      "[1] \"Visualizamos la última dimensión:\"\n",
      "[1]   1 121 241 361 481 601\n",
      "[1] \"Visualizamos la cuarta dimensión\"\n",
      "     [,1] [,2] [,3] [,4] [,5] [,6]\n",
      "[1,]    1  121  241  361  481  601\n",
      "[2,]   25  145  265  385  505  625\n",
      "[3,]   49  169  289  409  529  649\n",
      "[4,]   73  193  313  433  553  673\n",
      "[5,]   97  217  337  457  577  697\n",
      "[1] \"Longitud total:\"            \"720\"                       \n",
      "[3] \"Longitud última dimensión:\" \"6\"                         \n",
      "[5] \"Longitud cuarta dimensión:\" \"30\"                        \n",
      "[1] \"Accedemos a los elementos pares: \"\n",
      "  [1]   2   4   6   8  10  12  14  16  18  20  22  24  26  28  30  32  34  36\n",
      " [19]  38  40  42  44  46  48  50  52  54  56  58  60  62  64  66  68  70  72\n",
      " [37]  74  76  78  80  82  84  86  88  90  92  94  96  98 100 102 104 106 108\n",
      " [55] 110 112 114 116 118 120 122 124 126 128 130 132 134 136 138 140 142 144\n",
      " [73] 146 148 150 152 154 156 158 160 162 164 166 168 170 172 174 176 178 180\n",
      " [91] 182 184 186 188 190 192 194 196 198 200 202 204 206 208 210 212 214 216\n",
      "[109] 218 220 222 224 226 228 230 232 234 236 238 240 242 244 246 248 250 252\n",
      "[127] 254 256 258 260 262 264 266 268 270 272 274 276 278 280 282 284 286 288\n",
      "[145] 290 292 294 296 298 300 302 304 306 308 310 312 314 316 318 320 322 324\n",
      "[163] 326 328 330 332 334 336 338 340 342 344 346 348 350 352 354 356 358 360\n",
      "[181] 362 364 366 368 370 372 374 376 378 380 382 384 386 388 390 392 394 396\n",
      "[199] 398 400 402 404 406 408 410 412 414 416 418 420 422 424 426 428 430 432\n",
      "[217] 434 436 438 440 442 444 446 448 450 452 454 456 458 460 462 464 466 468\n",
      "[235] 470 472 474 476 478 480 482 484 486 488 490 492 494 496 498 500 502 504\n",
      "[253] 506 508 510 512 514 516 518 520 522 524 526 528 530 532 534 536 538 540\n",
      "[271] 542 544 546 548 550 552 554 556 558 560 562 564 566 568 570 572 574 576\n",
      "[289] 578 580 582 584 586 588 590 592 594 596 598 600 602 604 606 608 610 612\n",
      "[307] 614 616 618 620 622 624 626 628 630 632 634 636 638 640 642 644 646 648\n",
      "[325] 650 652 654 656 658 660 662 664 666 668 670 672 674 676 678 680 682 684\n",
      "[343] 686 688 690 692 694 696 698 700 702 704 706 708 710 712 714 716 718 720\n"
     ]
    }
   ],
   "source": [
    "mi_array5d <- array(\n",
    "  data = seq(from = 1, to = 2 * 3 * 4 * 5 * 6, by = 1), dim = c(2, 3, 4, 5, 6)\n",
    ")\n",
    "print(\"Visualizamos la última dimensión:\")\n",
    "print(mi_array5d[1, 1, 1, 1,])\n",
    "print(\"Visualizamos la cuarta dimensión\")\n",
    "print(mi_array5d[1, 1, 1, ,])\n",
    "print(\n",
    "  c(\n",
    "    \"Longitud total:\",\n",
    "    length(mi_array5d),\n",
    "    \"Longitud última dimensión:\",\n",
    "    length(mi_array5d[1, 1, 1, 1,]),\n",
    "    \"Longitud cuarta dimensión:\",\n",
    "    length(mi_array5d[1, 1, 1, ,])\n",
    "  )\n",
    ")\n",
    "print(\"Accedemos a los elementos pares: \")\n",
    "pares <- seq(from = 2, to = length(mi_array5d), by = 2)\n",
    "print(mi_array5d[pares])"
   ]
  },
  {
   "cell_type": "code",
   "execution_count": 105,
   "metadata": {
    "vscode": {
     "languageId": "r"
    }
   },
   "outputs": [
    {
     "name": "stdout",
     "output_type": "stream",
     "text": [
      "  [1]   1   3   5   7   9  11  13  15  17  19  21  23  25  27  29  31  33  35\n",
      " [19]  37  39  41  43  45  47  49  51  53  55  57  59  61  63  65  67  69  71\n",
      " [37]  73  75  77  79  81  83  85  87  89  91  93  95  97  99 101 103 105 107\n",
      " [55] 109 111 113 115 117 119 121 123 125 127 129 131 133 135 137 139 141 143\n",
      " [73] 145 147 149 151 153 155 157 159 161 163 165 167 169 171 173 175 177 179\n",
      " [91] 181 183 185 187 189 191 193 195 197 199 201 203 205 207 209 211 213 215\n",
      "[109] 217 219 221 223 225 227 229 231 233 235 237 239 241 243 245 247 249 251\n",
      "[127] 253 255 257 259 261 263 265 267 269 271 273 275 277 279 281 283 285 287\n",
      "[145] 289 291 293 295 297 299 301 303 305 307 309 311 313 315 317 319 321 323\n",
      "[163] 325 327 329 331 333 335 337 339 341 343 345 347 349 351 353 355 357 359\n",
      "[181] 361 363 365 367 369 371 373 375 377 379 381 383 385 387 389 391 393 395\n",
      "[199] 397 399 401 403 405 407 409 411 413 415 417 419 421 423 425 427 429 431\n",
      "[217] 433 435 437 439 441 443 445 447 449 451 453 455 457 459 461 463 465 467\n",
      "[235] 469 471 473 475 477 479 481 483 485 487 489 491 493 495 497 499 501 503\n",
      "[253] 505 507 509 511 513 515 517 519 521 523 525 527 529 531 533 535 537 539\n",
      "[271] 541 543 545 547 549 551 553 555 557 559 561 563 565 567 569 571 573 575\n",
      "[289] 577 579 581 583 585 587 589 591 593 595 597 599 601 603 605 607 609 611\n",
      "[307] 613 615 617 619 621 623 625 627 629 631 633 635 637 639 641 643 645 647\n",
      "[325] 649 651 653 655 657 659 661 663 665 667 669 671 673 675 677 679 681 683\n",
      "[343] 685 687 689 691 693 695 697 699 701 703 705 707 709 711 713 715 717 719\n"
     ]
    }
   ],
   "source": [
    "print(mi_array5d[pares - 1])"
   ]
  },
  {
   "cell_type": "markdown",
   "metadata": {},
   "source": [
    "5) Supongamos que tenemos un grafo no dirigido con 6 nodos etiquetados del 1 al 6, y las siguientes aristas:\n",
    "    * Arista 1: (1, 2)\n",
    "    * Arista 2: (1, 3)\n",
    "    * Arista 3: (2, 4)\n",
    "    * Arista 4: (2, 5)\n",
    "    * Arista 5: (3, 6)\n",
    "    * Arista 6: (4, 5)\n",
    "    \n",
    "    Crea una matriz de adyacencia \"matriz_adyacencia\" en R para representar este grafo. En una matriz de adyacencia, las filas y columnas representan los nodos, y un valor 1 indica que existe una arista entre los nodos correspondientes, mientras que un valor 0 indica la ausencia de una arista.\n",
    "    * Calcula el grado del nodo 4 en el grafo. El grado de un nodo es la cantidad de aristas que inciden en él\n",
    "    * Encuentra todos los nodos adyacentes del nodo 2\n",
    "    * Cuenta la cantidad de nodos que tiene una arista hacia si mismos (self-loop)"
   ]
  },
  {
   "cell_type": "code",
   "execution_count": 106,
   "metadata": {
    "vscode": {
     "languageId": "r"
    }
   },
   "outputs": [
    {
     "name": "stdout",
     "output_type": "stream",
     "text": [
      "     [,1] [,2] [,3] [,4] [,5] [,6]\n",
      "[1,]    0    1    1    0    0    0\n",
      "[2,]    1    0    0    1    1    0\n",
      "[3,]    1    0    0    0    0    1\n",
      "[4,]    0    1    0    0    1    0\n",
      "[5,]    0    1    0    1    0    0\n",
      "[6,]    0    0    1    0    0    0\n",
      "[1] \"Grado del nodo 4:\" \"2\"                \n",
      "[1] \"Nodos adyacientes al 2:\"\n",
      "[1] 1 4 5\n",
      "[1] \"Suma de los nodos con un self-loop:\"\n",
      "[1] 0\n"
     ]
    }
   ],
   "source": [
    "adjacency <- matrix(data = 0, nrow = 6, ncol = 6, byrow = TRUE)\n",
    "i <- c(1, 1, 2, 2, 3, 4)\n",
    "j <- c(2, 3, 4, 5, 6, 5)\n",
    "adjacency[((i - 1) * 6) + j] <- 1\n",
    "adjacency[((j - 1) * 6) + i] <- 1\n",
    "print(adjacency)\n",
    "print(c(\"Grado del nodo 4:\", sum(adjacency[, 4])))\n",
    "print(\"Nodos adyacientes al 2:\")\n",
    "print(which(adjacency[, 2] == 1, arr.ind = TRUE))\n",
    "print(\"Suma de los nodos con un self-loop:\")\n",
    "print(sum(diag(adjacency) == 1))"
   ]
  },
  {
   "cell_type": "code",
   "execution_count": 107,
   "metadata": {
    "vscode": {
     "languageId": "r"
    }
   },
   "outputs": [
    {
     "name": "stdout",
     "output_type": "stream",
     "text": [
      "[1] 1 4 5\n"
     ]
    }
   ],
   "source": [
    "# Si solo hubieramos rellenado las relaciones explícitcas\n",
    "# Los nodos adyacientes serían:\n",
    "adjacency <- matrix(data = 0, nrow = 6, ncol = 6, byrow = TRUE)\n",
    "adjacency[((i - 1) * 6) + j] <- 1\n",
    "print(\n",
    "  c(\n",
    "    which(adjacency[2, ] == 1, arr.ind = TRUE),\n",
    "    which(adjacency[, 2] == 1, arr.ind = TRUE)\n",
    "  )\n",
    ")"
   ]
  },
  {
   "cell_type": "code",
   "execution_count": 108,
   "metadata": {
    "vscode": {
     "languageId": "r"
    }
   },
   "outputs": [
    {
     "name": "stdout",
     "output_type": "stream",
     "text": [
      "[1] \"Creamos un grafo de todos a todos, la suma de self-loop debería ser 6\"\n",
      "[1] TRUE\n",
      "[1] \"El número de nodos adyacientes al 2 debería ser 6\"\n",
      "[1] 1 2 3 4 5 6\n"
     ]
    }
   ],
   "source": [
    "# Para comprobar las operaciones anteriores:\n",
    "test <- matrix(data = 1, nrow = 6, ncol = 6, byrow = TRUE)\n",
    "print(\"Creamos un grafo de todos a todos, la suma de self-loop debería ser 6\")\n",
    "print(sum(diag(test) == 1) == 6)\n",
    "print(\"El número de nodos adyacientes al 2 debería ser 6\")\n",
    "print(which(test[, 2] == 1, arr.ind = TRUE))"
   ]
  }
 ],
 "metadata": {
  "kernelspec": {
   "display_name": "R",
   "language": "R",
   "name": "ir"
  },
  "language_info": {
   "codemirror_mode": "r",
   "file_extension": ".r",
   "mimetype": "text/x-r-source",
   "name": "R",
   "pygments_lexer": "r",
   "version": "4.4.1"
  }
 },
 "nbformat": 4,
 "nbformat_minor": 2
}
