{
 "cells": [
  {
   "cell_type": "markdown",
   "metadata": {},
   "source": [
    "# __Nombre__: Brian Sena Simons"
   ]
  },
  {
   "cell_type": "markdown",
   "metadata": {
    "vscode": {
     "languageId": "r"
    }
   },
   "source": [
    "# Ejercicios listas\n",
    "1) Crea una lista llamada `mi_lista` que contenga los siguientes elementos: un vector numérico de 15 elementos, un vector de caracteres de 5 elementos y un vector de valores booleanos de 10 elementos todos TRUE"
   ]
  },
  {
   "cell_type": "code",
   "execution_count": 197,
   "metadata": {
    "vscode": {
     "languageId": "r"
    }
   },
   "outputs": [
    {
     "name": "stdout",
     "output_type": "stream",
     "text": [
      "[[1]]\n",
      " [1]  1  2  3  4  5  6  7  8  9 10 11 12 13 14 15\n",
      "\n",
      "[[2]]\n",
      "[1] \"a\" \"b\" \"c\" \"d\" \"e\"\n",
      "\n",
      "[[3]]\n",
      " [1] TRUE TRUE TRUE TRUE TRUE TRUE TRUE TRUE TRUE TRUE\n",
      "\n"
     ]
    }
   ],
   "source": [
    "my_list <- list(1:15, letters[1:5], rep(TRUE, 10))\n",
    "print(my_list)\n"
   ]
  },
  {
   "cell_type": "markdown",
   "metadata": {},
   "source": [
    "2) Dada la siguiente lista `my_list <- list(name=\"Fred\", wife=\"Mary\", no.children=3, child.ages=c(4,7,9))`:\n",
    "    * Imprime los nombres de todos los componentes de la lista\n",
    "    * Devuelve el segundo componente de la lista\n",
    "    * Recupera el segundo elemento del cuarto componente de la lista \n",
    "    * Imprime la longitud del cuarto elemento de la lista\n",
    "    * Reemplaza el cuarto elemento de la lista por un vector de 12 numeros del 1 al 12\n",
    "    * Elimina el componente `wife`\n",
    "    * Añade un componente más a la lista llamado `pepe`"
   ]
  },
  {
   "cell_type": "code",
   "execution_count": 198,
   "metadata": {
    "vscode": {
     "languageId": "r"
    }
   },
   "outputs": [
    {
     "name": "stdout",
     "output_type": "stream",
     "text": [
      "[1] \"name\"        \"wife\"        \"no.children\" \"child.ages\" \n"
     ]
    }
   ],
   "source": [
    "my_list2 <- list(\n",
    "  name = \"Fred\", wife = \"Mary\", no.children = 3, child.ages = c(4, 7, 9)\n",
    ")\n",
    "print(names(my_list2))"
   ]
  },
  {
   "cell_type": "code",
   "execution_count": 199,
   "metadata": {
    "vscode": {
     "languageId": "r"
    }
   },
   "outputs": [
    {
     "name": "stdout",
     "output_type": "stream",
     "text": [
      "$wife\n",
      "[1] \"Mary\"\n",
      "\n"
     ]
    }
   ],
   "source": [
    "print(my_list2[2])"
   ]
  },
  {
   "cell_type": "code",
   "execution_count": 200,
   "metadata": {
    "vscode": {
     "languageId": "r"
    }
   },
   "outputs": [
    {
     "name": "stdout",
     "output_type": "stream",
     "text": [
      "[1] 7\n"
     ]
    }
   ],
   "source": [
    "print(my_list2[[4]][2])"
   ]
  },
  {
   "cell_type": "code",
   "execution_count": 201,
   "metadata": {
    "vscode": {
     "languageId": "r"
    }
   },
   "outputs": [
    {
     "name": "stdout",
     "output_type": "stream",
     "text": [
      "[1] 3\n"
     ]
    }
   ],
   "source": [
    "print(length(my_list2[[4]]))"
   ]
  },
  {
   "cell_type": "code",
   "execution_count": 202,
   "metadata": {
    "vscode": {
     "languageId": "r"
    }
   },
   "outputs": [
    {
     "name": "stdout",
     "output_type": "stream",
     "text": [
      "[1] \"------ Resultado final -----\"\n",
      "$name\n",
      "[1] \"Fred\"\n",
      "\n",
      "$no.children\n",
      "[1] 3\n",
      "\n",
      "$child.ages\n",
      " [1]  1  2  3  4  5  6  7  8  9 10 11 12\n",
      "\n",
      "$pepe\n",
      "[1] \"Hola Mundo!\"\n",
      "\n"
     ]
    }
   ],
   "source": [
    "my_list2[[4]] <- c(1:12)\n",
    "my_list2[\"wife\"] <- NULL\n",
    "my_list2[\"pepe\"] <- \"Hola Mundo!\"\n",
    "print(\"------ Resultado final -----\")\n",
    "print(my_list2)"
   ]
  },
  {
   "cell_type": "code",
   "execution_count": 203,
   "metadata": {
    "vscode": {
     "languageId": "r"
    }
   },
   "outputs": [
    {
     "name": "stdout",
     "output_type": "stream",
     "text": [
      "[1] \"---- Alternativas ---- \"\n",
      "[1] \"Para imprimir el segundo componente podemos hacerlo de varias formas:\"\n",
      "$wife\n",
      "[1] \"Mary\"\n",
      "\n",
      "[1] \"Mary\"\n",
      "[1] \"Mary\"\n",
      "[1] \"Para recuperar el segundo elemento de la cuarta posición podemos:\"\n",
      "[1] 7\n",
      "[1] \"Para borrar el elemento wife podemos:\"\n",
      "$name\n",
      "[1] \"Fred\"\n",
      "\n",
      "$no.children\n",
      "[1] 3\n",
      "\n",
      "$child.ages\n",
      "[1] 4 7 9\n",
      "\n"
     ]
    }
   ],
   "source": [
    "print(\"---- Alternativas ---- \")\n",
    "altlist <- list(\n",
    "  name = \"Fred\", wife = \"Mary\", no.children = 3, child.ages = c(4, 7, 9)\n",
    ")\n",
    "print(\"Para imprimir el segundo componente podemos hacerlo de varias formas:\")\n",
    "print(altlist[\"wife\"])\n",
    "print(altlist[[2]])\n",
    "print(altlist$wife)\n",
    "print(\"Para recuperar el segundo elemento de la cuarta posición podemos:\")\n",
    "print(altlist$child.ages[2])\n",
    "print(\"Para borrar el elemento wife podemos:\")\n",
    "print(altlist[-2])\n"
   ]
  },
  {
   "cell_type": "markdown",
   "metadata": {},
   "source": [
    "3) Convertir un vector de 30 números postivos y negativos en una lista con [ \\\n",
    "    1ra componente: los 2 primeros elementos, \\\n",
    "    2da componente: los 5 siguientes pero como caracteres, \\\n",
    "    3ra componente: los elementos restantes que sean valores positivos, \\\n",
    "    4ta componente: una lista de caracteres con tu nombre y apellidos (ej: \"Rocio\" \"Romero\" \"Zaliz\") \\\n",
    "]\n",
    "    * Una vez creado ponles nombre (ej: \"1ro\", \"2do\" etc)\n",
    "    * Accede al tercer elemento por su nombre\n",
    "    * Fusiona el primer y cuarto componente en un quito componente y borra los originales"
   ]
  },
  {
   "cell_type": "code",
   "execution_count": 204,
   "metadata": {
    "vscode": {
     "languageId": "r"
    }
   },
   "outputs": [
    {
     "name": "stdout",
     "output_type": "stream",
     "text": [
      "[[1]]\n",
      "[1] -15 -14\n",
      "\n",
      "[[2]]\n",
      "[1] \"-13\" \"-12\" \"-11\" \"-10\" \"-9\" \n",
      "\n",
      "[[3]]\n",
      " [1]  0  1  2  3  4  5  6  7  8  9 10 11 12 13 14 15\n",
      "\n",
      "[[4]]\n",
      "[1] \"Brian\"  \"Sena\"   \"Simons\"\n",
      "\n",
      "$names\n",
      "[1] \"1ro\" \"2ro\" \"3ro\" \"4to\"\n",
      "\n"
     ]
    }
   ],
   "source": [
    "vec <- seq(from = -15, to = 15)\n",
    "print(\n",
    "  my_list3 <- list(\n",
    "    vec[1:2],\n",
    "    as.character(vec[3:7]),\n",
    "    vec[8:length(vec)][vec[8:length(vec)] >= 0],\n",
    "    list(\"Brian\", \"Sena\", \"Simons\")\n",
    "  )\n",
    ")\n",
    "names(my_list3) <- c(\"1ro\", \"2ro\", \"3ro\", \"4to\")\n",
    "print(attributes(my_list3))"
   ]
  },
  {
   "cell_type": "code",
   "execution_count": 205,
   "metadata": {
    "vscode": {
     "languageId": "r"
    }
   },
   "outputs": [
    {
     "name": "stdout",
     "output_type": "stream",
     "text": [
      "$`3ro`\n",
      " [1]  0  1  2  3  4  5  6  7  8  9 10 11 12 13 14 15\n",
      "\n",
      "$`2ro`\n",
      "[1] \"-13\" \"-12\" \"-11\" \"-10\" \"-9\" \n",
      "\n",
      "$`3ro`\n",
      " [1]  0  1  2  3  4  5  6  7  8  9 10 11 12 13 14 15\n",
      "\n",
      "$`5to`\n",
      "[1] \"-15\"    \"-14\"    \"Brian\"  \"Sena\"   \"Simons\"\n",
      "\n"
     ]
    }
   ],
   "source": [
    "print(my_list3[\"3ro\"])\n",
    "my_list3[[\"5to\"]] <- c(my_list3[[1]], my_list3[[4]])\n",
    "print(my_list3 <- my_list3[c(-1, -4)])"
   ]
  },
  {
   "cell_type": "markdown",
   "metadata": {
    "vscode": {
     "languageId": "r"
    }
   },
   "source": [
    "4) Crea una nueva lista cuyos componentes sean las listas de los ejericios anteriores (OJO: Su longitude debería ser 3)"
   ]
  },
  {
   "cell_type": "code",
   "execution_count": 206,
   "metadata": {
    "vscode": {
     "languageId": "r"
    }
   },
   "outputs": [
    {
     "name": "stdout",
     "output_type": "stream",
     "text": [
      "[1] \"La longitud es:\"\n",
      "[1] 3\n"
     ]
    }
   ],
   "source": [
    "my_list4 <- list(\n",
    "  ejercicio3 = my_list3, ejercicio2 = my_list2, ejercicio1 = my_list\n",
    ")\n",
    "print(\"La longitud es:\")\n",
    "print(length(my_list4))"
   ]
  },
  {
   "cell_type": "markdown",
   "metadata": {},
   "source": [
    "5) Crea una nueva lista que concatene las listas de los tres primeros ejercicios. ¿Qué longitud tiene?"
   ]
  },
  {
   "cell_type": "code",
   "execution_count": 207,
   "metadata": {
    "vscode": {
     "languageId": "r"
    }
   },
   "outputs": [
    {
     "name": "stdout",
     "output_type": "stream",
     "text": [
      "[1] \"La lista es:\"\n",
      "[[1]]\n",
      " [1]  1  2  3  4  5  6  7  8  9 10 11 12 13 14 15\n",
      "\n",
      "[[2]]\n",
      "[1] \"a\" \"b\" \"c\" \"d\" \"e\"\n",
      "\n",
      "[[3]]\n",
      " [1] TRUE TRUE TRUE TRUE TRUE TRUE TRUE TRUE TRUE TRUE\n",
      "\n",
      "$name\n",
      "[1] \"Fred\"\n",
      "\n",
      "$no.children\n",
      "[1] 3\n",
      "\n",
      "$child.ages\n",
      " [1]  1  2  3  4  5  6  7  8  9 10 11 12\n",
      "\n",
      "$pepe\n",
      "[1] \"Hola Mundo!\"\n",
      "\n",
      "$`2ro`\n",
      "[1] \"-13\" \"-12\" \"-11\" \"-10\" \"-9\" \n",
      "\n",
      "$`3ro`\n",
      " [1]  0  1  2  3  4  5  6  7  8  9 10 11 12 13 14 15\n",
      "\n",
      "$`5to`\n",
      "[1] \"-15\"    \"-14\"    \"Brian\"  \"Sena\"   \"Simons\"\n",
      "\n"
     ]
    }
   ],
   "source": [
    "# Si entendemos concatenar como los valores en cada posición:\n",
    "my_list5 <- c(my_list, my_list2, my_list3)\n",
    "print(\"La lista es:\")\n",
    "print(my_list5)"
   ]
  },
  {
   "cell_type": "code",
   "execution_count": 208,
   "metadata": {
    "vscode": {
     "languageId": "r"
    }
   },
   "outputs": [
    {
     "name": "stdout",
     "output_type": "stream",
     "text": [
      "[1] \"La longitud es:\"\n",
      "[1] 10\n"
     ]
    }
   ],
   "source": [
    "print(\"La longitud es:\")\n",
    "print(length(my_list5))"
   ]
  },
  {
   "cell_type": "code",
   "execution_count": 209,
   "metadata": {
    "vscode": {
     "languageId": "r"
    }
   },
   "outputs": [
    {
     "name": "stdout",
     "output_type": "stream",
     "text": [
      "[[1]]\n",
      "        ejercicio3.2ro1         ejercicio3.2ro2         ejercicio3.2ro3 \n",
      "                  \"-13\"                   \"-12\"                   \"-11\" \n",
      "        ejercicio3.2ro4         ejercicio3.2ro5         ejercicio3.3ro1 \n",
      "                  \"-10\"                    \"-9\"                     \"0\" \n",
      "        ejercicio3.3ro2         ejercicio3.3ro3         ejercicio3.3ro4 \n",
      "                    \"1\"                     \"2\"                     \"3\" \n",
      "        ejercicio3.3ro5         ejercicio3.3ro6         ejercicio3.3ro7 \n",
      "                    \"4\"                     \"5\"                     \"6\" \n",
      "        ejercicio3.3ro8         ejercicio3.3ro9        ejercicio3.3ro10 \n",
      "                    \"7\"                     \"8\"                     \"9\" \n",
      "       ejercicio3.3ro11        ejercicio3.3ro12        ejercicio3.3ro13 \n",
      "                   \"10\"                    \"11\"                    \"12\" \n",
      "       ejercicio3.3ro14        ejercicio3.3ro15        ejercicio3.3ro16 \n",
      "                   \"13\"                    \"14\"                    \"15\" \n",
      "        ejercicio3.5to1         ejercicio3.5to2         ejercicio3.5to3 \n",
      "                  \"-15\"                   \"-14\"                 \"Brian\" \n",
      "        ejercicio3.5to4         ejercicio3.5to5         ejercicio2.name \n",
      "                 \"Sena\"                \"Simons\"                  \"Fred\" \n",
      " ejercicio2.no.children  ejercicio2.child.ages1  ejercicio2.child.ages2 \n",
      "                    \"3\"                     \"1\"                     \"2\" \n",
      " ejercicio2.child.ages3  ejercicio2.child.ages4  ejercicio2.child.ages5 \n",
      "                    \"3\"                     \"4\"                     \"5\" \n",
      " ejercicio2.child.ages6  ejercicio2.child.ages7  ejercicio2.child.ages8 \n",
      "                    \"6\"                     \"7\"                     \"8\" \n",
      " ejercicio2.child.ages9 ejercicio2.child.ages10 ejercicio2.child.ages11 \n",
      "                    \"9\"                    \"10\"                    \"11\" \n",
      "ejercicio2.child.ages12         ejercicio2.pepe             ejercicio11 \n",
      "                   \"12\"           \"Hola Mundo!\"                     \"1\" \n",
      "            ejercicio12             ejercicio13             ejercicio14 \n",
      "                    \"2\"                     \"3\"                     \"4\" \n",
      "            ejercicio15             ejercicio16             ejercicio17 \n",
      "                    \"5\"                     \"6\"                     \"7\" \n",
      "            ejercicio18             ejercicio19            ejercicio110 \n",
      "                    \"8\"                     \"9\"                    \"10\" \n",
      "           ejercicio111            ejercicio112            ejercicio113 \n",
      "                   \"11\"                    \"12\"                    \"13\" \n",
      "           ejercicio114            ejercicio115            ejercicio116 \n",
      "                   \"14\"                    \"15\"                     \"a\" \n",
      "           ejercicio117            ejercicio118            ejercicio119 \n",
      "                    \"b\"                     \"c\"                     \"d\" \n",
      "           ejercicio120            ejercicio121            ejercicio122 \n",
      "                    \"e\"                  \"TRUE\"                  \"TRUE\" \n",
      "           ejercicio123            ejercicio124            ejercicio125 \n",
      "                 \"TRUE\"                  \"TRUE\"                  \"TRUE\" \n",
      "           ejercicio126            ejercicio127            ejercicio128 \n",
      "                 \"TRUE\"                  \"TRUE\"                  \"TRUE\" \n",
      "           ejercicio129            ejercicio130 \n",
      "                 \"TRUE\"                  \"TRUE\" \n",
      "\n",
      "[1] \"Longitud de la lista concatenada:\"\n",
      "[1] 71\n",
      "[1] \"Suma de longitud de las listas planas de los ejercicios anteriores:\"\n",
      "[1] 71\n"
     ]
    }
   ],
   "source": [
    "# Si interpretamos concatenar como obtener una lista de 1 sola posición:\n",
    "my_list5 <- list(unlist(my_list4))\n",
    "print(my_list5)\n",
    "print(\"Longitud de la lista concatenada:\")\n",
    "print(length(my_list5[[1]]))\n",
    "print(\"Suma de longitud de las listas planas de los ejercicios anteriores:\")\n",
    "print(\n",
    "  length(unlist(my_list)) +\n",
    "    length(unlist(my_list2)) +\n",
    "    length(unlist(my_list3))\n",
    ")"
   ]
  },
  {
   "cell_type": "code",
   "execution_count": 210,
   "metadata": {
    "vscode": {
     "languageId": "r"
    }
   },
   "outputs": [
    {
     "name": "stdout",
     "output_type": "stream",
     "text": [
      "[1] \"Si no se puede usar la lista del ejercicio 4:\"\n",
      " [1] \"1\"           \"2\"           \"3\"           \"4\"           \"5\"          \n",
      " [6] \"6\"           \"7\"           \"8\"           \"9\"           \"10\"         \n",
      "[11] \"11\"          \"12\"          \"13\"          \"14\"          \"15\"         \n",
      "[16] \"a\"           \"b\"           \"c\"           \"d\"           \"e\"          \n",
      "[21] \"TRUE\"        \"TRUE\"        \"TRUE\"        \"TRUE\"        \"TRUE\"       \n",
      "[26] \"TRUE\"        \"TRUE\"        \"TRUE\"        \"TRUE\"        \"TRUE\"       \n",
      "[31] \"Fred\"        \"3\"           \"1\"           \"2\"           \"3\"          \n",
      "[36] \"4\"           \"5\"           \"6\"           \"7\"           \"8\"          \n",
      "[41] \"9\"           \"10\"          \"11\"          \"12\"          \"Hola Mundo!\"\n",
      "[46] \"-13\"         \"-12\"         \"-11\"         \"-10\"         \"-9\"         \n",
      "[51] \"0\"           \"1\"           \"2\"           \"3\"           \"4\"          \n",
      "[56] \"5\"           \"6\"           \"7\"           \"8\"           \"9\"          \n",
      "[61] \"10\"          \"11\"          \"12\"          \"13\"          \"14\"         \n",
      "[66] \"15\"          \"-15\"         \"-14\"         \"Brian\"       \"Sena\"       \n",
      "[71] \"Simons\"     \n",
      "[1] 71\n"
     ]
    }
   ],
   "source": [
    "print(\"Si no se puede usar la lista del ejercicio 4:\")\n",
    "flat_list <- c(my_list, my_list2, my_list3)\n",
    "# Elimino los nombres para que sea más legible.\n",
    "names(flat_list) <- NULL\n",
    "print(unlist(flat_list))\n",
    "print(length(unlist(flat_list)))\n"
   ]
  }
 ],
 "metadata": {
  "kernelspec": {
   "display_name": "R",
   "language": "R",
   "name": "ir"
  },
  "language_info": {
   "codemirror_mode": "r",
   "file_extension": ".r",
   "mimetype": "text/x-r-source",
   "name": "R",
   "pygments_lexer": "r",
   "version": "4.4.1"
  }
 },
 "nbformat": 4,
 "nbformat_minor": 2
}
