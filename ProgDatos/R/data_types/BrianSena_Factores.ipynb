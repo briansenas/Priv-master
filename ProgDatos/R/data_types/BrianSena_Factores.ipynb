{
 "cells": [
  {
   "cell_type": "markdown",
   "metadata": {},
   "source": [
    "# __Nombre__: Brian Sena Simons"
   ]
  },
  {
   "cell_type": "markdown",
   "metadata": {},
   "source": [
    "# Ejercicios factores\n",
    "1) Crea un factor llamado \"fact_puntuacion\" que contenga puntuaciones de 1 al 5 para 1000 productos. Utiliza la función `summary()` para obtener un resumen de la distribución de puntuaciones. ¿Qué puedes deducir del tipo de aleatoriedad usada en `sample`? ¿Es normal, uniforme, ...?"
   ]
  },
  {
   "cell_type": "code",
   "execution_count": 20,
   "metadata": {
    "vscode": {
     "languageId": "r"
    }
   },
   "outputs": [
    {
     "name": "stdout",
     "output_type": "stream",
     "text": [
      "$levels\n",
      "[1] \"1\" \"2\" \"3\" \"4\" \"5\"\n",
      "\n",
      "$class\n",
      "[1] \"ordered\" \"factor\" \n",
      "\n",
      "  1   2   3   4   5 \n",
      "202 190 209 194 205 \n"
     ]
    }
   ],
   "source": [
    "productos <- factor(\n",
    "  sample(seq(1, 5), size = 1000, replace = TRUE),\n",
    "  ordered = TRUE\n",
    ")\n",
    "print(attributes(productos))\n",
    "print(summary(productos))"
   ]
  },
  {
   "cell_type": "markdown",
   "metadata": {
    "vscode": {
     "languageId": "r"
    }
   },
   "source": [
    "__Respuesta__: _La distribución de `sample` parece ser uniforme ya que cada opción es equiprobable_\n",
    "_(Cada opción tiene la misma probabilidad de ocurrir, se observa al verificar la cercanía entre el número de casos para cada opción)._"
   ]
  },
  {
   "cell_type": "markdown",
   "metadata": {},
   "source": [
    "2) Crea un factor ordenado para edades entre 0 y 100 de 100 personas. Utiliza la función `cut` para generar 3 nieveles separados. Ahora reetiqueta el factor como \"joven\", \"adulto\" o \"anciano\". Muestra la frecuencia de cada nivel."
   ]
  },
  {
   "cell_type": "code",
   "execution_count": 6,
   "metadata": {
    "vscode": {
     "languageId": "r"
    }
   },
   "outputs": [
    {
     "name": "stdout",
     "output_type": "stream",
     "text": [
      "  [1] 1   2   3   4   5   6   7   8   9   10  11  12  13  14  15  16  17  18 \n",
      " [19] 19  20  21  22  23  24  25  26  27  28  29  30  31  32  33  34  35  36 \n",
      " [37] 37  38  39  40  41  42  43  44  45  46  47  48  49  50  51  52  53  54 \n",
      " [55] 55  56  57  58  59  60  61  62  63  64  65  66  67  68  69  70  71  72 \n",
      " [73] 73  74  75  76  77  78  79  80  81  82  83  84  85  86  87  88  89  90 \n",
      " [91] 91  92  93  94  95  96  97  98  99  100\n",
      "100 Levels: 1 < 2 < 3 < 4 < 5 < 6 < 7 < 8 < 9 < 10 < 11 < 12 < 13 < ... < 100\n",
      "(0.901,34]    (34,67]   (67,100] \n",
      "        34         33         33 \n"
     ]
    },
    {
     "data": {
      "text/html": [
       "<style>\n",
       ".list-inline {list-style: none; margin:0; padding: 0}\n",
       ".list-inline>li {display: inline-block}\n",
       ".list-inline>li:not(:last-child)::after {content: \"\\00b7\"; padding: 0 .5ex}\n",
       "</style>\n",
       "<ol class=list-inline><li>joven</li><li>joven</li><li>joven</li><li>joven</li><li>joven</li><li>joven</li><li>joven</li><li>joven</li><li>joven</li><li>joven</li></ol>\n",
       "\n",
       "<details>\n",
       "\t<summary style=display:list-item;cursor:pointer>\n",
       "\t\t<strong>Levels</strong>:\n",
       "\t</summary>\n",
       "\t<style>\n",
       "\t.list-inline {list-style: none; margin:0; padding: 0}\n",
       "\t.list-inline>li {display: inline-block}\n",
       "\t.list-inline>li:not(:last-child)::after {content: \"\\00b7\"; padding: 0 .5ex}\n",
       "\t</style>\n",
       "\t<ol class=list-inline><li>'joven'</li><li>'adulto'</li><li>'anciano'</li></ol>\n",
       "</details>"
      ],
      "text/latex": [
       "\\begin{enumerate*}\n",
       "\\item joven\n",
       "\\item joven\n",
       "\\item joven\n",
       "\\item joven\n",
       "\\item joven\n",
       "\\item joven\n",
       "\\item joven\n",
       "\\item joven\n",
       "\\item joven\n",
       "\\item joven\n",
       "\\end{enumerate*}\n",
       "\n",
       "\\emph{Levels}: \\begin{enumerate*}\n",
       "\\item 'joven'\n",
       "\\item 'adulto'\n",
       "\\item 'anciano'\n",
       "\\end{enumerate*}\n"
      ],
      "text/markdown": [
       "1. joven\n",
       "2. joven\n",
       "3. joven\n",
       "4. joven\n",
       "5. joven\n",
       "6. joven\n",
       "7. joven\n",
       "8. joven\n",
       "9. joven\n",
       "10. joven\n",
       "\n",
       "\n",
       "\n",
       "**Levels**: 1. 'joven'\n",
       "2. 'adulto'\n",
       "3. 'anciano'\n",
       "\n",
       "\n"
      ],
      "text/plain": [
       " [1] joven joven joven joven joven joven joven joven joven joven\n",
       "Levels: joven adulto anciano"
      ]
     },
     "metadata": {},
     "output_type": "display_data"
    }
   ],
   "source": [
    "edades <- factor(\n",
    "  seq(from = 1, to = 100, by = 1),\n",
    "  ordered = TRUE,\n",
    ")\n",
    "print(edades)\n",
    "# Creamos trozos del factor inicial dividios en 3 partes.\n",
    "nedades <- cut(\n",
    "  # Parseamos el tipo del factor inicial a numerico\n",
    "  as.numeric(edades),\n",
    "  3,\n",
    "  ordered_results = TRUE,\n",
    ")\n",
    "print(\n",
    "  summary(\n",
    "    nedades\n",
    "  )\n",
    ")\n",
    "# Ponemos las nuevas etiquetas.\n",
    "labels <- c(\"joven\", \"adulto\", \"anciano\")\n",
    "levels(nedades) <- labels\n",
    "head(nedades, 10)"
   ]
  },
  {
   "cell_type": "markdown",
   "metadata": {},
   "source": [
    "3) Crea un factor para el siguiente vector teniendo en cuenta que los niveles posibles son todas las letras de la \"A\" a la \"Z\":\n",
    "<pre>v <- c(\"A\",\"I\", \"I\", \"J\", \"A\", \"Z\", \"X\")</pre>\n",
    "    * Modifica una de las \"I\" por una \"F\"\n",
    "    * Agrega una nueva \"A\" en última posición\n",
    "    * Indica las letras que aparecen en el factor ordenadas por su frecuencia, empezando con la menos frecuente"
   ]
  },
  {
   "cell_type": "code",
   "execution_count": 22,
   "metadata": {
    "vscode": {
     "languageId": "r"
    }
   },
   "outputs": [
    {
     "name": "stdout",
     "output_type": "stream",
     "text": [
      "[1] A I I J A Z X\n",
      "26 Levels: A < B < C < D < E < F < G < H < I < J < K < L < M < N < O < ... < Z\n"
     ]
    }
   ],
   "source": [
    "v <- c(\"A\", \"I\", \"I\", \"J\", \"A\", \"Z\", \"X\")\n",
    "alpha <- factor(v, levels = LETTERS, ordered = TRUE)\n",
    "print(alpha)"
   ]
  },
  {
   "cell_type": "code",
   "execution_count": 23,
   "metadata": {
    "vscode": {
     "languageId": "r"
    }
   },
   "outputs": [
    {
     "name": "stdout",
     "output_type": "stream",
     "text": [
      "[1] A F I J A Z X\n",
      "26 Levels: A < B < C < D < E < F < G < H < I < J < K < L < M < N < O < ... < Z\n"
     ]
    }
   ],
   "source": [
    "modify <- which(alpha == \"I\", arr.ind = TRUE)\n",
    "alpha[modify[1]] <- \"F\"\n",
    "print(alpha)"
   ]
  },
  {
   "cell_type": "code",
   "execution_count": 24,
   "metadata": {
    "vscode": {
     "languageId": "r"
    }
   },
   "outputs": [
    {
     "name": "stdout",
     "output_type": "stream",
     "text": [
      "[1] \"Añadimos el valor 'A' al final\"\n",
      "[1] A F I J A Z X A\n",
      "Levels: A F I J X Z\n",
      "[1] \"Ordenamos según frecuencia ascendiente\"\n",
      "B C D E G H K L M N O P Q R S T U V W Y F I J X Z A \n",
      "0 0 0 0 0 0 0 0 0 0 0 0 0 0 0 0 0 0 0 0 1 1 1 1 1 2 \n",
      "alpha\n",
      "B C D E G H K L M N O P Q R S T U V W Y F I J X Z A \n",
      "0 0 0 0 0 0 0 0 0 0 0 0 0 0 0 0 0 0 0 0 1 1 1 1 1 2 \n"
     ]
    }
   ],
   "source": [
    "print(\"Añadimos el valor 'A' al final\")\n",
    "print(factor(c(as.character(alpha), \"A\")))\n",
    "# También podemos añadir valores usando la última posición:\n",
    "# `alpha[length(alpha)+1] <- \"A\"`\n",
    "print(\"Ordenamos según frecuencia ascendiente\")\n",
    "print(sort(summary(alpha), decreasing = FALSE))\n",
    "print(sort(table(alpha), decreasing = FALSE))"
   ]
  }
 ],
 "metadata": {
  "kernelspec": {
   "display_name": "R",
   "language": "R",
   "name": "ir"
  },
  "language_info": {
   "codemirror_mode": "r",
   "file_extension": ".r",
   "mimetype": "text/x-r-source",
   "name": "R",
   "pygments_lexer": "r",
   "version": "4.4.1"
  }
 },
 "nbformat": 4,
 "nbformat_minor": 2
}
