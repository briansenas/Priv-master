{
 "cells": [
  {
   "cell_type": "markdown",
   "metadata": {},
   "source": [
    "# __Nombre__: Brian Sena Simons"
   ]
  },
  {
   "cell_type": "markdown",
   "metadata": {},
   "source": [
    "### Ejercicios data frames\n",
    "1) Usando el dataset `mtcars`:\n",
    "    * Muestra las 5 primeras filas\n",
    "    * Presenta un resumen del datasest"
   ]
  },
  {
   "cell_type": "code",
   "execution_count": 37,
   "metadata": {
    "vscode": {
     "languageId": "r"
    }
   },
   "outputs": [
    {
     "data": {
      "text/html": [
       "<table class=\"dataframe\">\n",
       "<caption>A data.frame: 5 × 11</caption>\n",
       "<thead>\n",
       "\t<tr><th></th><th scope=col>mpg</th><th scope=col>cyl</th><th scope=col>disp</th><th scope=col>hp</th><th scope=col>drat</th><th scope=col>wt</th><th scope=col>qsec</th><th scope=col>vs</th><th scope=col>am</th><th scope=col>gear</th><th scope=col>carb</th></tr>\n",
       "\t<tr><th></th><th scope=col>&lt;dbl&gt;</th><th scope=col>&lt;dbl&gt;</th><th scope=col>&lt;dbl&gt;</th><th scope=col>&lt;dbl&gt;</th><th scope=col>&lt;dbl&gt;</th><th scope=col>&lt;dbl&gt;</th><th scope=col>&lt;dbl&gt;</th><th scope=col>&lt;dbl&gt;</th><th scope=col>&lt;dbl&gt;</th><th scope=col>&lt;dbl&gt;</th><th scope=col>&lt;dbl&gt;</th></tr>\n",
       "</thead>\n",
       "<tbody>\n",
       "\t<tr><th scope=row>Mazda RX4</th><td>21.0</td><td>6</td><td>160</td><td>110</td><td>3.90</td><td>2.620</td><td>16.46</td><td>0</td><td>1</td><td>4</td><td>4</td></tr>\n",
       "\t<tr><th scope=row>Mazda RX4 Wag</th><td>21.0</td><td>6</td><td>160</td><td>110</td><td>3.90</td><td>2.875</td><td>17.02</td><td>0</td><td>1</td><td>4</td><td>4</td></tr>\n",
       "\t<tr><th scope=row>Datsun 710</th><td>22.8</td><td>4</td><td>108</td><td> 93</td><td>3.85</td><td>2.320</td><td>18.61</td><td>1</td><td>1</td><td>4</td><td>1</td></tr>\n",
       "\t<tr><th scope=row>Hornet 4 Drive</th><td>21.4</td><td>6</td><td>258</td><td>110</td><td>3.08</td><td>3.215</td><td>19.44</td><td>1</td><td>0</td><td>3</td><td>1</td></tr>\n",
       "\t<tr><th scope=row>Hornet Sportabout</th><td>18.7</td><td>8</td><td>360</td><td>175</td><td>3.15</td><td>3.440</td><td>17.02</td><td>0</td><td>0</td><td>3</td><td>2</td></tr>\n",
       "</tbody>\n",
       "</table>\n"
      ],
      "text/latex": [
       "A data.frame: 5 × 11\n",
       "\\begin{tabular}{r|lllllllllll}\n",
       "  & mpg & cyl & disp & hp & drat & wt & qsec & vs & am & gear & carb\\\\\n",
       "  & <dbl> & <dbl> & <dbl> & <dbl> & <dbl> & <dbl> & <dbl> & <dbl> & <dbl> & <dbl> & <dbl>\\\\\n",
       "\\hline\n",
       "\tMazda RX4 & 21.0 & 6 & 160 & 110 & 3.90 & 2.620 & 16.46 & 0 & 1 & 4 & 4\\\\\n",
       "\tMazda RX4 Wag & 21.0 & 6 & 160 & 110 & 3.90 & 2.875 & 17.02 & 0 & 1 & 4 & 4\\\\\n",
       "\tDatsun 710 & 22.8 & 4 & 108 &  93 & 3.85 & 2.320 & 18.61 & 1 & 1 & 4 & 1\\\\\n",
       "\tHornet 4 Drive & 21.4 & 6 & 258 & 110 & 3.08 & 3.215 & 19.44 & 1 & 0 & 3 & 1\\\\\n",
       "\tHornet Sportabout & 18.7 & 8 & 360 & 175 & 3.15 & 3.440 & 17.02 & 0 & 0 & 3 & 2\\\\\n",
       "\\end{tabular}\n"
      ],
      "text/markdown": [
       "\n",
       "A data.frame: 5 × 11\n",
       "\n",
       "| <!--/--> | mpg &lt;dbl&gt; | cyl &lt;dbl&gt; | disp &lt;dbl&gt; | hp &lt;dbl&gt; | drat &lt;dbl&gt; | wt &lt;dbl&gt; | qsec &lt;dbl&gt; | vs &lt;dbl&gt; | am &lt;dbl&gt; | gear &lt;dbl&gt; | carb &lt;dbl&gt; |\n",
       "|---|---|---|---|---|---|---|---|---|---|---|---|\n",
       "| Mazda RX4 | 21.0 | 6 | 160 | 110 | 3.90 | 2.620 | 16.46 | 0 | 1 | 4 | 4 |\n",
       "| Mazda RX4 Wag | 21.0 | 6 | 160 | 110 | 3.90 | 2.875 | 17.02 | 0 | 1 | 4 | 4 |\n",
       "| Datsun 710 | 22.8 | 4 | 108 |  93 | 3.85 | 2.320 | 18.61 | 1 | 1 | 4 | 1 |\n",
       "| Hornet 4 Drive | 21.4 | 6 | 258 | 110 | 3.08 | 3.215 | 19.44 | 1 | 0 | 3 | 1 |\n",
       "| Hornet Sportabout | 18.7 | 8 | 360 | 175 | 3.15 | 3.440 | 17.02 | 0 | 0 | 3 | 2 |\n",
       "\n"
      ],
      "text/plain": [
       "                  mpg  cyl disp hp  drat wt    qsec  vs am gear carb\n",
       "Mazda RX4         21.0 6   160  110 3.90 2.620 16.46 0  1  4    4   \n",
       "Mazda RX4 Wag     21.0 6   160  110 3.90 2.875 17.02 0  1  4    4   \n",
       "Datsun 710        22.8 4   108   93 3.85 2.320 18.61 1  1  4    1   \n",
       "Hornet 4 Drive    21.4 6   258  110 3.08 3.215 19.44 1  0  3    1   \n",
       "Hornet Sportabout 18.7 8   360  175 3.15 3.440 17.02 0  0  3    2   "
      ]
     },
     "metadata": {},
     "output_type": "display_data"
    },
    {
     "data": {
      "text/plain": [
       "      mpg             cyl             disp             hp       \n",
       " Min.   :10.40   Min.   :4.000   Min.   : 71.1   Min.   : 52.0  \n",
       " 1st Qu.:15.43   1st Qu.:4.000   1st Qu.:120.8   1st Qu.: 96.5  \n",
       " Median :19.20   Median :6.000   Median :196.3   Median :123.0  \n",
       " Mean   :20.09   Mean   :6.188   Mean   :230.7   Mean   :146.7  \n",
       " 3rd Qu.:22.80   3rd Qu.:8.000   3rd Qu.:326.0   3rd Qu.:180.0  \n",
       " Max.   :33.90   Max.   :8.000   Max.   :472.0   Max.   :335.0  \n",
       "      drat             wt             qsec             vs        \n",
       " Min.   :2.760   Min.   :1.513   Min.   :14.50   Min.   :0.0000  \n",
       " 1st Qu.:3.080   1st Qu.:2.581   1st Qu.:16.89   1st Qu.:0.0000  \n",
       " Median :3.695   Median :3.325   Median :17.71   Median :0.0000  \n",
       " Mean   :3.597   Mean   :3.217   Mean   :17.85   Mean   :0.4375  \n",
       " 3rd Qu.:3.920   3rd Qu.:3.610   3rd Qu.:18.90   3rd Qu.:1.0000  \n",
       " Max.   :4.930   Max.   :5.424   Max.   :22.90   Max.   :1.0000  \n",
       "       am              gear            carb      \n",
       " Min.   :0.0000   Min.   :3.000   Min.   :1.000  \n",
       " 1st Qu.:0.0000   1st Qu.:3.000   1st Qu.:2.000  \n",
       " Median :0.0000   Median :4.000   Median :2.000  \n",
       " Mean   :0.4062   Mean   :3.688   Mean   :2.812  \n",
       " 3rd Qu.:1.0000   3rd Qu.:4.000   3rd Qu.:4.000  \n",
       " Max.   :1.0000   Max.   :5.000   Max.   :8.000  "
      ]
     },
     "metadata": {},
     "output_type": "display_data"
    }
   ],
   "source": [
    "head(mtcars, n = 5)\n",
    "summary(mtcars)"
   ]
  },
  {
   "cell_type": "markdown",
   "metadata": {},
   "source": [
    "* Haz una copia del dataset y:\n",
    "    * Convierte la variables \"cyl\", \"gear\" y \"carb\" en factores\n",
    "    * Convierte las variables \"vs\" y \"am\" en lógicas\n",
    "    * Muestra solo los coches con una potencia (\"hp\") mayor a 100"
   ]
  },
  {
   "cell_type": "code",
   "execution_count": 7,
   "metadata": {
    "vscode": {
     "languageId": "r"
    }
   },
   "outputs": [
    {
     "name": "stdout",
     "output_type": "stream",
     "text": [
      "[1] \"El factor cyl:\"\n",
      " [1] 6 6 4 6 8 6 8 4 4 6 6 8 8 8 8 8 8 4 4 4 4 8 8 8 8 4 4 4 8 6 8 4\n",
      "Levels: 4 6 8\n",
      "[1] \"Los 5 primeros valors de vs:\"\n"
     ]
    },
    {
     "name": "stdout",
     "output_type": "stream",
     "text": [
      "[1] FALSE FALSE  TRUE  TRUE FALSE\n",
      "                     mpg cyl  disp  hp drat    wt  qsec    vs    am gear carb\n",
      "Mazda RX4           21.0   6 160.0 110 3.90 2.620 16.46 FALSE  TRUE    4    4\n",
      "Mazda RX4 Wag       21.0   6 160.0 110 3.90 2.875 17.02 FALSE  TRUE    4    4\n",
      "Hornet 4 Drive      21.4   6 258.0 110 3.08 3.215 19.44  TRUE FALSE    3    1\n",
      "Hornet Sportabout   18.7   8 360.0 175 3.15 3.440 17.02 FALSE FALSE    3    2\n",
      "Valiant             18.1   6 225.0 105 2.76 3.460 20.22  TRUE FALSE    3    1\n",
      "Duster 360          14.3   8 360.0 245 3.21 3.570 15.84 FALSE FALSE    3    4\n",
      "Merc 280            19.2   6 167.6 123 3.92 3.440 18.30  TRUE FALSE    4    4\n",
      "Merc 280C           17.8   6 167.6 123 3.92 3.440 18.90  TRUE FALSE    4    4\n",
      "Merc 450SE          16.4   8 275.8 180 3.07 4.070 17.40 FALSE FALSE    3    3\n",
      "Merc 450SL          17.3   8 275.8 180 3.07 3.730 17.60 FALSE FALSE    3    3\n",
      "Merc 450SLC         15.2   8 275.8 180 3.07 3.780 18.00 FALSE FALSE    3    3\n",
      "Cadillac Fleetwood  10.4   8 472.0 205 2.93 5.250 17.98 FALSE FALSE    3    4\n",
      "Lincoln Continental 10.4   8 460.0 215 3.00 5.424 17.82 FALSE FALSE    3    4\n",
      "Chrysler Imperial   14.7   8 440.0 230 3.23 5.345 17.42 FALSE FALSE    3    4\n",
      "Dodge Challenger    15.5   8 318.0 150 2.76 3.520 16.87 FALSE FALSE    3    2\n",
      "AMC Javelin         15.2   8 304.0 150 3.15 3.435 17.30 FALSE FALSE    3    2\n",
      "Camaro Z28          13.3   8 350.0 245 3.73 3.840 15.41 FALSE FALSE    3    4\n",
      "Pontiac Firebird    19.2   8 400.0 175 3.08 3.845 17.05 FALSE FALSE    3    2\n",
      "Lotus Europa        30.4   4  95.1 113 3.77 1.513 16.90  TRUE  TRUE    5    2\n",
      "Ford Pantera L      15.8   8 351.0 264 4.22 3.170 14.50 FALSE  TRUE    5    4\n",
      "Ferrari Dino        19.7   6 145.0 175 3.62 2.770 15.50 FALSE  TRUE    5    6\n",
      "Maserati Bora       15.0   8 301.0 335 3.54 3.570 14.60 FALSE  TRUE    5    8\n",
      "Volvo 142E          21.4   4 121.0 109 4.11 2.780 18.60  TRUE  TRUE    4    2\n"
     ]
    }
   ],
   "source": [
    "cmtcars <- mtcars\n",
    "cols <- c(\"cyl\", \"gear\", \"carb\")\n",
    "cmtcars[, cols[1]] <- as.factor(cmtcars[, cols[1]])\n",
    "cmtcars[, cols[2]] <- as.factor(cmtcars[, cols[2]])\n",
    "cmtcars[, cols[3]] <- as.factor(cmtcars[, cols[3]])\n",
    "print(\"El factor cyl:\")\n",
    "print(cmtcars[, cols[1]])\n",
    "cmtcars$vs <- as.logical(cmtcars$vs)\n",
    "cmtcars$am <- as.logical(cmtcars$am)\n",
    "print(\"Los 5 primeros valors de vs:\")\n",
    "print(cmtcars$vs[1:5])\n",
    "print(cmtcars[cmtcars$hp > 100, ])"
   ]
  },
  {
   "cell_type": "markdown",
   "metadata": {
    "vscode": {
     "languageId": "r"
    }
   },
   "source": [
    "* Con la copia:\n",
    "  * Crea un nuevo data frame llamado coches_seleccionados que incluya solo las columnas \"mpg\", \"cyl\", \"hp\" y \"qsec\" del dataset\n",
    "  * Calcula el resumen estadístico (media, mediana, desviación estándar, etc.) de la columna \"mpg\" (millas por galón) para todos los coches en el dataset\n",
    "  * Idem para \"cyl\" (número de cilindros)\n",
    "  * Calcula la cantidad total de coches para cada valor único en la columna \"cyl\" (número de cilindros)\n",
    "  * Encuentra el modelo de coche con la mayor potencia (\"hp\") y muestra su información completa\n",
    "  * Calcula el promedio de potencia de los coches con 8 cilindros"
   ]
  },
  {
   "cell_type": "code",
   "execution_count": 9,
   "metadata": {
    "vscode": {
     "languageId": "r"
    }
   },
   "outputs": [
    {
     "name": "stdout",
     "output_type": "stream",
     "text": [
      "                   mpg cyl  hp  qsec\n",
      "Mazda RX4         21.0   6 110 16.46\n",
      "Mazda RX4 Wag     21.0   6 110 17.02\n",
      "Datsun 710        22.8   4  93 18.61\n",
      "Hornet 4 Drive    21.4   6 110 19.44\n",
      "Hornet Sportabout 18.7   8 175 17.02\n"
     ]
    },
    {
     "data": {
      "text/plain": [
       "   Min. 1st Qu.  Median    Mean 3rd Qu.    Max. \n",
       "  10.40   15.43   19.20   20.09   22.80   33.90 "
      ]
     },
     "metadata": {},
     "output_type": "display_data"
    },
    {
     "data": {
      "text/plain": [
       "   Min. 1st Qu.  Median    Mean 3rd Qu.    Max. \n",
       "  4.000   4.000   6.000   6.188   8.000   8.000 "
      ]
     },
     "metadata": {},
     "output_type": "display_data"
    },
    {
     "name": "stdout",
     "output_type": "stream",
     "text": [
      "[1] \"La cantidad total de coches para cada cyl viene dado en el resumen anterior.\"\n",
      "              mpg cyl  hp qsec\n",
      "Maserati Bora  15   8 335 14.6\n",
      "[1] \"Promedio de potencia para coches con 8 cilindros:\"\n"
     ]
    },
    {
     "data": {
      "text/html": [
       "209.214285714286"
      ],
      "text/latex": [
       "209.214285714286"
      ],
      "text/markdown": [
       "209.214285714286"
      ],
      "text/plain": [
       "[1] 209.2143"
      ]
     },
     "metadata": {},
     "output_type": "display_data"
    }
   ],
   "source": [
    "coches_seleccionados <- cmtcars[, c(\"mpg\", \"cyl\", \"hp\", \"qsec\")]\n",
    "print(coches_seleccionados[1:5, ])\n",
    "summary(coches_seleccionados$mpg)\n",
    "summary(as.numeric(as.character(coches_seleccionados$cyl)))\n",
    "print(\n",
    "  \"La cantidad total de coches para cada cyl viene dado en el resumen anterior.\"\n",
    ")\n",
    "print(\n",
    "  coches_seleccionados[\n",
    "    coches_seleccionados$hp == max(coches_seleccionados$hp),\n",
    "  ]\n",
    ")\n",
    "print(\"Promedio de potencia para coches con 8 cilindros:\")\n",
    "mean(coches_seleccionados[coches_seleccionados$cyl == 8, \"hp\"])"
   ]
  },
  {
   "cell_type": "markdown",
   "metadata": {},
   "source": [
    "2) Usando el dataset `Cars93` del paquete `MASS` y el dataset `mtcars`:\n",
    "    * Agrega una columna al dataset de `mtcars` que contenga la marca y modelo de cada coche\n",
    "    * Combina los dos dataset por modelo y marca del coche solo para aquellos modelos presentes en ambos datasets. ¿Coinciden los demás valores?"
   ]
  },
  {
   "cell_type": "code",
   "execution_count": 40,
   "metadata": {
    "vscode": {
     "languageId": "r"
    }
   },
   "outputs": [
    {
     "data": {
      "text/html": [
       "<table class=\"dataframe\">\n",
       "<caption>A data.frame: 5 × 27</caption>\n",
       "<thead>\n",
       "\t<tr><th></th><th scope=col>Manufacturer</th><th scope=col>Model</th><th scope=col>Type</th><th scope=col>Min.Price</th><th scope=col>Price</th><th scope=col>Max.Price</th><th scope=col>MPG.city</th><th scope=col>MPG.highway</th><th scope=col>AirBags</th><th scope=col>DriveTrain</th><th scope=col>⋯</th><th scope=col>Passengers</th><th scope=col>Length</th><th scope=col>Wheelbase</th><th scope=col>Width</th><th scope=col>Turn.circle</th><th scope=col>Rear.seat.room</th><th scope=col>Luggage.room</th><th scope=col>Weight</th><th scope=col>Origin</th><th scope=col>Make</th></tr>\n",
       "\t<tr><th></th><th scope=col>&lt;fct&gt;</th><th scope=col>&lt;fct&gt;</th><th scope=col>&lt;fct&gt;</th><th scope=col>&lt;dbl&gt;</th><th scope=col>&lt;dbl&gt;</th><th scope=col>&lt;dbl&gt;</th><th scope=col>&lt;int&gt;</th><th scope=col>&lt;int&gt;</th><th scope=col>&lt;fct&gt;</th><th scope=col>&lt;fct&gt;</th><th scope=col>⋯</th><th scope=col>&lt;int&gt;</th><th scope=col>&lt;int&gt;</th><th scope=col>&lt;int&gt;</th><th scope=col>&lt;int&gt;</th><th scope=col>&lt;int&gt;</th><th scope=col>&lt;dbl&gt;</th><th scope=col>&lt;int&gt;</th><th scope=col>&lt;int&gt;</th><th scope=col>&lt;fct&gt;</th><th scope=col>&lt;fct&gt;</th></tr>\n",
       "</thead>\n",
       "<tbody>\n",
       "\t<tr><th scope=row>1</th><td>Acura</td><td>Integra</td><td>Small  </td><td>12.9</td><td>15.9</td><td>18.8</td><td>25</td><td>31</td><td>None              </td><td>Front</td><td>⋯</td><td>5</td><td>177</td><td>102</td><td>68</td><td>37</td><td>26.5</td><td>11</td><td>2705</td><td>non-USA</td><td>Acura Integra</td></tr>\n",
       "\t<tr><th scope=row>2</th><td>Acura</td><td>Legend </td><td>Midsize</td><td>29.2</td><td>33.9</td><td>38.7</td><td>18</td><td>25</td><td>Driver &amp; Passenger</td><td>Front</td><td>⋯</td><td>5</td><td>195</td><td>115</td><td>71</td><td>38</td><td>30.0</td><td>15</td><td>3560</td><td>non-USA</td><td>Acura Legend </td></tr>\n",
       "\t<tr><th scope=row>3</th><td>Audi </td><td>90     </td><td>Compact</td><td>25.9</td><td>29.1</td><td>32.3</td><td>20</td><td>26</td><td>Driver only       </td><td>Front</td><td>⋯</td><td>5</td><td>180</td><td>102</td><td>67</td><td>37</td><td>28.0</td><td>14</td><td>3375</td><td>non-USA</td><td>Audi 90      </td></tr>\n",
       "\t<tr><th scope=row>4</th><td>Audi </td><td><span style=white-space:pre-wrap>100    </span></td><td>Midsize</td><td>30.8</td><td>37.7</td><td>44.6</td><td>19</td><td>26</td><td>Driver &amp; Passenger</td><td>Front</td><td>⋯</td><td>6</td><td>193</td><td>106</td><td>70</td><td>37</td><td>31.0</td><td>17</td><td>3405</td><td>non-USA</td><td><span style=white-space:pre-wrap>Audi 100     </span></td></tr>\n",
       "\t<tr><th scope=row>5</th><td>BMW  </td><td>535i   </td><td>Midsize</td><td>23.7</td><td>30.0</td><td>36.2</td><td>22</td><td>30</td><td>Driver only       </td><td>Rear </td><td>⋯</td><td>4</td><td>186</td><td>109</td><td>69</td><td>39</td><td>27.0</td><td>13</td><td>3640</td><td>non-USA</td><td>BMW 535i     </td></tr>\n",
       "</tbody>\n",
       "</table>\n"
      ],
      "text/latex": [
       "A data.frame: 5 × 27\n",
       "\\begin{tabular}{r|lllllllllllllllllllll}\n",
       "  & Manufacturer & Model & Type & Min.Price & Price & Max.Price & MPG.city & MPG.highway & AirBags & DriveTrain & ⋯ & Passengers & Length & Wheelbase & Width & Turn.circle & Rear.seat.room & Luggage.room & Weight & Origin & Make\\\\\n",
       "  & <fct> & <fct> & <fct> & <dbl> & <dbl> & <dbl> & <int> & <int> & <fct> & <fct> & ⋯ & <int> & <int> & <int> & <int> & <int> & <dbl> & <int> & <int> & <fct> & <fct>\\\\\n",
       "\\hline\n",
       "\t1 & Acura & Integra & Small   & 12.9 & 15.9 & 18.8 & 25 & 31 & None               & Front & ⋯ & 5 & 177 & 102 & 68 & 37 & 26.5 & 11 & 2705 & non-USA & Acura Integra\\\\\n",
       "\t2 & Acura & Legend  & Midsize & 29.2 & 33.9 & 38.7 & 18 & 25 & Driver \\& Passenger & Front & ⋯ & 5 & 195 & 115 & 71 & 38 & 30.0 & 15 & 3560 & non-USA & Acura Legend \\\\\n",
       "\t3 & Audi  & 90      & Compact & 25.9 & 29.1 & 32.3 & 20 & 26 & Driver only        & Front & ⋯ & 5 & 180 & 102 & 67 & 37 & 28.0 & 14 & 3375 & non-USA & Audi 90      \\\\\n",
       "\t4 & Audi  & 100     & Midsize & 30.8 & 37.7 & 44.6 & 19 & 26 & Driver \\& Passenger & Front & ⋯ & 6 & 193 & 106 & 70 & 37 & 31.0 & 17 & 3405 & non-USA & Audi 100     \\\\\n",
       "\t5 & BMW   & 535i    & Midsize & 23.7 & 30.0 & 36.2 & 22 & 30 & Driver only        & Rear  & ⋯ & 4 & 186 & 109 & 69 & 39 & 27.0 & 13 & 3640 & non-USA & BMW 535i     \\\\\n",
       "\\end{tabular}\n"
      ],
      "text/markdown": [
       "\n",
       "A data.frame: 5 × 27\n",
       "\n",
       "| <!--/--> | Manufacturer &lt;fct&gt; | Model &lt;fct&gt; | Type &lt;fct&gt; | Min.Price &lt;dbl&gt; | Price &lt;dbl&gt; | Max.Price &lt;dbl&gt; | MPG.city &lt;int&gt; | MPG.highway &lt;int&gt; | AirBags &lt;fct&gt; | DriveTrain &lt;fct&gt; | ⋯ ⋯ | Passengers &lt;int&gt; | Length &lt;int&gt; | Wheelbase &lt;int&gt; | Width &lt;int&gt; | Turn.circle &lt;int&gt; | Rear.seat.room &lt;dbl&gt; | Luggage.room &lt;int&gt; | Weight &lt;int&gt; | Origin &lt;fct&gt; | Make &lt;fct&gt; |\n",
       "|---|---|---|---|---|---|---|---|---|---|---|---|---|---|---|---|---|---|---|---|---|---|\n",
       "| 1 | Acura | Integra | Small   | 12.9 | 15.9 | 18.8 | 25 | 31 | None               | Front | ⋯ | 5 | 177 | 102 | 68 | 37 | 26.5 | 11 | 2705 | non-USA | Acura Integra |\n",
       "| 2 | Acura | Legend  | Midsize | 29.2 | 33.9 | 38.7 | 18 | 25 | Driver &amp; Passenger | Front | ⋯ | 5 | 195 | 115 | 71 | 38 | 30.0 | 15 | 3560 | non-USA | Acura Legend  |\n",
       "| 3 | Audi  | 90      | Compact | 25.9 | 29.1 | 32.3 | 20 | 26 | Driver only        | Front | ⋯ | 5 | 180 | 102 | 67 | 37 | 28.0 | 14 | 3375 | non-USA | Audi 90       |\n",
       "| 4 | Audi  | 100     | Midsize | 30.8 | 37.7 | 44.6 | 19 | 26 | Driver &amp; Passenger | Front | ⋯ | 6 | 193 | 106 | 70 | 37 | 31.0 | 17 | 3405 | non-USA | Audi 100      |\n",
       "| 5 | BMW   | 535i    | Midsize | 23.7 | 30.0 | 36.2 | 22 | 30 | Driver only        | Rear  | ⋯ | 4 | 186 | 109 | 69 | 39 | 27.0 | 13 | 3640 | non-USA | BMW 535i      |\n",
       "\n"
      ],
      "text/plain": [
       "  Manufacturer Model   Type    Min.Price Price Max.Price MPG.city MPG.highway\n",
       "1 Acura        Integra Small   12.9      15.9  18.8      25       31         \n",
       "2 Acura        Legend  Midsize 29.2      33.9  38.7      18       25         \n",
       "3 Audi         90      Compact 25.9      29.1  32.3      20       26         \n",
       "4 Audi         100     Midsize 30.8      37.7  44.6      19       26         \n",
       "5 BMW          535i    Midsize 23.7      30.0  36.2      22       30         \n",
       "  AirBags            DriveTrain ⋯ Passengers Length Wheelbase Width Turn.circle\n",
       "1 None               Front      ⋯ 5          177    102       68    37         \n",
       "2 Driver & Passenger Front      ⋯ 5          195    115       71    38         \n",
       "3 Driver only        Front      ⋯ 5          180    102       67    37         \n",
       "4 Driver & Passenger Front      ⋯ 6          193    106       70    37         \n",
       "5 Driver only        Rear       ⋯ 4          186    109       69    39         \n",
       "  Rear.seat.room Luggage.room Weight Origin  Make         \n",
       "1 26.5           11           2705   non-USA Acura Integra\n",
       "2 30.0           15           3560   non-USA Acura Legend \n",
       "3 28.0           14           3375   non-USA Audi 90      \n",
       "4 31.0           17           3405   non-USA Audi 100     \n",
       "5 27.0           13           3640   non-USA BMW 535i     "
      ]
     },
     "metadata": {},
     "output_type": "display_data"
    },
    {
     "name": "stdout",
     "output_type": "stream",
     "text": [
      " [1] \"Manufacturer\"       \"Model\"              \"Type\"              \n",
      " [4] \"Min.Price\"          \"Price\"              \"Max.Price\"         \n",
      " [7] \"MPG.city\"           \"MPG.highway\"        \"AirBags\"           \n",
      "[10] \"DriveTrain\"         \"Cylinders\"          \"EngineSize\"        \n",
      "[13] \"Horsepower\"         \"RPM\"                \"Rev.per.mile\"      \n",
      "[16] \"Man.trans.avail\"    \"Fuel.tank.capacity\" \"Passengers\"        \n",
      "[19] \"Length\"             \"Wheelbase\"          \"Width\"             \n",
      "[22] \"Turn.circle\"        \"Rear.seat.room\"     \"Luggage.room\"      \n",
      "[25] \"Weight\"             \"Origin\"             \"Make\"              \n"
     ]
    },
    {
     "data": {
      "text/html": [
       "<table class=\"dataframe\">\n",
       "<caption>A data.frame: 5 × 11</caption>\n",
       "<thead>\n",
       "\t<tr><th></th><th scope=col>mpg</th><th scope=col>cyl</th><th scope=col>disp</th><th scope=col>hp</th><th scope=col>drat</th><th scope=col>wt</th><th scope=col>qsec</th><th scope=col>vs</th><th scope=col>am</th><th scope=col>gear</th><th scope=col>carb</th></tr>\n",
       "\t<tr><th></th><th scope=col>&lt;dbl&gt;</th><th scope=col>&lt;dbl&gt;</th><th scope=col>&lt;dbl&gt;</th><th scope=col>&lt;dbl&gt;</th><th scope=col>&lt;dbl&gt;</th><th scope=col>&lt;dbl&gt;</th><th scope=col>&lt;dbl&gt;</th><th scope=col>&lt;dbl&gt;</th><th scope=col>&lt;dbl&gt;</th><th scope=col>&lt;dbl&gt;</th><th scope=col>&lt;dbl&gt;</th></tr>\n",
       "</thead>\n",
       "<tbody>\n",
       "\t<tr><th scope=row>Mazda RX4</th><td>21.0</td><td>6</td><td>160</td><td>110</td><td>3.90</td><td>2.620</td><td>16.46</td><td>0</td><td>1</td><td>4</td><td>4</td></tr>\n",
       "\t<tr><th scope=row>Mazda RX4 Wag</th><td>21.0</td><td>6</td><td>160</td><td>110</td><td>3.90</td><td>2.875</td><td>17.02</td><td>0</td><td>1</td><td>4</td><td>4</td></tr>\n",
       "\t<tr><th scope=row>Datsun 710</th><td>22.8</td><td>4</td><td>108</td><td> 93</td><td>3.85</td><td>2.320</td><td>18.61</td><td>1</td><td>1</td><td>4</td><td>1</td></tr>\n",
       "\t<tr><th scope=row>Hornet 4 Drive</th><td>21.4</td><td>6</td><td>258</td><td>110</td><td>3.08</td><td>3.215</td><td>19.44</td><td>1</td><td>0</td><td>3</td><td>1</td></tr>\n",
       "\t<tr><th scope=row>Hornet Sportabout</th><td>18.7</td><td>8</td><td>360</td><td>175</td><td>3.15</td><td>3.440</td><td>17.02</td><td>0</td><td>0</td><td>3</td><td>2</td></tr>\n",
       "</tbody>\n",
       "</table>\n"
      ],
      "text/latex": [
       "A data.frame: 5 × 11\n",
       "\\begin{tabular}{r|lllllllllll}\n",
       "  & mpg & cyl & disp & hp & drat & wt & qsec & vs & am & gear & carb\\\\\n",
       "  & <dbl> & <dbl> & <dbl> & <dbl> & <dbl> & <dbl> & <dbl> & <dbl> & <dbl> & <dbl> & <dbl>\\\\\n",
       "\\hline\n",
       "\tMazda RX4 & 21.0 & 6 & 160 & 110 & 3.90 & 2.620 & 16.46 & 0 & 1 & 4 & 4\\\\\n",
       "\tMazda RX4 Wag & 21.0 & 6 & 160 & 110 & 3.90 & 2.875 & 17.02 & 0 & 1 & 4 & 4\\\\\n",
       "\tDatsun 710 & 22.8 & 4 & 108 &  93 & 3.85 & 2.320 & 18.61 & 1 & 1 & 4 & 1\\\\\n",
       "\tHornet 4 Drive & 21.4 & 6 & 258 & 110 & 3.08 & 3.215 & 19.44 & 1 & 0 & 3 & 1\\\\\n",
       "\tHornet Sportabout & 18.7 & 8 & 360 & 175 & 3.15 & 3.440 & 17.02 & 0 & 0 & 3 & 2\\\\\n",
       "\\end{tabular}\n"
      ],
      "text/markdown": [
       "\n",
       "A data.frame: 5 × 11\n",
       "\n",
       "| <!--/--> | mpg &lt;dbl&gt; | cyl &lt;dbl&gt; | disp &lt;dbl&gt; | hp &lt;dbl&gt; | drat &lt;dbl&gt; | wt &lt;dbl&gt; | qsec &lt;dbl&gt; | vs &lt;dbl&gt; | am &lt;dbl&gt; | gear &lt;dbl&gt; | carb &lt;dbl&gt; |\n",
       "|---|---|---|---|---|---|---|---|---|---|---|---|\n",
       "| Mazda RX4 | 21.0 | 6 | 160 | 110 | 3.90 | 2.620 | 16.46 | 0 | 1 | 4 | 4 |\n",
       "| Mazda RX4 Wag | 21.0 | 6 | 160 | 110 | 3.90 | 2.875 | 17.02 | 0 | 1 | 4 | 4 |\n",
       "| Datsun 710 | 22.8 | 4 | 108 |  93 | 3.85 | 2.320 | 18.61 | 1 | 1 | 4 | 1 |\n",
       "| Hornet 4 Drive | 21.4 | 6 | 258 | 110 | 3.08 | 3.215 | 19.44 | 1 | 0 | 3 | 1 |\n",
       "| Hornet Sportabout | 18.7 | 8 | 360 | 175 | 3.15 | 3.440 | 17.02 | 0 | 0 | 3 | 2 |\n",
       "\n"
      ],
      "text/plain": [
       "                  mpg  cyl disp hp  drat wt    qsec  vs am gear carb\n",
       "Mazda RX4         21.0 6   160  110 3.90 2.620 16.46 0  1  4    4   \n",
       "Mazda RX4 Wag     21.0 6   160  110 3.90 2.875 17.02 0  1  4    4   \n",
       "Datsun 710        22.8 4   108   93 3.85 2.320 18.61 1  1  4    1   \n",
       "Hornet 4 Drive    21.4 6   258  110 3.08 3.215 19.44 1  0  3    1   \n",
       "Hornet Sportabout 18.7 8   360  175 3.15 3.440 17.02 0  0  3    2   "
      ]
     },
     "metadata": {},
     "output_type": "display_data"
    }
   ],
   "source": [
    "library(MASS)\n",
    "head(Cars93, n = 5)\n",
    "print(names(Cars93))\n",
    "head(mtcars, n = 5)"
   ]
  },
  {
   "cell_type": "code",
   "execution_count": 41,
   "metadata": {
    "vscode": {
     "languageId": "r"
    }
   },
   "outputs": [
    {
     "name": "stdout",
     "output_type": "stream",
     "text": [
      "[1] \"Agregamos una columna 'Make' con la marca y modelo\"\n",
      "[1] \"Mergeamos ambos dataframes utilizando la columna 'Make'\"\n"
     ]
    },
    {
     "data": {
      "text/html": [
       "<table class=\"dataframe\">\n",
       "<caption>A data.frame: 4 × 38</caption>\n",
       "<thead>\n",
       "\t<tr><th></th><th scope=col>Make</th><th scope=col>mpg</th><th scope=col>cyl</th><th scope=col>disp</th><th scope=col>hp</th><th scope=col>drat</th><th scope=col>wt</th><th scope=col>qsec</th><th scope=col>vs</th><th scope=col>am</th><th scope=col>⋯</th><th scope=col>Fuel.tank.capacity</th><th scope=col>Passengers</th><th scope=col>Length</th><th scope=col>Wheelbase</th><th scope=col>Width</th><th scope=col>Turn.circle</th><th scope=col>Rear.seat.room</th><th scope=col>Luggage.room</th><th scope=col>Weight</th><th scope=col>Origin</th></tr>\n",
       "\t<tr><th></th><th scope=col>&lt;chr&gt;</th><th scope=col>&lt;dbl&gt;</th><th scope=col>&lt;dbl&gt;</th><th scope=col>&lt;dbl&gt;</th><th scope=col>&lt;dbl&gt;</th><th scope=col>&lt;dbl&gt;</th><th scope=col>&lt;dbl&gt;</th><th scope=col>&lt;dbl&gt;</th><th scope=col>&lt;dbl&gt;</th><th scope=col>&lt;dbl&gt;</th><th scope=col>⋯</th><th scope=col>&lt;dbl&gt;</th><th scope=col>&lt;int&gt;</th><th scope=col>&lt;int&gt;</th><th scope=col>&lt;int&gt;</th><th scope=col>&lt;int&gt;</th><th scope=col>&lt;int&gt;</th><th scope=col>&lt;dbl&gt;</th><th scope=col>&lt;int&gt;</th><th scope=col>&lt;int&gt;</th><th scope=col>&lt;fct&gt;</th></tr>\n",
       "</thead>\n",
       "<tbody>\n",
       "\t<tr><th scope=row>1</th><td>Chrysler Imperial  </td><td>14.7</td><td>8</td><td>440.0</td><td>230</td><td>3.23</td><td>5.345</td><td>17.42</td><td>0</td><td>0</td><td>⋯</td><td>16.0</td><td>6</td><td>203</td><td>110</td><td>69</td><td>44</td><td>36</td><td>17</td><td>3570</td><td>USA    </td></tr>\n",
       "\t<tr><th scope=row>2</th><td>Honda Civic        </td><td>30.4</td><td>4</td><td> 75.7</td><td> 52</td><td>4.93</td><td>1.615</td><td>18.52</td><td>1</td><td>1</td><td>⋯</td><td>11.9</td><td>4</td><td>173</td><td>103</td><td>67</td><td>36</td><td>28</td><td>12</td><td>2350</td><td>non-USA</td></tr>\n",
       "\t<tr><th scope=row>3</th><td>Lincoln Continental</td><td>10.4</td><td>8</td><td>460.0</td><td>215</td><td>3.00</td><td>5.424</td><td>17.82</td><td>0</td><td>0</td><td>⋯</td><td>18.4</td><td>6</td><td>205</td><td>109</td><td>73</td><td>42</td><td>30</td><td>19</td><td>3695</td><td>USA    </td></tr>\n",
       "\t<tr><th scope=row>4</th><td>Pontiac Firebird   </td><td>19.2</td><td>8</td><td>400.0</td><td>175</td><td>3.08</td><td>3.845</td><td>17.05</td><td>0</td><td>0</td><td>⋯</td><td>15.5</td><td>4</td><td>196</td><td>101</td><td>75</td><td>43</td><td>25</td><td>13</td><td>3240</td><td>USA    </td></tr>\n",
       "</tbody>\n",
       "</table>\n"
      ],
      "text/latex": [
       "A data.frame: 4 × 38\n",
       "\\begin{tabular}{r|lllllllllllllllllllll}\n",
       "  & Make & mpg & cyl & disp & hp & drat & wt & qsec & vs & am & ⋯ & Fuel.tank.capacity & Passengers & Length & Wheelbase & Width & Turn.circle & Rear.seat.room & Luggage.room & Weight & Origin\\\\\n",
       "  & <chr> & <dbl> & <dbl> & <dbl> & <dbl> & <dbl> & <dbl> & <dbl> & <dbl> & <dbl> & ⋯ & <dbl> & <int> & <int> & <int> & <int> & <int> & <dbl> & <int> & <int> & <fct>\\\\\n",
       "\\hline\n",
       "\t1 & Chrysler Imperial   & 14.7 & 8 & 440.0 & 230 & 3.23 & 5.345 & 17.42 & 0 & 0 & ⋯ & 16.0 & 6 & 203 & 110 & 69 & 44 & 36 & 17 & 3570 & USA    \\\\\n",
       "\t2 & Honda Civic         & 30.4 & 4 &  75.7 &  52 & 4.93 & 1.615 & 18.52 & 1 & 1 & ⋯ & 11.9 & 4 & 173 & 103 & 67 & 36 & 28 & 12 & 2350 & non-USA\\\\\n",
       "\t3 & Lincoln Continental & 10.4 & 8 & 460.0 & 215 & 3.00 & 5.424 & 17.82 & 0 & 0 & ⋯ & 18.4 & 6 & 205 & 109 & 73 & 42 & 30 & 19 & 3695 & USA    \\\\\n",
       "\t4 & Pontiac Firebird    & 19.2 & 8 & 400.0 & 175 & 3.08 & 3.845 & 17.05 & 0 & 0 & ⋯ & 15.5 & 4 & 196 & 101 & 75 & 43 & 25 & 13 & 3240 & USA    \\\\\n",
       "\\end{tabular}\n"
      ],
      "text/markdown": [
       "\n",
       "A data.frame: 4 × 38\n",
       "\n",
       "| <!--/--> | Make &lt;chr&gt; | mpg &lt;dbl&gt; | cyl &lt;dbl&gt; | disp &lt;dbl&gt; | hp &lt;dbl&gt; | drat &lt;dbl&gt; | wt &lt;dbl&gt; | qsec &lt;dbl&gt; | vs &lt;dbl&gt; | am &lt;dbl&gt; | ⋯ ⋯ | Fuel.tank.capacity &lt;dbl&gt; | Passengers &lt;int&gt; | Length &lt;int&gt; | Wheelbase &lt;int&gt; | Width &lt;int&gt; | Turn.circle &lt;int&gt; | Rear.seat.room &lt;dbl&gt; | Luggage.room &lt;int&gt; | Weight &lt;int&gt; | Origin &lt;fct&gt; |\n",
       "|---|---|---|---|---|---|---|---|---|---|---|---|---|---|---|---|---|---|---|---|---|---|\n",
       "| 1 | Chrysler Imperial   | 14.7 | 8 | 440.0 | 230 | 3.23 | 5.345 | 17.42 | 0 | 0 | ⋯ | 16.0 | 6 | 203 | 110 | 69 | 44 | 36 | 17 | 3570 | USA     |\n",
       "| 2 | Honda Civic         | 30.4 | 4 |  75.7 |  52 | 4.93 | 1.615 | 18.52 | 1 | 1 | ⋯ | 11.9 | 4 | 173 | 103 | 67 | 36 | 28 | 12 | 2350 | non-USA |\n",
       "| 3 | Lincoln Continental | 10.4 | 8 | 460.0 | 215 | 3.00 | 5.424 | 17.82 | 0 | 0 | ⋯ | 18.4 | 6 | 205 | 109 | 73 | 42 | 30 | 19 | 3695 | USA     |\n",
       "| 4 | Pontiac Firebird    | 19.2 | 8 | 400.0 | 175 | 3.08 | 3.845 | 17.05 | 0 | 0 | ⋯ | 15.5 | 4 | 196 | 101 | 75 | 43 | 25 | 13 | 3240 | USA     |\n",
       "\n"
      ],
      "text/plain": [
       "  Make                mpg  cyl disp  hp  drat wt    qsec  vs am ⋯\n",
       "1 Chrysler Imperial   14.7 8   440.0 230 3.23 5.345 17.42 0  0  ⋯\n",
       "2 Honda Civic         30.4 4    75.7  52 4.93 1.615 18.52 1  1  ⋯\n",
       "3 Lincoln Continental 10.4 8   460.0 215 3.00 5.424 17.82 0  0  ⋯\n",
       "4 Pontiac Firebird    19.2 8   400.0 175 3.08 3.845 17.05 0  0  ⋯\n",
       "  Fuel.tank.capacity Passengers Length Wheelbase Width Turn.circle\n",
       "1 16.0               6          203    110       69    44         \n",
       "2 11.9               4          173    103       67    36         \n",
       "3 18.4               6          205    109       73    42         \n",
       "4 15.5               4          196    101       75    43         \n",
       "  Rear.seat.room Luggage.room Weight Origin \n",
       "1 36             17           3570   USA    \n",
       "2 28             12           2350   non-USA\n",
       "3 30             19           3695   USA    \n",
       "4 25             13           3240   USA    "
      ]
     },
     "metadata": {},
     "output_type": "display_data"
    },
    {
     "data": {
      "text/html": [
       "<table class=\"dataframe\">\n",
       "<caption>A data.frame: 4 × 10</caption>\n",
       "<thead>\n",
       "\t<tr><th scope=col>Make</th><th scope=col>cyl</th><th scope=col>Cylinders</th><th scope=col>Horsepower</th><th scope=col>hp</th><th scope=col>wt</th><th scope=col>Weight</th><th scope=col>mpg</th><th scope=col>MPG.city</th><th scope=col>MPG.highway</th></tr>\n",
       "\t<tr><th scope=col>&lt;chr&gt;</th><th scope=col>&lt;dbl&gt;</th><th scope=col>&lt;fct&gt;</th><th scope=col>&lt;int&gt;</th><th scope=col>&lt;dbl&gt;</th><th scope=col>&lt;dbl&gt;</th><th scope=col>&lt;int&gt;</th><th scope=col>&lt;dbl&gt;</th><th scope=col>&lt;int&gt;</th><th scope=col>&lt;int&gt;</th></tr>\n",
       "</thead>\n",
       "<tbody>\n",
       "\t<tr><td>Chrysler Imperial  </td><td>8</td><td>6</td><td>147</td><td>230</td><td>5.345</td><td>3570</td><td>14.7</td><td>20</td><td>26</td></tr>\n",
       "\t<tr><td>Honda Civic        </td><td>4</td><td>4</td><td>102</td><td> 52</td><td>1.615</td><td>2350</td><td>30.4</td><td>42</td><td>46</td></tr>\n",
       "\t<tr><td>Lincoln Continental</td><td>8</td><td>6</td><td>160</td><td>215</td><td>5.424</td><td>3695</td><td>10.4</td><td>17</td><td>26</td></tr>\n",
       "\t<tr><td>Pontiac Firebird   </td><td>8</td><td>6</td><td>160</td><td>175</td><td>3.845</td><td>3240</td><td>19.2</td><td>19</td><td>28</td></tr>\n",
       "</tbody>\n",
       "</table>\n"
      ],
      "text/latex": [
       "A data.frame: 4 × 10\n",
       "\\begin{tabular}{llllllllll}\n",
       " Make & cyl & Cylinders & Horsepower & hp & wt & Weight & mpg & MPG.city & MPG.highway\\\\\n",
       " <chr> & <dbl> & <fct> & <int> & <dbl> & <dbl> & <int> & <dbl> & <int> & <int>\\\\\n",
       "\\hline\n",
       "\t Chrysler Imperial   & 8 & 6 & 147 & 230 & 5.345 & 3570 & 14.7 & 20 & 26\\\\\n",
       "\t Honda Civic         & 4 & 4 & 102 &  52 & 1.615 & 2350 & 30.4 & 42 & 46\\\\\n",
       "\t Lincoln Continental & 8 & 6 & 160 & 215 & 5.424 & 3695 & 10.4 & 17 & 26\\\\\n",
       "\t Pontiac Firebird    & 8 & 6 & 160 & 175 & 3.845 & 3240 & 19.2 & 19 & 28\\\\\n",
       "\\end{tabular}\n"
      ],
      "text/markdown": [
       "\n",
       "A data.frame: 4 × 10\n",
       "\n",
       "| Make &lt;chr&gt; | cyl &lt;dbl&gt; | Cylinders &lt;fct&gt; | Horsepower &lt;int&gt; | hp &lt;dbl&gt; | wt &lt;dbl&gt; | Weight &lt;int&gt; | mpg &lt;dbl&gt; | MPG.city &lt;int&gt; | MPG.highway &lt;int&gt; |\n",
       "|---|---|---|---|---|---|---|---|---|---|\n",
       "| Chrysler Imperial   | 8 | 6 | 147 | 230 | 5.345 | 3570 | 14.7 | 20 | 26 |\n",
       "| Honda Civic         | 4 | 4 | 102 |  52 | 1.615 | 2350 | 30.4 | 42 | 46 |\n",
       "| Lincoln Continental | 8 | 6 | 160 | 215 | 5.424 | 3695 | 10.4 | 17 | 26 |\n",
       "| Pontiac Firebird    | 8 | 6 | 160 | 175 | 3.845 | 3240 | 19.2 | 19 | 28 |\n",
       "\n"
      ],
      "text/plain": [
       "  Make                cyl Cylinders Horsepower hp  wt    Weight mpg  MPG.city\n",
       "1 Chrysler Imperial   8   6         147        230 5.345 3570   14.7 20      \n",
       "2 Honda Civic         4   4         102         52 1.615 2350   30.4 42      \n",
       "3 Lincoln Continental 8   6         160        215 5.424 3695   10.4 17      \n",
       "4 Pontiac Firebird    8   6         160        175 3.845 3240   19.2 19      \n",
       "  MPG.highway\n",
       "1 26         \n",
       "2 46         \n",
       "3 26         \n",
       "4 28         "
      ]
     },
     "metadata": {},
     "output_type": "display_data"
    }
   ],
   "source": [
    "cpcars93 <- Cars93\n",
    "cmtcars <- mtcars\n",
    "print(\"Agregamos una columna 'Make' con la marca y modelo\")\n",
    "cmtcars[, \"Make\"] <- row.names(cmtcars)\n",
    "print(\"Mergeamos ambos dataframes utilizando la columna 'Make'\")\n",
    "merged <- merge(cmtcars, cpcars93, by = \"Make\", all = FALSE)\n",
    "head(merged, n = 5)\n",
    "cols <- c(\n",
    "  \"Make\",\n",
    "  \"cyl\", \"Cylinders\", \"Horsepower\", \"hp\",\n",
    "  \"wt\", \"Weight\", \"mpg\", \"MPG.city\", \"MPG.highway\"\n",
    ")\n",
    "merged[, cols]"
   ]
  },
  {
   "cell_type": "markdown",
   "metadata": {},
   "source": [
    "__Respuesta__: _Los valores no coinciden pese a estar en las mismas dimensiones (excepto wt que está en 1000 libras y, por ello, para comparar habría que multiplicar-lo por 1000). \\\n",
    "Una posible explicación es que las medidas se generaron en diferentes años (mtcars fue del 1974 y Cars93 de 1993)._"
   ]
  },
  {
   "cell_type": "code",
   "execution_count": 42,
   "metadata": {
    "vscode": {
     "languageId": "r"
    }
   },
   "outputs": [
    {
     "name": "stdout",
     "output_type": "stream",
     "text": [
      "mtcars                package:datasets                 R Documentation\n",
      "\n",
      "_\bM_\bo_\bt_\bo_\br _\bT_\br_\be_\bn_\bd _\bC_\ba_\br _\bR_\bo_\ba_\bd _\bT_\be_\bs_\bt_\bs\n",
      "\n",
      "_\bD_\be_\bs_\bc_\br_\bi_\bp_\bt_\bi_\bo_\bn:\n",
      "\n",
      "     The data was extracted from the 1974 _Motor Trend_ US magazine,\n",
      "     and comprises fuel consumption and 10 aspects of automobile design\n",
      "     and performance for 32 automobiles (1973-74 models).\n",
      "\n",
      "_\bU_\bs_\ba_\bg_\be:\n",
      "\n",
      "     mtcars\n",
      "     \n",
      "_\bF_\bo_\br_\bm_\ba_\bt:\n",
      "\n",
      "     A data frame with 32 observations on 11 (numeric) variables.\n",
      "\n",
      "       [, 1]  ‘mpg’   Miles/(US) gallon                        \n",
      "       [, 2]  ‘cyl’   Number of cylinders                      \n",
      "       [, 3]  ‘disp’  Displacement (cu.in.)                    \n",
      "       [, 4]  ‘hp’    Gross horsepower                         \n",
      "       [, 5]  ‘drat’  Rear axle ratio                          \n",
      "       [, 6]  ‘wt’    Weight (1000 lbs)                        \n",
      "       [, 7]  ‘qsec’  1/4 mile time                            \n",
      "       [, 8]  ‘vs’    Engine (0 = V-shaped, 1 = straight)      \n",
      "       [, 9]  ‘am’    Transmission (0 = automatic, 1 = manual) \n",
      "       [,10]  ‘gear’  Number of forward gears                  \n",
      "       [,11]  ‘carb’  Number of carburetors                    \n",
      "      \n",
      "_\bN_\bo_\bt_\be:\n",
      "\n",
      "     Henderson and Velleman (1981) comment in a footnote to Table 1:\n",
      "     ‘Hocking [original transcriber]'s noncrucial coding of the Mazda's\n",
      "     rotary engine as a straight six-cylinder engine and the Porsche's\n",
      "     flat engine as a V engine, as well as the inclusion of the diesel\n",
      "     Mercedes 240D, have been retained to enable direct comparisons to\n",
      "     be made with previous analyses.’\n",
      "\n",
      "_\bS_\bo_\bu_\br_\bc_\be:\n",
      "\n",
      "     Henderson and Velleman (1981), Building multiple regression models\n",
      "     interactively.  _Biometrics_, *37*, 391-411.\n",
      "\n",
      "_\bE_\bx_\ba_\bm_\bp_\bl_\be_\bs:\n",
      "\n",
      "     require(graphics)\n",
      "     pairs(mtcars, main = \"mtcars data\", gap = 1/4)\n",
      "     coplot(mpg ~ disp | as.factor(cyl), data = mtcars,\n",
      "            panel = panel.smooth, rows = 1)\n",
      "     ## possibly more meaningful, e.g., for summary() or bivariate plots:\n",
      "     mtcars2 <- within(mtcars, {\n",
      "        vs <- factor(vs, labels = c(\"V\", \"S\"))\n",
      "        am <- factor(am, labels = c(\"automatic\", \"manual\"))\n",
      "        cyl  <- ordered(cyl)\n",
      "        gear <- ordered(gear)\n",
      "        carb <- ordered(carb)\n",
      "     })\n",
      "     summary(mtcars2)\n",
      "     "
     ]
    }
   ],
   "source": [
    "?mtcars"
   ]
  },
  {
   "cell_type": "code",
   "execution_count": 43,
   "metadata": {
    "vscode": {
     "languageId": "r"
    }
   },
   "outputs": [
    {
     "name": "stdout",
     "output_type": "stream",
     "text": [
      "Cars93                  package:MASS                   R Documentation\n",
      "\n",
      "_\bD_\ba_\bt_\ba _\bf_\br_\bo_\bm _\b9_\b3 _\bC_\ba_\br_\bs _\bo_\bn _\bS_\ba_\bl_\be _\bi_\bn _\bt_\bh_\be _\bU_\bS_\bA _\bi_\bn _\b1_\b9_\b9_\b3\n",
      "\n",
      "_\bD_\be_\bs_\bc_\br_\bi_\bp_\bt_\bi_\bo_\bn:\n",
      "\n",
      "     The ‘Cars93’ data frame has 93 rows and 27 columns.\n",
      "\n",
      "_\bU_\bs_\ba_\bg_\be:\n",
      "\n",
      "     Cars93\n",
      "     \n",
      "_\bF_\bo_\br_\bm_\ba_\bt:\n",
      "\n",
      "     This data frame contains the following columns:\n",
      "\n",
      "     ‘Manufacturer’ Manufacturer.\n",
      "\n",
      "     ‘Model’ Model.\n",
      "\n",
      "     ‘Type’ Type: a factor with levels ‘\"Small\"’, ‘\"Sporty\"’,\n",
      "          ‘\"Compact\"’, ‘\"Midsize\"’, ‘\"Large\"’ and ‘\"Van\"’.\n",
      "\n",
      "     ‘Min.Price’ Minimum Price (in $1,000): price for a basic version.\n",
      "\n",
      "     ‘Price’ Midrange Price (in $1,000): average of ‘Min.Price’ and\n",
      "          ‘Max.Price’.\n",
      "\n",
      "     ‘Max.Price’ Maximum Price (in $1,000): price for “a premium\n",
      "          version”.\n",
      "\n",
      "     ‘MPG.city’ City MPG (miles per US gallon by EPA rating).\n",
      "\n",
      "     ‘MPG.highway’ Highway MPG.\n",
      "\n",
      "     ‘AirBags’ Air Bags standard. Factor: none, driver only, or driver\n",
      "          & passenger.\n",
      "\n",
      "     ‘DriveTrain’ Drive train type: rear wheel, front wheel or 4WD;\n",
      "          (factor).\n",
      "\n",
      "     ‘Cylinders’ Number of cylinders (missing for Mazda RX-7, which has\n",
      "          a rotary engine).\n",
      "\n",
      "     ‘EngineSize’ Engine size (litres).\n",
      "\n",
      "     ‘Horsepower’ Horsepower (maximum).\n",
      "\n",
      "     ‘RPM’ RPM (revs per minute at maximum horsepower).\n",
      "\n",
      "     ‘Rev.per.mile’ Engine revolutions per mile (in highest gear).\n",
      "\n",
      "     ‘Man.trans.avail’ Is a manual transmission version available? (yes\n",
      "          or no, Factor).\n",
      "\n",
      "     ‘Fuel.tank.capacity’ Fuel tank capacity (US gallons).\n",
      "\n",
      "     ‘Passengers’ Passenger capacity (persons)\n",
      "\n",
      "     ‘Length’ Length (inches).\n",
      "\n",
      "     ‘Wheelbase’ Wheelbase (inches).\n",
      "\n",
      "     ‘Width’ Width (inches).\n",
      "\n",
      "     ‘Turn.circle’ U-turn space (feet).\n",
      "\n",
      "     ‘Rear.seat.room’ Rear seat room (inches) (missing for 2-seater\n",
      "          vehicles).\n",
      "\n",
      "     ‘Luggage.room’ Luggage capacity (cubic feet) (missing for vans).\n",
      "\n",
      "     ‘Weight’ Weight (pounds).\n",
      "\n",
      "     ‘Origin’ Of non-USA or USA company origins? (factor).\n",
      "\n",
      "     ‘Make’ Combination of Manufacturer and Model (character).\n",
      "\n",
      "_\bD_\be_\bt_\ba_\bi_\bl_\bs:\n",
      "\n",
      "     Cars were selected at random from among 1993 passenger car models\n",
      "     that were listed in both the _Consumer Reports_ issue and the\n",
      "     _PACE Buying Guide_.  Pickup trucks and Sport/Utility vehicles\n",
      "     were eliminated due to incomplete information in the _Consumer\n",
      "     Reports_ source.  Duplicate models (e.g., Dodge Shadow and\n",
      "     Plymouth Sundance) were listed at most once.\n",
      "\n",
      "     Further description can be found in Lock (1993).\n",
      "\n",
      "_\bS_\bo_\bu_\br_\bc_\be:\n",
      "\n",
      "     Lock, R. H. (1993) 1993 New Car Data.  _Journal of Statistics\n",
      "     Education_ *1*(1).  doi:10.1080/10691898.1993.11910459\n",
      "     <https://doi.org/10.1080/10691898.1993.11910459>\n",
      "\n",
      "_\bR_\be_\bf_\be_\br_\be_\bn_\bc_\be_\bs:\n",
      "\n",
      "     Venables, W. N. and Ripley, B. D. (2002) _Modern Applied\n",
      "     Statistics with S-PLUS._ Fourth Edition. Springer.\n"
     ]
    }
   ],
   "source": [
    "?Cars93"
   ]
  },
  {
   "cell_type": "markdown",
   "metadata": {},
   "source": [
    "3) Supongamos que tienes dos dataframes con información sobre estudiantes de dos cursos diferentes. Cada data frame contiene tres columnas: \"Nombre\", \"Edad\" y \"Promedio\".\n",
    "<pre>\n",
    "curso_a <- data.frame(\n",
    "    Nombre = c(\"Juan\", \"María\", \"Carlos\"),\n",
    "    Edad = c(20, 22, 21),\n",
    "    Promedio = c(85, 92, 78))\n",
    "</pre><pre>\n",
    "curso_b <- data.frame(\n",
    "       Nombre = c(\"Ana\", \"Luis\", \"Sofía\", \"Lourdes\"),\n",
    "       Edad = c(19, 23, 20, 21),\n",
    "       Promedio = c(88, 90, 85, 80))\n",
    "</pre>\n",
    "* Combina los dos dataframes en uno solo llamado todos_los_estudiantes\n",
    "* Agrega una nueva columna llamada \"Curso\" al dataframe todos_los_estudiantes que indicar a qué curso pertenece cada estudiante (\"A\" o \"B\")"
   ]
  },
  {
   "cell_type": "code",
   "execution_count": 5,
   "metadata": {
    "vscode": {
     "languageId": "r"
    }
   },
   "outputs": [
    {
     "data": {
      "text/html": [
       "<table class=\"dataframe\">\n",
       "<caption>A data.frame: 7 × 3</caption>\n",
       "<thead>\n",
       "\t<tr><th scope=col>Nombre</th><th scope=col>Edad</th><th scope=col>Promedio</th></tr>\n",
       "\t<tr><th scope=col>&lt;chr&gt;</th><th scope=col>&lt;dbl&gt;</th><th scope=col>&lt;dbl&gt;</th></tr>\n",
       "</thead>\n",
       "<tbody>\n",
       "\t<tr><td>Juan   </td><td>20</td><td>85</td></tr>\n",
       "\t<tr><td>María  </td><td>22</td><td>92</td></tr>\n",
       "\t<tr><td>Carlos </td><td>21</td><td>78</td></tr>\n",
       "\t<tr><td>Ana    </td><td>19</td><td>88</td></tr>\n",
       "\t<tr><td>Luis   </td><td>23</td><td>90</td></tr>\n",
       "\t<tr><td>Sofía  </td><td>20</td><td>85</td></tr>\n",
       "\t<tr><td>Lourdes</td><td>21</td><td>80</td></tr>\n",
       "</tbody>\n",
       "</table>\n"
      ],
      "text/latex": [
       "A data.frame: 7 × 3\n",
       "\\begin{tabular}{lll}\n",
       " Nombre & Edad & Promedio\\\\\n",
       " <chr> & <dbl> & <dbl>\\\\\n",
       "\\hline\n",
       "\t Juan    & 20 & 85\\\\\n",
       "\t María   & 22 & 92\\\\\n",
       "\t Carlos  & 21 & 78\\\\\n",
       "\t Ana     & 19 & 88\\\\\n",
       "\t Luis    & 23 & 90\\\\\n",
       "\t Sofía   & 20 & 85\\\\\n",
       "\t Lourdes & 21 & 80\\\\\n",
       "\\end{tabular}\n"
      ],
      "text/markdown": [
       "\n",
       "A data.frame: 7 × 3\n",
       "\n",
       "| Nombre &lt;chr&gt; | Edad &lt;dbl&gt; | Promedio &lt;dbl&gt; |\n",
       "|---|---|---|\n",
       "| Juan    | 20 | 85 |\n",
       "| María   | 22 | 92 |\n",
       "| Carlos  | 21 | 78 |\n",
       "| Ana     | 19 | 88 |\n",
       "| Luis    | 23 | 90 |\n",
       "| Sofía   | 20 | 85 |\n",
       "| Lourdes | 21 | 80 |\n",
       "\n"
      ],
      "text/plain": [
       "  Nombre  Edad Promedio\n",
       "1 Juan    20   85      \n",
       "2 María   22   92      \n",
       "3 Carlos  21   78      \n",
       "4 Ana     19   88      \n",
       "5 Luis    23   90      \n",
       "6 Sofía   20   85      \n",
       "7 Lourdes 21   80      "
      ]
     },
     "metadata": {},
     "output_type": "display_data"
    },
    {
     "data": {
      "text/html": [
       "<table class=\"dataframe\">\n",
       "<caption>A data.frame: 7 × 4</caption>\n",
       "<thead>\n",
       "\t<tr><th scope=col>Nombre</th><th scope=col>Edad</th><th scope=col>Promedio</th><th scope=col>Curso</th></tr>\n",
       "\t<tr><th scope=col>&lt;chr&gt;</th><th scope=col>&lt;dbl&gt;</th><th scope=col>&lt;dbl&gt;</th><th scope=col>&lt;chr&gt;</th></tr>\n",
       "</thead>\n",
       "<tbody>\n",
       "\t<tr><td>Juan   </td><td>20</td><td>85</td><td>A</td></tr>\n",
       "\t<tr><td>María  </td><td>22</td><td>92</td><td>A</td></tr>\n",
       "\t<tr><td>Carlos </td><td>21</td><td>78</td><td>A</td></tr>\n",
       "\t<tr><td>Ana    </td><td>19</td><td>88</td><td>B</td></tr>\n",
       "\t<tr><td>Luis   </td><td>23</td><td>90</td><td>B</td></tr>\n",
       "\t<tr><td>Sofía  </td><td>20</td><td>85</td><td>B</td></tr>\n",
       "\t<tr><td>Lourdes</td><td>21</td><td>80</td><td>B</td></tr>\n",
       "</tbody>\n",
       "</table>\n"
      ],
      "text/latex": [
       "A data.frame: 7 × 4\n",
       "\\begin{tabular}{llll}\n",
       " Nombre & Edad & Promedio & Curso\\\\\n",
       " <chr> & <dbl> & <dbl> & <chr>\\\\\n",
       "\\hline\n",
       "\t Juan    & 20 & 85 & A\\\\\n",
       "\t María   & 22 & 92 & A\\\\\n",
       "\t Carlos  & 21 & 78 & A\\\\\n",
       "\t Ana     & 19 & 88 & B\\\\\n",
       "\t Luis    & 23 & 90 & B\\\\\n",
       "\t Sofía   & 20 & 85 & B\\\\\n",
       "\t Lourdes & 21 & 80 & B\\\\\n",
       "\\end{tabular}\n"
      ],
      "text/markdown": [
       "\n",
       "A data.frame: 7 × 4\n",
       "\n",
       "| Nombre &lt;chr&gt; | Edad &lt;dbl&gt; | Promedio &lt;dbl&gt; | Curso &lt;chr&gt; |\n",
       "|---|---|---|---|\n",
       "| Juan    | 20 | 85 | A |\n",
       "| María   | 22 | 92 | A |\n",
       "| Carlos  | 21 | 78 | A |\n",
       "| Ana     | 19 | 88 | B |\n",
       "| Luis    | 23 | 90 | B |\n",
       "| Sofía   | 20 | 85 | B |\n",
       "| Lourdes | 21 | 80 | B |\n",
       "\n"
      ],
      "text/plain": [
       "  Nombre  Edad Promedio Curso\n",
       "1 Juan    20   85       A    \n",
       "2 María   22   92       A    \n",
       "3 Carlos  21   78       A    \n",
       "4 Ana     19   88       B    \n",
       "5 Luis    23   90       B    \n",
       "6 Sofía   20   85       B    \n",
       "7 Lourdes 21   80       B    "
      ]
     },
     "metadata": {},
     "output_type": "display_data"
    }
   ],
   "source": [
    "curso_a <- data.frame(\n",
    "  Nombre = c(\"Juan\", \"María\", \"Carlos\"),\n",
    "  Edad = c(20, 22, 21),\n",
    "  Promedio = c(85, 92, 78)\n",
    ")\n",
    "curso_b <- data.frame(\n",
    "  Nombre = c(\"Ana\", \"Luis\", \"Sofía\", \"Lourdes\"),\n",
    "  Edad = c(19, 23, 20, 21),\n",
    "  Promedio = c(88, 90, 85, 80)\n",
    ")\n",
    "todos_los_estudiantes <- rbind(curso_a, curso_b)\n",
    "todos_los_estudiantes\n",
    "todos_los_estudiantes <- cbind(\n",
    "  todos_los_estudiantes,\n",
    "  Curso = c(rep(\"A\", nrow(curso_a)), rep(\"B\", nrow(curso_b)))\n",
    ")\n",
    "todos_los_estudiantes"
   ]
  }
 ],
 "metadata": {
  "kernelspec": {
   "display_name": "R",
   "language": "R",
   "name": "ir"
  },
  "language_info": {
   "codemirror_mode": "r",
   "file_extension": ".r",
   "mimetype": "text/x-r-source",
   "name": "R",
   "pygments_lexer": "r",
   "version": "4.4.1"
  }
 },
 "nbformat": 4,
 "nbformat_minor": 2
}
