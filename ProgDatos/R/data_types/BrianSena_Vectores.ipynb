{
 "cells": [
  {
   "cell_type": "markdown",
   "id": "47942435",
   "metadata": {},
   "source": [
    "# __Nombre__: Brian Sena Simons"
   ]
  },
  {
   "cell_type": "markdown",
   "id": "fd447f08-b9b9-41f8-bea6-faf2ae7c6adb",
   "metadata": {},
   "source": [
    "# Vectores\n",
    "1) Crea un vector de números impares entre el 1 y el 30 (ambos inclusive)"
   ]
  },
  {
   "cell_type": "code",
   "execution_count": 47,
   "id": "6a077dc1-4cc2-4cf8-8a3d-26e278496306",
   "metadata": {
    "vscode": {
     "languageId": "r"
    }
   },
   "outputs": [
    {
     "data": {
      "text/html": [
       "<style>\n",
       ".list-inline {list-style: none; margin:0; padding: 0}\n",
       ".list-inline>li {display: inline-block}\n",
       ".list-inline>li:not(:last-child)::after {content: \"\\00b7\"; padding: 0 .5ex}\n",
       "</style>\n",
       "<ol class=list-inline><li>1</li><li>3</li><li>5</li><li>7</li><li>9</li><li>11</li><li>13</li><li>15</li><li>17</li><li>19</li><li>21</li><li>23</li><li>25</li><li>27</li><li>29</li></ol>\n"
      ],
      "text/latex": [
       "\\begin{enumerate*}\n",
       "\\item 1\n",
       "\\item 3\n",
       "\\item 5\n",
       "\\item 7\n",
       "\\item 9\n",
       "\\item 11\n",
       "\\item 13\n",
       "\\item 15\n",
       "\\item 17\n",
       "\\item 19\n",
       "\\item 21\n",
       "\\item 23\n",
       "\\item 25\n",
       "\\item 27\n",
       "\\item 29\n",
       "\\end{enumerate*}\n"
      ],
      "text/markdown": [
       "1. 1\n",
       "2. 3\n",
       "3. 5\n",
       "4. 7\n",
       "5. 9\n",
       "6. 11\n",
       "7. 13\n",
       "8. 15\n",
       "9. 17\n",
       "10. 19\n",
       "11. 21\n",
       "12. 23\n",
       "13. 25\n",
       "14. 27\n",
       "15. 29\n",
       "\n",
       "\n"
      ],
      "text/plain": [
       " [1]  1  3  5  7  9 11 13 15 17 19 21 23 25 27 29"
      ]
     },
     "metadata": {},
     "output_type": "display_data"
    }
   ],
   "source": [
    "seq(from = 1, to = 30, by = 2)"
   ]
  },
  {
   "cell_type": "markdown",
   "id": "dabae7ca",
   "metadata": {
    "vscode": {
     "languageId": "r"
    }
   },
   "source": [
    "2) Crea los siguientes vectores:\n",
    "    * un vector del 1 al 20\n",
    "    * un vector del 20 al 1\n",
    "    * un vector que tenga el siguiente patrón 1,2,3,...,19,20,19,18,...,2,1"
   ]
  },
  {
   "cell_type": "code",
   "execution_count": 48,
   "id": "1fdf3168",
   "metadata": {
    "vscode": {
     "languageId": "r"
    }
   },
   "outputs": [
    {
     "name": "stdout",
     "output_type": "stream",
     "text": [
      " [1]  1  2  3  4  5  6  7  8  9 10 11 12 13 14 15 16 17 18 19 20\n",
      " [1] 20 19 18 17 16 15 14 13 12 11 10  9  8  7  6  5  4  3  2  1\n",
      " [1]  1  2  3  4  5  6  7  8  9 10 11 12 13 14 15 16 17 18 19 20 19 18 17 16 15\n",
      "[26] 14 13 12 11 10  9  8  7  6  5  4  3  2  1\n"
     ]
    }
   ],
   "source": [
    "vec1_20 <- seq(from = 1, to = 20)\n",
    "vec20_1 <- seq(from = 20, to = 1, by = -1)\n",
    "print(vec1_20)\n",
    "print(vec20_1)\n",
    "print(c(vec1_20, vec20_1[-1]))"
   ]
  },
  {
   "cell_type": "code",
   "execution_count": 49,
   "id": "2c8e68a7",
   "metadata": {
    "vscode": {
     "languageId": "r"
    }
   },
   "outputs": [
    {
     "data": {
      "text/html": [
       "<style>\n",
       ".list-inline {list-style: none; margin:0; padding: 0}\n",
       ".list-inline>li {display: inline-block}\n",
       ".list-inline>li:not(:last-child)::after {content: \"\\00b7\"; padding: 0 .5ex}\n",
       "</style>\n",
       "<ol class=list-inline><li>20</li><li>19</li><li>18</li><li>17</li><li>16</li><li>15</li><li>14</li><li>13</li><li>12</li><li>11</li><li>10</li><li>9</li><li>8</li><li>7</li><li>6</li><li>5</li><li>4</li><li>3</li><li>2</li><li>1</li></ol>\n"
      ],
      "text/latex": [
       "\\begin{enumerate*}\n",
       "\\item 20\n",
       "\\item 19\n",
       "\\item 18\n",
       "\\item 17\n",
       "\\item 16\n",
       "\\item 15\n",
       "\\item 14\n",
       "\\item 13\n",
       "\\item 12\n",
       "\\item 11\n",
       "\\item 10\n",
       "\\item 9\n",
       "\\item 8\n",
       "\\item 7\n",
       "\\item 6\n",
       "\\item 5\n",
       "\\item 4\n",
       "\\item 3\n",
       "\\item 2\n",
       "\\item 1\n",
       "\\end{enumerate*}\n"
      ],
      "text/markdown": [
       "1. 20\n",
       "2. 19\n",
       "3. 18\n",
       "4. 17\n",
       "5. 16\n",
       "6. 15\n",
       "7. 14\n",
       "8. 13\n",
       "9. 12\n",
       "10. 11\n",
       "11. 10\n",
       "12. 9\n",
       "13. 8\n",
       "14. 7\n",
       "15. 6\n",
       "16. 5\n",
       "17. 4\n",
       "18. 3\n",
       "19. 2\n",
       "20. 1\n",
       "\n",
       "\n"
      ],
      "text/plain": [
       " [1] 20 19 18 17 16 15 14 13 12 11 10  9  8  7  6  5  4  3  2  1"
      ]
     },
     "metadata": {},
     "output_type": "display_data"
    },
    {
     "data": {
      "text/html": [
       "<style>\n",
       ".list-inline {list-style: none; margin:0; padding: 0}\n",
       ".list-inline>li {display: inline-block}\n",
       ".list-inline>li:not(:last-child)::after {content: \"\\00b7\"; padding: 0 .5ex}\n",
       "</style>\n",
       "<ol class=list-inline><li>20</li><li>19</li><li>18</li><li>17</li><li>16</li><li>15</li><li>14</li><li>13</li><li>12</li><li>11</li><li>10</li><li>9</li><li>8</li><li>7</li><li>6</li><li>5</li><li>4</li><li>3</li><li>2</li><li>1</li></ol>\n"
      ],
      "text/latex": [
       "\\begin{enumerate*}\n",
       "\\item 20\n",
       "\\item 19\n",
       "\\item 18\n",
       "\\item 17\n",
       "\\item 16\n",
       "\\item 15\n",
       "\\item 14\n",
       "\\item 13\n",
       "\\item 12\n",
       "\\item 11\n",
       "\\item 10\n",
       "\\item 9\n",
       "\\item 8\n",
       "\\item 7\n",
       "\\item 6\n",
       "\\item 5\n",
       "\\item 4\n",
       "\\item 3\n",
       "\\item 2\n",
       "\\item 1\n",
       "\\end{enumerate*}\n"
      ],
      "text/markdown": [
       "1. 20\n",
       "2. 19\n",
       "3. 18\n",
       "4. 17\n",
       "5. 16\n",
       "6. 15\n",
       "7. 14\n",
       "8. 13\n",
       "9. 12\n",
       "10. 11\n",
       "11. 10\n",
       "12. 9\n",
       "13. 8\n",
       "14. 7\n",
       "15. 6\n",
       "16. 5\n",
       "17. 4\n",
       "18. 3\n",
       "19. 2\n",
       "20. 1\n",
       "\n",
       "\n"
      ],
      "text/plain": [
       " [1] 20 19 18 17 16 15 14 13 12 11 10  9  8  7  6  5  4  3  2  1"
      ]
     },
     "metadata": {},
     "output_type": "display_data"
    },
    {
     "data": {
      "text/html": [
       "<style>\n",
       ".list-inline {list-style: none; margin:0; padding: 0}\n",
       ".list-inline>li {display: inline-block}\n",
       ".list-inline>li:not(:last-child)::after {content: \"\\00b7\"; padding: 0 .5ex}\n",
       "</style>\n",
       "<ol class=list-inline><li>20</li><li>19</li><li>18</li><li>17</li><li>16</li><li>15</li><li>14</li><li>13</li><li>12</li><li>11</li><li>10</li><li>9</li><li>8</li><li>7</li><li>6</li><li>5</li><li>4</li><li>3</li><li>2</li><li>1</li></ol>\n"
      ],
      "text/latex": [
       "\\begin{enumerate*}\n",
       "\\item 20\n",
       "\\item 19\n",
       "\\item 18\n",
       "\\item 17\n",
       "\\item 16\n",
       "\\item 15\n",
       "\\item 14\n",
       "\\item 13\n",
       "\\item 12\n",
       "\\item 11\n",
       "\\item 10\n",
       "\\item 9\n",
       "\\item 8\n",
       "\\item 7\n",
       "\\item 6\n",
       "\\item 5\n",
       "\\item 4\n",
       "\\item 3\n",
       "\\item 2\n",
       "\\item 1\n",
       "\\end{enumerate*}\n"
      ],
      "text/markdown": [
       "1. 20\n",
       "2. 19\n",
       "3. 18\n",
       "4. 17\n",
       "5. 16\n",
       "6. 15\n",
       "7. 14\n",
       "8. 13\n",
       "9. 12\n",
       "10. 11\n",
       "11. 10\n",
       "12. 9\n",
       "13. 8\n",
       "14. 7\n",
       "15. 6\n",
       "16. 5\n",
       "17. 4\n",
       "18. 3\n",
       "19. 2\n",
       "20. 1\n",
       "\n",
       "\n"
      ],
      "text/plain": [
       " [1] 20 19 18 17 16 15 14 13 12 11 10  9  8  7  6  5  4  3  2  1"
      ]
     },
     "metadata": {},
     "output_type": "display_data"
    }
   ],
   "source": [
    "# Formas alternativas por curiosidad:\n",
    "seq(from = 20, along.with = vec1_20, by = -1)\n",
    "rev(seq(1, 20))\n",
    "sort(seq(1, 20), decreasing = TRUE)"
   ]
  },
  {
   "cell_type": "markdown",
   "id": "4a143f20",
   "metadata": {},
   "source": [
    "\n",
    "3) Crea una secuencia de números del 1 al 30 con un incremento de 0.5"
   ]
  },
  {
   "cell_type": "code",
   "execution_count": 50,
   "id": "aa763417",
   "metadata": {
    "vscode": {
     "languageId": "r"
    }
   },
   "outputs": [
    {
     "name": "stdout",
     "output_type": "stream",
     "text": [
      " [1]  1.0  1.5  2.0  2.5  3.0  3.5  4.0  4.5  5.0  5.5  6.0  6.5  7.0  7.5  8.0\n",
      "[16]  8.5  9.0  9.5 10.0 10.5 11.0 11.5 12.0 12.5 13.0 13.5 14.0 14.5 15.0 15.5\n",
      "[31] 16.0 16.5 17.0 17.5 18.0 18.5 19.0 19.5 20.0 20.5 21.0 21.5 22.0 22.5 23.0\n",
      "[46] 23.5 24.0 24.5 25.0 25.5 26.0 26.5 27.0 27.5 28.0 28.5 29.0 29.5 30.0\n"
     ]
    }
   ],
   "source": [
    "print(seq(from = 1, to = 30, by = 0.5))"
   ]
  },
  {
   "cell_type": "markdown",
   "id": "e0c5afad",
   "metadata": {},
   "source": [
    "\n",
    "4) Crea una secuencia que contenga las cuatro primeras letras del abecedario en minúscula 3 veces cada una (a a a b b b c c c d d d)"
   ]
  },
  {
   "cell_type": "code",
   "execution_count": 51,
   "id": "c29d8c4e",
   "metadata": {
    "vscode": {
     "languageId": "r"
    }
   },
   "outputs": [
    {
     "data": {
      "text/html": [
       "<style>\n",
       ".list-inline {list-style: none; margin:0; padding: 0}\n",
       ".list-inline>li {display: inline-block}\n",
       ".list-inline>li:not(:last-child)::after {content: \"\\00b7\"; padding: 0 .5ex}\n",
       "</style>\n",
       "<ol class=list-inline><li>'a'</li><li>'a'</li><li>'a'</li><li>'b'</li><li>'b'</li><li>'b'</li><li>'c'</li><li>'c'</li><li>'c'</li><li>'d'</li><li>'d'</li><li>'d'</li></ol>\n"
      ],
      "text/latex": [
       "\\begin{enumerate*}\n",
       "\\item 'a'\n",
       "\\item 'a'\n",
       "\\item 'a'\n",
       "\\item 'b'\n",
       "\\item 'b'\n",
       "\\item 'b'\n",
       "\\item 'c'\n",
       "\\item 'c'\n",
       "\\item 'c'\n",
       "\\item 'd'\n",
       "\\item 'd'\n",
       "\\item 'd'\n",
       "\\end{enumerate*}\n"
      ],
      "text/markdown": [
       "1. 'a'\n",
       "2. 'a'\n",
       "3. 'a'\n",
       "4. 'b'\n",
       "5. 'b'\n",
       "6. 'b'\n",
       "7. 'c'\n",
       "8. 'c'\n",
       "9. 'c'\n",
       "10. 'd'\n",
       "11. 'd'\n",
       "12. 'd'\n",
       "\n",
       "\n"
      ],
      "text/plain": [
       " [1] \"a\" \"a\" \"a\" \"b\" \"b\" \"b\" \"c\" \"c\" \"c\" \"d\" \"d\" \"d\""
      ]
     },
     "metadata": {},
     "output_type": "display_data"
    }
   ],
   "source": [
    "rep(letters[1:4], each = 3)"
   ]
  },
  {
   "cell_type": "markdown",
   "id": "43b2cfb5",
   "metadata": {},
   "source": [
    "5) Crea el vector numérico `x` con los valores 2.3, 3.3, 4.3 y accede al segundo elemento del vector"
   ]
  },
  {
   "cell_type": "code",
   "execution_count": 52,
   "id": "3956618f",
   "metadata": {
    "vscode": {
     "languageId": "r"
    }
   },
   "outputs": [
    {
     "name": "stdout",
     "output_type": "stream",
     "text": [
      "[1] 2.3 3.3 4.3\n",
      "[1] 3.3\n"
     ]
    }
   ],
   "source": [
    "x <- seq(from = 2.3, length.out = 3, by = 1)\n",
    "print(x)\n",
    "print(x[2])"
   ]
  },
  {
   "cell_type": "markdown",
   "id": "3f1767e7",
   "metadata": {},
   "source": [
    "6) Crea un vector numérico `z` que contenga los números del 1 al 10. Cambia la clase del vector forzando que sea de tipo carácter. Después cambia el vector `z` a numerico otra vez"
   ]
  },
  {
   "cell_type": "code",
   "execution_count": 53,
   "id": "0e2c381f",
   "metadata": {
    "vscode": {
     "languageId": "r"
    }
   },
   "outputs": [
    {
     "name": "stdout",
     "output_type": "stream",
     "text": [
      " [1] \"1\"  \"2\"  \"3\"  \"4\"  \"5\"  \"6\"  \"7\"  \"8\"  \"9\"  \"10\"\n",
      " [1]  1  2  3  4  5  6  7  8  9 10\n"
     ]
    }
   ],
   "source": [
    "z <- seq(from = 1, to = 10)\n",
    "# We can do in place conversions while we print (call any function)\n",
    "print(z <- as.character(z))\n",
    "print(z <- as.numeric(z))"
   ]
  },
  {
   "cell_type": "markdown",
   "id": "850f34cc",
   "metadata": {},
   "source": [
    "7) Crea un vector numérico con valores no ordenados usando la función `sample()`. Una vez creado ordena el vector de forma ascendente usando la función `sort()`. ¿Si quisieras invertir el orden de los elementos del vector que función utilizarías?"
   ]
  },
  {
   "cell_type": "code",
   "execution_count": 54,
   "id": "dae3db87",
   "metadata": {
    "vscode": {
     "languageId": "r"
    }
   },
   "outputs": [
    {
     "name": "stdout",
     "output_type": "stream",
     "text": [
      " [1]  121  331 2595 3488 4516 5676 7428 8325 9605 9925\n",
      " [1] 9925 9605 8325 7428 5676 4516 3488 2595  331  121\n",
      " [1]  331  121 8325 9605 2595 9925 7428 3488 5676 4516\n"
     ]
    }
   ],
   "source": [
    "a <- sample(seq(1:10000), size = 10, replace = FALSE)\n",
    "print(sort(a))\n",
    "print(sort(a, decreasing = TRUE))\n",
    "print(rev(a))"
   ]
  },
  {
   "cell_type": "markdown",
   "id": "8e94845d",
   "metadata": {},
   "source": [
    "\n",
    "8) Crea un vector `x` que contenga los elementos -5,-1,0,1,2,3,4,5,6. Escribe un código del tipo `x[algo]`, para extraer:\n",
    "    * elementos de x menores que 0,\n",
    "    * elementos de x menores o igual que 0,\n",
    "    * elementos of x mayor o igual que 3,\n",
    "    * elementos de x menor que 0 o mayor que 4,\n",
    "    * elementos de x mayor que 0 y menor que 4,\n",
    "    * elementos de x distintos de 0"
   ]
  },
  {
   "cell_type": "code",
   "execution_count": 55,
   "id": "e586a4a1",
   "metadata": {
    "vscode": {
     "languageId": "r"
    }
   },
   "outputs": [
    {
     "name": "stdout",
     "output_type": "stream",
     "text": [
      "[1] -5 -1\n",
      "[1] -5 -1  0\n",
      "[1] 3 4 5 6\n",
      "[1] -5 -1  5  6\n",
      "[1] 1 2 3\n",
      "[1] -5 -1  1  2  3  4  5  6\n"
     ]
    }
   ],
   "source": [
    "x <- c(-5, seq(-1, 6))\n",
    "print(x[x < 0])\n",
    "print(x[x <= 0])\n",
    "print(x[x >= 3])\n",
    "print(x[x < 0 | x > 4])\n",
    "print(x[x > 0 & x < 4])\n",
    "print(x[x != 0])"
   ]
  },
  {
   "cell_type": "markdown",
   "id": "1ef13013",
   "metadata": {},
   "source": [
    "\n",
    "9) Crea los siguientes vectores `x<-month.name[1:6]` y `z<-month.name[4:10]` a partir del vector original `month.name`. Recupera los valores idénticos entre los vectores x y z usando `%in%`"
   ]
  },
  {
   "cell_type": "code",
   "execution_count": 56,
   "id": "96165a86",
   "metadata": {
    "vscode": {
     "languageId": "r"
    }
   },
   "outputs": [
    {
     "name": "stdout",
     "output_type": "stream",
     "text": [
      "[1] \"January\"  \"February\" \"March\"    \"April\"    \"May\"      \"June\"    \n",
      "[1] \"April\"     \"May\"       \"June\"      \"July\"      \"August\"    \"September\"\n",
      "[7] \"October\"  \n"
     ]
    },
    {
     "data": {
      "text/html": [
       "<style>\n",
       ".list-inline {list-style: none; margin:0; padding: 0}\n",
       ".list-inline>li {display: inline-block}\n",
       ".list-inline>li:not(:last-child)::after {content: \"\\00b7\"; padding: 0 .5ex}\n",
       "</style>\n",
       "<ol class=list-inline><li>'April'</li><li>'May'</li><li>'June'</li></ol>\n"
      ],
      "text/latex": [
       "\\begin{enumerate*}\n",
       "\\item 'April'\n",
       "\\item 'May'\n",
       "\\item 'June'\n",
       "\\end{enumerate*}\n"
      ],
      "text/markdown": [
       "1. 'April'\n",
       "2. 'May'\n",
       "3. 'June'\n",
       "\n",
       "\n"
      ],
      "text/plain": [
       "[1] \"April\" \"May\"   \"June\" "
      ]
     },
     "metadata": {},
     "output_type": "display_data"
    }
   ],
   "source": [
    "x <- month.name[1: 6]\n",
    "print(x)\n",
    "z <- month.name[4: 10]\n",
    "print(z)\n",
    "x[x %in% z]"
   ]
  },
  {
   "cell_type": "markdown",
   "id": "1ebbc618",
   "metadata": {},
   "source": [
    "10) R permite extraer elementos de un vector que satisfacen determinadas condiciones usando la función `subset()`. Para el vector x <- c(6,1:3,NA,12) calcula los elementos mayores que 5 en x usando:\n",
    "     * el filtrado normal, es decir, con el operador `>`\n",
    "     * la función `subset()`"
   ]
  },
  {
   "cell_type": "code",
   "execution_count": 57,
   "id": "9cf5e677",
   "metadata": {
    "vscode": {
     "languageId": "r"
    }
   },
   "outputs": [
    {
     "name": "stdout",
     "output_type": "stream",
     "text": [
      "[1]  6 12\n",
      "[1]  6 12\n"
     ]
    }
   ],
   "source": [
    "x <- c(6, 1:3, NA, 12)\n",
    "less_than_5 <- x > 5 & !is.na(x)\n",
    "print(x[less_than_5])\n",
    "print(subset(x, less_than_5))"
   ]
  }
 ],
 "metadata": {
  "kernelspec": {
   "display_name": "R",
   "language": "R",
   "name": "ir"
  },
  "language_info": {
   "codemirror_mode": "r",
   "file_extension": ".r",
   "mimetype": "text/x-r-source",
   "name": "R",
   "pygments_lexer": "r",
   "version": "4.4.1"
  }
 },
 "nbformat": 4,
 "nbformat_minor": 5
}
