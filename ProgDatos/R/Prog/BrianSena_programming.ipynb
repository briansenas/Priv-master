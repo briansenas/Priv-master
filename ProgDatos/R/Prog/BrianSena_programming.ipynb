{
 "cells": [
  {
   "cell_type": "markdown",
   "metadata": {},
   "source": [
    "__Nombre__: Brian Sena Simons"
   ]
  },
  {
   "cell_type": "markdown",
   "metadata": {},
   "source": [
    "## Ejercicios\n",
    "Se pueden hacer todos sin necesidad de bucles explícitos... pensad... pensad...\n",
    "\n",
    "1. Crear una función \"creciente\" que indique si los elementos de un array dado son estrictamente crecientes. No se permite ordenar el vector."
   ]
  },
  {
   "cell_type": "code",
   "execution_count": 308,
   "metadata": {
    "vscode": {
     "languageId": "r"
    }
   },
   "outputs": [
    {
     "name": "stdout",
     "output_type": "stream",
     "text": [
      "[1] TRUE\n",
      "[1] FALSE\n",
      "[1] FALSE\n",
      "[1] TRUE\n",
      "[1] FALSE\n"
     ]
    }
   ],
   "source": [
    "creciente <- function(vec) {\n",
    "  displacement <- vec[2:length(vec)]\n",
    "  sum(vec[1: length(vec)-1] <= displacement) == length(vec) - 1\n",
    "}\n",
    "\n",
    "print(creciente(1:10))  # TRUE\n",
    "print(creciente(10:1))  # FALSE\n",
    "print(creciente(c(1:5, 10:6))) # FALSE\n",
    "print(creciente(1:1))  # TRUE\n",
    "print(creciente(c()))  # FALSE"
   ]
  },
  {
   "cell_type": "markdown",
   "metadata": {},
   "source": [
    "2. Crear una función \"montecarlo\" que calcule la estimación de la integral dada:\n",
    " >$\\int_{0}^{1} x^2 dx$<br/>\n",
    "   \n",
    "   El algoritmo Monte Carlo en pseudocódigo es el siguiente:\n",
    ">hits=0<br/>\n",
    " for i from 1 to N<br/>\n",
    " &nbsp;&nbsp;&nbsp;&nbsp;Generate two random numbers r1 and r2 between 0 and 1<br/>\n",
    " &nbsp;&nbsp;&nbsp;&nbsp;If r2<r1^2 then hits=hits+1<br/>\n",
    " end for<br/>\n",
    " return hits/N\n",
    "\n",
    "    HINT: Use las funciones `runif()` y `rnorm()`."
   ]
  },
  {
   "cell_type": "code",
   "execution_count": 309,
   "metadata": {
    "vscode": {
     "languageId": "r"
    }
   },
   "outputs": [
    {
     "data": {
      "text/html": [
       "0.3293"
      ],
      "text/latex": [
       "0.3293"
      ],
      "text/markdown": [
       "0.3293"
      ],
      "text/plain": [
       "[1] 0.3293"
      ]
     },
     "metadata": {},
     "output_type": "display_data"
    }
   ],
   "source": [
    "monte_carlo <- function(n) {\n",
    "  r1 <- runif(n, 0, 1)\n",
    "  r2 <- runif(n, 0, 1)\n",
    "  hits <- sum(ifelse(r2 < r1**2, 1, 0))\n",
    "  hits / n\n",
    "}\n",
    "monte_carlo(10000)"
   ]
  },
  {
   "cell_type": "markdown",
   "metadata": {},
   "source": [
    "3. Crea una lista de cinco matrices numéricas y ordénalas tras su creación\n",
    "(el elemento [1,1] tendrá el valor menor y el [#filas,#columnas] el valor mayor)."
   ]
  },
  {
   "cell_type": "code",
   "execution_count": 310,
   "metadata": {
    "vscode": {
     "languageId": "r"
    }
   },
   "outputs": [
    {
     "name": "stdout",
     "output_type": "stream",
     "text": [
      "[[1]]\n",
      "     [,1] [,2] [,3]\n",
      "[1,]   15   44   80\n",
      "[2,]   23   58   85\n",
      "[3,]   39   79   87\n",
      "\n",
      "[[2]]\n",
      "     [,1] [,2] [,3] [,4] [,5]\n",
      "[1,]   36   45   52   73   77\n",
      "[2,]   43   47   70   74   85\n",
      "\n",
      "[[3]]\n",
      "     [,1] [,2]\n",
      "[1,]    1   52\n",
      "[2,]   23   71\n",
      "\n",
      "[[4]]\n",
      "     [,1] [,2] [,3] [,4] [,5] [,6] [,7]\n",
      "[1,]    8   18   23   41   60   68   81\n",
      "[2,]   11   19   33   49   60   70   88\n",
      "[3,]   13   21   38   51   61   79   99\n",
      "\n",
      "[[5]]\n",
      "     [,1] [,2] [,3]\n",
      "[1,]   14   37   79\n",
      "[2,]   14   51   90\n",
      "[3,]   24   67   95\n",
      "\n"
     ]
    }
   ],
   "source": [
    "random_matrix <- function(size, nrow, ncol) {\n",
    "  matrix(\n",
    "    sample(1:100, size, replace = TRUE),\n",
    "    nrow = nrow,\n",
    "    ncol = ncol\n",
    "  )\n",
    "}\n",
    "lista <- list(\n",
    "  random_matrix(9, 3, 3),\n",
    "  random_matrix(10, 2, 5),\n",
    "  random_matrix(4, 2, 2),\n",
    "  random_matrix(21, 3, 7),\n",
    "  random_matrix(9, 3, 3)\n",
    ")\n",
    "\n",
    "sorted_list_of_matrices <- function(lista) {\n",
    "  lapply(\n",
    "    lista,\n",
    "    function(x) matrix(sort(x), nrow = nrow(x), ncol = ncol(x))\n",
    "  )\n",
    "}\n",
    "\n",
    "print(sorted_list_of_matrices(lista))"
   ]
  },
  {
   "cell_type": "markdown",
   "metadata": {},
   "source": [
    "4. Calcula el valor mínimo de cada columna de una matriz, pero suponiendo que los números impares son negativos y los pares positivos."
   ]
  },
  {
   "cell_type": "code",
   "execution_count": 311,
   "metadata": {
    "vscode": {
     "languageId": "r"
    }
   },
   "outputs": [
    {
     "name": "stdout",
     "output_type": "stream",
     "text": [
      "     [,1] [,2] [,3] [,4] [,5]\n",
      "[1,]    1    3    5    7    9\n",
      "[2,]    2    4    6    8   10\n"
     ]
    },
    {
     "data": {
      "text/html": [
       "<style>\n",
       ".list-inline {list-style: none; margin:0; padding: 0}\n",
       ".list-inline>li {display: inline-block}\n",
       ".list-inline>li:not(:last-child)::after {content: \"\\00b7\"; padding: 0 .5ex}\n",
       "</style>\n",
       "<ol class=list-inline><li>-1</li><li>-3</li><li>-5</li><li>-7</li><li>-9</li></ol>\n"
      ],
      "text/latex": [
       "\\begin{enumerate*}\n",
       "\\item -1\n",
       "\\item -3\n",
       "\\item -5\n",
       "\\item -7\n",
       "\\item -9\n",
       "\\end{enumerate*}\n"
      ],
      "text/markdown": [
       "1. -1\n",
       "2. -3\n",
       "3. -5\n",
       "4. -7\n",
       "5. -9\n",
       "\n",
       "\n"
      ],
      "text/plain": [
       "[1] -1 -3 -5 -7 -9"
      ]
     },
     "metadata": {},
     "output_type": "display_data"
    }
   ],
   "source": [
    "funny_min_column <- function(N, ncol) {\n",
    "  data <- matrix(1:N, ncol = ncol)\n",
    "  # We set all values to positive\n",
    "  data <- abs(data[, ])\n",
    "  # We then fetch the position of the odds\n",
    "  impares_index <- data %% 2 == 1\n",
    "  # Now we can just multiply by -1\n",
    "  data[impares_index] <- data[impares_index] * -1\n",
    "  # Unfortunately I don't know if we can avoid the apply\n",
    "  apply(data, 2, min)\n",
    "}\n",
    "N <- 10\n",
    "ncol <- 5\n",
    "data <- matrix(1:N, ncol = ncol)\n",
    "print(data)\n",
    "funny_min_column(N, ncol)"
   ]
  },
  {
   "cell_type": "code",
   "execution_count": 312,
   "metadata": {
    "vscode": {
     "languageId": "r"
    }
   },
   "outputs": [
    {
     "data": {
      "text/plain": [
       "   user  system elapsed \n",
       "  0.434   0.057   0.495 "
      ]
     },
     "metadata": {},
     "output_type": "display_data"
    }
   ],
   "source": [
    "system.time(funny_min_column(10000000, 10000))"
   ]
  },
  {
   "cell_type": "markdown",
   "metadata": {},
   "source": [
    "5. Dada una matriz devuelve una lista de todos los valores mayores que 7 de cada fila."
   ]
  },
  {
   "cell_type": "code",
   "execution_count": 313,
   "metadata": {
    "vscode": {
     "languageId": "r"
    }
   },
   "outputs": [
    {
     "name": "stdout",
     "output_type": "stream",
     "text": [
      "[[1]]\n",
      "[1] 9\n",
      "\n",
      "[[2]]\n",
      "[1]  8 10\n",
      "\n"
     ]
    }
   ],
   "source": [
    "filter_value <- function(data, val = 7) {\n",
    "  # No se me ocurre una forma vectorizada\n",
    "  apply(data, 1, function(x) x[x > val])\n",
    "}\n",
    "data <- matrix(1:10, nrow = 2)\n",
    "print(filter_value(data, 7))"
   ]
  },
  {
   "cell_type": "markdown",
   "metadata": {},
   "source": [
    "# Anexo"
   ]
  },
  {
   "cell_type": "code",
   "execution_count": 314,
   "metadata": {
    "vscode": {
     "languageId": "r"
    }
   },
   "outputs": [
    {
     "name": "stdout",
     "output_type": "stream",
     "text": [
      "[[1]]\n",
      "[1] 9\n",
      "\n",
      "[[2]]\n",
      "[1]  8 10\n",
      "\n"
     ]
    }
   ],
   "source": [
    "filter_value2 <- function(data, val = 7) {\n",
    "  filter_condition <- data > val\n",
    "  # Sigue siendo una especie de bucle for...\n",
    "  lapply(seq_len(nrow(data)), function(i) data[i, filter_condition[i, ]])\n",
    "}\n",
    "data <- matrix(1:10, nrow = 2)\n",
    "print(filter_value2(data, 7))\n"
   ]
  },
  {
   "cell_type": "code",
   "execution_count": 315,
   "metadata": {
    "vscode": {
     "languageId": "r"
    }
   },
   "outputs": [
    {
     "name": "stdout",
     "output_type": "stream",
     "text": [
      "$`1`\n",
      "[1] 9\n",
      "\n",
      "$`2`\n",
      "[1]  8 10\n",
      "\n"
     ]
    }
   ],
   "source": [
    "filter_value3 <- function(data, val = 7) {\n",
    "  mask <- data > val\n",
    "  # This is super slow bro...\n",
    "  split(data[mask], row(data)[mask])\n",
    "}\n",
    "data <- matrix(1:10, nrow = 2)\n",
    "print(filter_value_vec(data, 7))"
   ]
  }
 ],
 "metadata": {
  "kernelspec": {
   "display_name": "R",
   "language": "R",
   "name": "ir"
  },
  "language_info": {
   "codemirror_mode": "r",
   "file_extension": ".r",
   "mimetype": "text/x-r-source",
   "name": "R",
   "pygments_lexer": "r",
   "version": "4.4.1"
  }
 },
 "nbformat": 4,
 "nbformat_minor": 2
}
