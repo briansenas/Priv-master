{
 "cells": [
  {
   "cell_type": "markdown",
   "metadata": {},
   "source": [
    "# __Nombre__: Brian Sena Simons"
   ]
  },
  {
   "cell_type": "markdown",
   "metadata": {
    "vscode": {
     "languageId": "plaintext"
    }
   },
   "source": [
    "# Ejercicios Tidyverse\n",
    "1) Utiliza el dataset de `mtcars` y el paquete `tidyverse` para:\n",
    "    * Mostrar las 5 primeras filas del dataset"
   ]
  },
  {
   "cell_type": "code",
   "execution_count": 88,
   "metadata": {
    "vscode": {
     "languageId": "r"
    }
   },
   "outputs": [
    {
     "data": {
      "text/html": [
       "<table class=\"dataframe\">\n",
       "<caption>A data.frame: 5 × 11</caption>\n",
       "<thead>\n",
       "\t<tr><th></th><th scope=col>mpg</th><th scope=col>cyl</th><th scope=col>disp</th><th scope=col>hp</th><th scope=col>drat</th><th scope=col>wt</th><th scope=col>qsec</th><th scope=col>vs</th><th scope=col>am</th><th scope=col>gear</th><th scope=col>carb</th></tr>\n",
       "\t<tr><th></th><th scope=col>&lt;dbl&gt;</th><th scope=col>&lt;dbl&gt;</th><th scope=col>&lt;dbl&gt;</th><th scope=col>&lt;dbl&gt;</th><th scope=col>&lt;dbl&gt;</th><th scope=col>&lt;dbl&gt;</th><th scope=col>&lt;dbl&gt;</th><th scope=col>&lt;dbl&gt;</th><th scope=col>&lt;dbl&gt;</th><th scope=col>&lt;dbl&gt;</th><th scope=col>&lt;dbl&gt;</th></tr>\n",
       "</thead>\n",
       "<tbody>\n",
       "\t<tr><th scope=row>Mazda RX4</th><td>21.0</td><td>6</td><td>160</td><td>110</td><td>3.90</td><td>2.620</td><td>16.46</td><td>0</td><td>1</td><td>4</td><td>4</td></tr>\n",
       "\t<tr><th scope=row>Mazda RX4 Wag</th><td>21.0</td><td>6</td><td>160</td><td>110</td><td>3.90</td><td>2.875</td><td>17.02</td><td>0</td><td>1</td><td>4</td><td>4</td></tr>\n",
       "\t<tr><th scope=row>Datsun 710</th><td>22.8</td><td>4</td><td>108</td><td> 93</td><td>3.85</td><td>2.320</td><td>18.61</td><td>1</td><td>1</td><td>4</td><td>1</td></tr>\n",
       "\t<tr><th scope=row>Hornet 4 Drive</th><td>21.4</td><td>6</td><td>258</td><td>110</td><td>3.08</td><td>3.215</td><td>19.44</td><td>1</td><td>0</td><td>3</td><td>1</td></tr>\n",
       "\t<tr><th scope=row>Hornet Sportabout</th><td>18.7</td><td>8</td><td>360</td><td>175</td><td>3.15</td><td>3.440</td><td>17.02</td><td>0</td><td>0</td><td>3</td><td>2</td></tr>\n",
       "</tbody>\n",
       "</table>\n"
      ],
      "text/latex": [
       "A data.frame: 5 × 11\n",
       "\\begin{tabular}{r|lllllllllll}\n",
       "  & mpg & cyl & disp & hp & drat & wt & qsec & vs & am & gear & carb\\\\\n",
       "  & <dbl> & <dbl> & <dbl> & <dbl> & <dbl> & <dbl> & <dbl> & <dbl> & <dbl> & <dbl> & <dbl>\\\\\n",
       "\\hline\n",
       "\tMazda RX4 & 21.0 & 6 & 160 & 110 & 3.90 & 2.620 & 16.46 & 0 & 1 & 4 & 4\\\\\n",
       "\tMazda RX4 Wag & 21.0 & 6 & 160 & 110 & 3.90 & 2.875 & 17.02 & 0 & 1 & 4 & 4\\\\\n",
       "\tDatsun 710 & 22.8 & 4 & 108 &  93 & 3.85 & 2.320 & 18.61 & 1 & 1 & 4 & 1\\\\\n",
       "\tHornet 4 Drive & 21.4 & 6 & 258 & 110 & 3.08 & 3.215 & 19.44 & 1 & 0 & 3 & 1\\\\\n",
       "\tHornet Sportabout & 18.7 & 8 & 360 & 175 & 3.15 & 3.440 & 17.02 & 0 & 0 & 3 & 2\\\\\n",
       "\\end{tabular}\n"
      ],
      "text/markdown": [
       "\n",
       "A data.frame: 5 × 11\n",
       "\n",
       "| <!--/--> | mpg &lt;dbl&gt; | cyl &lt;dbl&gt; | disp &lt;dbl&gt; | hp &lt;dbl&gt; | drat &lt;dbl&gt; | wt &lt;dbl&gt; | qsec &lt;dbl&gt; | vs &lt;dbl&gt; | am &lt;dbl&gt; | gear &lt;dbl&gt; | carb &lt;dbl&gt; |\n",
       "|---|---|---|---|---|---|---|---|---|---|---|---|\n",
       "| Mazda RX4 | 21.0 | 6 | 160 | 110 | 3.90 | 2.620 | 16.46 | 0 | 1 | 4 | 4 |\n",
       "| Mazda RX4 Wag | 21.0 | 6 | 160 | 110 | 3.90 | 2.875 | 17.02 | 0 | 1 | 4 | 4 |\n",
       "| Datsun 710 | 22.8 | 4 | 108 |  93 | 3.85 | 2.320 | 18.61 | 1 | 1 | 4 | 1 |\n",
       "| Hornet 4 Drive | 21.4 | 6 | 258 | 110 | 3.08 | 3.215 | 19.44 | 1 | 0 | 3 | 1 |\n",
       "| Hornet Sportabout | 18.7 | 8 | 360 | 175 | 3.15 | 3.440 | 17.02 | 0 | 0 | 3 | 2 |\n",
       "\n"
      ],
      "text/plain": [
       "                  mpg  cyl disp hp  drat wt    qsec  vs am gear carb\n",
       "Mazda RX4         21.0 6   160  110 3.90 2.620 16.46 0  1  4    4   \n",
       "Mazda RX4 Wag     21.0 6   160  110 3.90 2.875 17.02 0  1  4    4   \n",
       "Datsun 710        22.8 4   108   93 3.85 2.320 18.61 1  1  4    1   \n",
       "Hornet 4 Drive    21.4 6   258  110 3.08 3.215 19.44 1  0  3    1   \n",
       "Hornet Sportabout 18.7 8   360  175 3.15 3.440 17.02 0  0  3    2   "
      ]
     },
     "metadata": {},
     "output_type": "display_data"
    }
   ],
   "source": [
    "library(tidyverse)\n",
    "# Podemos utilizar head(mtcars, n = 5)\n",
    "# Podemos utilizar mtcars %>% head(n = 5)\n",
    "# Podemos utilizar mtcars %>% slice(c(1:5))\n",
    "# Podemos utilizar mtcars %>% slice_head(n = 5)\n",
    "# Si indagamos en la documentación de slice nos indica que podemos:\n",
    "# 1. filter(mtcars, row_number() <= 5)\n",
    "# 2. filter(mtcars, between(row_number(), 1, 5))\n",
    "mtcars %>% slice(1:5)"
   ]
  },
  {
   "cell_type": "markdown",
   "metadata": {},
   "source": [
    "  * Convertir la variables \"cyl\", \"gear\" y \"carb\" en factores y las variables \"vs\" y \"am\" en lógicas, y mostrar la estructura del dataset (usar este dataset transformado de aqui en adelante)"
   ]
  },
  {
   "cell_type": "code",
   "execution_count": 89,
   "metadata": {
    "vscode": {
     "languageId": "r"
    }
   },
   "outputs": [
    {
     "name": "stdout",
     "output_type": "stream",
     "text": [
      "'data.frame':\t32 obs. of  5 variables:\n",
      " $ cyl : Factor w/ 3 levels \"4\",\"6\",\"8\": 2 2 1 2 3 2 3 1 1 2 ...\n",
      " $ gear: Factor w/ 3 levels \"3\",\"4\",\"5\": 2 2 2 1 1 1 1 2 2 2 ...\n",
      " $ carb: Factor w/ 6 levels \"1\",\"2\",\"3\",\"4\",..: 4 4 1 1 2 1 4 2 2 4 ...\n",
      " $ vs  : logi  FALSE FALSE TRUE TRUE FALSE TRUE ...\n",
      " $ am  : logi  TRUE TRUE TRUE FALSE FALSE FALSE ...\n"
     ]
    }
   ],
   "source": [
    "# Podemos hacerlo manualmente o crear vectores\n",
    "# Manualmente:\n",
    "# ```cmtcars <- mtcars %>% mutate(cyl = as.factor(cyl), ...)```\n",
    "factor_cols <- c(\"cyl\", \"gear\", \"carb\")\n",
    "logical_cols <- c(\"vs\", \"am\")\n",
    "cmtcars <- mtcars %>%\n",
    "  mutate_at(factor_cols, as.factor) %>%\n",
    "  mutate_at(logical_cols, as.logical)\n",
    "cmtcars %>% select(all_of(c(factor_cols, logical_cols))) %>% str"
   ]
  },
  {
   "cell_type": "markdown",
   "metadata": {},
   "source": [
    "* Mostrar solo los coches con una potencia (\"hp\") mayor a 100 * Seleccionar solo las columnas \"mpg\", \"cyl\", \"hp\" y \"qsec\" del dataset\n"
   ]
  },
  {
   "cell_type": "code",
   "execution_count": 90,
   "metadata": {
    "vscode": {
     "languageId": "r"
    }
   },
   "outputs": [
    {
     "data": {
      "text/html": [
       "<table class=\"dataframe\">\n",
       "<caption>A data.frame: 5 × 11</caption>\n",
       "<thead>\n",
       "\t<tr><th></th><th scope=col>mpg</th><th scope=col>cyl</th><th scope=col>disp</th><th scope=col>hp</th><th scope=col>drat</th><th scope=col>wt</th><th scope=col>qsec</th><th scope=col>vs</th><th scope=col>am</th><th scope=col>gear</th><th scope=col>carb</th></tr>\n",
       "\t<tr><th></th><th scope=col>&lt;dbl&gt;</th><th scope=col>&lt;fct&gt;</th><th scope=col>&lt;dbl&gt;</th><th scope=col>&lt;dbl&gt;</th><th scope=col>&lt;dbl&gt;</th><th scope=col>&lt;dbl&gt;</th><th scope=col>&lt;dbl&gt;</th><th scope=col>&lt;lgl&gt;</th><th scope=col>&lt;lgl&gt;</th><th scope=col>&lt;fct&gt;</th><th scope=col>&lt;fct&gt;</th></tr>\n",
       "</thead>\n",
       "<tbody>\n",
       "\t<tr><th scope=row>Mazda RX4</th><td>21.0</td><td>6</td><td>160</td><td>110</td><td>3.90</td><td>2.620</td><td>16.46</td><td>FALSE</td><td> TRUE</td><td>4</td><td>4</td></tr>\n",
       "\t<tr><th scope=row>Mazda RX4 Wag</th><td>21.0</td><td>6</td><td>160</td><td>110</td><td>3.90</td><td>2.875</td><td>17.02</td><td>FALSE</td><td> TRUE</td><td>4</td><td>4</td></tr>\n",
       "\t<tr><th scope=row>Hornet 4 Drive</th><td>21.4</td><td>6</td><td>258</td><td>110</td><td>3.08</td><td>3.215</td><td>19.44</td><td> TRUE</td><td>FALSE</td><td>3</td><td>1</td></tr>\n",
       "\t<tr><th scope=row>Hornet Sportabout</th><td>18.7</td><td>8</td><td>360</td><td>175</td><td>3.15</td><td>3.440</td><td>17.02</td><td>FALSE</td><td>FALSE</td><td>3</td><td>2</td></tr>\n",
       "\t<tr><th scope=row>Valiant</th><td>18.1</td><td>6</td><td>225</td><td>105</td><td>2.76</td><td>3.460</td><td>20.22</td><td> TRUE</td><td>FALSE</td><td>3</td><td>1</td></tr>\n",
       "</tbody>\n",
       "</table>\n"
      ],
      "text/latex": [
       "A data.frame: 5 × 11\n",
       "\\begin{tabular}{r|lllllllllll}\n",
       "  & mpg & cyl & disp & hp & drat & wt & qsec & vs & am & gear & carb\\\\\n",
       "  & <dbl> & <fct> & <dbl> & <dbl> & <dbl> & <dbl> & <dbl> & <lgl> & <lgl> & <fct> & <fct>\\\\\n",
       "\\hline\n",
       "\tMazda RX4 & 21.0 & 6 & 160 & 110 & 3.90 & 2.620 & 16.46 & FALSE &  TRUE & 4 & 4\\\\\n",
       "\tMazda RX4 Wag & 21.0 & 6 & 160 & 110 & 3.90 & 2.875 & 17.02 & FALSE &  TRUE & 4 & 4\\\\\n",
       "\tHornet 4 Drive & 21.4 & 6 & 258 & 110 & 3.08 & 3.215 & 19.44 &  TRUE & FALSE & 3 & 1\\\\\n",
       "\tHornet Sportabout & 18.7 & 8 & 360 & 175 & 3.15 & 3.440 & 17.02 & FALSE & FALSE & 3 & 2\\\\\n",
       "\tValiant & 18.1 & 6 & 225 & 105 & 2.76 & 3.460 & 20.22 &  TRUE & FALSE & 3 & 1\\\\\n",
       "\\end{tabular}\n"
      ],
      "text/markdown": [
       "\n",
       "A data.frame: 5 × 11\n",
       "\n",
       "| <!--/--> | mpg &lt;dbl&gt; | cyl &lt;fct&gt; | disp &lt;dbl&gt; | hp &lt;dbl&gt; | drat &lt;dbl&gt; | wt &lt;dbl&gt; | qsec &lt;dbl&gt; | vs &lt;lgl&gt; | am &lt;lgl&gt; | gear &lt;fct&gt; | carb &lt;fct&gt; |\n",
       "|---|---|---|---|---|---|---|---|---|---|---|---|\n",
       "| Mazda RX4 | 21.0 | 6 | 160 | 110 | 3.90 | 2.620 | 16.46 | FALSE |  TRUE | 4 | 4 |\n",
       "| Mazda RX4 Wag | 21.0 | 6 | 160 | 110 | 3.90 | 2.875 | 17.02 | FALSE |  TRUE | 4 | 4 |\n",
       "| Hornet 4 Drive | 21.4 | 6 | 258 | 110 | 3.08 | 3.215 | 19.44 |  TRUE | FALSE | 3 | 1 |\n",
       "| Hornet Sportabout | 18.7 | 8 | 360 | 175 | 3.15 | 3.440 | 17.02 | FALSE | FALSE | 3 | 2 |\n",
       "| Valiant | 18.1 | 6 | 225 | 105 | 2.76 | 3.460 | 20.22 |  TRUE | FALSE | 3 | 1 |\n",
       "\n"
      ],
      "text/plain": [
       "                  mpg  cyl disp hp  drat wt    qsec  vs    am    gear carb\n",
       "Mazda RX4         21.0 6   160  110 3.90 2.620 16.46 FALSE  TRUE 4    4   \n",
       "Mazda RX4 Wag     21.0 6   160  110 3.90 2.875 17.02 FALSE  TRUE 4    4   \n",
       "Hornet 4 Drive    21.4 6   258  110 3.08 3.215 19.44  TRUE FALSE 3    1   \n",
       "Hornet Sportabout 18.7 8   360  175 3.15 3.440 17.02 FALSE FALSE 3    2   \n",
       "Valiant           18.1 6   225  105 2.76 3.460 20.22  TRUE FALSE 3    1   "
      ]
     },
     "metadata": {},
     "output_type": "display_data"
    }
   ],
   "source": [
    "cmtcars %>% filter(hp > 100) %>% head(5)"
   ]
  },
  {
   "cell_type": "markdown",
   "metadata": {
    "vscode": {
     "languageId": "r"
    }
   },
   "source": [
    "* Calcular la cantidad total de coches para cada valor único en la columna \"cyl\" (número de cilindros)"
   ]
  },
  {
   "cell_type": "code",
   "execution_count": 91,
   "metadata": {
    "vscode": {
     "languageId": "r"
    }
   },
   "outputs": [
    {
     "data": {
      "text/html": [
       "<table class=\"dataframe\">\n",
       "<caption>A grouped_df: 3 × 2</caption>\n",
       "<thead>\n",
       "\t<tr><th scope=col>cyl</th><th scope=col>n</th></tr>\n",
       "\t<tr><th scope=col>&lt;fct&gt;</th><th scope=col>&lt;int&gt;</th></tr>\n",
       "</thead>\n",
       "<tbody>\n",
       "\t<tr><td>4</td><td>11</td></tr>\n",
       "\t<tr><td>6</td><td> 7</td></tr>\n",
       "\t<tr><td>8</td><td>14</td></tr>\n",
       "</tbody>\n",
       "</table>\n"
      ],
      "text/latex": [
       "A grouped\\_df: 3 × 2\n",
       "\\begin{tabular}{ll}\n",
       " cyl & n\\\\\n",
       " <fct> & <int>\\\\\n",
       "\\hline\n",
       "\t 4 & 11\\\\\n",
       "\t 6 &  7\\\\\n",
       "\t 8 & 14\\\\\n",
       "\\end{tabular}\n"
      ],
      "text/markdown": [
       "\n",
       "A grouped_df: 3 × 2\n",
       "\n",
       "| cyl &lt;fct&gt; | n &lt;int&gt; |\n",
       "|---|---|\n",
       "| 4 | 11 |\n",
       "| 6 |  7 |\n",
       "| 8 | 14 |\n",
       "\n"
      ],
      "text/plain": [
       "  cyl n \n",
       "1 4   11\n",
       "2 6    7\n",
       "3 8   14"
      ]
     },
     "metadata": {},
     "output_type": "display_data"
    }
   ],
   "source": [
    "# cmtcars %>% group_by(cyl) %>% summarise(n = n())\n",
    "cmtcars %>% group_by(cyl) %>% count\n",
    "# cmtcars %>% count(cyl)"
   ]
  },
  {
   "cell_type": "markdown",
   "metadata": {
    "vscode": {
     "languageId": "r"
    }
   },
   "source": [
    "* Encontrar el modelo de coche con la mayor potencia (\"hp\") y mostrar su información completa\n",
    "* Calcular el promedio de potencia de los coches con 8 cilindros"
   ]
  },
  {
   "cell_type": "code",
   "execution_count": 92,
   "metadata": {
    "vscode": {
     "languageId": "r"
    }
   },
   "outputs": [
    {
     "data": {
      "text/html": [
       "<table class=\"dataframe\">\n",
       "<caption>A data.frame: 1 × 11</caption>\n",
       "<thead>\n",
       "\t<tr><th></th><th scope=col>mpg</th><th scope=col>cyl</th><th scope=col>disp</th><th scope=col>hp</th><th scope=col>drat</th><th scope=col>wt</th><th scope=col>qsec</th><th scope=col>vs</th><th scope=col>am</th><th scope=col>gear</th><th scope=col>carb</th></tr>\n",
       "\t<tr><th></th><th scope=col>&lt;dbl&gt;</th><th scope=col>&lt;fct&gt;</th><th scope=col>&lt;dbl&gt;</th><th scope=col>&lt;dbl&gt;</th><th scope=col>&lt;dbl&gt;</th><th scope=col>&lt;dbl&gt;</th><th scope=col>&lt;dbl&gt;</th><th scope=col>&lt;lgl&gt;</th><th scope=col>&lt;lgl&gt;</th><th scope=col>&lt;fct&gt;</th><th scope=col>&lt;fct&gt;</th></tr>\n",
       "</thead>\n",
       "<tbody>\n",
       "\t<tr><th scope=row>Maserati Bora</th><td>15</td><td>8</td><td>301</td><td>335</td><td>3.54</td><td>3.57</td><td>14.6</td><td>FALSE</td><td>TRUE</td><td>5</td><td>8</td></tr>\n",
       "</tbody>\n",
       "</table>\n"
      ],
      "text/latex": [
       "A data.frame: 1 × 11\n",
       "\\begin{tabular}{r|lllllllllll}\n",
       "  & mpg & cyl & disp & hp & drat & wt & qsec & vs & am & gear & carb\\\\\n",
       "  & <dbl> & <fct> & <dbl> & <dbl> & <dbl> & <dbl> & <dbl> & <lgl> & <lgl> & <fct> & <fct>\\\\\n",
       "\\hline\n",
       "\tMaserati Bora & 15 & 8 & 301 & 335 & 3.54 & 3.57 & 14.6 & FALSE & TRUE & 5 & 8\\\\\n",
       "\\end{tabular}\n"
      ],
      "text/markdown": [
       "\n",
       "A data.frame: 1 × 11\n",
       "\n",
       "| <!--/--> | mpg &lt;dbl&gt; | cyl &lt;fct&gt; | disp &lt;dbl&gt; | hp &lt;dbl&gt; | drat &lt;dbl&gt; | wt &lt;dbl&gt; | qsec &lt;dbl&gt; | vs &lt;lgl&gt; | am &lt;lgl&gt; | gear &lt;fct&gt; | carb &lt;fct&gt; |\n",
       "|---|---|---|---|---|---|---|---|---|---|---|---|\n",
       "| Maserati Bora | 15 | 8 | 301 | 335 | 3.54 | 3.57 | 14.6 | FALSE | TRUE | 5 | 8 |\n",
       "\n"
      ],
      "text/plain": [
       "              mpg cyl disp hp  drat wt   qsec vs    am   gear carb\n",
       "Maserati Bora 15  8   301  335 3.54 3.57 14.6 FALSE TRUE 5    8   "
      ]
     },
     "metadata": {},
     "output_type": "display_data"
    },
    {
     "data": {
      "text/html": [
       "<table class=\"dataframe\">\n",
       "<caption>A tibble: 1 × 2</caption>\n",
       "<thead>\n",
       "\t<tr><th scope=col>cyl</th><th scope=col>mean</th></tr>\n",
       "\t<tr><th scope=col>&lt;fct&gt;</th><th scope=col>&lt;dbl&gt;</th></tr>\n",
       "</thead>\n",
       "<tbody>\n",
       "\t<tr><td>8</td><td>209.2143</td></tr>\n",
       "</tbody>\n",
       "</table>\n"
      ],
      "text/latex": [
       "A tibble: 1 × 2\n",
       "\\begin{tabular}{ll}\n",
       " cyl & mean\\\\\n",
       " <fct> & <dbl>\\\\\n",
       "\\hline\n",
       "\t 8 & 209.2143\\\\\n",
       "\\end{tabular}\n"
      ],
      "text/markdown": [
       "\n",
       "A tibble: 1 × 2\n",
       "\n",
       "| cyl &lt;fct&gt; | mean &lt;dbl&gt; |\n",
       "|---|---|\n",
       "| 8 | 209.2143 |\n",
       "\n"
      ],
      "text/plain": [
       "  cyl mean    \n",
       "1 8   209.2143"
      ]
     },
     "metadata": {},
     "output_type": "display_data"
    }
   ],
   "source": [
    "# Una opción sería crear una columna\n",
    "# Y luego filtrar cmtcars %>% mutate(hp_max = max(hp)) %>% filter(hp == hp_max)\n",
    "cmtcars %>% filter(hp == max(hp))\n",
    "cmtcars %>% group_by(cyl) %>% summarise(mean = mean(hp)) %>% filter(cyl == 8)\n",
    "# También podemos filtrar primero los cilindros y seria más eficiente\n",
    "# Por ejemplo: cmtcars %>% filter(cyl == 8) %>% summarise(mean = mean(hp))"
   ]
  },
  {
   "cell_type": "markdown",
   "metadata": {
    "vscode": {
     "languageId": "r"
    }
   },
   "source": [
    "2) Supongamos que tienes un data frame llamado `lego_sets` que contiene información sobre diferentes conjuntos de Lego, incluyendo el nombre del conjunto, el número de piezas, el tema y el año de lanzamiento:"
   ]
  },
  {
   "cell_type": "code",
   "execution_count": 93,
   "metadata": {
    "vscode": {
     "languageId": "r"
    }
   },
   "outputs": [],
   "source": [
    "# Generar datos ficticios\n",
    "nombres <- paste(\"Conjunto\", 1:80)\n",
    "piezas <- sample(50:1000, 80, replace = TRUE)\n",
    "temas <- sample(\n",
    "  c(\n",
    "    \"Ciudad\",\n",
    "    \"Espacio\",\n",
    "    \"Arquitectura\",\n",
    "    \"Granja\",\n",
    "    \"Dinosaurios\",\n",
    "    \"Aventuras\",\n",
    "    \"Piratas\"\n",
    "  ),\n",
    "  80,\n",
    "  replace = TRUE\n",
    ")\n",
    "anos <- sample(2000:2023, 80, replace = TRUE)\n",
    "\n",
    "# Crear el data frame\n",
    "lego_sets <- data.frame(\n",
    "  Set_Name = nombres,\n",
    "  Piece_Count = piezas,\n",
    "  Theme = temas,\n",
    "  Year = anos\n",
    ")"
   ]
  },
  {
   "cell_type": "markdown",
   "metadata": {
    "vscode": {
     "languageId": "r"
    }
   },
   "source": [
    "* Filtra y muestra solo los conjuntos de Lego lanzados en el año 2020"
   ]
  },
  {
   "cell_type": "code",
   "execution_count": 94,
   "metadata": {
    "vscode": {
     "languageId": "r"
    }
   },
   "outputs": [
    {
     "data": {
      "text/html": [
       "<table class=\"dataframe\">\n",
       "<caption>A data.frame: 6 × 4</caption>\n",
       "<thead>\n",
       "\t<tr><th scope=col>Set_Name</th><th scope=col>Piece_Count</th><th scope=col>Theme</th><th scope=col>Year</th></tr>\n",
       "\t<tr><th scope=col>&lt;chr&gt;</th><th scope=col>&lt;int&gt;</th><th scope=col>&lt;chr&gt;</th><th scope=col>&lt;int&gt;</th></tr>\n",
       "</thead>\n",
       "<tbody>\n",
       "\t<tr><td>Conjunto 6 </td><td>237</td><td>Piratas  </td><td>2020</td></tr>\n",
       "\t<tr><td>Conjunto 12</td><td>242</td><td>Piratas  </td><td>2020</td></tr>\n",
       "\t<tr><td>Conjunto 14</td><td>873</td><td>Ciudad   </td><td>2020</td></tr>\n",
       "\t<tr><td>Conjunto 25</td><td>656</td><td>Ciudad   </td><td>2020</td></tr>\n",
       "\t<tr><td>Conjunto 36</td><td>596</td><td>Aventuras</td><td>2020</td></tr>\n",
       "\t<tr><td>Conjunto 40</td><td>939</td><td>Aventuras</td><td>2020</td></tr>\n",
       "</tbody>\n",
       "</table>\n"
      ],
      "text/latex": [
       "A data.frame: 6 × 4\n",
       "\\begin{tabular}{llll}\n",
       " Set\\_Name & Piece\\_Count & Theme & Year\\\\\n",
       " <chr> & <int> & <chr> & <int>\\\\\n",
       "\\hline\n",
       "\t Conjunto 6  & 237 & Piratas   & 2020\\\\\n",
       "\t Conjunto 12 & 242 & Piratas   & 2020\\\\\n",
       "\t Conjunto 14 & 873 & Ciudad    & 2020\\\\\n",
       "\t Conjunto 25 & 656 & Ciudad    & 2020\\\\\n",
       "\t Conjunto 36 & 596 & Aventuras & 2020\\\\\n",
       "\t Conjunto 40 & 939 & Aventuras & 2020\\\\\n",
       "\\end{tabular}\n"
      ],
      "text/markdown": [
       "\n",
       "A data.frame: 6 × 4\n",
       "\n",
       "| Set_Name &lt;chr&gt; | Piece_Count &lt;int&gt; | Theme &lt;chr&gt; | Year &lt;int&gt; |\n",
       "|---|---|---|---|\n",
       "| Conjunto 6  | 237 | Piratas   | 2020 |\n",
       "| Conjunto 12 | 242 | Piratas   | 2020 |\n",
       "| Conjunto 14 | 873 | Ciudad    | 2020 |\n",
       "| Conjunto 25 | 656 | Ciudad    | 2020 |\n",
       "| Conjunto 36 | 596 | Aventuras | 2020 |\n",
       "| Conjunto 40 | 939 | Aventuras | 2020 |\n",
       "\n"
      ],
      "text/plain": [
       "  Set_Name    Piece_Count Theme     Year\n",
       "1 Conjunto 6  237         Piratas   2020\n",
       "2 Conjunto 12 242         Piratas   2020\n",
       "3 Conjunto 14 873         Ciudad    2020\n",
       "4 Conjunto 25 656         Ciudad    2020\n",
       "5 Conjunto 36 596         Aventuras 2020\n",
       "6 Conjunto 40 939         Aventuras 2020"
      ]
     },
     "metadata": {},
     "output_type": "display_data"
    }
   ],
   "source": [
    "lego_sets %>% filter(Year == 2020)"
   ]
  },
  {
   "cell_type": "markdown",
   "metadata": {
    "vscode": {
     "languageId": "r"
    }
   },
   "source": [
    "* Encuentra y muestra el nombre y el número de piezas del conjunto de Lego más grande"
   ]
  },
  {
   "cell_type": "code",
   "execution_count": 95,
   "metadata": {
    "vscode": {
     "languageId": "r"
    }
   },
   "outputs": [
    {
     "data": {
      "text/html": [
       "<table class=\"dataframe\">\n",
       "<caption>A data.frame: 1 × 2</caption>\n",
       "<thead>\n",
       "\t<tr><th scope=col>Set_Name</th><th scope=col>Piece_Count</th></tr>\n",
       "\t<tr><th scope=col>&lt;chr&gt;</th><th scope=col>&lt;int&gt;</th></tr>\n",
       "</thead>\n",
       "<tbody>\n",
       "\t<tr><td>Conjunto 71</td><td>978</td></tr>\n",
       "</tbody>\n",
       "</table>\n"
      ],
      "text/latex": [
       "A data.frame: 1 × 2\n",
       "\\begin{tabular}{ll}\n",
       " Set\\_Name & Piece\\_Count\\\\\n",
       " <chr> & <int>\\\\\n",
       "\\hline\n",
       "\t Conjunto 71 & 978\\\\\n",
       "\\end{tabular}\n"
      ],
      "text/markdown": [
       "\n",
       "A data.frame: 1 × 2\n",
       "\n",
       "| Set_Name &lt;chr&gt; | Piece_Count &lt;int&gt; |\n",
       "|---|---|\n",
       "| Conjunto 71 | 978 |\n",
       "\n"
      ],
      "text/plain": [
       "  Set_Name    Piece_Count\n",
       "1 Conjunto 71 978        "
      ]
     },
     "metadata": {},
     "output_type": "display_data"
    }
   ],
   "source": [
    "lego_sets %>%\n",
    "  filter(Piece_Count == max(Piece_Count)) %>%\n",
    "  select(Set_Name, Piece_Count)"
   ]
  },
  {
   "cell_type": "markdown",
   "metadata": {},
   "source": [
    "* Calcula la cantidad total de piezas para cada tema y muéstralos en orden descendente por número de piezas"
   ]
  },
  {
   "cell_type": "code",
   "execution_count": 96,
   "metadata": {
    "vscode": {
     "languageId": "r"
    }
   },
   "outputs": [
    {
     "data": {
      "text/html": [
       "<table class=\"dataframe\">\n",
       "<caption>A tibble: 7 × 2</caption>\n",
       "<thead>\n",
       "\t<tr><th scope=col>Theme</th><th scope=col>total</th></tr>\n",
       "\t<tr><th scope=col>&lt;chr&gt;</th><th scope=col>&lt;int&gt;</th></tr>\n",
       "</thead>\n",
       "<tbody>\n",
       "\t<tr><td>Ciudad      </td><td>8993</td></tr>\n",
       "\t<tr><td>Aventuras   </td><td>8021</td></tr>\n",
       "\t<tr><td>Espacio     </td><td>6354</td></tr>\n",
       "\t<tr><td>Piratas     </td><td>5094</td></tr>\n",
       "\t<tr><td>Dinosaurios </td><td>4661</td></tr>\n",
       "\t<tr><td>Granja      </td><td>4587</td></tr>\n",
       "\t<tr><td>Arquitectura</td><td>3580</td></tr>\n",
       "</tbody>\n",
       "</table>\n"
      ],
      "text/latex": [
       "A tibble: 7 × 2\n",
       "\\begin{tabular}{ll}\n",
       " Theme & total\\\\\n",
       " <chr> & <int>\\\\\n",
       "\\hline\n",
       "\t Ciudad       & 8993\\\\\n",
       "\t Aventuras    & 8021\\\\\n",
       "\t Espacio      & 6354\\\\\n",
       "\t Piratas      & 5094\\\\\n",
       "\t Dinosaurios  & 4661\\\\\n",
       "\t Granja       & 4587\\\\\n",
       "\t Arquitectura & 3580\\\\\n",
       "\\end{tabular}\n"
      ],
      "text/markdown": [
       "\n",
       "A tibble: 7 × 2\n",
       "\n",
       "| Theme &lt;chr&gt; | total &lt;int&gt; |\n",
       "|---|---|\n",
       "| Ciudad       | 8993 |\n",
       "| Aventuras    | 8021 |\n",
       "| Espacio      | 6354 |\n",
       "| Piratas      | 5094 |\n",
       "| Dinosaurios  | 4661 |\n",
       "| Granja       | 4587 |\n",
       "| Arquitectura | 3580 |\n",
       "\n"
      ],
      "text/plain": [
       "  Theme        total\n",
       "1 Ciudad       8993 \n",
       "2 Aventuras    8021 \n",
       "3 Espacio      6354 \n",
       "4 Piratas      5094 \n",
       "5 Dinosaurios  4661 \n",
       "6 Granja       4587 \n",
       "7 Arquitectura 3580 "
      ]
     },
     "metadata": {},
     "output_type": "display_data"
    }
   ],
   "source": [
    "lego_sets %>%\n",
    "  group_by(Theme) %>%\n",
    "  summarise(total = sum(Piece_Count)) %>%\n",
    "  arrange(desc(total))"
   ]
  },
  {
   "cell_type": "markdown",
   "metadata": {},
   "source": [
    "* Calcula cuántos conjuntos de Lego se lanzaron en cada año y muéstralo ordenado por año de forma ascendente"
   ]
  },
  {
   "cell_type": "code",
   "execution_count": 97,
   "metadata": {
    "vscode": {
     "languageId": "r"
    }
   },
   "outputs": [
    {
     "data": {
      "text/html": [
       "<table class=\"dataframe\">\n",
       "<caption>A tibble: 23 × 2</caption>\n",
       "<thead>\n",
       "\t<tr><th scope=col>Year</th><th scope=col>total</th></tr>\n",
       "\t<tr><th scope=col>&lt;int&gt;</th><th scope=col>&lt;int&gt;</th></tr>\n",
       "</thead>\n",
       "<tbody>\n",
       "\t<tr><td>2000</td><td>3</td></tr>\n",
       "\t<tr><td>2001</td><td>3</td></tr>\n",
       "\t<tr><td>2002</td><td>3</td></tr>\n",
       "\t<tr><td>2003</td><td>3</td></tr>\n",
       "\t<tr><td>2004</td><td>2</td></tr>\n",
       "\t<tr><td>2005</td><td>3</td></tr>\n",
       "\t<tr><td>2006</td><td>4</td></tr>\n",
       "\t<tr><td>2008</td><td>4</td></tr>\n",
       "\t<tr><td>2009</td><td>6</td></tr>\n",
       "\t<tr><td>2010</td><td>3</td></tr>\n",
       "\t<tr><td>2011</td><td>5</td></tr>\n",
       "\t<tr><td>2012</td><td>2</td></tr>\n",
       "\t<tr><td>2013</td><td>4</td></tr>\n",
       "\t<tr><td>2014</td><td>3</td></tr>\n",
       "\t<tr><td>2015</td><td>1</td></tr>\n",
       "\t<tr><td>2016</td><td>1</td></tr>\n",
       "\t<tr><td>2017</td><td>3</td></tr>\n",
       "\t<tr><td>2018</td><td>5</td></tr>\n",
       "\t<tr><td>2019</td><td>4</td></tr>\n",
       "\t<tr><td>2020</td><td>6</td></tr>\n",
       "\t<tr><td>2021</td><td>6</td></tr>\n",
       "\t<tr><td>2022</td><td>3</td></tr>\n",
       "\t<tr><td>2023</td><td>3</td></tr>\n",
       "</tbody>\n",
       "</table>\n"
      ],
      "text/latex": [
       "A tibble: 23 × 2\n",
       "\\begin{tabular}{ll}\n",
       " Year & total\\\\\n",
       " <int> & <int>\\\\\n",
       "\\hline\n",
       "\t 2000 & 3\\\\\n",
       "\t 2001 & 3\\\\\n",
       "\t 2002 & 3\\\\\n",
       "\t 2003 & 3\\\\\n",
       "\t 2004 & 2\\\\\n",
       "\t 2005 & 3\\\\\n",
       "\t 2006 & 4\\\\\n",
       "\t 2008 & 4\\\\\n",
       "\t 2009 & 6\\\\\n",
       "\t 2010 & 3\\\\\n",
       "\t 2011 & 5\\\\\n",
       "\t 2012 & 2\\\\\n",
       "\t 2013 & 4\\\\\n",
       "\t 2014 & 3\\\\\n",
       "\t 2015 & 1\\\\\n",
       "\t 2016 & 1\\\\\n",
       "\t 2017 & 3\\\\\n",
       "\t 2018 & 5\\\\\n",
       "\t 2019 & 4\\\\\n",
       "\t 2020 & 6\\\\\n",
       "\t 2021 & 6\\\\\n",
       "\t 2022 & 3\\\\\n",
       "\t 2023 & 3\\\\\n",
       "\\end{tabular}\n"
      ],
      "text/markdown": [
       "\n",
       "A tibble: 23 × 2\n",
       "\n",
       "| Year &lt;int&gt; | total &lt;int&gt; |\n",
       "|---|---|\n",
       "| 2000 | 3 |\n",
       "| 2001 | 3 |\n",
       "| 2002 | 3 |\n",
       "| 2003 | 3 |\n",
       "| 2004 | 2 |\n",
       "| 2005 | 3 |\n",
       "| 2006 | 4 |\n",
       "| 2008 | 4 |\n",
       "| 2009 | 6 |\n",
       "| 2010 | 3 |\n",
       "| 2011 | 5 |\n",
       "| 2012 | 2 |\n",
       "| 2013 | 4 |\n",
       "| 2014 | 3 |\n",
       "| 2015 | 1 |\n",
       "| 2016 | 1 |\n",
       "| 2017 | 3 |\n",
       "| 2018 | 5 |\n",
       "| 2019 | 4 |\n",
       "| 2020 | 6 |\n",
       "| 2021 | 6 |\n",
       "| 2022 | 3 |\n",
       "| 2023 | 3 |\n",
       "\n"
      ],
      "text/plain": [
       "   Year total\n",
       "1  2000 3    \n",
       "2  2001 3    \n",
       "3  2002 3    \n",
       "4  2003 3    \n",
       "5  2004 2    \n",
       "6  2005 3    \n",
       "7  2006 4    \n",
       "8  2008 4    \n",
       "9  2009 6    \n",
       "10 2010 3    \n",
       "11 2011 5    \n",
       "12 2012 2    \n",
       "13 2013 4    \n",
       "14 2014 3    \n",
       "15 2015 1    \n",
       "16 2016 1    \n",
       "17 2017 3    \n",
       "18 2018 5    \n",
       "19 2019 4    \n",
       "20 2020 6    \n",
       "21 2021 6    \n",
       "22 2022 3    \n",
       "23 2023 3    "
      ]
     },
     "metadata": {},
     "output_type": "display_data"
    }
   ],
   "source": [
    "lego_sets %>%\n",
    "  group_by(Year) %>%\n",
    "  summarise(total = n()) %>%\n",
    "  arrange(Year)"
   ]
  },
  {
   "cell_type": "markdown",
   "metadata": {},
   "source": [
    "\n",
    "* Encuentra los 3 temas más populares (con más conjuntos) y muestra el número de conjuntos y el número total de piezas para cada uno de ellos"
   ]
  },
  {
   "cell_type": "code",
   "execution_count": 98,
   "metadata": {
    "vscode": {
     "languageId": "r"
    }
   },
   "outputs": [
    {
     "data": {
      "text/html": [
       "<table class=\"dataframe\">\n",
       "<caption>A tibble: 3 × 3</caption>\n",
       "<thead>\n",
       "\t<tr><th scope=col>Theme</th><th scope=col>conjuntos</th><th scope=col>total_piezas</th></tr>\n",
       "\t<tr><th scope=col>&lt;chr&gt;</th><th scope=col>&lt;int&gt;</th><th scope=col>&lt;int&gt;</th></tr>\n",
       "</thead>\n",
       "<tbody>\n",
       "\t<tr><td>Ciudad   </td><td>14</td><td>8993</td></tr>\n",
       "\t<tr><td>Piratas  </td><td>14</td><td>5094</td></tr>\n",
       "\t<tr><td>Aventuras</td><td>13</td><td>8021</td></tr>\n",
       "</tbody>\n",
       "</table>\n"
      ],
      "text/latex": [
       "A tibble: 3 × 3\n",
       "\\begin{tabular}{lll}\n",
       " Theme & conjuntos & total\\_piezas\\\\\n",
       " <chr> & <int> & <int>\\\\\n",
       "\\hline\n",
       "\t Ciudad    & 14 & 8993\\\\\n",
       "\t Piratas   & 14 & 5094\\\\\n",
       "\t Aventuras & 13 & 8021\\\\\n",
       "\\end{tabular}\n"
      ],
      "text/markdown": [
       "\n",
       "A tibble: 3 × 3\n",
       "\n",
       "| Theme &lt;chr&gt; | conjuntos &lt;int&gt; | total_piezas &lt;int&gt; |\n",
       "|---|---|---|\n",
       "| Ciudad    | 14 | 8993 |\n",
       "| Piratas   | 14 | 5094 |\n",
       "| Aventuras | 13 | 8021 |\n",
       "\n"
      ],
      "text/plain": [
       "  Theme     conjuntos total_piezas\n",
       "1 Ciudad    14        8993        \n",
       "2 Piratas   14        5094        \n",
       "3 Aventuras 13        8021        "
      ]
     },
     "metadata": {},
     "output_type": "display_data"
    }
   ],
   "source": [
    "lego_sets %>%\n",
    "  group_by(Theme) %>%\n",
    "  summarise(conjuntos = n(), total_piezas = sum(Piece_Count)) %>%\n",
    "  arrange(desc(conjuntos)) %>%\n",
    "  slice_head(n = 3)\n"
   ]
  },
  {
   "cell_type": "markdown",
   "metadata": {},
   "source": [
    "3) Dado un data frame llamado `bebidas` que contiene información sobre la edad, género, tipo de bebida y cantidad de copas consumidas por un grupo de personas, filtra y muestra únicamente a las mujeres mayores de 20 años. Para este suconjunto calcula la media, el máximo, la cantidad de copas totales y la desviación estándar de la edad para cada combinación de tipo de bebida. Finalemnte, agrega una nueva columna que indique cuántas personas se encuentran en cada grupo de tipo de bebida.\n"
   ]
  },
  {
   "cell_type": "code",
   "execution_count": 99,
   "metadata": {
    "vscode": {
     "languageId": "r"
    }
   },
   "outputs": [
    {
     "data": {
      "text/html": [
       "<table class=\"dataframe\">\n",
       "<caption>A data.frame: 5 × 6</caption>\n",
       "<thead>\n",
       "\t<tr><th scope=col>Bebida</th><th scope=col>mean</th><th scope=col>max</th><th scope=col>sd</th><th scope=col>total_mujeres_mayor_20</th><th scope=col>total_personas</th></tr>\n",
       "\t<tr><th scope=col>&lt;chr&gt;</th><th scope=col>&lt;dbl&gt;</th><th scope=col>&lt;int&gt;</th><th scope=col>&lt;dbl&gt;</th><th scope=col>&lt;int&gt;</th><th scope=col>&lt;int&gt;</th></tr>\n",
       "</thead>\n",
       "<tbody>\n",
       "\t<tr><td>Agua    </td><td>2.363636</td><td>5</td><td>17.02405</td><td>11</td><td>17</td></tr>\n",
       "\t<tr><td>Cerveza </td><td>2.615385</td><td>5</td><td>13.37190</td><td>13</td><td>27</td></tr>\n",
       "\t<tr><td>Cóctel  </td><td>3.384615</td><td>5</td><td>11.99733</td><td>13</td><td>20</td></tr>\n",
       "\t<tr><td>Refresco</td><td>3.000000</td><td>5</td><td>16.86120</td><td> 5</td><td>17</td></tr>\n",
       "\t<tr><td>Vino    </td><td>3.181818</td><td>5</td><td>12.24299</td><td>11</td><td>19</td></tr>\n",
       "</tbody>\n",
       "</table>\n"
      ],
      "text/latex": [
       "A data.frame: 5 × 6\n",
       "\\begin{tabular}{llllll}\n",
       " Bebida & mean & max & sd & total\\_mujeres\\_mayor\\_20 & total\\_personas\\\\\n",
       " <chr> & <dbl> & <int> & <dbl> & <int> & <int>\\\\\n",
       "\\hline\n",
       "\t Agua     & 2.363636 & 5 & 17.02405 & 11 & 17\\\\\n",
       "\t Cerveza  & 2.615385 & 5 & 13.37190 & 13 & 27\\\\\n",
       "\t Cóctel   & 3.384615 & 5 & 11.99733 & 13 & 20\\\\\n",
       "\t Refresco & 3.000000 & 5 & 16.86120 &  5 & 17\\\\\n",
       "\t Vino     & 3.181818 & 5 & 12.24299 & 11 & 19\\\\\n",
       "\\end{tabular}\n"
      ],
      "text/markdown": [
       "\n",
       "A data.frame: 5 × 6\n",
       "\n",
       "| Bebida &lt;chr&gt; | mean &lt;dbl&gt; | max &lt;int&gt; | sd &lt;dbl&gt; | total_mujeres_mayor_20 &lt;int&gt; | total_personas &lt;int&gt; |\n",
       "|---|---|---|---|---|---|\n",
       "| Agua     | 2.363636 | 5 | 17.02405 | 11 | 17 |\n",
       "| Cerveza  | 2.615385 | 5 | 13.37190 | 13 | 27 |\n",
       "| Cóctel   | 3.384615 | 5 | 11.99733 | 13 | 20 |\n",
       "| Refresco | 3.000000 | 5 | 16.86120 |  5 | 17 |\n",
       "| Vino     | 3.181818 | 5 | 12.24299 | 11 | 19 |\n",
       "\n"
      ],
      "text/plain": [
       "  Bebida   mean     max sd       total_mujeres_mayor_20 total_personas\n",
       "1 Agua     2.363636 5   17.02405 11                     17            \n",
       "2 Cerveza  2.615385 5   13.37190 13                     27            \n",
       "3 Cóctel   3.384615 5   11.99733 13                     20            \n",
       "4 Refresco 3.000000 5   16.86120  5                     17            \n",
       "5 Vino     3.181818 5   12.24299 11                     19            "
      ]
     },
     "metadata": {},
     "output_type": "display_data"
    }
   ],
   "source": [
    "# Generar datos ficticios\n",
    "set.seed(42)\n",
    "num_elementos <- 100\n",
    "edades <- sample(18:70, num_elementos, replace = TRUE)\n",
    "sexos <- sample(c(\"Hombre\", \"Mujer\"), num_elementos, replace = TRUE)\n",
    "tipos_bebida <- sample(\n",
    "  c(\"Cerveza\", \"Vino\", \"Refresco\", \"Cóctel\", \"Agua\"),\n",
    "  num_elementos,\n",
    "  replace = TRUE\n",
    ")\n",
    "cantidad_copas <- sample(1:5, num_elementos, replace = TRUE)\n",
    "\n",
    "# Crear el data frame de bebidas\n",
    "bebidas <- data.frame(\n",
    "  Edad = edades,\n",
    "  Sexo = sexos,\n",
    "  Bebida = tipos_bebida,\n",
    "  Copas = cantidad_copas\n",
    ")\n",
    "\n",
    "# Necesitamos computar el total de personas agrupadas por Bebida primero.\n",
    "personas <- bebidas %>% group_by(Bebida) %>% count(name = \"total_personas\")\n",
    "# Ahora podemos computar los datos para las el subconjunto de mujeres.\n",
    "mujeres <- bebidas %>%\n",
    "  filter(Sexo == \"Mujer\" & Edad > 20) %>%\n",
    "  group_by(Bebida) %>%\n",
    "  summarise(\n",
    "    mean = mean(Copas),\n",
    "    max = max(Copas),\n",
    "    sd = sd(Edad),\n",
    "    total_mujeres_mayor_20 = n(),\n",
    "  ) %>%\n",
    "  arrange(total_mujeres_mayor_20)\n",
    "mujeres %>% merge(personas, by = \"Bebida\")"
   ]
  },
  {
   "cell_type": "code",
   "execution_count": 100,
   "metadata": {
    "vscode": {
     "languageId": "r"
    }
   },
   "outputs": [
    {
     "data": {
      "text/html": [
       "<table class=\"dataframe\">\n",
       "<caption>A data.frame: 17 × 4</caption>\n",
       "<thead>\n",
       "\t<tr><th scope=col>Edad</th><th scope=col>Sexo</th><th scope=col>Bebida</th><th scope=col>Copas</th></tr>\n",
       "\t<tr><th scope=col>&lt;int&gt;</th><th scope=col>&lt;chr&gt;</th><th scope=col>&lt;chr&gt;</th><th scope=col>&lt;int&gt;</th></tr>\n",
       "</thead>\n",
       "<tbody>\n",
       "\t<tr><td>66</td><td>Hombre</td><td>Refresco</td><td>3</td></tr>\n",
       "\t<tr><td>41</td><td>Hombre</td><td>Refresco</td><td>5</td></tr>\n",
       "\t<tr><td>63</td><td>Hombre</td><td>Refresco</td><td>2</td></tr>\n",
       "\t<tr><td>67</td><td>Hombre</td><td>Refresco</td><td>3</td></tr>\n",
       "\t<tr><td>42</td><td>Hombre</td><td>Refresco</td><td>5</td></tr>\n",
       "\t<tr><td>44</td><td>Hombre</td><td>Refresco</td><td>2</td></tr>\n",
       "\t<tr><td>62</td><td>Hombre</td><td>Refresco</td><td>3</td></tr>\n",
       "\t<tr><td>62</td><td>Hombre</td><td>Refresco</td><td>2</td></tr>\n",
       "\t<tr><td>41</td><td>Hombre</td><td>Refresco</td><td>5</td></tr>\n",
       "\t<tr><td>38</td><td>Hombre</td><td>Refresco</td><td>1</td></tr>\n",
       "\t<tr><td>46</td><td>Hombre</td><td>Refresco</td><td>5</td></tr>\n",
       "\t<tr><td>63</td><td>Hombre</td><td>Refresco</td><td>5</td></tr>\n",
       "\t<tr><td>25</td><td>Mujer </td><td>Refresco</td><td>5</td></tr>\n",
       "\t<tr><td>66</td><td>Mujer </td><td>Refresco</td><td>1</td></tr>\n",
       "\t<tr><td>66</td><td>Mujer </td><td>Refresco</td><td>4</td></tr>\n",
       "\t<tr><td>57</td><td>Mujer </td><td>Refresco</td><td>2</td></tr>\n",
       "\t<tr><td>53</td><td>Mujer </td><td>Refresco</td><td>3</td></tr>\n",
       "</tbody>\n",
       "</table>\n"
      ],
      "text/latex": [
       "A data.frame: 17 × 4\n",
       "\\begin{tabular}{llll}\n",
       " Edad & Sexo & Bebida & Copas\\\\\n",
       " <int> & <chr> & <chr> & <int>\\\\\n",
       "\\hline\n",
       "\t 66 & Hombre & Refresco & 3\\\\\n",
       "\t 41 & Hombre & Refresco & 5\\\\\n",
       "\t 63 & Hombre & Refresco & 2\\\\\n",
       "\t 67 & Hombre & Refresco & 3\\\\\n",
       "\t 42 & Hombre & Refresco & 5\\\\\n",
       "\t 44 & Hombre & Refresco & 2\\\\\n",
       "\t 62 & Hombre & Refresco & 3\\\\\n",
       "\t 62 & Hombre & Refresco & 2\\\\\n",
       "\t 41 & Hombre & Refresco & 5\\\\\n",
       "\t 38 & Hombre & Refresco & 1\\\\\n",
       "\t 46 & Hombre & Refresco & 5\\\\\n",
       "\t 63 & Hombre & Refresco & 5\\\\\n",
       "\t 25 & Mujer  & Refresco & 5\\\\\n",
       "\t 66 & Mujer  & Refresco & 1\\\\\n",
       "\t 66 & Mujer  & Refresco & 4\\\\\n",
       "\t 57 & Mujer  & Refresco & 2\\\\\n",
       "\t 53 & Mujer  & Refresco & 3\\\\\n",
       "\\end{tabular}\n"
      ],
      "text/markdown": [
       "\n",
       "A data.frame: 17 × 4\n",
       "\n",
       "| Edad &lt;int&gt; | Sexo &lt;chr&gt; | Bebida &lt;chr&gt; | Copas &lt;int&gt; |\n",
       "|---|---|---|---|\n",
       "| 66 | Hombre | Refresco | 3 |\n",
       "| 41 | Hombre | Refresco | 5 |\n",
       "| 63 | Hombre | Refresco | 2 |\n",
       "| 67 | Hombre | Refresco | 3 |\n",
       "| 42 | Hombre | Refresco | 5 |\n",
       "| 44 | Hombre | Refresco | 2 |\n",
       "| 62 | Hombre | Refresco | 3 |\n",
       "| 62 | Hombre | Refresco | 2 |\n",
       "| 41 | Hombre | Refresco | 5 |\n",
       "| 38 | Hombre | Refresco | 1 |\n",
       "| 46 | Hombre | Refresco | 5 |\n",
       "| 63 | Hombre | Refresco | 5 |\n",
       "| 25 | Mujer  | Refresco | 5 |\n",
       "| 66 | Mujer  | Refresco | 1 |\n",
       "| 66 | Mujer  | Refresco | 4 |\n",
       "| 57 | Mujer  | Refresco | 2 |\n",
       "| 53 | Mujer  | Refresco | 3 |\n",
       "\n"
      ],
      "text/plain": [
       "   Edad Sexo   Bebida   Copas\n",
       "1  66   Hombre Refresco 3    \n",
       "2  41   Hombre Refresco 5    \n",
       "3  63   Hombre Refresco 2    \n",
       "4  67   Hombre Refresco 3    \n",
       "5  42   Hombre Refresco 5    \n",
       "6  44   Hombre Refresco 2    \n",
       "7  62   Hombre Refresco 3    \n",
       "8  62   Hombre Refresco 2    \n",
       "9  41   Hombre Refresco 5    \n",
       "10 38   Hombre Refresco 1    \n",
       "11 46   Hombre Refresco 5    \n",
       "12 63   Hombre Refresco 5    \n",
       "13 25   Mujer  Refresco 5    \n",
       "14 66   Mujer  Refresco 1    \n",
       "15 66   Mujer  Refresco 4    \n",
       "16 57   Mujer  Refresco 2    \n",
       "17 53   Mujer  Refresco 3    "
      ]
     },
     "metadata": {},
     "output_type": "display_data"
    }
   ],
   "source": [
    "# Para verificarlo podemos observar el conjunto Refresco.\n",
    "bebidas %>% filter(Bebida == \"Refresco\") %>% arrange(Sexo)\n",
    "# Vemos correctamente 5 mujeres y 13 hombres"
   ]
  },
  {
   "cell_type": "markdown",
   "metadata": {},
   "source": [
    "4) Dado un data frame llamado `peliculas`, indique los 2 géneros con mayor puntuación media por país pero solo de peliculas para mayores de 13 o superiores, que incluya el número de películas en ese género, su beneficio medio (ganancia-presupuesto), la desviación estándar de la puntuación y la puntuación media. Ordenar los resultados por puntuación media por país de forma descendente."
   ]
  },
  {
   "cell_type": "code",
   "execution_count": 101,
   "metadata": {
    "vscode": {
     "languageId": "r"
    }
   },
   "outputs": [],
   "source": [
    "# Crear un data frame con 150 filas\n",
    "num_filas <- 150\n",
    "\n",
    "# Generar datos ficticios\n",
    "set.seed(123)  # Para reproducibilidad\n",
    "paises <- sample(\n",
    "  c(\"EE. UU.\", \"Reino Unido\", \"Francia\", \"España\", \"Italia\"),\n",
    "  num_filas,\n",
    "  replace = TRUE\n",
    ")\n",
    "nombres <- paste(\"Película\", 1:num_filas)\n",
    "anos <- sample(1980:2023, num_filas, replace = TRUE)\n",
    "puntuaciones <- round(runif(num_filas, 1, 10), 1)\n",
    "tematicas <- sample(\n",
    "  c(\"Acción\", \"Drama\", \"Comedia\", \"Ciencia Ficción\", \"Animación\"),\n",
    "  num_filas,\n",
    "  replace = TRUE\n",
    ")\n",
    "directores <- paste(\"Director\", 1:num_filas)\n",
    "companias <- sample(\n",
    "  c(\n",
    "    \"Warner Bros.\",\n",
    "    \"Universal Pictures\",\n",
    "    \"Disney\",\n",
    "    \"Sony Pictures\",\n",
    "    \"Paramount Pictures\"\n",
    "  ),\n",
    "  num_filas,\n",
    "  replace = TRUE\n",
    ")\n",
    "presupuestos <- round(runif(num_filas, 1000000, 50000000), 2)\n",
    "ganancias <- round(presupuestos * runif(num_filas, 0.5, 2.5), 2)\n",
    "ratings_ <- c(\"G\", \"PG\", \"PG-13\", \"R\", \"NC-17\")\n",
    "ratings <- sample(\n",
    "  ratings_, num_filas, replace = TRUE\n",
    ")  # Columna de rating ficticio\n",
    "\n",
    "# Crear el data frame\n",
    "peliculas <- data.frame(\n",
    "  Pais = paises,\n",
    "  Nombre = nombres,\n",
    "  Ano = anos,\n",
    "  Puntuacion = puntuaciones,\n",
    "  Tematica = tematicas,\n",
    "  Director = directores,\n",
    "  Compañía = companias,\n",
    "  Presupuesto = presupuestos,\n",
    "  Ganancia = ganancias,\n",
    "  Rating = ratings\n",
    ")"
   ]
  },
  {
   "cell_type": "code",
   "execution_count": 108,
   "metadata": {
    "vscode": {
     "languageId": "r"
    }
   },
   "outputs": [
    {
     "name": "stdout",
     "output_type": "stream",
     "text": [
      "'data.frame':\t150 obs. of  10 variables:\n",
      " $ Pais       : chr  \"Francia\" \"Francia\" \"Reino Unido\" \"Reino Unido\" ...\n",
      " $ Nombre     : chr  \"Película 1\" \"Película 2\" \"Película 3\" \"Película 4\" ...\n",
      " $ Ano        : int  2003 2002 2005 2022 2012 2008 1989 1992 2022 1990 ...\n",
      " $ Puntuacion : num  3.1 7.2 3.5 8.3 1.8 8.4 4.8 7.8 7 5 ...\n",
      " $ Tematica   : chr  \"Ciencia Ficción\" \"Drama\" \"Drama\" \"Comedia\" ...\n",
      " $ Director   : chr  \"Director 1\" \"Director 2\" \"Director 3\" \"Director 4\" ...\n",
      " $ Compañía   : chr  \"Paramount Pictures\" \"Paramount Pictures\" \"Sony Pictures\" \"Universal Pictures\" ...\n",
      " $ Presupuesto: num  47585481 33366083 4542042 41490247 24497660 ...\n",
      " $ Ganancia   : num  1.17e+08 5.52e+07 4.53e+06 7.18e+07 1.38e+07 ...\n",
      " $ Rating     : Ord.factor w/ 5 levels \"G\"<\"PG\"<\"PG-13\"<..: 1 1 5 4 5 4 5 5 1 2 ...\n"
     ]
    },
    {
     "name": "stderr",
     "output_type": "stream",
     "text": [
      "\u001b[1m\u001b[22m`summarise()` has grouped output by 'Pais'. You can override using the\n",
      "`.groups` argument.\n"
     ]
    },
    {
     "data": {
      "text/html": [
       "<table class=\"dataframe\">\n",
       "<caption>A grouped_df: 10 × 7</caption>\n",
       "<thead>\n",
       "\t<tr><th scope=col>Pais</th><th scope=col>Tematica</th><th scope=col>numero_peliculas</th><th scope=col>beneficio_medio</th><th scope=col>desviacion_puntuacion</th><th scope=col>media_puntuacion</th><th scope=col>rank</th></tr>\n",
       "\t<tr><th scope=col>&lt;chr&gt;</th><th scope=col>&lt;chr&gt;</th><th scope=col>&lt;int&gt;</th><th scope=col>&lt;dbl&gt;</th><th scope=col>&lt;dbl&gt;</th><th scope=col>&lt;dbl&gt;</th><th scope=col>&lt;int&gt;</th></tr>\n",
       "</thead>\n",
       "<tbody>\n",
       "\t<tr><td>EE. UU.    </td><td>Comedia        </td><td>5</td><td> 4699648</td><td>2.850965</td><td>6.460</td><td>1</td></tr>\n",
       "\t<tr><td>EE. UU.    </td><td>Acción         </td><td>3</td><td> 4022957</td><td>2.170253</td><td>6.200</td><td>2</td></tr>\n",
       "\t<tr><td>España     </td><td>Drama          </td><td>3</td><td>20685734</td><td>2.778489</td><td>7.100</td><td>1</td></tr>\n",
       "\t<tr><td>España     </td><td>Ciencia Ficción</td><td>3</td><td>12778839</td><td>2.351595</td><td>5.800</td><td>2</td></tr>\n",
       "\t<tr><td>Francia    </td><td>Comedia        </td><td>4</td><td>15326307</td><td>2.495830</td><td>7.275</td><td>1</td></tr>\n",
       "\t<tr><td>Francia    </td><td>Ciencia Ficción</td><td>2</td><td>-2180948</td><td>4.808326</td><td>6.400</td><td>2</td></tr>\n",
       "\t<tr><td>Italia     </td><td>Acción         </td><td>4</td><td> 7693685</td><td>2.017424</td><td>7.450</td><td>1</td></tr>\n",
       "\t<tr><td>Italia     </td><td>Ciencia Ficción</td><td>1</td><td> -160740</td><td>      NA</td><td>6.300</td><td>2</td></tr>\n",
       "\t<tr><td>Reino Unido</td><td>Acción         </td><td>4</td><td> 6219085</td><td>2.410221</td><td>6.525</td><td>1</td></tr>\n",
       "\t<tr><td>Reino Unido</td><td>Comedia        </td><td>5</td><td>15163272</td><td>2.522499</td><td>5.960</td><td>2</td></tr>\n",
       "</tbody>\n",
       "</table>\n"
      ],
      "text/latex": [
       "A grouped\\_df: 10 × 7\n",
       "\\begin{tabular}{lllllll}\n",
       " Pais & Tematica & numero\\_peliculas & beneficio\\_medio & desviacion\\_puntuacion & media\\_puntuacion & rank\\\\\n",
       " <chr> & <chr> & <int> & <dbl> & <dbl> & <dbl> & <int>\\\\\n",
       "\\hline\n",
       "\t EE. UU.     & Comedia         & 5 &  4699648 & 2.850965 & 6.460 & 1\\\\\n",
       "\t EE. UU.     & Acción          & 3 &  4022957 & 2.170253 & 6.200 & 2\\\\\n",
       "\t España      & Drama           & 3 & 20685734 & 2.778489 & 7.100 & 1\\\\\n",
       "\t España      & Ciencia Ficción & 3 & 12778839 & 2.351595 & 5.800 & 2\\\\\n",
       "\t Francia     & Comedia         & 4 & 15326307 & 2.495830 & 7.275 & 1\\\\\n",
       "\t Francia     & Ciencia Ficción & 2 & -2180948 & 4.808326 & 6.400 & 2\\\\\n",
       "\t Italia      & Acción          & 4 &  7693685 & 2.017424 & 7.450 & 1\\\\\n",
       "\t Italia      & Ciencia Ficción & 1 &  -160740 &       NA & 6.300 & 2\\\\\n",
       "\t Reino Unido & Acción          & 4 &  6219085 & 2.410221 & 6.525 & 1\\\\\n",
       "\t Reino Unido & Comedia         & 5 & 15163272 & 2.522499 & 5.960 & 2\\\\\n",
       "\\end{tabular}\n"
      ],
      "text/markdown": [
       "\n",
       "A grouped_df: 10 × 7\n",
       "\n",
       "| Pais &lt;chr&gt; | Tematica &lt;chr&gt; | numero_peliculas &lt;int&gt; | beneficio_medio &lt;dbl&gt; | desviacion_puntuacion &lt;dbl&gt; | media_puntuacion &lt;dbl&gt; | rank &lt;int&gt; |\n",
       "|---|---|---|---|---|---|---|\n",
       "| EE. UU.     | Comedia         | 5 |  4699648 | 2.850965 | 6.460 | 1 |\n",
       "| EE. UU.     | Acción          | 3 |  4022957 | 2.170253 | 6.200 | 2 |\n",
       "| España      | Drama           | 3 | 20685734 | 2.778489 | 7.100 | 1 |\n",
       "| España      | Ciencia Ficción | 3 | 12778839 | 2.351595 | 5.800 | 2 |\n",
       "| Francia     | Comedia         | 4 | 15326307 | 2.495830 | 7.275 | 1 |\n",
       "| Francia     | Ciencia Ficción | 2 | -2180948 | 4.808326 | 6.400 | 2 |\n",
       "| Italia      | Acción          | 4 |  7693685 | 2.017424 | 7.450 | 1 |\n",
       "| Italia      | Ciencia Ficción | 1 |  -160740 |       NA | 6.300 | 2 |\n",
       "| Reino Unido | Acción          | 4 |  6219085 | 2.410221 | 6.525 | 1 |\n",
       "| Reino Unido | Comedia         | 5 | 15163272 | 2.522499 | 5.960 | 2 |\n",
       "\n"
      ],
      "text/plain": [
       "   Pais        Tematica        numero_peliculas beneficio_medio\n",
       "1  EE. UU.     Comedia         5                 4699648       \n",
       "2  EE. UU.     Acción          3                 4022957       \n",
       "3  España      Drama           3                20685734       \n",
       "4  España      Ciencia Ficción 3                12778839       \n",
       "5  Francia     Comedia         4                15326307       \n",
       "6  Francia     Ciencia Ficción 2                -2180948       \n",
       "7  Italia      Acción          4                 7693685       \n",
       "8  Italia      Ciencia Ficción 1                 -160740       \n",
       "9  Reino Unido Acción          4                 6219085       \n",
       "10 Reino Unido Comedia         5                15163272       \n",
       "   desviacion_puntuacion media_puntuacion rank\n",
       "1  2.850965              6.460            1   \n",
       "2  2.170253              6.200            2   \n",
       "3  2.778489              7.100            1   \n",
       "4  2.351595              5.800            2   \n",
       "5  2.495830              7.275            1   \n",
       "6  4.808326              6.400            2   \n",
       "7  2.017424              7.450            1   \n",
       "8        NA              6.300            2   \n",
       "9  2.410221              6.525            1   \n",
       "10 2.522499              5.960            2   "
      ]
     },
     "metadata": {},
     "output_type": "display_data"
    }
   ],
   "source": [
    "# Según wikipedia:\n",
    "# https://es.wikipedia.org/wiki/Clasificaci%C3%B3n_por_edades_(cine)\n",
    "# Las clasificaciones para mayores de 13 sería > PG-13\n",
    "peliculas <- peliculas %>%\n",
    "  mutate(Rating = factor(ratings, levels = ratings_, ordered = TRUE))\n",
    "peliculas %>% str\n",
    "top_peliculas <- peliculas %>%\n",
    "  filter(Rating > \"PG-13\") %>%\n",
    "  group_by(Pais, Tematica) %>%\n",
    "  summarise(\n",
    "    numero_peliculas = n(),\n",
    "    beneficio_medio = mean(Ganancia - Presupuesto),\n",
    "    desviacion_puntuacion = sd(Puntuacion),\n",
    "    media_puntuacion = mean(Puntuacion),\n",
    "  ) %>%\n",
    "  arrange(desc(media_puntuacion)) %>%\n",
    "  mutate(rank = row_number()) %>%\n",
    "  filter(rank <= 2) %>%\n",
    "  arrange(Pais, desc(media_puntuacion))\n",
    "top_peliculas"
   ]
  },
  {
   "cell_type": "markdown",
   "metadata": {},
   "source": [
    "5) Dado un conjunto de datos llamado notas que contiene información sobre las notas de los estudiantes en varias asignaturas, agrega una columna con la nota promedio de cada estudiante. Previamente reemplaza los valores faltantes con 0 (HINT: usa replace_na)."
   ]
  },
  {
   "cell_type": "code",
   "execution_count": 103,
   "metadata": {
    "vscode": {
     "languageId": "r"
    }
   },
   "outputs": [],
   "source": [
    "# Generar datos ficticios\n",
    "set.seed(42)\n",
    "estudiantes <- paste(\"Estudiante\", 1:50)\n",
    "notas_matematicas <- sample(c(NA, 5, 6, 7, 8, 9, 10), 50, replace = TRUE)\n",
    "notas_historia <- sample(c(NA, 4, 5, 6, 7, 8), 50, replace = TRUE)\n",
    "notas_ciencias <- sample(c(NA, 6, 7, 8, 9, 10), 50, replace = TRUE)\n",
    "\n",
    "# Crear el data frame\n",
    "notas <- data.frame(\n",
    "  Estudiante = estudiantes,\n",
    "  Nota_Matematicas = notas_matematicas,\n",
    "  Nota_Historia = notas_historia,\n",
    "  Nota_Ciencias = notas_ciencias\n",
    ")"
   ]
  },
  {
   "cell_type": "code",
   "execution_count": 104,
   "metadata": {
    "vscode": {
     "languageId": "r"
    }
   },
   "outputs": [
    {
     "data": {
      "text/html": [
       "<table class=\"dataframe\">\n",
       "<caption>A tibble: 50 × 4</caption>\n",
       "<thead>\n",
       "\t<tr><th scope=col>Estudiante</th><th scope=col>media_mates</th><th scope=col>media_historia</th><th scope=col>media_ciencias</th></tr>\n",
       "\t<tr><th scope=col>&lt;chr&gt;</th><th scope=col>&lt;dbl&gt;</th><th scope=col>&lt;dbl&gt;</th><th scope=col>&lt;dbl&gt;</th></tr>\n",
       "</thead>\n",
       "<tbody>\n",
       "\t<tr><td>Estudiante 1 </td><td> 0</td><td>5</td><td> 9</td></tr>\n",
       "\t<tr><td>Estudiante 2 </td><td> 8</td><td>0</td><td>10</td></tr>\n",
       "\t<tr><td>Estudiante 3 </td><td> 0</td><td>7</td><td> 7</td></tr>\n",
       "\t<tr><td>Estudiante 4 </td><td> 0</td><td>4</td><td>10</td></tr>\n",
       "\t<tr><td>Estudiante 5 </td><td> 5</td><td>4</td><td> 8</td></tr>\n",
       "\t<tr><td>Estudiante 6 </td><td> 7</td><td>8</td><td> 9</td></tr>\n",
       "\t<tr><td>Estudiante 7 </td><td> 5</td><td>8</td><td> 0</td></tr>\n",
       "\t<tr><td>Estudiante 8 </td><td> 5</td><td>4</td><td> 8</td></tr>\n",
       "\t<tr><td>Estudiante 9 </td><td> 0</td><td>6</td><td> 0</td></tr>\n",
       "\t<tr><td>Estudiante 10</td><td>10</td><td>5</td><td> 0</td></tr>\n",
       "\t<tr><td>Estudiante 11</td><td>10</td><td>8</td><td> 9</td></tr>\n",
       "\t<tr><td>Estudiante 12</td><td> 7</td><td>7</td><td>10</td></tr>\n",
       "\t<tr><td>Estudiante 13</td><td> 0</td><td>4</td><td> 7</td></tr>\n",
       "\t<tr><td>Estudiante 14</td><td> 8</td><td>8</td><td> 0</td></tr>\n",
       "\t<tr><td>Estudiante 15</td><td> 9</td><td>4</td><td> 6</td></tr>\n",
       "\t<tr><td>Estudiante 16</td><td> 7</td><td>4</td><td> 9</td></tr>\n",
       "\t<tr><td>Estudiante 17</td><td> 5</td><td>7</td><td>10</td></tr>\n",
       "\t<tr><td>Estudiante 18</td><td> 5</td><td>0</td><td> 0</td></tr>\n",
       "\t<tr><td>Estudiante 19</td><td>10</td><td>0</td><td> 9</td></tr>\n",
       "\t<tr><td>Estudiante 20</td><td> 6</td><td>6</td><td>10</td></tr>\n",
       "\t<tr><td>Estudiante 21</td><td> 0</td><td>7</td><td> 9</td></tr>\n",
       "\t<tr><td>Estudiante 22</td><td> 0</td><td>4</td><td> 0</td></tr>\n",
       "\t<tr><td>Estudiante 23</td><td> 6</td><td>0</td><td> 6</td></tr>\n",
       "\t<tr><td>Estudiante 24</td><td> 7</td><td>7</td><td> 7</td></tr>\n",
       "\t<tr><td>Estudiante 25</td><td> 8</td><td>6</td><td> 6</td></tr>\n",
       "\t<tr><td>Estudiante 26</td><td>10</td><td>6</td><td> 6</td></tr>\n",
       "\t<tr><td>Estudiante 27</td><td> 8</td><td>0</td><td> 0</td></tr>\n",
       "\t<tr><td>Estudiante 28</td><td> 8</td><td>5</td><td> 7</td></tr>\n",
       "\t<tr><td>Estudiante 29</td><td> 7</td><td>5</td><td> 0</td></tr>\n",
       "\t<tr><td>Estudiante 30</td><td> 5</td><td>7</td><td> 9</td></tr>\n",
       "\t<tr><td>Estudiante 31</td><td> 7</td><td>7</td><td> 0</td></tr>\n",
       "\t<tr><td>Estudiante 32</td><td> 6</td><td>6</td><td> 7</td></tr>\n",
       "\t<tr><td>Estudiante 33</td><td> 5</td><td>8</td><td> 0</td></tr>\n",
       "\t<tr><td>Estudiante 34</td><td> 0</td><td>7</td><td>10</td></tr>\n",
       "\t<tr><td>Estudiante 35</td><td> 5</td><td>6</td><td>10</td></tr>\n",
       "\t<tr><td>Estudiante 36</td><td> 9</td><td>8</td><td>10</td></tr>\n",
       "\t<tr><td>Estudiante 37</td><td> 6</td><td>4</td><td> 7</td></tr>\n",
       "\t<tr><td>Estudiante 38</td><td>10</td><td>4</td><td>10</td></tr>\n",
       "\t<tr><td>Estudiante 39</td><td> 9</td><td>0</td><td> 9</td></tr>\n",
       "\t<tr><td>Estudiante 40</td><td> 5</td><td>4</td><td> 0</td></tr>\n",
       "\t<tr><td>Estudiante 41</td><td> 7</td><td>7</td><td>10</td></tr>\n",
       "\t<tr><td>Estudiante 42</td><td> 7</td><td>8</td><td> 0</td></tr>\n",
       "\t<tr><td>Estudiante 43</td><td> 9</td><td>7</td><td> 6</td></tr>\n",
       "\t<tr><td>Estudiante 44</td><td> 5</td><td>6</td><td> 6</td></tr>\n",
       "\t<tr><td>Estudiante 45</td><td> 8</td><td>0</td><td>10</td></tr>\n",
       "\t<tr><td>Estudiante 46</td><td> 7</td><td>6</td><td>10</td></tr>\n",
       "\t<tr><td>Estudiante 47</td><td> 8</td><td>4</td><td>10</td></tr>\n",
       "\t<tr><td>Estudiante 48</td><td> 7</td><td>4</td><td>10</td></tr>\n",
       "\t<tr><td>Estudiante 49</td><td> 5</td><td>5</td><td>10</td></tr>\n",
       "\t<tr><td>Estudiante 50</td><td> 5</td><td>7</td><td> 8</td></tr>\n",
       "</tbody>\n",
       "</table>\n"
      ],
      "text/latex": [
       "A tibble: 50 × 4\n",
       "\\begin{tabular}{llll}\n",
       " Estudiante & media\\_mates & media\\_historia & media\\_ciencias\\\\\n",
       " <chr> & <dbl> & <dbl> & <dbl>\\\\\n",
       "\\hline\n",
       "\t Estudiante 1  &  0 & 5 &  9\\\\\n",
       "\t Estudiante 2  &  8 & 0 & 10\\\\\n",
       "\t Estudiante 3  &  0 & 7 &  7\\\\\n",
       "\t Estudiante 4  &  0 & 4 & 10\\\\\n",
       "\t Estudiante 5  &  5 & 4 &  8\\\\\n",
       "\t Estudiante 6  &  7 & 8 &  9\\\\\n",
       "\t Estudiante 7  &  5 & 8 &  0\\\\\n",
       "\t Estudiante 8  &  5 & 4 &  8\\\\\n",
       "\t Estudiante 9  &  0 & 6 &  0\\\\\n",
       "\t Estudiante 10 & 10 & 5 &  0\\\\\n",
       "\t Estudiante 11 & 10 & 8 &  9\\\\\n",
       "\t Estudiante 12 &  7 & 7 & 10\\\\\n",
       "\t Estudiante 13 &  0 & 4 &  7\\\\\n",
       "\t Estudiante 14 &  8 & 8 &  0\\\\\n",
       "\t Estudiante 15 &  9 & 4 &  6\\\\\n",
       "\t Estudiante 16 &  7 & 4 &  9\\\\\n",
       "\t Estudiante 17 &  5 & 7 & 10\\\\\n",
       "\t Estudiante 18 &  5 & 0 &  0\\\\\n",
       "\t Estudiante 19 & 10 & 0 &  9\\\\\n",
       "\t Estudiante 20 &  6 & 6 & 10\\\\\n",
       "\t Estudiante 21 &  0 & 7 &  9\\\\\n",
       "\t Estudiante 22 &  0 & 4 &  0\\\\\n",
       "\t Estudiante 23 &  6 & 0 &  6\\\\\n",
       "\t Estudiante 24 &  7 & 7 &  7\\\\\n",
       "\t Estudiante 25 &  8 & 6 &  6\\\\\n",
       "\t Estudiante 26 & 10 & 6 &  6\\\\\n",
       "\t Estudiante 27 &  8 & 0 &  0\\\\\n",
       "\t Estudiante 28 &  8 & 5 &  7\\\\\n",
       "\t Estudiante 29 &  7 & 5 &  0\\\\\n",
       "\t Estudiante 30 &  5 & 7 &  9\\\\\n",
       "\t Estudiante 31 &  7 & 7 &  0\\\\\n",
       "\t Estudiante 32 &  6 & 6 &  7\\\\\n",
       "\t Estudiante 33 &  5 & 8 &  0\\\\\n",
       "\t Estudiante 34 &  0 & 7 & 10\\\\\n",
       "\t Estudiante 35 &  5 & 6 & 10\\\\\n",
       "\t Estudiante 36 &  9 & 8 & 10\\\\\n",
       "\t Estudiante 37 &  6 & 4 &  7\\\\\n",
       "\t Estudiante 38 & 10 & 4 & 10\\\\\n",
       "\t Estudiante 39 &  9 & 0 &  9\\\\\n",
       "\t Estudiante 40 &  5 & 4 &  0\\\\\n",
       "\t Estudiante 41 &  7 & 7 & 10\\\\\n",
       "\t Estudiante 42 &  7 & 8 &  0\\\\\n",
       "\t Estudiante 43 &  9 & 7 &  6\\\\\n",
       "\t Estudiante 44 &  5 & 6 &  6\\\\\n",
       "\t Estudiante 45 &  8 & 0 & 10\\\\\n",
       "\t Estudiante 46 &  7 & 6 & 10\\\\\n",
       "\t Estudiante 47 &  8 & 4 & 10\\\\\n",
       "\t Estudiante 48 &  7 & 4 & 10\\\\\n",
       "\t Estudiante 49 &  5 & 5 & 10\\\\\n",
       "\t Estudiante 50 &  5 & 7 &  8\\\\\n",
       "\\end{tabular}\n"
      ],
      "text/markdown": [
       "\n",
       "A tibble: 50 × 4\n",
       "\n",
       "| Estudiante &lt;chr&gt; | media_mates &lt;dbl&gt; | media_historia &lt;dbl&gt; | media_ciencias &lt;dbl&gt; |\n",
       "|---|---|---|---|\n",
       "| Estudiante 1  |  0 | 5 |  9 |\n",
       "| Estudiante 2  |  8 | 0 | 10 |\n",
       "| Estudiante 3  |  0 | 7 |  7 |\n",
       "| Estudiante 4  |  0 | 4 | 10 |\n",
       "| Estudiante 5  |  5 | 4 |  8 |\n",
       "| Estudiante 6  |  7 | 8 |  9 |\n",
       "| Estudiante 7  |  5 | 8 |  0 |\n",
       "| Estudiante 8  |  5 | 4 |  8 |\n",
       "| Estudiante 9  |  0 | 6 |  0 |\n",
       "| Estudiante 10 | 10 | 5 |  0 |\n",
       "| Estudiante 11 | 10 | 8 |  9 |\n",
       "| Estudiante 12 |  7 | 7 | 10 |\n",
       "| Estudiante 13 |  0 | 4 |  7 |\n",
       "| Estudiante 14 |  8 | 8 |  0 |\n",
       "| Estudiante 15 |  9 | 4 |  6 |\n",
       "| Estudiante 16 |  7 | 4 |  9 |\n",
       "| Estudiante 17 |  5 | 7 | 10 |\n",
       "| Estudiante 18 |  5 | 0 |  0 |\n",
       "| Estudiante 19 | 10 | 0 |  9 |\n",
       "| Estudiante 20 |  6 | 6 | 10 |\n",
       "| Estudiante 21 |  0 | 7 |  9 |\n",
       "| Estudiante 22 |  0 | 4 |  0 |\n",
       "| Estudiante 23 |  6 | 0 |  6 |\n",
       "| Estudiante 24 |  7 | 7 |  7 |\n",
       "| Estudiante 25 |  8 | 6 |  6 |\n",
       "| Estudiante 26 | 10 | 6 |  6 |\n",
       "| Estudiante 27 |  8 | 0 |  0 |\n",
       "| Estudiante 28 |  8 | 5 |  7 |\n",
       "| Estudiante 29 |  7 | 5 |  0 |\n",
       "| Estudiante 30 |  5 | 7 |  9 |\n",
       "| Estudiante 31 |  7 | 7 |  0 |\n",
       "| Estudiante 32 |  6 | 6 |  7 |\n",
       "| Estudiante 33 |  5 | 8 |  0 |\n",
       "| Estudiante 34 |  0 | 7 | 10 |\n",
       "| Estudiante 35 |  5 | 6 | 10 |\n",
       "| Estudiante 36 |  9 | 8 | 10 |\n",
       "| Estudiante 37 |  6 | 4 |  7 |\n",
       "| Estudiante 38 | 10 | 4 | 10 |\n",
       "| Estudiante 39 |  9 | 0 |  9 |\n",
       "| Estudiante 40 |  5 | 4 |  0 |\n",
       "| Estudiante 41 |  7 | 7 | 10 |\n",
       "| Estudiante 42 |  7 | 8 |  0 |\n",
       "| Estudiante 43 |  9 | 7 |  6 |\n",
       "| Estudiante 44 |  5 | 6 |  6 |\n",
       "| Estudiante 45 |  8 | 0 | 10 |\n",
       "| Estudiante 46 |  7 | 6 | 10 |\n",
       "| Estudiante 47 |  8 | 4 | 10 |\n",
       "| Estudiante 48 |  7 | 4 | 10 |\n",
       "| Estudiante 49 |  5 | 5 | 10 |\n",
       "| Estudiante 50 |  5 | 7 |  8 |\n",
       "\n"
      ],
      "text/plain": [
       "   Estudiante    media_mates media_historia media_ciencias\n",
       "1  Estudiante 1   0          5               9            \n",
       "2  Estudiante 2   8          0              10            \n",
       "3  Estudiante 3   0          7               7            \n",
       "4  Estudiante 4   0          4              10            \n",
       "5  Estudiante 5   5          4               8            \n",
       "6  Estudiante 6   7          8               9            \n",
       "7  Estudiante 7   5          8               0            \n",
       "8  Estudiante 8   5          4               8            \n",
       "9  Estudiante 9   0          6               0            \n",
       "10 Estudiante 10 10          5               0            \n",
       "11 Estudiante 11 10          8               9            \n",
       "12 Estudiante 12  7          7              10            \n",
       "13 Estudiante 13  0          4               7            \n",
       "14 Estudiante 14  8          8               0            \n",
       "15 Estudiante 15  9          4               6            \n",
       "16 Estudiante 16  7          4               9            \n",
       "17 Estudiante 17  5          7              10            \n",
       "18 Estudiante 18  5          0               0            \n",
       "19 Estudiante 19 10          0               9            \n",
       "20 Estudiante 20  6          6              10            \n",
       "21 Estudiante 21  0          7               9            \n",
       "22 Estudiante 22  0          4               0            \n",
       "23 Estudiante 23  6          0               6            \n",
       "24 Estudiante 24  7          7               7            \n",
       "25 Estudiante 25  8          6               6            \n",
       "26 Estudiante 26 10          6               6            \n",
       "27 Estudiante 27  8          0               0            \n",
       "28 Estudiante 28  8          5               7            \n",
       "29 Estudiante 29  7          5               0            \n",
       "30 Estudiante 30  5          7               9            \n",
       "31 Estudiante 31  7          7               0            \n",
       "32 Estudiante 32  6          6               7            \n",
       "33 Estudiante 33  5          8               0            \n",
       "34 Estudiante 34  0          7              10            \n",
       "35 Estudiante 35  5          6              10            \n",
       "36 Estudiante 36  9          8              10            \n",
       "37 Estudiante 37  6          4               7            \n",
       "38 Estudiante 38 10          4              10            \n",
       "39 Estudiante 39  9          0               9            \n",
       "40 Estudiante 40  5          4               0            \n",
       "41 Estudiante 41  7          7              10            \n",
       "42 Estudiante 42  7          8               0            \n",
       "43 Estudiante 43  9          7               6            \n",
       "44 Estudiante 44  5          6               6            \n",
       "45 Estudiante 45  8          0              10            \n",
       "46 Estudiante 46  7          6              10            \n",
       "47 Estudiante 47  8          4              10            \n",
       "48 Estudiante 48  7          4              10            \n",
       "49 Estudiante 49  5          5              10            \n",
       "50 Estudiante 50  5          7               8            "
      ]
     },
     "metadata": {},
     "output_type": "display_data"
    }
   ],
   "source": [
    "final <- notas %>%\n",
    "  replace_na(\n",
    "    list(\n",
    "      Nota_Matematicas = 0,\n",
    "      Nota_Historia = 0,\n",
    "      Nota_Ciencias = 0\n",
    "    )\n",
    "  ) %>%\n",
    "  group_by(Estudiante) %>%\n",
    "  summarise(\n",
    "    across(\n",
    "      c(Nota_Matematicas, Nota_Historia, Nota_Ciencias),\n",
    "      .fns = mean,\n",
    "    ),\n",
    "  ) %>%\n",
    "  # Ahora solo ponemos los resultados un poco más bonito\n",
    "  rename(\n",
    "    media_ciencias = Nota_Ciencias,\n",
    "    media_historia = Nota_Historia,\n",
    "    media_mates = Nota_Matematicas\n",
    "  ) %>%\n",
    "  extract(Estudiante, \"id\", regex = \"([0-9]+)\", remove = FALSE) %>%\n",
    "  mutate(id = as.numeric(id)) %>%\n",
    "  arrange(id) %>%\n",
    "  select(-id)\n",
    "final"
   ]
  }
 ],
 "metadata": {
  "kernelspec": {
   "display_name": "R",
   "language": "R",
   "name": "ir"
  },
  "language_info": {
   "codemirror_mode": "r",
   "file_extension": ".r",
   "mimetype": "text/x-r-source",
   "name": "R",
   "pygments_lexer": "r",
   "version": "4.4.1"
  }
 },
 "nbformat": 4,
 "nbformat_minor": 2
}
