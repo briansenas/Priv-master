{
 "cells": [
  {
   "cell_type": "markdown",
   "metadata": {},
   "source": [
    "# __Nombre__: Brian Sena Simons"
   ]
  },
  {
   "cell_type": "markdown",
   "metadata": {},
   "source": [
    "## Ejercicios strings (1ra parte)\n",
    "1. Crea un vector de cadenas de caracteres con tu nombre y apellidos (por ejemplo, [\"Rocío\", \"Romero\", Zaliz\"]). A partir de el crea una nueva cadena de caracteres con la inicial de tu nombre, un punto y tus apellidos (por ejemplo, \"R. Romero Zaliz\")."
   ]
  },
  {
   "cell_type": "code",
   "execution_count": 9,
   "metadata": {
    "vscode": {
     "languageId": "r"
    }
   },
   "outputs": [
    {
     "data": {
      "text/html": [
       "'B. Sena Simons'"
      ],
      "text/latex": [
       "'B. Sena Simons'"
      ],
      "text/markdown": [
       "'B. Sena Simons'"
      ],
      "text/plain": [
       "[1] \"B. Sena Simons\""
      ]
     },
     "metadata": {},
     "output_type": "display_data"
    }
   ],
   "source": [
    "nombre <- c(\"Brian\", \"Sena\", \"Simons\")\n",
    "paste(\n",
    "  substr(nombre[1], 1, 1),\n",
    "  paste(nombre[2], nombre[3], sep = \" \"),\n",
    "  sep = \". \"\n",
    ")"
   ]
  },
  {
   "cell_type": "markdown",
   "metadata": {},
   "source": [
    "2. Dado un vector de cadenas de caracteres que representan fechas (por ejemplo, [\"2005-11-28\", \"2015-10-18\", \"2000-01-01\"], utilizando el formato AÑO-MES-DÍA), mostrar sólo las correspondientes a los meses impares."
   ]
  },
  {
   "cell_type": "code",
   "execution_count": 10,
   "metadata": {
    "vscode": {
     "languageId": "r"
    }
   },
   "outputs": [
    {
     "data": {
      "text/html": [
       "<style>\n",
       ".list-inline {list-style: none; margin:0; padding: 0}\n",
       ".list-inline>li {display: inline-block}\n",
       ".list-inline>li:not(:last-child)::after {content: \"\\00b7\"; padding: 0 .5ex}\n",
       "</style>\n",
       "<ol class=list-inline><li>'11'</li><li>'01'</li></ol>\n"
      ],
      "text/latex": [
       "\\begin{enumerate*}\n",
       "\\item '11'\n",
       "\\item '01'\n",
       "\\end{enumerate*}\n"
      ],
      "text/markdown": [
       "1. '11'\n",
       "2. '01'\n",
       "\n",
       "\n"
      ],
      "text/plain": [
       "[1] \"11\" \"01\""
      ]
     },
     "metadata": {},
     "output_type": "display_data"
    }
   ],
   "source": [
    "fechas <- c(\"2005-11-28\", \"2015-10-18\", \"2000-01-01\")\n",
    "lista <- strsplit(fechas, split = \"-\")\n",
    "meses <- unlist(lista)[seq(2, to = length(unlist(lista)), by = 3)]\n",
    "meses[as.numeric(meses) %% 2 == 1]"
   ]
  },
  {
   "cell_type": "markdown",
   "metadata": {},
   "source": [
    "3. Dada una cadena de caracteres con varias palabras (por ejemplo, \"Esta es una frase, pero no cualquier frase.\") crea un vector con cada una de las palabras de la cadena (por ejemplo, [\"Esta\", \"es\", \"una\", \"frase\", \"pero\", \"no\", \"cualquier\", \"frase\"]). Tenga en cuenta todos los caracteres de puntuación posibles."
   ]
  },
  {
   "cell_type": "code",
   "execution_count": 11,
   "metadata": {
    "vscode": {
     "languageId": "r"
    }
   },
   "outputs": [
    {
     "data": {
      "text/html": [
       "<style>\n",
       ".list-inline {list-style: none; margin:0; padding: 0}\n",
       ".list-inline>li {display: inline-block}\n",
       ".list-inline>li:not(:last-child)::after {content: \"\\00b7\"; padding: 0 .5ex}\n",
       "</style>\n",
       "<ol class=list-inline><li>'Esta'</li><li>'es'</li><li>'una'</li><li>'frase'</li><li>''</li><li>'pero'</li><li>'no'</li><li>'cualquier'</li><li>'frase'</li></ol>\n"
      ],
      "text/latex": [
       "\\begin{enumerate*}\n",
       "\\item 'Esta'\n",
       "\\item 'es'\n",
       "\\item 'una'\n",
       "\\item 'frase'\n",
       "\\item ''\n",
       "\\item 'pero'\n",
       "\\item 'no'\n",
       "\\item 'cualquier'\n",
       "\\item 'frase'\n",
       "\\end{enumerate*}\n"
      ],
      "text/markdown": [
       "1. 'Esta'\n",
       "2. 'es'\n",
       "3. 'una'\n",
       "4. 'frase'\n",
       "5. ''\n",
       "6. 'pero'\n",
       "7. 'no'\n",
       "8. 'cualquier'\n",
       "9. 'frase'\n",
       "\n",
       "\n"
      ],
      "text/plain": [
       "[1] \"Esta\"      \"es\"        \"una\"       \"frase\"     \"\"          \"pero\"     \n",
       "[7] \"no\"        \"cualquier\" \"frase\"    "
      ]
     },
     "metadata": {},
     "output_type": "display_data"
    }
   ],
   "source": [
    "frase <- c(\"Esta es una frase, pero no cualquier frase\")\n",
    "# https://www.rdocumentation.org/packages/base/versions/3.6.2/topics/regex\n",
    "unlist(strsplit(frase, split = \"[[:punct:] ]\"))"
   ]
  },
  {
   "cell_type": "markdown",
   "metadata": {},
   "source": [
    "4. Busca en un vector de cadenas de caractees aquellas que incluyan sólo vocales \"a\" y/o \"e\" o ninguna (comprueba mayúsculas y minúsculas, considera á, é, Á y É como otros caracteres y no los que buscas)."
   ]
  },
  {
   "cell_type": "code",
   "execution_count": 12,
   "metadata": {
    "vscode": {
     "languageId": "r"
    }
   },
   "outputs": [
    {
     "name": "stdout",
     "output_type": "stream",
     "text": [
      "[1] \"Los gAtos son lindos\" \"Un sol brilla\"        \"Frío y calor\"        \n",
      "[4] \"Mi pErro rugE\"       \n"
     ]
    }
   ],
   "source": [
    "frases <- c(\n",
    "  \"Hoy és un\", # Contiene é (No match)\n",
    "  \"Los gAtos son lindos\",\n",
    "  \"Un sol brilla\",\n",
    "  \"Frío y calor\",\n",
    "  \"Mi pErro rugE\",\n",
    "  \"Cruz y sol\", # No contiene a ni e\n",
    "  \"Luz y sol\",  # No contiene a ni e\n",
    "  \"Todo clÁro\", # contiene Á (No match)\n",
    "  \"Río sin fin\" # No contiene a ni e\n",
    ")\n",
    "print(frases[grep(\"[ae]\", frases, ignore.case = TRUE)])"
   ]
  },
  {
   "cell_type": "markdown",
   "metadata": {},
   "source": [
    "5. Dados tres vectores numéricos que representan días, meses y años, crea un vector nuevo con fechas (sólo si son válidas, si la fecha es inválida ignorarla) (Sugerencia: investigue la función `as.Date`)."
   ]
  },
  {
   "cell_type": "code",
   "execution_count": 13,
   "metadata": {
    "vscode": {
     "languageId": "r"
    }
   },
   "outputs": [
    {
     "data": {
      "text/html": [
       "<style>\n",
       ".list-inline {list-style: none; margin:0; padding: 0}\n",
       ".list-inline>li {display: inline-block}\n",
       ".list-inline>li:not(:last-child)::after {content: \"\\00b7\"; padding: 0 .5ex}\n",
       "</style>\n",
       "<ol class=list-inline><li><time datetime=\"19-08-08\">19-08-08</time></li><li><time datetime=\"20-01-04\">20-01-04</time></li><li><time datetime=\"30-03-08\">30-03-08</time></li><li><time datetime=\"28-05-29\">28-05-29</time></li></ol>\n"
      ],
      "text/latex": [
       "\\begin{enumerate*}\n",
       "\\item 19-08-08\n",
       "\\item 20-01-04\n",
       "\\item 30-03-08\n",
       "\\item 28-05-29\n",
       "\\end{enumerate*}\n"
      ],
      "text/markdown": [
       "1. 19-08-08\n",
       "2. 20-01-04\n",
       "3. 30-03-08\n",
       "4. 28-05-29\n",
       "\n",
       "\n"
      ],
      "text/plain": [
       "[1] \"19-08-08\" \"20-01-04\" \"30-03-08\" \"28-05-29\""
      ]
     },
     "metadata": {},
     "output_type": "display_data"
    }
   ],
   "source": [
    "meses <- sample(1:30, size = 10, replace = TRUE)\n",
    "dias <- sample(1:30, size = 10, replace = TRUE)\n",
    "ano <- sample(1:30, size = 10, replace = TRUE)\n",
    "\n",
    "fechas <- as.Date(\n",
    "  paste(dias, meses, ano, sep = \"-\"), format = \"%d-%m-%Y\"\n",
    ")\n",
    "fechas[!is.na(fechas)]"
   ]
  },
  {
   "cell_type": "markdown",
   "metadata": {},
   "source": [
    "## Ejercicios string (2da parte)\n",
    "\n",
    "Lo mismo que en la parte 1 pero usando las funciones de `stringr`.\n",
    "\n",
    "1. Crea un vector de cadenas de caracteres con tu nombre y apellidos (por ejemplo, [\"Rocío\", \"Romero\", Zaliz\"]). A partir de el crea una nueva cadena de caracteres con la inicial de tu nombre, un punto y tus apellidos (por ejemplo, \"R. Romero Zaliz\")."
   ]
  },
  {
   "cell_type": "code",
   "execution_count": 14,
   "metadata": {
    "vscode": {
     "languageId": "r"
    }
   },
   "outputs": [
    {
     "name": "stderr",
     "output_type": "stream",
     "text": [
      "── \u001b[1mAttaching core tidyverse packages\u001b[22m ──────────────────────── tidyverse 2.0.0 ──\n",
      "\u001b[32m✔\u001b[39m \u001b[34mdplyr    \u001b[39m 1.1.4     \u001b[32m✔\u001b[39m \u001b[34mreadr    \u001b[39m 2.1.5\n",
      "\u001b[32m✔\u001b[39m \u001b[34mforcats  \u001b[39m 1.0.0     \u001b[32m✔\u001b[39m \u001b[34mstringr  \u001b[39m 1.5.1\n",
      "\u001b[32m✔\u001b[39m \u001b[34mggplot2  \u001b[39m 3.5.1     \u001b[32m✔\u001b[39m \u001b[34mtibble   \u001b[39m 3.2.1\n",
      "\u001b[32m✔\u001b[39m \u001b[34mlubridate\u001b[39m 1.9.3     \u001b[32m✔\u001b[39m \u001b[34mtidyr    \u001b[39m 1.3.1\n",
      "\u001b[32m✔\u001b[39m \u001b[34mpurrr    \u001b[39m 1.0.2     \n",
      "── \u001b[1mConflicts\u001b[22m ────────────────────────────────────────── tidyverse_conflicts() ──\n",
      "\u001b[31m✖\u001b[39m \u001b[34mdplyr\u001b[39m::\u001b[32mfilter()\u001b[39m masks \u001b[34mstats\u001b[39m::filter()\n",
      "\u001b[31m✖\u001b[39m \u001b[34mdplyr\u001b[39m::\u001b[32mlag()\u001b[39m    masks \u001b[34mstats\u001b[39m::lag()\n",
      "\u001b[36mℹ\u001b[39m Use the conflicted package (\u001b[3m\u001b[34m<http://conflicted.r-lib.org/>\u001b[39m\u001b[23m) to force all conflicts to become errors\n"
     ]
    }
   ],
   "source": [
    "library(tidyverse)\n",
    "library(stringr)"
   ]
  },
  {
   "cell_type": "code",
   "execution_count": 15,
   "metadata": {
    "vscode": {
     "languageId": "r"
    }
   },
   "outputs": [
    {
     "data": {
      "text/html": [
       "'B. Sena Simons'"
      ],
      "text/latex": [
       "'B. Sena Simons'"
      ],
      "text/markdown": [
       "'B. Sena Simons'"
      ],
      "text/plain": [
       "[1] \"B. Sena Simons\""
      ]
     },
     "metadata": {},
     "output_type": "display_data"
    }
   ],
   "source": [
    "nombre <- c(\"Brian\", \"Sena\", \"Simons\")\n",
    "str_c(str_replace(nombre[1], \"Brian\", \"B.\"), nombre[2], nombre[3], sep = \" \")"
   ]
  },
  {
   "cell_type": "markdown",
   "metadata": {},
   "source": [
    "2. Dado un vector de cadenas de caracteres que representan fechas (por ejemplo, [\"2005-11-28\", \"2015-10-18\", \"2000-01-01\"], utilizando el formato AÑO-MES-DÍA), mostrar sólo las correspondientes a los meses impares."
   ]
  },
  {
   "cell_type": "code",
   "execution_count": 24,
   "metadata": {
    "vscode": {
     "languageId": "r"
    }
   },
   "outputs": [
    {
     "name": "stdout",
     "output_type": "stream",
     "text": [
      "[1] \"2005-11-28\" \"2000-01-01\"\n"
     ]
    }
   ],
   "source": [
    "fechas <- c(\"2005-11-28\", \"2015-10-18\", \"2000-01-01\")\n",
    "meses <- str_match(fechas, \"[0-9]{4}-([0-9]{2})-[0-9]{2}\")\n",
    "print(meses[as.numeric(meses[, 2]) %% 2 == 1, 1])"
   ]
  },
  {
   "cell_type": "markdown",
   "metadata": {},
   "source": [
    "\n",
    "3. Dada una cadena de caracteres con varias palabras (por ejemplo, \"Esta es una frase, pero no cualquier frase.\") crea un vector con cada una de las palabras de la cadena (por ejemplo, [\"Esta\", \"es\", \"una\", \"frase\", \"pero\", \"no\", \"cualquier\", \"frase\"]). Tenga en cuenta todos los caracteres de puntuación posibles."
   ]
  },
  {
   "cell_type": "code",
   "execution_count": 26,
   "metadata": {
    "vscode": {
     "languageId": "r"
    }
   },
   "outputs": [
    {
     "data": {
      "text/html": [
       "<style>\n",
       ".list-inline {list-style: none; margin:0; padding: 0}\n",
       ".list-inline>li {display: inline-block}\n",
       ".list-inline>li:not(:last-child)::after {content: \"\\00b7\"; padding: 0 .5ex}\n",
       "</style>\n",
       "<ol class=list-inline><li>'Esta'</li><li>'es'</li><li>'una'</li><li>'frase'</li><li>''</li><li>'pero'</li><li>'no'</li><li>'cualquier'</li><li>'frase'</li><li>''</li></ol>\n"
      ],
      "text/latex": [
       "\\begin{enumerate*}\n",
       "\\item 'Esta'\n",
       "\\item 'es'\n",
       "\\item 'una'\n",
       "\\item 'frase'\n",
       "\\item ''\n",
       "\\item 'pero'\n",
       "\\item 'no'\n",
       "\\item 'cualquier'\n",
       "\\item 'frase'\n",
       "\\item ''\n",
       "\\end{enumerate*}\n"
      ],
      "text/markdown": [
       "1. 'Esta'\n",
       "2. 'es'\n",
       "3. 'una'\n",
       "4. 'frase'\n",
       "5. ''\n",
       "6. 'pero'\n",
       "7. 'no'\n",
       "8. 'cualquier'\n",
       "9. 'frase'\n",
       "10. ''\n",
       "\n",
       "\n"
      ],
      "text/plain": [
       " [1] \"Esta\"      \"es\"        \"una\"       \"frase\"     \"\"          \"pero\"     \n",
       " [7] \"no\"        \"cualquier\" \"frase\"     \"\"         "
      ]
     },
     "metadata": {},
     "output_type": "display_data"
    }
   ],
   "source": [
    "frase <- c(\"Esta es una frase, pero no cualquier frase.\")\n",
    "unlist(str_split(frase, pattern = \"[[:punct:] ]\"))"
   ]
  },
  {
   "cell_type": "markdown",
   "metadata": {},
   "source": [
    "4. Busca en un vector de cadenas de caractees aquellas que incluyan sólo vocales \"a\" y/o \"e\" o ninguna (comprueba mayúsculas y minúsculas, considera á, é, Á y É como otros caracteres y no los que buscas)."
   ]
  },
  {
   "cell_type": "code",
   "execution_count": 18,
   "metadata": {
    "vscode": {
     "languageId": "r"
    }
   },
   "outputs": [
    {
     "data": {
      "text/html": [
       "<style>\n",
       ".list-inline {list-style: none; margin:0; padding: 0}\n",
       ".list-inline>li {display: inline-block}\n",
       ".list-inline>li:not(:last-child)::after {content: \"\\00b7\"; padding: 0 .5ex}\n",
       "</style>\n",
       "<ol class=list-inline><li>'Los gAtos son lindos'</li><li>'Un sol brilla'</li><li>'Frío y calor'</li><li>'Mi pErro rugE'</li></ol>\n"
      ],
      "text/latex": [
       "\\begin{enumerate*}\n",
       "\\item 'Los gAtos son lindos'\n",
       "\\item 'Un sol brilla'\n",
       "\\item 'Frío y calor'\n",
       "\\item 'Mi pErro rugE'\n",
       "\\end{enumerate*}\n"
      ],
      "text/markdown": [
       "1. 'Los gAtos son lindos'\n",
       "2. 'Un sol brilla'\n",
       "3. 'Frío y calor'\n",
       "4. 'Mi pErro rugE'\n",
       "\n",
       "\n"
      ],
      "text/plain": [
       "[1] \"Los gAtos son lindos\" \"Un sol brilla\"        \"Frío y calor\"        \n",
       "[4] \"Mi pErro rugE\"       "
      ]
     },
     "metadata": {},
     "output_type": "display_data"
    }
   ],
   "source": [
    "frases <- c(\n",
    "  \"Hoy és un\", # Contiene é\n",
    "  \"Los gAtos son lindos\",\n",
    "  \"Un sol brilla\",\n",
    "  \"Frío y calor\",\n",
    "  \"Mi pErro rugE\",\n",
    "  \"Cruz y sol\", # No contiene a ni e\n",
    "  \"Luz y sol\",  # No contiene a ni e\n",
    "  \"Todo clÁro\", # contiene Á \n",
    "  \"Río sin fin\" # No contiene a ni e\n",
    ")\n",
    "# str_match(frases, pattern = \"(?i)[ae]\")\n",
    "frases[str_detect(frases, pattern = \"(?i)[ae]\")]"
   ]
  },
  {
   "cell_type": "markdown",
   "metadata": {},
   "source": [
    "\n",
    "5. Dados tres vectores numéricos que representan días, meses y años, crea un vector nuevo con fechas (sólo si son válidas, si la fecha es inválida ignorarla) (Sugerencia: investigue la función `as.Date`)."
   ]
  },
  {
   "cell_type": "code",
   "execution_count": 19,
   "metadata": {
    "vscode": {
     "languageId": "r"
    }
   },
   "outputs": [
    {
     "data": {
      "text/html": [
       "<style>\n",
       ".list-inline {list-style: none; margin:0; padding: 0}\n",
       ".list-inline>li {display: inline-block}\n",
       ".list-inline>li:not(:last-child)::after {content: \"\\00b7\"; padding: 0 .5ex}\n",
       "</style>\n",
       "<ol class=list-inline><li><time datetime=\"30-08-19\">30-08-19</time></li><li><time datetime=\"26-07-26\">26-07-26</time></li><li><time datetime=\"10-07-03\">10-07-03</time></li><li><time datetime=\"19-07-30\">19-07-30</time></li></ol>\n"
      ],
      "text/latex": [
       "\\begin{enumerate*}\n",
       "\\item 30-08-19\n",
       "\\item 26-07-26\n",
       "\\item 10-07-03\n",
       "\\item 19-07-30\n",
       "\\end{enumerate*}\n"
      ],
      "text/markdown": [
       "1. 30-08-19\n",
       "2. 26-07-26\n",
       "3. 10-07-03\n",
       "4. 19-07-30\n",
       "\n",
       "\n"
      ],
      "text/plain": [
       "[1] \"30-08-19\" \"26-07-26\" \"10-07-03\" \"19-07-30\""
      ]
     },
     "metadata": {},
     "output_type": "display_data"
    }
   ],
   "source": [
    "meses <- sample(1:30, size = 10, replace = TRUE)\n",
    "dias <- sample(1:30, size = 10, replace = TRUE)\n",
    "ano <- sample(1:30, size = 10, replace = TRUE)\n",
    "\n",
    "fechas <- as.Date(\n",
    "  str_c(dias, meses, ano, sep = \"-\"), format = \"%d-%m-%Y\"\n",
    ")\n",
    "fechas[!is.na(fechas)]"
   ]
  }
 ],
 "metadata": {
  "kernelspec": {
   "display_name": "R",
   "language": "R",
   "name": "ir"
  },
  "language_info": {
   "codemirror_mode": "r",
   "file_extension": ".r",
   "mimetype": "text/x-r-source",
   "name": "R",
   "pygments_lexer": "r",
   "version": "4.4.1"
  }
 },
 "nbformat": 4,
 "nbformat_minor": 2
}
