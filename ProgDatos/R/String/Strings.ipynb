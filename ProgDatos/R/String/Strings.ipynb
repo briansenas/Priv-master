{
 "cells": [
  {
   "cell_type": "markdown",
   "metadata": {
    "collapsed": true,
    "jupyter": {
     "outputs_hidden": true
    }
   },
   "source": [
    "# Introducción a la Programación para Ciencia de Datos\n",
    "## Lenguaje de programación R\n",
    "_Rocío Romero Zaliz_ - rocio@decsai.ugr.es"
   ]
  },
  {
   "cell_type": "markdown",
   "metadata": {},
   "source": [
    "# Cadenas de caracteres en R"
   ]
  },
  {
   "cell_type": "markdown",
   "metadata": {},
   "source": [
    "Aunque R es un lenguaje estadístico en el que los vectores numéricos y las matrices desempeñan un papel central, las cadenas de caracteres también son necesarias y R dispone de una serie de utilidades de manipulación de cadenas."
   ]
  },
  {
   "cell_type": "code",
   "execution_count": 1,
   "metadata": {
    "scrolled": true,
    "vscode": {
     "languageId": "r"
    }
   },
   "outputs": [
    {
     "data": {
      "text/html": [
       "'character'"
      ],
      "text/latex": [
       "'character'"
      ],
      "text/markdown": [
       "'character'"
      ],
      "text/plain": [
       "[1] \"character\""
      ]
     },
     "metadata": {},
     "output_type": "display_data"
    }
   ],
   "source": [
    "texto <- \"Ciencia de datos\"\n",
    "class(texto)"
   ]
  },
  {
   "cell_type": "code",
   "execution_count": 2,
   "metadata": {
    "vscode": {
     "languageId": "r"
    }
   },
   "outputs": [
    {
     "data": {
      "text/html": [
       "1"
      ],
      "text/latex": [
       "1"
      ],
      "text/markdown": [
       "1"
      ],
      "text/plain": [
       "[1] 1"
      ]
     },
     "metadata": {},
     "output_type": "display_data"
    }
   ],
   "source": [
    "length(texto)"
   ]
  },
  {
   "cell_type": "code",
   "execution_count": 3,
   "metadata": {
    "vscode": {
     "languageId": "r"
    }
   },
   "outputs": [
    {
     "data": {
      "text/html": [
       "16"
      ],
      "text/latex": [
       "16"
      ],
      "text/markdown": [
       "16"
      ],
      "text/plain": [
       "[1] 16"
      ]
     },
     "metadata": {},
     "output_type": "display_data"
    }
   ],
   "source": [
    "nchar(\"Ciencia de Datos\")"
   ]
  },
  {
   "cell_type": "code",
   "execution_count": 4,
   "metadata": {
    "vscode": {
     "languageId": "r"
    }
   },
   "outputs": [
    {
     "data": {
      "text/html": [
       "2"
      ],
      "text/latex": [
       "2"
      ],
      "text/markdown": [
       "2"
      ],
      "text/plain": [
       "[1] 2"
      ]
     },
     "metadata": {},
     "output_type": "display_data"
    }
   ],
   "source": [
    "textos <- c(\"hola\", 'mundo')\n",
    "length(textos)"
   ]
  },
  {
   "cell_type": "code",
   "execution_count": 5,
   "metadata": {
    "vscode": {
     "languageId": "r"
    }
   },
   "outputs": [
    {
     "data": {
      "text/html": [
       "'character'"
      ],
      "text/latex": [
       "'character'"
      ],
      "text/markdown": [
       "'character'"
      ],
      "text/plain": [
       "[1] \"character\""
      ]
     },
     "metadata": {},
     "output_type": "display_data"
    }
   ],
   "source": [
    "class(textos)"
   ]
  },
  {
   "cell_type": "code",
   "execution_count": 6,
   "metadata": {
    "vscode": {
     "languageId": "r"
    }
   },
   "outputs": [
    {
     "name": "stdout",
     "output_type": "stream",
     "text": [
      "[1] \"hola\"  \"mundo\"\n"
     ]
    }
   ],
   "source": [
    "print(textos)"
   ]
  },
  {
   "cell_type": "code",
   "execution_count": 7,
   "metadata": {
    "vscode": {
     "languageId": "r"
    }
   },
   "outputs": [
    {
     "name": "stdout",
     "output_type": "stream",
     "text": [
      " [1] \"\" \"\" \"\" \"\" \"\" \"\" \"\" \"\" \"\" \"\"\n"
     ]
    }
   ],
   "source": [
    "# String construction\n",
    "\n",
    "empty_str <- character(10)\n",
    "print(empty_str)"
   ]
  },
  {
   "cell_type": "code",
   "execution_count": 8,
   "metadata": {
    "vscode": {
     "languageId": "r"
    }
   },
   "outputs": [
    {
     "data": {
      "text/html": [
       "'Ciencia de Datos'"
      ],
      "text/latex": [
       "'Ciencia de Datos'"
      ],
      "text/markdown": [
       "'Ciencia de Datos'"
      ],
      "text/plain": [
       "[1] \"Ciencia de Datos\""
      ]
     },
     "metadata": {},
     "output_type": "display_data"
    }
   ],
   "source": [
    "paste(\"Ciencia\", \"de\", \"Datos\")"
   ]
  },
  {
   "cell_type": "code",
   "execution_count": 9,
   "metadata": {
    "vscode": {
     "languageId": "r"
    }
   },
   "outputs": [
    {
     "data": {
      "text/html": [
       "'Ciencia_|_de_|_Datos'"
      ],
      "text/latex": [
       "'Ciencia\\_\\textbar{}\\_de\\_\\textbar{}\\_Datos'"
      ],
      "text/markdown": [
       "'Ciencia_|_de_|_Datos'"
      ],
      "text/plain": [
       "[1] \"Ciencia_|_de_|_Datos\""
      ]
     },
     "metadata": {},
     "output_type": "display_data"
    }
   ],
   "source": [
    "paste(\"Ciencia\", \"de\", \"Datos\", sep=\"_|_\") "
   ]
  },
  {
   "cell_type": "code",
   "execution_count": 10,
   "metadata": {
    "vscode": {
     "languageId": "r"
    }
   },
   "outputs": [
    {
     "data": {
      "text/html": [
       "<style>\n",
       ".list-inline {list-style: none; margin:0; padding: 0}\n",
       ".list-inline>li {display: inline-block}\n",
       ".list-inline>li:not(:last-child)::after {content: \"\\00b7\"; padding: 0 .5ex}\n",
       "</style>\n",
       "<ol class=list-inline><li>'Ciencia hola cierta'</li><li>'Ciencia mundo cierta'</li></ol>\n"
      ],
      "text/latex": [
       "\\begin{enumerate*}\n",
       "\\item 'Ciencia hola cierta'\n",
       "\\item 'Ciencia mundo cierta'\n",
       "\\end{enumerate*}\n"
      ],
      "text/markdown": [
       "1. 'Ciencia hola cierta'\n",
       "2. 'Ciencia mundo cierta'\n",
       "\n",
       "\n"
      ],
      "text/plain": [
       "[1] \"Ciencia hola cierta\"  \"Ciencia mundo cierta\""
      ]
     },
     "metadata": {},
     "output_type": "display_data"
    }
   ],
   "source": [
    "paste(\"Ciencia\", c(\"hola\", \"mundo\"), \"cierta\")"
   ]
  },
  {
   "cell_type": "code",
   "execution_count": 11,
   "metadata": {
    "vscode": {
     "languageId": "r"
    }
   },
   "outputs": [
    {
     "data": {
      "text/html": [
       "<style>\n",
       ".list-inline {list-style: none; margin:0; padding: 0}\n",
       ".list-inline>li {display: inline-block}\n",
       ".list-inline>li:not(:last-child)::after {content: \"\\00b7\"; padding: 0 .5ex}\n",
       "</style>\n",
       "<ol class=list-inline><li>'1_1'</li><li>'2_2'</li><li>'3_3'</li><li>'1_4'</li><li>'2_5'</li></ol>\n"
      ],
      "text/latex": [
       "\\begin{enumerate*}\n",
       "\\item '1\\_1'\n",
       "\\item '2\\_2'\n",
       "\\item '3\\_3'\n",
       "\\item '1\\_4'\n",
       "\\item '2\\_5'\n",
       "\\end{enumerate*}\n"
      ],
      "text/markdown": [
       "1. '1_1'\n",
       "2. '2_2'\n",
       "3. '3_3'\n",
       "4. '1_4'\n",
       "5. '2_5'\n",
       "\n",
       "\n"
      ],
      "text/plain": [
       "[1] \"1_1\" \"2_2\" \"3_3\" \"1_4\" \"2_5\""
      ]
     },
     "metadata": {},
     "output_type": "display_data"
    }
   ],
   "source": [
    "paste(1:3, 1:5, sep=\"_\") "
   ]
  },
  {
   "cell_type": "code",
   "execution_count": 12,
   "metadata": {
    "vscode": {
     "languageId": "r"
    }
   },
   "outputs": [
    {
     "data": {
      "text/html": [
       "'1_1|2_2|3_3|1_4|2_5'"
      ],
      "text/latex": [
       "'1\\_1\\textbar{}2\\_2\\textbar{}3\\_3\\textbar{}1\\_4\\textbar{}2\\_5'"
      ],
      "text/markdown": [
       "'1_1|2_2|3_3|1_4|2_5'"
      ],
      "text/plain": [
       "[1] \"1_1|2_2|3_3|1_4|2_5\""
      ]
     },
     "metadata": {},
     "output_type": "display_data"
    }
   ],
   "source": [
    "paste(1:3, 1:5, sep=\"_\", collapse=\"|\") "
   ]
  },
  {
   "cell_type": "code",
   "execution_count": 13,
   "metadata": {
    "vscode": {
     "languageId": "r"
    }
   },
   "outputs": [
    {
     "name": "stdout",
     "output_type": "stream",
     "text": [
      "paste                   package:base                   R Documentation\n",
      "\n",
      "_\bC_\bo_\bn_\bc_\ba_\bt_\be_\bn_\ba_\bt_\be _\bS_\bt_\br_\bi_\bn_\bg_\bs\n",
      "\n",
      "_\bD_\be_\bs_\bc_\br_\bi_\bp_\bt_\bi_\bo_\bn:\n",
      "\n",
      "     Concatenate vectors after converting to character.  Concatenation\n",
      "     happens in two basically different ways, determined by ‘collapse’\n",
      "     being a string or not.\n",
      "\n",
      "_\bU_\bs_\ba_\bg_\be:\n",
      "\n",
      "     paste (..., sep = \" \", collapse = NULL, recycle0 = FALSE)\n",
      "     paste0(...,            collapse = NULL, recycle0 = FALSE)\n",
      "     \n",
      "_\bA_\br_\bg_\bu_\bm_\be_\bn_\bt_\bs:\n",
      "\n",
      "     ...: one or more R objects, to be converted to character vectors.\n",
      "\n",
      "     sep: a character string to separate the terms.  Not\n",
      "          ‘NA_character_’.\n",
      "\n",
      "collapse: an optional character string to separate the results.  Not\n",
      "          ‘NA_character_’.  When ‘collapse’ is a string, the result is\n",
      "          always a string (‘character’ of length 1).\n",
      "\n",
      "recycle0: ‘logical’ indicating if zero-length character arguments\n",
      "          should result in the zero-length ‘character(0)’.  Note that\n",
      "          when ‘collapse’ is a string, ‘recycle0’ does _not_ recycle to\n",
      "          zero-length, but to ‘\"\"’.\n",
      "\n",
      "_\bD_\be_\bt_\ba_\bi_\bl_\bs:\n",
      "\n",
      "     ‘paste’ converts its arguments (_via_ ‘as.character’) to character\n",
      "     strings, and concatenates them (separating them by the string\n",
      "     given by ‘sep’).\n",
      "\n",
      "     If the arguments are vectors, they are concatenated term-by-term\n",
      "     to give a character vector result.  Vector arguments are recycled\n",
      "     as needed.  Zero-length arguments are recycled as ‘\"\"’ unless\n",
      "     ‘recycle0’ is ‘TRUE’ and ‘collapse’ is ‘NULL’.\n",
      "\n",
      "     Note that ‘paste()’ coerces ‘NA_character_’, the character missing\n",
      "     value, to ‘\"NA\"’ which may seem undesirable, e.g., when pasting\n",
      "     two character vectors, or very desirable, e.g. in ‘paste(\"the\n",
      "     value of p is \", p)’.\n",
      "\n",
      "     ‘paste0(..., collapse)’ is equivalent to ‘paste(..., sep = \"\",\n",
      "     collapse)’, slightly more efficiently.\n",
      "\n",
      "     If a value is specified for ‘collapse’, the values in the result\n",
      "     are then concatenated into a single string, with the elements\n",
      "     being separated by the value of ‘collapse’.\n",
      "\n",
      "_\bV_\ba_\bl_\bu_\be:\n",
      "\n",
      "     A character vector of the concatenated values.  This will be of\n",
      "     length zero if all the objects are, unless ‘collapse’ is non-NULL,\n",
      "     in which case it is ‘\"\"’ (a single empty string).\n",
      "\n",
      "     If any input into an element of the result is in UTF-8 (and none\n",
      "     are declared with encoding ‘\"bytes\"’, see ‘Encoding’), that\n",
      "     element will be in UTF-8, otherwise in the current encoding in\n",
      "     which case the encoding of the element is declared if the current\n",
      "     locale is either Latin-1 or UTF-8, at least one of the\n",
      "     corresponding inputs (including separators) had a declared\n",
      "     encoding and all inputs were either ASCII or declared.\n",
      "\n",
      "     If an input into an element is declared with encoding ‘\"bytes\"’,\n",
      "     no translation will be done of any of the elements and the\n",
      "     resulting element will have encoding ‘\"bytes\"’.  If ‘collapse’ is\n",
      "     non-NULL, this applies also to the second, collapsing, phase, but\n",
      "     some translation may have been done in pasting object together in\n",
      "     the first phase.\n",
      "\n",
      "_\bR_\be_\bf_\be_\br_\be_\bn_\bc_\be_\bs:\n",
      "\n",
      "     Becker, R. A., Chambers, J. M. and Wilks, A. R. (1988) _The New S\n",
      "     Language_.  Wadsworth & Brooks/Cole.\n",
      "\n",
      "_\bS_\be_\be _\bA_\bl_\bs_\bo:\n",
      "\n",
      "     ‘toString’ typically calls ‘paste(*, collapse=\", \")’.  String\n",
      "     manipulation with ‘as.character’, ‘substr’, ‘nchar’, ‘strsplit’;\n",
      "     further, ‘cat’ which concatenates and writes to a file, and\n",
      "     ‘sprintf’ for C like string construction.\n",
      "\n",
      "     ‘plotmath’ for the use of ‘paste’ in plot annotation.\n",
      "\n",
      "_\bE_\bx_\ba_\bm_\bp_\bl_\be_\bs:\n",
      "\n",
      "     ## When passing a single vector, paste0 and paste work like as.character.\n",
      "     paste0(1:12)\n",
      "     paste(1:12)        # same\n",
      "     as.character(1:12) # same\n",
      "     \n",
      "     ## If you pass several vectors to paste0, they are concatenated in a\n",
      "     ## vectorized way.\n",
      "     (nth <- paste0(1:12, c(\"st\", \"nd\", \"rd\", rep(\"th\", 9))))\n",
      "     \n",
      "     ## paste works the same, but separates each input with a space.\n",
      "     ## Notice that the recycling rules make every input as long as the longest input.\n",
      "     paste(month.abb, \"is the\", nth, \"month of the year.\")\n",
      "     paste(month.abb, letters)\n",
      "     \n",
      "     ## You can change the separator by passing a sep argument\n",
      "     ## which can be multiple characters.\n",
      "     paste(month.abb, \"is the\", nth, \"month of the year.\", sep = \"_*_\")\n",
      "     \n",
      "     ## To collapse the output into a single string, pass a collapse argument.\n",
      "     paste0(nth, collapse = \", \")\n",
      "     \n",
      "     ## For inputs of length 1, use the sep argument rather than collapse\n",
      "     paste(\"1st\", \"2nd\", \"3rd\", collapse = \", \") # probably not what you wanted\n",
      "     paste(\"1st\", \"2nd\", \"3rd\", sep = \", \")\n",
      "     \n",
      "     ## You can combine the sep and collapse arguments together.\n",
      "     paste(month.abb, nth, sep = \": \", collapse = \"; \")\n",
      "     \n",
      "     ## Using paste() in combination with strwrap() can be useful\n",
      "     ## for dealing with long strings.\n",
      "     (title <- paste(strwrap(\n",
      "         \"Stopping distance of cars (ft) vs. speed (mph) from Ezekiel (1930)\",\n",
      "         width = 30), collapse = \"\\n\"))\n",
      "     plot(dist ~ speed, cars, main = title)\n",
      "     \n",
      "     ## zero length arguments recycled as `\"\"` -- NB: `{}` <==> character(0)  here\n",
      "     paste({}, 1:2)\n",
      "     \n",
      "     ## 'recycle0 = TRUE' allows standard vectorized behaviour, i.e., zero-length\n",
      "     ##                   recycling resulting in zero-length result character(0):\n",
      "     valid <- FALSE\n",
      "     val <- pi\n",
      "     paste(\"The value is\", val[valid], \"-- not so good!\") # ->  \".. value is  -- not ..\"\n",
      "     paste(\"The value is\", val[valid], \"-- good: empty!\", recycle0=TRUE) # -> character(0)\n",
      "     \n",
      "     ## When 'collapse = <string>',  result is (length 1) string in all cases\n",
      "     paste(\"foo\", {}, \"bar\", collapse = \"|\")                  # |-->  \"foo  bar\"\n",
      "     paste(\"foo\", {},        collapse = \"|\", recycle0 = TRUE) # |-->  \"\"\n",
      "     ## If all arguments are empty (and collapse a string),   \"\"  results always\n",
      "     paste(    collapse = \"|\")\n",
      "     paste(    collapse = \"|\", recycle0 = TRUE)\n",
      "     paste({}, collapse = \"|\")\n",
      "     paste({}, collapse = \"|\", recycle0 = TRUE)\n",
      "     "
     ]
    }
   ],
   "source": [
    "?paste"
   ]
  },
  {
   "cell_type": "markdown",
   "metadata": {},
   "source": [
    "## Ejemplo\n",
    "\n",
    "* Dado un conjunto de datos, anonimizar los nombres de las columnas"
   ]
  },
  {
   "cell_type": "code",
   "execution_count": 14,
   "metadata": {
    "vscode": {
     "languageId": "r"
    }
   },
   "outputs": [
    {
     "data": {
      "text/html": [
       "<table class=\"dataframe\">\n",
       "<caption>A data.frame: 5 × 4</caption>\n",
       "<thead>\n",
       "\t<tr><th scope=col>name</th><th scope=col>lastname</th><th scope=col>gender</th><th scope=col>age</th></tr>\n",
       "\t<tr><th scope=col>&lt;chr&gt;</th><th scope=col>&lt;chr&gt;</th><th scope=col>&lt;chr&gt;</th><th scope=col>&lt;dbl&gt;</th></tr>\n",
       "</thead>\n",
       "<tbody>\n",
       "\t<tr><td>Susan</td><td>Wilson </td><td>F</td><td>23</td></tr>\n",
       "\t<tr><td>Greg </td><td>Gray   </td><td>M</td><td>46</td></tr>\n",
       "\t<tr><td>Amy  </td><td>Sanders</td><td>F</td><td>32</td></tr>\n",
       "\t<tr><td>Laura</td><td>Xeon   </td><td>F</td><td>90</td></tr>\n",
       "\t<tr><td>David</td><td>Rogers </td><td>M</td><td>53</td></tr>\n",
       "</tbody>\n",
       "</table>\n"
      ],
      "text/latex": [
       "A data.frame: 5 × 4\n",
       "\\begin{tabular}{llll}\n",
       " name & lastname & gender & age\\\\\n",
       " <chr> & <chr> & <chr> & <dbl>\\\\\n",
       "\\hline\n",
       "\t Susan & Wilson  & F & 23\\\\\n",
       "\t Greg  & Gray    & M & 46\\\\\n",
       "\t Amy   & Sanders & F & 32\\\\\n",
       "\t Laura & Xeon    & F & 90\\\\\n",
       "\t David & Rogers  & M & 53\\\\\n",
       "\\end{tabular}\n"
      ],
      "text/markdown": [
       "\n",
       "A data.frame: 5 × 4\n",
       "\n",
       "| name &lt;chr&gt; | lastname &lt;chr&gt; | gender &lt;chr&gt; | age &lt;dbl&gt; |\n",
       "|---|---|---|---|\n",
       "| Susan | Wilson  | F | 23 |\n",
       "| Greg  | Gray    | M | 46 |\n",
       "| Amy   | Sanders | F | 32 |\n",
       "| Laura | Xeon    | F | 90 |\n",
       "| David | Rogers  | M | 53 |\n",
       "\n"
      ],
      "text/plain": [
       "  name  lastname gender age\n",
       "1 Susan Wilson   F      23 \n",
       "2 Greg  Gray     M      46 \n",
       "3 Amy   Sanders  F      32 \n",
       "4 Laura Xeon     F      90 \n",
       "5 David Rogers   M      53 "
      ]
     },
     "metadata": {},
     "output_type": "display_data"
    }
   ],
   "source": [
    "data <- data.frame(name = c(\"Susan\", \"Greg\", \"Amy\", \"Laura\", \"David\"), \n",
    "                   lastname = c(\"Wilson\", \"Gray\", \"Sanders\", \"Xeon\", \"Rogers\"), \n",
    "                   gender = c(\"F\", \"M\", \"F\", \"F\", \"M\"), age = c(23, 46, 32, 90, 53))\n",
    "data"
   ]
  },
  {
   "cell_type": "code",
   "execution_count": 15,
   "metadata": {
    "vscode": {
     "languageId": "r"
    }
   },
   "outputs": [
    {
     "data": {
      "text/html": [
       "<style>\n",
       ".list-inline {list-style: none; margin:0; padding: 0}\n",
       ".list-inline>li {display: inline-block}\n",
       ".list-inline>li:not(:last-child)::after {content: \"\\00b7\"; padding: 0 .5ex}\n",
       "</style>\n",
       "<ol class=list-inline><li>'name'</li><li>'lastname'</li><li>'gender'</li><li>'age'</li></ol>\n"
      ],
      "text/latex": [
       "\\begin{enumerate*}\n",
       "\\item 'name'\n",
       "\\item 'lastname'\n",
       "\\item 'gender'\n",
       "\\item 'age'\n",
       "\\end{enumerate*}\n"
      ],
      "text/markdown": [
       "1. 'name'\n",
       "2. 'lastname'\n",
       "3. 'gender'\n",
       "4. 'age'\n",
       "\n",
       "\n"
      ],
      "text/plain": [
       "[1] \"name\"     \"lastname\" \"gender\"   \"age\"     "
      ]
     },
     "metadata": {},
     "output_type": "display_data"
    }
   ],
   "source": [
    "colnames(data)"
   ]
  },
  {
   "cell_type": "code",
   "execution_count": 16,
   "metadata": {
    "vscode": {
     "languageId": "r"
    }
   },
   "outputs": [
    {
     "data": {
      "text/html": [
       "<table class=\"dataframe\">\n",
       "<caption>A data.frame: 5 × 4</caption>\n",
       "<thead>\n",
       "\t<tr><th scope=col>var_1</th><th scope=col>var_2</th><th scope=col>var_3</th><th scope=col>var_4</th></tr>\n",
       "\t<tr><th scope=col>&lt;chr&gt;</th><th scope=col>&lt;chr&gt;</th><th scope=col>&lt;chr&gt;</th><th scope=col>&lt;dbl&gt;</th></tr>\n",
       "</thead>\n",
       "<tbody>\n",
       "\t<tr><td>Susan</td><td>Wilson </td><td>F</td><td>23</td></tr>\n",
       "\t<tr><td>Greg </td><td>Gray   </td><td>M</td><td>46</td></tr>\n",
       "\t<tr><td>Amy  </td><td>Sanders</td><td>F</td><td>32</td></tr>\n",
       "\t<tr><td>Laura</td><td>Xeon   </td><td>F</td><td>90</td></tr>\n",
       "\t<tr><td>David</td><td>Rogers </td><td>M</td><td>53</td></tr>\n",
       "</tbody>\n",
       "</table>\n"
      ],
      "text/latex": [
       "A data.frame: 5 × 4\n",
       "\\begin{tabular}{llll}\n",
       " var\\_1 & var\\_2 & var\\_3 & var\\_4\\\\\n",
       " <chr> & <chr> & <chr> & <dbl>\\\\\n",
       "\\hline\n",
       "\t Susan & Wilson  & F & 23\\\\\n",
       "\t Greg  & Gray    & M & 46\\\\\n",
       "\t Amy   & Sanders & F & 32\\\\\n",
       "\t Laura & Xeon    & F & 90\\\\\n",
       "\t David & Rogers  & M & 53\\\\\n",
       "\\end{tabular}\n"
      ],
      "text/markdown": [
       "\n",
       "A data.frame: 5 × 4\n",
       "\n",
       "| var_1 &lt;chr&gt; | var_2 &lt;chr&gt; | var_3 &lt;chr&gt; | var_4 &lt;dbl&gt; |\n",
       "|---|---|---|---|\n",
       "| Susan | Wilson  | F | 23 |\n",
       "| Greg  | Gray    | M | 46 |\n",
       "| Amy   | Sanders | F | 32 |\n",
       "| Laura | Xeon    | F | 90 |\n",
       "| David | Rogers  | M | 53 |\n",
       "\n"
      ],
      "text/plain": [
       "  var_1 var_2   var_3 var_4\n",
       "1 Susan Wilson  F     23   \n",
       "2 Greg  Gray    M     46   \n",
       "3 Amy   Sanders F     32   \n",
       "4 Laura Xeon    F     90   \n",
       "5 David Rogers  M     53   "
      ]
     },
     "metadata": {},
     "output_type": "display_data"
    }
   ],
   "source": [
    "colnames(data) <- paste(\"var\", 1:dim(data)[2], sep=\"_\")\n",
    "data"
   ]
  },
  {
   "cell_type": "markdown",
   "metadata": {},
   "source": [
    "## Funciones básicas para trabajar con cadenas de caracteres"
   ]
  },
  {
   "cell_type": "code",
   "execution_count": 17,
   "metadata": {
    "vscode": {
     "languageId": "r"
    }
   },
   "outputs": [
    {
     "data": {
      "text/html": [
       "'enc'"
      ],
      "text/latex": [
       "'enc'"
      ],
      "text/markdown": [
       "'enc'"
      ],
      "text/plain": [
       "[1] \"enc\""
      ]
     },
     "metadata": {},
     "output_type": "display_data"
    }
   ],
   "source": [
    "substr(\"Ciencia de Datos\", 3, 5)"
   ]
  },
  {
   "cell_type": "code",
   "execution_count": 18,
   "metadata": {
    "vscode": {
     "languageId": "r"
    }
   },
   "outputs": [],
   "source": [
    "# substr(\"Ciencia de Datos\", 12) # Error!"
   ]
  },
  {
   "cell_type": "code",
   "execution_count": 19,
   "metadata": {
    "vscode": {
     "languageId": "r"
    }
   },
   "outputs": [
    {
     "name": "stdout",
     "output_type": "stream",
     "text": [
      "substr                  package:base                   R Documentation\n",
      "\n",
      "_\bS_\bu_\bb_\bs_\bt_\br_\bi_\bn_\bg_\bs _\bo_\bf _\ba _\bC_\bh_\ba_\br_\ba_\bc_\bt_\be_\br _\bV_\be_\bc_\bt_\bo_\br\n",
      "\n",
      "_\bD_\be_\bs_\bc_\br_\bi_\bp_\bt_\bi_\bo_\bn:\n",
      "\n",
      "     Extract or replace substrings in a character vector.\n",
      "\n",
      "_\bU_\bs_\ba_\bg_\be:\n",
      "\n",
      "     substr(x, start, stop)\n",
      "     substring(text, first, last = 1000000L)\n",
      "     \n",
      "     substr(x, start, stop) <- value\n",
      "     substring(text, first, last = 1000000L) <- value\n",
      "     \n",
      "_\bA_\br_\bg_\bu_\bm_\be_\bn_\bt_\bs:\n",
      "\n",
      " x, text: a character vector.\n",
      "\n",
      "start, first: integer.  The first element to be extracted or replaced.\n",
      "\n",
      "stop, last: integer.  The last element to be extracted or replaced.\n",
      "\n",
      "   value: a character vector, recycled if necessary.\n",
      "\n",
      "_\bD_\be_\bt_\ba_\bi_\bl_\bs:\n",
      "\n",
      "     ‘substring’ is compatible with S, with ‘first’ and ‘last’ instead\n",
      "     of ‘start’ and ‘stop’.  For vector arguments, it expands the\n",
      "     arguments cyclically to the length of the longest _provided_ none\n",
      "     are of zero length.\n",
      "\n",
      "     When extracting, if ‘start’ is larger than the string length then\n",
      "     ‘\"\"’ is returned.\n",
      "\n",
      "     For the extraction functions, ‘x’ or ‘text’ will be converted to a\n",
      "     character vector by ‘as.character’ if it is not already one.\n",
      "\n",
      "     For the replacement functions, if ‘start’ is larger than the\n",
      "     string length then no replacement is done.  If the portion to be\n",
      "     replaced is longer than the replacement string, then only the\n",
      "     portion the length of the string is replaced.\n",
      "\n",
      "     If any argument is an ‘NA’ element, the corresponding element of\n",
      "     the answer is ‘NA’.\n",
      "\n",
      "     Elements of the result will be have the encoding declared as that\n",
      "     of the current locale (see ‘Encoding’) if the corresponding input\n",
      "     had a declared Latin-1 or UTF-8 encoding and the current locale is\n",
      "     either Latin-1 or UTF-8.\n",
      "\n",
      "     If an input element has declared ‘\"bytes\"’ encoding (see\n",
      "     ‘Encoding’), the subsetting is done in units of bytes not\n",
      "     characters.\n",
      "\n",
      "_\bV_\ba_\bl_\bu_\be:\n",
      "\n",
      "     For ‘substr’, a character vector of the same length and with the\n",
      "     same attributes as ‘x’ (after possible coercion).\n",
      "\n",
      "     For ‘substring’, a character vector of length the longest of the\n",
      "     arguments.  This will have names taken from ‘x’ (if it has any\n",
      "     after coercion, repeated as needed), and other attributes copied\n",
      "     from ‘x’ if it is the longest of the arguments).\n",
      "\n",
      "     For the replacement functions, a character vector of the same\n",
      "     length as ‘x’ or ‘text’, with ‘attributes’ such as ‘names’\n",
      "     preserved.\n",
      "\n",
      "     Elements of ‘x’ or ‘text’ with a declared encoding (see\n",
      "     ‘Encoding’) will be returned with the same encoding.\n",
      "\n",
      "_\bN_\bo_\bt_\be:\n",
      "\n",
      "     The S version of ‘substring<-’ ignores ‘last’; this version does\n",
      "     not.\n",
      "\n",
      "     These functions are often used with ‘nchar’ to truncate a display.\n",
      "     That does not really work (you want to limit the width, not the\n",
      "     number of characters, so it would be better to use ‘strtrim’), but\n",
      "     at least make sure you use the default ‘nchar(type = \"chars\")’.\n",
      "\n",
      "_\bR_\be_\bf_\be_\br_\be_\bn_\bc_\be_\bs:\n",
      "\n",
      "     Becker, R. A., Chambers, J. M. and Wilks, A. R. (1988) _The New S\n",
      "     Language_.  Wadsworth & Brooks/Cole.  (‘substring’.)\n",
      "\n",
      "_\bS_\be_\be _\bA_\bl_\bs_\bo:\n",
      "\n",
      "     ‘strsplit’, ‘paste’, ‘nchar’.\n",
      "\n",
      "_\bE_\bx_\ba_\bm_\bp_\bl_\be_\bs:\n",
      "\n",
      "     substr(\"abcdef\", 2, 4)\n",
      "     substring(\"abcdef\", 1:6, 1:6)\n",
      "     ## strsplit() is more efficient ...\n",
      "     \n",
      "     substr(rep(\"abcdef\", 4), 1:4, 4:5)\n",
      "     x <- c(\"asfef\", \"qwerty\", \"yuiop[\", \"b\", \"stuff.blah.yech\")\n",
      "     substr(x, 2, 5)\n",
      "     substring(x, 2, 4:6)\n",
      "     \n",
      "     X <- x\n",
      "     names(X) <- LETTERS[seq_along(x)]\n",
      "     comment(X) <- noquote(\"is a named vector\")\n",
      "     str(aX <- attributes(X))\n",
      "     substring(x, 2) <- c(\"..\", \"+++\")\n",
      "     substring(X, 2) <- c(\"..\", \"+++\")\n",
      "     X\n",
      "     stopifnot(x == X, identical(aX, attributes(X)), nzchar(comment(X)))\n",
      "     "
     ]
    }
   ],
   "source": [
    "?substr"
   ]
  },
  {
   "cell_type": "code",
   "execution_count": 20,
   "metadata": {
    "vscode": {
     "languageId": "r"
    }
   },
   "outputs": [
    {
     "data": {
      "text/html": [
       "<span style=white-space:pre-wrap>'Fri Nov  1 17:46:00 2024'</span>"
      ],
      "text/latex": [
       "'Fri Nov  1 17:46:00 2024'"
      ],
      "text/markdown": [
       "<span style=white-space:pre-wrap>'Fri Nov  1 17:46:00 2024'</span>"
      ],
      "text/plain": [
       "[1] \"Fri Nov  1 17:46:00 2024\""
      ]
     },
     "metadata": {},
     "output_type": "display_data"
    }
   ],
   "source": [
    "date()"
   ]
  },
  {
   "cell_type": "code",
   "execution_count": 21,
   "metadata": {
    "vscode": {
     "languageId": "r"
    }
   },
   "outputs": [
    {
     "data": {
      "text/html": [
       "<ol>\n",
       "\t<li><style>\n",
       ".list-inline {list-style: none; margin:0; padding: 0}\n",
       ".list-inline>li {display: inline-block}\n",
       ".list-inline>li:not(:last-child)::after {content: \"\\00b7\"; padding: 0 .5ex}\n",
       "</style>\n",
       "<ol class=list-inline><li>'Fri'</li><li>'Nov'</li><li>''</li><li>'1'</li><li>'17:46:00'</li><li>'2024'</li></ol>\n",
       "</li>\n",
       "\t<li><style>\n",
       ".list-inline {list-style: none; margin:0; padding: 0}\n",
       ".list-inline>li {display: inline-block}\n",
       ".list-inline>li:not(:last-child)::after {content: \"\\00b7\"; padding: 0 .5ex}\n",
       "</style>\n",
       "<ol class=list-inline><li>'hola'</li><li>'mundo'</li></ol>\n",
       "</li>\n",
       "</ol>\n"
      ],
      "text/latex": [
       "\\begin{enumerate}\n",
       "\\item \\begin{enumerate*}\n",
       "\\item 'Fri'\n",
       "\\item 'Nov'\n",
       "\\item ''\n",
       "\\item '1'\n",
       "\\item '17:46:00'\n",
       "\\item '2024'\n",
       "\\end{enumerate*}\n",
       "\n",
       "\\item \\begin{enumerate*}\n",
       "\\item 'hola'\n",
       "\\item 'mundo'\n",
       "\\end{enumerate*}\n",
       "\n",
       "\\end{enumerate}\n"
      ],
      "text/markdown": [
       "1. 1. 'Fri'\n",
       "2. 'Nov'\n",
       "3. ''\n",
       "4. '1'\n",
       "5. '17:46:00'\n",
       "6. '2024'\n",
       "\n",
       "\n",
       "\n",
       "2. 1. 'hola'\n",
       "2. 'mundo'\n",
       "\n",
       "\n",
       "\n",
       "\n",
       "\n"
      ],
      "text/plain": [
       "[[1]]\n",
       "[1] \"Fri\"      \"Nov\"      \"\"         \"1\"        \"17:46:00\" \"2024\"    \n",
       "\n",
       "[[2]]\n",
       "[1] \"hola\"  \"mundo\"\n"
      ]
     },
     "metadata": {},
     "output_type": "display_data"
    }
   ],
   "source": [
    "strsplit(c(date(), \"hola mundo\"), split=\" \")"
   ]
  },
  {
   "cell_type": "code",
   "execution_count": 22,
   "metadata": {
    "vscode": {
     "languageId": "r"
    }
   },
   "outputs": [
    {
     "data": {
      "text/html": [
       "'list'"
      ],
      "text/latex": [
       "'list'"
      ],
      "text/markdown": [
       "'list'"
      ],
      "text/plain": [
       "[1] \"list\""
      ]
     },
     "metadata": {},
     "output_type": "display_data"
    }
   ],
   "source": [
    "class(strsplit(date(), split=\" \"))"
   ]
  },
  {
   "cell_type": "code",
   "execution_count": 23,
   "metadata": {
    "vscode": {
     "languageId": "r"
    }
   },
   "outputs": [
    {
     "data": {
      "text/html": [
       "<ol>\n",
       "\t<li><style>\n",
       ".list-inline {list-style: none; margin:0; padding: 0}\n",
       ".list-inline>li {display: inline-block}\n",
       ".list-inline>li:not(:last-child)::after {content: \"\\00b7\"; padding: 0 .5ex}\n",
       "</style>\n",
       "<ol class=list-inline><li>'Est'</li><li>'es un'</li><li>'frase'</li></ol>\n",
       "</li>\n",
       "\t<li><style>\n",
       ".list-inline {list-style: none; margin:0; padding: 0}\n",
       ".list-inline>li {display: inline-block}\n",
       ".list-inline>li:not(:last-child)::after {content: \"\\00b7\"; padding: 0 .5ex}\n",
       "</style>\n",
       "<ol class=list-inline><li>'Est'</li><li>'es otr'</li><li>'lind'</li><li>'frase'</li></ol>\n",
       "</li>\n",
       "</ol>\n"
      ],
      "text/latex": [
       "\\begin{enumerate}\n",
       "\\item \\begin{enumerate*}\n",
       "\\item 'Est'\n",
       "\\item 'es un'\n",
       "\\item 'frase'\n",
       "\\end{enumerate*}\n",
       "\n",
       "\\item \\begin{enumerate*}\n",
       "\\item 'Est'\n",
       "\\item 'es otr'\n",
       "\\item 'lind'\n",
       "\\item 'frase'\n",
       "\\end{enumerate*}\n",
       "\n",
       "\\end{enumerate}\n"
      ],
      "text/markdown": [
       "1. 1. 'Est'\n",
       "2. 'es un'\n",
       "3. 'frase'\n",
       "\n",
       "\n",
       "\n",
       "2. 1. 'Est'\n",
       "2. 'es otr'\n",
       "3. 'lind'\n",
       "4. 'frase'\n",
       "\n",
       "\n",
       "\n",
       "\n",
       "\n"
      ],
      "text/plain": [
       "[[1]]\n",
       "[1] \"Est\"   \"es un\" \"frase\"\n",
       "\n",
       "[[2]]\n",
       "[1] \"Est\"    \"es otr\" \"lind\"   \"frase\" \n"
      ]
     },
     "metadata": {},
     "output_type": "display_data"
    }
   ],
   "source": [
    "strsplit(c(\"Esta es una frase\", \"Esta es otra linda frase\"), split=\"a \")"
   ]
  },
  {
   "cell_type": "code",
   "execution_count": 24,
   "metadata": {
    "vscode": {
     "languageId": "r"
    }
   },
   "outputs": [
    {
     "name": "stdout",
     "output_type": "stream",
     "text": [
      "[[1]]\n",
      "[1] \"Esta\"  \"es\"    \"una\"   \"frase\"\n",
      "\n",
      "[[2]]\n",
      "[1] \"Esta \"       \"s otra fras\"\n",
      "\n"
     ]
    }
   ],
   "source": [
    "print(strsplit(c(\"Esta es una frase\", \"Esta es otra frase\"), split=c(\" \", \"e\")))"
   ]
  },
  {
   "cell_type": "markdown",
   "metadata": {},
   "source": [
    "## Ejemplo"
   ]
  },
  {
   "cell_type": "code",
   "execution_count": 25,
   "metadata": {
    "vscode": {
     "languageId": "r"
    }
   },
   "outputs": [
    {
     "data": {
      "text/html": [
       "<style>\n",
       ".list-inline {list-style: none; margin:0; padding: 0}\n",
       ".list-inline>li {display: inline-block}\n",
       ".list-inline>li:not(:last-child)::after {content: \"\\00b7\"; padding: 0 .5ex}\n",
       "</style>\n",
       "<ol class=list-inline><li>'BrianSena_Strings.ipynb'</li><li>'Strings.ipynb'</li></ol>\n"
      ],
      "text/latex": [
       "\\begin{enumerate*}\n",
       "\\item 'BrianSena\\_Strings.ipynb'\n",
       "\\item 'Strings.ipynb'\n",
       "\\end{enumerate*}\n"
      ],
      "text/markdown": [
       "1. 'BrianSena_Strings.ipynb'\n",
       "2. 'Strings.ipynb'\n",
       "\n",
       "\n"
      ],
      "text/plain": [
       "[1] \"BrianSena_Strings.ipynb\" \"Strings.ipynb\"          "
      ]
     },
     "metadata": {},
     "output_type": "display_data"
    }
   ],
   "source": [
    "files <- list.files()\n",
    "files"
   ]
  },
  {
   "cell_type": "code",
   "execution_count": 26,
   "metadata": {
    "vscode": {
     "languageId": "r"
    }
   },
   "outputs": [
    {
     "name": "stdout",
     "output_type": "stream",
     "text": [
      "[[1]]\n",
      " [1] \"\" \"\" \"\" \"\" \"\" \"\" \"\" \"\" \"\" \"\" \"\" \"\" \"\" \"\" \"\" \"\" \"\" \"\" \"\" \"\" \"\" \"\" \"\"\n",
      "\n",
      "[[2]]\n",
      " [1] \"\" \"\" \"\" \"\" \"\" \"\" \"\" \"\" \"\" \"\" \"\" \"\" \"\"\n",
      "\n"
     ]
    }
   ],
   "source": [
    "print(strsplit(files, split=\".\"))"
   ]
  },
  {
   "cell_type": "code",
   "execution_count": 27,
   "metadata": {
    "vscode": {
     "languageId": "r"
    }
   },
   "outputs": [
    {
     "data": {
      "text/html": [
       "<ol>\n",
       "\t<li><style>\n",
       ".list-inline {list-style: none; margin:0; padding: 0}\n",
       ".list-inline>li {display: inline-block}\n",
       ".list-inline>li:not(:last-child)::after {content: \"\\00b7\"; padding: 0 .5ex}\n",
       "</style>\n",
       "<ol class=list-inline><li>'BrianSena_Strings'</li><li>'ipynb'</li></ol>\n",
       "</li>\n",
       "\t<li><style>\n",
       ".list-inline {list-style: none; margin:0; padding: 0}\n",
       ".list-inline>li {display: inline-block}\n",
       ".list-inline>li:not(:last-child)::after {content: \"\\00b7\"; padding: 0 .5ex}\n",
       "</style>\n",
       "<ol class=list-inline><li>'Strings'</li><li>'ipynb'</li></ol>\n",
       "</li>\n",
       "</ol>\n"
      ],
      "text/latex": [
       "\\begin{enumerate}\n",
       "\\item \\begin{enumerate*}\n",
       "\\item 'BrianSena\\_Strings'\n",
       "\\item 'ipynb'\n",
       "\\end{enumerate*}\n",
       "\n",
       "\\item \\begin{enumerate*}\n",
       "\\item 'Strings'\n",
       "\\item 'ipynb'\n",
       "\\end{enumerate*}\n",
       "\n",
       "\\end{enumerate}\n"
      ],
      "text/markdown": [
       "1. 1. 'BrianSena_Strings'\n",
       "2. 'ipynb'\n",
       "\n",
       "\n",
       "\n",
       "2. 1. 'Strings'\n",
       "2. 'ipynb'\n",
       "\n",
       "\n",
       "\n",
       "\n",
       "\n"
      ],
      "text/plain": [
       "[[1]]\n",
       "[1] \"BrianSena_Strings\" \"ipynb\"            \n",
       "\n",
       "[[2]]\n",
       "[1] \"Strings\" \"ipynb\"  \n"
      ]
     },
     "metadata": {},
     "output_type": "display_data"
    }
   ],
   "source": [
    "strsplit(files, split=\"\\\\.\")"
   ]
  },
  {
   "cell_type": "code",
   "execution_count": 28,
   "metadata": {
    "vscode": {
     "languageId": "r"
    }
   },
   "outputs": [
    {
     "name": "stdout",
     "output_type": "stream",
     "text": [
      "[1] \"BrianSena_Strings\" \"ipynb\"             \"Strings\"          \n",
      "[4] \"ipynb\"            \n"
     ]
    }
   ],
   "source": [
    "print(unlist(strsplit(files, split=\"\\\\.\")))"
   ]
  },
  {
   "cell_type": "code",
   "execution_count": 29,
   "metadata": {
    "vscode": {
     "languageId": "r"
    }
   },
   "outputs": [
    {
     "data": {
      "text/html": [
       "<table class=\"dataframe\">\n",
       "<caption>A matrix: 2 × 2 of type chr</caption>\n",
       "<tbody>\n",
       "\t<tr><td>BrianSena_Strings</td><td>ipynb</td></tr>\n",
       "\t<tr><td>Strings          </td><td>ipynb</td></tr>\n",
       "</tbody>\n",
       "</table>\n"
      ],
      "text/latex": [
       "A matrix: 2 × 2 of type chr\n",
       "\\begin{tabular}{ll}\n",
       "\t BrianSena\\_Strings & ipynb\\\\\n",
       "\t Strings           & ipynb\\\\\n",
       "\\end{tabular}\n"
      ],
      "text/markdown": [
       "\n",
       "A matrix: 2 × 2 of type chr\n",
       "\n",
       "| BrianSena_Strings | ipynb |\n",
       "| Strings           | ipynb |\n",
       "\n"
      ],
      "text/plain": [
       "     [,1]              [,2] \n",
       "[1,] BrianSena_Strings ipynb\n",
       "[2,] Strings           ipynb"
      ]
     },
     "metadata": {},
     "output_type": "display_data"
    }
   ],
   "source": [
    "matrix(unlist(strsplit(files, split=\"\\\\.\")), ncol=2, byrow=TRUE)"
   ]
  },
  {
   "cell_type": "markdown",
   "metadata": {},
   "source": [
    "## Expresiones regulares\n",
    "\n",
    "* Una expresión regular es una especie de comodín. \n",
    "* Es una forma abreviada de especificar distintas clases de cadenas de caracteres.\n",
    "* En R, debes prestar atención a este punto cuando uses las funciones `grep`, `grepl`, `regexpr`, `gregexpr`, `sub`, `gsub` y `strsplit`. "
   ]
  },
  {
   "cell_type": "code",
   "execution_count": 30,
   "metadata": {
    "vscode": {
     "languageId": "r"
    }
   },
   "outputs": [
    {
     "data": {
      "text/html": [
       "<span style=white-space:pre-wrap>'Fri Nov  1 17:46:00 2024'</span>"
      ],
      "text/latex": [
       "'Fri Nov  1 17:46:00 2024'"
      ],
      "text/markdown": [
       "<span style=white-space:pre-wrap>'Fri Nov  1 17:46:00 2024'</span>"
      ],
      "text/plain": [
       "[1] \"Fri Nov  1 17:46:00 2024\""
      ]
     },
     "metadata": {},
     "output_type": "display_data"
    }
   ],
   "source": [
    "date()"
   ]
  },
  {
   "cell_type": "code",
   "execution_count": 31,
   "metadata": {
    "vscode": {
     "languageId": "r"
    }
   },
   "outputs": [
    {
     "data": {
      "text/html": [
       "<ol>\n",
       "\t<li><style>\n",
       ".list-inline {list-style: none; margin:0; padding: 0}\n",
       ".list-inline>li {display: inline-block}\n",
       ".list-inline>li:not(:last-child)::after {content: \"\\00b7\"; padding: 0 .5ex}\n",
       "</style>\n",
       "<ol class=list-inline><li><span style=white-space:pre-wrap>'Fri Nov  '</span></li><li>' '</li><li>':'</li><li>':'</li><li>' '</li></ol>\n",
       "</li>\n",
       "</ol>\n"
      ],
      "text/latex": [
       "\\begin{enumerate}\n",
       "\\item \\begin{enumerate*}\n",
       "\\item 'Fri Nov  '\n",
       "\\item ' '\n",
       "\\item ':'\n",
       "\\item ':'\n",
       "\\item ' '\n",
       "\\end{enumerate*}\n",
       "\n",
       "\\end{enumerate}\n"
      ],
      "text/markdown": [
       "1. 1. <span style=white-space:pre-wrap>'Fri Nov  '</span>\n",
       "2. ' '\n",
       "3. ':'\n",
       "4. ':'\n",
       "5. ' '\n",
       "\n",
       "\n",
       "\n",
       "\n",
       "\n"
      ],
      "text/plain": [
       "[[1]]\n",
       "[1] \"Fri Nov  \" \" \"         \":\"         \":\"         \" \"        \n"
      ]
     },
     "metadata": {},
     "output_type": "display_data"
    }
   ],
   "source": [
    "strsplit(date(), split=\"[0-9]+\")"
   ]
  },
  {
   "cell_type": "code",
   "execution_count": 32,
   "metadata": {
    "vscode": {
     "languageId": "r"
    }
   },
   "outputs": [
    {
     "data": {
      "text/html": [
       "<style>\n",
       ".list-inline {list-style: none; margin:0; padding: 0}\n",
       ".list-inline>li {display: inline-block}\n",
       ".list-inline>li:not(:last-child)::after {content: \"\\00b7\"; padding: 0 .5ex}\n",
       "</style>\n",
       "<ol class=list-inline><li>'BrianSena_Strings.ipynb'</li><li>'Strings.ipynb'</li></ol>\n"
      ],
      "text/latex": [
       "\\begin{enumerate*}\n",
       "\\item 'BrianSena\\_Strings.ipynb'\n",
       "\\item 'Strings.ipynb'\n",
       "\\end{enumerate*}\n"
      ],
      "text/markdown": [
       "1. 'BrianSena_Strings.ipynb'\n",
       "2. 'Strings.ipynb'\n",
       "\n",
       "\n"
      ],
      "text/plain": [
       "[1] \"BrianSena_Strings.ipynb\" \"Strings.ipynb\"          "
      ]
     },
     "metadata": {},
     "output_type": "display_data"
    }
   ],
   "source": [
    "files"
   ]
  },
  {
   "cell_type": "code",
   "execution_count": 33,
   "metadata": {
    "vscode": {
     "languageId": "r"
    }
   },
   "outputs": [
    {
     "data": {
      "text/html": [],
      "text/latex": [],
      "text/markdown": [],
      "text/plain": [
       "character(0)"
      ]
     },
     "metadata": {},
     "output_type": "display_data"
    }
   ],
   "source": [
    "files[grep(\"txt\", files)]"
   ]
  },
  {
   "cell_type": "code",
   "execution_count": 34,
   "metadata": {
    "vscode": {
     "languageId": "r"
    }
   },
   "outputs": [
    {
     "data": {
      "text/html": [
       "<style>\n",
       ".list-inline {list-style: none; margin:0; padding: 0}\n",
       ".list-inline>li {display: inline-block}\n",
       ".list-inline>li:not(:last-child)::after {content: \"\\00b7\"; padding: 0 .5ex}\n",
       "</style>\n",
       "<ol class=list-inline><li>1</li><li>3</li></ol>\n"
      ],
      "text/latex": [
       "\\begin{enumerate*}\n",
       "\\item 1\n",
       "\\item 3\n",
       "\\end{enumerate*}\n"
      ],
      "text/markdown": [
       "1. 1\n",
       "2. 3\n",
       "\n",
       "\n"
      ],
      "text/plain": [
       "[1] 1 3"
      ]
     },
     "metadata": {},
     "output_type": "display_data"
    }
   ],
   "source": [
    "donde <- grep(\"[ia]\", c(\"Ciencia\",\"de\",\"Datos\"))\n",
    "donde"
   ]
  },
  {
   "cell_type": "code",
   "execution_count": 35,
   "metadata": {
    "vscode": {
     "languageId": "r"
    }
   },
   "outputs": [
    {
     "data": {
      "text/html": [
       "<style>\n",
       ".list-inline {list-style: none; margin:0; padding: 0}\n",
       ".list-inline>li {display: inline-block}\n",
       ".list-inline>li:not(:last-child)::after {content: \"\\00b7\"; padding: 0 .5ex}\n",
       "</style>\n",
       "<ol class=list-inline><li>'Ciencia'</li><li>'Datos'</li></ol>\n"
      ],
      "text/latex": [
       "\\begin{enumerate*}\n",
       "\\item 'Ciencia'\n",
       "\\item 'Datos'\n",
       "\\end{enumerate*}\n"
      ],
      "text/markdown": [
       "1. 'Ciencia'\n",
       "2. 'Datos'\n",
       "\n",
       "\n"
      ],
      "text/plain": [
       "[1] \"Ciencia\" \"Datos\"  "
      ]
     },
     "metadata": {},
     "output_type": "display_data"
    }
   ],
   "source": [
    "c(\"Ciencia\",\"de\",\"Datos\")[donde]"
   ]
  },
  {
   "cell_type": "code",
   "execution_count": 36,
   "metadata": {
    "vscode": {
     "languageId": "r"
    }
   },
   "outputs": [
    {
     "data": {
      "text/html": [
       "1"
      ],
      "text/latex": [
       "1"
      ],
      "text/markdown": [
       "1"
      ],
      "text/plain": [
       "[1] 1"
      ]
     },
     "metadata": {},
     "output_type": "display_data"
    }
   ],
   "source": [
    "grep(\"e.\", c(\"Ciencia\",\"de\",\"Datos\"))"
   ]
  },
  {
   "cell_type": "code",
   "execution_count": 37,
   "metadata": {
    "vscode": {
     "languageId": "r"
    }
   },
   "outputs": [
    {
     "name": "stdout",
     "output_type": "stream",
     "text": [
      "[[1]]\n",
      "[1] \"\" \"\" \"\" \"\" \"\"\n",
      "\n"
     ]
    }
   ],
   "source": [
    "# Another example using strsplit()\n",
    "\n",
    "print(strsplit(\"a.b.c\", \".\"))"
   ]
  },
  {
   "cell_type": "code",
   "execution_count": 38,
   "metadata": {
    "vscode": {
     "languageId": "r"
    }
   },
   "outputs": [
    {
     "data": {
      "text/html": [
       "<ol>\n",
       "\t<li><style>\n",
       ".list-inline {list-style: none; margin:0; padding: 0}\n",
       ".list-inline>li {display: inline-block}\n",
       ".list-inline>li:not(:last-child)::after {content: \"\\00b7\"; padding: 0 .5ex}\n",
       "</style>\n",
       "<ol class=list-inline><li>'a'</li><li>'b'</li><li>'c'</li></ol>\n",
       "</li>\n",
       "</ol>\n"
      ],
      "text/latex": [
       "\\begin{enumerate}\n",
       "\\item \\begin{enumerate*}\n",
       "\\item 'a'\n",
       "\\item 'b'\n",
       "\\item 'c'\n",
       "\\end{enumerate*}\n",
       "\n",
       "\\end{enumerate}\n"
      ],
      "text/markdown": [
       "1. 1. 'a'\n",
       "2. 'b'\n",
       "3. 'c'\n",
       "\n",
       "\n",
       "\n",
       "\n",
       "\n"
      ],
      "text/plain": [
       "[[1]]\n",
       "[1] \"a\" \"b\" \"c\"\n"
      ]
     },
     "metadata": {},
     "output_type": "display_data"
    }
   ],
   "source": [
    "strsplit(\"a.b.c\", \"\\\\.\")"
   ]
  },
  {
   "cell_type": "code",
   "execution_count": 39,
   "metadata": {
    "vscode": {
     "languageId": "r"
    }
   },
   "outputs": [
    {
     "data": {
      "text/html": [
       "<ol>\n",
       "\t<li><style>\n",
       ".list-inline {list-style: none; margin:0; padding: 0}\n",
       ".list-inline>li {display: inline-block}\n",
       ".list-inline>li:not(:last-child)::after {content: \"\\00b7\"; padding: 0 .5ex}\n",
       "</style>\n",
       "<ol class=list-inline><li>'a'</li><li>'b'</li><li>'c'</li></ol>\n",
       "</li>\n",
       "</ol>\n"
      ],
      "text/latex": [
       "\\begin{enumerate}\n",
       "\\item \\begin{enumerate*}\n",
       "\\item 'a'\n",
       "\\item 'b'\n",
       "\\item 'c'\n",
       "\\end{enumerate*}\n",
       "\n",
       "\\end{enumerate}\n"
      ],
      "text/markdown": [
       "1. 1. 'a'\n",
       "2. 'b'\n",
       "3. 'c'\n",
       "\n",
       "\n",
       "\n",
       "\n",
       "\n"
      ],
      "text/plain": [
       "[[1]]\n",
       "[1] \"a\" \"b\" \"c\"\n"
      ]
     },
     "metadata": {},
     "output_type": "display_data"
    }
   ],
   "source": [
    "strsplit(\"a.b.c\", \"[.]\") # ¡Cuidado!"
   ]
  },
  {
   "cell_type": "markdown",
   "metadata": {},
   "source": [
    "## Ejemplo\n",
    "\n",
    "Anonimización de datos"
   ]
  },
  {
   "cell_type": "code",
   "execution_count": 40,
   "metadata": {
    "vscode": {
     "languageId": "r"
    }
   },
   "outputs": [
    {
     "data": {
      "text/html": [
       "<table class=\"dataframe\">\n",
       "<caption>A data.frame: 5 × 4</caption>\n",
       "<thead>\n",
       "\t<tr><th scope=col>var_1</th><th scope=col>var_2</th><th scope=col>var_3</th><th scope=col>var_4</th></tr>\n",
       "\t<tr><th scope=col>&lt;chr&gt;</th><th scope=col>&lt;chr&gt;</th><th scope=col>&lt;chr&gt;</th><th scope=col>&lt;dbl&gt;</th></tr>\n",
       "</thead>\n",
       "<tbody>\n",
       "\t<tr><td>Susan</td><td>Wilson </td><td>F</td><td>23</td></tr>\n",
       "\t<tr><td>Greg </td><td>Gray   </td><td>M</td><td>46</td></tr>\n",
       "\t<tr><td>Amy  </td><td>Sanders</td><td>F</td><td>32</td></tr>\n",
       "\t<tr><td>Laura</td><td>Xeon   </td><td>F</td><td>90</td></tr>\n",
       "\t<tr><td>David</td><td>Rogers </td><td>M</td><td>53</td></tr>\n",
       "</tbody>\n",
       "</table>\n"
      ],
      "text/latex": [
       "A data.frame: 5 × 4\n",
       "\\begin{tabular}{llll}\n",
       " var\\_1 & var\\_2 & var\\_3 & var\\_4\\\\\n",
       " <chr> & <chr> & <chr> & <dbl>\\\\\n",
       "\\hline\n",
       "\t Susan & Wilson  & F & 23\\\\\n",
       "\t Greg  & Gray    & M & 46\\\\\n",
       "\t Amy   & Sanders & F & 32\\\\\n",
       "\t Laura & Xeon    & F & 90\\\\\n",
       "\t David & Rogers  & M & 53\\\\\n",
       "\\end{tabular}\n"
      ],
      "text/markdown": [
       "\n",
       "A data.frame: 5 × 4\n",
       "\n",
       "| var_1 &lt;chr&gt; | var_2 &lt;chr&gt; | var_3 &lt;chr&gt; | var_4 &lt;dbl&gt; |\n",
       "|---|---|---|---|\n",
       "| Susan | Wilson  | F | 23 |\n",
       "| Greg  | Gray    | M | 46 |\n",
       "| Amy   | Sanders | F | 32 |\n",
       "| Laura | Xeon    | F | 90 |\n",
       "| David | Rogers  | M | 53 |\n",
       "\n"
      ],
      "text/plain": [
       "  var_1 var_2   var_3 var_4\n",
       "1 Susan Wilson  F     23   \n",
       "2 Greg  Gray    M     46   \n",
       "3 Amy   Sanders F     32   \n",
       "4 Laura Xeon    F     90   \n",
       "5 David Rogers  M     53   "
      ]
     },
     "metadata": {},
     "output_type": "display_data"
    }
   ],
   "source": [
    "data"
   ]
  },
  {
   "cell_type": "code",
   "execution_count": 41,
   "metadata": {
    "vscode": {
     "languageId": "r"
    }
   },
   "outputs": [
    {
     "data": {
      "text/html": [
       "<style>\n",
       ".list-inline {list-style: none; margin:0; padding: 0}\n",
       ".list-inline>li {display: inline-block}\n",
       ".list-inline>li:not(:last-child)::after {content: \"\\00b7\"; padding: 0 .5ex}\n",
       "</style>\n",
       "<ol class=list-inline><li>'sw'</li><li>'gg'</li><li>'as'</li><li>'lx'</li><li>'dr'</li></ol>\n"
      ],
      "text/latex": [
       "\\begin{enumerate*}\n",
       "\\item 'sw'\n",
       "\\item 'gg'\n",
       "\\item 'as'\n",
       "\\item 'lx'\n",
       "\\item 'dr'\n",
       "\\end{enumerate*}\n"
      ],
      "text/markdown": [
       "1. 'sw'\n",
       "2. 'gg'\n",
       "3. 'as'\n",
       "4. 'lx'\n",
       "5. 'dr'\n",
       "\n",
       "\n"
      ],
      "text/plain": [
       "[1] \"sw\" \"gg\" \"as\" \"lx\" \"dr\""
      ]
     },
     "metadata": {},
     "output_type": "display_data"
    }
   ],
   "source": [
    "ncolumn <- paste(tolower(substr(data$var_1, 1, 1)), \n",
    "                 tolower(substr(data$var_2, 1, 1)), sep = \"\")\n",
    "ncolumn"
   ]
  },
  {
   "cell_type": "code",
   "execution_count": 42,
   "metadata": {
    "vscode": {
     "languageId": "r"
    }
   },
   "outputs": [
    {
     "data": {
      "text/html": [
       "'var_1_and_var_2'"
      ],
      "text/latex": [
       "'var\\_1\\_and\\_var\\_2'"
      ],
      "text/markdown": [
       "'var_1_and_var_2'"
      ],
      "text/plain": [
       "[1] \"var_1_and_var_2\""
      ]
     },
     "metadata": {},
     "output_type": "display_data"
    }
   ],
   "source": [
    "paste(colnames(data)[1:2], collapse=\"_and_\")"
   ]
  },
  {
   "cell_type": "code",
   "execution_count": 43,
   "metadata": {
    "scrolled": true,
    "vscode": {
     "languageId": "r"
    }
   },
   "outputs": [
    {
     "data": {
      "text/html": [
       "<table class=\"dataframe\">\n",
       "<caption>A data.frame: 5 × 3</caption>\n",
       "<thead>\n",
       "\t<tr><th scope=col>var_1_and_var_2</th><th scope=col>var_3</th><th scope=col>var_4</th></tr>\n",
       "\t<tr><th scope=col>&lt;chr&gt;</th><th scope=col>&lt;chr&gt;</th><th scope=col>&lt;dbl&gt;</th></tr>\n",
       "</thead>\n",
       "<tbody>\n",
       "\t<tr><td>sw</td><td>F</td><td>23</td></tr>\n",
       "\t<tr><td>gg</td><td>M</td><td>46</td></tr>\n",
       "\t<tr><td>as</td><td>F</td><td>32</td></tr>\n",
       "\t<tr><td>lx</td><td>F</td><td>90</td></tr>\n",
       "\t<tr><td>dr</td><td>M</td><td>53</td></tr>\n",
       "</tbody>\n",
       "</table>\n"
      ],
      "text/latex": [
       "A data.frame: 5 × 3\n",
       "\\begin{tabular}{lll}\n",
       " var\\_1\\_and\\_var\\_2 & var\\_3 & var\\_4\\\\\n",
       " <chr> & <chr> & <dbl>\\\\\n",
       "\\hline\n",
       "\t sw & F & 23\\\\\n",
       "\t gg & M & 46\\\\\n",
       "\t as & F & 32\\\\\n",
       "\t lx & F & 90\\\\\n",
       "\t dr & M & 53\\\\\n",
       "\\end{tabular}\n"
      ],
      "text/markdown": [
       "\n",
       "A data.frame: 5 × 3\n",
       "\n",
       "| var_1_and_var_2 &lt;chr&gt; | var_3 &lt;chr&gt; | var_4 &lt;dbl&gt; |\n",
       "|---|---|---|\n",
       "| sw | F | 23 |\n",
       "| gg | M | 46 |\n",
       "| as | F | 32 |\n",
       "| lx | F | 90 |\n",
       "| dr | M | 53 |\n",
       "\n"
      ],
      "text/plain": [
       "  var_1_and_var_2 var_3 var_4\n",
       "1 sw              F     23   \n",
       "2 gg              M     46   \n",
       "3 as              F     32   \n",
       "4 lx              F     90   \n",
       "5 dr              M     53   "
      ]
     },
     "metadata": {},
     "output_type": "display_data"
    }
   ],
   "source": [
    "data$var_1 <- ncolumn\n",
    "colnames(data)[1] <- paste(colnames(data)[1:2], collapse=\"_and_\")\n",
    "data <- data[,-2]\n",
    "data"
   ]
  },
  {
   "cell_type": "markdown",
   "metadata": {},
   "source": [
    "More info in: [R Manual](https://stat.ethz.ch/R-manual/R-devel/library/base/html/regex.html)"
   ]
  },
  {
   "cell_type": "markdown",
   "metadata": {},
   "source": [
    "## Ejercicios strings (1ra parte)\n",
    "1. Crea un vector de cadenas de caracteres con tu nombre y apellidos (por ejemplo, [\"Rocío\", \"Romero\", Zaliz\"]). A partir de el crea una nueva cadena de caracteres con la inicial de tu nombre, un punto y tus apellidos (por ejemplo, \"R. Romero Zaliz\").\n",
    "2. Dado un vector de cadenas de caracteres que representan fechas (por ejemplo, [\"2005-11-28\", \"2015-10-18\", \"2000-01-01\"], utilizando el formato AÑO-MES-DÍA), mostrar sólo las correspondientes a los meses impares.\n",
    "3. Dada una cadena de caracteres con varias palabras (por ejemplo, \"Esta es una frase, pero no cualquier frase.\") crea un vector con cada una de las palabras de la cadena (por ejemplo, [\"Esta\", \"es\", \"una\", \"frase\", \"pero\", \"no\", \"cualquier\", \"frase\"]). Tenga en cuenta todos los caracteres de puntuación posibles.\n",
    "4. Busca en un vector de cadenas de caractees aquellas que incluyan sólo vocales \"a\" y/o \"e\" o ninguna (comprueba mayúsculas y minúsculas, considera á, é, Á y É como otros caracteres y no los que buscas).\n",
    "5. Dados tres vectores numéricos que representan días, meses y años, crea un vector nuevo con fechas (sólo si son válidas, si la fecha es inválida ignorarla) (Sugerencia: investigue la función `as.Date`)."
   ]
  },
  {
   "cell_type": "markdown",
   "metadata": {},
   "source": [
    "# Manipulación de cadenas de caracters usando Tidyverse"
   ]
  },
  {
   "cell_type": "markdown",
   "metadata": {},
   "source": [
    "## Cheat sheets"
   ]
  },
  {
   "cell_type": "markdown",
   "metadata": {},
   "source": [
    "* https://github.com/rstudio/cheatsheets/raw/main/strings.pdf"
   ]
  },
  {
   "cell_type": "code",
   "execution_count": 44,
   "metadata": {
    "vscode": {
     "languageId": "r"
    }
   },
   "outputs": [
    {
     "name": "stderr",
     "output_type": "stream",
     "text": [
      "── \u001b[1mAttaching core tidyverse packages\u001b[22m ──────────────────────── tidyverse 2.0.0 ──\n",
      "\u001b[32m✔\u001b[39m \u001b[34mdplyr    \u001b[39m 1.1.4     \u001b[32m✔\u001b[39m \u001b[34mreadr    \u001b[39m 2.1.5\n",
      "\u001b[32m✔\u001b[39m \u001b[34mforcats  \u001b[39m 1.0.0     \u001b[32m✔\u001b[39m \u001b[34mstringr  \u001b[39m 1.5.1\n",
      "\u001b[32m✔\u001b[39m \u001b[34mggplot2  \u001b[39m 3.5.1     \u001b[32m✔\u001b[39m \u001b[34mtibble   \u001b[39m 3.2.1\n",
      "\u001b[32m✔\u001b[39m \u001b[34mlubridate\u001b[39m 1.9.3     \u001b[32m✔\u001b[39m \u001b[34mtidyr    \u001b[39m 1.3.1\n",
      "\u001b[32m✔\u001b[39m \u001b[34mpurrr    \u001b[39m 1.0.2     \n",
      "── \u001b[1mConflicts\u001b[22m ────────────────────────────────────────── tidyverse_conflicts() ──\n",
      "\u001b[31m✖\u001b[39m \u001b[34mdplyr\u001b[39m::\u001b[32mfilter()\u001b[39m masks \u001b[34mstats\u001b[39m::filter()\n",
      "\u001b[31m✖\u001b[39m \u001b[34mdplyr\u001b[39m::\u001b[32mlag()\u001b[39m    masks \u001b[34mstats\u001b[39m::lag()\n",
      "\u001b[36mℹ\u001b[39m Use the conflicted package (\u001b[3m\u001b[34m<http://conflicted.r-lib.org/>\u001b[39m\u001b[23m) to force all conflicts to become errors\n"
     ]
    },
    {
     "data": {
      "text/html": [
       "<table class=\"dataframe\">\n",
       "<caption>A data.frame: 5 × 4</caption>\n",
       "<thead>\n",
       "\t<tr><th scope=col>name</th><th scope=col>lastname</th><th scope=col>gender</th><th scope=col>age</th></tr>\n",
       "\t<tr><th scope=col>&lt;chr&gt;</th><th scope=col>&lt;chr&gt;</th><th scope=col>&lt;chr&gt;</th><th scope=col>&lt;dbl&gt;</th></tr>\n",
       "</thead>\n",
       "<tbody>\n",
       "\t<tr><td>Susan</td><td>Wilson </td><td>F</td><td>23</td></tr>\n",
       "\t<tr><td>Greg </td><td>Gray   </td><td>M</td><td>46</td></tr>\n",
       "\t<tr><td>Amy  </td><td>Sanders</td><td>F</td><td>32</td></tr>\n",
       "\t<tr><td>Laura</td><td>Xeon   </td><td>F</td><td>90</td></tr>\n",
       "\t<tr><td>David</td><td>Rogers </td><td>M</td><td>53</td></tr>\n",
       "</tbody>\n",
       "</table>\n"
      ],
      "text/latex": [
       "A data.frame: 5 × 4\n",
       "\\begin{tabular}{llll}\n",
       " name & lastname & gender & age\\\\\n",
       " <chr> & <chr> & <chr> & <dbl>\\\\\n",
       "\\hline\n",
       "\t Susan & Wilson  & F & 23\\\\\n",
       "\t Greg  & Gray    & M & 46\\\\\n",
       "\t Amy   & Sanders & F & 32\\\\\n",
       "\t Laura & Xeon    & F & 90\\\\\n",
       "\t David & Rogers  & M & 53\\\\\n",
       "\\end{tabular}\n"
      ],
      "text/markdown": [
       "\n",
       "A data.frame: 5 × 4\n",
       "\n",
       "| name &lt;chr&gt; | lastname &lt;chr&gt; | gender &lt;chr&gt; | age &lt;dbl&gt; |\n",
       "|---|---|---|---|\n",
       "| Susan | Wilson  | F | 23 |\n",
       "| Greg  | Gray    | M | 46 |\n",
       "| Amy   | Sanders | F | 32 |\n",
       "| Laura | Xeon    | F | 90 |\n",
       "| David | Rogers  | M | 53 |\n",
       "\n"
      ],
      "text/plain": [
       "  name  lastname gender age\n",
       "1 Susan Wilson   F      23 \n",
       "2 Greg  Gray     M      46 \n",
       "3 Amy   Sanders  F      32 \n",
       "4 Laura Xeon     F      90 \n",
       "5 David Rogers   M      53 "
      ]
     },
     "metadata": {},
     "output_type": "display_data"
    }
   ],
   "source": [
    "library(tidyverse)\n",
    "library(stringr)\n",
    "\n",
    "data <- data.frame(name = c(\"Susan\", \"Greg\", \"Amy\", \"Laura\", \"David\"), lastname = c(\"Wilson\", \"Gray\", \"Sanders\", \"Xeon\", \"Rogers\"), gender = c(\"F\", \"M\", \"F\", \"F\", \"M\"), age = c(23, 46, 32, 90, 53))\n",
    "data"
   ]
  },
  {
   "cell_type": "markdown",
   "metadata": {},
   "source": [
    "La función <s>`nchar`</s> `str_length` indica la longitud de la cadena de caracteres."
   ]
  },
  {
   "cell_type": "code",
   "execution_count": 45,
   "metadata": {
    "vscode": {
     "languageId": "r"
    }
   },
   "outputs": [
    {
     "data": {
      "text/html": [
       "<style>\n",
       ".list-inline {list-style: none; margin:0; padding: 0}\n",
       ".list-inline>li {display: inline-block}\n",
       ".list-inline>li:not(:last-child)::after {content: \"\\00b7\"; padding: 0 .5ex}\n",
       "</style>\n",
       "<ol class=list-inline><li>6</li><li>4</li><li>7</li><li>4</li><li>6</li></ol>\n"
      ],
      "text/latex": [
       "\\begin{enumerate*}\n",
       "\\item 6\n",
       "\\item 4\n",
       "\\item 7\n",
       "\\item 4\n",
       "\\item 6\n",
       "\\end{enumerate*}\n"
      ],
      "text/markdown": [
       "1. 6\n",
       "2. 4\n",
       "3. 7\n",
       "4. 4\n",
       "5. 6\n",
       "\n",
       "\n"
      ],
      "text/plain": [
       "[1] 6 4 7 4 6"
      ]
     },
     "metadata": {},
     "output_type": "display_data"
    }
   ],
   "source": [
    "data %>% pull(lastname) %>% str_length"
   ]
  },
  {
   "cell_type": "markdown",
   "metadata": {},
   "source": [
    "La función <s>`paste`</s> `str_c` concatena varias cadenas de caracteres."
   ]
  },
  {
   "cell_type": "code",
   "execution_count": 46,
   "metadata": {
    "vscode": {
     "languageId": "r"
    }
   },
   "outputs": [
    {
     "data": {
      "text/html": [
       "'Susan, Greg, Amy, Laura, David'"
      ],
      "text/latex": [
       "'Susan, Greg, Amy, Laura, David'"
      ],
      "text/markdown": [
       "'Susan, Greg, Amy, Laura, David'"
      ],
      "text/plain": [
       "[1] \"Susan, Greg, Amy, Laura, David\""
      ]
     },
     "metadata": {},
     "output_type": "display_data"
    }
   ],
   "source": [
    "data$name %>% str_c(collapse = \", \")"
   ]
  },
  {
   "cell_type": "code",
   "execution_count": 47,
   "metadata": {
    "vscode": {
     "languageId": "r"
    }
   },
   "outputs": [
    {
     "data": {
      "text/html": [
       "<style>\n",
       ".list-inline {list-style: none; margin:0; padding: 0}\n",
       ".list-inline>li {display: inline-block}\n",
       ".list-inline>li:not(:last-child)::after {content: \"\\00b7\"; padding: 0 .5ex}\n",
       "</style>\n",
       "<ol class=list-inline><li>'Susan - Wilson'</li><li>'Greg - Gray'</li><li>'Amy - Sanders'</li><li>'Laura - Xeon'</li><li>'David - Rogers'</li></ol>\n"
      ],
      "text/latex": [
       "\\begin{enumerate*}\n",
       "\\item 'Susan - Wilson'\n",
       "\\item 'Greg - Gray'\n",
       "\\item 'Amy - Sanders'\n",
       "\\item 'Laura - Xeon'\n",
       "\\item 'David - Rogers'\n",
       "\\end{enumerate*}\n"
      ],
      "text/markdown": [
       "1. 'Susan - Wilson'\n",
       "2. 'Greg - Gray'\n",
       "3. 'Amy - Sanders'\n",
       "4. 'Laura - Xeon'\n",
       "5. 'David - Rogers'\n",
       "\n",
       "\n"
      ],
      "text/plain": [
       "[1] \"Susan - Wilson\" \"Greg - Gray\"    \"Amy - Sanders\"  \"Laura - Xeon\"  \n",
       "[5] \"David - Rogers\""
      ]
     },
     "metadata": {},
     "output_type": "display_data"
    }
   ],
   "source": [
    "str_c(data$name, data$lastname, sep = \" - \")"
   ]
  },
  {
   "cell_type": "code",
   "execution_count": 48,
   "metadata": {
    "vscode": {
     "languageId": "r"
    }
   },
   "outputs": [
    {
     "data": {
      "text/html": [
       "<table class=\"dataframe\">\n",
       "<caption>A data.frame: 5 × 5</caption>\n",
       "<thead>\n",
       "\t<tr><th scope=col>Full_name</th><th scope=col>name</th><th scope=col>lastname</th><th scope=col>gender</th><th scope=col>age</th></tr>\n",
       "\t<tr><th scope=col>&lt;chr&gt;</th><th scope=col>&lt;chr&gt;</th><th scope=col>&lt;chr&gt;</th><th scope=col>&lt;chr&gt;</th><th scope=col>&lt;dbl&gt;</th></tr>\n",
       "</thead>\n",
       "<tbody>\n",
       "\t<tr><td>Susan - Wilson</td><td>Susan</td><td>Wilson </td><td>F</td><td>23</td></tr>\n",
       "\t<tr><td>Greg - Gray   </td><td>Greg </td><td>Gray   </td><td>M</td><td>46</td></tr>\n",
       "\t<tr><td>Amy - Sanders </td><td>Amy  </td><td>Sanders</td><td>F</td><td>32</td></tr>\n",
       "\t<tr><td>Laura - Xeon  </td><td>Laura</td><td>Xeon   </td><td>F</td><td>90</td></tr>\n",
       "\t<tr><td>David - Rogers</td><td>David</td><td>Rogers </td><td>M</td><td>53</td></tr>\n",
       "</tbody>\n",
       "</table>\n"
      ],
      "text/latex": [
       "A data.frame: 5 × 5\n",
       "\\begin{tabular}{lllll}\n",
       " Full\\_name & name & lastname & gender & age\\\\\n",
       " <chr> & <chr> & <chr> & <chr> & <dbl>\\\\\n",
       "\\hline\n",
       "\t Susan - Wilson & Susan & Wilson  & F & 23\\\\\n",
       "\t Greg - Gray    & Greg  & Gray    & M & 46\\\\\n",
       "\t Amy - Sanders  & Amy   & Sanders & F & 32\\\\\n",
       "\t Laura - Xeon   & Laura & Xeon    & F & 90\\\\\n",
       "\t David - Rogers & David & Rogers  & M & 53\\\\\n",
       "\\end{tabular}\n"
      ],
      "text/markdown": [
       "\n",
       "A data.frame: 5 × 5\n",
       "\n",
       "| Full_name &lt;chr&gt; | name &lt;chr&gt; | lastname &lt;chr&gt; | gender &lt;chr&gt; | age &lt;dbl&gt; |\n",
       "|---|---|---|---|---|\n",
       "| Susan - Wilson | Susan | Wilson  | F | 23 |\n",
       "| Greg - Gray    | Greg  | Gray    | M | 46 |\n",
       "| Amy - Sanders  | Amy   | Sanders | F | 32 |\n",
       "| Laura - Xeon   | Laura | Xeon    | F | 90 |\n",
       "| David - Rogers | David | Rogers  | M | 53 |\n",
       "\n"
      ],
      "text/plain": [
       "  Full_name      name  lastname gender age\n",
       "1 Susan - Wilson Susan Wilson   F      23 \n",
       "2 Greg - Gray    Greg  Gray     M      46 \n",
       "3 Amy - Sanders  Amy   Sanders  F      32 \n",
       "4 Laura - Xeon   Laura Xeon     F      90 \n",
       "5 David - Rogers David Rogers   M      53 "
      ]
     },
     "metadata": {},
     "output_type": "display_data"
    }
   ],
   "source": [
    "data %>% unite(\"Full_name\", c(name, lastname), remove = FALSE, sep = \" - \")"
   ]
  },
  {
   "cell_type": "code",
   "execution_count": 49,
   "metadata": {
    "vscode": {
     "languageId": "r"
    }
   },
   "outputs": [
    {
     "data": {
      "text/html": [
       "<table class=\"dataframe\">\n",
       "<caption>A data.frame: 5 × 3</caption>\n",
       "<thead>\n",
       "\t<tr><th scope=col>Full_name</th><th scope=col>gender</th><th scope=col>age</th></tr>\n",
       "\t<tr><th scope=col>&lt;chr&gt;</th><th scope=col>&lt;chr&gt;</th><th scope=col>&lt;dbl&gt;</th></tr>\n",
       "</thead>\n",
       "<tbody>\n",
       "\t<tr><td>Susan - Wilson</td><td>F</td><td>23</td></tr>\n",
       "\t<tr><td>Greg - Gray   </td><td>M</td><td>46</td></tr>\n",
       "\t<tr><td>Amy - Sanders </td><td>F</td><td>32</td></tr>\n",
       "\t<tr><td>Laura - Xeon  </td><td>F</td><td>90</td></tr>\n",
       "\t<tr><td>David - Rogers</td><td>M</td><td>53</td></tr>\n",
       "</tbody>\n",
       "</table>\n"
      ],
      "text/latex": [
       "A data.frame: 5 × 3\n",
       "\\begin{tabular}{lll}\n",
       " Full\\_name & gender & age\\\\\n",
       " <chr> & <chr> & <dbl>\\\\\n",
       "\\hline\n",
       "\t Susan - Wilson & F & 23\\\\\n",
       "\t Greg - Gray    & M & 46\\\\\n",
       "\t Amy - Sanders  & F & 32\\\\\n",
       "\t Laura - Xeon   & F & 90\\\\\n",
       "\t David - Rogers & M & 53\\\\\n",
       "\\end{tabular}\n"
      ],
      "text/markdown": [
       "\n",
       "A data.frame: 5 × 3\n",
       "\n",
       "| Full_name &lt;chr&gt; | gender &lt;chr&gt; | age &lt;dbl&gt; |\n",
       "|---|---|---|\n",
       "| Susan - Wilson | F | 23 |\n",
       "| Greg - Gray    | M | 46 |\n",
       "| Amy - Sanders  | F | 32 |\n",
       "| Laura - Xeon   | F | 90 |\n",
       "| David - Rogers | M | 53 |\n",
       "\n"
      ],
      "text/plain": [
       "  Full_name      gender age\n",
       "1 Susan - Wilson F      23 \n",
       "2 Greg - Gray    M      46 \n",
       "3 Amy - Sanders  F      32 \n",
       "4 Laura - Xeon   F      90 \n",
       "5 David - Rogers M      53 "
      ]
     },
     "metadata": {},
     "output_type": "display_data"
    }
   ],
   "source": [
    "data %>% unite(\"Full_name\", c(name, lastname), sep = \" - \")"
   ]
  },
  {
   "cell_type": "code",
   "execution_count": 50,
   "metadata": {
    "vscode": {
     "languageId": "r"
    }
   },
   "outputs": [
    {
     "data": {
      "text/html": [
       "<table class=\"dataframe\">\n",
       "<caption>A data.frame: 5 × 6</caption>\n",
       "<thead>\n",
       "\t<tr><th scope=col>x</th><th scope=col>y</th><th scope=col>name</th><th scope=col>lastname</th><th scope=col>gender</th><th scope=col>age</th></tr>\n",
       "\t<tr><th scope=col>&lt;chr&gt;</th><th scope=col>&lt;chr&gt;</th><th scope=col>&lt;chr&gt;</th><th scope=col>&lt;chr&gt;</th><th scope=col>&lt;chr&gt;</th><th scope=col>&lt;dbl&gt;</th></tr>\n",
       "</thead>\n",
       "<tbody>\n",
       "\t<tr><td>Susan</td><td>Wilson </td><td>Susan</td><td>Wilson </td><td>F</td><td>23</td></tr>\n",
       "\t<tr><td>Greg </td><td>Gray   </td><td>Greg </td><td>Gray   </td><td>M</td><td>46</td></tr>\n",
       "\t<tr><td>Amy  </td><td>Sanders</td><td>Amy  </td><td>Sanders</td><td>F</td><td>32</td></tr>\n",
       "\t<tr><td>Laura</td><td>Xeon   </td><td>Laura</td><td>Xeon   </td><td>F</td><td>90</td></tr>\n",
       "\t<tr><td>David</td><td>Rogers </td><td>David</td><td>Rogers </td><td>M</td><td>53</td></tr>\n",
       "</tbody>\n",
       "</table>\n"
      ],
      "text/latex": [
       "A data.frame: 5 × 6\n",
       "\\begin{tabular}{llllll}\n",
       " x & y & name & lastname & gender & age\\\\\n",
       " <chr> & <chr> & <chr> & <chr> & <chr> & <dbl>\\\\\n",
       "\\hline\n",
       "\t Susan & Wilson  & Susan & Wilson  & F & 23\\\\\n",
       "\t Greg  & Gray    & Greg  & Gray    & M & 46\\\\\n",
       "\t Amy   & Sanders & Amy   & Sanders & F & 32\\\\\n",
       "\t Laura & Xeon    & Laura & Xeon    & F & 90\\\\\n",
       "\t David & Rogers  & David & Rogers  & M & 53\\\\\n",
       "\\end{tabular}\n"
      ],
      "text/markdown": [
       "\n",
       "A data.frame: 5 × 6\n",
       "\n",
       "| x &lt;chr&gt; | y &lt;chr&gt; | name &lt;chr&gt; | lastname &lt;chr&gt; | gender &lt;chr&gt; | age &lt;dbl&gt; |\n",
       "|---|---|---|---|---|---|\n",
       "| Susan | Wilson  | Susan | Wilson  | F | 23 |\n",
       "| Greg  | Gray    | Greg  | Gray    | M | 46 |\n",
       "| Amy   | Sanders | Amy   | Sanders | F | 32 |\n",
       "| Laura | Xeon    | Laura | Xeon    | F | 90 |\n",
       "| David | Rogers  | David | Rogers  | M | 53 |\n",
       "\n"
      ],
      "text/plain": [
       "  x     y       name  lastname gender age\n",
       "1 Susan Wilson  Susan Wilson   F      23 \n",
       "2 Greg  Gray    Greg  Gray     M      46 \n",
       "3 Amy   Sanders Amy   Sanders  F      32 \n",
       "4 Laura Xeon    Laura Xeon     F      90 \n",
       "5 David Rogers  David Rogers   M      53 "
      ]
     },
     "metadata": {},
     "output_type": "display_data"
    }
   ],
   "source": [
    "data %>% unite(\"Full_name\", c(name, lastname), remove = FALSE, sep = \" - \") %>%\n",
    "    separate(Full_name, c(\"x\", \"y\"), remove = TRUE, sep = \" - \")"
   ]
  },
  {
   "cell_type": "markdown",
   "metadata": {},
   "source": [
    "La función <s>`substr(x, inicio, parada)`</s> `str_sub(x, inicio, parada)` devuelve la subcadena en el rango de posiciones de caracteres dado inicio:parada para la cadena x. "
   ]
  },
  {
   "cell_type": "code",
   "execution_count": 51,
   "metadata": {
    "vscode": {
     "languageId": "r"
    }
   },
   "outputs": [
    {
     "data": {
      "text/html": [
       "<style>\n",
       ".list-inline {list-style: none; margin:0; padding: 0}\n",
       ".list-inline>li {display: inline-block}\n",
       ".list-inline>li:not(:last-child)::after {content: \"\\00b7\"; padding: 0 .5ex}\n",
       "</style>\n",
       "<ol class=list-inline><li>'us'</li><li>'re'</li><li>'my'</li><li>'au'</li><li>'av'</li></ol>\n"
      ],
      "text/latex": [
       "\\begin{enumerate*}\n",
       "\\item 'us'\n",
       "\\item 're'\n",
       "\\item 'my'\n",
       "\\item 'au'\n",
       "\\item 'av'\n",
       "\\end{enumerate*}\n"
      ],
      "text/markdown": [
       "1. 'us'\n",
       "2. 're'\n",
       "3. 'my'\n",
       "4. 'au'\n",
       "5. 'av'\n",
       "\n",
       "\n"
      ],
      "text/plain": [
       "[1] \"us\" \"re\" \"my\" \"au\" \"av\""
      ]
     },
     "metadata": {},
     "output_type": "display_data"
    }
   ],
   "source": [
    "data$name %>% str_sub(2, 3)"
   ]
  },
  {
   "cell_type": "markdown",
   "metadata": {},
   "source": [
    "## Expresiones regulares"
   ]
  },
  {
   "cell_type": "markdown",
   "metadata": {},
   "source": [
    "La función `str_detect` indica si hay alguna coincidencia con el patrón indicado."
   ]
  },
  {
   "cell_type": "code",
   "execution_count": 52,
   "metadata": {
    "vscode": {
     "languageId": "r"
    }
   },
   "outputs": [
    {
     "data": {
      "text/html": [
       "<table class=\"dataframe\">\n",
       "<caption>A data.frame: 1 × 4</caption>\n",
       "<thead>\n",
       "\t<tr><th></th><th scope=col>name</th><th scope=col>lastname</th><th scope=col>gender</th><th scope=col>age</th></tr>\n",
       "\t<tr><th></th><th scope=col>&lt;chr&gt;</th><th scope=col>&lt;chr&gt;</th><th scope=col>&lt;chr&gt;</th><th scope=col>&lt;dbl&gt;</th></tr>\n",
       "</thead>\n",
       "<tbody>\n",
       "\t<tr><th scope=row>1</th><td>Susan</td><td>Wilson</td><td>F</td><td>23</td></tr>\n",
       "</tbody>\n",
       "</table>\n"
      ],
      "text/latex": [
       "A data.frame: 1 × 4\n",
       "\\begin{tabular}{r|llll}\n",
       "  & name & lastname & gender & age\\\\\n",
       "  & <chr> & <chr> & <chr> & <dbl>\\\\\n",
       "\\hline\n",
       "\t1 & Susan & Wilson & F & 23\\\\\n",
       "\\end{tabular}\n"
      ],
      "text/markdown": [
       "\n",
       "A data.frame: 1 × 4\n",
       "\n",
       "| <!--/--> | name &lt;chr&gt; | lastname &lt;chr&gt; | gender &lt;chr&gt; | age &lt;dbl&gt; |\n",
       "|---|---|---|---|---|\n",
       "| 1 | Susan | Wilson | F | 23 |\n",
       "\n"
      ],
      "text/plain": [
       "  name  lastname gender age\n",
       "1 Susan Wilson   F      23 "
      ]
     },
     "metadata": {},
     "output_type": "display_data"
    }
   ],
   "source": [
    "data[1,]"
   ]
  },
  {
   "cell_type": "code",
   "execution_count": 53,
   "metadata": {
    "vscode": {
     "languageId": "r"
    }
   },
   "outputs": [
    {
     "data": {
      "text/html": [
       "<style>\n",
       ".list-inline {list-style: none; margin:0; padding: 0}\n",
       ".list-inline>li {display: inline-block}\n",
       ".list-inline>li:not(:last-child)::after {content: \"\\00b7\"; padding: 0 .5ex}\n",
       "</style>\n",
       "<ol class=list-inline><li>TRUE</li><li>FALSE</li><li>FALSE</li><li>FALSE</li></ol>\n"
      ],
      "text/latex": [
       "\\begin{enumerate*}\n",
       "\\item TRUE\n",
       "\\item FALSE\n",
       "\\item FALSE\n",
       "\\item FALSE\n",
       "\\end{enumerate*}\n"
      ],
      "text/markdown": [
       "1. TRUE\n",
       "2. FALSE\n",
       "3. FALSE\n",
       "4. FALSE\n",
       "\n",
       "\n"
      ],
      "text/plain": [
       "[1]  TRUE FALSE FALSE FALSE"
      ]
     },
     "metadata": {},
     "output_type": "display_data"
    }
   ],
   "source": [
    "str_detect(data[1,], \"[ae]+\")"
   ]
  },
  {
   "cell_type": "code",
   "execution_count": 54,
   "metadata": {
    "vscode": {
     "languageId": "r"
    }
   },
   "outputs": [
    {
     "data": {
      "text/html": [
       "<style>\n",
       ".list-inline {list-style: none; margin:0; padding: 0}\n",
       ".list-inline>li {display: inline-block}\n",
       ".list-inline>li:not(:last-child)::after {content: \"\\00b7\"; padding: 0 .5ex}\n",
       "</style>\n",
       "<ol class=list-inline><li>'Susan'</li><li>'Greg'</li><li>'Amy'</li><li>'Laura'</li><li>'David'</li></ol>\n"
      ],
      "text/latex": [
       "\\begin{enumerate*}\n",
       "\\item 'Susan'\n",
       "\\item 'Greg'\n",
       "\\item 'Amy'\n",
       "\\item 'Laura'\n",
       "\\item 'David'\n",
       "\\end{enumerate*}\n"
      ],
      "text/markdown": [
       "1. 'Susan'\n",
       "2. 'Greg'\n",
       "3. 'Amy'\n",
       "4. 'Laura'\n",
       "5. 'David'\n",
       "\n",
       "\n"
      ],
      "text/plain": [
       "[1] \"Susan\" \"Greg\"  \"Amy\"   \"Laura\" \"David\""
      ]
     },
     "metadata": {},
     "output_type": "display_data"
    }
   ],
   "source": [
    "data$name"
   ]
  },
  {
   "cell_type": "code",
   "execution_count": 55,
   "metadata": {
    "vscode": {
     "languageId": "r"
    }
   },
   "outputs": [
    {
     "data": {
      "text/html": [
       "<style>\n",
       ".list-inline {list-style: none; margin:0; padding: 0}\n",
       ".list-inline>li {display: inline-block}\n",
       ".list-inline>li:not(:last-child)::after {content: \"\\00b7\"; padding: 0 .5ex}\n",
       "</style>\n",
       "<ol class=list-inline><li>TRUE</li><li>TRUE</li><li>FALSE</li><li>TRUE</li><li>TRUE</li></ol>\n"
      ],
      "text/latex": [
       "\\begin{enumerate*}\n",
       "\\item TRUE\n",
       "\\item TRUE\n",
       "\\item FALSE\n",
       "\\item TRUE\n",
       "\\item TRUE\n",
       "\\end{enumerate*}\n"
      ],
      "text/markdown": [
       "1. TRUE\n",
       "2. TRUE\n",
       "3. FALSE\n",
       "4. TRUE\n",
       "5. TRUE\n",
       "\n",
       "\n"
      ],
      "text/plain": [
       "[1]  TRUE  TRUE FALSE  TRUE  TRUE"
      ]
     },
     "metadata": {},
     "output_type": "display_data"
    }
   ],
   "source": [
    "data$name %>% str_detect(\"[aeiou]\")"
   ]
  },
  {
   "cell_type": "markdown",
   "metadata": {},
   "source": [
    "La función `str_subset` extrae los componentes que han coincidido.components"
   ]
  },
  {
   "cell_type": "code",
   "execution_count": 56,
   "metadata": {
    "vscode": {
     "languageId": "r"
    }
   },
   "outputs": [
    {
     "data": {
      "text/html": [
       "<style>\n",
       ".list-inline {list-style: none; margin:0; padding: 0}\n",
       ".list-inline>li {display: inline-block}\n",
       ".list-inline>li:not(:last-child)::after {content: \"\\00b7\"; padding: 0 .5ex}\n",
       "</style>\n",
       "<ol class=list-inline><li>'Susan'</li><li>'Greg'</li><li>'Laura'</li><li>'David'</li></ol>\n"
      ],
      "text/latex": [
       "\\begin{enumerate*}\n",
       "\\item 'Susan'\n",
       "\\item 'Greg'\n",
       "\\item 'Laura'\n",
       "\\item 'David'\n",
       "\\end{enumerate*}\n"
      ],
      "text/markdown": [
       "1. 'Susan'\n",
       "2. 'Greg'\n",
       "3. 'Laura'\n",
       "4. 'David'\n",
       "\n",
       "\n"
      ],
      "text/plain": [
       "[1] \"Susan\" \"Greg\"  \"Laura\" \"David\""
      ]
     },
     "metadata": {},
     "output_type": "display_data"
    }
   ],
   "source": [
    "data$name %>% str_subset(\"[aeiou]\")"
   ]
  },
  {
   "cell_type": "markdown",
   "metadata": {},
   "source": [
    "La función `str_count` cuenta la cantidad de veces que coincide."
   ]
  },
  {
   "cell_type": "code",
   "execution_count": 57,
   "metadata": {
    "vscode": {
     "languageId": "r"
    }
   },
   "outputs": [
    {
     "data": {
      "text/html": [
       "<style>\n",
       ".list-inline {list-style: none; margin:0; padding: 0}\n",
       ".list-inline>li {display: inline-block}\n",
       ".list-inline>li:not(:last-child)::after {content: \"\\00b7\"; padding: 0 .5ex}\n",
       "</style>\n",
       "<ol class=list-inline><li>2</li><li>1</li><li>0</li><li>3</li><li>2</li></ol>\n"
      ],
      "text/latex": [
       "\\begin{enumerate*}\n",
       "\\item 2\n",
       "\\item 1\n",
       "\\item 0\n",
       "\\item 3\n",
       "\\item 2\n",
       "\\end{enumerate*}\n"
      ],
      "text/markdown": [
       "1. 2\n",
       "2. 1\n",
       "3. 0\n",
       "4. 3\n",
       "5. 2\n",
       "\n",
       "\n"
      ],
      "text/plain": [
       "[1] 2 1 0 3 2"
      ]
     },
     "metadata": {},
     "output_type": "display_data"
    }
   ],
   "source": [
    "data$name %>% str_count(\"[aeiou]\")"
   ]
  },
  {
   "cell_type": "markdown",
   "metadata": {},
   "source": [
    "La función `str_extract` extrae el texto de la coincidencia."
   ]
  },
  {
   "cell_type": "code",
   "execution_count": 58,
   "metadata": {
    "vscode": {
     "languageId": "r"
    }
   },
   "outputs": [
    {
     "data": {
      "text/html": [
       "<style>\n",
       ".list-inline {list-style: none; margin:0; padding: 0}\n",
       ".list-inline>li {display: inline-block}\n",
       ".list-inline>li:not(:last-child)::after {content: \"\\00b7\"; padding: 0 .5ex}\n",
       "</style>\n",
       "<ol class=list-inline><li>'u'</li><li>'e'</li><li>NA</li><li>'a'</li><li>'a'</li></ol>\n"
      ],
      "text/latex": [
       "\\begin{enumerate*}\n",
       "\\item 'u'\n",
       "\\item 'e'\n",
       "\\item NA\n",
       "\\item 'a'\n",
       "\\item 'a'\n",
       "\\end{enumerate*}\n"
      ],
      "text/markdown": [
       "1. 'u'\n",
       "2. 'e'\n",
       "3. NA\n",
       "4. 'a'\n",
       "5. 'a'\n",
       "\n",
       "\n"
      ],
      "text/plain": [
       "[1] \"u\" \"e\" NA  \"a\" \"a\""
      ]
     },
     "metadata": {},
     "output_type": "display_data"
    }
   ],
   "source": [
    "data$name %>% str_extract(\"[aeiou]\")"
   ]
  },
  {
   "cell_type": "code",
   "execution_count": 59,
   "metadata": {
    "vscode": {
     "languageId": "r"
    }
   },
   "outputs": [
    {
     "data": {
      "text/html": [
       "<ol>\n",
       "\t<li><style>\n",
       ".list-inline {list-style: none; margin:0; padding: 0}\n",
       ".list-inline>li {display: inline-block}\n",
       ".list-inline>li:not(:last-child)::after {content: \"\\00b7\"; padding: 0 .5ex}\n",
       "</style>\n",
       "<ol class=list-inline><li>'u'</li><li>'a'</li></ol>\n",
       "</li>\n",
       "\t<li>'e'</li>\n",
       "\t<li></li>\n",
       "\t<li><style>\n",
       ".list-inline {list-style: none; margin:0; padding: 0}\n",
       ".list-inline>li {display: inline-block}\n",
       ".list-inline>li:not(:last-child)::after {content: \"\\00b7\"; padding: 0 .5ex}\n",
       "</style>\n",
       "<ol class=list-inline><li>'a'</li><li>'u'</li><li>'a'</li></ol>\n",
       "</li>\n",
       "\t<li><style>\n",
       ".list-inline {list-style: none; margin:0; padding: 0}\n",
       ".list-inline>li {display: inline-block}\n",
       ".list-inline>li:not(:last-child)::after {content: \"\\00b7\"; padding: 0 .5ex}\n",
       "</style>\n",
       "<ol class=list-inline><li>'a'</li><li>'i'</li></ol>\n",
       "</li>\n",
       "</ol>\n"
      ],
      "text/latex": [
       "\\begin{enumerate}\n",
       "\\item \\begin{enumerate*}\n",
       "\\item 'u'\n",
       "\\item 'a'\n",
       "\\end{enumerate*}\n",
       "\n",
       "\\item 'e'\n",
       "\\item \n",
       "\\item \\begin{enumerate*}\n",
       "\\item 'a'\n",
       "\\item 'u'\n",
       "\\item 'a'\n",
       "\\end{enumerate*}\n",
       "\n",
       "\\item \\begin{enumerate*}\n",
       "\\item 'a'\n",
       "\\item 'i'\n",
       "\\end{enumerate*}\n",
       "\n",
       "\\end{enumerate}\n"
      ],
      "text/markdown": [
       "1. 1. 'u'\n",
       "2. 'a'\n",
       "\n",
       "\n",
       "\n",
       "2. 'e'\n",
       "3. \n",
       "4. 1. 'a'\n",
       "2. 'u'\n",
       "3. 'a'\n",
       "\n",
       "\n",
       "\n",
       "5. 1. 'a'\n",
       "2. 'i'\n",
       "\n",
       "\n",
       "\n",
       "\n",
       "\n"
      ],
      "text/plain": [
       "[[1]]\n",
       "[1] \"u\" \"a\"\n",
       "\n",
       "[[2]]\n",
       "[1] \"e\"\n",
       "\n",
       "[[3]]\n",
       "character(0)\n",
       "\n",
       "[[4]]\n",
       "[1] \"a\" \"u\" \"a\"\n",
       "\n",
       "[[5]]\n",
       "[1] \"a\" \"i\"\n"
      ]
     },
     "metadata": {},
     "output_type": "display_data"
    }
   ],
   "source": [
    "data$name %>% str_extract_all(\"[aeiou]\")"
   ]
  },
  {
   "cell_type": "markdown",
   "metadata": {},
   "source": [
    "La función `str_match` extrae partes de la coincidencia definida entre paréntesis."
   ]
  },
  {
   "cell_type": "code",
   "execution_count": 60,
   "metadata": {
    "vscode": {
     "languageId": "r"
    }
   },
   "outputs": [
    {
     "name": "stdout",
     "output_type": "stream",
     "text": [
      "[1] \"Susan\" \"Greg\"  \"Amy\"   \"Laura\" \"David\"\n"
     ]
    },
    {
     "data": {
      "text/html": [
       "<table class=\"dataframe\">\n",
       "<caption>A matrix: 5 × 3 of type chr</caption>\n",
       "<tbody>\n",
       "\t<tr><td>Susa</td><td>S </td><td>sa</td></tr>\n",
       "\t<tr><td>NA  </td><td>NA</td><td>NA</td></tr>\n",
       "\t<tr><td>NA  </td><td>NA</td><td>NA</td></tr>\n",
       "\t<tr><td>Laur</td><td>L </td><td>ur</td></tr>\n",
       "\t<tr><td>Davi</td><td>D </td><td>vi</td></tr>\n",
       "</tbody>\n",
       "</table>\n"
      ],
      "text/latex": [
       "A matrix: 5 × 3 of type chr\n",
       "\\begin{tabular}{lll}\n",
       "\t Susa & S  & sa\\\\\n",
       "\t NA   & NA & NA\\\\\n",
       "\t NA   & NA & NA\\\\\n",
       "\t Laur & L  & ur\\\\\n",
       "\t Davi & D  & vi\\\\\n",
       "\\end{tabular}\n"
      ],
      "text/markdown": [
       "\n",
       "A matrix: 5 × 3 of type chr\n",
       "\n",
       "| Susa | S  | sa |\n",
       "| NA   | NA | NA |\n",
       "| NA   | NA | NA |\n",
       "| Laur | L  | ur |\n",
       "| Davi | D  | vi |\n",
       "\n"
      ],
      "text/plain": [
       "     [,1] [,2] [,3]\n",
       "[1,] Susa S    sa  \n",
       "[2,] NA   NA   NA  \n",
       "[3,] NA   NA   NA  \n",
       "[4,] Laur L    ur  \n",
       "[5,] Davi D    vi  "
      ]
     },
     "metadata": {},
     "output_type": "display_data"
    }
   ],
   "source": [
    "print(data$name)\n",
    "\n",
    "data$name %>% str_match(\"(.)[aeiou](..)\")"
   ]
  },
  {
   "cell_type": "markdown",
   "metadata": {},
   "source": [
    "La función `str_replace` reemplaza las coincidencias por una nueva cadena de caracteres."
   ]
  },
  {
   "cell_type": "code",
   "execution_count": 61,
   "metadata": {
    "vscode": {
     "languageId": "r"
    }
   },
   "outputs": [
    {
     "data": {
      "text/html": [
       "<style>\n",
       ".list-inline {list-style: none; margin:0; padding: 0}\n",
       ".list-inline>li {display: inline-block}\n",
       ".list-inline>li:not(:last-child)::after {content: \"\\00b7\"; padding: 0 .5ex}\n",
       "</style>\n",
       "<ol class=list-inline><li>'S*san'</li><li>'Gr*g'</li><li>'Amy'</li><li>'L*ura'</li><li>'D*vid'</li></ol>\n"
      ],
      "text/latex": [
       "\\begin{enumerate*}\n",
       "\\item 'S*san'\n",
       "\\item 'Gr*g'\n",
       "\\item 'Amy'\n",
       "\\item 'L*ura'\n",
       "\\item 'D*vid'\n",
       "\\end{enumerate*}\n"
      ],
      "text/markdown": [
       "1. 'S*san'\n",
       "2. 'Gr*g'\n",
       "3. 'Amy'\n",
       "4. 'L*ura'\n",
       "5. 'D*vid'\n",
       "\n",
       "\n"
      ],
      "text/plain": [
       "[1] \"S*san\" \"Gr*g\"  \"Amy\"   \"L*ura\" \"D*vid\""
      ]
     },
     "metadata": {},
     "output_type": "display_data"
    }
   ],
   "source": [
    "data$name %>% str_replace(\"[aeiou]\", \"*\")"
   ]
  },
  {
   "cell_type": "code",
   "execution_count": 62,
   "metadata": {
    "vscode": {
     "languageId": "r"
    }
   },
   "outputs": [
    {
     "data": {
      "text/html": [
       "<style>\n",
       ".list-inline {list-style: none; margin:0; padding: 0}\n",
       ".list-inline>li {display: inline-block}\n",
       ".list-inline>li:not(:last-child)::after {content: \"\\00b7\"; padding: 0 .5ex}\n",
       "</style>\n",
       "<ol class=list-inline><li>'S*s*n'</li><li>'Gr*g'</li><li>'Amy'</li><li>'L**r*'</li><li>'D*v*d'</li></ol>\n"
      ],
      "text/latex": [
       "\\begin{enumerate*}\n",
       "\\item 'S*s*n'\n",
       "\\item 'Gr*g'\n",
       "\\item 'Amy'\n",
       "\\item 'L**r*'\n",
       "\\item 'D*v*d'\n",
       "\\end{enumerate*}\n"
      ],
      "text/markdown": [
       "1. 'S*s*n'\n",
       "2. 'Gr*g'\n",
       "3. 'Amy'\n",
       "4. 'L**r*'\n",
       "5. 'D*v*d'\n",
       "\n",
       "\n"
      ],
      "text/plain": [
       "[1] \"S*s*n\" \"Gr*g\"  \"Amy\"   \"L**r*\" \"D*v*d\""
      ]
     },
     "metadata": {},
     "output_type": "display_data"
    }
   ],
   "source": [
    "data$name %>% str_replace_all(\"[aeiou]\", \"*\")"
   ]
  },
  {
   "cell_type": "markdown",
   "metadata": {},
   "source": [
    "La función <s>`strsplit`</s>`str_split` divide una cadena de caracteres en trozos."
   ]
  },
  {
   "cell_type": "code",
   "execution_count": 63,
   "metadata": {
    "vscode": {
     "languageId": "r"
    }
   },
   "outputs": [
    {
     "data": {
      "text/html": [
       "<ol>\n",
       "\t<li><style>\n",
       ".list-inline {list-style: none; margin:0; padding: 0}\n",
       ".list-inline>li {display: inline-block}\n",
       ".list-inline>li:not(:last-child)::after {content: \"\\00b7\"; padding: 0 .5ex}\n",
       "</style>\n",
       "<ol class=list-inline><li>'S'</li><li>'s'</li><li>'n'</li></ol>\n",
       "</li>\n",
       "\t<li><style>\n",
       ".list-inline {list-style: none; margin:0; padding: 0}\n",
       ".list-inline>li {display: inline-block}\n",
       ".list-inline>li:not(:last-child)::after {content: \"\\00b7\"; padding: 0 .5ex}\n",
       "</style>\n",
       "<ol class=list-inline><li>'Gr'</li><li>'g'</li></ol>\n",
       "</li>\n",
       "\t<li>'Amy'</li>\n",
       "\t<li><style>\n",
       ".list-inline {list-style: none; margin:0; padding: 0}\n",
       ".list-inline>li {display: inline-block}\n",
       ".list-inline>li:not(:last-child)::after {content: \"\\00b7\"; padding: 0 .5ex}\n",
       "</style>\n",
       "<ol class=list-inline><li>'L'</li><li>''</li><li>'r'</li><li>''</li></ol>\n",
       "</li>\n",
       "\t<li><style>\n",
       ".list-inline {list-style: none; margin:0; padding: 0}\n",
       ".list-inline>li {display: inline-block}\n",
       ".list-inline>li:not(:last-child)::after {content: \"\\00b7\"; padding: 0 .5ex}\n",
       "</style>\n",
       "<ol class=list-inline><li>'D'</li><li>'v'</li><li>'d'</li></ol>\n",
       "</li>\n",
       "</ol>\n"
      ],
      "text/latex": [
       "\\begin{enumerate}\n",
       "\\item \\begin{enumerate*}\n",
       "\\item 'S'\n",
       "\\item 's'\n",
       "\\item 'n'\n",
       "\\end{enumerate*}\n",
       "\n",
       "\\item \\begin{enumerate*}\n",
       "\\item 'Gr'\n",
       "\\item 'g'\n",
       "\\end{enumerate*}\n",
       "\n",
       "\\item 'Amy'\n",
       "\\item \\begin{enumerate*}\n",
       "\\item 'L'\n",
       "\\item ''\n",
       "\\item 'r'\n",
       "\\item ''\n",
       "\\end{enumerate*}\n",
       "\n",
       "\\item \\begin{enumerate*}\n",
       "\\item 'D'\n",
       "\\item 'v'\n",
       "\\item 'd'\n",
       "\\end{enumerate*}\n",
       "\n",
       "\\end{enumerate}\n"
      ],
      "text/markdown": [
       "1. 1. 'S'\n",
       "2. 's'\n",
       "3. 'n'\n",
       "\n",
       "\n",
       "\n",
       "2. 1. 'Gr'\n",
       "2. 'g'\n",
       "\n",
       "\n",
       "\n",
       "3. 'Amy'\n",
       "4. 1. 'L'\n",
       "2. ''\n",
       "3. 'r'\n",
       "4. ''\n",
       "\n",
       "\n",
       "\n",
       "5. 1. 'D'\n",
       "2. 'v'\n",
       "3. 'd'\n",
       "\n",
       "\n",
       "\n",
       "\n",
       "\n"
      ],
      "text/plain": [
       "[[1]]\n",
       "[1] \"S\" \"s\" \"n\"\n",
       "\n",
       "[[2]]\n",
       "[1] \"Gr\" \"g\" \n",
       "\n",
       "[[3]]\n",
       "[1] \"Amy\"\n",
       "\n",
       "[[4]]\n",
       "[1] \"L\" \"\"  \"r\" \"\" \n",
       "\n",
       "[[5]]\n",
       "[1] \"D\" \"v\" \"d\"\n"
      ]
     },
     "metadata": {},
     "output_type": "display_data"
    }
   ],
   "source": [
    "data$name %>% str_split(\"[aeiou]\")"
   ]
  },
  {
   "cell_type": "markdown",
   "metadata": {},
   "source": [
    "## Ejemplo"
   ]
  },
  {
   "cell_type": "code",
   "execution_count": 64,
   "metadata": {
    "vscode": {
     "languageId": "r"
    }
   },
   "outputs": [
    {
     "data": {
      "text/html": [
       "<table class=\"dataframe\">\n",
       "<caption>A data.frame: 777 × 18</caption>\n",
       "<thead>\n",
       "\t<tr><th></th><th scope=col>Private</th><th scope=col>Apps</th><th scope=col>Accept</th><th scope=col>Enroll</th><th scope=col>Top10perc</th><th scope=col>Top25perc</th><th scope=col>F.Undergrad</th><th scope=col>P.Undergrad</th><th scope=col>Outstate</th><th scope=col>Room.Board</th><th scope=col>Books</th><th scope=col>Personal</th><th scope=col>PhD</th><th scope=col>Terminal</th><th scope=col>S.F.Ratio</th><th scope=col>perc.alumni</th><th scope=col>Expend</th><th scope=col>Grad.Rate</th></tr>\n",
       "\t<tr><th></th><th scope=col>&lt;fct&gt;</th><th scope=col>&lt;dbl&gt;</th><th scope=col>&lt;dbl&gt;</th><th scope=col>&lt;dbl&gt;</th><th scope=col>&lt;dbl&gt;</th><th scope=col>&lt;dbl&gt;</th><th scope=col>&lt;dbl&gt;</th><th scope=col>&lt;dbl&gt;</th><th scope=col>&lt;dbl&gt;</th><th scope=col>&lt;dbl&gt;</th><th scope=col>&lt;dbl&gt;</th><th scope=col>&lt;dbl&gt;</th><th scope=col>&lt;dbl&gt;</th><th scope=col>&lt;dbl&gt;</th><th scope=col>&lt;dbl&gt;</th><th scope=col>&lt;dbl&gt;</th><th scope=col>&lt;dbl&gt;</th><th scope=col>&lt;dbl&gt;</th></tr>\n",
       "</thead>\n",
       "<tbody>\n",
       "\t<tr><th scope=row>Abilene Christian University</th><td>Yes</td><td> 1660</td><td> 1232</td><td> 721</td><td>23</td><td>52</td><td> 2885</td><td> 537</td><td> 7440</td><td>3300</td><td>450</td><td>2200</td><td>70</td><td> 78</td><td>18.1</td><td>12</td><td> 7041</td><td> 60</td></tr>\n",
       "\t<tr><th scope=row>Adelphi University</th><td>Yes</td><td> 2186</td><td> 1924</td><td> 512</td><td>16</td><td>29</td><td> 2683</td><td>1227</td><td>12280</td><td>6450</td><td>750</td><td>1500</td><td>29</td><td> 30</td><td>12.2</td><td>16</td><td>10527</td><td> 56</td></tr>\n",
       "\t<tr><th scope=row>Adrian College</th><td>Yes</td><td> 1428</td><td> 1097</td><td> 336</td><td>22</td><td>50</td><td> 1036</td><td>  99</td><td>11250</td><td>3750</td><td>400</td><td>1165</td><td>53</td><td> 66</td><td>12.9</td><td>30</td><td> 8735</td><td> 54</td></tr>\n",
       "\t<tr><th scope=row>Agnes Scott College</th><td>Yes</td><td>  417</td><td>  349</td><td> 137</td><td>60</td><td>89</td><td>  510</td><td>  63</td><td>12960</td><td>5450</td><td>450</td><td> 875</td><td>92</td><td> 97</td><td> 7.7</td><td>37</td><td>19016</td><td> 59</td></tr>\n",
       "\t<tr><th scope=row>Alaska Pacific University</th><td>Yes</td><td>  193</td><td>  146</td><td>  55</td><td>16</td><td>44</td><td>  249</td><td> 869</td><td> 7560</td><td>4120</td><td>800</td><td>1500</td><td>76</td><td> 72</td><td>11.9</td><td> 2</td><td>10922</td><td> 15</td></tr>\n",
       "\t<tr><th scope=row>Albertson College</th><td>Yes</td><td>  587</td><td>  479</td><td> 158</td><td>38</td><td>62</td><td>  678</td><td>  41</td><td>13500</td><td>3335</td><td>500</td><td> 675</td><td>67</td><td> 73</td><td> 9.4</td><td>11</td><td> 9727</td><td> 55</td></tr>\n",
       "\t<tr><th scope=row>Albertus Magnus College</th><td>Yes</td><td>  353</td><td>  340</td><td> 103</td><td>17</td><td>45</td><td>  416</td><td> 230</td><td>13290</td><td>5720</td><td>500</td><td>1500</td><td>90</td><td> 93</td><td>11.5</td><td>26</td><td> 8861</td><td> 63</td></tr>\n",
       "\t<tr><th scope=row>Albion College</th><td>Yes</td><td> 1899</td><td> 1720</td><td> 489</td><td>37</td><td>68</td><td> 1594</td><td>  32</td><td>13868</td><td>4826</td><td>450</td><td> 850</td><td>89</td><td>100</td><td>13.7</td><td>37</td><td>11487</td><td> 73</td></tr>\n",
       "\t<tr><th scope=row>Albright College</th><td>Yes</td><td> 1038</td><td>  839</td><td> 227</td><td>30</td><td>63</td><td>  973</td><td> 306</td><td>15595</td><td>4400</td><td>300</td><td> 500</td><td>79</td><td> 84</td><td>11.3</td><td>23</td><td>11644</td><td> 80</td></tr>\n",
       "\t<tr><th scope=row>Alderson-Broaddus College</th><td>Yes</td><td>  582</td><td>  498</td><td> 172</td><td>21</td><td>44</td><td>  799</td><td>  78</td><td>10468</td><td>3380</td><td>660</td><td>1800</td><td>40</td><td> 41</td><td>11.5</td><td>15</td><td> 8991</td><td> 52</td></tr>\n",
       "\t<tr><th scope=row>Alfred University</th><td>Yes</td><td> 1732</td><td> 1425</td><td> 472</td><td>37</td><td>75</td><td> 1830</td><td> 110</td><td>16548</td><td>5406</td><td>500</td><td> 600</td><td>82</td><td> 88</td><td>11.3</td><td>31</td><td>10932</td><td> 73</td></tr>\n",
       "\t<tr><th scope=row>Allegheny College</th><td>Yes</td><td> 2652</td><td> 1900</td><td> 484</td><td>44</td><td>77</td><td> 1707</td><td>  44</td><td>17080</td><td>4440</td><td>400</td><td> 600</td><td>73</td><td> 91</td><td> 9.9</td><td>41</td><td>11711</td><td> 76</td></tr>\n",
       "\t<tr><th scope=row>Allentown Coll. of St. Francis de Sales</th><td>Yes</td><td> 1179</td><td>  780</td><td> 290</td><td>38</td><td>64</td><td> 1130</td><td> 638</td><td> 9690</td><td>4785</td><td>600</td><td>1000</td><td>60</td><td> 84</td><td>13.3</td><td>21</td><td> 7940</td><td> 74</td></tr>\n",
       "\t<tr><th scope=row>Alma College</th><td>Yes</td><td> 1267</td><td> 1080</td><td> 385</td><td>44</td><td>73</td><td> 1306</td><td>  28</td><td>12572</td><td>4552</td><td>400</td><td> 400</td><td>79</td><td> 87</td><td>15.3</td><td>32</td><td> 9305</td><td> 68</td></tr>\n",
       "\t<tr><th scope=row>Alverno College</th><td>Yes</td><td>  494</td><td>  313</td><td> 157</td><td>23</td><td>46</td><td> 1317</td><td>1235</td><td> 8352</td><td>3640</td><td>650</td><td>2449</td><td>36</td><td> 69</td><td>11.1</td><td>26</td><td> 8127</td><td> 55</td></tr>\n",
       "\t<tr><th scope=row>American International College</th><td>Yes</td><td> 1420</td><td> 1093</td><td> 220</td><td> 9</td><td>22</td><td> 1018</td><td> 287</td><td> 8700</td><td>4780</td><td>450</td><td>1400</td><td>78</td><td> 84</td><td>14.7</td><td>19</td><td> 7355</td><td> 69</td></tr>\n",
       "\t<tr><th scope=row>Amherst College</th><td>Yes</td><td> 4302</td><td>  992</td><td> 418</td><td>83</td><td>96</td><td> 1593</td><td>   5</td><td>19760</td><td>5300</td><td>660</td><td>1598</td><td>93</td><td> 98</td><td> 8.4</td><td>63</td><td>21424</td><td>100</td></tr>\n",
       "\t<tr><th scope=row>Anderson University</th><td>Yes</td><td> 1216</td><td>  908</td><td> 423</td><td>19</td><td>40</td><td> 1819</td><td> 281</td><td>10100</td><td>3520</td><td>550</td><td>1100</td><td>48</td><td> 61</td><td>12.1</td><td>14</td><td> 7994</td><td> 59</td></tr>\n",
       "\t<tr><th scope=row>Andrews University</th><td>Yes</td><td> 1130</td><td>  704</td><td> 322</td><td>14</td><td>23</td><td> 1586</td><td> 326</td><td> 9996</td><td>3090</td><td>900</td><td>1320</td><td>62</td><td> 66</td><td>11.5</td><td>18</td><td>10908</td><td> 46</td></tr>\n",
       "\t<tr><th scope=row>Angelo State University</th><td>No </td><td> 3540</td><td> 2001</td><td>1016</td><td>24</td><td>54</td><td> 4190</td><td>1512</td><td> 5130</td><td>3592</td><td>500</td><td>2000</td><td>60</td><td> 62</td><td>23.1</td><td> 5</td><td> 4010</td><td> 34</td></tr>\n",
       "\t<tr><th scope=row>Antioch University</th><td>Yes</td><td>  713</td><td>  661</td><td> 252</td><td>25</td><td>44</td><td>  712</td><td>  23</td><td>15476</td><td>3336</td><td>400</td><td>1100</td><td>69</td><td> 82</td><td>11.3</td><td>35</td><td>42926</td><td> 48</td></tr>\n",
       "\t<tr><th scope=row>Appalachian State University</th><td>No </td><td> 7313</td><td> 4664</td><td>1910</td><td>20</td><td>63</td><td> 9940</td><td>1035</td><td> 6806</td><td>2540</td><td> 96</td><td>2000</td><td>83</td><td> 96</td><td>18.3</td><td>14</td><td> 5854</td><td> 70</td></tr>\n",
       "\t<tr><th scope=row>Aquinas College</th><td>Yes</td><td>  619</td><td>  516</td><td> 219</td><td>20</td><td>51</td><td> 1251</td><td> 767</td><td>11208</td><td>4124</td><td>350</td><td>1615</td><td>55</td><td> 65</td><td>12.7</td><td>25</td><td> 6584</td><td> 65</td></tr>\n",
       "\t<tr><th scope=row>Arizona State University Main campus</th><td>No </td><td>12809</td><td>10308</td><td>3761</td><td>24</td><td>49</td><td>22593</td><td>7585</td><td> 7434</td><td>4850</td><td>700</td><td>2100</td><td>88</td><td> 93</td><td>18.9</td><td> 5</td><td> 4602</td><td> 48</td></tr>\n",
       "\t<tr><th scope=row>Arkansas College (Lyon College)</th><td>Yes</td><td>  708</td><td>  334</td><td> 166</td><td>46</td><td>74</td><td>  530</td><td> 182</td><td> 8644</td><td>3922</td><td>500</td><td> 800</td><td>79</td><td> 88</td><td>12.6</td><td>24</td><td>14579</td><td> 54</td></tr>\n",
       "\t<tr><th scope=row>Arkansas Tech University</th><td>No </td><td> 1734</td><td> 1729</td><td> 951</td><td>12</td><td>52</td><td> 3602</td><td> 939</td><td> 3460</td><td>2650</td><td>450</td><td>1000</td><td>57</td><td> 60</td><td>19.6</td><td> 5</td><td> 4739</td><td> 48</td></tr>\n",
       "\t<tr><th scope=row>Assumption College</th><td>Yes</td><td> 2135</td><td> 1700</td><td> 491</td><td>23</td><td>59</td><td> 1708</td><td> 689</td><td>12000</td><td>5920</td><td>500</td><td> 500</td><td>93</td><td> 93</td><td>13.8</td><td>30</td><td> 7100</td><td> 88</td></tr>\n",
       "\t<tr><th scope=row>Auburn University-Main Campus</th><td>No </td><td> 7548</td><td> 6791</td><td>3070</td><td>25</td><td>57</td><td>16262</td><td>1716</td><td> 6300</td><td>3933</td><td>600</td><td>1908</td><td>85</td><td> 91</td><td>16.7</td><td>18</td><td> 6642</td><td> 69</td></tr>\n",
       "\t<tr><th scope=row>Augsburg College</th><td>Yes</td><td>  662</td><td>  513</td><td> 257</td><td>12</td><td>30</td><td> 2074</td><td> 726</td><td>11902</td><td>4372</td><td>540</td><td> 950</td><td>65</td><td> 65</td><td>12.8</td><td>31</td><td> 7836</td><td> 58</td></tr>\n",
       "\t<tr><th scope=row>Augustana College IL</th><td>Yes</td><td> 1879</td><td> 1658</td><td> 497</td><td>36</td><td>69</td><td> 1950</td><td>  38</td><td>13353</td><td>4173</td><td>540</td><td> 821</td><td>78</td><td> 83</td><td>12.7</td><td>40</td><td> 9220</td><td> 71</td></tr>\n",
       "\t<tr><th scope=row>⋮</th><td>⋮</td><td>⋮</td><td>⋮</td><td>⋮</td><td>⋮</td><td>⋮</td><td>⋮</td><td>⋮</td><td>⋮</td><td>⋮</td><td>⋮</td><td>⋮</td><td>⋮</td><td>⋮</td><td>⋮</td><td>⋮</td><td>⋮</td><td>⋮</td></tr>\n",
       "\t<tr><th scope=row>Westfield State College</th><td>No </td><td> 3100</td><td>2150</td><td> 825</td><td> 3</td><td>20</td><td>3234</td><td> 941</td><td> 5542</td><td>3788</td><td>500</td><td>1300</td><td>75</td><td>79</td><td>15.7</td><td>20</td><td> 4222</td><td>65</td></tr>\n",
       "\t<tr><th scope=row>Westminster College MO</th><td>Yes</td><td>  662</td><td> 553</td><td> 184</td><td>20</td><td>43</td><td> 665</td><td>  37</td><td>10720</td><td>4050</td><td>600</td><td>1650</td><td>66</td><td>70</td><td>12.5</td><td>20</td><td> 7925</td><td>62</td></tr>\n",
       "\t<tr><th scope=row>Westminster College</th><td>Yes</td><td>  996</td><td> 866</td><td> 377</td><td>29</td><td>58</td><td>1411</td><td>  72</td><td>12065</td><td>3615</td><td>430</td><td> 685</td><td>62</td><td>78</td><td>12.5</td><td>41</td><td> 8596</td><td>80</td></tr>\n",
       "\t<tr><th scope=row>Westminster College of Salt Lake City</th><td>Yes</td><td>  917</td><td> 720</td><td> 213</td><td>21</td><td>60</td><td> 979</td><td> 743</td><td> 8820</td><td>4050</td><td>600</td><td>2025</td><td>68</td><td>83</td><td>10.5</td><td>34</td><td> 7170</td><td>50</td></tr>\n",
       "\t<tr><th scope=row>Westmont College</th><td>No </td><td>  950</td><td> 713</td><td> 351</td><td>42</td><td>72</td><td>1276</td><td>   9</td><td>14320</td><td>5304</td><td>490</td><td>1410</td><td>77</td><td>77</td><td>14.9</td><td>17</td><td> 8837</td><td>87</td></tr>\n",
       "\t<tr><th scope=row>Wheaton College IL</th><td>Yes</td><td> 1432</td><td> 920</td><td> 548</td><td>56</td><td>84</td><td>2200</td><td>  56</td><td>11480</td><td>4200</td><td>530</td><td>1400</td><td>81</td><td>83</td><td>12.7</td><td>40</td><td>11916</td><td>85</td></tr>\n",
       "\t<tr><th scope=row>Westminster College PA</th><td>Yes</td><td> 1738</td><td>1373</td><td> 417</td><td>21</td><td>55</td><td>1335</td><td>  30</td><td>18460</td><td>5970</td><td>700</td><td> 850</td><td>92</td><td>96</td><td>13.2</td><td>41</td><td>22704</td><td>71</td></tr>\n",
       "\t<tr><th scope=row>Wheeling Jesuit College</th><td>Yes</td><td>  903</td><td> 755</td><td> 213</td><td>15</td><td>49</td><td> 971</td><td> 305</td><td>10500</td><td>4545</td><td>600</td><td> 600</td><td>66</td><td>71</td><td>14.1</td><td>27</td><td> 7494</td><td>72</td></tr>\n",
       "\t<tr><th scope=row>Whitman College</th><td>Yes</td><td> 1861</td><td> 998</td><td> 359</td><td>45</td><td>77</td><td>1220</td><td>  46</td><td>16670</td><td>4900</td><td>750</td><td> 800</td><td>80</td><td>83</td><td>10.5</td><td>51</td><td>13198</td><td>72</td></tr>\n",
       "\t<tr><th scope=row>Whittier College</th><td>Yes</td><td> 1681</td><td>1069</td><td> 344</td><td>35</td><td>63</td><td>1235</td><td>  30</td><td>16249</td><td>5699</td><td>500</td><td>1998</td><td>84</td><td>92</td><td>13.6</td><td>29</td><td>11778</td><td>52</td></tr>\n",
       "\t<tr><th scope=row>Whitworth College</th><td>Yes</td><td> 1121</td><td> 926</td><td> 372</td><td>43</td><td>70</td><td>1270</td><td> 160</td><td>12660</td><td>4500</td><td>678</td><td>2424</td><td>80</td><td>80</td><td>16.9</td><td>20</td><td> 8328</td><td>80</td></tr>\n",
       "\t<tr><th scope=row>Widener University</th><td>Yes</td><td> 2139</td><td>1492</td><td> 502</td><td>24</td><td>64</td><td>2186</td><td>2171</td><td>12350</td><td>5370</td><td>500</td><td>1350</td><td>88</td><td>86</td><td>12.6</td><td>19</td><td> 9603</td><td>63</td></tr>\n",
       "\t<tr><th scope=row>Wilkes University</th><td>Yes</td><td> 1631</td><td>1431</td><td> 434</td><td>15</td><td>36</td><td>1803</td><td> 603</td><td>11150</td><td>5130</td><td>550</td><td>1260</td><td>78</td><td>92</td><td>13.3</td><td>24</td><td> 8543</td><td>67</td></tr>\n",
       "\t<tr><th scope=row>Willamette University</th><td>Yes</td><td> 1658</td><td>1327</td><td> 395</td><td>49</td><td>80</td><td>1595</td><td> 159</td><td>14800</td><td>4620</td><td>400</td><td> 790</td><td>91</td><td>94</td><td>13.3</td><td>37</td><td>10779</td><td>68</td></tr>\n",
       "\t<tr><th scope=row>William Jewell College</th><td>Yes</td><td>  663</td><td> 547</td><td> 315</td><td>32</td><td>67</td><td>1279</td><td>  75</td><td>10060</td><td>2970</td><td>500</td><td>2600</td><td>74</td><td>80</td><td>11.2</td><td>19</td><td> 7885</td><td>59</td></tr>\n",
       "\t<tr><th scope=row>William Woods University</th><td>Yes</td><td>  469</td><td> 435</td><td> 227</td><td>17</td><td>39</td><td> 851</td><td> 120</td><td>10535</td><td>4365</td><td>550</td><td>3700</td><td>39</td><td>66</td><td>12.9</td><td>16</td><td> 7438</td><td>52</td></tr>\n",
       "\t<tr><th scope=row>Williams College</th><td>Yes</td><td> 4186</td><td>1245</td><td> 526</td><td>81</td><td>96</td><td>1988</td><td>  29</td><td>19629</td><td>5790</td><td>500</td><td>1200</td><td>94</td><td>99</td><td> 9.0</td><td>64</td><td>22014</td><td>99</td></tr>\n",
       "\t<tr><th scope=row>Wilson College</th><td>Yes</td><td>  167</td><td> 130</td><td>  46</td><td>16</td><td>50</td><td> 199</td><td> 676</td><td>11428</td><td>5084</td><td>450</td><td> 475</td><td>67</td><td>76</td><td> 8.3</td><td>43</td><td>10291</td><td>67</td></tr>\n",
       "\t<tr><th scope=row>Wingate College</th><td>Yes</td><td> 1239</td><td>1017</td><td> 383</td><td>10</td><td>34</td><td>1207</td><td> 157</td><td> 7820</td><td>3400</td><td>550</td><td>1550</td><td>69</td><td>81</td><td>13.9</td><td> 8</td><td> 7264</td><td>91</td></tr>\n",
       "\t<tr><th scope=row>Winona State University</th><td>No </td><td> 3325</td><td>2047</td><td>1301</td><td>20</td><td>45</td><td>5800</td><td> 872</td><td> 4200</td><td>2700</td><td>300</td><td>1200</td><td>53</td><td>60</td><td>20.2</td><td>18</td><td> 5318</td><td>58</td></tr>\n",
       "\t<tr><th scope=row>Winthrop University</th><td>No </td><td> 2320</td><td>1805</td><td> 769</td><td>24</td><td>61</td><td>3395</td><td> 670</td><td> 6400</td><td>3392</td><td>580</td><td>2150</td><td>71</td><td>80</td><td>12.8</td><td>26</td><td> 6729</td><td>59</td></tr>\n",
       "\t<tr><th scope=row>Wisconsin Lutheran College</th><td>Yes</td><td>  152</td><td> 128</td><td>  75</td><td>17</td><td>41</td><td> 282</td><td>  22</td><td> 9100</td><td>3700</td><td>500</td><td>1400</td><td>48</td><td>48</td><td> 8.5</td><td>26</td><td> 8960</td><td>50</td></tr>\n",
       "\t<tr><th scope=row>Wittenberg University</th><td>Yes</td><td> 1979</td><td>1739</td><td> 575</td><td>42</td><td>68</td><td>1980</td><td> 144</td><td>15948</td><td>4404</td><td>400</td><td> 800</td><td>82</td><td>95</td><td>12.8</td><td>29</td><td>10414</td><td>78</td></tr>\n",
       "\t<tr><th scope=row>Wofford College</th><td>Yes</td><td> 1501</td><td> 935</td><td> 273</td><td>51</td><td>83</td><td>1059</td><td>  34</td><td>12680</td><td>4150</td><td>605</td><td>1440</td><td>91</td><td>92</td><td>15.3</td><td>42</td><td> 7875</td><td>75</td></tr>\n",
       "\t<tr><th scope=row>Worcester Polytechnic Institute</th><td>Yes</td><td> 2768</td><td>2314</td><td> 682</td><td>49</td><td>86</td><td>2802</td><td>  86</td><td>15884</td><td>5370</td><td>530</td><td> 730</td><td>92</td><td>94</td><td>15.2</td><td>34</td><td>10774</td><td>82</td></tr>\n",
       "\t<tr><th scope=row>Worcester State College</th><td>No </td><td> 2197</td><td>1515</td><td> 543</td><td> 4</td><td>26</td><td>3089</td><td>2029</td><td> 6797</td><td>3900</td><td>500</td><td>1200</td><td>60</td><td>60</td><td>21.0</td><td>14</td><td> 4469</td><td>40</td></tr>\n",
       "\t<tr><th scope=row>Xavier University</th><td>Yes</td><td> 1959</td><td>1805</td><td> 695</td><td>24</td><td>47</td><td>2849</td><td>1107</td><td>11520</td><td>4960</td><td>600</td><td>1250</td><td>73</td><td>75</td><td>13.3</td><td>31</td><td> 9189</td><td>83</td></tr>\n",
       "\t<tr><th scope=row>Xavier University of Louisiana</th><td>Yes</td><td> 2097</td><td>1915</td><td> 695</td><td>34</td><td>61</td><td>2793</td><td> 166</td><td> 6900</td><td>4200</td><td>617</td><td> 781</td><td>67</td><td>75</td><td>14.4</td><td>20</td><td> 8323</td><td>49</td></tr>\n",
       "\t<tr><th scope=row>Yale University</th><td>Yes</td><td>10705</td><td>2453</td><td>1317</td><td>95</td><td>99</td><td>5217</td><td>  83</td><td>19840</td><td>6510</td><td>630</td><td>2115</td><td>96</td><td>96</td><td> 5.8</td><td>49</td><td>40386</td><td>99</td></tr>\n",
       "\t<tr><th scope=row>York College of Pennsylvania</th><td>Yes</td><td> 2989</td><td>1855</td><td> 691</td><td>28</td><td>63</td><td>2988</td><td>1726</td><td> 4990</td><td>3560</td><td>500</td><td>1250</td><td>75</td><td>75</td><td>18.1</td><td>28</td><td> 4509</td><td>99</td></tr>\n",
       "</tbody>\n",
       "</table>\n"
      ],
      "text/latex": [
       "A data.frame: 777 × 18\n",
       "\\begin{tabular}{r|llllllllllllllllll}\n",
       "  & Private & Apps & Accept & Enroll & Top10perc & Top25perc & F.Undergrad & P.Undergrad & Outstate & Room.Board & Books & Personal & PhD & Terminal & S.F.Ratio & perc.alumni & Expend & Grad.Rate\\\\\n",
       "  & <fct> & <dbl> & <dbl> & <dbl> & <dbl> & <dbl> & <dbl> & <dbl> & <dbl> & <dbl> & <dbl> & <dbl> & <dbl> & <dbl> & <dbl> & <dbl> & <dbl> & <dbl>\\\\\n",
       "\\hline\n",
       "\tAbilene Christian University & Yes &  1660 &  1232 &  721 & 23 & 52 &  2885 &  537 &  7440 & 3300 & 450 & 2200 & 70 &  78 & 18.1 & 12 &  7041 &  60\\\\\n",
       "\tAdelphi University & Yes &  2186 &  1924 &  512 & 16 & 29 &  2683 & 1227 & 12280 & 6450 & 750 & 1500 & 29 &  30 & 12.2 & 16 & 10527 &  56\\\\\n",
       "\tAdrian College & Yes &  1428 &  1097 &  336 & 22 & 50 &  1036 &   99 & 11250 & 3750 & 400 & 1165 & 53 &  66 & 12.9 & 30 &  8735 &  54\\\\\n",
       "\tAgnes Scott College & Yes &   417 &   349 &  137 & 60 & 89 &   510 &   63 & 12960 & 5450 & 450 &  875 & 92 &  97 &  7.7 & 37 & 19016 &  59\\\\\n",
       "\tAlaska Pacific University & Yes &   193 &   146 &   55 & 16 & 44 &   249 &  869 &  7560 & 4120 & 800 & 1500 & 76 &  72 & 11.9 &  2 & 10922 &  15\\\\\n",
       "\tAlbertson College & Yes &   587 &   479 &  158 & 38 & 62 &   678 &   41 & 13500 & 3335 & 500 &  675 & 67 &  73 &  9.4 & 11 &  9727 &  55\\\\\n",
       "\tAlbertus Magnus College & Yes &   353 &   340 &  103 & 17 & 45 &   416 &  230 & 13290 & 5720 & 500 & 1500 & 90 &  93 & 11.5 & 26 &  8861 &  63\\\\\n",
       "\tAlbion College & Yes &  1899 &  1720 &  489 & 37 & 68 &  1594 &   32 & 13868 & 4826 & 450 &  850 & 89 & 100 & 13.7 & 37 & 11487 &  73\\\\\n",
       "\tAlbright College & Yes &  1038 &   839 &  227 & 30 & 63 &   973 &  306 & 15595 & 4400 & 300 &  500 & 79 &  84 & 11.3 & 23 & 11644 &  80\\\\\n",
       "\tAlderson-Broaddus College & Yes &   582 &   498 &  172 & 21 & 44 &   799 &   78 & 10468 & 3380 & 660 & 1800 & 40 &  41 & 11.5 & 15 &  8991 &  52\\\\\n",
       "\tAlfred University & Yes &  1732 &  1425 &  472 & 37 & 75 &  1830 &  110 & 16548 & 5406 & 500 &  600 & 82 &  88 & 11.3 & 31 & 10932 &  73\\\\\n",
       "\tAllegheny College & Yes &  2652 &  1900 &  484 & 44 & 77 &  1707 &   44 & 17080 & 4440 & 400 &  600 & 73 &  91 &  9.9 & 41 & 11711 &  76\\\\\n",
       "\tAllentown Coll. of St. Francis de Sales & Yes &  1179 &   780 &  290 & 38 & 64 &  1130 &  638 &  9690 & 4785 & 600 & 1000 & 60 &  84 & 13.3 & 21 &  7940 &  74\\\\\n",
       "\tAlma College & Yes &  1267 &  1080 &  385 & 44 & 73 &  1306 &   28 & 12572 & 4552 & 400 &  400 & 79 &  87 & 15.3 & 32 &  9305 &  68\\\\\n",
       "\tAlverno College & Yes &   494 &   313 &  157 & 23 & 46 &  1317 & 1235 &  8352 & 3640 & 650 & 2449 & 36 &  69 & 11.1 & 26 &  8127 &  55\\\\\n",
       "\tAmerican International College & Yes &  1420 &  1093 &  220 &  9 & 22 &  1018 &  287 &  8700 & 4780 & 450 & 1400 & 78 &  84 & 14.7 & 19 &  7355 &  69\\\\\n",
       "\tAmherst College & Yes &  4302 &   992 &  418 & 83 & 96 &  1593 &    5 & 19760 & 5300 & 660 & 1598 & 93 &  98 &  8.4 & 63 & 21424 & 100\\\\\n",
       "\tAnderson University & Yes &  1216 &   908 &  423 & 19 & 40 &  1819 &  281 & 10100 & 3520 & 550 & 1100 & 48 &  61 & 12.1 & 14 &  7994 &  59\\\\\n",
       "\tAndrews University & Yes &  1130 &   704 &  322 & 14 & 23 &  1586 &  326 &  9996 & 3090 & 900 & 1320 & 62 &  66 & 11.5 & 18 & 10908 &  46\\\\\n",
       "\tAngelo State University & No  &  3540 &  2001 & 1016 & 24 & 54 &  4190 & 1512 &  5130 & 3592 & 500 & 2000 & 60 &  62 & 23.1 &  5 &  4010 &  34\\\\\n",
       "\tAntioch University & Yes &   713 &   661 &  252 & 25 & 44 &   712 &   23 & 15476 & 3336 & 400 & 1100 & 69 &  82 & 11.3 & 35 & 42926 &  48\\\\\n",
       "\tAppalachian State University & No  &  7313 &  4664 & 1910 & 20 & 63 &  9940 & 1035 &  6806 & 2540 &  96 & 2000 & 83 &  96 & 18.3 & 14 &  5854 &  70\\\\\n",
       "\tAquinas College & Yes &   619 &   516 &  219 & 20 & 51 &  1251 &  767 & 11208 & 4124 & 350 & 1615 & 55 &  65 & 12.7 & 25 &  6584 &  65\\\\\n",
       "\tArizona State University Main campus & No  & 12809 & 10308 & 3761 & 24 & 49 & 22593 & 7585 &  7434 & 4850 & 700 & 2100 & 88 &  93 & 18.9 &  5 &  4602 &  48\\\\\n",
       "\tArkansas College (Lyon College) & Yes &   708 &   334 &  166 & 46 & 74 &   530 &  182 &  8644 & 3922 & 500 &  800 & 79 &  88 & 12.6 & 24 & 14579 &  54\\\\\n",
       "\tArkansas Tech University & No  &  1734 &  1729 &  951 & 12 & 52 &  3602 &  939 &  3460 & 2650 & 450 & 1000 & 57 &  60 & 19.6 &  5 &  4739 &  48\\\\\n",
       "\tAssumption College & Yes &  2135 &  1700 &  491 & 23 & 59 &  1708 &  689 & 12000 & 5920 & 500 &  500 & 93 &  93 & 13.8 & 30 &  7100 &  88\\\\\n",
       "\tAuburn University-Main Campus & No  &  7548 &  6791 & 3070 & 25 & 57 & 16262 & 1716 &  6300 & 3933 & 600 & 1908 & 85 &  91 & 16.7 & 18 &  6642 &  69\\\\\n",
       "\tAugsburg College & Yes &   662 &   513 &  257 & 12 & 30 &  2074 &  726 & 11902 & 4372 & 540 &  950 & 65 &  65 & 12.8 & 31 &  7836 &  58\\\\\n",
       "\tAugustana College IL & Yes &  1879 &  1658 &  497 & 36 & 69 &  1950 &   38 & 13353 & 4173 & 540 &  821 & 78 &  83 & 12.7 & 40 &  9220 &  71\\\\\n",
       "\t⋮ & ⋮ & ⋮ & ⋮ & ⋮ & ⋮ & ⋮ & ⋮ & ⋮ & ⋮ & ⋮ & ⋮ & ⋮ & ⋮ & ⋮ & ⋮ & ⋮ & ⋮ & ⋮\\\\\n",
       "\tWestfield State College & No  &  3100 & 2150 &  825 &  3 & 20 & 3234 &  941 &  5542 & 3788 & 500 & 1300 & 75 & 79 & 15.7 & 20 &  4222 & 65\\\\\n",
       "\tWestminster College MO & Yes &   662 &  553 &  184 & 20 & 43 &  665 &   37 & 10720 & 4050 & 600 & 1650 & 66 & 70 & 12.5 & 20 &  7925 & 62\\\\\n",
       "\tWestminster College & Yes &   996 &  866 &  377 & 29 & 58 & 1411 &   72 & 12065 & 3615 & 430 &  685 & 62 & 78 & 12.5 & 41 &  8596 & 80\\\\\n",
       "\tWestminster College of Salt Lake City & Yes &   917 &  720 &  213 & 21 & 60 &  979 &  743 &  8820 & 4050 & 600 & 2025 & 68 & 83 & 10.5 & 34 &  7170 & 50\\\\\n",
       "\tWestmont College & No  &   950 &  713 &  351 & 42 & 72 & 1276 &    9 & 14320 & 5304 & 490 & 1410 & 77 & 77 & 14.9 & 17 &  8837 & 87\\\\\n",
       "\tWheaton College IL & Yes &  1432 &  920 &  548 & 56 & 84 & 2200 &   56 & 11480 & 4200 & 530 & 1400 & 81 & 83 & 12.7 & 40 & 11916 & 85\\\\\n",
       "\tWestminster College PA & Yes &  1738 & 1373 &  417 & 21 & 55 & 1335 &   30 & 18460 & 5970 & 700 &  850 & 92 & 96 & 13.2 & 41 & 22704 & 71\\\\\n",
       "\tWheeling Jesuit College & Yes &   903 &  755 &  213 & 15 & 49 &  971 &  305 & 10500 & 4545 & 600 &  600 & 66 & 71 & 14.1 & 27 &  7494 & 72\\\\\n",
       "\tWhitman College & Yes &  1861 &  998 &  359 & 45 & 77 & 1220 &   46 & 16670 & 4900 & 750 &  800 & 80 & 83 & 10.5 & 51 & 13198 & 72\\\\\n",
       "\tWhittier College & Yes &  1681 & 1069 &  344 & 35 & 63 & 1235 &   30 & 16249 & 5699 & 500 & 1998 & 84 & 92 & 13.6 & 29 & 11778 & 52\\\\\n",
       "\tWhitworth College & Yes &  1121 &  926 &  372 & 43 & 70 & 1270 &  160 & 12660 & 4500 & 678 & 2424 & 80 & 80 & 16.9 & 20 &  8328 & 80\\\\\n",
       "\tWidener University & Yes &  2139 & 1492 &  502 & 24 & 64 & 2186 & 2171 & 12350 & 5370 & 500 & 1350 & 88 & 86 & 12.6 & 19 &  9603 & 63\\\\\n",
       "\tWilkes University & Yes &  1631 & 1431 &  434 & 15 & 36 & 1803 &  603 & 11150 & 5130 & 550 & 1260 & 78 & 92 & 13.3 & 24 &  8543 & 67\\\\\n",
       "\tWillamette University & Yes &  1658 & 1327 &  395 & 49 & 80 & 1595 &  159 & 14800 & 4620 & 400 &  790 & 91 & 94 & 13.3 & 37 & 10779 & 68\\\\\n",
       "\tWilliam Jewell College & Yes &   663 &  547 &  315 & 32 & 67 & 1279 &   75 & 10060 & 2970 & 500 & 2600 & 74 & 80 & 11.2 & 19 &  7885 & 59\\\\\n",
       "\tWilliam Woods University & Yes &   469 &  435 &  227 & 17 & 39 &  851 &  120 & 10535 & 4365 & 550 & 3700 & 39 & 66 & 12.9 & 16 &  7438 & 52\\\\\n",
       "\tWilliams College & Yes &  4186 & 1245 &  526 & 81 & 96 & 1988 &   29 & 19629 & 5790 & 500 & 1200 & 94 & 99 &  9.0 & 64 & 22014 & 99\\\\\n",
       "\tWilson College & Yes &   167 &  130 &   46 & 16 & 50 &  199 &  676 & 11428 & 5084 & 450 &  475 & 67 & 76 &  8.3 & 43 & 10291 & 67\\\\\n",
       "\tWingate College & Yes &  1239 & 1017 &  383 & 10 & 34 & 1207 &  157 &  7820 & 3400 & 550 & 1550 & 69 & 81 & 13.9 &  8 &  7264 & 91\\\\\n",
       "\tWinona State University & No  &  3325 & 2047 & 1301 & 20 & 45 & 5800 &  872 &  4200 & 2700 & 300 & 1200 & 53 & 60 & 20.2 & 18 &  5318 & 58\\\\\n",
       "\tWinthrop University & No  &  2320 & 1805 &  769 & 24 & 61 & 3395 &  670 &  6400 & 3392 & 580 & 2150 & 71 & 80 & 12.8 & 26 &  6729 & 59\\\\\n",
       "\tWisconsin Lutheran College & Yes &   152 &  128 &   75 & 17 & 41 &  282 &   22 &  9100 & 3700 & 500 & 1400 & 48 & 48 &  8.5 & 26 &  8960 & 50\\\\\n",
       "\tWittenberg University & Yes &  1979 & 1739 &  575 & 42 & 68 & 1980 &  144 & 15948 & 4404 & 400 &  800 & 82 & 95 & 12.8 & 29 & 10414 & 78\\\\\n",
       "\tWofford College & Yes &  1501 &  935 &  273 & 51 & 83 & 1059 &   34 & 12680 & 4150 & 605 & 1440 & 91 & 92 & 15.3 & 42 &  7875 & 75\\\\\n",
       "\tWorcester Polytechnic Institute & Yes &  2768 & 2314 &  682 & 49 & 86 & 2802 &   86 & 15884 & 5370 & 530 &  730 & 92 & 94 & 15.2 & 34 & 10774 & 82\\\\\n",
       "\tWorcester State College & No  &  2197 & 1515 &  543 &  4 & 26 & 3089 & 2029 &  6797 & 3900 & 500 & 1200 & 60 & 60 & 21.0 & 14 &  4469 & 40\\\\\n",
       "\tXavier University & Yes &  1959 & 1805 &  695 & 24 & 47 & 2849 & 1107 & 11520 & 4960 & 600 & 1250 & 73 & 75 & 13.3 & 31 &  9189 & 83\\\\\n",
       "\tXavier University of Louisiana & Yes &  2097 & 1915 &  695 & 34 & 61 & 2793 &  166 &  6900 & 4200 & 617 &  781 & 67 & 75 & 14.4 & 20 &  8323 & 49\\\\\n",
       "\tYale University & Yes & 10705 & 2453 & 1317 & 95 & 99 & 5217 &   83 & 19840 & 6510 & 630 & 2115 & 96 & 96 &  5.8 & 49 & 40386 & 99\\\\\n",
       "\tYork College of Pennsylvania & Yes &  2989 & 1855 &  691 & 28 & 63 & 2988 & 1726 &  4990 & 3560 & 500 & 1250 & 75 & 75 & 18.1 & 28 &  4509 & 99\\\\\n",
       "\\end{tabular}\n"
      ],
      "text/markdown": [
       "\n",
       "A data.frame: 777 × 18\n",
       "\n",
       "| <!--/--> | Private &lt;fct&gt; | Apps &lt;dbl&gt; | Accept &lt;dbl&gt; | Enroll &lt;dbl&gt; | Top10perc &lt;dbl&gt; | Top25perc &lt;dbl&gt; | F.Undergrad &lt;dbl&gt; | P.Undergrad &lt;dbl&gt; | Outstate &lt;dbl&gt; | Room.Board &lt;dbl&gt; | Books &lt;dbl&gt; | Personal &lt;dbl&gt; | PhD &lt;dbl&gt; | Terminal &lt;dbl&gt; | S.F.Ratio &lt;dbl&gt; | perc.alumni &lt;dbl&gt; | Expend &lt;dbl&gt; | Grad.Rate &lt;dbl&gt; |\n",
       "|---|---|---|---|---|---|---|---|---|---|---|---|---|---|---|---|---|---|---|\n",
       "| Abilene Christian University | Yes |  1660 |  1232 |  721 | 23 | 52 |  2885 |  537 |  7440 | 3300 | 450 | 2200 | 70 |  78 | 18.1 | 12 |  7041 |  60 |\n",
       "| Adelphi University | Yes |  2186 |  1924 |  512 | 16 | 29 |  2683 | 1227 | 12280 | 6450 | 750 | 1500 | 29 |  30 | 12.2 | 16 | 10527 |  56 |\n",
       "| Adrian College | Yes |  1428 |  1097 |  336 | 22 | 50 |  1036 |   99 | 11250 | 3750 | 400 | 1165 | 53 |  66 | 12.9 | 30 |  8735 |  54 |\n",
       "| Agnes Scott College | Yes |   417 |   349 |  137 | 60 | 89 |   510 |   63 | 12960 | 5450 | 450 |  875 | 92 |  97 |  7.7 | 37 | 19016 |  59 |\n",
       "| Alaska Pacific University | Yes |   193 |   146 |   55 | 16 | 44 |   249 |  869 |  7560 | 4120 | 800 | 1500 | 76 |  72 | 11.9 |  2 | 10922 |  15 |\n",
       "| Albertson College | Yes |   587 |   479 |  158 | 38 | 62 |   678 |   41 | 13500 | 3335 | 500 |  675 | 67 |  73 |  9.4 | 11 |  9727 |  55 |\n",
       "| Albertus Magnus College | Yes |   353 |   340 |  103 | 17 | 45 |   416 |  230 | 13290 | 5720 | 500 | 1500 | 90 |  93 | 11.5 | 26 |  8861 |  63 |\n",
       "| Albion College | Yes |  1899 |  1720 |  489 | 37 | 68 |  1594 |   32 | 13868 | 4826 | 450 |  850 | 89 | 100 | 13.7 | 37 | 11487 |  73 |\n",
       "| Albright College | Yes |  1038 |   839 |  227 | 30 | 63 |   973 |  306 | 15595 | 4400 | 300 |  500 | 79 |  84 | 11.3 | 23 | 11644 |  80 |\n",
       "| Alderson-Broaddus College | Yes |   582 |   498 |  172 | 21 | 44 |   799 |   78 | 10468 | 3380 | 660 | 1800 | 40 |  41 | 11.5 | 15 |  8991 |  52 |\n",
       "| Alfred University | Yes |  1732 |  1425 |  472 | 37 | 75 |  1830 |  110 | 16548 | 5406 | 500 |  600 | 82 |  88 | 11.3 | 31 | 10932 |  73 |\n",
       "| Allegheny College | Yes |  2652 |  1900 |  484 | 44 | 77 |  1707 |   44 | 17080 | 4440 | 400 |  600 | 73 |  91 |  9.9 | 41 | 11711 |  76 |\n",
       "| Allentown Coll. of St. Francis de Sales | Yes |  1179 |   780 |  290 | 38 | 64 |  1130 |  638 |  9690 | 4785 | 600 | 1000 | 60 |  84 | 13.3 | 21 |  7940 |  74 |\n",
       "| Alma College | Yes |  1267 |  1080 |  385 | 44 | 73 |  1306 |   28 | 12572 | 4552 | 400 |  400 | 79 |  87 | 15.3 | 32 |  9305 |  68 |\n",
       "| Alverno College | Yes |   494 |   313 |  157 | 23 | 46 |  1317 | 1235 |  8352 | 3640 | 650 | 2449 | 36 |  69 | 11.1 | 26 |  8127 |  55 |\n",
       "| American International College | Yes |  1420 |  1093 |  220 |  9 | 22 |  1018 |  287 |  8700 | 4780 | 450 | 1400 | 78 |  84 | 14.7 | 19 |  7355 |  69 |\n",
       "| Amherst College | Yes |  4302 |   992 |  418 | 83 | 96 |  1593 |    5 | 19760 | 5300 | 660 | 1598 | 93 |  98 |  8.4 | 63 | 21424 | 100 |\n",
       "| Anderson University | Yes |  1216 |   908 |  423 | 19 | 40 |  1819 |  281 | 10100 | 3520 | 550 | 1100 | 48 |  61 | 12.1 | 14 |  7994 |  59 |\n",
       "| Andrews University | Yes |  1130 |   704 |  322 | 14 | 23 |  1586 |  326 |  9996 | 3090 | 900 | 1320 | 62 |  66 | 11.5 | 18 | 10908 |  46 |\n",
       "| Angelo State University | No  |  3540 |  2001 | 1016 | 24 | 54 |  4190 | 1512 |  5130 | 3592 | 500 | 2000 | 60 |  62 | 23.1 |  5 |  4010 |  34 |\n",
       "| Antioch University | Yes |   713 |   661 |  252 | 25 | 44 |   712 |   23 | 15476 | 3336 | 400 | 1100 | 69 |  82 | 11.3 | 35 | 42926 |  48 |\n",
       "| Appalachian State University | No  |  7313 |  4664 | 1910 | 20 | 63 |  9940 | 1035 |  6806 | 2540 |  96 | 2000 | 83 |  96 | 18.3 | 14 |  5854 |  70 |\n",
       "| Aquinas College | Yes |   619 |   516 |  219 | 20 | 51 |  1251 |  767 | 11208 | 4124 | 350 | 1615 | 55 |  65 | 12.7 | 25 |  6584 |  65 |\n",
       "| Arizona State University Main campus | No  | 12809 | 10308 | 3761 | 24 | 49 | 22593 | 7585 |  7434 | 4850 | 700 | 2100 | 88 |  93 | 18.9 |  5 |  4602 |  48 |\n",
       "| Arkansas College (Lyon College) | Yes |   708 |   334 |  166 | 46 | 74 |   530 |  182 |  8644 | 3922 | 500 |  800 | 79 |  88 | 12.6 | 24 | 14579 |  54 |\n",
       "| Arkansas Tech University | No  |  1734 |  1729 |  951 | 12 | 52 |  3602 |  939 |  3460 | 2650 | 450 | 1000 | 57 |  60 | 19.6 |  5 |  4739 |  48 |\n",
       "| Assumption College | Yes |  2135 |  1700 |  491 | 23 | 59 |  1708 |  689 | 12000 | 5920 | 500 |  500 | 93 |  93 | 13.8 | 30 |  7100 |  88 |\n",
       "| Auburn University-Main Campus | No  |  7548 |  6791 | 3070 | 25 | 57 | 16262 | 1716 |  6300 | 3933 | 600 | 1908 | 85 |  91 | 16.7 | 18 |  6642 |  69 |\n",
       "| Augsburg College | Yes |   662 |   513 |  257 | 12 | 30 |  2074 |  726 | 11902 | 4372 | 540 |  950 | 65 |  65 | 12.8 | 31 |  7836 |  58 |\n",
       "| Augustana College IL | Yes |  1879 |  1658 |  497 | 36 | 69 |  1950 |   38 | 13353 | 4173 | 540 |  821 | 78 |  83 | 12.7 | 40 |  9220 |  71 |\n",
       "| ⋮ | ⋮ | ⋮ | ⋮ | ⋮ | ⋮ | ⋮ | ⋮ | ⋮ | ⋮ | ⋮ | ⋮ | ⋮ | ⋮ | ⋮ | ⋮ | ⋮ | ⋮ | ⋮ |\n",
       "| Westfield State College | No  |  3100 | 2150 |  825 |  3 | 20 | 3234 |  941 |  5542 | 3788 | 500 | 1300 | 75 | 79 | 15.7 | 20 |  4222 | 65 |\n",
       "| Westminster College MO | Yes |   662 |  553 |  184 | 20 | 43 |  665 |   37 | 10720 | 4050 | 600 | 1650 | 66 | 70 | 12.5 | 20 |  7925 | 62 |\n",
       "| Westminster College | Yes |   996 |  866 |  377 | 29 | 58 | 1411 |   72 | 12065 | 3615 | 430 |  685 | 62 | 78 | 12.5 | 41 |  8596 | 80 |\n",
       "| Westminster College of Salt Lake City | Yes |   917 |  720 |  213 | 21 | 60 |  979 |  743 |  8820 | 4050 | 600 | 2025 | 68 | 83 | 10.5 | 34 |  7170 | 50 |\n",
       "| Westmont College | No  |   950 |  713 |  351 | 42 | 72 | 1276 |    9 | 14320 | 5304 | 490 | 1410 | 77 | 77 | 14.9 | 17 |  8837 | 87 |\n",
       "| Wheaton College IL | Yes |  1432 |  920 |  548 | 56 | 84 | 2200 |   56 | 11480 | 4200 | 530 | 1400 | 81 | 83 | 12.7 | 40 | 11916 | 85 |\n",
       "| Westminster College PA | Yes |  1738 | 1373 |  417 | 21 | 55 | 1335 |   30 | 18460 | 5970 | 700 |  850 | 92 | 96 | 13.2 | 41 | 22704 | 71 |\n",
       "| Wheeling Jesuit College | Yes |   903 |  755 |  213 | 15 | 49 |  971 |  305 | 10500 | 4545 | 600 |  600 | 66 | 71 | 14.1 | 27 |  7494 | 72 |\n",
       "| Whitman College | Yes |  1861 |  998 |  359 | 45 | 77 | 1220 |   46 | 16670 | 4900 | 750 |  800 | 80 | 83 | 10.5 | 51 | 13198 | 72 |\n",
       "| Whittier College | Yes |  1681 | 1069 |  344 | 35 | 63 | 1235 |   30 | 16249 | 5699 | 500 | 1998 | 84 | 92 | 13.6 | 29 | 11778 | 52 |\n",
       "| Whitworth College | Yes |  1121 |  926 |  372 | 43 | 70 | 1270 |  160 | 12660 | 4500 | 678 | 2424 | 80 | 80 | 16.9 | 20 |  8328 | 80 |\n",
       "| Widener University | Yes |  2139 | 1492 |  502 | 24 | 64 | 2186 | 2171 | 12350 | 5370 | 500 | 1350 | 88 | 86 | 12.6 | 19 |  9603 | 63 |\n",
       "| Wilkes University | Yes |  1631 | 1431 |  434 | 15 | 36 | 1803 |  603 | 11150 | 5130 | 550 | 1260 | 78 | 92 | 13.3 | 24 |  8543 | 67 |\n",
       "| Willamette University | Yes |  1658 | 1327 |  395 | 49 | 80 | 1595 |  159 | 14800 | 4620 | 400 |  790 | 91 | 94 | 13.3 | 37 | 10779 | 68 |\n",
       "| William Jewell College | Yes |   663 |  547 |  315 | 32 | 67 | 1279 |   75 | 10060 | 2970 | 500 | 2600 | 74 | 80 | 11.2 | 19 |  7885 | 59 |\n",
       "| William Woods University | Yes |   469 |  435 |  227 | 17 | 39 |  851 |  120 | 10535 | 4365 | 550 | 3700 | 39 | 66 | 12.9 | 16 |  7438 | 52 |\n",
       "| Williams College | Yes |  4186 | 1245 |  526 | 81 | 96 | 1988 |   29 | 19629 | 5790 | 500 | 1200 | 94 | 99 |  9.0 | 64 | 22014 | 99 |\n",
       "| Wilson College | Yes |   167 |  130 |   46 | 16 | 50 |  199 |  676 | 11428 | 5084 | 450 |  475 | 67 | 76 |  8.3 | 43 | 10291 | 67 |\n",
       "| Wingate College | Yes |  1239 | 1017 |  383 | 10 | 34 | 1207 |  157 |  7820 | 3400 | 550 | 1550 | 69 | 81 | 13.9 |  8 |  7264 | 91 |\n",
       "| Winona State University | No  |  3325 | 2047 | 1301 | 20 | 45 | 5800 |  872 |  4200 | 2700 | 300 | 1200 | 53 | 60 | 20.2 | 18 |  5318 | 58 |\n",
       "| Winthrop University | No  |  2320 | 1805 |  769 | 24 | 61 | 3395 |  670 |  6400 | 3392 | 580 | 2150 | 71 | 80 | 12.8 | 26 |  6729 | 59 |\n",
       "| Wisconsin Lutheran College | Yes |   152 |  128 |   75 | 17 | 41 |  282 |   22 |  9100 | 3700 | 500 | 1400 | 48 | 48 |  8.5 | 26 |  8960 | 50 |\n",
       "| Wittenberg University | Yes |  1979 | 1739 |  575 | 42 | 68 | 1980 |  144 | 15948 | 4404 | 400 |  800 | 82 | 95 | 12.8 | 29 | 10414 | 78 |\n",
       "| Wofford College | Yes |  1501 |  935 |  273 | 51 | 83 | 1059 |   34 | 12680 | 4150 | 605 | 1440 | 91 | 92 | 15.3 | 42 |  7875 | 75 |\n",
       "| Worcester Polytechnic Institute | Yes |  2768 | 2314 |  682 | 49 | 86 | 2802 |   86 | 15884 | 5370 | 530 |  730 | 92 | 94 | 15.2 | 34 | 10774 | 82 |\n",
       "| Worcester State College | No  |  2197 | 1515 |  543 |  4 | 26 | 3089 | 2029 |  6797 | 3900 | 500 | 1200 | 60 | 60 | 21.0 | 14 |  4469 | 40 |\n",
       "| Xavier University | Yes |  1959 | 1805 |  695 | 24 | 47 | 2849 | 1107 | 11520 | 4960 | 600 | 1250 | 73 | 75 | 13.3 | 31 |  9189 | 83 |\n",
       "| Xavier University of Louisiana | Yes |  2097 | 1915 |  695 | 34 | 61 | 2793 |  166 |  6900 | 4200 | 617 |  781 | 67 | 75 | 14.4 | 20 |  8323 | 49 |\n",
       "| Yale University | Yes | 10705 | 2453 | 1317 | 95 | 99 | 5217 |   83 | 19840 | 6510 | 630 | 2115 | 96 | 96 |  5.8 | 49 | 40386 | 99 |\n",
       "| York College of Pennsylvania | Yes |  2989 | 1855 |  691 | 28 | 63 | 2988 | 1726 |  4990 | 3560 | 500 | 1250 | 75 | 75 | 18.1 | 28 |  4509 | 99 |\n",
       "\n"
      ],
      "text/plain": [
       "                                        Private Apps  Accept Enroll Top10perc\n",
       "Abilene Christian University            Yes      1660  1232   721   23       \n",
       "Adelphi University                      Yes      2186  1924   512   16       \n",
       "Adrian College                          Yes      1428  1097   336   22       \n",
       "Agnes Scott College                     Yes       417   349   137   60       \n",
       "Alaska Pacific University               Yes       193   146    55   16       \n",
       "Albertson College                       Yes       587   479   158   38       \n",
       "Albertus Magnus College                 Yes       353   340   103   17       \n",
       "Albion College                          Yes      1899  1720   489   37       \n",
       "Albright College                        Yes      1038   839   227   30       \n",
       "Alderson-Broaddus College               Yes       582   498   172   21       \n",
       "Alfred University                       Yes      1732  1425   472   37       \n",
       "Allegheny College                       Yes      2652  1900   484   44       \n",
       "Allentown Coll. of St. Francis de Sales Yes      1179   780   290   38       \n",
       "Alma College                            Yes      1267  1080   385   44       \n",
       "Alverno College                         Yes       494   313   157   23       \n",
       "American International College          Yes      1420  1093   220    9       \n",
       "Amherst College                         Yes      4302   992   418   83       \n",
       "Anderson University                     Yes      1216   908   423   19       \n",
       "Andrews University                      Yes      1130   704   322   14       \n",
       "Angelo State University                 No       3540  2001  1016   24       \n",
       "Antioch University                      Yes       713   661   252   25       \n",
       "Appalachian State University            No       7313  4664  1910   20       \n",
       "Aquinas College                         Yes       619   516   219   20       \n",
       "Arizona State University Main campus    No      12809 10308  3761   24       \n",
       "Arkansas College (Lyon College)         Yes       708   334   166   46       \n",
       "Arkansas Tech University                No       1734  1729   951   12       \n",
       "Assumption College                      Yes      2135  1700   491   23       \n",
       "Auburn University-Main Campus           No       7548  6791  3070   25       \n",
       "Augsburg College                        Yes       662   513   257   12       \n",
       "Augustana College IL                    Yes      1879  1658   497   36       \n",
       "⋮                                       ⋮       ⋮     ⋮      ⋮      ⋮        \n",
       "Westfield State College                 No       3100 2150    825    3       \n",
       "Westminster College MO                  Yes       662  553    184   20       \n",
       "Westminster College                     Yes       996  866    377   29       \n",
       "Westminster College of Salt Lake City   Yes       917  720    213   21       \n",
       "Westmont College                        No        950  713    351   42       \n",
       "Wheaton College IL                      Yes      1432  920    548   56       \n",
       "Westminster College PA                  Yes      1738 1373    417   21       \n",
       "Wheeling Jesuit College                 Yes       903  755    213   15       \n",
       "Whitman College                         Yes      1861  998    359   45       \n",
       "Whittier College                        Yes      1681 1069    344   35       \n",
       "Whitworth College                       Yes      1121  926    372   43       \n",
       "Widener University                      Yes      2139 1492    502   24       \n",
       "Wilkes University                       Yes      1631 1431    434   15       \n",
       "Willamette University                   Yes      1658 1327    395   49       \n",
       "William Jewell College                  Yes       663  547    315   32       \n",
       "William Woods University                Yes       469  435    227   17       \n",
       "Williams College                        Yes      4186 1245    526   81       \n",
       "Wilson College                          Yes       167  130     46   16       \n",
       "Wingate College                         Yes      1239 1017    383   10       \n",
       "Winona State University                 No       3325 2047   1301   20       \n",
       "Winthrop University                     No       2320 1805    769   24       \n",
       "Wisconsin Lutheran College              Yes       152  128     75   17       \n",
       "Wittenberg University                   Yes      1979 1739    575   42       \n",
       "Wofford College                         Yes      1501  935    273   51       \n",
       "Worcester Polytechnic Institute         Yes      2768 2314    682   49       \n",
       "Worcester State College                 No       2197 1515    543    4       \n",
       "Xavier University                       Yes      1959 1805    695   24       \n",
       "Xavier University of Louisiana          Yes      2097 1915    695   34       \n",
       "Yale University                         Yes     10705 2453   1317   95       \n",
       "York College of Pennsylvania            Yes      2989 1855    691   28       \n",
       "                                        Top25perc F.Undergrad P.Undergrad\n",
       "Abilene Christian University            52         2885        537       \n",
       "Adelphi University                      29         2683       1227       \n",
       "Adrian College                          50         1036         99       \n",
       "Agnes Scott College                     89          510         63       \n",
       "Alaska Pacific University               44          249        869       \n",
       "Albertson College                       62          678         41       \n",
       "Albertus Magnus College                 45          416        230       \n",
       "Albion College                          68         1594         32       \n",
       "Albright College                        63          973        306       \n",
       "Alderson-Broaddus College               44          799         78       \n",
       "Alfred University                       75         1830        110       \n",
       "Allegheny College                       77         1707         44       \n",
       "Allentown Coll. of St. Francis de Sales 64         1130        638       \n",
       "Alma College                            73         1306         28       \n",
       "Alverno College                         46         1317       1235       \n",
       "American International College          22         1018        287       \n",
       "Amherst College                         96         1593          5       \n",
       "Anderson University                     40         1819        281       \n",
       "Andrews University                      23         1586        326       \n",
       "Angelo State University                 54         4190       1512       \n",
       "Antioch University                      44          712         23       \n",
       "Appalachian State University            63         9940       1035       \n",
       "Aquinas College                         51         1251        767       \n",
       "Arizona State University Main campus    49        22593       7585       \n",
       "Arkansas College (Lyon College)         74          530        182       \n",
       "Arkansas Tech University                52         3602        939       \n",
       "Assumption College                      59         1708        689       \n",
       "Auburn University-Main Campus           57        16262       1716       \n",
       "Augsburg College                        30         2074        726       \n",
       "Augustana College IL                    69         1950         38       \n",
       "⋮                                       ⋮         ⋮           ⋮          \n",
       "Westfield State College                 20        3234         941       \n",
       "Westminster College MO                  43         665          37       \n",
       "Westminster College                     58        1411          72       \n",
       "Westminster College of Salt Lake City   60         979         743       \n",
       "Westmont College                        72        1276           9       \n",
       "Wheaton College IL                      84        2200          56       \n",
       "Westminster College PA                  55        1335          30       \n",
       "Wheeling Jesuit College                 49         971         305       \n",
       "Whitman College                         77        1220          46       \n",
       "Whittier College                        63        1235          30       \n",
       "Whitworth College                       70        1270         160       \n",
       "Widener University                      64        2186        2171       \n",
       "Wilkes University                       36        1803         603       \n",
       "Willamette University                   80        1595         159       \n",
       "William Jewell College                  67        1279          75       \n",
       "William Woods University                39         851         120       \n",
       "Williams College                        96        1988          29       \n",
       "Wilson College                          50         199         676       \n",
       "Wingate College                         34        1207         157       \n",
       "Winona State University                 45        5800         872       \n",
       "Winthrop University                     61        3395         670       \n",
       "Wisconsin Lutheran College              41         282          22       \n",
       "Wittenberg University                   68        1980         144       \n",
       "Wofford College                         83        1059          34       \n",
       "Worcester Polytechnic Institute         86        2802          86       \n",
       "Worcester State College                 26        3089        2029       \n",
       "Xavier University                       47        2849        1107       \n",
       "Xavier University of Louisiana          61        2793         166       \n",
       "Yale University                         99        5217          83       \n",
       "York College of Pennsylvania            63        2988        1726       \n",
       "                                        Outstate Room.Board Books Personal PhD\n",
       "Abilene Christian University             7440    3300       450   2200     70 \n",
       "Adelphi University                      12280    6450       750   1500     29 \n",
       "Adrian College                          11250    3750       400   1165     53 \n",
       "Agnes Scott College                     12960    5450       450    875     92 \n",
       "Alaska Pacific University                7560    4120       800   1500     76 \n",
       "Albertson College                       13500    3335       500    675     67 \n",
       "Albertus Magnus College                 13290    5720       500   1500     90 \n",
       "Albion College                          13868    4826       450    850     89 \n",
       "Albright College                        15595    4400       300    500     79 \n",
       "Alderson-Broaddus College               10468    3380       660   1800     40 \n",
       "Alfred University                       16548    5406       500    600     82 \n",
       "Allegheny College                       17080    4440       400    600     73 \n",
       "Allentown Coll. of St. Francis de Sales  9690    4785       600   1000     60 \n",
       "Alma College                            12572    4552       400    400     79 \n",
       "Alverno College                          8352    3640       650   2449     36 \n",
       "American International College           8700    4780       450   1400     78 \n",
       "Amherst College                         19760    5300       660   1598     93 \n",
       "Anderson University                     10100    3520       550   1100     48 \n",
       "Andrews University                       9996    3090       900   1320     62 \n",
       "Angelo State University                  5130    3592       500   2000     60 \n",
       "Antioch University                      15476    3336       400   1100     69 \n",
       "Appalachian State University             6806    2540        96   2000     83 \n",
       "Aquinas College                         11208    4124       350   1615     55 \n",
       "Arizona State University Main campus     7434    4850       700   2100     88 \n",
       "Arkansas College (Lyon College)          8644    3922       500    800     79 \n",
       "Arkansas Tech University                 3460    2650       450   1000     57 \n",
       "Assumption College                      12000    5920       500    500     93 \n",
       "Auburn University-Main Campus            6300    3933       600   1908     85 \n",
       "Augsburg College                        11902    4372       540    950     65 \n",
       "Augustana College IL                    13353    4173       540    821     78 \n",
       "⋮                                       ⋮        ⋮          ⋮     ⋮        ⋮  \n",
       "Westfield State College                  5542    3788       500   1300     75 \n",
       "Westminster College MO                  10720    4050       600   1650     66 \n",
       "Westminster College                     12065    3615       430    685     62 \n",
       "Westminster College of Salt Lake City    8820    4050       600   2025     68 \n",
       "Westmont College                        14320    5304       490   1410     77 \n",
       "Wheaton College IL                      11480    4200       530   1400     81 \n",
       "Westminster College PA                  18460    5970       700    850     92 \n",
       "Wheeling Jesuit College                 10500    4545       600    600     66 \n",
       "Whitman College                         16670    4900       750    800     80 \n",
       "Whittier College                        16249    5699       500   1998     84 \n",
       "Whitworth College                       12660    4500       678   2424     80 \n",
       "Widener University                      12350    5370       500   1350     88 \n",
       "Wilkes University                       11150    5130       550   1260     78 \n",
       "Willamette University                   14800    4620       400    790     91 \n",
       "William Jewell College                  10060    2970       500   2600     74 \n",
       "William Woods University                10535    4365       550   3700     39 \n",
       "Williams College                        19629    5790       500   1200     94 \n",
       "Wilson College                          11428    5084       450    475     67 \n",
       "Wingate College                          7820    3400       550   1550     69 \n",
       "Winona State University                  4200    2700       300   1200     53 \n",
       "Winthrop University                      6400    3392       580   2150     71 \n",
       "Wisconsin Lutheran College               9100    3700       500   1400     48 \n",
       "Wittenberg University                   15948    4404       400    800     82 \n",
       "Wofford College                         12680    4150       605   1440     91 \n",
       "Worcester Polytechnic Institute         15884    5370       530    730     92 \n",
       "Worcester State College                  6797    3900       500   1200     60 \n",
       "Xavier University                       11520    4960       600   1250     73 \n",
       "Xavier University of Louisiana           6900    4200       617    781     67 \n",
       "Yale University                         19840    6510       630   2115     96 \n",
       "York College of Pennsylvania             4990    3560       500   1250     75 \n",
       "                                        Terminal S.F.Ratio perc.alumni Expend\n",
       "Abilene Christian University             78      18.1      12           7041 \n",
       "Adelphi University                       30      12.2      16          10527 \n",
       "Adrian College                           66      12.9      30           8735 \n",
       "Agnes Scott College                      97       7.7      37          19016 \n",
       "Alaska Pacific University                72      11.9       2          10922 \n",
       "Albertson College                        73       9.4      11           9727 \n",
       "Albertus Magnus College                  93      11.5      26           8861 \n",
       "Albion College                          100      13.7      37          11487 \n",
       "Albright College                         84      11.3      23          11644 \n",
       "Alderson-Broaddus College                41      11.5      15           8991 \n",
       "Alfred University                        88      11.3      31          10932 \n",
       "Allegheny College                        91       9.9      41          11711 \n",
       "Allentown Coll. of St. Francis de Sales  84      13.3      21           7940 \n",
       "Alma College                             87      15.3      32           9305 \n",
       "Alverno College                          69      11.1      26           8127 \n",
       "American International College           84      14.7      19           7355 \n",
       "Amherst College                          98       8.4      63          21424 \n",
       "Anderson University                      61      12.1      14           7994 \n",
       "Andrews University                       66      11.5      18          10908 \n",
       "Angelo State University                  62      23.1       5           4010 \n",
       "Antioch University                       82      11.3      35          42926 \n",
       "Appalachian State University             96      18.3      14           5854 \n",
       "Aquinas College                          65      12.7      25           6584 \n",
       "Arizona State University Main campus     93      18.9       5           4602 \n",
       "Arkansas College (Lyon College)          88      12.6      24          14579 \n",
       "Arkansas Tech University                 60      19.6       5           4739 \n",
       "Assumption College                       93      13.8      30           7100 \n",
       "Auburn University-Main Campus            91      16.7      18           6642 \n",
       "Augsburg College                         65      12.8      31           7836 \n",
       "Augustana College IL                     83      12.7      40           9220 \n",
       "⋮                                       ⋮        ⋮         ⋮           ⋮     \n",
       "Westfield State College                 79       15.7      20           4222 \n",
       "Westminster College MO                  70       12.5      20           7925 \n",
       "Westminster College                     78       12.5      41           8596 \n",
       "Westminster College of Salt Lake City   83       10.5      34           7170 \n",
       "Westmont College                        77       14.9      17           8837 \n",
       "Wheaton College IL                      83       12.7      40          11916 \n",
       "Westminster College PA                  96       13.2      41          22704 \n",
       "Wheeling Jesuit College                 71       14.1      27           7494 \n",
       "Whitman College                         83       10.5      51          13198 \n",
       "Whittier College                        92       13.6      29          11778 \n",
       "Whitworth College                       80       16.9      20           8328 \n",
       "Widener University                      86       12.6      19           9603 \n",
       "Wilkes University                       92       13.3      24           8543 \n",
       "Willamette University                   94       13.3      37          10779 \n",
       "William Jewell College                  80       11.2      19           7885 \n",
       "William Woods University                66       12.9      16           7438 \n",
       "Williams College                        99        9.0      64          22014 \n",
       "Wilson College                          76        8.3      43          10291 \n",
       "Wingate College                         81       13.9       8           7264 \n",
       "Winona State University                 60       20.2      18           5318 \n",
       "Winthrop University                     80       12.8      26           6729 \n",
       "Wisconsin Lutheran College              48        8.5      26           8960 \n",
       "Wittenberg University                   95       12.8      29          10414 \n",
       "Wofford College                         92       15.3      42           7875 \n",
       "Worcester Polytechnic Institute         94       15.2      34          10774 \n",
       "Worcester State College                 60       21.0      14           4469 \n",
       "Xavier University                       75       13.3      31           9189 \n",
       "Xavier University of Louisiana          75       14.4      20           8323 \n",
       "Yale University                         96        5.8      49          40386 \n",
       "York College of Pennsylvania            75       18.1      28           4509 \n",
       "                                        Grad.Rate\n",
       "Abilene Christian University             60      \n",
       "Adelphi University                       56      \n",
       "Adrian College                           54      \n",
       "Agnes Scott College                      59      \n",
       "Alaska Pacific University                15      \n",
       "Albertson College                        55      \n",
       "Albertus Magnus College                  63      \n",
       "Albion College                           73      \n",
       "Albright College                         80      \n",
       "Alderson-Broaddus College                52      \n",
       "Alfred University                        73      \n",
       "Allegheny College                        76      \n",
       "Allentown Coll. of St. Francis de Sales  74      \n",
       "Alma College                             68      \n",
       "Alverno College                          55      \n",
       "American International College           69      \n",
       "Amherst College                         100      \n",
       "Anderson University                      59      \n",
       "Andrews University                       46      \n",
       "Angelo State University                  34      \n",
       "Antioch University                       48      \n",
       "Appalachian State University             70      \n",
       "Aquinas College                          65      \n",
       "Arizona State University Main campus     48      \n",
       "Arkansas College (Lyon College)          54      \n",
       "Arkansas Tech University                 48      \n",
       "Assumption College                       88      \n",
       "Auburn University-Main Campus            69      \n",
       "Augsburg College                         58      \n",
       "Augustana College IL                     71      \n",
       "⋮                                       ⋮        \n",
       "Westfield State College                 65       \n",
       "Westminster College MO                  62       \n",
       "Westminster College                     80       \n",
       "Westminster College of Salt Lake City   50       \n",
       "Westmont College                        87       \n",
       "Wheaton College IL                      85       \n",
       "Westminster College PA                  71       \n",
       "Wheeling Jesuit College                 72       \n",
       "Whitman College                         72       \n",
       "Whittier College                        52       \n",
       "Whitworth College                       80       \n",
       "Widener University                      63       \n",
       "Wilkes University                       67       \n",
       "Willamette University                   68       \n",
       "William Jewell College                  59       \n",
       "William Woods University                52       \n",
       "Williams College                        99       \n",
       "Wilson College                          67       \n",
       "Wingate College                         91       \n",
       "Winona State University                 58       \n",
       "Winthrop University                     59       \n",
       "Wisconsin Lutheran College              50       \n",
       "Wittenberg University                   78       \n",
       "Wofford College                         75       \n",
       "Worcester Polytechnic Institute         82       \n",
       "Worcester State College                 40       \n",
       "Xavier University                       83       \n",
       "Xavier University of Louisiana          49       \n",
       "Yale University                         99       \n",
       "York College of Pennsylvania            99       "
      ]
     },
     "metadata": {},
     "output_type": "display_data"
    }
   ],
   "source": [
    "library(\"ISLR\")\n",
    "College"
   ]
  },
  {
   "cell_type": "code",
   "execution_count": 65,
   "metadata": {
    "vscode": {
     "languageId": "r"
    }
   },
   "outputs": [
    {
     "data": {
      "text/html": [
       "<style>\n",
       ".list-inline {list-style: none; margin:0; padding: 0}\n",
       ".list-inline>li {display: inline-block}\n",
       ".list-inline>li:not(:last-child)::after {content: \"\\00b7\"; padding: 0 .5ex}\n",
       "</style>\n",
       "<ol class=list-inline><li>'Abilene Christian University'</li><li>'Adelphi University'</li><li>'Adrian College'</li><li>'Agnes Scott College'</li><li>'Alaska Pacific University'</li><li>'Albertson College'</li><li>'Albertus Magnus College'</li><li>'Albion College'</li><li>'Albright College'</li><li>'Alderson-Broaddus College'</li><li>'Alfred University'</li><li>'Allegheny College'</li><li>'Allentown Coll. of St. Francis de Sales'</li><li>'Alma College'</li><li>'Alverno College'</li><li>'American International College'</li><li>'Amherst College'</li><li>'Anderson University'</li><li>'Andrews University'</li><li>'Angelo State University'</li><li>'Antioch University'</li><li>'Appalachian State University'</li><li>'Aquinas College'</li><li>'Arizona State University Main campus'</li><li>'Arkansas College (Lyon College)'</li><li>'Arkansas Tech University'</li><li>'Assumption College'</li><li>'Auburn University-Main Campus'</li><li>'Augsburg College'</li><li>'Augustana College IL'</li><li>'Augustana College'</li><li>'Austin College'</li><li>'Averett College'</li><li>'Baker University'</li><li>'Baldwin-Wallace College'</li><li>'Barat College'</li><li>'Bard College'</li><li>'Barnard College'</li><li>'Barry University'</li><li>'Baylor University'</li><li>'Beaver College'</li><li>'Bellarmine College'</li><li>'Belmont Abbey College'</li><li>'Belmont University'</li><li>'Beloit College'</li><li>'Bemidji State University'</li><li>'Benedictine College'</li><li>'Bennington College'</li><li>'Bentley College'</li><li>'Berry College'</li><li>'Bethany College'</li><li>'Bethel College KS'</li><li>'Bethel College'</li><li>'Bethune Cookman College'</li><li>'Birmingham-Southern College'</li><li>'Blackburn College'</li><li>'Bloomsburg Univ. of Pennsylvania'</li><li>'Bluefield College'</li><li>'Bluffton College'</li><li>'Boston University'</li><li>'Bowdoin College'</li><li>'Bowling Green State University'</li><li>'Bradford College'</li><li>'Bradley University'</li><li>'Brandeis University'</li><li>'Brenau University'</li><li>'Brewton-Parker College'</li><li>'Briar Cliff College'</li><li>'Bridgewater College'</li><li>'Brigham Young University at Provo'</li><li>'Brown University'</li><li>'Bryn Mawr College'</li><li>'Bucknell University'</li><li>'Buena Vista College'</li><li>'Butler University'</li><li>'Cabrini College'</li><li>'Caldwell College'</li><li>'California Lutheran University'</li><li>'California Polytechnic-San Luis'</li><li>'California State University at Fresno'</li><li>'Calvin College'</li><li>'Campbell University'</li><li>'Campbellsville College'</li><li>'Canisius College'</li><li>'Capital University'</li><li>'Capitol College'</li><li>'Carleton College'</li><li>'Carnegie Mellon University'</li><li>'Carroll College'</li><li>'Carson-Newman College'</li><li>'Carthage College'</li><li>'Case Western Reserve University'</li><li>'Castleton State College'</li><li>'Catawba College'</li><li>'Catholic University of America'</li><li>'Cazenovia College'</li><li>'Cedar Crest College'</li><li>'Cedarville College'</li><li>'Centenary College'</li><li>'Centenary College of Louisiana'</li><li>'Center for Creative Studies'</li><li>'Central College'</li><li>'Central Connecticut State University'</li><li>'Central Missouri State University'</li><li>'Central Washington University'</li><li>'Central Wesleyan College'</li><li>'Centre College'</li><li>'Chapman University'</li><li>'Chatham College'</li><li>'Chestnut Hill College'</li><li>'Christendom College'</li><li>'Christian Brothers University'</li><li>'Christopher Newport University'</li><li>'Claflin College'</li><li>'Claremont McKenna College'</li><li>'Clark University'</li><li>'Clarke College'</li><li>'Clarkson University'</li><li>'Clemson University'</li><li><span style=white-space:pre-wrap>'Clinch Valley Coll. of  the Univ. of Virginia'</span></li><li>'Coe College'</li><li>'Coker College'</li><li>'Colby College'</li><li>'Colgate University'</li><li>'College Misericordia'</li><li>'College of Charleston'</li><li>'College of Mount St. Joseph'</li><li>'College of Mount St. Vincent'</li><li>'College of Notre Dame'</li><li>'College of Notre Dame of Maryland'</li><li>'College of Saint Benedict'</li><li>'College of Saint Catherine'</li><li>'College of Saint Elizabeth'</li><li>'College of Saint Rose'</li><li>'College of Santa Fe'</li><li>'College of St. Joseph'</li><li>'College of St. Scholastica'</li><li>'College of the Holy Cross'</li><li>'College of William and Mary'</li><li>'College of Wooster'</li><li>'Colorado College'</li><li>'Colorado State University'</li><li>'Columbia College MO'</li><li>'Columbia College'</li><li>'Columbia University'</li><li>'Concordia College at St. Paul'</li><li>'Concordia Lutheran College'</li><li>'Concordia University CA'</li><li>'Concordia University'</li><li>'Connecticut College'</li><li>'Converse College'</li><li>'Cornell College'</li><li>'Creighton University'</li><li>'Culver-Stockton College'</li><li>'Cumberland College'</li><li>'D\\'Youville College'</li><li>'Dana College'</li><li>'Daniel Webster College'</li><li>'Dartmouth College'</li><li>'Davidson College'</li><li>'Defiance College'</li><li>'Delta State University'</li><li>'Denison University'</li><li>'DePauw University'</li><li>'Dickinson College'</li><li>'Dickinson State University'</li><li>'Dillard University'</li><li>'Doane College'</li><li>'Dominican College of Blauvelt'</li><li>'Dordt College'</li><li>'Dowling College'</li><li>'Drake University'</li><li>'Drew University'</li><li>'Drury College'</li><li>'Duke University'</li><li>'Earlham College'</li><li>'East Carolina University'</li><li>'East Tennessee State University'</li><li>'East Texas Baptist University'</li><li>'Eastern College'</li><li>'Eastern Connecticut State University'</li><li>'Eastern Illinois University'</li><li>'Eastern Mennonite College'</li><li>'Eastern Nazarene College'</li><li>'Eckerd College'</li><li>'Elizabethtown College'</li><li>'Elmira College'</li><li>'Elms College'</li><li>'Elon College'</li><li>'Embry Riddle Aeronautical University'</li><li>'Emory &amp; Henry College'</li><li>'Emory University'</li><li>'Emporia State University'</li><li>'Erskine College'</li><li>'Eureka College'</li><li>'Evergreen State College'</li><li>'Fairfield University'</li><li>'Fayetteville State University'</li><li>'Ferrum College'</li><li>'Flagler College'</li><li>⋯</li><li>'Tabor College'</li><li>'Talladega College'</li><li>'Taylor University'</li><li>'Tennessee Wesleyan College'</li><li>'Texas A&amp;M Univ. at College Station'</li><li>'Texas A&amp;M University at Galveston'</li><li>'Texas Christian University'</li><li>'Texas Lutheran College'</li><li>'Texas Southern University'</li><li>'Texas Wesleyan University'</li><li>'The Citadel'</li><li>'Thiel College'</li><li>'Tiffin University'</li><li>'Transylvania University'</li><li>'Trenton State College'</li><li>'Tri-State University'</li><li>'Trinity College CT'</li><li>'Trinity College DC'</li><li>'Trinity College VT'</li><li>'Trinity University'</li><li>'Tulane University'</li><li>'Tusculum College'</li><li>'Tuskegee University'</li><li>'Union College KY'</li><li>'Union College NY'</li><li>'Univ. of Wisconsin at OshKosh'</li><li>'University of Alabama at Birmingham'</li><li>'University of Arkansas at Fayetteville'</li><li>'University of California at Berkeley'</li><li>'University of California at Irvine'</li><li>'University of Central Florida'</li><li>'University of Charleston'</li><li>'University of Chicago'</li><li>'University of Cincinnati'</li><li>'University of Connecticut at Storrs'</li><li>'University of Dallas'</li><li>'University of Dayton'</li><li>'University of Delaware'</li><li>'University of Denver'</li><li>'University of Detroit Mercy'</li><li>'University of Dubuque'</li><li>'University of Evansville'</li><li>'University of Florida'</li><li>'University of Georgia'</li><li>'University of Hartford'</li><li>'University of Hawaii at Manoa'</li><li>'University of Illinois - Urbana'</li><li>'University of Illinois at Chicago'</li><li>'University of Indianapolis'</li><li>'University of Kansas'</li><li>'University of La Verne'</li><li>'University of Louisville'</li><li>'University of Maine at Farmington'</li><li>'University of Maine at Machias'</li><li>'University of Maine at Presque Isle'</li><li>'University of Maryland at Baltimore County'</li><li>'University of Maryland at College Park'</li><li>'University of Massachusetts at Amherst'</li><li>'University of Massachusetts at Dartmouth'</li><li>'University of Miami'</li><li>'University of Michigan at Ann Arbor'</li><li>'University of Minnesota at Duluth'</li><li>'University of Minnesota at Morris'</li><li>'University of Minnesota Twin Cities'</li><li>'University of Mississippi'</li><li>'University of Missouri at Columbia'</li><li>'University of Missouri at Rolla'</li><li>'University of Missouri at Saint Louis'</li><li>'University of Mobile'</li><li>'University of Montevallo'</li><li>'University of Nebraska at Lincoln'</li><li>'University of New England'</li><li>'University of New Hampshire'</li><li>'University of North Carolina at Asheville'</li><li>'University of North Carolina at Chapel Hill'</li><li>'University of North Carolina at Charlotte'</li><li>'University of North Carolina at Greensboro'</li><li>'University of North Carolina at Wilmington'</li><li>'University of North Dakota'</li><li>'University of North Florida'</li><li>'University of North Texas'</li><li>'University of Northern Colorado'</li><li>'University of Northern Iowa'</li><li>'University of Notre Dame'</li><li>'University of Oklahoma'</li><li>'University of Oregon'</li><li>'University of Pennsylvania'</li><li>'University of Pittsburgh-Main Campus'</li><li>'University of Portland'</li><li>'University of Puget Sound'</li><li>'University of Rhode Island'</li><li>'University of Richmond'</li><li>'University of Rochester'</li><li>'University of San Diego'</li><li>'University of San Francisco'</li><li>'University of Sci. and Arts of Oklahoma'</li><li>'University of Scranton'</li><li>'University of South Carolina at Aiken'</li><li>'University of South Carolina at Columbia'</li><li>'University of South Florida'</li><li>'University of Southern California'</li><li>'University of Southern Colorado'</li><li>'University of Southern Indiana'</li><li>'University of Southern Mississippi'</li><li>'University of St. Thomas MN'</li><li>'University of St. Thomas TX'</li><li>'University of Tennessee at Knoxville'</li><li>'University of Texas at Arlington'</li><li>'University of Texas at Austin'</li><li>'University of Texas at San Antonio'</li><li>'University of the Arts'</li><li>'University of the Pacific'</li><li>'University of the South'</li><li>'University of Tulsa'</li><li>'University of Utah'</li><li>'University of Vermont'</li><li>'University of Virginia'</li><li>'University of Washington'</li><li>'University of West Florida'</li><li>'University of Wisconsin-Stout'</li><li>'University of Wisconsin-Superior'</li><li>'University of Wisconsin-Whitewater'</li><li>'University of Wisconsin at Green Bay'</li><li>'University of Wisconsin at Madison'</li><li>'University of Wisconsin at Milwaukee'</li><li>'University of Wyoming'</li><li>'Upper Iowa University'</li><li>'Ursinus College'</li><li>'Ursuline College'</li><li>'Valley City State University'</li><li>'Valparaiso University'</li><li>'Vanderbilt University'</li><li>'Vassar College'</li><li>'Villanova University'</li><li>'Virginia Commonwealth University'</li><li>'Virginia State University'</li><li>'Virginia Tech'</li><li>'Virginia Union University'</li><li>'Virginia Wesleyan College'</li><li>'Viterbo College'</li><li>'Voorhees College'</li><li>'Wabash College'</li><li>'Wagner College'</li><li>'Wake Forest University'</li><li>'Walsh University'</li><li>'Warren Wilson College'</li><li>'Wartburg College'</li><li>'Washington and Jefferson College'</li><li>'Washington and Lee University'</li><li>'Washington College'</li><li>'Washington State University'</li><li>'Washington University'</li><li>'Wayne State College'</li><li>'Waynesburg College'</li><li>'Webber College'</li><li>'Webster University'</li><li>'Wellesley College'</li><li>'Wells College'</li><li>'Wentworth Institute of Technology'</li><li>'Wesley College'</li><li>'Wesleyan University'</li><li>'West Chester University of Penn.'</li><li>'West Liberty State College'</li><li>'West Virginia Wesleyan College'</li><li>'Western Carolina University'</li><li>'Western Maryland College'</li><li>'Western Michigan University'</li><li>'Western New England College'</li><li>'Western State College of Colorado'</li><li>'Western Washington University'</li><li>'Westfield State College'</li><li>'Westminster College MO'</li><li>'Westminster College'</li><li>'Westminster College of Salt Lake City'</li><li>'Westmont College'</li><li>'Wheaton College IL'</li><li>'Westminster College PA'</li><li>'Wheeling Jesuit College'</li><li>'Whitman College'</li><li>'Whittier College'</li><li>'Whitworth College'</li><li>'Widener University'</li><li>'Wilkes University'</li><li>'Willamette University'</li><li>'William Jewell College'</li><li>'William Woods University'</li><li>'Williams College'</li><li>'Wilson College'</li><li>'Wingate College'</li><li>'Winona State University'</li><li>'Winthrop University'</li><li>'Wisconsin Lutheran College'</li><li>'Wittenberg University'</li><li>'Wofford College'</li><li>'Worcester Polytechnic Institute'</li><li>'Worcester State College'</li><li>'Xavier University'</li><li>'Xavier University of Louisiana'</li><li>'Yale University'</li><li>'York College of Pennsylvania'</li></ol>\n"
      ],
      "text/latex": [
       "\\begin{enumerate*}\n",
       "\\item 'Abilene Christian University'\n",
       "\\item 'Adelphi University'\n",
       "\\item 'Adrian College'\n",
       "\\item 'Agnes Scott College'\n",
       "\\item 'Alaska Pacific University'\n",
       "\\item 'Albertson College'\n",
       "\\item 'Albertus Magnus College'\n",
       "\\item 'Albion College'\n",
       "\\item 'Albright College'\n",
       "\\item 'Alderson-Broaddus College'\n",
       "\\item 'Alfred University'\n",
       "\\item 'Allegheny College'\n",
       "\\item 'Allentown Coll. of St. Francis de Sales'\n",
       "\\item 'Alma College'\n",
       "\\item 'Alverno College'\n",
       "\\item 'American International College'\n",
       "\\item 'Amherst College'\n",
       "\\item 'Anderson University'\n",
       "\\item 'Andrews University'\n",
       "\\item 'Angelo State University'\n",
       "\\item 'Antioch University'\n",
       "\\item 'Appalachian State University'\n",
       "\\item 'Aquinas College'\n",
       "\\item 'Arizona State University Main campus'\n",
       "\\item 'Arkansas College (Lyon College)'\n",
       "\\item 'Arkansas Tech University'\n",
       "\\item 'Assumption College'\n",
       "\\item 'Auburn University-Main Campus'\n",
       "\\item 'Augsburg College'\n",
       "\\item 'Augustana College IL'\n",
       "\\item 'Augustana College'\n",
       "\\item 'Austin College'\n",
       "\\item 'Averett College'\n",
       "\\item 'Baker University'\n",
       "\\item 'Baldwin-Wallace College'\n",
       "\\item 'Barat College'\n",
       "\\item 'Bard College'\n",
       "\\item 'Barnard College'\n",
       "\\item 'Barry University'\n",
       "\\item 'Baylor University'\n",
       "\\item 'Beaver College'\n",
       "\\item 'Bellarmine College'\n",
       "\\item 'Belmont Abbey College'\n",
       "\\item 'Belmont University'\n",
       "\\item 'Beloit College'\n",
       "\\item 'Bemidji State University'\n",
       "\\item 'Benedictine College'\n",
       "\\item 'Bennington College'\n",
       "\\item 'Bentley College'\n",
       "\\item 'Berry College'\n",
       "\\item 'Bethany College'\n",
       "\\item 'Bethel College KS'\n",
       "\\item 'Bethel College'\n",
       "\\item 'Bethune Cookman College'\n",
       "\\item 'Birmingham-Southern College'\n",
       "\\item 'Blackburn College'\n",
       "\\item 'Bloomsburg Univ. of Pennsylvania'\n",
       "\\item 'Bluefield College'\n",
       "\\item 'Bluffton College'\n",
       "\\item 'Boston University'\n",
       "\\item 'Bowdoin College'\n",
       "\\item 'Bowling Green State University'\n",
       "\\item 'Bradford College'\n",
       "\\item 'Bradley University'\n",
       "\\item 'Brandeis University'\n",
       "\\item 'Brenau University'\n",
       "\\item 'Brewton-Parker College'\n",
       "\\item 'Briar Cliff College'\n",
       "\\item 'Bridgewater College'\n",
       "\\item 'Brigham Young University at Provo'\n",
       "\\item 'Brown University'\n",
       "\\item 'Bryn Mawr College'\n",
       "\\item 'Bucknell University'\n",
       "\\item 'Buena Vista College'\n",
       "\\item 'Butler University'\n",
       "\\item 'Cabrini College'\n",
       "\\item 'Caldwell College'\n",
       "\\item 'California Lutheran University'\n",
       "\\item 'California Polytechnic-San Luis'\n",
       "\\item 'California State University at Fresno'\n",
       "\\item 'Calvin College'\n",
       "\\item 'Campbell University'\n",
       "\\item 'Campbellsville College'\n",
       "\\item 'Canisius College'\n",
       "\\item 'Capital University'\n",
       "\\item 'Capitol College'\n",
       "\\item 'Carleton College'\n",
       "\\item 'Carnegie Mellon University'\n",
       "\\item 'Carroll College'\n",
       "\\item 'Carson-Newman College'\n",
       "\\item 'Carthage College'\n",
       "\\item 'Case Western Reserve University'\n",
       "\\item 'Castleton State College'\n",
       "\\item 'Catawba College'\n",
       "\\item 'Catholic University of America'\n",
       "\\item 'Cazenovia College'\n",
       "\\item 'Cedar Crest College'\n",
       "\\item 'Cedarville College'\n",
       "\\item 'Centenary College'\n",
       "\\item 'Centenary College of Louisiana'\n",
       "\\item 'Center for Creative Studies'\n",
       "\\item 'Central College'\n",
       "\\item 'Central Connecticut State University'\n",
       "\\item 'Central Missouri State University'\n",
       "\\item 'Central Washington University'\n",
       "\\item 'Central Wesleyan College'\n",
       "\\item 'Centre College'\n",
       "\\item 'Chapman University'\n",
       "\\item 'Chatham College'\n",
       "\\item 'Chestnut Hill College'\n",
       "\\item 'Christendom College'\n",
       "\\item 'Christian Brothers University'\n",
       "\\item 'Christopher Newport University'\n",
       "\\item 'Claflin College'\n",
       "\\item 'Claremont McKenna College'\n",
       "\\item 'Clark University'\n",
       "\\item 'Clarke College'\n",
       "\\item 'Clarkson University'\n",
       "\\item 'Clemson University'\n",
       "\\item 'Clinch Valley Coll. of  the Univ. of Virginia'\n",
       "\\item 'Coe College'\n",
       "\\item 'Coker College'\n",
       "\\item 'Colby College'\n",
       "\\item 'Colgate University'\n",
       "\\item 'College Misericordia'\n",
       "\\item 'College of Charleston'\n",
       "\\item 'College of Mount St. Joseph'\n",
       "\\item 'College of Mount St. Vincent'\n",
       "\\item 'College of Notre Dame'\n",
       "\\item 'College of Notre Dame of Maryland'\n",
       "\\item 'College of Saint Benedict'\n",
       "\\item 'College of Saint Catherine'\n",
       "\\item 'College of Saint Elizabeth'\n",
       "\\item 'College of Saint Rose'\n",
       "\\item 'College of Santa Fe'\n",
       "\\item 'College of St. Joseph'\n",
       "\\item 'College of St. Scholastica'\n",
       "\\item 'College of the Holy Cross'\n",
       "\\item 'College of William and Mary'\n",
       "\\item 'College of Wooster'\n",
       "\\item 'Colorado College'\n",
       "\\item 'Colorado State University'\n",
       "\\item 'Columbia College MO'\n",
       "\\item 'Columbia College'\n",
       "\\item 'Columbia University'\n",
       "\\item 'Concordia College at St. Paul'\n",
       "\\item 'Concordia Lutheran College'\n",
       "\\item 'Concordia University CA'\n",
       "\\item 'Concordia University'\n",
       "\\item 'Connecticut College'\n",
       "\\item 'Converse College'\n",
       "\\item 'Cornell College'\n",
       "\\item 'Creighton University'\n",
       "\\item 'Culver-Stockton College'\n",
       "\\item 'Cumberland College'\n",
       "\\item 'D\\textbackslash{}'Youville College'\n",
       "\\item 'Dana College'\n",
       "\\item 'Daniel Webster College'\n",
       "\\item 'Dartmouth College'\n",
       "\\item 'Davidson College'\n",
       "\\item 'Defiance College'\n",
       "\\item 'Delta State University'\n",
       "\\item 'Denison University'\n",
       "\\item 'DePauw University'\n",
       "\\item 'Dickinson College'\n",
       "\\item 'Dickinson State University'\n",
       "\\item 'Dillard University'\n",
       "\\item 'Doane College'\n",
       "\\item 'Dominican College of Blauvelt'\n",
       "\\item 'Dordt College'\n",
       "\\item 'Dowling College'\n",
       "\\item 'Drake University'\n",
       "\\item 'Drew University'\n",
       "\\item 'Drury College'\n",
       "\\item 'Duke University'\n",
       "\\item 'Earlham College'\n",
       "\\item 'East Carolina University'\n",
       "\\item 'East Tennessee State University'\n",
       "\\item 'East Texas Baptist University'\n",
       "\\item 'Eastern College'\n",
       "\\item 'Eastern Connecticut State University'\n",
       "\\item 'Eastern Illinois University'\n",
       "\\item 'Eastern Mennonite College'\n",
       "\\item 'Eastern Nazarene College'\n",
       "\\item 'Eckerd College'\n",
       "\\item 'Elizabethtown College'\n",
       "\\item 'Elmira College'\n",
       "\\item 'Elms College'\n",
       "\\item 'Elon College'\n",
       "\\item 'Embry Riddle Aeronautical University'\n",
       "\\item 'Emory \\& Henry College'\n",
       "\\item 'Emory University'\n",
       "\\item 'Emporia State University'\n",
       "\\item 'Erskine College'\n",
       "\\item 'Eureka College'\n",
       "\\item 'Evergreen State College'\n",
       "\\item 'Fairfield University'\n",
       "\\item 'Fayetteville State University'\n",
       "\\item 'Ferrum College'\n",
       "\\item 'Flagler College'\n",
       "\\item ⋯\n",
       "\\item 'Tabor College'\n",
       "\\item 'Talladega College'\n",
       "\\item 'Taylor University'\n",
       "\\item 'Tennessee Wesleyan College'\n",
       "\\item 'Texas A\\&M Univ. at College Station'\n",
       "\\item 'Texas A\\&M University at Galveston'\n",
       "\\item 'Texas Christian University'\n",
       "\\item 'Texas Lutheran College'\n",
       "\\item 'Texas Southern University'\n",
       "\\item 'Texas Wesleyan University'\n",
       "\\item 'The Citadel'\n",
       "\\item 'Thiel College'\n",
       "\\item 'Tiffin University'\n",
       "\\item 'Transylvania University'\n",
       "\\item 'Trenton State College'\n",
       "\\item 'Tri-State University'\n",
       "\\item 'Trinity College CT'\n",
       "\\item 'Trinity College DC'\n",
       "\\item 'Trinity College VT'\n",
       "\\item 'Trinity University'\n",
       "\\item 'Tulane University'\n",
       "\\item 'Tusculum College'\n",
       "\\item 'Tuskegee University'\n",
       "\\item 'Union College KY'\n",
       "\\item 'Union College NY'\n",
       "\\item 'Univ. of Wisconsin at OshKosh'\n",
       "\\item 'University of Alabama at Birmingham'\n",
       "\\item 'University of Arkansas at Fayetteville'\n",
       "\\item 'University of California at Berkeley'\n",
       "\\item 'University of California at Irvine'\n",
       "\\item 'University of Central Florida'\n",
       "\\item 'University of Charleston'\n",
       "\\item 'University of Chicago'\n",
       "\\item 'University of Cincinnati'\n",
       "\\item 'University of Connecticut at Storrs'\n",
       "\\item 'University of Dallas'\n",
       "\\item 'University of Dayton'\n",
       "\\item 'University of Delaware'\n",
       "\\item 'University of Denver'\n",
       "\\item 'University of Detroit Mercy'\n",
       "\\item 'University of Dubuque'\n",
       "\\item 'University of Evansville'\n",
       "\\item 'University of Florida'\n",
       "\\item 'University of Georgia'\n",
       "\\item 'University of Hartford'\n",
       "\\item 'University of Hawaii at Manoa'\n",
       "\\item 'University of Illinois - Urbana'\n",
       "\\item 'University of Illinois at Chicago'\n",
       "\\item 'University of Indianapolis'\n",
       "\\item 'University of Kansas'\n",
       "\\item 'University of La Verne'\n",
       "\\item 'University of Louisville'\n",
       "\\item 'University of Maine at Farmington'\n",
       "\\item 'University of Maine at Machias'\n",
       "\\item 'University of Maine at Presque Isle'\n",
       "\\item 'University of Maryland at Baltimore County'\n",
       "\\item 'University of Maryland at College Park'\n",
       "\\item 'University of Massachusetts at Amherst'\n",
       "\\item 'University of Massachusetts at Dartmouth'\n",
       "\\item 'University of Miami'\n",
       "\\item 'University of Michigan at Ann Arbor'\n",
       "\\item 'University of Minnesota at Duluth'\n",
       "\\item 'University of Minnesota at Morris'\n",
       "\\item 'University of Minnesota Twin Cities'\n",
       "\\item 'University of Mississippi'\n",
       "\\item 'University of Missouri at Columbia'\n",
       "\\item 'University of Missouri at Rolla'\n",
       "\\item 'University of Missouri at Saint Louis'\n",
       "\\item 'University of Mobile'\n",
       "\\item 'University of Montevallo'\n",
       "\\item 'University of Nebraska at Lincoln'\n",
       "\\item 'University of New England'\n",
       "\\item 'University of New Hampshire'\n",
       "\\item 'University of North Carolina at Asheville'\n",
       "\\item 'University of North Carolina at Chapel Hill'\n",
       "\\item 'University of North Carolina at Charlotte'\n",
       "\\item 'University of North Carolina at Greensboro'\n",
       "\\item 'University of North Carolina at Wilmington'\n",
       "\\item 'University of North Dakota'\n",
       "\\item 'University of North Florida'\n",
       "\\item 'University of North Texas'\n",
       "\\item 'University of Northern Colorado'\n",
       "\\item 'University of Northern Iowa'\n",
       "\\item 'University of Notre Dame'\n",
       "\\item 'University of Oklahoma'\n",
       "\\item 'University of Oregon'\n",
       "\\item 'University of Pennsylvania'\n",
       "\\item 'University of Pittsburgh-Main Campus'\n",
       "\\item 'University of Portland'\n",
       "\\item 'University of Puget Sound'\n",
       "\\item 'University of Rhode Island'\n",
       "\\item 'University of Richmond'\n",
       "\\item 'University of Rochester'\n",
       "\\item 'University of San Diego'\n",
       "\\item 'University of San Francisco'\n",
       "\\item 'University of Sci. and Arts of Oklahoma'\n",
       "\\item 'University of Scranton'\n",
       "\\item 'University of South Carolina at Aiken'\n",
       "\\item 'University of South Carolina at Columbia'\n",
       "\\item 'University of South Florida'\n",
       "\\item 'University of Southern California'\n",
       "\\item 'University of Southern Colorado'\n",
       "\\item 'University of Southern Indiana'\n",
       "\\item 'University of Southern Mississippi'\n",
       "\\item 'University of St. Thomas MN'\n",
       "\\item 'University of St. Thomas TX'\n",
       "\\item 'University of Tennessee at Knoxville'\n",
       "\\item 'University of Texas at Arlington'\n",
       "\\item 'University of Texas at Austin'\n",
       "\\item 'University of Texas at San Antonio'\n",
       "\\item 'University of the Arts'\n",
       "\\item 'University of the Pacific'\n",
       "\\item 'University of the South'\n",
       "\\item 'University of Tulsa'\n",
       "\\item 'University of Utah'\n",
       "\\item 'University of Vermont'\n",
       "\\item 'University of Virginia'\n",
       "\\item 'University of Washington'\n",
       "\\item 'University of West Florida'\n",
       "\\item 'University of Wisconsin-Stout'\n",
       "\\item 'University of Wisconsin-Superior'\n",
       "\\item 'University of Wisconsin-Whitewater'\n",
       "\\item 'University of Wisconsin at Green Bay'\n",
       "\\item 'University of Wisconsin at Madison'\n",
       "\\item 'University of Wisconsin at Milwaukee'\n",
       "\\item 'University of Wyoming'\n",
       "\\item 'Upper Iowa University'\n",
       "\\item 'Ursinus College'\n",
       "\\item 'Ursuline College'\n",
       "\\item 'Valley City State University'\n",
       "\\item 'Valparaiso University'\n",
       "\\item 'Vanderbilt University'\n",
       "\\item 'Vassar College'\n",
       "\\item 'Villanova University'\n",
       "\\item 'Virginia Commonwealth University'\n",
       "\\item 'Virginia State University'\n",
       "\\item 'Virginia Tech'\n",
       "\\item 'Virginia Union University'\n",
       "\\item 'Virginia Wesleyan College'\n",
       "\\item 'Viterbo College'\n",
       "\\item 'Voorhees College'\n",
       "\\item 'Wabash College'\n",
       "\\item 'Wagner College'\n",
       "\\item 'Wake Forest University'\n",
       "\\item 'Walsh University'\n",
       "\\item 'Warren Wilson College'\n",
       "\\item 'Wartburg College'\n",
       "\\item 'Washington and Jefferson College'\n",
       "\\item 'Washington and Lee University'\n",
       "\\item 'Washington College'\n",
       "\\item 'Washington State University'\n",
       "\\item 'Washington University'\n",
       "\\item 'Wayne State College'\n",
       "\\item 'Waynesburg College'\n",
       "\\item 'Webber College'\n",
       "\\item 'Webster University'\n",
       "\\item 'Wellesley College'\n",
       "\\item 'Wells College'\n",
       "\\item 'Wentworth Institute of Technology'\n",
       "\\item 'Wesley College'\n",
       "\\item 'Wesleyan University'\n",
       "\\item 'West Chester University of Penn.'\n",
       "\\item 'West Liberty State College'\n",
       "\\item 'West Virginia Wesleyan College'\n",
       "\\item 'Western Carolina University'\n",
       "\\item 'Western Maryland College'\n",
       "\\item 'Western Michigan University'\n",
       "\\item 'Western New England College'\n",
       "\\item 'Western State College of Colorado'\n",
       "\\item 'Western Washington University'\n",
       "\\item 'Westfield State College'\n",
       "\\item 'Westminster College MO'\n",
       "\\item 'Westminster College'\n",
       "\\item 'Westminster College of Salt Lake City'\n",
       "\\item 'Westmont College'\n",
       "\\item 'Wheaton College IL'\n",
       "\\item 'Westminster College PA'\n",
       "\\item 'Wheeling Jesuit College'\n",
       "\\item 'Whitman College'\n",
       "\\item 'Whittier College'\n",
       "\\item 'Whitworth College'\n",
       "\\item 'Widener University'\n",
       "\\item 'Wilkes University'\n",
       "\\item 'Willamette University'\n",
       "\\item 'William Jewell College'\n",
       "\\item 'William Woods University'\n",
       "\\item 'Williams College'\n",
       "\\item 'Wilson College'\n",
       "\\item 'Wingate College'\n",
       "\\item 'Winona State University'\n",
       "\\item 'Winthrop University'\n",
       "\\item 'Wisconsin Lutheran College'\n",
       "\\item 'Wittenberg University'\n",
       "\\item 'Wofford College'\n",
       "\\item 'Worcester Polytechnic Institute'\n",
       "\\item 'Worcester State College'\n",
       "\\item 'Xavier University'\n",
       "\\item 'Xavier University of Louisiana'\n",
       "\\item 'Yale University'\n",
       "\\item 'York College of Pennsylvania'\n",
       "\\end{enumerate*}\n"
      ],
      "text/markdown": [
       "1. 'Abilene Christian University'\n",
       "2. 'Adelphi University'\n",
       "3. 'Adrian College'\n",
       "4. 'Agnes Scott College'\n",
       "5. 'Alaska Pacific University'\n",
       "6. 'Albertson College'\n",
       "7. 'Albertus Magnus College'\n",
       "8. 'Albion College'\n",
       "9. 'Albright College'\n",
       "10. 'Alderson-Broaddus College'\n",
       "11. 'Alfred University'\n",
       "12. 'Allegheny College'\n",
       "13. 'Allentown Coll. of St. Francis de Sales'\n",
       "14. 'Alma College'\n",
       "15. 'Alverno College'\n",
       "16. 'American International College'\n",
       "17. 'Amherst College'\n",
       "18. 'Anderson University'\n",
       "19. 'Andrews University'\n",
       "20. 'Angelo State University'\n",
       "21. 'Antioch University'\n",
       "22. 'Appalachian State University'\n",
       "23. 'Aquinas College'\n",
       "24. 'Arizona State University Main campus'\n",
       "25. 'Arkansas College (Lyon College)'\n",
       "26. 'Arkansas Tech University'\n",
       "27. 'Assumption College'\n",
       "28. 'Auburn University-Main Campus'\n",
       "29. 'Augsburg College'\n",
       "30. 'Augustana College IL'\n",
       "31. 'Augustana College'\n",
       "32. 'Austin College'\n",
       "33. 'Averett College'\n",
       "34. 'Baker University'\n",
       "35. 'Baldwin-Wallace College'\n",
       "36. 'Barat College'\n",
       "37. 'Bard College'\n",
       "38. 'Barnard College'\n",
       "39. 'Barry University'\n",
       "40. 'Baylor University'\n",
       "41. 'Beaver College'\n",
       "42. 'Bellarmine College'\n",
       "43. 'Belmont Abbey College'\n",
       "44. 'Belmont University'\n",
       "45. 'Beloit College'\n",
       "46. 'Bemidji State University'\n",
       "47. 'Benedictine College'\n",
       "48. 'Bennington College'\n",
       "49. 'Bentley College'\n",
       "50. 'Berry College'\n",
       "51. 'Bethany College'\n",
       "52. 'Bethel College KS'\n",
       "53. 'Bethel College'\n",
       "54. 'Bethune Cookman College'\n",
       "55. 'Birmingham-Southern College'\n",
       "56. 'Blackburn College'\n",
       "57. 'Bloomsburg Univ. of Pennsylvania'\n",
       "58. 'Bluefield College'\n",
       "59. 'Bluffton College'\n",
       "60. 'Boston University'\n",
       "61. 'Bowdoin College'\n",
       "62. 'Bowling Green State University'\n",
       "63. 'Bradford College'\n",
       "64. 'Bradley University'\n",
       "65. 'Brandeis University'\n",
       "66. 'Brenau University'\n",
       "67. 'Brewton-Parker College'\n",
       "68. 'Briar Cliff College'\n",
       "69. 'Bridgewater College'\n",
       "70. 'Brigham Young University at Provo'\n",
       "71. 'Brown University'\n",
       "72. 'Bryn Mawr College'\n",
       "73. 'Bucknell University'\n",
       "74. 'Buena Vista College'\n",
       "75. 'Butler University'\n",
       "76. 'Cabrini College'\n",
       "77. 'Caldwell College'\n",
       "78. 'California Lutheran University'\n",
       "79. 'California Polytechnic-San Luis'\n",
       "80. 'California State University at Fresno'\n",
       "81. 'Calvin College'\n",
       "82. 'Campbell University'\n",
       "83. 'Campbellsville College'\n",
       "84. 'Canisius College'\n",
       "85. 'Capital University'\n",
       "86. 'Capitol College'\n",
       "87. 'Carleton College'\n",
       "88. 'Carnegie Mellon University'\n",
       "89. 'Carroll College'\n",
       "90. 'Carson-Newman College'\n",
       "91. 'Carthage College'\n",
       "92. 'Case Western Reserve University'\n",
       "93. 'Castleton State College'\n",
       "94. 'Catawba College'\n",
       "95. 'Catholic University of America'\n",
       "96. 'Cazenovia College'\n",
       "97. 'Cedar Crest College'\n",
       "98. 'Cedarville College'\n",
       "99. 'Centenary College'\n",
       "100. 'Centenary College of Louisiana'\n",
       "101. 'Center for Creative Studies'\n",
       "102. 'Central College'\n",
       "103. 'Central Connecticut State University'\n",
       "104. 'Central Missouri State University'\n",
       "105. 'Central Washington University'\n",
       "106. 'Central Wesleyan College'\n",
       "107. 'Centre College'\n",
       "108. 'Chapman University'\n",
       "109. 'Chatham College'\n",
       "110. 'Chestnut Hill College'\n",
       "111. 'Christendom College'\n",
       "112. 'Christian Brothers University'\n",
       "113. 'Christopher Newport University'\n",
       "114. 'Claflin College'\n",
       "115. 'Claremont McKenna College'\n",
       "116. 'Clark University'\n",
       "117. 'Clarke College'\n",
       "118. 'Clarkson University'\n",
       "119. 'Clemson University'\n",
       "120. <span style=white-space:pre-wrap>'Clinch Valley Coll. of  the Univ. of Virginia'</span>\n",
       "121. 'Coe College'\n",
       "122. 'Coker College'\n",
       "123. 'Colby College'\n",
       "124. 'Colgate University'\n",
       "125. 'College Misericordia'\n",
       "126. 'College of Charleston'\n",
       "127. 'College of Mount St. Joseph'\n",
       "128. 'College of Mount St. Vincent'\n",
       "129. 'College of Notre Dame'\n",
       "130. 'College of Notre Dame of Maryland'\n",
       "131. 'College of Saint Benedict'\n",
       "132. 'College of Saint Catherine'\n",
       "133. 'College of Saint Elizabeth'\n",
       "134. 'College of Saint Rose'\n",
       "135. 'College of Santa Fe'\n",
       "136. 'College of St. Joseph'\n",
       "137. 'College of St. Scholastica'\n",
       "138. 'College of the Holy Cross'\n",
       "139. 'College of William and Mary'\n",
       "140. 'College of Wooster'\n",
       "141. 'Colorado College'\n",
       "142. 'Colorado State University'\n",
       "143. 'Columbia College MO'\n",
       "144. 'Columbia College'\n",
       "145. 'Columbia University'\n",
       "146. 'Concordia College at St. Paul'\n",
       "147. 'Concordia Lutheran College'\n",
       "148. 'Concordia University CA'\n",
       "149. 'Concordia University'\n",
       "150. 'Connecticut College'\n",
       "151. 'Converse College'\n",
       "152. 'Cornell College'\n",
       "153. 'Creighton University'\n",
       "154. 'Culver-Stockton College'\n",
       "155. 'Cumberland College'\n",
       "156. 'D\\'Youville College'\n",
       "157. 'Dana College'\n",
       "158. 'Daniel Webster College'\n",
       "159. 'Dartmouth College'\n",
       "160. 'Davidson College'\n",
       "161. 'Defiance College'\n",
       "162. 'Delta State University'\n",
       "163. 'Denison University'\n",
       "164. 'DePauw University'\n",
       "165. 'Dickinson College'\n",
       "166. 'Dickinson State University'\n",
       "167. 'Dillard University'\n",
       "168. 'Doane College'\n",
       "169. 'Dominican College of Blauvelt'\n",
       "170. 'Dordt College'\n",
       "171. 'Dowling College'\n",
       "172. 'Drake University'\n",
       "173. 'Drew University'\n",
       "174. 'Drury College'\n",
       "175. 'Duke University'\n",
       "176. 'Earlham College'\n",
       "177. 'East Carolina University'\n",
       "178. 'East Tennessee State University'\n",
       "179. 'East Texas Baptist University'\n",
       "180. 'Eastern College'\n",
       "181. 'Eastern Connecticut State University'\n",
       "182. 'Eastern Illinois University'\n",
       "183. 'Eastern Mennonite College'\n",
       "184. 'Eastern Nazarene College'\n",
       "185. 'Eckerd College'\n",
       "186. 'Elizabethtown College'\n",
       "187. 'Elmira College'\n",
       "188. 'Elms College'\n",
       "189. 'Elon College'\n",
       "190. 'Embry Riddle Aeronautical University'\n",
       "191. 'Emory &amp; Henry College'\n",
       "192. 'Emory University'\n",
       "193. 'Emporia State University'\n",
       "194. 'Erskine College'\n",
       "195. 'Eureka College'\n",
       "196. 'Evergreen State College'\n",
       "197. 'Fairfield University'\n",
       "198. 'Fayetteville State University'\n",
       "199. 'Ferrum College'\n",
       "200. 'Flagler College'\n",
       "201. ⋯\n",
       "202. 'Tabor College'\n",
       "203. 'Talladega College'\n",
       "204. 'Taylor University'\n",
       "205. 'Tennessee Wesleyan College'\n",
       "206. 'Texas A&amp;M Univ. at College Station'\n",
       "207. 'Texas A&amp;M University at Galveston'\n",
       "208. 'Texas Christian University'\n",
       "209. 'Texas Lutheran College'\n",
       "210. 'Texas Southern University'\n",
       "211. 'Texas Wesleyan University'\n",
       "212. 'The Citadel'\n",
       "213. 'Thiel College'\n",
       "214. 'Tiffin University'\n",
       "215. 'Transylvania University'\n",
       "216. 'Trenton State College'\n",
       "217. 'Tri-State University'\n",
       "218. 'Trinity College CT'\n",
       "219. 'Trinity College DC'\n",
       "220. 'Trinity College VT'\n",
       "221. 'Trinity University'\n",
       "222. 'Tulane University'\n",
       "223. 'Tusculum College'\n",
       "224. 'Tuskegee University'\n",
       "225. 'Union College KY'\n",
       "226. 'Union College NY'\n",
       "227. 'Univ. of Wisconsin at OshKosh'\n",
       "228. 'University of Alabama at Birmingham'\n",
       "229. 'University of Arkansas at Fayetteville'\n",
       "230. 'University of California at Berkeley'\n",
       "231. 'University of California at Irvine'\n",
       "232. 'University of Central Florida'\n",
       "233. 'University of Charleston'\n",
       "234. 'University of Chicago'\n",
       "235. 'University of Cincinnati'\n",
       "236. 'University of Connecticut at Storrs'\n",
       "237. 'University of Dallas'\n",
       "238. 'University of Dayton'\n",
       "239. 'University of Delaware'\n",
       "240. 'University of Denver'\n",
       "241. 'University of Detroit Mercy'\n",
       "242. 'University of Dubuque'\n",
       "243. 'University of Evansville'\n",
       "244. 'University of Florida'\n",
       "245. 'University of Georgia'\n",
       "246. 'University of Hartford'\n",
       "247. 'University of Hawaii at Manoa'\n",
       "248. 'University of Illinois - Urbana'\n",
       "249. 'University of Illinois at Chicago'\n",
       "250. 'University of Indianapolis'\n",
       "251. 'University of Kansas'\n",
       "252. 'University of La Verne'\n",
       "253. 'University of Louisville'\n",
       "254. 'University of Maine at Farmington'\n",
       "255. 'University of Maine at Machias'\n",
       "256. 'University of Maine at Presque Isle'\n",
       "257. 'University of Maryland at Baltimore County'\n",
       "258. 'University of Maryland at College Park'\n",
       "259. 'University of Massachusetts at Amherst'\n",
       "260. 'University of Massachusetts at Dartmouth'\n",
       "261. 'University of Miami'\n",
       "262. 'University of Michigan at Ann Arbor'\n",
       "263. 'University of Minnesota at Duluth'\n",
       "264. 'University of Minnesota at Morris'\n",
       "265. 'University of Minnesota Twin Cities'\n",
       "266. 'University of Mississippi'\n",
       "267. 'University of Missouri at Columbia'\n",
       "268. 'University of Missouri at Rolla'\n",
       "269. 'University of Missouri at Saint Louis'\n",
       "270. 'University of Mobile'\n",
       "271. 'University of Montevallo'\n",
       "272. 'University of Nebraska at Lincoln'\n",
       "273. 'University of New England'\n",
       "274. 'University of New Hampshire'\n",
       "275. 'University of North Carolina at Asheville'\n",
       "276. 'University of North Carolina at Chapel Hill'\n",
       "277. 'University of North Carolina at Charlotte'\n",
       "278. 'University of North Carolina at Greensboro'\n",
       "279. 'University of North Carolina at Wilmington'\n",
       "280. 'University of North Dakota'\n",
       "281. 'University of North Florida'\n",
       "282. 'University of North Texas'\n",
       "283. 'University of Northern Colorado'\n",
       "284. 'University of Northern Iowa'\n",
       "285. 'University of Notre Dame'\n",
       "286. 'University of Oklahoma'\n",
       "287. 'University of Oregon'\n",
       "288. 'University of Pennsylvania'\n",
       "289. 'University of Pittsburgh-Main Campus'\n",
       "290. 'University of Portland'\n",
       "291. 'University of Puget Sound'\n",
       "292. 'University of Rhode Island'\n",
       "293. 'University of Richmond'\n",
       "294. 'University of Rochester'\n",
       "295. 'University of San Diego'\n",
       "296. 'University of San Francisco'\n",
       "297. 'University of Sci. and Arts of Oklahoma'\n",
       "298. 'University of Scranton'\n",
       "299. 'University of South Carolina at Aiken'\n",
       "300. 'University of South Carolina at Columbia'\n",
       "301. 'University of South Florida'\n",
       "302. 'University of Southern California'\n",
       "303. 'University of Southern Colorado'\n",
       "304. 'University of Southern Indiana'\n",
       "305. 'University of Southern Mississippi'\n",
       "306. 'University of St. Thomas MN'\n",
       "307. 'University of St. Thomas TX'\n",
       "308. 'University of Tennessee at Knoxville'\n",
       "309. 'University of Texas at Arlington'\n",
       "310. 'University of Texas at Austin'\n",
       "311. 'University of Texas at San Antonio'\n",
       "312. 'University of the Arts'\n",
       "313. 'University of the Pacific'\n",
       "314. 'University of the South'\n",
       "315. 'University of Tulsa'\n",
       "316. 'University of Utah'\n",
       "317. 'University of Vermont'\n",
       "318. 'University of Virginia'\n",
       "319. 'University of Washington'\n",
       "320. 'University of West Florida'\n",
       "321. 'University of Wisconsin-Stout'\n",
       "322. 'University of Wisconsin-Superior'\n",
       "323. 'University of Wisconsin-Whitewater'\n",
       "324. 'University of Wisconsin at Green Bay'\n",
       "325. 'University of Wisconsin at Madison'\n",
       "326. 'University of Wisconsin at Milwaukee'\n",
       "327. 'University of Wyoming'\n",
       "328. 'Upper Iowa University'\n",
       "329. 'Ursinus College'\n",
       "330. 'Ursuline College'\n",
       "331. 'Valley City State University'\n",
       "332. 'Valparaiso University'\n",
       "333. 'Vanderbilt University'\n",
       "334. 'Vassar College'\n",
       "335. 'Villanova University'\n",
       "336. 'Virginia Commonwealth University'\n",
       "337. 'Virginia State University'\n",
       "338. 'Virginia Tech'\n",
       "339. 'Virginia Union University'\n",
       "340. 'Virginia Wesleyan College'\n",
       "341. 'Viterbo College'\n",
       "342. 'Voorhees College'\n",
       "343. 'Wabash College'\n",
       "344. 'Wagner College'\n",
       "345. 'Wake Forest University'\n",
       "346. 'Walsh University'\n",
       "347. 'Warren Wilson College'\n",
       "348. 'Wartburg College'\n",
       "349. 'Washington and Jefferson College'\n",
       "350. 'Washington and Lee University'\n",
       "351. 'Washington College'\n",
       "352. 'Washington State University'\n",
       "353. 'Washington University'\n",
       "354. 'Wayne State College'\n",
       "355. 'Waynesburg College'\n",
       "356. 'Webber College'\n",
       "357. 'Webster University'\n",
       "358. 'Wellesley College'\n",
       "359. 'Wells College'\n",
       "360. 'Wentworth Institute of Technology'\n",
       "361. 'Wesley College'\n",
       "362. 'Wesleyan University'\n",
       "363. 'West Chester University of Penn.'\n",
       "364. 'West Liberty State College'\n",
       "365. 'West Virginia Wesleyan College'\n",
       "366. 'Western Carolina University'\n",
       "367. 'Western Maryland College'\n",
       "368. 'Western Michigan University'\n",
       "369. 'Western New England College'\n",
       "370. 'Western State College of Colorado'\n",
       "371. 'Western Washington University'\n",
       "372. 'Westfield State College'\n",
       "373. 'Westminster College MO'\n",
       "374. 'Westminster College'\n",
       "375. 'Westminster College of Salt Lake City'\n",
       "376. 'Westmont College'\n",
       "377. 'Wheaton College IL'\n",
       "378. 'Westminster College PA'\n",
       "379. 'Wheeling Jesuit College'\n",
       "380. 'Whitman College'\n",
       "381. 'Whittier College'\n",
       "382. 'Whitworth College'\n",
       "383. 'Widener University'\n",
       "384. 'Wilkes University'\n",
       "385. 'Willamette University'\n",
       "386. 'William Jewell College'\n",
       "387. 'William Woods University'\n",
       "388. 'Williams College'\n",
       "389. 'Wilson College'\n",
       "390. 'Wingate College'\n",
       "391. 'Winona State University'\n",
       "392. 'Winthrop University'\n",
       "393. 'Wisconsin Lutheran College'\n",
       "394. 'Wittenberg University'\n",
       "395. 'Wofford College'\n",
       "396. 'Worcester Polytechnic Institute'\n",
       "397. 'Worcester State College'\n",
       "398. 'Xavier University'\n",
       "399. 'Xavier University of Louisiana'\n",
       "400. 'Yale University'\n",
       "401. 'York College of Pennsylvania'\n",
       "\n",
       "\n"
      ],
      "text/plain": [
       "  [1] \"Abilene Christian University\"                 \n",
       "  [2] \"Adelphi University\"                           \n",
       "  [3] \"Adrian College\"                               \n",
       "  [4] \"Agnes Scott College\"                          \n",
       "  [5] \"Alaska Pacific University\"                    \n",
       "  [6] \"Albertson College\"                            \n",
       "  [7] \"Albertus Magnus College\"                      \n",
       "  [8] \"Albion College\"                               \n",
       "  [9] \"Albright College\"                             \n",
       " [10] \"Alderson-Broaddus College\"                    \n",
       " [11] \"Alfred University\"                            \n",
       " [12] \"Allegheny College\"                            \n",
       " [13] \"Allentown Coll. of St. Francis de Sales\"      \n",
       " [14] \"Alma College\"                                 \n",
       " [15] \"Alverno College\"                              \n",
       " [16] \"American International College\"               \n",
       " [17] \"Amherst College\"                              \n",
       " [18] \"Anderson University\"                          \n",
       " [19] \"Andrews University\"                           \n",
       " [20] \"Angelo State University\"                      \n",
       " [21] \"Antioch University\"                           \n",
       " [22] \"Appalachian State University\"                 \n",
       " [23] \"Aquinas College\"                              \n",
       " [24] \"Arizona State University Main campus\"         \n",
       " [25] \"Arkansas College (Lyon College)\"              \n",
       " [26] \"Arkansas Tech University\"                     \n",
       " [27] \"Assumption College\"                           \n",
       " [28] \"Auburn University-Main Campus\"                \n",
       " [29] \"Augsburg College\"                             \n",
       " [30] \"Augustana College IL\"                         \n",
       " [31] \"Augustana College\"                            \n",
       " [32] \"Austin College\"                               \n",
       " [33] \"Averett College\"                              \n",
       " [34] \"Baker University\"                             \n",
       " [35] \"Baldwin-Wallace College\"                      \n",
       " [36] \"Barat College\"                                \n",
       " [37] \"Bard College\"                                 \n",
       " [38] \"Barnard College\"                              \n",
       " [39] \"Barry University\"                             \n",
       " [40] \"Baylor University\"                            \n",
       " [41] \"Beaver College\"                               \n",
       " [42] \"Bellarmine College\"                           \n",
       " [43] \"Belmont Abbey College\"                        \n",
       " [44] \"Belmont University\"                           \n",
       " [45] \"Beloit College\"                               \n",
       " [46] \"Bemidji State University\"                     \n",
       " [47] \"Benedictine College\"                          \n",
       " [48] \"Bennington College\"                           \n",
       " [49] \"Bentley College\"                              \n",
       " [50] \"Berry College\"                                \n",
       " [51] \"Bethany College\"                              \n",
       " [52] \"Bethel College KS\"                            \n",
       " [53] \"Bethel College\"                               \n",
       " [54] \"Bethune Cookman College\"                      \n",
       " [55] \"Birmingham-Southern College\"                  \n",
       " [56] \"Blackburn College\"                            \n",
       " [57] \"Bloomsburg Univ. of Pennsylvania\"             \n",
       " [58] \"Bluefield College\"                            \n",
       " [59] \"Bluffton College\"                             \n",
       " [60] \"Boston University\"                            \n",
       " [61] \"Bowdoin College\"                              \n",
       " [62] \"Bowling Green State University\"               \n",
       " [63] \"Bradford College\"                             \n",
       " [64] \"Bradley University\"                           \n",
       " [65] \"Brandeis University\"                          \n",
       " [66] \"Brenau University\"                            \n",
       " [67] \"Brewton-Parker College\"                       \n",
       " [68] \"Briar Cliff College\"                          \n",
       " [69] \"Bridgewater College\"                          \n",
       " [70] \"Brigham Young University at Provo\"            \n",
       " [71] \"Brown University\"                             \n",
       " [72] \"Bryn Mawr College\"                            \n",
       " [73] \"Bucknell University\"                          \n",
       " [74] \"Buena Vista College\"                          \n",
       " [75] \"Butler University\"                            \n",
       " [76] \"Cabrini College\"                              \n",
       " [77] \"Caldwell College\"                             \n",
       " [78] \"California Lutheran University\"               \n",
       " [79] \"California Polytechnic-San Luis\"              \n",
       " [80] \"California State University at Fresno\"        \n",
       " [81] \"Calvin College\"                               \n",
       " [82] \"Campbell University\"                          \n",
       " [83] \"Campbellsville College\"                       \n",
       " [84] \"Canisius College\"                             \n",
       " [85] \"Capital University\"                           \n",
       " [86] \"Capitol College\"                              \n",
       " [87] \"Carleton College\"                             \n",
       " [88] \"Carnegie Mellon University\"                   \n",
       " [89] \"Carroll College\"                              \n",
       " [90] \"Carson-Newman College\"                        \n",
       " [91] \"Carthage College\"                             \n",
       " [92] \"Case Western Reserve University\"              \n",
       " [93] \"Castleton State College\"                      \n",
       " [94] \"Catawba College\"                              \n",
       " [95] \"Catholic University of America\"               \n",
       " [96] \"Cazenovia College\"                            \n",
       " [97] \"Cedar Crest College\"                          \n",
       " [98] \"Cedarville College\"                           \n",
       " [99] \"Centenary College\"                            \n",
       "[100] \"Centenary College of Louisiana\"               \n",
       "[101] \"Center for Creative Studies\"                  \n",
       "[102] \"Central College\"                              \n",
       "[103] \"Central Connecticut State University\"         \n",
       "[104] \"Central Missouri State University\"            \n",
       "[105] \"Central Washington University\"                \n",
       "[106] \"Central Wesleyan College\"                     \n",
       "[107] \"Centre College\"                               \n",
       "[108] \"Chapman University\"                           \n",
       "[109] \"Chatham College\"                              \n",
       "[110] \"Chestnut Hill College\"                        \n",
       "[111] \"Christendom College\"                          \n",
       "[112] \"Christian Brothers University\"                \n",
       "[113] \"Christopher Newport University\"               \n",
       "[114] \"Claflin College\"                              \n",
       "[115] \"Claremont McKenna College\"                    \n",
       "[116] \"Clark University\"                             \n",
       "[117] \"Clarke College\"                               \n",
       "[118] \"Clarkson University\"                          \n",
       "[119] \"Clemson University\"                           \n",
       "[120] \"Clinch Valley Coll. of  the Univ. of Virginia\"\n",
       "[121] \"Coe College\"                                  \n",
       "[122] \"Coker College\"                                \n",
       "[123] \"Colby College\"                                \n",
       "[124] \"Colgate University\"                           \n",
       "[125] \"College Misericordia\"                         \n",
       "[126] \"College of Charleston\"                        \n",
       "[127] \"College of Mount St. Joseph\"                  \n",
       "[128] \"College of Mount St. Vincent\"                 \n",
       "[129] \"College of Notre Dame\"                        \n",
       "[130] \"College of Notre Dame of Maryland\"            \n",
       "[131] \"College of Saint Benedict\"                    \n",
       "[132] \"College of Saint Catherine\"                   \n",
       "[133] \"College of Saint Elizabeth\"                   \n",
       "[134] \"College of Saint Rose\"                        \n",
       "[135] \"College of Santa Fe\"                          \n",
       "[136] \"College of St. Joseph\"                        \n",
       "[137] \"College of St. Scholastica\"                   \n",
       "[138] \"College of the Holy Cross\"                    \n",
       "[139] \"College of William and Mary\"                  \n",
       "[140] \"College of Wooster\"                           \n",
       "[141] \"Colorado College\"                             \n",
       "[142] \"Colorado State University\"                    \n",
       "[143] \"Columbia College MO\"                          \n",
       "[144] \"Columbia College\"                             \n",
       "[145] \"Columbia University\"                          \n",
       "[146] \"Concordia College at St. Paul\"                \n",
       "[147] \"Concordia Lutheran College\"                   \n",
       "[148] \"Concordia University CA\"                      \n",
       "[149] \"Concordia University\"                         \n",
       "[150] \"Connecticut College\"                          \n",
       "[151] \"Converse College\"                             \n",
       "[152] \"Cornell College\"                              \n",
       "[153] \"Creighton University\"                         \n",
       "[154] \"Culver-Stockton College\"                      \n",
       "[155] \"Cumberland College\"                           \n",
       "[156] \"D'Youville College\"                           \n",
       "[157] \"Dana College\"                                 \n",
       "[158] \"Daniel Webster College\"                       \n",
       "[159] \"Dartmouth College\"                            \n",
       "[160] \"Davidson College\"                             \n",
       "[161] \"Defiance College\"                             \n",
       "[162] \"Delta State University\"                       \n",
       "[163] \"Denison University\"                           \n",
       "[164] \"DePauw University\"                            \n",
       "[165] \"Dickinson College\"                            \n",
       "[166] \"Dickinson State University\"                   \n",
       "[167] \"Dillard University\"                           \n",
       "[168] \"Doane College\"                                \n",
       "[169] \"Dominican College of Blauvelt\"                \n",
       "[170] \"Dordt College\"                                \n",
       "[171] \"Dowling College\"                              \n",
       "[172] \"Drake University\"                             \n",
       "[173] \"Drew University\"                              \n",
       "[174] \"Drury College\"                                \n",
       "[175] \"Duke University\"                              \n",
       "[176] \"Earlham College\"                              \n",
       "[177] \"East Carolina University\"                     \n",
       "[178] \"East Tennessee State University\"              \n",
       "[179] \"East Texas Baptist University\"                \n",
       "[180] \"Eastern College\"                              \n",
       "[181] \"Eastern Connecticut State University\"         \n",
       "[182] \"Eastern Illinois University\"                  \n",
       "[183] \"Eastern Mennonite College\"                    \n",
       "[184] \"Eastern Nazarene College\"                     \n",
       "[185] \"Eckerd College\"                               \n",
       "[186] \"Elizabethtown College\"                        \n",
       "[187] \"Elmira College\"                               \n",
       "[188] \"Elms College\"                                 \n",
       "[189] \"Elon College\"                                 \n",
       "[190] \"Embry Riddle Aeronautical University\"         \n",
       "[191] \"Emory & Henry College\"                        \n",
       "[192] \"Emory University\"                             \n",
       "[193] \"Emporia State University\"                     \n",
       "[194] \"Erskine College\"                              \n",
       "[195] \"Eureka College\"                               \n",
       "[196] \"Evergreen State College\"                      \n",
       "[197] \"Fairfield University\"                         \n",
       "[198] \"Fayetteville State University\"                \n",
       "[199] \"Ferrum College\"                               \n",
       "[200] \"Flagler College\"                              \n",
       "[201] \"Florida Institute of Technology\"              \n",
       "[202] \"Florida International University\"             \n",
       "[203] \"Florida Southern College\"                     \n",
       "[204] \"Florida State University\"                     \n",
       "[205] \"Fontbonne College\"                            \n",
       "[206] \"Fordham University\"                           \n",
       "[207] \"Fort Lewis College\"                           \n",
       "[208] \"Francis Marion University\"                    \n",
       "[209] \"Franciscan University of Steubenville\"        \n",
       "[210] \"Franklin College\"                             \n",
       "[211] \"Franklin Pierce College\"                      \n",
       "[212] \"Freed-Hardeman University\"                    \n",
       "[213] \"Fresno Pacific College\"                       \n",
       "[214] \"Furman University\"                            \n",
       "[215] \"Gannon University\"                            \n",
       "[216] \"Gardner Webb University\"                      \n",
       "[217] \"Geneva College\"                               \n",
       "[218] \"George Fox College\"                           \n",
       "[219] \"George Mason University\"                      \n",
       "[220] \"George Washington University\"                 \n",
       "[221] \"Georgetown College\"                           \n",
       "[222] \"Georgetown University\"                        \n",
       "[223] \"Georgia Institute of Technology\"              \n",
       "[224] \"Georgia State University\"                     \n",
       "[225] \"Georgian Court College\"                       \n",
       "[226] \"Gettysburg College\"                           \n",
       "[227] \"Goldey Beacom College\"                        \n",
       "[228] \"Gonzaga University\"                           \n",
       "[229] \"Gordon College\"                               \n",
       "[230] \"Goshen College\"                               \n",
       "[231] \"Goucher College\"                              \n",
       "[232] \"Grace College and Seminary\"                   \n",
       "[233] \"Graceland College\"                            \n",
       "[234] \"Grand Valley State University\"                \n",
       "[235] \"Green Mountain College\"                       \n",
       "[236] \"Greensboro College\"                           \n",
       "[237] \"Greenville College\"                           \n",
       "[238] \"Grinnell College\"                             \n",
       "[239] \"Grove City College\"                           \n",
       "[240] \"Guilford College\"                             \n",
       "[241] \"Gustavus Adolphus College\"                    \n",
       "[242] \"Gwynedd Mercy College\"                        \n",
       "[243] \"Hamilton College\"                             \n",
       "[244] \"Hamline University\"                           \n",
       "[245] \"Hampden - Sydney College\"                     \n",
       "[246] \"Hampton University\"                           \n",
       "[247] \"Hanover College\"                              \n",
       "[248] \"Hardin-Simmons University\"                    \n",
       "[249] \"Harding University\"                           \n",
       "[250] \"Hartwick College\"                             \n",
       "[251] \"Harvard University\"                           \n",
       "[252] \"Harvey Mudd College\"                          \n",
       "[253] \"Hastings College\"                             \n",
       "[254] \"Hendrix College\"                              \n",
       "[255] \"Hillsdale College\"                            \n",
       "[256] \"Hiram College\"                                \n",
       "[257] \"Hobart and William Smith Colleges\"            \n",
       "[258] \"Hofstra University\"                           \n",
       "[259] \"Hollins College\"                              \n",
       "[260] \"Hood College\"                                 \n",
       "[261] \"Hope College\"                                 \n",
       "[262] \"Houghton College\"                             \n",
       "[263] \"Huntingdon College\"                           \n",
       "[264] \"Huntington College\"                           \n",
       "[265] \"Huron University\"                             \n",
       "[266] \"Husson College\"                               \n",
       "[267] \"Illinois Benedictine College\"                 \n",
       "[268] \"Illinois College\"                             \n",
       "[269] \"Illinois Institute of Technology\"             \n",
       "[270] \"Illinois State University\"                    \n",
       "[271] \"Illinois Wesleyan University\"                 \n",
       "[272] \"Immaculata College\"                           \n",
       "[273] \"Incarnate Word College\"                       \n",
       "[274] \"Indiana State University\"                     \n",
       "[275] \"Indiana University at Bloomington\"            \n",
       "[276] \"Indiana Wesleyan University\"                  \n",
       "[277] \"Iona College\"                                 \n",
       "[278] \"Iowa State University\"                        \n",
       "[279] \"Ithaca College\"                               \n",
       "[280] \"James Madison University\"                     \n",
       "[281] \"Jamestown College\"                            \n",
       "[282] \"Jersey City State College\"                    \n",
       "[283] \"John Brown University\"                        \n",
       "[284] \"John Carroll University\"                      \n",
       "[285] \"Johns Hopkins University\"                     \n",
       "[286] \"Johnson State College\"                        \n",
       "[287] \"Judson College\"                               \n",
       "[288] \"Juniata College\"                              \n",
       "[289] \"Kansas State University\"                      \n",
       "[290] \"Kansas Wesleyan University\"                   \n",
       "[291] \"Keene State College\"                          \n",
       "[292] \"Kentucky Wesleyan College\"                    \n",
       "[293] \"Kenyon College\"                               \n",
       "[294] \"Keuka College\"                                \n",
       "[295] \"King's College\"                               \n",
       "[296] \"King College\"                                 \n",
       "[297] \"Knox College\"                                 \n",
       "[298] \"La Roche College\"                             \n",
       "[299] \"La Salle University\"                          \n",
       "[300] \"Lafayette College\"                            \n",
       "[301] \"LaGrange College\"                             \n",
       "[302] \"Lake Forest College\"                          \n",
       "[303] \"Lakeland College\"                             \n",
       "[304] \"Lamar University\"                             \n",
       "[305] \"Lambuth University\"                           \n",
       "[306] \"Lander University\"                            \n",
       "[307] \"Lawrence University\"                          \n",
       "[308] \"Le Moyne College\"                             \n",
       "[309] \"Lebanon Valley College\"                       \n",
       "[310] \"Lehigh University\"                            \n",
       "[311] \"Lenoir-Rhyne College\"                         \n",
       "[312] \"Lesley College\"                               \n",
       "[313] \"LeTourneau University\"                        \n",
       "[314] \"Lewis and Clark College\"                      \n",
       "[315] \"Lewis University\"                             \n",
       "[316] \"Lincoln Memorial University\"                  \n",
       "[317] \"Lincoln University\"                           \n",
       "[318] \"Lindenwood College\"                           \n",
       "[319] \"Linfield College\"                             \n",
       "[320] \"Livingstone College\"                          \n",
       "[321] \"Lock Haven University of Pennsylvania\"        \n",
       "[322] \"Longwood College\"                             \n",
       "[323] \"Loras College\"                                \n",
       "[324] \"Louisiana College\"                            \n",
       "[325] \"Louisiana State University at Baton Rouge\"    \n",
       "[326] \"Louisiana Tech University\"                    \n",
       "[327] \"Loyola College\"                               \n",
       "[328] \"Loyola Marymount University\"                  \n",
       "[329] \"Loyola University\"                            \n",
       "[330] \"Loyola University Chicago\"                    \n",
       "[331] \"Luther College\"                               \n",
       "[332] \"Lycoming College\"                             \n",
       "[333] \"Lynchburg College\"                            \n",
       "[334] \"Lyndon State College\"                         \n",
       "[335] \"Macalester College\"                           \n",
       "[336] \"MacMurray College\"                            \n",
       "[337] \"Malone College\"                               \n",
       "[338] \"Manchester College\"                           \n",
       "[339] \"Manhattan College\"                            \n",
       "[340] \"Manhattanville College\"                       \n",
       "[341] \"Mankato State University\"                     \n",
       "[342] \"Marian College of Fond du Lac\"                \n",
       "[343] \"Marietta College\"                             \n",
       "[344] \"Marist College\"                               \n",
       "[345] \"Marquette University\"                         \n",
       "[346] \"Marshall University\"                          \n",
       "[347] \"Mary Baldwin College\"                         \n",
       "[348] \"Mary Washington College\"                      \n",
       "[349] \"Marymount College Tarrytown\"                  \n",
       "[350] \"Marymount Manhattan College\"                  \n",
       "[351] \"Marymount University\"                         \n",
       "[352] \"Maryville College\"                            \n",
       "[353] \"Maryville University\"                         \n",
       "[354] \"Marywood College\"                             \n",
       "[355] \"Massachusetts Institute of Technology\"        \n",
       "[356] \"Mayville State University\"                    \n",
       "[357] \"McKendree College\"                            \n",
       "[358] \"McMurry University\"                           \n",
       "[359] \"McPherson College\"                            \n",
       "[360] \"Mercer University\"                            \n",
       "[361] \"Mercyhurst College\"                           \n",
       "[362] \"Meredith College\"                             \n",
       "[363] \"Merrimack College\"                            \n",
       "[364] \"Mesa State College\"                           \n",
       "[365] \"Messiah College\"                              \n",
       "[366] \"Miami University at Oxford\"                   \n",
       "[367] \"Michigan State University\"                    \n",
       "[368] \"Michigan Technological University\"            \n",
       "[369] \"MidAmerica Nazarene College\"                  \n",
       "[370] \"Millersville University of Penn.\"             \n",
       "[371] \"Milligan College\"                             \n",
       "[372] \"Millikin University\"                          \n",
       "[373] \"Millsaps College\"                             \n",
       "[374] \"Milwaukee School of Engineering\"              \n",
       "[375] \"Mississippi College\"                          \n",
       "[376] \"Mississippi State University\"                 \n",
       "[377] \"Mississippi University for Women\"             \n",
       "[378] \"Missouri Southern State College\"              \n",
       "[379] \"Missouri Valley College\"                      \n",
       "[380] \"Monmouth College IL\"                          \n",
       "[381] \"Monmouth College\"                             \n",
       "[382] \"Montana College of Mineral Sci. & Tech.\"      \n",
       "[383] \"Montana State University\"                     \n",
       "[384] \"Montclair State University\"                   \n",
       "[385] \"Montreat-Anderson College\"                    \n",
       "[386] \"Moorhead State University\"                    \n",
       "[387] \"Moravian College\"                             \n",
       "[388] \"Morehouse College\"                            \n",
       "[389] \"Morningside College\"                          \n",
       "[390] \"Morris College\"                               \n",
       "[391] \"Mount Holyoke College\"                        \n",
       "[392] \"Mount Marty College\"                          \n",
       "[393] \"Mount Mary College\"                           \n",
       "[394] \"Mount Mercy College\"                          \n",
       "[395] \"Mount Saint Clare College\"                    \n",
       "[396] \"Mount Saint Mary's College\"                   \n",
       "[397] \"Mount Saint Mary College\"                     \n",
       "[398] \"Mount St. Mary's College\"                     \n",
       "[399] \"Mount Union College\"                          \n",
       "[400] \"Mount Vernon Nazarene College\"                \n",
       "[401] \"Muhlenberg College\"                           \n",
       "[402] \"Murray State University\"                      \n",
       "[403] \"Muskingum College\"                            \n",
       "[404] \"National-Louis University\"                    \n",
       "[405] \"Nazareth College of Rochester\"                \n",
       "[406] \"New Jersey Institute of Technology\"           \n",
       "[407] \"New Mexico Institute of Mining and Tech.\"     \n",
       "[408] \"New York University\"                          \n",
       "[409] \"Newberry College\"                             \n",
       "[410] \"Niagara University\"                           \n",
       "[411] \"North Adams State College\"                    \n",
       "[412] \"North Carolina A. & T. State University\"      \n",
       "[413] \"North Carolina State University at Raleigh\"   \n",
       "[414] \"North Carolina Wesleyan College\"              \n",
       "[415] \"North Central College\"                        \n",
       "[416] \"North Dakota State University\"                \n",
       "[417] \"North Park College\"                           \n",
       "[418] \"Northeast Missouri State University\"          \n",
       "[419] \"Northeastern University\"                      \n",
       "[420] \"Northern Arizona University\"                  \n",
       "[421] \"Northern Illinois University\"                 \n",
       "[422] \"Northwest Missouri State University\"          \n",
       "[423] \"Northwest Nazarene College\"                   \n",
       "[424] \"Northwestern College\"                         \n",
       "[425] \"Northwestern University\"                      \n",
       "[426] \"Norwich University\"                           \n",
       "[427] \"Notre Dame College\"                           \n",
       "[428] \"Oakland University\"                           \n",
       "[429] \"Oberlin College\"                              \n",
       "[430] \"Occidental College\"                           \n",
       "[431] \"Oglethorpe University\"                        \n",
       "[432] \"Ohio Northern University\"                     \n",
       "[433] \"Ohio University\"                              \n",
       "[434] \"Ohio Wesleyan University\"                     \n",
       "[435] \"Oklahoma Baptist University\"                  \n",
       "[436] \"Oklahoma Christian University\"                \n",
       "[437] \"Oklahoma State University\"                    \n",
       "[438] \"Otterbein College\"                            \n",
       "[439] \"Ouachita Baptist University\"                  \n",
       "[440] \"Our Lady of the Lake University\"              \n",
       "[441] \"Pace University\"                              \n",
       "[442] \"Pacific Lutheran University\"                  \n",
       "[443] \"Pacific Union College\"                        \n",
       "[444] \"Pacific University\"                           \n",
       "[445] \"Pembroke State University\"                    \n",
       "[446] \"Pennsylvania State Univ. Main Campus\"         \n",
       "[447] \"Pepperdine University\"                        \n",
       "[448] \"Peru State College\"                           \n",
       "[449] \"Pfeiffer College\"                             \n",
       "[450] \"Philadelphia Coll. of Textiles and Sci.\"      \n",
       "[451] \"Phillips University\"                          \n",
       "[452] \"Piedmont College\"                             \n",
       "[453] \"Pikeville College\"                            \n",
       "[454] \"Pitzer College\"                               \n",
       "[455] \"Point Loma Nazarene College\"                  \n",
       "[456] \"Point Park College\"                           \n",
       "[457] \"Polytechnic University\"                       \n",
       "[458] \"Prairie View A. and M. University\"            \n",
       "[459] \"Presbyterian College\"                         \n",
       "[460] \"Princeton University\"                         \n",
       "[461] \"Providence College\"                           \n",
       "[462] \"Purdue University at West Lafayette\"          \n",
       "[463] \"Queens College\"                               \n",
       "[464] \"Quincy University\"                            \n",
       "[465] \"Quinnipiac College\"                           \n",
       "[466] \"Radford University\"                           \n",
       "[467] \"Ramapo College of New Jersey\"                 \n",
       "[468] \"Randolph-Macon College\"                       \n",
       "[469] \"Randolph-Macon Woman's College\"               \n",
       "[470] \"Reed College\"                                 \n",
       "[471] \"Regis College\"                                \n",
       "[472] \"Rensselaer Polytechnic Institute\"             \n",
       "[473] \"Rhodes College\"                               \n",
       "[474] \"Rider University\"                             \n",
       "[475] \"Ripon College\"                                \n",
       "[476] \"Rivier College\"                               \n",
       "[477] \"Roanoke College\"                              \n",
       "[478] \"Rockhurst College\"                            \n",
       "[479] \"Rocky Mountain College\"                       \n",
       "[480] \"Roger Williams University\"                    \n",
       "[481] \"Rollins College\"                              \n",
       "[482] \"Rosary College\"                               \n",
       "[483] \"Rowan College of New Jersey\"                  \n",
       "[484] \"Rutgers at New Brunswick\"                     \n",
       "[485] \"Rutgers State University at Camden\"           \n",
       "[486] \"Rutgers State University at Newark\"           \n",
       "[487] \"Sacred Heart University\"                      \n",
       "[488] \"Saint Ambrose University\"                     \n",
       "[489] \"Saint Anselm College\"                         \n",
       "[490] \"Saint Cloud State University\"                 \n",
       "[491] \"Saint Francis College IN\"                     \n",
       "[492] \"Saint Francis College\"                        \n",
       "[493] \"Saint John's University\"                      \n",
       "[494] \"Saint Joseph's College IN\"                    \n",
       "[495] \"Saint Joseph's College\"                       \n",
       "[496] \"Saint Joseph's University\"                    \n",
       "[497] \"Saint Joseph College\"                         \n",
       "[498] \"Saint Louis University\"                       \n",
       "[499] \"Saint Mary's College\"                         \n",
       "[500] \"Saint Mary's College of Minnesota\"            \n",
       "[501] \"Saint Mary-of-the-Woods College\"              \n",
       "[502] \"Saint Michael's College\"                      \n",
       "[503] \"Saint Olaf College\"                           \n",
       "[504] \"Saint Peter's College\"                        \n",
       "[505] \"Saint Vincent College\"                        \n",
       "[506] \"Saint Xavier University\"                      \n",
       "[507] \"Salem-Teikyo University\"                      \n",
       "[508] \"Salem College\"                                \n",
       "[509] \"Salisbury State University\"                   \n",
       "[510] \"Samford University\"                           \n",
       "[511] \"San Diego State University\"                   \n",
       "[512] \"Santa Clara University\"                       \n",
       "[513] \"Sarah Lawrence College\"                       \n",
       "[514] \"Savannah Coll. of Art and Design\"             \n",
       "[515] \"Schreiner College\"                            \n",
       "[516] \"Scripps College\"                              \n",
       "[517] \"Seattle Pacific University\"                   \n",
       "[518] \"Seattle University\"                           \n",
       "[519] \"Seton Hall University\"                        \n",
       "[520] \"Seton Hill College\"                           \n",
       "[521] \"Shippensburg University of Penn.\"             \n",
       "[522] \"Shorter College\"                              \n",
       "[523] \"Siena College\"                                \n",
       "[524] \"Siena Heights College\"                        \n",
       "[525] \"Simmons College\"                              \n",
       "[526] \"Simpson College\"                              \n",
       "[527] \"Sioux Falls College\"                          \n",
       "[528] \"Skidmore College\"                             \n",
       "[529] \"Smith College\"                                \n",
       "[530] \"South Dakota State University\"                \n",
       "[531] \"Southeast Missouri State University\"          \n",
       "[532] \"Southeastern Oklahoma State Univ.\"            \n",
       "[533] \"Southern California College\"                  \n",
       "[534] \"Southern Illinois University at Edwardsville\" \n",
       "[535] \"Southern Methodist University\"                \n",
       "[536] \"Southwest Baptist University\"                 \n",
       "[537] \"Southwest Missouri State University\"          \n",
       "[538] \"Southwest State University\"                   \n",
       "[539] \"Southwestern Adventist College\"               \n",
       "[540] \"Southwestern College\"                         \n",
       "[541] \"Southwestern University\"                      \n",
       "[542] \"Spalding University\"                          \n",
       "[543] \"Spelman College\"                              \n",
       "[544] \"Spring Arbor College\"                         \n",
       "[545] \"St. Bonaventure University\"                   \n",
       "[546] \"St. John's College\"                           \n",
       "[547] \"St. John Fisher College\"                      \n",
       "[548] \"St. Lawrence University\"                      \n",
       "[549] \"St. Martin's College\"                         \n",
       "[550] \"St. Mary's College of California\"             \n",
       "[551] \"St. Mary's College of Maryland\"               \n",
       "[552] \"St. Mary's University of San Antonio\"         \n",
       "[553] \"St. Norbert College\"                          \n",
       "[554] \"St. Paul's College\"                           \n",
       "[555] \"St. Thomas Aquinas College\"                   \n",
       "[556] \"Stephens College\"                             \n",
       "[557] \"Stetson University\"                           \n",
       "[558] \"Stevens Institute of Technology\"              \n",
       "[559] \"Stockton College of New Jersey\"               \n",
       "[560] \"Stonehill College\"                            \n",
       "[561] \"SUNY at Albany\"                               \n",
       "[562] \"SUNY at Binghamton\"                           \n",
       "[563] \"SUNY at Buffalo\"                              \n",
       "[564] \"SUNY at Stony Brook\"                          \n",
       "[565] \"SUNY College  at Brockport\"                   \n",
       "[566] \"SUNY College  at Oswego\"                      \n",
       "[567] \"SUNY College at Buffalo\"                      \n",
       "[568] \"SUNY College at Cortland\"                     \n",
       "[569] \"SUNY College at Fredonia\"                     \n",
       "[570] \"SUNY College at Geneseo\"                      \n",
       "[571] \"SUNY College at New Paltz\"                    \n",
       "[572] \"SUNY College at Plattsburgh\"                  \n",
       "[573] \"SUNY College at Potsdam\"                      \n",
       "[574] \"SUNY College at Purchase\"                     \n",
       "[575] \"Susquehanna University\"                       \n",
       "[576] \"Sweet Briar College\"                          \n",
       "[577] \"Syracuse University\"                          \n",
       "[578] \"Tabor College\"                                \n",
       "[579] \"Talladega College\"                            \n",
       "[580] \"Taylor University\"                            \n",
       "[581] \"Tennessee Wesleyan College\"                   \n",
       "[582] \"Texas A&M Univ. at College Station\"           \n",
       "[583] \"Texas A&M University at Galveston\"            \n",
       "[584] \"Texas Christian University\"                   \n",
       "[585] \"Texas Lutheran College\"                       \n",
       "[586] \"Texas Southern University\"                    \n",
       "[587] \"Texas Wesleyan University\"                    \n",
       "[588] \"The Citadel\"                                  \n",
       "[589] \"Thiel College\"                                \n",
       "[590] \"Tiffin University\"                            \n",
       "[591] \"Transylvania University\"                      \n",
       "[592] \"Trenton State College\"                        \n",
       "[593] \"Tri-State University\"                         \n",
       "[594] \"Trinity College CT\"                           \n",
       "[595] \"Trinity College DC\"                           \n",
       "[596] \"Trinity College VT\"                           \n",
       "[597] \"Trinity University\"                           \n",
       "[598] \"Tulane University\"                            \n",
       "[599] \"Tusculum College\"                             \n",
       "[600] \"Tuskegee University\"                          \n",
       "[601] \"Union College KY\"                             \n",
       "[602] \"Union College NY\"                             \n",
       "[603] \"Univ. of Wisconsin at OshKosh\"                \n",
       "[604] \"University of Alabama at Birmingham\"          \n",
       "[605] \"University of Arkansas at Fayetteville\"       \n",
       "[606] \"University of California at Berkeley\"         \n",
       "[607] \"University of California at Irvine\"           \n",
       "[608] \"University of Central Florida\"                \n",
       "[609] \"University of Charleston\"                     \n",
       "[610] \"University of Chicago\"                        \n",
       "[611] \"University of Cincinnati\"                     \n",
       "[612] \"University of Connecticut at Storrs\"          \n",
       "[613] \"University of Dallas\"                         \n",
       "[614] \"University of Dayton\"                         \n",
       "[615] \"University of Delaware\"                       \n",
       "[616] \"University of Denver\"                         \n",
       "[617] \"University of Detroit Mercy\"                  \n",
       "[618] \"University of Dubuque\"                        \n",
       "[619] \"University of Evansville\"                     \n",
       "[620] \"University of Florida\"                        \n",
       "[621] \"University of Georgia\"                        \n",
       "[622] \"University of Hartford\"                       \n",
       "[623] \"University of Hawaii at Manoa\"                \n",
       "[624] \"University of Illinois - Urbana\"              \n",
       "[625] \"University of Illinois at Chicago\"            \n",
       "[626] \"University of Indianapolis\"                   \n",
       "[627] \"University of Kansas\"                         \n",
       "[628] \"University of La Verne\"                       \n",
       "[629] \"University of Louisville\"                     \n",
       "[630] \"University of Maine at Farmington\"            \n",
       "[631] \"University of Maine at Machias\"               \n",
       "[632] \"University of Maine at Presque Isle\"          \n",
       "[633] \"University of Maryland at Baltimore County\"   \n",
       "[634] \"University of Maryland at College Park\"       \n",
       "[635] \"University of Massachusetts at Amherst\"       \n",
       "[636] \"University of Massachusetts at Dartmouth\"     \n",
       "[637] \"University of Miami\"                          \n",
       "[638] \"University of Michigan at Ann Arbor\"          \n",
       "[639] \"University of Minnesota at Duluth\"            \n",
       "[640] \"University of Minnesota at Morris\"            \n",
       "[641] \"University of Minnesota Twin Cities\"          \n",
       "[642] \"University of Mississippi\"                    \n",
       "[643] \"University of Missouri at Columbia\"           \n",
       "[644] \"University of Missouri at Rolla\"              \n",
       "[645] \"University of Missouri at Saint Louis\"        \n",
       "[646] \"University of Mobile\"                         \n",
       "[647] \"University of Montevallo\"                     \n",
       "[648] \"University of Nebraska at Lincoln\"            \n",
       "[649] \"University of New England\"                    \n",
       "[650] \"University of New Hampshire\"                  \n",
       "[651] \"University of North Carolina at Asheville\"    \n",
       "[652] \"University of North Carolina at Chapel Hill\"  \n",
       "[653] \"University of North Carolina at Charlotte\"    \n",
       "[654] \"University of North Carolina at Greensboro\"   \n",
       "[655] \"University of North Carolina at Wilmington\"   \n",
       "[656] \"University of North Dakota\"                   \n",
       "[657] \"University of North Florida\"                  \n",
       "[658] \"University of North Texas\"                    \n",
       "[659] \"University of Northern Colorado\"              \n",
       "[660] \"University of Northern Iowa\"                  \n",
       "[661] \"University of Notre Dame\"                     \n",
       "[662] \"University of Oklahoma\"                       \n",
       "[663] \"University of Oregon\"                         \n",
       "[664] \"University of Pennsylvania\"                   \n",
       "[665] \"University of Pittsburgh-Main Campus\"         \n",
       "[666] \"University of Portland\"                       \n",
       "[667] \"University of Puget Sound\"                    \n",
       "[668] \"University of Rhode Island\"                   \n",
       "[669] \"University of Richmond\"                       \n",
       "[670] \"University of Rochester\"                      \n",
       "[671] \"University of San Diego\"                      \n",
       "[672] \"University of San Francisco\"                  \n",
       "[673] \"University of Sci. and Arts of Oklahoma\"      \n",
       "[674] \"University of Scranton\"                       \n",
       "[675] \"University of South Carolina at Aiken\"        \n",
       "[676] \"University of South Carolina at Columbia\"     \n",
       "[677] \"University of South Florida\"                  \n",
       "[678] \"University of Southern California\"            \n",
       "[679] \"University of Southern Colorado\"              \n",
       "[680] \"University of Southern Indiana\"               \n",
       "[681] \"University of Southern Mississippi\"           \n",
       "[682] \"University of St. Thomas MN\"                  \n",
       "[683] \"University of St. Thomas TX\"                  \n",
       "[684] \"University of Tennessee at Knoxville\"         \n",
       "[685] \"University of Texas at Arlington\"             \n",
       "[686] \"University of Texas at Austin\"                \n",
       "[687] \"University of Texas at San Antonio\"           \n",
       "[688] \"University of the Arts\"                       \n",
       "[689] \"University of the Pacific\"                    \n",
       "[690] \"University of the South\"                      \n",
       "[691] \"University of Tulsa\"                          \n",
       "[692] \"University of Utah\"                           \n",
       "[693] \"University of Vermont\"                        \n",
       "[694] \"University of Virginia\"                       \n",
       "[695] \"University of Washington\"                     \n",
       "[696] \"University of West Florida\"                   \n",
       "[697] \"University of Wisconsin-Stout\"                \n",
       "[698] \"University of Wisconsin-Superior\"             \n",
       "[699] \"University of Wisconsin-Whitewater\"           \n",
       "[700] \"University of Wisconsin at Green Bay\"         \n",
       "[701] \"University of Wisconsin at Madison\"           \n",
       "[702] \"University of Wisconsin at Milwaukee\"         \n",
       "[703] \"University of Wyoming\"                        \n",
       "[704] \"Upper Iowa University\"                        \n",
       "[705] \"Ursinus College\"                              \n",
       "[706] \"Ursuline College\"                             \n",
       "[707] \"Valley City State University\"                 \n",
       "[708] \"Valparaiso University\"                        \n",
       "[709] \"Vanderbilt University\"                        \n",
       "[710] \"Vassar College\"                               \n",
       "[711] \"Villanova University\"                         \n",
       "[712] \"Virginia Commonwealth University\"             \n",
       "[713] \"Virginia State University\"                    \n",
       "[714] \"Virginia Tech\"                                \n",
       "[715] \"Virginia Union University\"                    \n",
       "[716] \"Virginia Wesleyan College\"                    \n",
       "[717] \"Viterbo College\"                              \n",
       "[718] \"Voorhees College\"                             \n",
       "[719] \"Wabash College\"                               \n",
       "[720] \"Wagner College\"                               \n",
       "[721] \"Wake Forest University\"                       \n",
       "[722] \"Walsh University\"                             \n",
       "[723] \"Warren Wilson College\"                        \n",
       "[724] \"Wartburg College\"                             \n",
       "[725] \"Washington and Jefferson College\"             \n",
       "[726] \"Washington and Lee University\"                \n",
       "[727] \"Washington College\"                           \n",
       "[728] \"Washington State University\"                  \n",
       "[729] \"Washington University\"                        \n",
       "[730] \"Wayne State College\"                          \n",
       "[731] \"Waynesburg College\"                           \n",
       "[732] \"Webber College\"                               \n",
       "[733] \"Webster University\"                           \n",
       "[734] \"Wellesley College\"                            \n",
       "[735] \"Wells College\"                                \n",
       "[736] \"Wentworth Institute of Technology\"            \n",
       "[737] \"Wesley College\"                               \n",
       "[738] \"Wesleyan University\"                          \n",
       "[739] \"West Chester University of Penn.\"             \n",
       "[740] \"West Liberty State College\"                   \n",
       "[741] \"West Virginia Wesleyan College\"               \n",
       "[742] \"Western Carolina University\"                  \n",
       "[743] \"Western Maryland College\"                     \n",
       "[744] \"Western Michigan University\"                  \n",
       "[745] \"Western New England College\"                  \n",
       "[746] \"Western State College of Colorado\"            \n",
       "[747] \"Western Washington University\"                \n",
       "[748] \"Westfield State College\"                      \n",
       "[749] \"Westminster College MO\"                       \n",
       "[750] \"Westminster College\"                          \n",
       "[751] \"Westminster College of Salt Lake City\"        \n",
       "[752] \"Westmont College\"                             \n",
       "[753] \"Wheaton College IL\"                           \n",
       "[754] \"Westminster College PA\"                       \n",
       "[755] \"Wheeling Jesuit College\"                      \n",
       "[756] \"Whitman College\"                              \n",
       "[757] \"Whittier College\"                             \n",
       "[758] \"Whitworth College\"                            \n",
       "[759] \"Widener University\"                           \n",
       "[760] \"Wilkes University\"                            \n",
       "[761] \"Willamette University\"                        \n",
       "[762] \"William Jewell College\"                       \n",
       "[763] \"William Woods University\"                     \n",
       "[764] \"Williams College\"                             \n",
       "[765] \"Wilson College\"                               \n",
       "[766] \"Wingate College\"                              \n",
       "[767] \"Winona State University\"                      \n",
       "[768] \"Winthrop University\"                          \n",
       "[769] \"Wisconsin Lutheran College\"                   \n",
       "[770] \"Wittenberg University\"                        \n",
       "[771] \"Wofford College\"                              \n",
       "[772] \"Worcester Polytechnic Institute\"              \n",
       "[773] \"Worcester State College\"                      \n",
       "[774] \"Xavier University\"                            \n",
       "[775] \"Xavier University of Louisiana\"               \n",
       "[776] \"Yale University\"                              \n",
       "[777] \"York College of Pennsylvania\"                 "
      ]
     },
     "metadata": {},
     "output_type": "display_data"
    }
   ],
   "source": [
    "college.names <- rownames(College)\n",
    "college.names"
   ]
  },
  {
   "cell_type": "markdown",
   "metadata": {},
   "source": [
    "1. Obtener un vector que contenga todas las universidades con `Texas` en su nombre. ¿Cuántas hay?"
   ]
  },
  {
   "cell_type": "code",
   "execution_count": 66,
   "metadata": {
    "vscode": {
     "languageId": "r"
    }
   },
   "outputs": [
    {
     "data": {
      "text/html": [
       "11"
      ],
      "text/latex": [
       "11"
      ],
      "text/markdown": [
       "11"
      ],
      "text/plain": [
       "[1] 11"
      ]
     },
     "metadata": {},
     "output_type": "display_data"
    }
   ],
   "source": [
    "college.names %>% str_count(\"Texas\") %>% sum"
   ]
  },
  {
   "cell_type": "markdown",
   "metadata": {},
   "source": [
    "2. Obtener un vector de todas las filas del conjunto de datos College que contengan el término \"University\" (HINT: `str_which`)."
   ]
  },
  {
   "cell_type": "code",
   "execution_count": 67,
   "metadata": {
    "vscode": {
     "languageId": "r"
    }
   },
   "outputs": [
    {
     "data": {
      "text/html": [
       "<style>\n",
       ".list-inline {list-style: none; margin:0; padding: 0}\n",
       ".list-inline>li {display: inline-block}\n",
       ".list-inline>li:not(:last-child)::after {content: \"\\00b7\"; padding: 0 .5ex}\n",
       "</style>\n",
       "<ol class=list-inline><li>TRUE</li><li>TRUE</li><li>FALSE</li><li>FALSE</li><li>TRUE</li><li>FALSE</li><li>FALSE</li><li>FALSE</li><li>FALSE</li><li>FALSE</li><li>TRUE</li><li>FALSE</li><li>FALSE</li><li>FALSE</li><li>FALSE</li><li>FALSE</li><li>FALSE</li><li>TRUE</li><li>TRUE</li><li>TRUE</li><li>TRUE</li><li>TRUE</li><li>FALSE</li><li>TRUE</li><li>FALSE</li><li>TRUE</li><li>FALSE</li><li>TRUE</li><li>FALSE</li><li>FALSE</li><li>FALSE</li><li>FALSE</li><li>FALSE</li><li>TRUE</li><li>FALSE</li><li>FALSE</li><li>FALSE</li><li>FALSE</li><li>TRUE</li><li>TRUE</li><li>FALSE</li><li>FALSE</li><li>FALSE</li><li>TRUE</li><li>FALSE</li><li>TRUE</li><li>FALSE</li><li>FALSE</li><li>FALSE</li><li>FALSE</li><li>FALSE</li><li>FALSE</li><li>FALSE</li><li>FALSE</li><li>FALSE</li><li>FALSE</li><li>FALSE</li><li>FALSE</li><li>FALSE</li><li>TRUE</li><li>FALSE</li><li>TRUE</li><li>FALSE</li><li>TRUE</li><li>TRUE</li><li>TRUE</li><li>FALSE</li><li>FALSE</li><li>FALSE</li><li>TRUE</li><li>TRUE</li><li>FALSE</li><li>TRUE</li><li>FALSE</li><li>TRUE</li><li>FALSE</li><li>FALSE</li><li>TRUE</li><li>FALSE</li><li>TRUE</li><li>FALSE</li><li>TRUE</li><li>FALSE</li><li>FALSE</li><li>TRUE</li><li>FALSE</li><li>FALSE</li><li>TRUE</li><li>FALSE</li><li>FALSE</li><li>FALSE</li><li>TRUE</li><li>FALSE</li><li>FALSE</li><li>TRUE</li><li>FALSE</li><li>FALSE</li><li>FALSE</li><li>FALSE</li><li>FALSE</li><li>FALSE</li><li>FALSE</li><li>TRUE</li><li>TRUE</li><li>TRUE</li><li>FALSE</li><li>FALSE</li><li>TRUE</li><li>FALSE</li><li>FALSE</li><li>FALSE</li><li>TRUE</li><li>TRUE</li><li>FALSE</li><li>FALSE</li><li>TRUE</li><li>FALSE</li><li>TRUE</li><li>TRUE</li><li>FALSE</li><li>FALSE</li><li>FALSE</li><li>FALSE</li><li>TRUE</li><li>FALSE</li><li>FALSE</li><li>FALSE</li><li>FALSE</li><li>FALSE</li><li>FALSE</li><li>FALSE</li><li>FALSE</li><li>FALSE</li><li>FALSE</li><li>FALSE</li><li>FALSE</li><li>FALSE</li><li>FALSE</li><li>FALSE</li><li>FALSE</li><li>FALSE</li><li>TRUE</li><li>FALSE</li><li>FALSE</li><li>TRUE</li><li>FALSE</li><li>FALSE</li><li>TRUE</li><li>TRUE</li><li>FALSE</li><li>FALSE</li><li>FALSE</li><li>TRUE</li><li>FALSE</li><li>FALSE</li><li>FALSE</li><li>FALSE</li><li>FALSE</li><li>FALSE</li><li>FALSE</li><li>FALSE</li><li>TRUE</li><li>TRUE</li><li>TRUE</li><li>FALSE</li><li>TRUE</li><li>TRUE</li><li>FALSE</li><li>FALSE</li><li>FALSE</li><li>FALSE</li><li>TRUE</li><li>TRUE</li><li>FALSE</li><li>TRUE</li><li>FALSE</li><li>TRUE</li><li>TRUE</li><li>TRUE</li><li>FALSE</li><li>TRUE</li><li>TRUE</li><li>FALSE</li><li>FALSE</li><li>FALSE</li><li>FALSE</li><li>FALSE</li><li>FALSE</li><li>FALSE</li><li>TRUE</li><li>FALSE</li><li>TRUE</li><li>TRUE</li><li>FALSE</li><li>FALSE</li><li>FALSE</li><li>TRUE</li><li>TRUE</li><li>FALSE</li><li>FALSE</li><li>⋯</li><li>FALSE</li><li>FALSE</li><li>TRUE</li><li>FALSE</li><li>FALSE</li><li>TRUE</li><li>TRUE</li><li>FALSE</li><li>TRUE</li><li>TRUE</li><li>FALSE</li><li>FALSE</li><li>TRUE</li><li>TRUE</li><li>FALSE</li><li>TRUE</li><li>FALSE</li><li>FALSE</li><li>FALSE</li><li>TRUE</li><li>TRUE</li><li>FALSE</li><li>TRUE</li><li>FALSE</li><li>FALSE</li><li>FALSE</li><li>TRUE</li><li>TRUE</li><li>TRUE</li><li>TRUE</li><li>TRUE</li><li>TRUE</li><li>TRUE</li><li>TRUE</li><li>TRUE</li><li>TRUE</li><li>TRUE</li><li>TRUE</li><li>TRUE</li><li>TRUE</li><li>TRUE</li><li>TRUE</li><li>TRUE</li><li>TRUE</li><li>TRUE</li><li>TRUE</li><li>TRUE</li><li>TRUE</li><li>TRUE</li><li>TRUE</li><li>TRUE</li><li>TRUE</li><li>TRUE</li><li>TRUE</li><li>TRUE</li><li>TRUE</li><li>TRUE</li><li>TRUE</li><li>TRUE</li><li>TRUE</li><li>TRUE</li><li>TRUE</li><li>TRUE</li><li>TRUE</li><li>TRUE</li><li>TRUE</li><li>TRUE</li><li>TRUE</li><li>TRUE</li><li>TRUE</li><li>TRUE</li><li>TRUE</li><li>TRUE</li><li>TRUE</li><li>TRUE</li><li>TRUE</li><li>TRUE</li><li>TRUE</li><li>TRUE</li><li>TRUE</li><li>TRUE</li><li>TRUE</li><li>TRUE</li><li>TRUE</li><li>TRUE</li><li>TRUE</li><li>TRUE</li><li>TRUE</li><li>TRUE</li><li>TRUE</li><li>TRUE</li><li>TRUE</li><li>TRUE</li><li>TRUE</li><li>TRUE</li><li>TRUE</li><li>TRUE</li><li>TRUE</li><li>TRUE</li><li>TRUE</li><li>TRUE</li><li>TRUE</li><li>TRUE</li><li>TRUE</li><li>TRUE</li><li>TRUE</li><li>TRUE</li><li>TRUE</li><li>TRUE</li><li>TRUE</li><li>TRUE</li><li>TRUE</li><li>TRUE</li><li>TRUE</li><li>TRUE</li><li>TRUE</li><li>TRUE</li><li>TRUE</li><li>TRUE</li><li>TRUE</li><li>TRUE</li><li>TRUE</li><li>TRUE</li><li>TRUE</li><li>TRUE</li><li>TRUE</li><li>TRUE</li><li>FALSE</li><li>FALSE</li><li>TRUE</li><li>TRUE</li><li>TRUE</li><li>FALSE</li><li>TRUE</li><li>TRUE</li><li>TRUE</li><li>FALSE</li><li>TRUE</li><li>FALSE</li><li>FALSE</li><li>FALSE</li><li>FALSE</li><li>FALSE</li><li>TRUE</li><li>TRUE</li><li>FALSE</li><li>FALSE</li><li>FALSE</li><li>TRUE</li><li>FALSE</li><li>TRUE</li><li>TRUE</li><li>FALSE</li><li>FALSE</li><li>FALSE</li><li>TRUE</li><li>FALSE</li><li>FALSE</li><li>FALSE</li><li>FALSE</li><li>TRUE</li><li>TRUE</li><li>FALSE</li><li>FALSE</li><li>TRUE</li><li>FALSE</li><li>TRUE</li><li>FALSE</li><li>FALSE</li><li>TRUE</li><li>FALSE</li><li>FALSE</li><li>FALSE</li><li>FALSE</li><li>FALSE</li><li>FALSE</li><li>FALSE</li><li>FALSE</li><li>FALSE</li><li>FALSE</li><li>FALSE</li><li>TRUE</li><li>TRUE</li><li>TRUE</li><li>FALSE</li><li>TRUE</li><li>FALSE</li><li>FALSE</li><li>FALSE</li><li>TRUE</li><li>TRUE</li><li>FALSE</li><li>TRUE</li><li>FALSE</li><li>FALSE</li><li>FALSE</li><li>TRUE</li><li>TRUE</li><li>TRUE</li><li>FALSE</li></ol>\n"
      ],
      "text/latex": [
       "\\begin{enumerate*}\n",
       "\\item TRUE\n",
       "\\item TRUE\n",
       "\\item FALSE\n",
       "\\item FALSE\n",
       "\\item TRUE\n",
       "\\item FALSE\n",
       "\\item FALSE\n",
       "\\item FALSE\n",
       "\\item FALSE\n",
       "\\item FALSE\n",
       "\\item TRUE\n",
       "\\item FALSE\n",
       "\\item FALSE\n",
       "\\item FALSE\n",
       "\\item FALSE\n",
       "\\item FALSE\n",
       "\\item FALSE\n",
       "\\item TRUE\n",
       "\\item TRUE\n",
       "\\item TRUE\n",
       "\\item TRUE\n",
       "\\item TRUE\n",
       "\\item FALSE\n",
       "\\item TRUE\n",
       "\\item FALSE\n",
       "\\item TRUE\n",
       "\\item FALSE\n",
       "\\item TRUE\n",
       "\\item FALSE\n",
       "\\item FALSE\n",
       "\\item FALSE\n",
       "\\item FALSE\n",
       "\\item FALSE\n",
       "\\item TRUE\n",
       "\\item FALSE\n",
       "\\item FALSE\n",
       "\\item FALSE\n",
       "\\item FALSE\n",
       "\\item TRUE\n",
       "\\item TRUE\n",
       "\\item FALSE\n",
       "\\item FALSE\n",
       "\\item FALSE\n",
       "\\item TRUE\n",
       "\\item FALSE\n",
       "\\item TRUE\n",
       "\\item FALSE\n",
       "\\item FALSE\n",
       "\\item FALSE\n",
       "\\item FALSE\n",
       "\\item FALSE\n",
       "\\item FALSE\n",
       "\\item FALSE\n",
       "\\item FALSE\n",
       "\\item FALSE\n",
       "\\item FALSE\n",
       "\\item FALSE\n",
       "\\item FALSE\n",
       "\\item FALSE\n",
       "\\item TRUE\n",
       "\\item FALSE\n",
       "\\item TRUE\n",
       "\\item FALSE\n",
       "\\item TRUE\n",
       "\\item TRUE\n",
       "\\item TRUE\n",
       "\\item FALSE\n",
       "\\item FALSE\n",
       "\\item FALSE\n",
       "\\item TRUE\n",
       "\\item TRUE\n",
       "\\item FALSE\n",
       "\\item TRUE\n",
       "\\item FALSE\n",
       "\\item TRUE\n",
       "\\item FALSE\n",
       "\\item FALSE\n",
       "\\item TRUE\n",
       "\\item FALSE\n",
       "\\item TRUE\n",
       "\\item FALSE\n",
       "\\item TRUE\n",
       "\\item FALSE\n",
       "\\item FALSE\n",
       "\\item TRUE\n",
       "\\item FALSE\n",
       "\\item FALSE\n",
       "\\item TRUE\n",
       "\\item FALSE\n",
       "\\item FALSE\n",
       "\\item FALSE\n",
       "\\item TRUE\n",
       "\\item FALSE\n",
       "\\item FALSE\n",
       "\\item TRUE\n",
       "\\item FALSE\n",
       "\\item FALSE\n",
       "\\item FALSE\n",
       "\\item FALSE\n",
       "\\item FALSE\n",
       "\\item FALSE\n",
       "\\item FALSE\n",
       "\\item TRUE\n",
       "\\item TRUE\n",
       "\\item TRUE\n",
       "\\item FALSE\n",
       "\\item FALSE\n",
       "\\item TRUE\n",
       "\\item FALSE\n",
       "\\item FALSE\n",
       "\\item FALSE\n",
       "\\item TRUE\n",
       "\\item TRUE\n",
       "\\item FALSE\n",
       "\\item FALSE\n",
       "\\item TRUE\n",
       "\\item FALSE\n",
       "\\item TRUE\n",
       "\\item TRUE\n",
       "\\item FALSE\n",
       "\\item FALSE\n",
       "\\item FALSE\n",
       "\\item FALSE\n",
       "\\item TRUE\n",
       "\\item FALSE\n",
       "\\item FALSE\n",
       "\\item FALSE\n",
       "\\item FALSE\n",
       "\\item FALSE\n",
       "\\item FALSE\n",
       "\\item FALSE\n",
       "\\item FALSE\n",
       "\\item FALSE\n",
       "\\item FALSE\n",
       "\\item FALSE\n",
       "\\item FALSE\n",
       "\\item FALSE\n",
       "\\item FALSE\n",
       "\\item FALSE\n",
       "\\item FALSE\n",
       "\\item FALSE\n",
       "\\item TRUE\n",
       "\\item FALSE\n",
       "\\item FALSE\n",
       "\\item TRUE\n",
       "\\item FALSE\n",
       "\\item FALSE\n",
       "\\item TRUE\n",
       "\\item TRUE\n",
       "\\item FALSE\n",
       "\\item FALSE\n",
       "\\item FALSE\n",
       "\\item TRUE\n",
       "\\item FALSE\n",
       "\\item FALSE\n",
       "\\item FALSE\n",
       "\\item FALSE\n",
       "\\item FALSE\n",
       "\\item FALSE\n",
       "\\item FALSE\n",
       "\\item FALSE\n",
       "\\item TRUE\n",
       "\\item TRUE\n",
       "\\item TRUE\n",
       "\\item FALSE\n",
       "\\item TRUE\n",
       "\\item TRUE\n",
       "\\item FALSE\n",
       "\\item FALSE\n",
       "\\item FALSE\n",
       "\\item FALSE\n",
       "\\item TRUE\n",
       "\\item TRUE\n",
       "\\item FALSE\n",
       "\\item TRUE\n",
       "\\item FALSE\n",
       "\\item TRUE\n",
       "\\item TRUE\n",
       "\\item TRUE\n",
       "\\item FALSE\n",
       "\\item TRUE\n",
       "\\item TRUE\n",
       "\\item FALSE\n",
       "\\item FALSE\n",
       "\\item FALSE\n",
       "\\item FALSE\n",
       "\\item FALSE\n",
       "\\item FALSE\n",
       "\\item FALSE\n",
       "\\item TRUE\n",
       "\\item FALSE\n",
       "\\item TRUE\n",
       "\\item TRUE\n",
       "\\item FALSE\n",
       "\\item FALSE\n",
       "\\item FALSE\n",
       "\\item TRUE\n",
       "\\item TRUE\n",
       "\\item FALSE\n",
       "\\item FALSE\n",
       "\\item ⋯\n",
       "\\item FALSE\n",
       "\\item FALSE\n",
       "\\item TRUE\n",
       "\\item FALSE\n",
       "\\item FALSE\n",
       "\\item TRUE\n",
       "\\item TRUE\n",
       "\\item FALSE\n",
       "\\item TRUE\n",
       "\\item TRUE\n",
       "\\item FALSE\n",
       "\\item FALSE\n",
       "\\item TRUE\n",
       "\\item TRUE\n",
       "\\item FALSE\n",
       "\\item TRUE\n",
       "\\item FALSE\n",
       "\\item FALSE\n",
       "\\item FALSE\n",
       "\\item TRUE\n",
       "\\item TRUE\n",
       "\\item FALSE\n",
       "\\item TRUE\n",
       "\\item FALSE\n",
       "\\item FALSE\n",
       "\\item FALSE\n",
       "\\item TRUE\n",
       "\\item TRUE\n",
       "\\item TRUE\n",
       "\\item TRUE\n",
       "\\item TRUE\n",
       "\\item TRUE\n",
       "\\item TRUE\n",
       "\\item TRUE\n",
       "\\item TRUE\n",
       "\\item TRUE\n",
       "\\item TRUE\n",
       "\\item TRUE\n",
       "\\item TRUE\n",
       "\\item TRUE\n",
       "\\item TRUE\n",
       "\\item TRUE\n",
       "\\item TRUE\n",
       "\\item TRUE\n",
       "\\item TRUE\n",
       "\\item TRUE\n",
       "\\item TRUE\n",
       "\\item TRUE\n",
       "\\item TRUE\n",
       "\\item TRUE\n",
       "\\item TRUE\n",
       "\\item TRUE\n",
       "\\item TRUE\n",
       "\\item TRUE\n",
       "\\item TRUE\n",
       "\\item TRUE\n",
       "\\item TRUE\n",
       "\\item TRUE\n",
       "\\item TRUE\n",
       "\\item TRUE\n",
       "\\item TRUE\n",
       "\\item TRUE\n",
       "\\item TRUE\n",
       "\\item TRUE\n",
       "\\item TRUE\n",
       "\\item TRUE\n",
       "\\item TRUE\n",
       "\\item TRUE\n",
       "\\item TRUE\n",
       "\\item TRUE\n",
       "\\item TRUE\n",
       "\\item TRUE\n",
       "\\item TRUE\n",
       "\\item TRUE\n",
       "\\item TRUE\n",
       "\\item TRUE\n",
       "\\item TRUE\n",
       "\\item TRUE\n",
       "\\item TRUE\n",
       "\\item TRUE\n",
       "\\item TRUE\n",
       "\\item TRUE\n",
       "\\item TRUE\n",
       "\\item TRUE\n",
       "\\item TRUE\n",
       "\\item TRUE\n",
       "\\item TRUE\n",
       "\\item TRUE\n",
       "\\item TRUE\n",
       "\\item TRUE\n",
       "\\item TRUE\n",
       "\\item TRUE\n",
       "\\item TRUE\n",
       "\\item TRUE\n",
       "\\item TRUE\n",
       "\\item TRUE\n",
       "\\item TRUE\n",
       "\\item TRUE\n",
       "\\item TRUE\n",
       "\\item TRUE\n",
       "\\item TRUE\n",
       "\\item TRUE\n",
       "\\item TRUE\n",
       "\\item TRUE\n",
       "\\item TRUE\n",
       "\\item TRUE\n",
       "\\item TRUE\n",
       "\\item TRUE\n",
       "\\item TRUE\n",
       "\\item TRUE\n",
       "\\item TRUE\n",
       "\\item TRUE\n",
       "\\item TRUE\n",
       "\\item TRUE\n",
       "\\item TRUE\n",
       "\\item TRUE\n",
       "\\item TRUE\n",
       "\\item TRUE\n",
       "\\item TRUE\n",
       "\\item TRUE\n",
       "\\item TRUE\n",
       "\\item TRUE\n",
       "\\item TRUE\n",
       "\\item TRUE\n",
       "\\item TRUE\n",
       "\\item TRUE\n",
       "\\item TRUE\n",
       "\\item FALSE\n",
       "\\item FALSE\n",
       "\\item TRUE\n",
       "\\item TRUE\n",
       "\\item TRUE\n",
       "\\item FALSE\n",
       "\\item TRUE\n",
       "\\item TRUE\n",
       "\\item TRUE\n",
       "\\item FALSE\n",
       "\\item TRUE\n",
       "\\item FALSE\n",
       "\\item FALSE\n",
       "\\item FALSE\n",
       "\\item FALSE\n",
       "\\item FALSE\n",
       "\\item TRUE\n",
       "\\item TRUE\n",
       "\\item FALSE\n",
       "\\item FALSE\n",
       "\\item FALSE\n",
       "\\item TRUE\n",
       "\\item FALSE\n",
       "\\item TRUE\n",
       "\\item TRUE\n",
       "\\item FALSE\n",
       "\\item FALSE\n",
       "\\item FALSE\n",
       "\\item TRUE\n",
       "\\item FALSE\n",
       "\\item FALSE\n",
       "\\item FALSE\n",
       "\\item FALSE\n",
       "\\item TRUE\n",
       "\\item TRUE\n",
       "\\item FALSE\n",
       "\\item FALSE\n",
       "\\item TRUE\n",
       "\\item FALSE\n",
       "\\item TRUE\n",
       "\\item FALSE\n",
       "\\item FALSE\n",
       "\\item TRUE\n",
       "\\item FALSE\n",
       "\\item FALSE\n",
       "\\item FALSE\n",
       "\\item FALSE\n",
       "\\item FALSE\n",
       "\\item FALSE\n",
       "\\item FALSE\n",
       "\\item FALSE\n",
       "\\item FALSE\n",
       "\\item FALSE\n",
       "\\item FALSE\n",
       "\\item TRUE\n",
       "\\item TRUE\n",
       "\\item TRUE\n",
       "\\item FALSE\n",
       "\\item TRUE\n",
       "\\item FALSE\n",
       "\\item FALSE\n",
       "\\item FALSE\n",
       "\\item TRUE\n",
       "\\item TRUE\n",
       "\\item FALSE\n",
       "\\item TRUE\n",
       "\\item FALSE\n",
       "\\item FALSE\n",
       "\\item FALSE\n",
       "\\item TRUE\n",
       "\\item TRUE\n",
       "\\item TRUE\n",
       "\\item FALSE\n",
       "\\end{enumerate*}\n"
      ],
      "text/markdown": [
       "1. TRUE\n",
       "2. TRUE\n",
       "3. FALSE\n",
       "4. FALSE\n",
       "5. TRUE\n",
       "6. FALSE\n",
       "7. FALSE\n",
       "8. FALSE\n",
       "9. FALSE\n",
       "10. FALSE\n",
       "11. TRUE\n",
       "12. FALSE\n",
       "13. FALSE\n",
       "14. FALSE\n",
       "15. FALSE\n",
       "16. FALSE\n",
       "17. FALSE\n",
       "18. TRUE\n",
       "19. TRUE\n",
       "20. TRUE\n",
       "21. TRUE\n",
       "22. TRUE\n",
       "23. FALSE\n",
       "24. TRUE\n",
       "25. FALSE\n",
       "26. TRUE\n",
       "27. FALSE\n",
       "28. TRUE\n",
       "29. FALSE\n",
       "30. FALSE\n",
       "31. FALSE\n",
       "32. FALSE\n",
       "33. FALSE\n",
       "34. TRUE\n",
       "35. FALSE\n",
       "36. FALSE\n",
       "37. FALSE\n",
       "38. FALSE\n",
       "39. TRUE\n",
       "40. TRUE\n",
       "41. FALSE\n",
       "42. FALSE\n",
       "43. FALSE\n",
       "44. TRUE\n",
       "45. FALSE\n",
       "46. TRUE\n",
       "47. FALSE\n",
       "48. FALSE\n",
       "49. FALSE\n",
       "50. FALSE\n",
       "51. FALSE\n",
       "52. FALSE\n",
       "53. FALSE\n",
       "54. FALSE\n",
       "55. FALSE\n",
       "56. FALSE\n",
       "57. FALSE\n",
       "58. FALSE\n",
       "59. FALSE\n",
       "60. TRUE\n",
       "61. FALSE\n",
       "62. TRUE\n",
       "63. FALSE\n",
       "64. TRUE\n",
       "65. TRUE\n",
       "66. TRUE\n",
       "67. FALSE\n",
       "68. FALSE\n",
       "69. FALSE\n",
       "70. TRUE\n",
       "71. TRUE\n",
       "72. FALSE\n",
       "73. TRUE\n",
       "74. FALSE\n",
       "75. TRUE\n",
       "76. FALSE\n",
       "77. FALSE\n",
       "78. TRUE\n",
       "79. FALSE\n",
       "80. TRUE\n",
       "81. FALSE\n",
       "82. TRUE\n",
       "83. FALSE\n",
       "84. FALSE\n",
       "85. TRUE\n",
       "86. FALSE\n",
       "87. FALSE\n",
       "88. TRUE\n",
       "89. FALSE\n",
       "90. FALSE\n",
       "91. FALSE\n",
       "92. TRUE\n",
       "93. FALSE\n",
       "94. FALSE\n",
       "95. TRUE\n",
       "96. FALSE\n",
       "97. FALSE\n",
       "98. FALSE\n",
       "99. FALSE\n",
       "100. FALSE\n",
       "101. FALSE\n",
       "102. FALSE\n",
       "103. TRUE\n",
       "104. TRUE\n",
       "105. TRUE\n",
       "106. FALSE\n",
       "107. FALSE\n",
       "108. TRUE\n",
       "109. FALSE\n",
       "110. FALSE\n",
       "111. FALSE\n",
       "112. TRUE\n",
       "113. TRUE\n",
       "114. FALSE\n",
       "115. FALSE\n",
       "116. TRUE\n",
       "117. FALSE\n",
       "118. TRUE\n",
       "119. TRUE\n",
       "120. FALSE\n",
       "121. FALSE\n",
       "122. FALSE\n",
       "123. FALSE\n",
       "124. TRUE\n",
       "125. FALSE\n",
       "126. FALSE\n",
       "127. FALSE\n",
       "128. FALSE\n",
       "129. FALSE\n",
       "130. FALSE\n",
       "131. FALSE\n",
       "132. FALSE\n",
       "133. FALSE\n",
       "134. FALSE\n",
       "135. FALSE\n",
       "136. FALSE\n",
       "137. FALSE\n",
       "138. FALSE\n",
       "139. FALSE\n",
       "140. FALSE\n",
       "141. FALSE\n",
       "142. TRUE\n",
       "143. FALSE\n",
       "144. FALSE\n",
       "145. TRUE\n",
       "146. FALSE\n",
       "147. FALSE\n",
       "148. TRUE\n",
       "149. TRUE\n",
       "150. FALSE\n",
       "151. FALSE\n",
       "152. FALSE\n",
       "153. TRUE\n",
       "154. FALSE\n",
       "155. FALSE\n",
       "156. FALSE\n",
       "157. FALSE\n",
       "158. FALSE\n",
       "159. FALSE\n",
       "160. FALSE\n",
       "161. FALSE\n",
       "162. TRUE\n",
       "163. TRUE\n",
       "164. TRUE\n",
       "165. FALSE\n",
       "166. TRUE\n",
       "167. TRUE\n",
       "168. FALSE\n",
       "169. FALSE\n",
       "170. FALSE\n",
       "171. FALSE\n",
       "172. TRUE\n",
       "173. TRUE\n",
       "174. FALSE\n",
       "175. TRUE\n",
       "176. FALSE\n",
       "177. TRUE\n",
       "178. TRUE\n",
       "179. TRUE\n",
       "180. FALSE\n",
       "181. TRUE\n",
       "182. TRUE\n",
       "183. FALSE\n",
       "184. FALSE\n",
       "185. FALSE\n",
       "186. FALSE\n",
       "187. FALSE\n",
       "188. FALSE\n",
       "189. FALSE\n",
       "190. TRUE\n",
       "191. FALSE\n",
       "192. TRUE\n",
       "193. TRUE\n",
       "194. FALSE\n",
       "195. FALSE\n",
       "196. FALSE\n",
       "197. TRUE\n",
       "198. TRUE\n",
       "199. FALSE\n",
       "200. FALSE\n",
       "201. ⋯\n",
       "202. FALSE\n",
       "203. FALSE\n",
       "204. TRUE\n",
       "205. FALSE\n",
       "206. FALSE\n",
       "207. TRUE\n",
       "208. TRUE\n",
       "209. FALSE\n",
       "210. TRUE\n",
       "211. TRUE\n",
       "212. FALSE\n",
       "213. FALSE\n",
       "214. TRUE\n",
       "215. TRUE\n",
       "216. FALSE\n",
       "217. TRUE\n",
       "218. FALSE\n",
       "219. FALSE\n",
       "220. FALSE\n",
       "221. TRUE\n",
       "222. TRUE\n",
       "223. FALSE\n",
       "224. TRUE\n",
       "225. FALSE\n",
       "226. FALSE\n",
       "227. FALSE\n",
       "228. TRUE\n",
       "229. TRUE\n",
       "230. TRUE\n",
       "231. TRUE\n",
       "232. TRUE\n",
       "233. TRUE\n",
       "234. TRUE\n",
       "235. TRUE\n",
       "236. TRUE\n",
       "237. TRUE\n",
       "238. TRUE\n",
       "239. TRUE\n",
       "240. TRUE\n",
       "241. TRUE\n",
       "242. TRUE\n",
       "243. TRUE\n",
       "244. TRUE\n",
       "245. TRUE\n",
       "246. TRUE\n",
       "247. TRUE\n",
       "248. TRUE\n",
       "249. TRUE\n",
       "250. TRUE\n",
       "251. TRUE\n",
       "252. TRUE\n",
       "253. TRUE\n",
       "254. TRUE\n",
       "255. TRUE\n",
       "256. TRUE\n",
       "257. TRUE\n",
       "258. TRUE\n",
       "259. TRUE\n",
       "260. TRUE\n",
       "261. TRUE\n",
       "262. TRUE\n",
       "263. TRUE\n",
       "264. TRUE\n",
       "265. TRUE\n",
       "266. TRUE\n",
       "267. TRUE\n",
       "268. TRUE\n",
       "269. TRUE\n",
       "270. TRUE\n",
       "271. TRUE\n",
       "272. TRUE\n",
       "273. TRUE\n",
       "274. TRUE\n",
       "275. TRUE\n",
       "276. TRUE\n",
       "277. TRUE\n",
       "278. TRUE\n",
       "279. TRUE\n",
       "280. TRUE\n",
       "281. TRUE\n",
       "282. TRUE\n",
       "283. TRUE\n",
       "284. TRUE\n",
       "285. TRUE\n",
       "286. TRUE\n",
       "287. TRUE\n",
       "288. TRUE\n",
       "289. TRUE\n",
       "290. TRUE\n",
       "291. TRUE\n",
       "292. TRUE\n",
       "293. TRUE\n",
       "294. TRUE\n",
       "295. TRUE\n",
       "296. TRUE\n",
       "297. TRUE\n",
       "298. TRUE\n",
       "299. TRUE\n",
       "300. TRUE\n",
       "301. TRUE\n",
       "302. TRUE\n",
       "303. TRUE\n",
       "304. TRUE\n",
       "305. TRUE\n",
       "306. TRUE\n",
       "307. TRUE\n",
       "308. TRUE\n",
       "309. TRUE\n",
       "310. TRUE\n",
       "311. TRUE\n",
       "312. TRUE\n",
       "313. TRUE\n",
       "314. TRUE\n",
       "315. TRUE\n",
       "316. TRUE\n",
       "317. TRUE\n",
       "318. TRUE\n",
       "319. TRUE\n",
       "320. TRUE\n",
       "321. TRUE\n",
       "322. TRUE\n",
       "323. TRUE\n",
       "324. TRUE\n",
       "325. TRUE\n",
       "326. TRUE\n",
       "327. TRUE\n",
       "328. TRUE\n",
       "329. FALSE\n",
       "330. FALSE\n",
       "331. TRUE\n",
       "332. TRUE\n",
       "333. TRUE\n",
       "334. FALSE\n",
       "335. TRUE\n",
       "336. TRUE\n",
       "337. TRUE\n",
       "338. FALSE\n",
       "339. TRUE\n",
       "340. FALSE\n",
       "341. FALSE\n",
       "342. FALSE\n",
       "343. FALSE\n",
       "344. FALSE\n",
       "345. TRUE\n",
       "346. TRUE\n",
       "347. FALSE\n",
       "348. FALSE\n",
       "349. FALSE\n",
       "350. TRUE\n",
       "351. FALSE\n",
       "352. TRUE\n",
       "353. TRUE\n",
       "354. FALSE\n",
       "355. FALSE\n",
       "356. FALSE\n",
       "357. TRUE\n",
       "358. FALSE\n",
       "359. FALSE\n",
       "360. FALSE\n",
       "361. FALSE\n",
       "362. TRUE\n",
       "363. TRUE\n",
       "364. FALSE\n",
       "365. FALSE\n",
       "366. TRUE\n",
       "367. FALSE\n",
       "368. TRUE\n",
       "369. FALSE\n",
       "370. FALSE\n",
       "371. TRUE\n",
       "372. FALSE\n",
       "373. FALSE\n",
       "374. FALSE\n",
       "375. FALSE\n",
       "376. FALSE\n",
       "377. FALSE\n",
       "378. FALSE\n",
       "379. FALSE\n",
       "380. FALSE\n",
       "381. FALSE\n",
       "382. FALSE\n",
       "383. TRUE\n",
       "384. TRUE\n",
       "385. TRUE\n",
       "386. FALSE\n",
       "387. TRUE\n",
       "388. FALSE\n",
       "389. FALSE\n",
       "390. FALSE\n",
       "391. TRUE\n",
       "392. TRUE\n",
       "393. FALSE\n",
       "394. TRUE\n",
       "395. FALSE\n",
       "396. FALSE\n",
       "397. FALSE\n",
       "398. TRUE\n",
       "399. TRUE\n",
       "400. TRUE\n",
       "401. FALSE\n",
       "\n",
       "\n"
      ],
      "text/plain": [
       "  [1]  TRUE  TRUE FALSE FALSE  TRUE FALSE FALSE FALSE FALSE FALSE  TRUE FALSE\n",
       " [13] FALSE FALSE FALSE FALSE FALSE  TRUE  TRUE  TRUE  TRUE  TRUE FALSE  TRUE\n",
       " [25] FALSE  TRUE FALSE  TRUE FALSE FALSE FALSE FALSE FALSE  TRUE FALSE FALSE\n",
       " [37] FALSE FALSE  TRUE  TRUE FALSE FALSE FALSE  TRUE FALSE  TRUE FALSE FALSE\n",
       " [49] FALSE FALSE FALSE FALSE FALSE FALSE FALSE FALSE FALSE FALSE FALSE  TRUE\n",
       " [61] FALSE  TRUE FALSE  TRUE  TRUE  TRUE FALSE FALSE FALSE  TRUE  TRUE FALSE\n",
       " [73]  TRUE FALSE  TRUE FALSE FALSE  TRUE FALSE  TRUE FALSE  TRUE FALSE FALSE\n",
       " [85]  TRUE FALSE FALSE  TRUE FALSE FALSE FALSE  TRUE FALSE FALSE  TRUE FALSE\n",
       " [97] FALSE FALSE FALSE FALSE FALSE FALSE  TRUE  TRUE  TRUE FALSE FALSE  TRUE\n",
       "[109] FALSE FALSE FALSE  TRUE  TRUE FALSE FALSE  TRUE FALSE  TRUE  TRUE FALSE\n",
       "[121] FALSE FALSE FALSE  TRUE FALSE FALSE FALSE FALSE FALSE FALSE FALSE FALSE\n",
       "[133] FALSE FALSE FALSE FALSE FALSE FALSE FALSE FALSE FALSE  TRUE FALSE FALSE\n",
       "[145]  TRUE FALSE FALSE  TRUE  TRUE FALSE FALSE FALSE  TRUE FALSE FALSE FALSE\n",
       "[157] FALSE FALSE FALSE FALSE FALSE  TRUE  TRUE  TRUE FALSE  TRUE  TRUE FALSE\n",
       "[169] FALSE FALSE FALSE  TRUE  TRUE FALSE  TRUE FALSE  TRUE  TRUE  TRUE FALSE\n",
       "[181]  TRUE  TRUE FALSE FALSE FALSE FALSE FALSE FALSE FALSE  TRUE FALSE  TRUE\n",
       "[193]  TRUE FALSE FALSE FALSE  TRUE  TRUE FALSE FALSE FALSE  TRUE FALSE  TRUE\n",
       "[205] FALSE  TRUE FALSE  TRUE  TRUE FALSE FALSE  TRUE FALSE  TRUE  TRUE  TRUE\n",
       "[217] FALSE FALSE  TRUE  TRUE FALSE  TRUE FALSE  TRUE FALSE FALSE FALSE  TRUE\n",
       "[229] FALSE FALSE FALSE FALSE FALSE  TRUE FALSE FALSE FALSE FALSE FALSE FALSE\n",
       "[241] FALSE FALSE FALSE  TRUE FALSE  TRUE FALSE  TRUE  TRUE FALSE  TRUE FALSE\n",
       "[253] FALSE FALSE FALSE FALSE FALSE  TRUE FALSE FALSE FALSE FALSE FALSE FALSE\n",
       "[265]  TRUE FALSE FALSE FALSE FALSE  TRUE  TRUE FALSE FALSE  TRUE  TRUE  TRUE\n",
       "[277] FALSE  TRUE FALSE  TRUE FALSE FALSE  TRUE  TRUE  TRUE FALSE FALSE FALSE\n",
       "[289]  TRUE  TRUE FALSE FALSE FALSE FALSE FALSE FALSE FALSE FALSE  TRUE FALSE\n",
       "[301] FALSE FALSE FALSE  TRUE  TRUE  TRUE  TRUE FALSE FALSE  TRUE FALSE FALSE\n",
       "[313]  TRUE FALSE  TRUE  TRUE  TRUE FALSE FALSE FALSE  TRUE FALSE FALSE FALSE\n",
       "[325]  TRUE  TRUE FALSE  TRUE  TRUE  TRUE FALSE FALSE FALSE FALSE FALSE FALSE\n",
       "[337] FALSE FALSE FALSE FALSE  TRUE FALSE FALSE FALSE  TRUE  TRUE FALSE FALSE\n",
       "[349] FALSE FALSE  TRUE FALSE  TRUE FALSE FALSE  TRUE FALSE  TRUE FALSE  TRUE\n",
       "[361] FALSE FALSE FALSE FALSE FALSE  TRUE  TRUE  TRUE FALSE  TRUE FALSE  TRUE\n",
       "[373] FALSE FALSE FALSE  TRUE  TRUE FALSE FALSE FALSE FALSE FALSE  TRUE  TRUE\n",
       "[385] FALSE  TRUE FALSE FALSE FALSE FALSE FALSE FALSE FALSE FALSE FALSE FALSE\n",
       "[397] FALSE FALSE FALSE FALSE FALSE  TRUE FALSE  TRUE FALSE FALSE FALSE  TRUE\n",
       "[409] FALSE  TRUE FALSE  TRUE  TRUE FALSE FALSE  TRUE FALSE  TRUE  TRUE  TRUE\n",
       "[421]  TRUE  TRUE FALSE FALSE  TRUE  TRUE FALSE  TRUE FALSE FALSE  TRUE  TRUE\n",
       "[433]  TRUE  TRUE  TRUE  TRUE  TRUE FALSE  TRUE  TRUE  TRUE  TRUE FALSE  TRUE\n",
       "[445]  TRUE FALSE  TRUE FALSE FALSE FALSE  TRUE FALSE FALSE FALSE FALSE FALSE\n",
       "[457]  TRUE  TRUE FALSE  TRUE FALSE  TRUE FALSE  TRUE FALSE  TRUE FALSE FALSE\n",
       "[469] FALSE FALSE FALSE FALSE FALSE  TRUE FALSE FALSE FALSE FALSE FALSE  TRUE\n",
       "[481] FALSE FALSE FALSE FALSE  TRUE  TRUE  TRUE  TRUE FALSE  TRUE FALSE FALSE\n",
       "[493]  TRUE FALSE FALSE  TRUE FALSE  TRUE FALSE FALSE FALSE FALSE FALSE FALSE\n",
       "[505] FALSE  TRUE  TRUE FALSE  TRUE  TRUE  TRUE  TRUE FALSE FALSE FALSE FALSE\n",
       "[517]  TRUE  TRUE  TRUE FALSE  TRUE FALSE FALSE FALSE FALSE FALSE FALSE FALSE\n",
       "[529] FALSE  TRUE  TRUE FALSE FALSE  TRUE  TRUE  TRUE  TRUE  TRUE FALSE FALSE\n",
       "[541]  TRUE  TRUE FALSE FALSE  TRUE FALSE FALSE  TRUE FALSE FALSE FALSE  TRUE\n",
       "[553] FALSE FALSE FALSE FALSE  TRUE FALSE FALSE FALSE FALSE FALSE FALSE FALSE\n",
       "[565] FALSE FALSE FALSE FALSE FALSE FALSE FALSE FALSE FALSE FALSE  TRUE FALSE\n",
       "[577]  TRUE FALSE FALSE  TRUE FALSE FALSE  TRUE  TRUE FALSE  TRUE  TRUE FALSE\n",
       "[589] FALSE  TRUE  TRUE FALSE  TRUE FALSE FALSE FALSE  TRUE  TRUE FALSE  TRUE\n",
       "[601] FALSE FALSE FALSE  TRUE  TRUE  TRUE  TRUE  TRUE  TRUE  TRUE  TRUE  TRUE\n",
       "[613]  TRUE  TRUE  TRUE  TRUE  TRUE  TRUE  TRUE  TRUE  TRUE  TRUE  TRUE  TRUE\n",
       "[625]  TRUE  TRUE  TRUE  TRUE  TRUE  TRUE  TRUE  TRUE  TRUE  TRUE  TRUE  TRUE\n",
       "[637]  TRUE  TRUE  TRUE  TRUE  TRUE  TRUE  TRUE  TRUE  TRUE  TRUE  TRUE  TRUE\n",
       "[649]  TRUE  TRUE  TRUE  TRUE  TRUE  TRUE  TRUE  TRUE  TRUE  TRUE  TRUE  TRUE\n",
       "[661]  TRUE  TRUE  TRUE  TRUE  TRUE  TRUE  TRUE  TRUE  TRUE  TRUE  TRUE  TRUE\n",
       "[673]  TRUE  TRUE  TRUE  TRUE  TRUE  TRUE  TRUE  TRUE  TRUE  TRUE  TRUE  TRUE\n",
       "[685]  TRUE  TRUE  TRUE  TRUE  TRUE  TRUE  TRUE  TRUE  TRUE  TRUE  TRUE  TRUE\n",
       "[697]  TRUE  TRUE  TRUE  TRUE  TRUE  TRUE  TRUE  TRUE FALSE FALSE  TRUE  TRUE\n",
       "[709]  TRUE FALSE  TRUE  TRUE  TRUE FALSE  TRUE FALSE FALSE FALSE FALSE FALSE\n",
       "[721]  TRUE  TRUE FALSE FALSE FALSE  TRUE FALSE  TRUE  TRUE FALSE FALSE FALSE\n",
       "[733]  TRUE FALSE FALSE FALSE FALSE  TRUE  TRUE FALSE FALSE  TRUE FALSE  TRUE\n",
       "[745] FALSE FALSE  TRUE FALSE FALSE FALSE FALSE FALSE FALSE FALSE FALSE FALSE\n",
       "[757] FALSE FALSE  TRUE  TRUE  TRUE FALSE  TRUE FALSE FALSE FALSE  TRUE  TRUE\n",
       "[769] FALSE  TRUE FALSE FALSE FALSE  TRUE  TRUE  TRUE FALSE"
      ]
     },
     "metadata": {},
     "output_type": "display_data"
    }
   ],
   "source": [
    "college.names %>% str_detect(\"University\")"
   ]
  },
  {
   "cell_type": "markdown",
   "metadata": {},
   "source": [
    "3. ¿Cuántas \"University\" hay en el conjunto de datos frente a \"College\"?"
   ]
  },
  {
   "cell_type": "code",
   "execution_count": 68,
   "metadata": {
    "vscode": {
     "languageId": "r"
    }
   },
   "outputs": [
    {
     "data": {
      "text/html": [
       "345"
      ],
      "text/latex": [
       "345"
      ],
      "text/markdown": [
       "345"
      ],
      "text/plain": [
       "[1] 345"
      ]
     },
     "metadata": {},
     "output_type": "display_data"
    }
   ],
   "source": [
    "college.names %>% str_count(\"Univer\") %>% sum"
   ]
  },
  {
   "cell_type": "code",
   "execution_count": 69,
   "metadata": {
    "vscode": {
     "languageId": "r"
    }
   },
   "outputs": [
    {
     "data": {
      "text/html": [
       "410"
      ],
      "text/latex": [
       "410"
      ],
      "text/markdown": [
       "410"
      ],
      "text/plain": [
       "[1] 410"
      ]
     },
     "metadata": {},
     "output_type": "display_data"
    }
   ],
   "source": [
    "college.names %>% str_count(\"Coll\") %>% sum"
   ]
  },
  {
   "cell_type": "code",
   "execution_count": 72,
   "metadata": {
    "vscode": {
     "languageId": "r"
    }
   },
   "outputs": [
    {
     "data": {
      "text/html": [
       "FALSE"
      ],
      "text/latex": [
       "FALSE"
      ],
      "text/markdown": [
       "FALSE"
      ],
      "text/plain": [
       "[1] FALSE"
      ]
     },
     "metadata": {},
     "output_type": "display_data"
    },
    {
     "data": {
      "text/html": [
       "777"
      ],
      "text/latex": [
       "777"
      ],
      "text/markdown": [
       "777"
      ],
      "text/plain": [
       "[1] 777"
      ]
     },
     "metadata": {},
     "output_type": "display_data"
    }
   ],
   "source": [
    "345+410 == length(college.names)"
   ]
  },
  {
   "cell_type": "markdown",
   "metadata": {},
   "source": [
    "## Ejercicios string (2da parte)\n",
    "\n",
    "Lo mismo que en la parte 1 pero usando las funciones de `stringr`.\n",
    "\n",
    "1. Crea un vector de cadenas de caracteres con tu nombre y apellidos (por ejemplo, [\"Rocío\", \"Romero\", Zaliz\"]). A partir de el crea una nueva cadena de caracteres con la inicial de tu nombre, un punto y tus apellidos (por ejemplo, \"R. Romero Zaliz\").\n",
    "2. Dado un vector de cadenas de caracteres que representan fechas (por ejemplo, [\"2005-11-28\", \"2015-10-18\", \"2000-01-01\"], utilizando el formato AÑO-MES-DÍA), mostrar sólo las correspondientes a los meses impares.\n",
    "3. Dada una cadena de caracteres con varias palabras (por ejemplo, \"Esta es una frase, pero no cualquier frase.\") crea un vector con cada una de las palabras de la cadena (por ejemplo, [\"Esta\", \"es\", \"una\", \"frase\", \"pero\", \"no\", \"cualquier\", \"frase\"]). Tenga en cuenta todos los caracteres de puntuación posibles.\n",
    "4. Busca en un vector de cadenas de caractees aquellas que incluyan sólo vocales \"a\" y/o \"e\" o ninguna (comprueba mayúsculas y minúsculas, considera á, é, Á y É como otros caracteres y no los que buscas).\n",
    "5. Dados tres vectores numéricos que representan días, meses y años, crea un vector nuevo con fechas (sólo si son válidas, si la fecha es inválida ignorarla) (Sugerencia: investigue la función `as.Date`)."
   ]
  },
  {
   "cell_type": "markdown",
   "metadata": {},
   "source": [
    "# References\n",
    "\n",
    "* Gaston Sanchez. Handling and Processing Strings in R. https://www.gastonsanchez.com/Handling_and_Processing_Strings_in_R.pdf\n",
    "* R-tutorials. http://r-tutorials.com\n",
    "* Norman Matloff. 2011. The Art of R Programming: A Tour of Statistical Software Design (1st ed.). No Starch Press, San Francisco, CA, USA.\n",
    "* Patrick Burns. 2011. The R Inferno."
   ]
  }
 ],
 "metadata": {
  "celltoolbar": "Raw Cell Format",
  "kernelspec": {
   "display_name": "R",
   "language": "R",
   "name": "ir"
  },
  "language_info": {
   "codemirror_mode": "r",
   "file_extension": ".r",
   "mimetype": "text/x-r-source",
   "name": "R",
   "pygments_lexer": "r",
   "version": "4.4.1"
  }
 },
 "nbformat": 4,
 "nbformat_minor": 4
}
