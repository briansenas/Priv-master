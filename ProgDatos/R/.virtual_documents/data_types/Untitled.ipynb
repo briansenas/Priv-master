


seq(from=1, to=30, by=2)



