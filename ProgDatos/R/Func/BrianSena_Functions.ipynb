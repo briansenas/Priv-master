{
 "cells": [
  {
   "cell_type": "markdown",
   "metadata": {},
   "source": [
    "__Nombre__: Brian Sena Simons"
   ]
  },
  {
   "cell_type": "markdown",
   "metadata": {},
   "source": [
    "\n",
    "## Ejercicios funciones\n",
    "<i>(Si ya conoces `if` y/o `ifelse`, NO las utilices en estos ejercicios)</i>\n",
    "1. Crea una función \"impares\" que dada una matriz devuelva el número de elementos impares que contiene."
   ]
  },
  {
   "cell_type": "code",
   "execution_count": 1,
   "metadata": {
    "vscode": {
     "languageId": "r"
    }
   },
   "outputs": [
    {
     "name": "stdout",
     "output_type": "stream",
     "text": [
      "15"
     ]
    }
   ],
   "source": [
    "impares <- function(mat) {\n",
    "  length(mat[mat %% 2 == 1])\n",
    "}\n",
    "\n",
    "mat <- matrix(1:30, byrow = TRUE)\n",
    "cat(impares(mat))"
   ]
  },
  {
   "cell_type": "markdown",
   "metadata": {},
   "source": [
    "\n",
    "2. Crear una función \"cambio\" que, dada una matriz de números enteros, devuelva una nueva matriz con todos los NA sustituidos por 0."
   ]
  },
  {
   "cell_type": "code",
   "execution_count": 11,
   "metadata": {
    "vscode": {
     "languageId": "r"
    }
   },
   "outputs": [
    {
     "name": "stdout",
     "output_type": "stream",
     "text": [
      "7 NA 6 6 7 7 2 10 6 10 9 3 10 1 NA NA 7 7 6 NA\n",
      "7 0 6 6 7 7 2 10 6 10 9 3 10 1 0 0 7 7 6 0"
     ]
    }
   ],
   "source": [
    "cambio <- function(mat) {\n",
    "  mat[is.na(mat)] <- 0\n",
    "  mat\n",
    "}\n",
    "\n",
    "mat <- matrix(\n",
    "  sample(\n",
    "    c(1:10, rep(NA, 3)),\n",
    "    size = 20,\n",
    "    replace = TRUE\n",
    "  ),\n",
    "  byrow = TRUE\n",
    ")\n",
    "cat(mat)\n",
    "cat(\"\\n\")\n",
    "cat(cambio(mat))"
   ]
  },
  {
   "cell_type": "markdown",
   "metadata": {},
   "source": [
    "3. Crear una función \"reducir\" que dadas dos vectores devuelva uno lista con dos componentes: 1) un vectoro con los elementos sin repetir y 2) la cantidad de elementos eliminados al quitar los repetidos."
   ]
  },
  {
   "cell_type": "code",
   "execution_count": 3,
   "metadata": {
    "vscode": {
     "languageId": "r"
    }
   },
   "outputs": [
    {
     "name": "stdout",
     "output_type": "stream",
     "text": [
      "[1] 1 2 3 4 5 6\n",
      "[1] 4 5 6 7 8\n",
      "[[1]]\n",
      "[1] 1 2 3 4 5 6 7 8\n",
      "\n",
      "[[2]]\n",
      "[1] 3\n",
      "\n"
     ]
    }
   ],
   "source": [
    "reducir <- function(vec1, vec2) {\n",
    "  concatenated_vectors <- c(vec1, vec2)\n",
    "  original_length <- length(concatenated_vectors)\n",
    "  unique_values <- unique(concatenated_vectors)\n",
    "  unique_length <- length(unique_values)\n",
    "  total_removed <- original_length - unique_length\n",
    "  list(unique_values, total_removed)\n",
    "}\n",
    "vec1 <- 1:6\n",
    "vec2 <- 4:8\n",
    "print(vec1)\n",
    "print(vec2)\n",
    "print(reducir(1:6, 4:8))"
   ]
  },
  {
   "cell_type": "markdown",
   "metadata": {},
   "source": [
    "\n",
    "4. Crear una función \"vyc\" que dada una cadena de caracteres devuelva una lista de dos componentes, uno que contenga las vocales y otro las consonantes (en orden alfabético y minúsculas sin repetir)."
   ]
  },
  {
   "cell_type": "code",
   "execution_count": 4,
   "metadata": {
    "vscode": {
     "languageId": "r"
    }
   },
   "outputs": [
    {
     "name": "stdout",
     "output_type": "stream",
     "text": [
      "\n",
      "-----------------------\n",
      "Funciona para 1 cadena\n",
      "-----------------------\n",
      "Hola Mundo Muy Cruel\n",
      "[[1]]\n",
      "[[1]][[1]]\n",
      "[1] \"a\" \"e\" \"o\" \"u\"\n",
      "\n",
      "\n",
      "[[2]]\n",
      "[[2]][[1]]\n",
      "[1] \"c\" \"d\" \"h\" \"l\" \"m\" \"n\" \"r\" \"y\"\n",
      "\n",
      "\n",
      "\n",
      "-----------------------\n",
      "También funciona para una lista de cadenas\n",
      "-----------------------\n",
      "[1] \"Hola Mundo\" \"Muy Cruel\" \n",
      "\n",
      "[[1]]\n",
      "[[1]][[1]]\n",
      "[1] \"a\" \"o\" \"u\"\n",
      "\n",
      "[[1]][[2]]\n",
      "[1] \"e\" \"u\"\n",
      "\n",
      "\n",
      "[[2]]\n",
      "[[2]][[1]]\n",
      "[1] \"d\" \"h\" \"l\" \"m\" \"n\"\n",
      "\n",
      "[[2]][[2]]\n",
      "[1] \"c\" \"l\" \"m\" \"r\" \"y\"\n",
      "\n",
      "\n"
     ]
    }
   ],
   "source": [
    "library(stringr)\n",
    "vyc <- function(cad) {\n",
    "  vocales <- str_extract_all(cad, \"[aeiou]\")\n",
    "  lower_sort_unique <- function(x) sort(unique(tolower(x)))\n",
    "  unique_vocales <- lapply(vocales, lower_sort_unique)\n",
    "  # https://www.rdocumentation.org/packages/base/versions/3.6.2/topics/regex\n",
    "  consonantes <- str_extract_all(\n",
    "    cad,\n",
    "    \"[^aeiou[:space:][:punct:][:digit:][:cntrl:][:blank:]]\",\n",
    "  )\n",
    "  unique_consonantes <- lapply(consonantes, lower_sort_unique)\n",
    "  list(unique_vocales, unique_consonantes)\n",
    "}\n",
    "\n",
    "cat(\"\\n-----------------------\\n\")\n",
    "cat(\"Funciona para 1 cadena\")\n",
    "cat(\"\\n-----------------------\\n\")\n",
    "cad <- \"Hola Mundo Muy Cruel\"\n",
    "cat(cad)\n",
    "cat(\"\\n\")\n",
    "res <- vyc(cad)\n",
    "print(res)\n",
    "\n",
    "cat(\"\\n-----------------------\\n\")\n",
    "cat(\"También funciona para una lista de cadenas\")\n",
    "cat(\"\\n-----------------------\\n\")\n",
    "cad <- c(\"Hola Mundo\", \"Muy Cruel\")\n",
    "print(cad)\n",
    "cat(\"\\n\")\n",
    "print(vyc(cad))\n"
   ]
  },
  {
   "cell_type": "code",
   "execution_count": 5,
   "metadata": {
    "vscode": {
     "languageId": "r"
    }
   },
   "outputs": [
    {
     "name": "stdout",
     "output_type": "stream",
     "text": [
      "[[1]]\n",
      "[[1]]$`Hola Mundo`\n",
      "[1] \"a\" \"o\" \"u\"\n",
      "\n",
      "[[1]]$`Muy Cruel`\n",
      "[1] \"e\" \"u\"\n",
      "\n",
      "\n",
      "[[2]]\n",
      "[[2]][[1]]\n",
      "[1] \"d\" \"h\" \"l\" \"m\" \"n\"\n",
      "\n",
      "[[2]][[2]]\n",
      "[1] \"c\" \"l\" \"m\" \"r\" \"y\"\n",
      "\n",
      "\n"
     ]
    }
   ],
   "source": [
    "library(stringr)\n",
    "vyc2 <- function(cad) {\n",
    "  # Pensé que podía hacerlo de otra forma más sencilla utilizando las posiciones\n",
    "  # La idea era detectar las posiciones de las vocales y todos los alpha\n",
    "  # De esta forma con eliminar las vocales de los alpha = consonantes\n",
    "  # No obstante, fue mucho más complicado... pero aprendí cosas\n",
    "  # Una vez unificado los mapply y reducido la complejidad...\n",
    "  # Este es el resultado:\n",
    "  alpha <- str_locate_all(cad, \"[:alpha:]\")\n",
    "  vocals <- str_locate_all(cad, \"[aeiou]\")\n",
    "  lower_sort_unique <- function(x) sort(unique(tolower(x)))\n",
    "  consonants <- mapply(\n",
    "    function(x, y, z) {\n",
    "      lower_sort_unique(str_sub(z, matrix(x[!(x %in% y)], ncol = 2)))\n",
    "    },\n",
    "    alpha,\n",
    "    vocals,\n",
    "    cad,\n",
    "    SIMPLIFY = FALSE\n",
    "  )\n",
    "  vocals <- mapply(\n",
    "    function(x, y) lower_sort_unique(str_sub(x, y)),\n",
    "    x = cad,\n",
    "    y = vocals,\n",
    "    SIMPLIFY = FALSE\n",
    "  )\n",
    "  list(vocals, consonants)\n",
    "}\n",
    "\n",
    "cad <- c(\"Hola Mundo\", \"Muy Cruel\")\n",
    "print(vyc2(cad))"
   ]
  },
  {
   "cell_type": "code",
   "execution_count": 6,
   "metadata": {
    "vscode": {
     "languageId": "r"
    }
   },
   "outputs": [
    {
     "data": {
      "text/plain": [
       "   user  system elapsed \n",
       "  0.573   0.003   0.578 "
      ]
     },
     "metadata": {},
     "output_type": "display_data"
    },
    {
     "data": {
      "text/plain": [
       "   user  system elapsed \n",
       "  1.010   0.000   1.014 "
      ]
     },
     "metadata": {},
     "output_type": "display_data"
    }
   ],
   "source": [
    "cadenas <- rep(sample(c(letters, LETTERS), size = 1000, replace = TRUE), 10)\n",
    "system.time(vyc(cadenas))\n",
    "system.time(vyc2(cadenas))\n",
    "# Vemos que es mejor utilizar directamente las expressiones regulares\n",
    "# Expected behaviour tbh"
   ]
  },
  {
   "cell_type": "code",
   "execution_count": 7,
   "metadata": {
    "vscode": {
     "languageId": "r"
    }
   },
   "outputs": [
    {
     "name": "stdout",
     "output_type": "stream",
     "text": [
      "\n",
      "-----------------------\n",
      "Funciona para 1 cadena\n",
      "-----------------------\n",
      "Hola Mundo Muy Cruel\n",
      "[[1]]\n",
      "[1] \"a\" \"e\" \"o\" \"u\"\n",
      "\n",
      "[[2]]\n",
      "[1] \"c\" \"d\" \"h\" \"l\" \"m\" \"n\" \"r\" \"y\"\n",
      "\n"
     ]
    }
   ],
   "source": [
    "# Si no podemos hacer uso de lapply, mapply, apply...\n",
    "# seteamos simplify = TRUE y usamos matrices\n",
    "# Pero no he logrado hacer que funcione para\n",
    "# múltiples cadenas en tu tiempo prudente:/\n",
    "library(stringr)\n",
    "vyc <- function(cad) {\n",
    "  vocales <- str_extract_all(cad, \"[aeiou]\", simplify = TRUE)\n",
    "  lower_sort_unique <- function(x) sort(unique(tolower(x[, ])))\n",
    "  unique_vocales <- lower_sort_unique(vocales)\n",
    "  # https://www.rdocumentation.org/packages/base/versions/2.6.2/topics/regex\n",
    "  consonantes <- str_extract_all(\n",
    "    cad,\n",
    "    \"[^aeiou[:space:][:punct:][:digit:][:cntrl:][:blank:]]\",\n",
    "    simplify = TRUE\n",
    "  )\n",
    "  unique_consonantes <- lower_sort_unique(consonantes)\n",
    "  list(unique_vocales, unique_consonantes)\n",
    "}\n",
    "\n",
    "cat(\"\\n-----------------------\\n\")\n",
    "cat(\"Funciona para 1 cadena\")\n",
    "cat(\"\\n-----------------------\\n\")\n",
    "cad <- \"Hola Mundo Muy Cruel\"\n",
    "cat(cad)\n",
    "cat(\"\\n\")\n",
    "res <- vyc(cad)\n",
    "print(res)"
   ]
  },
  {
   "cell_type": "markdown",
   "metadata": {},
   "source": [
    "5. Crear una función \"subpos\" que dado un vector v y dos valores x e y (siendo y un parámetro opcional), devuelva una nuevo vector con los valores incluidos después de la aparición de la primera x (si x no está, empieza desde el principio) hasta la primera y (que aparezca después de la primera x), (si y no está o no se pasa por parámetro, termina hasta el final del vector). Ejemplos:\n",
    ">subpos(1:4, 8, 3) -> 1 2 3<br/>\n",
    "subpos(1:4, 2, 8) -> 2 3 4<br/>\n",
    "subpos(1:4, 2) -> 2 3 4"
   ]
  },
  {
   "cell_type": "code",
   "execution_count": 8,
   "metadata": {
    "vscode": {
     "languageId": "r"
    }
   },
   "outputs": [
    {
     "name": "stdout",
     "output_type": "stream",
     "text": [
      "[1] 1 2 3\n"
     ]
    },
    {
     "name": "stdout",
     "output_type": "stream",
     "text": [
      "[1] 2 3 4\n",
      "[1] 2 3 4\n",
      "[1] 3 4\n",
      "[1] 3\n",
      "[1] 3 4 1 2\n"
     ]
    }
   ],
   "source": [
    "subpos <- function(v, x, y = length(v)) {\n",
    "  # We know that v must be >= x.\n",
    "  # If x is not present the sum(v == x)==0\n",
    "  condition <- (v >= x | sum(v == x) <= 0)\n",
    "  first_true <- min(which(condition, arr.ind = TRUE))\n",
    "  condition[first_true : length(condition)] <- TRUE\n",
    "  # Now we have from x to the end\n",
    "  nv <- v[condition]\n",
    "  # We try to find y\n",
    "  found_y <- which(nv == y, arr.ind = TRUE)\n",
    "  # We generate a secuence from 1:min(found_y, length(nv))\n",
    "  # seq_len() was a suggestion from seq_linter (hope it works as expected)\n",
    "  nv[seq_len(min(found_y, length(nv)))]\n",
    "}\n",
    "print(subpos(1:4, 8, 3))\n",
    "print(subpos(1:4, 2, 8))\n",
    "print(subpos(1:4, 2))\n",
    "print(subpos(1:4, 3))\n",
    "print(subpos(1:4, 3, 3))\n",
    "print(subpos(rep(1:4, 2), 3, 2))"
   ]
  }
 ],
 "metadata": {
  "kernelspec": {
   "display_name": "R",
   "language": "R",
   "name": "ir"
  },
  "language_info": {
   "codemirror_mode": "r",
   "file_extension": ".r",
   "mimetype": "text/x-r-source",
   "name": "R",
   "pygments_lexer": "r",
   "version": "4.4.1"
  }
 },
 "nbformat": 4,
 "nbformat_minor": 2
}
