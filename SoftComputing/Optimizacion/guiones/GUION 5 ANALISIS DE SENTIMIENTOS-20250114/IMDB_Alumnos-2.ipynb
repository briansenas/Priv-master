{
 "cells": [
  {
   "cell_type": "markdown",
   "metadata": {},
   "source": [
    "# PRÁCTICAS DE REDES NEURONALES ARTIFICIALES (TSCAO): Parte V"
   ]
  },
  {
   "cell_type": "markdown",
   "metadata": {},
   "source": [
    "## 5. ANÁLISIS DE SENTIMIENTOS. EL CONJUNTO DE DATOS IMDB\n",
    "\n",
    "**¿QUÉ ES EL ANÁLISIS DE SENTIMIENTOS?**\n",
    "\n",
    "El análisis de sentimientos tiene como objetivo determinar la actitud o el sentimiento ya sea de un orador o escritor con respecto a un documento, interacción o evento. Se considera un problema de procesamiento del lenguaje natural en el que es necesario comprender el texto para predecir la intención subyacente en él.\n",
    "\n",
    "El sentimiento se clasifica principalmente en categorías positivas, negativas y neutras. A través del análisis de sentimientos, es posible que deseemos predecir, por ejemplo, la opinión y la actitud de un cliente sobre un producto en función de una reseña que escribió. Esta técnica se aplica ampliamente a temas como revisiones, encuestas, documentos y mucho más.\n",
    "\n",
    "**EL CONJUNTO DE DATOS DE IMDB**\n",
    "\n",
    "El conjunto de datos de clasificación de sentimientos de IMDB consta de 50.000 reseñas de películas de usuarios de IMDB que están etiquetadas como positivas (1) o negativas (0). Las reseñas están preprocesadas y cada una está codificada como una secuencia de índices de palabras en forma de números enteros. Las palabras dentro de las revisiones están indexadas por su frecuencia general dentro del conjunto de datos. Por ejemplo, el número entero \"2\" codifica la segunda palabra más frecuente en los datos.\n",
    "\n",
    "Los 50.000 ejemplos se dividen en 25.000 que habitualmente se utilizan para entrenamiento y 25.000 para test.\n",
    "\n",
    "El conjunto de datos fue creado por investigadores de la Universidad de Stanford y publicado en un artículo de 2011, donde lograron un 88,89% de precisión. También se utilizó en el concurso de Kaggle \"Bag of Words Meets Bags of Popcorn\" en 2011."
   ]
  },
  {
   "cell_type": "markdown",
   "metadata": {},
   "source": [
    "**IMPORTACIÓN DE DEPENDENCIAS Y OBTENCIÓN DE DATOS**\n",
    "\n",
    "Comenzaremos importando las librerías que nos proporcionarán las dependencias necesarias para\n",
    "preprocesar nuestros datos y construir nuestro modelo:"
   ]
  },
  {
   "cell_type": "code",
   "execution_count": 1,
   "metadata": {},
   "outputs": [],
   "source": [
    "# Importando las librerias\n",
    "import numpy as np\n",
    "from keras.datasets import imdb\n",
    "import matplotlib.pyplot as plt"
   ]
  },
  {
   "cell_type": "markdown",
   "metadata": {},
   "source": [
    "**NOTA**: Keras tiene algún cambio reciente que provoca problemas para cargar el conjunto de datos IMDB. Por esta razón se deberá usar Numpy, versión 1.16.2. También con versiones previas a la actual de Keras funciona correctamente.\n",
    "\n",
    "El conjunto de datos IMDB se encuentra integrado en Keras. Keras proporciona acceso al conjunto de datos IMDB que tiene incorporado. La función _imdb.load _data()_ permite cargar el conjunto de datos en un formato que estará listo para utilizarse con redes neuronales. Las palabras han sido reemplazadas como hemos visto anteriormente por números enteros y su frecuencia general dentro del conjunto de datos. Por lo tanto, cada reseña en el conjunto de ejemplos estará representada por una secuencia de enteros.\n",
    "\n",
    "Llamando a _imdb.load_data()_ la primera vez descargará el conjunto de datos IMDB en su PC guardándolo en tu directorio home bajo _~/.keras/datasets/imdb.pkl_ como un archivo de 32 megabytes.\n",
    "\n",
    "Útilmente, la función imdb.load_data() proporciona argumentos adicionales incluyendo el número de palabras superiores a cargar (donde las palabras con un número entero inferior se marcan como cero en los datos devueltos), el número de palabras principales a omitir y la duración máxima de las revisiones.\n",
    "\n",
    "Como queremos tenemos una división de datos de entrenamiento/test del 80/20 fusionaremos los datos en un único fichero para poder utilizarlos posteriormente según esa proporción."
   ]
  },
  {
   "cell_type": "code",
   "execution_count": 2,
   "metadata": {},
   "outputs": [],
   "source": [
    "# Load the dataset\n",
    "(X_train, y_train), (X_test, y_test) = imdb.load_data()\n",
    "X = np.concatenate((X_train, X_test), axis=0)\n",
    "y = np.concatenate((y_train, y_test), axis=0)"
   ]
  },
  {
   "cell_type": "markdown",
   "metadata": {},
   "source": [
    "Ahora podemos comenzar a explorar el conjunto de datos. Veamos de cuantos datos disponemos:"
   ]
  },
  {
   "cell_type": "code",
   "execution_count": 3,
   "metadata": {},
   "outputs": [
    {
     "name": "stdout",
     "output_type": "stream",
     "text": [
      "dataset a entrenar: \n",
      "(50000,)\n",
      "(50000,)\n"
     ]
    }
   ],
   "source": [
    "# summarize size\n",
    "print(\"dataset a entrenar: \")\n",
    "print(X.shape)\n",
    "print(y.shape)"
   ]
  },
  {
   "cell_type": "markdown",
   "metadata": {},
   "source": [
    "Podemos observar que tenemos en total unos 50000 ejemplos.\n",
    "Podemos ver las clases que tenemos:"
   ]
  },
  {
   "cell_type": "code",
   "execution_count": 4,
   "metadata": {},
   "outputs": [
    {
     "name": "stdout",
     "output_type": "stream",
     "text": [
      "Clases: \n",
      "[0 1]\n"
     ]
    }
   ],
   "source": [
    "# numero de clases\n",
    "print(\"Clases: \")\n",
    "print(np.unique(y))"
   ]
  },
  {
   "cell_type": "markdown",
   "metadata": {},
   "source": [
    "Podemos ver en el resultado anterior que el conjunto de datos está etiquetado en dos categorías, 0 o 1, que representa el sentimiento de la revisión, bueno=1 y malo=0.\n",
    "\n",
    "El conjunto de datos completo contiene 88585 palabras y la extensión promedio de la revisión es de 234 palabras, con una desviación estándar de 173 palabras. Esto podemos verlo con el código siguiente:"
   ]
  },
  {
   "cell_type": "code",
   "execution_count": 5,
   "metadata": {},
   "outputs": [
    {
     "name": "stdout",
     "output_type": "stream",
     "text": [
      "número de palabras: \n",
      "88585\n"
     ]
    }
   ],
   "source": [
    "# palabras únicas del conjunto de datos\n",
    "print(\"número de palabras: \")\n",
    "print(len(np.unique(np.hstack(X))))"
   ]
  },
  {
   "cell_type": "markdown",
   "metadata": {},
   "source": [
    "Con este código podemos ver la longitud media de las palabras:"
   ]
  },
  {
   "cell_type": "code",
   "execution_count": 6,
   "metadata": {},
   "outputs": [
    {
     "name": "stdout",
     "output_type": "stream",
     "text": [
      "Longitud: \n",
      "Media 234.76 palabras (172.911495)\n"
     ]
    }
   ],
   "source": [
    "# Longitud\n",
    "print(\"Longitud: \")\n",
    "result = [len(x) for x in X]\n",
    "print(\"Media %.2f palabras (%f)\" % (np.mean(result), np.std(result)))"
   ]
  },
  {
   "cell_type": "markdown",
   "metadata": {},
   "source": [
    "Ahora pintaremos un grafico de cajas y bigotes y el histograma de longitudes de palabras. Si observamos el gráfico de cajas y bigotes y el histograma de las longitudes, podemos ver una distribución exponencial que puede cubrir la masa de la distribución con una longitud recortada de 400 a 500 palabras."
   ]
  },
  {
   "cell_type": "code",
   "execution_count": 7,
   "metadata": {},
   "outputs": [
    {
     "data": {
      "image/png": "[encoded data removed]",
      "text/plain": [
       "<Figure size 432x288 with 2 Axes>"
      ]
     },
     "metadata": {
      "needs_background": "light"
     },
     "output_type": "display_data"
    }
   ],
   "source": [
    "# ploteamos la Longitud un boxplot y el histograma\n",
    "plt.subplot(121)\n",
    "plt.boxplot(result)\n",
    "plt.subplot(122)\n",
    "plt.hist(result)\n",
    "plt.show()"
   ]
  },
  {
   "cell_type": "markdown",
   "metadata": {},
   "source": [
    "A continuación, vamos a ver qué aspecto tienen los ejemplos:"
   ]
  },
  {
   "cell_type": "code",
   "execution_count": 8,
   "metadata": {},
   "outputs": [
    {
     "name": "stdout",
     "output_type": "stream",
     "text": [
      "Label: 1\n",
      "[1, 14, 22, 16, 43, 530, 973, 1622, 1385, 65, 458, 4468, 66, 3941, 4, 173, 36, 256, 5, 25, 100, 43, 838, 112, 50, 670, 22665, 9, 35, 480, 284, 5, 150, 4, 172, 112, 167, 21631, 336, 385, 39, 4, 172, 4536, 1111, 17, 546, 38, 13, 447, 4, 192, 50, 16, 6, 147, 2025, 19, 14, 22, 4, 1920, 4613, 469, 4, 22, 71, 87, 12, 16, 43, 530, 38, 76, 15, 13, 1247, 4, 22, 17, 515, 17, 12, 16, 626, 18, 19193, 5, 62, 386, 12, 8, 316, 8, 106, 5, 4, 2223, 5244, 16, 480, 66, 3785, 33, 4, 130, 12, 16, 38, 619, 5, 25, 124, 51, 36, 135, 48, 25, 1415, 33, 6, 22, 12, 215, 28, 77, 52, 5, 14, 407, 16, 82, 10311, 8, 4, 107, 117, 5952, 15, 256, 4, 31050, 7, 3766, 5, 723, 36, 71, 43, 530, 476, 26, 400, 317, 46, 7, 4, 12118, 1029, 13, 104, 88, 4, 381, 15, 297, 98, 32, 2071, 56, 26, 141, 6, 194, 7486, 18, 4, 226, 22, 21, 134, 476, 26, 480, 5, 144, 30, 5535, 18, 51, 36, 28, 224, 92, 25, 104, 4, 226, 65, 16, 38, 1334, 88, 12, 16, 283, 5, 16, 4472, 113, 103, 32, 15, 16, 5345, 19, 178, 32]\n"
     ]
    }
   ],
   "source": [
    "print(\"Label:\", y[0])\n",
    "\n",
    "print(X[0])"
   ]
  },
  {
   "cell_type": "markdown",
   "metadata": {},
   "source": [
    "Como podemos observar en la imagen, el primer ejemplo está etiquetado como positivo (1). El\n",
    "siguiente código recupera los índices de palabras de mapeo del diccionario en las palabras\n",
    "originales para que podamos leerlas. Reemplaza cada palabra desconocida con un \"#\". Hace esto usando la función _get_word_index()_."
   ]
  },
  {
   "cell_type": "code",
   "execution_count": 9,
   "metadata": {},
   "outputs": [
    {
     "name": "stdout",
     "output_type": "stream",
     "text": [
      "# this film was just brilliant casting location scenery story direction everyone's really suited the part they played and you could just imagine being there robert redford's is an amazing actor and now the same being director norman's father came from the same scottish island as myself so i loved the fact there was a real connection with this film the witty remarks throughout the film were great it was just brilliant so much that i bought the film as soon as it was released for retail and would recommend it to everyone to watch and the fly fishing was amazing really cried at the end it was so sad and you know what they say if you cry at a film it must have been good and this definitely was also congratulations to the two little boy's that played the part's of norman and paul they were just brilliant children are often left out of the praising list i think because the stars that play them all grown up are such a big profile for the whole film but these children are amazing and should be praised for what they have done don't you think the whole story was so lovely because it was true and was someone's life after all that was shared with us all\n"
     ]
    }
   ],
   "source": [
    "index = imdb.get_word_index()\n",
    "reverse_index = dict([(value, key) for (key, value) in index.items()])\n",
    "decoded = \" \".join( [reverse_index.get(i - 3, \"#\") for i in X[0]])\n",
    "print(decoded)"
   ]
  },
  {
   "cell_type": "markdown",
   "metadata": {},
   "source": [
    "**¿COMO TRATARIAMOS ESTE PROBLEMA CON UNA RED FEEDFORWARD?**\n",
    "\n",
    "Comenzaremos por importar las clases y funciones necesarias para este modelo e inicializar el generador de números aleatorios a un valor constante para asegurarnos de que podemos reproducir fácilmente los resultados."
   ]
  },
  {
   "cell_type": "code",
   "execution_count": 10,
   "metadata": {},
   "outputs": [],
   "source": [
    "import numpy as np\n",
    "from keras.datasets import imdb\n",
    "from keras.models import Sequential\n",
    "from keras.layers import Dense, Flatten\n",
    "from keras.layers.embeddings import Embedding\n",
    "from keras.preprocessing import sequence\n",
    "\n",
    "# semilla aleatoria de reproducibilidad\n",
    "seed = 7\n",
    "\n",
    "np.random.seed(seed)"
   ]
  },
  {
   "cell_type": "markdown",
   "metadata": {},
   "source": [
    "A continuación, cargaremos el conjunto de datos IMDB. Simplificaremos el conjunto de datos\n",
    "usando “incrustraciones” de palabras. Sólo cargaremos las 5.000 primeras palabras de cada reseña.\n",
    "\n",
    "Utilizaremos una división del 50%/50% del conjunto de datos para entrenamiento y test si utilizamos el código que a continuación se expone Si se desea utilizar otra distribución utilizar el código que se plantea en el apartado anterior para una distribución del 80/20.\n",
    "Limitaremos las reseñas a 500 palabras, truncando las revisiones más largas y completando con 0 las revisiones más cortas."
   ]
  },
  {
   "cell_type": "code",
   "execution_count": 11,
   "metadata": {},
   "outputs": [],
   "source": [
    "# carga del conjunto de datos pero sólo mantenemos las n palabras \n",
    "# principales, cero el resto\n",
    "top_words = 5000\n",
    "(X_train, y_train), (X_test, y_test) = imdb.load_data(num_words=top_words)"
   ]
  },
  {
   "cell_type": "code",
   "execution_count": 12,
   "metadata": {},
   "outputs": [],
   "source": [
    "max_words = 500\n",
    "X_train = sequence.pad_sequences(X_train, maxlen=max_words)\n",
    "X_test = sequence.pad_sequences(X_test, maxlen=max_words)"
   ]
  },
  {
   "cell_type": "markdown",
   "metadata": {},
   "source": [
    "Ahora podemos crear nuestro modelo. Usaremos una capa de embedding como capa de entrada,\n",
    "estableciendo el vocabulario en 5.000, el tamaño del vector de palabra con 32 dimensiones y la longitud de entrada (input_legth) de 500.\n",
    "\n",
    "\n",
    "Aplanaremos la salida de las capas de embedding a una dimensión, luego usaremos una capa oculta densa de 250 unidades con función de activación de relu. La capa de salida tiene una neurona y usará una activación sigmoide con valores de salida de 0 y 1 como predicciones. El modelo utiliza el error logarítmico y se optimiza mediante el procedimiento de optimización de ADAM."
   ]
  },
  {
   "cell_type": "code",
   "execution_count": 13,
   "metadata": {},
   "outputs": [
    {
     "name": "stdout",
     "output_type": "stream",
     "text": [
      "Model: \"sequential\"\n",
      "_________________________________________________________________\n",
      " Layer (type)                Output Shape              Param #   \n",
      "=================================================================\n",
      " embedding (Embedding)       (None, 500, 32)           160000    \n",
      "                                                                 \n",
      " flatten (Flatten)           (None, 16000)             0         \n",
      "                                                                 \n",
      " dense (Dense)               (None, 250)               4000250   \n",
      "                                                                 \n",
      " dense_1 (Dense)             (None, 1)                 251       \n",
      "                                                                 \n",
      "=================================================================\n",
      "Total params: 4,160,501\n",
      "Trainable params: 4,160,501\n",
      "Non-trainable params: 0\n",
      "_________________________________________________________________\n",
      "None\n",
      "Epoch 1/10\n"
     ]
    },
    {
     "name": "stderr",
     "output_type": "stream",
     "text": [
      "2022-03-06 06:20:32.615660: I tensorflow/core/platform/cpu_feature_guard.cc:151] This TensorFlow binary is optimized with oneAPI Deep Neural Network Library (oneDNN) to use the following CPU instructions in performance-critical operations:  AVX2 FMA\n",
      "To enable them in other operations, rebuild TensorFlow with the appropriate compiler flags.\n"
     ]
    },
    {
     "name": "stdout",
     "output_type": "stream",
     "text": [
      "157/157 [==============================] - 9s 57ms/step - loss: 0.5542 - accuracy: 0.6953 - val_loss: 0.3351 - val_accuracy: 0.8524\n",
      "Epoch 2/10\n",
      "157/157 [==============================] - 9s 57ms/step - loss: 0.2065 - accuracy: 0.9197 - val_loss: 0.2985 - val_accuracy: 0.8782\n",
      "Epoch 3/10\n",
      "157/157 [==============================] - 9s 57ms/step - loss: 0.0719 - accuracy: 0.9791 - val_loss: 0.3867 - val_accuracy: 0.8662\n",
      "Epoch 4/10\n",
      "157/157 [==============================] - 9s 59ms/step - loss: 0.0149 - accuracy: 0.9980 - val_loss: 0.4530 - val_accuracy: 0.8694\n",
      "Epoch 5/10\n",
      "157/157 [==============================] - 10s 61ms/step - loss: 0.0029 - accuracy: 0.9998 - val_loss: 0.5165 - val_accuracy: 0.8682\n",
      "Epoch 6/10\n",
      "157/157 [==============================] - 10s 66ms/step - loss: 0.0011 - accuracy: 1.0000 - val_loss: 0.5355 - val_accuracy: 0.8702\n",
      "Epoch 7/10\n",
      "157/157 [==============================] - 10s 62ms/step - loss: 5.8720e-04 - accuracy: 1.0000 - val_loss: 0.5615 - val_accuracy: 0.8698\n",
      "Epoch 8/10\n",
      "157/157 [==============================] - 10s 63ms/step - loss: 3.9540e-04 - accuracy: 1.0000 - val_loss: 0.5818 - val_accuracy: 0.8702\n",
      "Epoch 9/10\n",
      "157/157 [==============================] - 10s 64ms/step - loss: 2.7731e-04 - accuracy: 1.0000 - val_loss: 0.5997 - val_accuracy: 0.8698\n",
      "Epoch 10/10\n",
      "157/157 [==============================] - 10s 63ms/step - loss: 2.0676e-04 - accuracy: 1.0000 - val_loss: 0.6147 - val_accuracy: 0.8702\n"
     ]
    }
   ],
   "source": [
    "# creamos el modelo, recordad que:\n",
    "# el número máximo de palabras del lexicón que usaremos seran 5000\n",
    "# que la longitud máxima del parrafo es 500 y \n",
    "# la dimension del espacio  que se transforma cada palabra es 32\n",
    "# Estos son los parametros del Embedding y por tanto la entrada a la \n",
    "# red estará formada por 500*32\n",
    "\n",
    "\n",
    "model = Sequential()\n",
    "model.add(Embedding(top_words, 32, input_length=max_words))\n",
    "model.add(Flatten())\n",
    "model.add(Dense(250, activation='relu'))\n",
    "model.add(Dense(1, activation='sigmoid'))\n",
    "\n",
    "model.compile(loss='binary_crossentropy', optimizer='adam', metrics=['accuracy'])\n",
    "\n",
    "print(model.summary())\n",
    "\n",
    "history = model.fit(X_train, y_train, epochs=10, batch_size=128, validation_split=0.2)"
   ]
  },
  {
   "cell_type": "markdown",
   "metadata": {},
   "source": [
    "Utilizaremos el conjunto test como validación durante el entrenamiento. Este modelo se\n",
    "sobreajusta muy rápidamente por lo que utilizaremos muy pocas épocas de entrenamiento, en este caso sólo 2. Hay muchos datos por lo que utilizaremos un tamaño de lote de 128. Después de que el modelo se ha entrenado, evaluaremos su precisión sobre el conjunto de test."
   ]
  },
  {
   "cell_type": "code",
   "execution_count": 14,
   "metadata": {},
   "outputs": [
    {
     "name": "stdout",
     "output_type": "stream",
     "text": [
      "Epoch 1/2\n",
      "196/196 [==============================] - 15s 75ms/step - loss: 0.1217 - accuracy: 0.9626 - val_loss: 0.3927 - val_accuracy: 0.8612\n",
      "Epoch 2/2\n",
      "196/196 [==============================] - 15s 76ms/step - loss: 0.0140 - accuracy: 0.9966 - val_loss: 0.5723 - val_accuracy: 0.8630\n",
      "Precisión: 86.30%\n"
     ]
    }
   ],
   "source": [
    "# ajustamos el modelo\n",
    "model.fit(X_train, y_train, validation_data=(X_test, y_test), epochs=2, batch_size=128, verbose=1)\n",
    "\n",
    "# Evaluación final del modelo\n",
    "scores = model.evaluate(X_test, y_test, verbose=0)\n",
    "print(\"Precisión: %.2f%%\" % (scores[1]*100))"
   ]
  },
  {
   "cell_type": "markdown",
   "metadata": {},
   "source": [
    "A continuación, se presenta un código para poder representar gráficamente la evolución tanto del\n",
    "error y el tanto por ciento de aciertos del conjunto de entrenamiento y validación:"
   ]
  },
  {
   "cell_type": "code",
   "execution_count": 15,
   "metadata": {},
   "outputs": [
    {
     "data": {
      "image/png": "[encoded data removed]",
      "text/plain": [
       "<Figure size 432x288 with 1 Axes>"
      ]
     },
     "metadata": {
      "needs_background": "light"
     },
     "output_type": "display_data"
    },
    {
     "data": {
      "image/png": "[encoded data removed]",
      "text/plain": [
       "<Figure size 432x288 with 1 Axes>"
      ]
     },
     "metadata": {
      "needs_background": "light"
     },
     "output_type": "display_data"
    }
   ],
   "source": [
    "import matplotlib.pyplot as plt\n",
    "acc = history.history['accuracy']\n",
    "val_acc = history.history['val_accuracy']\n",
    "loss = history.history['loss']\n",
    "val_loss = history.history['val_loss']\n",
    "epochs = range(1, len(acc) + 1)\n",
    "plt.plot(epochs, acc, 'bo', label='Training acc')\n",
    "plt.plot(epochs, val_acc, 'b', label='Validation acc')\n",
    "plt.title('Training and validation accuracy')\n",
    "plt.legend()\n",
    "plt.figure()\n",
    "plt.plot(epochs, loss, 'bo', label='Training loss')\n",
    "plt.plot(epochs, val_loss, 'b', label='Validation loss')\n",
    "plt.title('Training and validation loss')\n",
    "plt.legend()\n",
    "plt.show()"
   ]
  },
  {
   "cell_type": "markdown",
   "metadata": {},
   "source": [
    "**¿COMO TRATARIAMOS ESTE PROBLEMA CON UNA RED RECURRENTE?**\n",
    "\n",
    "Únicamente habrá que sustituir la parte del código asociado a la red, el resto del código será el mismo.\n",
    "\n",
    "En esta parte diseñamos la red neuronal:"
   ]
  },
  {
   "cell_type": "code",
   "execution_count": 16,
   "metadata": {},
   "outputs": [
    {
     "name": "stdout",
     "output_type": "stream",
     "text": [
      "Epoch 1/10\n",
      "157/157 [==============================] - 25s 150ms/step - loss: 0.6227 - accuracy: 0.6420 - val_loss: 0.5535 - val_accuracy: 0.7258\n",
      "Epoch 2/10\n",
      "157/157 [==============================] - 23s 149ms/step - loss: 0.3987 - accuracy: 0.8308 - val_loss: 0.3896 - val_accuracy: 0.8330\n",
      "Epoch 3/10\n",
      "157/157 [==============================] - 23s 148ms/step - loss: 0.3274 - accuracy: 0.8609 - val_loss: 0.4264 - val_accuracy: 0.8060\n",
      "Epoch 4/10\n",
      "157/157 [==============================] - 24s 150ms/step - loss: 0.2608 - accuracy: 0.8948 - val_loss: 0.3737 - val_accuracy: 0.8518\n",
      "Epoch 5/10\n",
      "157/157 [==============================] - 23s 147ms/step - loss: 0.2066 - accuracy: 0.9208 - val_loss: 0.3945 - val_accuracy: 0.8590\n",
      "Epoch 6/10\n",
      "157/157 [==============================] - 27s 171ms/step - loss: 0.1610 - accuracy: 0.9401 - val_loss: 0.4372 - val_accuracy: 0.8414\n",
      "Epoch 7/10\n",
      "157/157 [==============================] - 32s 201ms/step - loss: 0.1165 - accuracy: 0.9578 - val_loss: 0.4968 - val_accuracy: 0.8478\n",
      "Epoch 8/10\n",
      "157/157 [==============================] - 25s 157ms/step - loss: 0.1261 - accuracy: 0.9551 - val_loss: 0.5923 - val_accuracy: 0.8002\n",
      "Epoch 9/10\n",
      "157/157 [==============================] - 28s 175ms/step - loss: 0.0798 - accuracy: 0.9734 - val_loss: 0.6778 - val_accuracy: 0.7858\n",
      "Epoch 10/10\n",
      "157/157 [==============================] - 28s 180ms/step - loss: 0.0542 - accuracy: 0.9832 - val_loss: 0.6424 - val_accuracy: 0.8176\n"
     ]
    }
   ],
   "source": [
    "from keras.layers import SimpleRNN\n",
    "# creamos el modelo\n",
    "model = Sequential()\n",
    "model.add(Embedding(top_words, 32, input_length=max_words))\n",
    "model.add(SimpleRNN(50))\n",
    "model.add(Dense(1, activation='sigmoid'))\n",
    "\n",
    "model.compile(loss='binary_crossentropy', optimizer='rmsprop', metrics=['accuracy'])\n",
    "\n",
    "history = model.fit(X_train, y_train, epochs=10, batch_size=128, validation_split=0.2)"
   ]
  },
  {
   "cell_type": "markdown",
   "metadata": {},
   "source": [
    "A continuación, entrenamos la red y evaluamos con el conjunto test:"
   ]
  },
  {
   "cell_type": "code",
   "execution_count": 17,
   "metadata": {},
   "outputs": [
    {
     "name": "stdout",
     "output_type": "stream",
     "text": [
      "Epoch 1/2\n",
      "196/196 [==============================] - 36s 185ms/step - loss: 0.1766 - accuracy: 0.9423 - val_loss: 0.5693 - val_accuracy: 0.8089\n",
      "Epoch 2/2\n",
      "196/196 [==============================] - 38s 195ms/step - loss: 0.1162 - accuracy: 0.9610 - val_loss: 0.6581 - val_accuracy: 0.8137\n",
      "Precisión: 81.37%\n"
     ]
    }
   ],
   "source": [
    "# ajustamos el modelo\n",
    "model.fit(X_train, y_train, validation_data=(X_test, y_test), epochs=2, batch_size=128, verbose=1)\n",
    "\n",
    "# Evaluación final del modelo\n",
    "scores = model.evaluate(X_test, y_test, verbose=0)\n",
    "print(\"Precisión: %.2f%%\" % (scores[1]*100))"
   ]
  },
  {
   "cell_type": "markdown",
   "metadata": {},
   "source": [
    "La visualización de los resultados, se haría de manera análoga al apartado anterior."
   ]
  },
  {
   "cell_type": "code",
   "execution_count": 18,
   "metadata": {},
   "outputs": [
    {
     "data": {
      "image/png": "[encoded data removed]",
      "text/plain": [
       "<Figure size 432x288 with 1 Axes>"
      ]
     },
     "metadata": {
      "needs_background": "light"
     },
     "output_type": "display_data"
    },
    {
     "data": {
      "image/png": "[encoded data removed]",
      "text/plain": [
       "<Figure size 432x288 with 1 Axes>"
      ]
     },
     "metadata": {
      "needs_background": "light"
     },
     "output_type": "display_data"
    }
   ],
   "source": [
    "import matplotlib.pyplot as plt\n",
    "acc = history.history['accuracy']\n",
    "val_acc = history.history['val_accuracy']\n",
    "loss = history.history['loss']\n",
    "val_loss = history.history['val_loss']\n",
    "epochs = range(1, len(acc) + 1)\n",
    "plt.plot(epochs, acc, 'bo', label='Training acc')\n",
    "plt.plot(epochs, val_acc, 'b', label='Validation acc')\n",
    "plt.title('Training and validation accuracy')\n",
    "plt.legend()\n",
    "plt.figure()\n",
    "plt.plot(epochs, loss, 'bo', label='Training loss')\n",
    "plt.plot(epochs, val_loss, 'b', label='Validation loss')\n",
    "plt.title('Training and validation loss')\n",
    "plt.legend()\n",
    "plt.show()"
   ]
  },
  {
   "cell_type": "markdown",
   "metadata": {},
   "source": [
    "**¿COMO TRATARIAMOS ESTE PROBLEMA CON UNA RED RECURRENTE LSTM?**\n",
    "\n",
    "Al igual que en el caso anterior con respecto al código, únicamente habrá que sustituir la parte del código asociado a la red, el resto del código será el mismo.\n",
    "\n",
    "En esta parte diseñamos la red LSTM:"
   ]
  },
  {
   "cell_type": "code",
   "execution_count": 19,
   "metadata": {},
   "outputs": [
    {
     "name": "stdout",
     "output_type": "stream",
     "text": [
      "Epoch 1/10\n",
      "157/157 [==============================] - 80s 493ms/step - loss: 0.5274 - accuracy: 0.7441 - val_loss: 0.3422 - val_accuracy: 0.8616\n",
      "Epoch 2/10\n",
      "157/157 [==============================] - 73s 462ms/step - loss: 0.3267 - accuracy: 0.8662 - val_loss: 0.3471 - val_accuracy: 0.8596\n",
      "Epoch 3/10\n",
      "157/157 [==============================] - 73s 464ms/step - loss: 0.2751 - accuracy: 0.8914 - val_loss: 0.4018 - val_accuracy: 0.8322\n",
      "Epoch 4/10\n",
      "157/157 [==============================] - 69s 442ms/step - loss: 0.2483 - accuracy: 0.9049 - val_loss: 0.3175 - val_accuracy: 0.8670\n",
      "Epoch 5/10\n",
      "157/157 [==============================] - 76s 481ms/step - loss: 0.2283 - accuracy: 0.9104 - val_loss: 0.3459 - val_accuracy: 0.8470\n",
      "Epoch 6/10\n",
      "157/157 [==============================] - 72s 460ms/step - loss: 0.2112 - accuracy: 0.9210 - val_loss: 0.2950 - val_accuracy: 0.8820\n",
      "Epoch 7/10\n",
      "157/157 [==============================] - 75s 480ms/step - loss: 0.1971 - accuracy: 0.9257 - val_loss: 0.4511 - val_accuracy: 0.8454\n",
      "Epoch 8/10\n",
      "157/157 [==============================] - 73s 468ms/step - loss: 0.1878 - accuracy: 0.9306 - val_loss: 0.3505 - val_accuracy: 0.8598\n",
      "Epoch 9/10\n",
      "157/157 [==============================] - 80s 507ms/step - loss: 0.1806 - accuracy: 0.9345 - val_loss: 0.3044 - val_accuracy: 0.8758\n",
      "Epoch 10/10\n",
      "157/157 [==============================] - 93s 591ms/step - loss: 0.1701 - accuracy: 0.9376 - val_loss: 0.4890 - val_accuracy: 0.8390\n"
     ]
    }
   ],
   "source": [
    "from keras.layers import LSTM\n",
    "# creamos el modelo\n",
    "model = Sequential()\n",
    "model.add(Embedding(top_words, 32, input_length=max_words))\n",
    "model.add(LSTM(50))\n",
    "model.add(Dense(1, activation='sigmoid'))\n",
    "\n",
    "model.compile(loss='binary_crossentropy', optimizer='rmsprop', metrics=['accuracy'])\n",
    "\n",
    "history = model.fit(X_train, y_train, epochs=10, batch_size=128, validation_split=0.2)"
   ]
  },
  {
   "cell_type": "markdown",
   "metadata": {},
   "source": [
    "A continuación, entrenamos la red LSTM y evaluamos con el conjunto test:"
   ]
  },
  {
   "cell_type": "code",
   "execution_count": 20,
   "metadata": {},
   "outputs": [
    {
     "name": "stdout",
     "output_type": "stream",
     "text": [
      "Epoch 1/2\n",
      "196/196 [==============================] - 136s 696ms/step - loss: 0.2001 - accuracy: 0.9259 - val_loss: 0.3102 - val_accuracy: 0.8759\n",
      "Epoch 2/2\n",
      "196/196 [==============================] - 125s 641ms/step - loss: 0.1855 - accuracy: 0.9305 - val_loss: 0.3630 - val_accuracy: 0.8549\n",
      "Precisión: 85.49%\n"
     ]
    }
   ],
   "source": [
    "# ajustamos el modelo\n",
    "model.fit(X_train, y_train, validation_data=(X_test, y_test), epochs=2, batch_size=128, verbose=1)\n",
    "\n",
    "# Evaluación final del modelo\n",
    "scores = model.evaluate(X_test, y_test, verbose=0)\n",
    "print(\"Precisión: %.2f%%\" % (scores[1]*100))"
   ]
  },
  {
   "cell_type": "markdown",
   "metadata": {},
   "source": [
    "Realizados estos pasos, ya podemos visualizar los resultados haciéndolo de manera análoga a los\n",
    "casos anteriores."
   ]
  },
  {
   "cell_type": "code",
   "execution_count": 21,
   "metadata": {},
   "outputs": [
    {
     "data": {
      "image/png": "[encoded data removed]",
      "text/plain": [
       "<Figure size 432x288 with 1 Axes>"
      ]
     },
     "metadata": {
      "needs_background": "light"
     },
     "output_type": "display_data"
    },
    {
     "data": {
      "image/png": "[encoded data removed]",
      "text/plain": [
       "<Figure size 432x288 with 1 Axes>"
      ]
     },
     "metadata": {
      "needs_background": "light"
     },
     "output_type": "display_data"
    }
   ],
   "source": [
    "import matplotlib.pyplot as plt\n",
    "acc = history.history['accuracy']\n",
    "val_acc = history.history['val_accuracy']\n",
    "loss = history.history['loss']\n",
    "val_loss = history.history['val_loss']\n",
    "epochs = range(1, len(acc) + 1)\n",
    "plt.plot(epochs, acc, 'bo', label='Training acc')\n",
    "plt.plot(epochs, val_acc, 'b', label='Validation acc')\n",
    "plt.title('Training and validation accuracy')\n",
    "plt.legend()\n",
    "plt.figure()\n",
    "plt.plot(epochs, loss, 'bo', label='Training loss')\n",
    "plt.plot(epochs, val_loss, 'b', label='Validation loss')\n",
    "plt.title('Training and validation loss')\n",
    "plt.legend()\n",
    "plt.show()"
   ]
  },
  {
   "cell_type": "markdown",
   "metadata": {},
   "source": [
    "# ESTUDIO EXPERIMENTAL\n",
    "\n",
    "A partir de los códigos anteriores, realizar diversas ejecuciones con diferentes parámetros, configuraciones de red, etc. y recoger los resultados en varias tablas para poder comparar todos los modelos. Posteriormente, sacar conclusiones de los resultados asociados a los modelos concretos y comparar todos los modelos para evaluar la mejor topología encontrada en las diferentes ejecuciones."
   ]
  }
 ],
 "metadata": {
  "kernelspec": {
   "display_name": "Python 3 (ipykernel)",
   "language": "python",
   "name": "python3"
  },
  "language_info": {
   "codemirror_mode": {
    "name": "ipython",
    "version": 3
   },
   "file_extension": ".py",
   "mimetype": "text/x-python",
   "name": "python",
   "nbconvert_exporter": "python",
   "pygments_lexer": "ipython3",
   "version": "3.8.12"
  }
 },
 "nbformat": 4,
 "nbformat_minor": 2
}
