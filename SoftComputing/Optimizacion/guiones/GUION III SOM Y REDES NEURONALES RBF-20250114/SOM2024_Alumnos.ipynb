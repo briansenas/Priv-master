{
 "cells": [
  {
   "cell_type": "code",
   "execution_count": 70,
   "metadata": {},
   "outputs": [],
   "source": [
    "### Los datos son del repositorio de UCI\n",
    "### Aquí detectamos los valores atípicos que serán justamente los clientes fraudulentos\n",
    "## Necesitamos calcular la MID ((Mean Inter-Neuron Distance(Distancia media \n",
    "## entre neuronas)), que es la distancia euclidia media de la neurona principal con su vecin\n",
    "### Los valores atípicos estarán lejos de la media\n",
    "### Clase 1 son los clientes cuyas solicitudes fueron aprobadas\n",
    "### Pueden ser fraudulentos"
   ]
  },
  {
   "cell_type": "code",
   "execution_count": 71,
   "metadata": {},
   "outputs": [],
   "source": [
    "\n",
    "# Importando las librerias\n",
    "import numpy as np\n",
    "import matplotlib.pyplot as plt\n",
    "import pandas as pd\n",
    "\n"
   ]
  },
  {
   "cell_type": "code",
   "execution_count": 72,
   "metadata": {},
   "outputs": [],
   "source": [
    "# Importando el conjunto de datos\n",
    "\n",
    "dataset = pd.read_csv('Credit_Card_Applications.csv')\n",
    "\n"
   ]
  },
  {
   "cell_type": "code",
   "execution_count": 73,
   "metadata": {},
   "outputs": [
    {
     "data": {
      "text/html": [
       "<div>\n",
       "<style scoped>\n",
       "    .dataframe tbody tr th:only-of-type {\n",
       "        vertical-align: middle;\n",
       "    }\n",
       "\n",
       "    .dataframe tbody tr th {\n",
       "        vertical-align: top;\n",
       "    }\n",
       "\n",
       "    .dataframe thead th {\n",
       "        text-align: right;\n",
       "    }\n",
       "</style>\n",
       "<table border=\"1\" class=\"dataframe\">\n",
       "  <thead>\n",
       "    <tr style=\"text-align: right;\">\n",
       "      <th></th>\n",
       "      <th>CustomerID</th>\n",
       "      <th>A1</th>\n",
       "      <th>A2</th>\n",
       "      <th>A3</th>\n",
       "      <th>A4</th>\n",
       "      <th>A5</th>\n",
       "      <th>A6</th>\n",
       "      <th>A7</th>\n",
       "      <th>A8</th>\n",
       "      <th>A9</th>\n",
       "      <th>A10</th>\n",
       "      <th>A11</th>\n",
       "      <th>A12</th>\n",
       "      <th>A13</th>\n",
       "      <th>A14</th>\n",
       "      <th>Class</th>\n",
       "    </tr>\n",
       "  </thead>\n",
       "  <tbody>\n",
       "    <tr>\n",
       "      <th>0</th>\n",
       "      <td>15776156</td>\n",
       "      <td>1</td>\n",
       "      <td>22.08</td>\n",
       "      <td>11.46</td>\n",
       "      <td>2</td>\n",
       "      <td>4</td>\n",
       "      <td>4</td>\n",
       "      <td>1.585</td>\n",
       "      <td>0</td>\n",
       "      <td>0</td>\n",
       "      <td>0</td>\n",
       "      <td>1</td>\n",
       "      <td>2</td>\n",
       "      <td>100</td>\n",
       "      <td>1213</td>\n",
       "      <td>0</td>\n",
       "    </tr>\n",
       "    <tr>\n",
       "      <th>1</th>\n",
       "      <td>15739548</td>\n",
       "      <td>0</td>\n",
       "      <td>22.67</td>\n",
       "      <td>7.00</td>\n",
       "      <td>2</td>\n",
       "      <td>8</td>\n",
       "      <td>4</td>\n",
       "      <td>0.165</td>\n",
       "      <td>0</td>\n",
       "      <td>0</td>\n",
       "      <td>0</td>\n",
       "      <td>0</td>\n",
       "      <td>2</td>\n",
       "      <td>160</td>\n",
       "      <td>1</td>\n",
       "      <td>0</td>\n",
       "    </tr>\n",
       "    <tr>\n",
       "      <th>2</th>\n",
       "      <td>15662854</td>\n",
       "      <td>0</td>\n",
       "      <td>29.58</td>\n",
       "      <td>1.75</td>\n",
       "      <td>1</td>\n",
       "      <td>4</td>\n",
       "      <td>4</td>\n",
       "      <td>1.250</td>\n",
       "      <td>0</td>\n",
       "      <td>0</td>\n",
       "      <td>0</td>\n",
       "      <td>1</td>\n",
       "      <td>2</td>\n",
       "      <td>280</td>\n",
       "      <td>1</td>\n",
       "      <td>0</td>\n",
       "    </tr>\n",
       "    <tr>\n",
       "      <th>3</th>\n",
       "      <td>15687688</td>\n",
       "      <td>0</td>\n",
       "      <td>21.67</td>\n",
       "      <td>11.50</td>\n",
       "      <td>1</td>\n",
       "      <td>5</td>\n",
       "      <td>3</td>\n",
       "      <td>0.000</td>\n",
       "      <td>1</td>\n",
       "      <td>1</td>\n",
       "      <td>11</td>\n",
       "      <td>1</td>\n",
       "      <td>2</td>\n",
       "      <td>0</td>\n",
       "      <td>1</td>\n",
       "      <td>1</td>\n",
       "    </tr>\n",
       "    <tr>\n",
       "      <th>4</th>\n",
       "      <td>15715750</td>\n",
       "      <td>1</td>\n",
       "      <td>20.17</td>\n",
       "      <td>8.17</td>\n",
       "      <td>2</td>\n",
       "      <td>6</td>\n",
       "      <td>4</td>\n",
       "      <td>1.960</td>\n",
       "      <td>1</td>\n",
       "      <td>1</td>\n",
       "      <td>14</td>\n",
       "      <td>0</td>\n",
       "      <td>2</td>\n",
       "      <td>60</td>\n",
       "      <td>159</td>\n",
       "      <td>1</td>\n",
       "    </tr>\n",
       "  </tbody>\n",
       "</table>\n",
       "</div>"
      ],
      "text/plain": [
       "   CustomerID  A1     A2     A3  A4  A5  A6     A7  A8  A9  A10  A11  A12  \\\n",
       "0    15776156   1  22.08  11.46   2   4   4  1.585   0   0    0    1    2   \n",
       "1    15739548   0  22.67   7.00   2   8   4  0.165   0   0    0    0    2   \n",
       "2    15662854   0  29.58   1.75   1   4   4  1.250   0   0    0    1    2   \n",
       "3    15687688   0  21.67  11.50   1   5   3  0.000   1   1   11    1    2   \n",
       "4    15715750   1  20.17   8.17   2   6   4  1.960   1   1   14    0    2   \n",
       "\n",
       "   A13   A14  Class  \n",
       "0  100  1213      0  \n",
       "1  160     1      0  \n",
       "2  280     1      0  \n",
       "3    0     1      1  \n",
       "4   60   159      1  "
      ]
     },
     "execution_count": 73,
     "metadata": {},
     "output_type": "execute_result"
    }
   ],
   "source": [
    "dataset.head()"
   ]
  },
  {
   "cell_type": "code",
   "execution_count": 74,
   "metadata": {},
   "outputs": [],
   "source": [
    "# iloc obtiene índices de observación, todas las líneas que usamos: y todas las columnas excepto\n",
    "# por último: -1 y valores\n",
    "\n",
    "X = dataset.iloc[:, :-1].values\n",
    "y = dataset.iloc[:, -1].values"
   ]
  },
  {
   "cell_type": "code",
   "execution_count": 75,
   "metadata": {},
   "outputs": [
    {
     "data": {
      "text/plain": [
       "(690, 16)"
      ]
     },
     "execution_count": 75,
     "metadata": {},
     "output_type": "execute_result"
    }
   ],
   "source": [
    "dataset.shape"
   ]
  },
  {
   "cell_type": "code",
   "execution_count": 76,
   "metadata": {},
   "outputs": [],
   "source": [
    "# dividir el conjunto de datos en X e Y, sin intentar hacer un aprendizaje supervisado o una clasificación 0 o 1\n",
    "# haciendo distinción de clientes aprobados y no aprobados, solo usaremos el SOM con\n",
    "# X y no hay variable dependiente\n",
    "\n",
    "# Escalado de características: obligatorio para el aprendizaje profundo porque estamos comenzando con un alto\n",
    "# conjunto de datos dimensionales con muchas relaciones no lineales y será mucho más fácil\n",
    "# para que nuestros modelos de aprendizaje profundo  si las características se escalan.\n",
    "# utiliza la normalización todas las funciones de 0 a 1\n",
    "\n",
    "from sklearn.preprocessing import MinMaxScaler\n",
    "sc = MinMaxScaler(feature_range = (0, 1))\n"
   ]
  },
  {
   "cell_type": "code",
   "execution_count": 77,
   "metadata": {},
   "outputs": [],
   "source": [
    "# ajusta el objeto sc a X para que sc obtenga toda la información (min y max) y toda la información para la normalización\n",
    "# aplica la normalización a X, el método de ajuste devuelve la versión normalizada de X\n",
    "\n",
    "\n",
    "X = sc.fit_transform(X)"
   ]
  },
  {
   "cell_type": "code",
   "execution_count": 78,
   "metadata": {},
   "outputs": [],
   "source": [
    "# Entrenando el SOM\n",
    "\n",
    "### x e y son las dimensiones del SOM (no debe ser pequeño para que se puedan detectar valores atípicos)\n",
    "### input_len son el número de características de X (la identificación del cliente se incluye para encontrar la identificación de los infractores)\n",
    "### sigma es el radio\n",
    "# Aprendizaje no supervisado,\n",
    "# sigma es el radio de los diferentes vecindades\n",
    "# razon de aprendizaje, el hiperparámetro decide cuánto se añade de cada incremento de peso, \n",
    "# mayores tasas de aprendizaje, pueden hacer más rápida la convergencia\n",
    "# Tasa de aprendizaje bajas hacen que el entrenamiento pueda ir mas lento,\n",
    "\n",
    "from minisom import MiniSom\n",
    "\n",
    "som = MiniSom(x = 10, y = 10, input_len = 15, sigma = 1.0, learning_rate = 0.5)\n",
    "#som = MiniSom(x = 10, y = 10, input_len = 15, sigma = 1.0, learning_rate = 0.5)\n",
    "#som = MiniSom(x = 10, y = 10, input_len = 15, sigma = 1.0, learning_rate = 0.05)\n",
    "\n"
   ]
  },
  {
   "cell_type": "code",
   "execution_count": 79,
   "metadata": {},
   "outputs": [],
   "source": [
    "# inicializa aleatoriamente los vectores de pesos a números pequeños cercanos a 0\n",
    "\n",
    "som.random_weights_init(X)"
   ]
  },
  {
   "cell_type": "code",
   "execution_count": 80,
   "metadata": {},
   "outputs": [
    {
     "name": "stdout",
     "output_type": "stream",
     "text": [
      " [ 5000 / 5000 ] 100% - 0:00:00 left \n",
      " quantization error: 0.4093933387092644\n"
     ]
    }
   ],
   "source": [
    "# entrenar SOM con X, matriz de características y patrones reconocidos\n",
    "\n",
    "# som.train_random(data = X, num_iteration = 5000)\n",
    "som.train_random(data = X, num_iteration = 5000, verbose=1)"
   ]
  },
  {
   "cell_type": "code",
   "execution_count": 81,
   "metadata": {},
   "outputs": [],
   "source": [
    "# Visualizando los resultados\n",
    "# cuadrícula bidimensional de los nodos ganadores\n",
    "\n",
    "\n",
    "### Cuanto mayor sea la distancia media entre neuronas MID, más lejos estará el nodo ganador de su vecindario\n",
    "### por lo tanto, será más probable que sea un valor atípico\n",
    "### La BMU lejos de su vecindario generalmente está lejos de los clústeres\n",
    "### los colores más cercanos al blanco son valores atípicos\n",
    "\n",
    "\n"
   ]
  },
  {
   "cell_type": "code",
   "execution_count": 82,
   "metadata": {},
   "outputs": [
    {
     "data": {
      "image/png": "[encoded data removed]",
      "text/plain": [
       "<Figure size 640x480 with 2 Axes>"
      ]
     },
     "metadata": {},
     "output_type": "display_data"
    }
   ],
   "source": [
    "\n",
    "from pylab import bone, pcolor, colorbar, plot, show\n",
    "bone()\n",
    "pcolor(som.distance_map().T)\n",
    "colorbar()\n",
    "markers = ['o', 's']\n",
    "colors = ['r', 'g']\n",
    "for i, x in enumerate(X):\n",
    "    w = som.winner(x)\n",
    "    plot(w[0] + 0.5,\n",
    "         w[1] + 0.5,\n",
    "         markers[y[i]],\n",
    "         markeredgecolor = colors[y[i]],\n",
    "         markerfacecolor = 'None',\n",
    "         markersize = 10,\n",
    "         markeredgewidth = 2)\n",
    "show()"
   ]
  },
  {
   "cell_type": "code",
   "execution_count": 83,
   "metadata": {},
   "outputs": [],
   "source": [
    "mappings=som.win_map(X)"
   ]
  },
  {
   "cell_type": "code",
   "execution_count": 84,
   "metadata": {},
   "outputs": [],
   "source": [
    "## Recuerda que las coordenadas de matriz que tienes que poner abajo\n",
    "## para presentar los individuos candidatos a fraude son aquellas \n",
    "## coordenadas cuya neurona haya agrupado individuos con distancia \n",
    "## maxima a la promedio representados por color blanco"
   ]
  },
  {
   "cell_type": "code",
   "execution_count": 87,
   "metadata": {},
   "outputs": [],
   "source": [
    "fraudes=np.array(mappings[5,8])"
   ]
  },
  {
   "cell_type": "code",
   "execution_count": 88,
   "metadata": {},
   "outputs": [],
   "source": [
    "fraudes=sc.inverse_transform(fraudes)\n",
    "\n"
   ]
  },
  {
   "cell_type": "code",
   "execution_count": 89,
   "metadata": {},
   "outputs": [
    {
     "data": {
      "text/plain": [
       "array([[15789611,        0,       47,        8,        2,        8,\n",
       "               4,        7,        1,        1,        6,        1,\n",
       "               2,        0,     1261],\n",
       "       [15781875,        0,       24,       12,        2,        6,\n",
       "               4,        1,        1,        1,       12,        1,\n",
       "               2,      120,      568],\n",
       "       [15809837,        0,       46,        3,        2,        8,\n",
       "               4,        2,        1,        1,        8,        1,\n",
       "               2,      396,     4160],\n",
       "       [15761554,        0,       30,        6,        2,        8,\n",
       "               5,        4,        1,        1,        7,        1,\n",
       "               2,        0,     3066],\n",
       "       [15811690,        0,       50,       12,        2,        6,\n",
       "               4,        2,        1,        1,        3,        1,\n",
       "               2,      156,        1],\n",
       "       [15815095,        0,       22,       10,        2,       11,\n",
       "               4,        0,        1,        1,        5,        1,\n",
       "               2,        0,      561],\n",
       "       [15772941,        0,       65,       14,        2,        1,\n",
       "               1,        0,        1,        1,       11,        1,\n",
       "               2,        0,     1401],\n",
       "       [15759387,        0,       44,        6,        2,       11,\n",
       "               4,        7,        1,        1,        3,        1,\n",
       "               2,        0,        1]])"
      ]
     },
     "execution_count": 89,
     "metadata": {},
     "output_type": "execute_result"
    }
   ],
   "source": [
    "fraudesInt=fraudes.astype(int)\n",
    "fraudesInt"
   ]
  },
  {
   "cell_type": "code",
   "execution_count": 90,
   "metadata": {},
   "outputs": [],
   "source": [
    "### A continuación pintaremos la matriz de distancias del SOM y\n",
    "### contaremos aquellos clientes que superen la distancia de 0.5 \n",
    "### puesto que serán los posibles clientes fraudulentos\n",
    "### esta es otra forma de ver posibles candidatos"
   ]
  },
  {
   "cell_type": "code",
   "execution_count": 91,
   "metadata": {},
   "outputs": [],
   "source": [
    "distance_map = som.distance_map().round(1)"
   ]
  },
  {
   "cell_type": "code",
   "execution_count": 92,
   "metadata": {},
   "outputs": [
    {
     "data": {
      "text/plain": [
       "array([[0.3, 0.4, 0.4, 0.5, 0.4, 0.4, 0.4, 0.4, 0.4, 0.2],\n",
       "       [0.4, 0.6, 0.8, 0.6, 0.7, 0.8, 0.6, 0.7, 0.7, 0.5],\n",
       "       [0.3, 0.8, 0.6, 0.6, 0.8, 0.8, 0.7, 0.7, 0.8, 0.4],\n",
       "       [0.5, 0.8, 0.6, 0.7, 0.7, 0.9, 0.8, 0.8, 0.7, 0.4],\n",
       "       [0.5, 0.9, 0.7, 0.6, 0.8, 0.6, 0.7, 0.9, 0.7, 0.5],\n",
       "       [0.5, 0.6, 0.7, 0.8, 0.6, 0.6, 0.6, 0.7, 1. , 0.5],\n",
       "       [0.4, 0.8, 0.8, 0.7, 0.6, 0.6, 0.6, 0.8, 0.8, 0.5],\n",
       "       [0.4, 0.7, 0.8, 0.7, 0.5, 0.6, 0.5, 0.6, 0.8, 0.5],\n",
       "       [0.3, 0.6, 0.7, 0.8, 0.8, 0.6, 0.6, 0.7, 0.7, 0.6],\n",
       "       [0.2, 0.3, 0.4, 0.5, 0.4, 0.5, 0.4, 0.5, 0.6, 0.3]])"
      ]
     },
     "execution_count": 92,
     "metadata": {},
     "output_type": "execute_result"
    }
   ],
   "source": [
    "distance_map"
   ]
  },
  {
   "cell_type": "code",
   "execution_count": 93,
   "metadata": {},
   "outputs": [
    {
     "data": {
      "text/plain": [
       "78"
      ]
     },
     "execution_count": 93,
     "metadata": {},
     "output_type": "execute_result"
    }
   ],
   "source": [
    "index = []\n",
    "for i in range(10):\n",
    "    for j in range(10):\n",
    "        if(distance_map[i,j]>=0.5):\n",
    "            index.append([i,j])\n",
    "len(index)"
   ]
  },
  {
   "cell_type": "code",
   "execution_count": null,
   "metadata": {},
   "outputs": [],
   "source": []
  },
  {
   "cell_type": "code",
   "execution_count": null,
   "metadata": {},
   "outputs": [],
   "source": []
  }
 ],
 "metadata": {
  "kernelspec": {
   "display_name": "Python 3 (ipykernel)",
   "language": "python",
   "name": "python3"
  },
  "language_info": {
   "codemirror_mode": {
    "name": "ipython",
    "version": 3
   },
   "file_extension": ".py",
   "mimetype": "text/x-python",
   "name": "python",
   "nbconvert_exporter": "python",
   "pygments_lexer": "ipython3",
   "version": "3.11.5"
  }
 },
 "nbformat": 4,
 "nbformat_minor": 4
}
